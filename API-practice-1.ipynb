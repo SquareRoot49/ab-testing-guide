{
 "cells": [
  {
   "cell_type": "code",
   "execution_count": 53,
   "id": "d33647ed-5510-41dc-adde-cde67652d924",
   "metadata": {},
   "outputs": [],
   "source": [
    "import pandas as pd\n",
    "import time\n",
    "import requests\n",
    "import openpyxl"
   ]
  },
  {
   "cell_type": "code",
   "execution_count": 39,
   "id": "379c1401-fd29-4abc-8276-d24236e8ccd8",
   "metadata": {},
   "outputs": [],
   "source": [
    "dateframe_1 = pd.read_excel('SteelIndustry.xlsx')"
   ]
  },
  {
   "cell_type": "code",
   "execution_count": 40,
   "id": "074cbc74-65e9-4937-8513-e4805f3b39ec",
   "metadata": {},
   "outputs": [
    {
     "data": {
      "text/html": [
       "<div>\n",
       "<style scoped>\n",
       "    .dataframe tbody tr th:only-of-type {\n",
       "        vertical-align: middle;\n",
       "    }\n",
       "\n",
       "    .dataframe tbody tr th {\n",
       "        vertical-align: top;\n",
       "    }\n",
       "\n",
       "    .dataframe thead th {\n",
       "        text-align: right;\n",
       "    }\n",
       "</style>\n",
       "<table border=\"1\" class=\"dataframe\">\n",
       "  <thead>\n",
       "    <tr style=\"text-align: right;\">\n",
       "      <th></th>\n",
       "      <th>No.</th>\n",
       "      <th>Ticker</th>\n",
       "      <th>Company</th>\n",
       "      <th>Sector</th>\n",
       "      <th>Industry</th>\n",
       "      <th>Country</th>\n",
       "      <th>Market Cap</th>\n",
       "      <th>P/E</th>\n",
       "      <th>Price</th>\n",
       "      <th>Change</th>\n",
       "      <th>Volume</th>\n",
       "    </tr>\n",
       "  </thead>\n",
       "  <tbody>\n",
       "    <tr>\n",
       "      <th>0</th>\n",
       "      <td>1</td>\n",
       "      <td>ACNT</td>\n",
       "      <td>Ascent Industries Co.</td>\n",
       "      <td>Basic Materials</td>\n",
       "      <td>Steel</td>\n",
       "      <td>USA</td>\n",
       "      <td>170.66M</td>\n",
       "      <td>4.49</td>\n",
       "      <td>16.83</td>\n",
       "      <td>-0.0388</td>\n",
       "      <td>20601</td>\n",
       "    </tr>\n",
       "    <tr>\n",
       "      <th>1</th>\n",
       "      <td>2</td>\n",
       "      <td>ASTL</td>\n",
       "      <td>Algoma Steel Group Inc.</td>\n",
       "      <td>Basic Materials</td>\n",
       "      <td>Steel</td>\n",
       "      <td>Canada</td>\n",
       "      <td>1.03B</td>\n",
       "      <td>1.49</td>\n",
       "      <td>9.55</td>\n",
       "      <td>-0.0083</td>\n",
       "      <td>1005401</td>\n",
       "    </tr>\n",
       "    <tr>\n",
       "      <th>2</th>\n",
       "      <td>3</td>\n",
       "      <td>CLF</td>\n",
       "      <td>Cleveland-Cliffs Inc.</td>\n",
       "      <td>Basic Materials</td>\n",
       "      <td>Steel</td>\n",
       "      <td>USA</td>\n",
       "      <td>9.93B</td>\n",
       "      <td>2.79</td>\n",
       "      <td>18.55</td>\n",
       "      <td>-0.0096</td>\n",
       "      <td>9787246</td>\n",
       "    </tr>\n",
       "    <tr>\n",
       "      <th>3</th>\n",
       "      <td>4</td>\n",
       "      <td>CMC</td>\n",
       "      <td>Commercial Metals Company</td>\n",
       "      <td>Basic Materials</td>\n",
       "      <td>Steel</td>\n",
       "      <td>USA</td>\n",
       "      <td>5.24B</td>\n",
       "      <td>4.83</td>\n",
       "      <td>42.51</td>\n",
       "      <td>-0.0026</td>\n",
       "      <td>500151</td>\n",
       "    </tr>\n",
       "    <tr>\n",
       "      <th>4</th>\n",
       "      <td>5</td>\n",
       "      <td>FRD</td>\n",
       "      <td>Friedman Industries, Incorporated</td>\n",
       "      <td>Basic Materials</td>\n",
       "      <td>Steel</td>\n",
       "      <td>USA</td>\n",
       "      <td>82.16M</td>\n",
       "      <td>6.16</td>\n",
       "      <td>11.27</td>\n",
       "      <td>0.0259</td>\n",
       "      <td>8021</td>\n",
       "    </tr>\n",
       "  </tbody>\n",
       "</table>\n",
       "</div>"
      ],
      "text/plain": [
       "   No. Ticker                            Company           Sector Industry  \\\n",
       "0    1   ACNT              Ascent Industries Co.  Basic Materials    Steel   \n",
       "1    2   ASTL            Algoma Steel Group Inc.  Basic Materials    Steel   \n",
       "2    3    CLF              Cleveland-Cliffs Inc.  Basic Materials    Steel   \n",
       "3    4    CMC          Commercial Metals Company  Basic Materials    Steel   \n",
       "4    5    FRD  Friedman Industries, Incorporated  Basic Materials    Steel   \n",
       "\n",
       "  Country Market Cap   P/E  Price  Change   Volume  \n",
       "0     USA    170.66M  4.49  16.83 -0.0388    20601  \n",
       "1  Canada      1.03B  1.49   9.55 -0.0083  1005401  \n",
       "2     USA      9.93B  2.79  18.55 -0.0096  9787246  \n",
       "3     USA      5.24B  4.83  42.51 -0.0026   500151  \n",
       "4     USA     82.16M  6.16  11.27  0.0259     8021  "
      ]
     },
     "execution_count": 40,
     "metadata": {},
     "output_type": "execute_result"
    }
   ],
   "source": [
    "dateframe_1.head()"
   ]
  },
  {
   "cell_type": "code",
   "execution_count": 41,
   "id": "be4ea6ad-5c5a-471c-b0fb-0aa3eab9915f",
   "metadata": {},
   "outputs": [],
   "source": [
    "list_tickers = dateframe_1['Ticker'].to_numpy()"
   ]
  },
  {
   "cell_type": "code",
   "execution_count": 42,
   "id": "a21db7df-c1f7-4223-9f78-8fc3910ae8c7",
   "metadata": {},
   "outputs": [
    {
     "data": {
      "text/plain": [
       "array(['ACNT', 'ASTL', 'CLF', 'CMC', 'FRD', 'GGB', 'HUDI', 'MSB', 'MT',\n",
       "       'NUE', 'PKX', 'RS', 'SCHN', 'SID', 'SIM', 'STLD', 'TMST', 'TX',\n",
       "       'USAP', 'WOR', 'X', 'ZEUS', 'ZKIN'], dtype=object)"
      ]
     },
     "execution_count": 42,
     "metadata": {},
     "output_type": "execute_result"
    }
   ],
   "source": [
    "list_tickers"
   ]
  },
  {
   "cell_type": "code",
   "execution_count": 43,
   "id": "c9a017df-9814-4a79-b918-5cbe491ebed4",
   "metadata": {},
   "outputs": [],
   "source": [
    "API_Keys ='OBHWW52LMKTP4CTS'"
   ]
  },
  {
   "cell_type": "code",
   "execution_count": 44,
   "id": "5cc0bfdb-22f3-4826-aaba-912915acbeb2",
   "metadata": {},
   "outputs": [],
   "source": [
    "def earning(key, list_tickers):\n",
    "    i = 0\n",
    "    dateframe_2 = ()\n",
    "    for ticker in list_tickers:\n",
    "        i = i + 1\n",
    "        url = 'https://www.alphavantage.co/query?function=EARNINGS&symbol={}&apikey={}'.format(ticker, key)\n",
    "        response = requests.get(url)\n",
    "        print(response)\n",
    "        response_dict = response.json()\n",
    "        print(response_dict)\n",
    "    "
   ]
  },
  {
   "cell_type": "code",
   "execution_count": 51,
   "id": "cbc0412b-6cb8-44c1-b6a9-b6805343bb83",
   "metadata": {},
   "outputs": [],
   "source": [
    "# earning(API_Keys, list_tickers)"
   ]
  },
  {
   "cell_type": "code",
   "execution_count": 48,
   "id": "d93cfd5e-8291-4efa-adc7-46c32bc4ab17",
   "metadata": {},
   "outputs": [],
   "source": [
    "def earning(key, list_tickers):\n",
    "    i = 0\n",
    "    dateframe_2 = ()\n",
    "    for ticker in list_tickers:\n",
    "        i = i + 1\n",
    "        url = 'https://www.alphavantage.co/query'\n",
    "        pay_load = {'function': 'EARNINGS',\n",
    "                    'symbols': ticker,\n",
    "                    'apikey': key}\n",
    "        response = requests.get(url = url, params = pay_load)\n",
    "        print(response)\n",
    "        response_dict = response.json()\n",
    "        print(response_dict)"
   ]
  },
  {
   "cell_type": "code",
   "execution_count": 52,
   "id": "42acd1ac-3e7d-4b72-b9d7-76e3f37f0695",
   "metadata": {},
   "outputs": [],
   "source": [
    "# earning(API_Keys, list_tickers)"
   ]
  },
  {
   "cell_type": "code",
   "execution_count": null,
   "id": "7523754e-6f41-4a68-884c-993df0329f79",
   "metadata": {},
   "outputs": [],
   "source": []
  }
 ],
 "metadata": {
  "kernelspec": {
   "display_name": "Python 3 (ipykernel)",
   "language": "python",
   "name": "python3"
  },
  "language_info": {
   "codemirror_mode": {
    "name": "ipython",
    "version": 3
   },
   "file_extension": ".py",
   "mimetype": "text/x-python",
   "name": "python",
   "nbconvert_exporter": "python",
   "pygments_lexer": "ipython3",
   "version": "3.11.1"
  }
 },
 "nbformat": 4,
 "nbformat_minor": 5
}
