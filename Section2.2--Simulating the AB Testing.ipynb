{
 "cells": [
  {
   "cell_type": "code",
   "execution_count": 1,
   "id": "4433ed6a-4121-492c-b84c-4bd4d58bee38",
   "metadata": {},
   "outputs": [],
   "source": [
    "import numpy as np"
   ]
  },
  {
   "cell_type": "code",
   "execution_count": 2,
   "id": "863df0f2-0815-4915-b3e3-33ed881bfbc3",
   "metadata": {},
   "outputs": [],
   "source": [
    "# we can see the method of gpt first"
   ]
  },
  {
   "cell_type": "code",
   "execution_count": 4,
   "id": "763a291f-9903-4aac-8fa0-bbd9a66a495d",
   "metadata": {},
   "outputs": [],
   "source": [
    "num_users = 1000\n",
    "num_days = 14\n",
    "visit_rate = 0.5\n",
    "treat_rate = 0.05\n",
    "p = 0.1"
   ]
  },
  {
   "cell_type": "code",
   "execution_count": 18,
   "id": "2a669085-d652-4798-8cae-302f5a221e8c",
   "metadata": {},
   "outputs": [],
   "source": [
    "# simulate the assignemnt\n",
    "sim_ass = np.random.choice([0, 1], size = 1000, p = [1 - 0.05, 0.05])"
   ]
  },
  {
   "cell_type": "code",
   "execution_count": 19,
   "id": "70c83cf7-0af5-4eba-8675-b2f84e256757",
   "metadata": {},
   "outputs": [],
   "source": [
    "sim_ass = sim_ass == 1"
   ]
  },
  {
   "cell_type": "code",
   "execution_count": 20,
   "id": "1010d4e6-dcff-4d0f-a410-be79afad797e",
   "metadata": {},
   "outputs": [],
   "source": [
    "# simulating the people who will visit in someday\n",
    "sim_visits = np.random.choice([0, 1], size = [1000, 14], p = [1 - 0.5, 0.5])"
   ]
  },
  {
   "cell_type": "code",
   "execution_count": 21,
   "id": "d56e7db6-897a-46a3-9a7a-e28fc01b5fe4",
   "metadata": {},
   "outputs": [],
   "source": [
    "# simulating the views matrix\n",
    "sim_views = np.zeros([1000, 14])\n",
    "for i in range(num_users):\n",
    "    for j in range(num_days):\n",
    "        if visits[i, j] == 1:\n",
    "            sim_views[i, j] = np.random.geometric(p)"
   ]
  },
  {
   "cell_type": "code",
   "execution_count": 24,
   "id": "30daecc6-0e17-47b9-a691-9f6637a478b8",
   "metadata": {},
   "outputs": [],
   "source": [
    "# simulating the clicks matrix\n",
    "sim_clicks = np.zeros([1000, 14])\n",
    "for i in range(num_users):\n",
    "    if sim_ass[i] == 'True':\n",
    "        for j in range(num_days):\n",
    "            if visits[i, j] == 1:\n",
    "                sim_clicks[i, j] = np.random.binomial(views[i, j], 0.07)\n",
    "    else:\n",
    "        for i in range(num_days):\n",
    "            if visits[i, j] == 1:\n",
    "                sim_clicks[i, j] = np.random.binomial(views[i, j], 0.03)"
   ]
  },
  {
   "cell_type": "code",
   "execution_count": 25,
   "id": "f828e635-e3eb-4836-ac2b-84ff960a9b06",
   "metadata": {},
   "outputs": [],
   "source": [
    "# try to do this as a function!!"
   ]
  },
  {
   "cell_type": "code",
   "execution_count": 26,
   "id": "02269e42-8e0e-4b1c-a04a-59f692d49773",
   "metadata": {},
   "outputs": [],
   "source": [
    "def sim_abtest(num_users, num_days, visit_rate, treat_rate, p, p_t, p_c):\n",
    "    sim_ass = np.random.choice([0, 1], size = num_users, p = [1 - treat_rate, treat_rate]) == 1\n",
    "    sim_visits = np.random.choice([0, 1], size = [num_users, num_days], p = [1 - visit_rate, visit_rate])\n",
    "    sim_views_ = np.zeros([num_users, num_days])\n",
    "    for i in range(num_users):\n",
    "        for j in range(num_days):\n",
    "            if visits[i, j] == 1:\n",
    "                sim_views[i, j] == np.random.geometric(p)\n",
    "    sim_clicks = np.zeros([num_users, num_days])\n",
    "    for i in range(num_users):\n",
    "        for j in range(num_days):\n",
    "            if sim_ass[i] == 'True':\n",
    "                if visits[i, j] == 1:\n",
    "                    sim_clicks[i, j] = np.random.binomial(views[i, j], p_t)\n",
    "            else:\n",
    "                if visits[i, j] == 1:\n",
    "                    sim_clicks[i, j] = np.random.binomial(views[i, j], p_c)\n",
    "    return sim_ass, sim_views, sim_clicks"
   ]
  },
  {
   "cell_type": "code",
   "execution_count": null,
   "id": "5c8461fe-0f35-4005-97c8-8e084da5c2ed",
   "metadata": {},
   "outputs": [],
   "source": []
  }
 ],
 "metadata": {
  "kernelspec": {
   "display_name": "Python 3 (ipykernel)",
   "language": "python",
   "name": "python3"
  },
  "language_info": {
   "codemirror_mode": {
    "name": "ipython",
    "version": 3
   },
   "file_extension": ".py",
   "mimetype": "text/x-python",
   "name": "python",
   "nbconvert_exporter": "python",
   "pygments_lexer": "ipython3",
   "version": "3.11.1"
  }
 },
 "nbformat": 4,
 "nbformat_minor": 5
}
