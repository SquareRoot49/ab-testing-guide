{
 "cells": [
  {
   "cell_type": "code",
   "execution_count": 1,
   "id": "1f31274b-449c-4d15-9b76-92a465c7298f",
   "metadata": {},
   "outputs": [],
   "source": [
    "import numpy as np\n",
    "import pandas as pd"
   ]
  },
  {
   "cell_type": "code",
   "execution_count": 53,
   "id": "40ee75b7-9d93-45f0-9fbe-f0762dc7e0fd",
   "metadata": {},
   "outputs": [],
   "source": [
    "assign = np.loadtxt('sim_ab_test_assignment.csv', delimiter = ',', dtype = str)"
   ]
  },
  {
   "cell_type": "code",
   "execution_count": 54,
   "id": "39b69ba0-d02c-4aef-9864-d110ebd2ac78",
   "metadata": {},
   "outputs": [],
   "source": [
    "clicks = np.loadtxt('sim_ab_test_clicks.csv', delimiter = ',')"
   ]
  },
  {
   "cell_type": "code",
   "execution_count": 55,
   "id": "ed45c716-1c8d-4863-9b98-815e903f3523",
   "metadata": {},
   "outputs": [],
   "source": [
    "views = np.loadtxt('sim_ab_test_views.csv', delimiter = ',')"
   ]
  },
  {
   "cell_type": "code",
   "execution_count": 56,
   "id": "93b5cdde-889c-4a70-9775-23ed27a5fa15",
   "metadata": {},
   "outputs": [],
   "source": [
    "clicks_user = np.apply_along_axis(np.sum, 1, clicks)"
   ]
  },
  {
   "cell_type": "code",
   "execution_count": null,
   "id": "6bc690ee-5173-46c3-bfc2-c71c4851cd98",
   "metadata": {},
   "outputs": [],
   "source": []
  },
  {
   "cell_type": "code",
   "execution_count": 57,
   "id": "2a49cd1e-5824-40f8-aa69-c3a0ab64be7a",
   "metadata": {},
   "outputs": [],
   "source": [
    "def gap_ctr(clicks, views, assign):\n",
    "    clicks_user = np.apply_along_axis(np.sum, 1, clicks)\n",
    "    views_user = np.apply_along_axis(np.sum, 1, views)\n",
    "    is_treated = assign == 'True'\n",
    "    ctr1 = sum(clicks_user[is_treated]) / sum(views_user[is_treated])\n",
    "    ctr2 = sum(clicks_user[~is_treated]) / sum(views_user[~is_treated])\n",
    "    gap = ctr1 - ctr2\n",
    "    return gap"
   ]
  },
  {
   "cell_type": "code",
   "execution_count": 58,
   "id": "5b3f5833-99b0-4510-b294-102c5291e492",
   "metadata": {},
   "outputs": [
    {
     "data": {
      "text/plain": [
       "np.float64(0.05303067971972465)"
      ]
     },
     "execution_count": 58,
     "metadata": {},
     "output_type": "execute_result"
    }
   ],
   "source": [
    "gap_ctr(clicks, views, assign)"
   ]
  },
  {
   "cell_type": "code",
   "execution_count": null,
   "id": "c717eab5-a20f-44c1-aa95-de79065be251",
   "metadata": {},
   "outputs": [],
   "source": []
  },
  {
   "cell_type": "code",
   "execution_count": 14,
   "id": "3f6f37d1-0d69-4516-a21f-c8d0d86a601b",
   "metadata": {},
   "outputs": [],
   "source": [
    "## Randomization--mess up the order of assign"
   ]
  },
  {
   "cell_type": "code",
   "execution_count": null,
   "id": "39cc5e17-fcac-4279-8712-865ea203b8b6",
   "metadata": {},
   "outputs": [],
   "source": []
  },
  {
   "cell_type": "code",
   "execution_count": 19,
   "id": "736238b4-4c16-4706-8b22-3b94b5f7857b",
   "metadata": {},
   "outputs": [],
   "source": [
    "arr = assign"
   ]
  },
  {
   "cell_type": "code",
   "execution_count": 20,
   "id": "f3408e14-533f-409c-b689-9bcf7b707b2c",
   "metadata": {},
   "outputs": [],
   "source": [
    "perm_assign = np.random.choice(arr, len(arr), replace = False)"
   ]
  },
  {
   "cell_type": "code",
   "execution_count": 21,
   "id": "623b45f1-2260-4ce0-bdfc-2fd7bdd6f340",
   "metadata": {},
   "outputs": [
    {
     "data": {
      "text/plain": [
       "(1000,)"
      ]
     },
     "execution_count": 21,
     "metadata": {},
     "output_type": "execute_result"
    }
   ],
   "source": [
    "perm_assign.shape"
   ]
  },
  {
   "cell_type": "code",
   "execution_count": 23,
   "id": "0db7bc67-e035-44a1-a893-ba8923c27faf",
   "metadata": {},
   "outputs": [
    {
     "data": {
      "text/plain": [
       "np.False_"
      ]
     },
     "execution_count": 23,
     "metadata": {},
     "output_type": "execute_result"
    }
   ],
   "source": [
    "(assign == perm_assign).all()"
   ]
  },
  {
   "cell_type": "code",
   "execution_count": 25,
   "id": "8cc78d54-dae9-45d9-9492-86c87bbb4e10",
   "metadata": {},
   "outputs": [
    {
     "data": {
      "text/plain": [
       "np.int64(54)"
      ]
     },
     "execution_count": 25,
     "metadata": {},
     "output_type": "execute_result"
    }
   ],
   "source": [
    "np.sum(assign == 'True')"
   ]
  },
  {
   "cell_type": "code",
   "execution_count": 26,
   "id": "d13d617a-85dd-48b2-be63-cc2a73fb94eb",
   "metadata": {},
   "outputs": [
    {
     "data": {
      "text/plain": [
       "np.int64(54)"
      ]
     },
     "execution_count": 26,
     "metadata": {},
     "output_type": "execute_result"
    }
   ],
   "source": [
    "np.sum(perm_assign == 'True')"
   ]
  },
  {
   "cell_type": "code",
   "execution_count": null,
   "id": "edb053bf-f8cf-4229-a3ce-8af0669e874e",
   "metadata": {},
   "outputs": [],
   "source": []
  },
  {
   "cell_type": "code",
   "execution_count": 27,
   "id": "0daa66ad-eea2-40e6-b615-9e5767889099",
   "metadata": {},
   "outputs": [],
   "source": [
    "# Repeat the process"
   ]
  },
  {
   "cell_type": "code",
   "execution_count": 40,
   "id": "ad63ac95-0ea5-4931-b893-05e0faf1f213",
   "metadata": {},
   "outputs": [],
   "source": [
    "perm_gaps = []"
   ]
  },
  {
   "cell_type": "code",
   "execution_count": 41,
   "id": "6372aae0-9dae-4137-bf6d-34e9a82f5b69",
   "metadata": {},
   "outputs": [],
   "source": [
    "B = 2000"
   ]
  },
  {
   "cell_type": "code",
   "execution_count": 61,
   "id": "b3d18401-2ba0-425d-acc3-c8e39aff8954",
   "metadata": {},
   "outputs": [],
   "source": [
    "for i in range(B):\n",
    "    perm_assign = np.random.choice(arr, len(arr), replace = False)\n",
    "    perm_gap = gap_ctr(clicks, views, perm_assign)\n",
    "    perm_gaps.append(perm_gap)"
   ]
  },
  {
   "cell_type": "code",
   "execution_count": 62,
   "id": "2cb20d63-3887-4fcf-ae3a-5d067d7be1d7",
   "metadata": {},
   "outputs": [
    {
     "data": {
      "text/plain": [
       "4000"
      ]
     },
     "execution_count": 62,
     "metadata": {},
     "output_type": "execute_result"
    }
   ],
   "source": [
    "len(perm_gaps)"
   ]
  },
  {
   "cell_type": "code",
   "execution_count": 63,
   "id": "588a7afa-cb8c-4f1e-b3c3-db775639a000",
   "metadata": {},
   "outputs": [
    {
     "data": {
      "text/plain": [
       "np.float64(-0.00011967414063706362)"
      ]
     },
     "execution_count": 63,
     "metadata": {},
     "output_type": "execute_result"
    }
   ],
   "source": [
    "np.mean(perm_gaps)"
   ]
  },
  {
   "cell_type": "code",
   "execution_count": 46,
   "id": "0f59d92e-a584-484a-8d59-ab1b5137ef1e",
   "metadata": {},
   "outputs": [
    {
     "data": {
      "text/plain": [
       "np.float64(0.004263088278097991)"
      ]
     },
     "execution_count": 46,
     "metadata": {},
     "output_type": "execute_result"
    }
   ],
   "source": [
    "np.std(perm_gaps)"
   ]
  },
  {
   "cell_type": "code",
   "execution_count": null,
   "id": "64fde67f-c83f-4997-990d-987ca2832fbd",
   "metadata": {},
   "outputs": [],
   "source": []
  },
  {
   "cell_type": "code",
   "execution_count": 47,
   "id": "223a4c71-dde9-4492-83aa-64f50523df43",
   "metadata": {},
   "outputs": [],
   "source": [
    "## Get p_value"
   ]
  },
  {
   "cell_type": "code",
   "execution_count": 64,
   "id": "f54d733a-a2f5-4f50-973c-eda1c30b2e00",
   "metadata": {},
   "outputs": [],
   "source": [
    "obs_ctr_diff = gap_ctr(clicks, views, assign)"
   ]
  },
  {
   "cell_type": "code",
   "execution_count": 65,
   "id": "1e584484-e199-4e29-85cc-b0a8e71659c4",
   "metadata": {},
   "outputs": [
    {
     "data": {
      "text/plain": [
       "np.float64(0.05303067971972465)"
      ]
     },
     "execution_count": 65,
     "metadata": {},
     "output_type": "execute_result"
    }
   ],
   "source": [
    "obs_ctr_diff"
   ]
  },
  {
   "cell_type": "code",
   "execution_count": 66,
   "id": "640ed76c-63f7-417c-97ba-bb46ab49f391",
   "metadata": {},
   "outputs": [
    {
     "data": {
      "text/plain": [
       "np.int64(0)"
      ]
     },
     "execution_count": 66,
     "metadata": {},
     "output_type": "execute_result"
    }
   ],
   "source": [
    "np.sum(perm_gaps >= obs_ctr_diff)"
   ]
  },
  {
   "cell_type": "code",
   "execution_count": 67,
   "id": "292def4b-eaee-4fa8-b8bd-d58859c55780",
   "metadata": {},
   "outputs": [
    {
     "data": {
      "text/plain": [
       "np.int64(0)"
      ]
     },
     "execution_count": 67,
     "metadata": {},
     "output_type": "execute_result"
    }
   ],
   "source": [
    "np.sum(perm_gaps <= -obs_ctr_diff)"
   ]
  },
  {
   "cell_type": "code",
   "execution_count": 69,
   "id": "cc75f099-cb5e-431e-a2b7-5f2c97d224e6",
   "metadata": {},
   "outputs": [
    {
     "data": {
      "text/plain": [
       "np.float64(0.517)"
      ]
     },
     "execution_count": 69,
     "metadata": {},
     "output_type": "execute_result"
    }
   ],
   "source": [
    "np.mean(np.array(perm_gaps) < 0)"
   ]
  },
  {
   "cell_type": "code",
   "execution_count": null,
   "id": "bfe48860-5d1a-468d-b2f7-295739463288",
   "metadata": {},
   "outputs": [],
   "source": []
  },
  {
   "cell_type": "code",
   "execution_count": 70,
   "id": "20a8034a-9a89-431f-8dce-6c904d95df22",
   "metadata": {},
   "outputs": [],
   "source": [
    "## Delta Method"
   ]
  },
  {
   "cell_type": "code",
   "execution_count": null,
   "id": "5d5e5b34-5dee-4479-894d-5ee070141acb",
   "metadata": {},
   "outputs": [],
   "source": []
  }
 ],
 "metadata": {
  "kernelspec": {
   "display_name": "Python 3 (ipykernel)",
   "language": "python",
   "name": "python3"
  },
  "language_info": {
   "codemirror_mode": {
    "name": "ipython",
    "version": 3
   },
   "file_extension": ".py",
   "mimetype": "text/x-python",
   "name": "python",
   "nbconvert_exporter": "python",
   "pygments_lexer": "ipython3",
   "version": "3.11.1"
  }
 },
 "nbformat": 4,
 "nbformat_minor": 5
}
