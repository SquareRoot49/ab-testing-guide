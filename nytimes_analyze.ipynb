{
    "metadata": {
        "kernelspec": {
            "name": "python3",
            "display_name": "Python 3 (ipykernel)",
            "language": "python"
        }
    },
    "nbformat": 4,
    "nbformat_minor": 2,
    "cells": [
        {
            "attachments": {},
            "cell_type": "markdown",
            "metadata": {},
            "source": [
                "## How often are NYTimes Journalists writing?\n",
                "\n",
                "IMPORTANT:\n",
                "- You should download the notebook and dataset. **Ed will likely crash**.\n",
                "\n",
                "\n",
                "## Task 1\n",
                "\n",
                "How often do journalists write in a given year, given our data?"
            ]
        },
        {
            "cell_type": "code",
            "execution_count": 1,
            "metadata": {},
            "outputs": [],
            "source": [
                "import pandas as pd"
            ]
        },
        {
            "cell_type": "code",
            "execution_count": 2,
            "metadata": {},
            "outputs": [],
            "source": [
                "df = pd.read_csv(\"nytimes_metadata.csv\")"
            ]
        },
        {
            "cell_type": "code",
            "execution_count": 3,
            "metadata": {},
            "outputs": [
                {
                    "data": {
                        "text/html": "\u003cdiv\u003e\n\u003cstyle scoped\u003e\n    .dataframe tbody tr th:only-of-type {\n        vertical-align: middle;\n    }\n\n    .dataframe tbody tr th {\n        vertical-align: top;\n    }\n\n    .dataframe thead th {\n        text-align: right;\n    }\n\u003c/style\u003e\n\u003ctable border=\"1\" class=\"dataframe\"\u003e\n  \u003cthead\u003e\n    \u003ctr style=\"text-align: right;\"\u003e\n      \u003cth\u003e\u003c/th\u003e\n      \u003cth\u003eheadline\u003c/th\u003e\n      \u003cth\u003eword_count\u003c/th\u003e\n      \u003cth\u003eauthor_count\u003c/th\u003e\n      \u003cth\u003elead_author\u003c/th\u003e\n      \u003cth\u003esection\u003c/th\u003e\n      \u003cth\u003epub_date\u003c/th\u003e\n    \u003c/tr\u003e\n  \u003c/thead\u003e\n  \u003ctbody\u003e\n    \u003ctr\u003e\n      \u003cth\u003e11166\u003c/th\u003e\n      \u003ctd\u003eTo Take Down Big Tech, They First Need to Rein...\u003c/td\u003e\n      \u003ctd\u003e1518.0\u003c/td\u003e\n      \u003ctd\u003e1\u003c/td\u003e\n      \u003ctd\u003eD a v i d S t r e i t f e l d\u003c/td\u003e\n      \u003ctd\u003eTechnology\u003c/td\u003e\n      \u003ctd\u003e2019-06-20T09:00:11+0000\u003c/td\u003e\n    \u003c/tr\u003e\n    \u003ctr\u003e\n      \u003cth\u003e12424\u003c/th\u003e\n      \u003ctd\u003eThe Best Movies and TV Shows New to Netflix Au...\u003c/td\u003e\n      \u003ctd\u003e1876.0\u003c/td\u003e\n      \u003ctd\u003e1\u003c/td\u003e\n      \u003ctd\u003eN o e l M u r r a y\u003c/td\u003e\n      \u003ctd\u003eArts\u003c/td\u003e\n      \u003ctd\u003e2019-06-28T02:52:15+0000\u003c/td\u003e\n    \u003c/tr\u003e\n    \u003ctr\u003e\n      \u003cth\u003e38646\u003c/th\u003e\n      \u003ctd\u003eYoung Voters Still ‘Feel the Bern,’ but Not Ju...\u003c/td\u003e\n      \u003ctd\u003e1386.0\u003c/td\u003e\n      \u003ctd\u003e1\u003c/td\u003e\n      \u003ctd\u003eS y d n e y E m b e r\u003c/td\u003e\n      \u003ctd\u003eU.S.\u003c/td\u003e\n      \u003ctd\u003e2019-09-20T09:00:21+0000\u003c/td\u003e\n    \u003c/tr\u003e\n    \u003ctr\u003e\n      \u003cth\u003e26189\u003c/th\u003e\n      \u003ctd\u003e‘Non-Fiction’ Review: Sex Comedy Disguised as ...\u003c/td\u003e\n      \u003ctd\u003e812.0\u003c/td\u003e\n      \u003ctd\u003e1\u003c/td\u003e\n      \u003ctd\u003eA . O . S c o t t\u003c/td\u003e\n      \u003ctd\u003eMovies\u003c/td\u003e\n      \u003ctd\u003e2019-05-01T18:26:29+0000\u003c/td\u003e\n    \u003c/tr\u003e\n  \u003c/tbody\u003e\n\u003c/table\u003e\n\u003c/div\u003e",
                        "text/plain": "                                                headline  word_count  \\\n11166  To Take Down Big Tech, They First Need to Rein...      1518.0   \n12424  The Best Movies and TV Shows New to Netflix Au...      1876.0   \n38646  Young Voters Still ‘Feel the Bern,’ but Not Ju...      1386.0   \n26189  ‘Non-Fiction’ Review: Sex Comedy Disguised as ...       812.0   \n\n       author_count                    lead_author     section  \\\n11166             1  D a v i d S t r e i t f e l d  Technology   \n12424             1            N o e l M u r r a y        Arts   \n38646             1          S y d n e y E m b e r        U.S.   \n26189             1              A . O . S c o t t      Movies   \n\n                       pub_date  \n11166  2019-06-20T09:00:11+0000  \n12424  2019-06-28T02:52:15+0000  \n38646  2019-09-20T09:00:21+0000  \n26189  2019-05-01T18:26:29+0000  "
                    },
                    "execution_count": 3,
                    "metadata": {},
                    "output_type": "execute_result"
                }
            ],
            "source": [
                "df.sample(4)"
            ]
        },
        {
            "cell_type": "code",
            "execution_count": 45,
            "metadata": {},
            "outputs": [
                {
                    "data": {
                        "text/plain": "'To Take Down Big Tech, They First Need to Reinvent the Law'"
                    },
                    "execution_count": 45,
                    "metadata": {},
                    "output_type": "execute_result"
                }
            ],
            "source": [
                "df.loc[11166, \"headline\"]"
            ]
        },
        {
            "cell_type": "code",
            "execution_count": 24,
            "metadata": {},
            "outputs": [],
            "source": [
                "demo = \"2019-06-20T09:00:11+0000\""
            ]
        },
        {
            "cell_type": "code",
            "execution_count": 26,
            "metadata": {},
            "outputs": [],
            "source": [
                "from datetime import datetime"
            ]
        },
        {
            "cell_type": "code",
            "execution_count": 34,
            "metadata": {},
            "outputs": [
                {
                    "data": {
                        "text/plain": "6"
                    },
                    "execution_count": 34,
                    "metadata": {},
                    "output_type": "execute_result"
                }
            ],
            "source": [
                "datetime.strptime(demo, '%Y-%m-%dT%H:%M:%S+0000').month"
            ]
        },
        {
            "cell_type": "code",
            "execution_count": 35,
            "metadata": {},
            "outputs": [],
            "source": [
                "months = df.pub_date.apply(lambda demo: datetime.strptime(demo, '%Y-%m-%dT%H:%M:%S+0000').month)"
            ]
        },
        {
            "cell_type": "code",
            "execution_count": 38,
            "metadata": {},
            "outputs": [],
            "source": [
                "df['month'] = months"
            ]
        },
        {
            "cell_type": "code",
            "execution_count": 39,
            "metadata": {},
            "outputs": [
                {
                    "data": {
                        "text/html": "\u003cdiv\u003e\n\u003cstyle scoped\u003e\n    .dataframe tbody tr th:only-of-type {\n        vertical-align: middle;\n    }\n\n    .dataframe tbody tr th {\n        vertical-align: top;\n    }\n\n    .dataframe thead th {\n        text-align: right;\n    }\n\u003c/style\u003e\n\u003ctable border=\"1\" class=\"dataframe\"\u003e\n  \u003cthead\u003e\n    \u003ctr style=\"text-align: right;\"\u003e\n      \u003cth\u003e\u003c/th\u003e\n      \u003cth\u003eheadline\u003c/th\u003e\n      \u003cth\u003eword_count\u003c/th\u003e\n      \u003cth\u003eauthor_count\u003c/th\u003e\n      \u003cth\u003elead_author\u003c/th\u003e\n      \u003cth\u003esection\u003c/th\u003e\n      \u003cth\u003epub_date\u003c/th\u003e\n      \u003cth\u003emonth\u003c/th\u003e\n    \u003c/tr\u003e\n  \u003c/thead\u003e\n  \u003ctbody\u003e\n    \u003ctr\u003e\n      \u003cth\u003e26761\u003c/th\u003e\n      \u003ctd\u003eCyclone Fani Hits Bangladesh, Killing 5; Evacu...\u003c/td\u003e\n      \u003ctd\u003e391.0\u003c/td\u003e\n      \u003ctd\u003e2\u003c/td\u003e\n      \u003ctd\u003eJ u l f i k a r A l i M a n i k\u003c/td\u003e\n      \u003ctd\u003eWorld\u003c/td\u003e\n      \u003ctd\u003e2019-05-05T16:48:56+0000\u003c/td\u003e\n      \u003ctd\u003e5\u003c/td\u003e\n    \u003c/tr\u003e\n    \u003ctr\u003e\n      \u003cth\u003e3480\u003c/th\u003e\n      \u003ctd\u003eWhat’s Happening to Us? A Visual History of 2019\u003c/td\u003e\n      \u003ctd\u003e433.0\u003c/td\u003e\n      \u003ctd\u003e0\u003c/td\u003e\n      \u003ctd\u003eNaN\u003c/td\u003e\n      \u003ctd\u003eStyle\u003c/td\u003e\n      \u003ctd\u003e2019-12-26T14:38:01+0000\u003c/td\u003e\n      \u003ctd\u003e12\u003c/td\u003e\n    \u003c/tr\u003e\n    \u003ctr\u003e\n      \u003cth\u003e33176\u003c/th\u003e\n      \u003ctd\u003eJust Out of Prison, Brooklyn Gunman Is Killed ...\u003c/td\u003e\n      \u003ctd\u003e871.0\u003c/td\u003e\n      \u003ctd\u003e3\u003c/td\u003e\n      \u003ctd\u003eE d S h a n a h a n\u003c/td\u003e\n      \u003ctd\u003eNew York\u003c/td\u003e\n      \u003ctd\u003e2019-10-16T04:07:10+0000\u003c/td\u003e\n      \u003ctd\u003e10\u003c/td\u003e\n    \u003c/tr\u003e\n    \u003ctr\u003e\n      \u003cth\u003e44528\u003c/th\u003e\n      \u003ctd\u003eMuseum Workers at Marciano Art Foundation Seek...\u003c/td\u003e\n      \u003ctd\u003e515.0\u003c/td\u003e\n      \u003ctd\u003e1\u003c/td\u003e\n      \u003ctd\u003eC o l i n M o y n i h a n\u003c/td\u003e\n      \u003ctd\u003eArts\u003c/td\u003e\n      \u003ctd\u003e2019-11-02T02:42:00+0000\u003c/td\u003e\n      \u003ctd\u003e11\u003c/td\u003e\n    \u003c/tr\u003e\n    \u003ctr\u003e\n      \u003cth\u003e15180\u003c/th\u003e\n      \u003ctd\u003e12 Pop, Rock and Jazz Concerts to Check Out in...\u003c/td\u003e\n      \u003ctd\u003e1299.0\u003c/td\u003e\n      \u003ctd\u003e0\u003c/td\u003e\n      \u003ctd\u003eNaN\u003c/td\u003e\n      \u003ctd\u003eArts\u003c/td\u003e\n      \u003ctd\u003e2019-01-17T22:00:10+0000\u003c/td\u003e\n      \u003ctd\u003e1\u003c/td\u003e\n    \u003c/tr\u003e\n  \u003c/tbody\u003e\n\u003c/table\u003e\n\u003c/div\u003e",
                        "text/plain": "                                                headline  word_count  \\\n26761  Cyclone Fani Hits Bangladesh, Killing 5; Evacu...       391.0   \n3480    What’s Happening to Us? A Visual History of 2019       433.0   \n33176  Just Out of Prison, Brooklyn Gunman Is Killed ...       871.0   \n44528  Museum Workers at Marciano Art Foundation Seek...       515.0   \n15180  12 Pop, Rock and Jazz Concerts to Check Out in...      1299.0   \n\n       author_count                      lead_author   section  \\\n26761             2  J u l f i k a r A l i M a n i k     World   \n3480              0                              NaN     Style   \n33176             3              E d S h a n a h a n  New York   \n44528             1        C o l i n M o y n i h a n      Arts   \n15180             0                              NaN      Arts   \n\n                       pub_date  month  \n26761  2019-05-05T16:48:56+0000      5  \n3480   2019-12-26T14:38:01+0000     12  \n33176  2019-10-16T04:07:10+0000     10  \n44528  2019-11-02T02:42:00+0000     11  \n15180  2019-01-17T22:00:10+0000      1  "
                    },
                    "execution_count": 39,
                    "metadata": {},
                    "output_type": "execute_result"
                }
            ],
            "source": [
                "df.sample(5)"
            ]
        },
        {
            "cell_type": "code",
            "execution_count": 8,
            "metadata": {},
            "outputs": [
                {
                    "data": {
                        "text/plain": "headline         object\nword_count      float64\nauthor_count      int64\nlead_author      object\nsection          object\npub_date         object\ndtype: object"
                    },
                    "execution_count": 8,
                    "metadata": {},
                    "output_type": "execute_result"
                }
            ],
            "source": [
                "df.dtypes"
            ]
        },
        {
            "attachments": {},
            "cell_type": "markdown",
            "metadata": {},
            "source": [
                "What quesitons did you have (would you have said out loud in an interview)?\n",
                "\n",
                "- How is writing measured ? (editing)\n",
                "- When does it start? (fiscal year vs actual year, etc)\n",
                "- does pub date mean they actually wrote it then?\n",
                "- Just lead authors? (or might not be lead author in some cases)\n",
                "- Format of the date? (what is the T?)\n",
                ""
            ]
        },
        {
            "cell_type": "code",
            "execution_count": 18,
            "metadata": {},
            "outputs": [],
            "source": [
                "auth_cnt = df.groupby(\"lead_author\").count().reset_index()"
            ]
        },
        {
            "cell_type": "code",
            "execution_count": 20,
            "metadata": {},
            "outputs": [
                {
                    "data": {
                        "text/html": "\u003cdiv\u003e\n\u003cstyle scoped\u003e\n    .dataframe tbody tr th:only-of-type {\n        vertical-align: middle;\n    }\n\n    .dataframe tbody tr th {\n        vertical-align: top;\n    }\n\n    .dataframe thead th {\n        text-align: right;\n    }\n\u003c/style\u003e\n\u003ctable border=\"1\" class=\"dataframe\"\u003e\n  \u003cthead\u003e\n    \u003ctr style=\"text-align: right;\"\u003e\n      \u003cth\u003e\u003c/th\u003e\n      \u003cth\u003elead_author\u003c/th\u003e\n      \u003cth\u003eheadline\u003c/th\u003e\n      \u003cth\u003eword_count\u003c/th\u003e\n      \u003cth\u003eauthor_count\u003c/th\u003e\n      \u003cth\u003esection\u003c/th\u003e\n      \u003cth\u003epub_date\u003c/th\u003e\n    \u003c/tr\u003e\n  \u003c/thead\u003e\n  \u003ctbody\u003e\n    \u003ctr\u003e\n      \u003cth\u003e0\u003c/th\u003e\n      \u003ctd\u003e\u003c/td\u003e\n      \u003ctd\u003e70\u003c/td\u003e\n      \u003ctd\u003e70\u003c/td\u003e\n      \u003ctd\u003e70\u003c/td\u003e\n      \u003ctd\u003e70\u003c/td\u003e\n      \u003ctd\u003e70\u003c/td\u003e\n    \u003c/tr\u003e\n    \u003ctr\u003e\n      \u003cth\u003e1\u003c/th\u003e\n      \u003ctd\u003eA . C . S h i l t o n\u003c/td\u003e\n      \u003ctd\u003e2\u003c/td\u003e\n      \u003ctd\u003e2\u003c/td\u003e\n      \u003ctd\u003e2\u003c/td\u003e\n      \u003ctd\u003e2\u003c/td\u003e\n      \u003ctd\u003e2\u003c/td\u003e\n    \u003c/tr\u003e\n    \u003ctr\u003e\n      \u003cth\u003e2\u003c/th\u003e\n      \u003ctd\u003eA . G . S u l z b e r g e r\u003c/td\u003e\n      \u003ctd\u003e2\u003c/td\u003e\n      \u003ctd\u003e2\u003c/td\u003e\n      \u003ctd\u003e2\u003c/td\u003e\n      \u003ctd\u003e2\u003c/td\u003e\n      \u003ctd\u003e2\u003c/td\u003e\n    \u003c/tr\u003e\n    \u003ctr\u003e\n      \u003cth\u003e3\u003c/th\u003e\n      \u003ctd\u003eA . H o p e J a h r e n\u003c/td\u003e\n      \u003ctd\u003e1\u003c/td\u003e\n      \u003ctd\u003e1\u003c/td\u003e\n      \u003ctd\u003e1\u003c/td\u003e\n      \u003ctd\u003e1\u003c/td\u003e\n      \u003ctd\u003e1\u003c/td\u003e\n    \u003c/tr\u003e\n    \u003ctr\u003e\n      \u003cth\u003e4\u003c/th\u003e\n      \u003ctd\u003eA . J . G o l d m a n n\u003c/td\u003e\n      \u003ctd\u003e20\u003c/td\u003e\n      \u003ctd\u003e20\u003c/td\u003e\n      \u003ctd\u003e20\u003c/td\u003e\n      \u003ctd\u003e20\u003c/td\u003e\n      \u003ctd\u003e20\u003c/td\u003e\n    \u003c/tr\u003e\n  \u003c/tbody\u003e\n\u003c/table\u003e\n\u003c/div\u003e",
                        "text/plain": "                   lead_author  headline  word_count  author_count  section  \\\n0                                     70          70            70       70   \n1        A . C . S h i l t o n         2           2             2        2   \n2  A . G . S u l z b e r g e r         2           2             2        2   \n3      A . H o p e J a h r e n         1           1             1        1   \n4      A . J . G o l d m a n n        20          20            20       20   \n\n   pub_date  \n0        70  \n1         2  \n2         2  \n3         1  \n4        20  "
                    },
                    "execution_count": 20,
                    "metadata": {},
                    "output_type": "execute_result"
                }
            ],
            "source": [
                "auth_cnt.loc[:4]"
            ]
        },
        {
            "cell_type": "code",
            "execution_count": 21,
            "metadata": {},
            "outputs": [
                {
                    "data": {
                        "text/plain": "True"
                    },
                    "execution_count": 21,
                    "metadata": {},
                    "output_type": "execute_result"
                }
            ],
            "source": [
                "auth_cnt[\"lead_author\"].loc[0] == \" \""
            ]
        },
        {
            "cell_type": "code",
            "execution_count": 0,
            "metadata": {},
            "outputs": [],
            "source": [
                ""
            ]
        },
        {
            "cell_type": "code",
            "execution_count": 0,
            "metadata": {},
            "outputs": [],
            "source": [
                ""
            ]
        },
        {
            "cell_type": "code",
            "execution_count": 0,
            "metadata": {},
            "outputs": [],
            "source": [
                ""
            ]
        },
        {
            "cell_type": "code",
            "execution_count": 0,
            "metadata": {},
            "outputs": [],
            "source": [
                ""
            ]
        },
        {
            "cell_type": "code",
            "execution_count": 6,
            "metadata": {},
            "outputs": [],
            "source": [
                "year = df.pub_date.apply(lambda x: x[:4])"
            ]
        },
        {
            "cell_type": "code",
            "execution_count": 9,
            "metadata": {},
            "outputs": [
                {
                    "data": {
                        "text/plain": "pandas.core.series.Series"
                    },
                    "execution_count": 9,
                    "metadata": {},
                    "output_type": "execute_result"
                }
            ],
            "source": [
                "type(year)"
            ]
        },
        {
            "cell_type": "code",
            "execution_count": 10,
            "metadata": {},
            "outputs": [
                {
                    "data": {
                        "text/plain": "array(['2019'], dtype=object)"
                    },
                    "execution_count": 10,
                    "metadata": {},
                    "output_type": "execute_result"
                }
            ],
            "source": [
                "year.unique()"
            ]
        },
        {
            "cell_type": "code",
            "execution_count": 11,
            "metadata": {},
            "outputs": [
                {
                    "data": {
                        "text/plain": "'2019-01-01T00:00:03+0000'"
                    },
                    "execution_count": 11,
                    "metadata": {},
                    "output_type": "execute_result"
                }
            ],
            "source": [
                "df.pub_date.min()"
            ]
        },
        {
            "cell_type": "code",
            "execution_count": 12,
            "metadata": {},
            "outputs": [
                {
                    "data": {
                        "text/plain": "'2019-12-31T23:52:00+0000'"
                    },
                    "execution_count": 12,
                    "metadata": {},
                    "output_type": "execute_result"
                }
            ],
            "source": [
                "df.pub_date.max()"
            ]
        },
        {
            "cell_type": "code",
            "execution_count": 22,
            "metadata": {},
            "outputs": [
                {
                    "data": {
                        "text/plain": "0.0013143565285966428"
                    },
                    "execution_count": 22,
                    "metadata": {},
                    "output_type": "execute_result"
                }
            ],
            "source": [
                "is_missing_author = df.lead_author == \" \"\n",
                "is_missing_author.mean()"
            ]
        },
        {
            "cell_type": "code",
            "execution_count": 23,
            "metadata": {},
            "outputs": [],
            "source": [
                "# subsetting via booleans\n",
                "df_sans_missing_auth = df.loc[~is_missing_author, :]"
            ]
        },
        {
            "cell_type": "code",
            "execution_count": 15,
            "metadata": {},
            "outputs": [
                {
                    "data": {
                        "text/plain": "pandas.core.series.Series"
                    },
                    "execution_count": 15,
                    "metadata": {},
                    "output_type": "execute_result"
                }
            ],
            "source": [
                "type(is_empty)"
            ]
        },
        {
            "cell_type": "code",
            "execution_count": 16,
            "metadata": {},
            "outputs": [
                {
                    "data": {
                        "text/plain": "0.0"
                    },
                    "execution_count": 16,
                    "metadata": {},
                    "output_type": "execute_result"
                }
            ],
            "source": [
                "is_empty.mean()"
            ]
        },
        {
            "cell_type": "code",
            "execution_count": 40,
            "metadata": {},
            "outputs": [],
            "source": [
                "import seaborn as sns\n",
                "import matplotlib as mpl\n",
                "import matplotlib.pyplot as plt\n",
                "\n",
                "sns.set_theme(style=\"ticks\")\n",
                "\n",
                "diamonds = sns.load_dataset(\"diamonds\")\n",
                ""
            ]
        },
        {
            "cell_type": "code",
            "execution_count": 41,
            "metadata": {},
            "outputs": [
                {
                    "data": {
                        "text/html": "\u003cdiv\u003e\n\u003cstyle scoped\u003e\n    .dataframe tbody tr th:only-of-type {\n        vertical-align: middle;\n    }\n\n    .dataframe tbody tr th {\n        vertical-align: top;\n    }\n\n    .dataframe thead th {\n        text-align: right;\n    }\n\u003c/style\u003e\n\u003ctable border=\"1\" class=\"dataframe\"\u003e\n  \u003cthead\u003e\n    \u003ctr style=\"text-align: right;\"\u003e\n      \u003cth\u003e\u003c/th\u003e\n      \u003cth\u003ecarat\u003c/th\u003e\n      \u003cth\u003ecut\u003c/th\u003e\n      \u003cth\u003ecolor\u003c/th\u003e\n      \u003cth\u003eclarity\u003c/th\u003e\n      \u003cth\u003edepth\u003c/th\u003e\n      \u003cth\u003etable\u003c/th\u003e\n      \u003cth\u003eprice\u003c/th\u003e\n      \u003cth\u003ex\u003c/th\u003e\n      \u003cth\u003ey\u003c/th\u003e\n      \u003cth\u003ez\u003c/th\u003e\n    \u003c/tr\u003e\n  \u003c/thead\u003e\n  \u003ctbody\u003e\n    \u003ctr\u003e\n      \u003cth\u003e29124\u003c/th\u003e\n      \u003ctd\u003e0.41\u003c/td\u003e\n      \u003ctd\u003eIdeal\u003c/td\u003e\n      \u003ctd\u003eF\u003c/td\u003e\n      \u003ctd\u003eSI1\u003c/td\u003e\n      \u003ctd\u003e62.2\u003c/td\u003e\n      \u003ctd\u003e54.0\u003c/td\u003e\n      \u003ctd\u003e690\u003c/td\u003e\n      \u003ctd\u003e4.78\u003c/td\u003e\n      \u003ctd\u003e4.80\u003c/td\u003e\n      \u003ctd\u003e2.98\u003c/td\u003e\n    \u003c/tr\u003e\n    \u003ctr\u003e\n      \u003cth\u003e16797\u003c/th\u003e\n      \u003ctd\u003e1.01\u003c/td\u003e\n      \u003ctd\u003ePremium\u003c/td\u003e\n      \u003ctd\u003eE\u003c/td\u003e\n      \u003ctd\u003eVS2\u003c/td\u003e\n      \u003ctd\u003e60.4\u003c/td\u003e\n      \u003ctd\u003e57.0\u003c/td\u003e\n      \u003ctd\u003e6697\u003c/td\u003e\n      \u003ctd\u003e6.49\u003c/td\u003e\n      \u003ctd\u003e6.45\u003c/td\u003e\n      \u003ctd\u003e3.91\u003c/td\u003e\n    \u003c/tr\u003e\n    \u003ctr\u003e\n      \u003cth\u003e43372\u003c/th\u003e\n      \u003ctd\u003e0.38\u003c/td\u003e\n      \u003ctd\u003eVery Good\u003c/td\u003e\n      \u003ctd\u003eE\u003c/td\u003e\n      \u003ctd\u003eIF\u003c/td\u003e\n      \u003ctd\u003e62.5\u003c/td\u003e\n      \u003ctd\u003e59.0\u003c/td\u003e\n      \u003ctd\u003e1409\u003c/td\u003e\n      \u003ctd\u003e4.61\u003c/td\u003e\n      \u003ctd\u003e4.64\u003c/td\u003e\n      \u003ctd\u003e2.89\u003c/td\u003e\n    \u003c/tr\u003e\n    \u003ctr\u003e\n      \u003cth\u003e26311\u003c/th\u003e\n      \u003ctd\u003e1.06\u003c/td\u003e\n      \u003ctd\u003eIdeal\u003c/td\u003e\n      \u003ctd\u003eD\u003c/td\u003e\n      \u003ctd\u003eIF\u003c/td\u003e\n      \u003ctd\u003e61.2\u003c/td\u003e\n      \u003ctd\u003e57.0\u003c/td\u003e\n      \u003ctd\u003e15813\u003c/td\u003e\n      \u003ctd\u003e6.57\u003c/td\u003e\n      \u003ctd\u003e6.61\u003c/td\u003e\n      \u003ctd\u003e4.03\u003c/td\u003e\n    \u003c/tr\u003e\n    \u003ctr\u003e\n      \u003cth\u003e44727\u003c/th\u003e\n      \u003ctd\u003e0.51\u003c/td\u003e\n      \u003ctd\u003eVery Good\u003c/td\u003e\n      \u003ctd\u003eD\u003c/td\u003e\n      \u003ctd\u003eVS1\u003c/td\u003e\n      \u003ctd\u003e58.8\u003c/td\u003e\n      \u003ctd\u003e60.0\u003c/td\u003e\n      \u003ctd\u003e1616\u003c/td\u003e\n      \u003ctd\u003e5.18\u003c/td\u003e\n      \u003ctd\u003e5.26\u003c/td\u003e\n      \u003ctd\u003e3.07\u003c/td\u003e\n    \u003c/tr\u003e\n  \u003c/tbody\u003e\n\u003c/table\u003e\n\u003c/div\u003e",
                        "text/plain": "       carat        cut color clarity  depth  table  price     x     y     z\n29124   0.41      Ideal     F     SI1   62.2   54.0    690  4.78  4.80  2.98\n16797   1.01    Premium     E     VS2   60.4   57.0   6697  6.49  6.45  3.91\n43372   0.38  Very Good     E      IF   62.5   59.0   1409  4.61  4.64  2.89\n26311   1.06      Ideal     D      IF   61.2   57.0  15813  6.57  6.61  4.03\n44727   0.51  Very Good     D     VS1   58.8   60.0   1616  5.18  5.26  3.07"
                    },
                    "execution_count": 41,
                    "metadata": {},
                    "output_type": "execute_result"
                }
            ],
            "source": [
                "diamonds.sample(5)"
            ]
        },
        {
            "cell_type": "code",
            "execution_count": 43,
            "metadata": {},
            "outputs": [
                {
                    "data": {
                        "text/plain": "\u003cAxes: xlabel='month', ylabel='Count'\u003e"
                    },
                    "execution_count": 43,
                    "metadata": {},
                    "output_type": "execute_result"
                },
                {
                    "data": {
                        "image/png": "[encoded data removed]",
                        "text/plain": "\u003cFigure size 700x500 with 1 Axes\u003e"
                    },
                    "metadata": {},
                    "output_type": "display_data"
                }
            ],
            "source": [
                "f, ax = plt.subplots(figsize=(7, 5))\n",
                "sns.despine(f)\n",
                "\n",
                "sns.histplot(\n",
                "    df,\n",
                "    x=\"month\"\n",
                ")"
            ]
        },
        {
            "cell_type": "code",
            "execution_count": 0,
            "metadata": {},
            "outputs": [],
            "source": [
                ""
            ]
        }
    ]
}
