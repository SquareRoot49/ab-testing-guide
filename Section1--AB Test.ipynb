{
 "cells": [
  {
   "cell_type": "code",
   "execution_count": 1,
   "id": "529690d3-3884-4b43-9d60-c6cabf635bd8",
   "metadata": {},
   "outputs": [],
   "source": [
    "## Always explore your data\n",
    "\n",
    "# We have 3 files that simulated a potential AB test that is measuring clicks and views.\n",
    "#- `sim_ab_test_assignment.csv`\n",
    "#- `sim_ab_test_clicks.csv`\n",
    "#- `sim_ab_test_views.csv`"
   ]
  },
  {
   "cell_type": "code",
   "execution_count": 2,
   "id": "1462be44-d11f-4d55-a653-b4a7dea1e046",
   "metadata": {},
   "outputs": [],
   "source": [
    "# Task 1\n",
    "# Load the files into sensible variable names using numpy. Hint: loading strings vs numbers may be different!\n"
   ]
  },
  {
   "cell_type": "code",
   "execution_count": 11,
   "id": "c87a1107-97e5-49e2-b064-5a7f55bd74e2",
   "metadata": {},
   "outputs": [],
   "source": [
    "import numpy as np"
   ]
  },
  {
   "cell_type": "code",
   "execution_count": 18,
   "id": "d0f95f91-c728-46c5-bd33-be5747535917",
   "metadata": {},
   "outputs": [],
   "source": [
    "# to load data by numpy, when the text contains strings, we need to declare the dtype of the text in the moethod\n",
    "# the default of the method is num"
   ]
  },
  {
   "cell_type": "code",
   "execution_count": 24,
   "id": "4414db1a-bcd9-453f-aa47-a2edb20b3735",
   "metadata": {},
   "outputs": [],
   "source": [
    "assignment = np.loadtxt('sim_ab_test_assignment.csv', dtype = 'str', delimiter = ',')"
   ]
  },
  {
   "cell_type": "code",
   "execution_count": 25,
   "id": "a6749042-e13b-406b-9298-8d65ad8d24cc",
   "metadata": {},
   "outputs": [],
   "source": [
    "clicks = np.loadtxt('sim_ab_test_clicks.csv', delimiter = ',')"
   ]
  },
  {
   "cell_type": "code",
   "execution_count": 26,
   "id": "7ee2ef5c-bb78-4b92-82ed-e058eb2f59b6",
   "metadata": {},
   "outputs": [],
   "source": [
    "views = np.loadtxt('sim_ab_test_views.csv', delimiter = ',')"
   ]
  },
  {
   "cell_type": "code",
   "execution_count": 28,
   "id": "8b5a469a-895c-4c53-84e8-c26e6296e777",
   "metadata": {},
   "outputs": [
    {
     "data": {
      "text/plain": [
       "numpy.ndarray"
      ]
     },
     "execution_count": 28,
     "metadata": {},
     "output_type": "execute_result"
    }
   ],
   "source": [
    "type(assignment)"
   ]
  },
  {
   "cell_type": "code",
   "execution_count": 30,
   "id": "9838d78f-9268-4934-bf23-93ac720b507c",
   "metadata": {},
   "outputs": [
    {
     "data": {
      "text/plain": [
       "array(['False', 'False', 'False', 'False', 'False', 'False', 'False',\n",
       "       'False', 'False', 'False'], dtype='<U5')"
      ]
     },
     "execution_count": 30,
     "metadata": {},
     "output_type": "execute_result"
    }
   ],
   "source": [
    "assignment[: 10]"
   ]
  },
  {
   "cell_type": "code",
   "execution_count": 31,
   "id": "f68890c8-2b96-4d45-aca8-9f6f7bd47e52",
   "metadata": {},
   "outputs": [
    {
     "data": {
      "text/plain": [
       "1000"
      ]
     },
     "execution_count": 31,
     "metadata": {},
     "output_type": "execute_result"
    }
   ],
   "source": [
    "len(assignment)"
   ]
  },
  {
   "cell_type": "code",
   "execution_count": 32,
   "id": "c446baeb-f1b3-4551-b65f-93219dba8a7d",
   "metadata": {},
   "outputs": [
    {
     "data": {
      "text/plain": [
       "1000"
      ]
     },
     "execution_count": 32,
     "metadata": {},
     "output_type": "execute_result"
    }
   ],
   "source": [
    "len(clicks)"
   ]
  },
  {
   "cell_type": "code",
   "execution_count": 33,
   "id": "d53a178d-a6f8-4324-8357-f58e2d6a1f76",
   "metadata": {},
   "outputs": [
    {
     "data": {
      "text/plain": [
       "1000"
      ]
     },
     "execution_count": 33,
     "metadata": {},
     "output_type": "execute_result"
    }
   ],
   "source": [
    "len(views)"
   ]
  },
  {
   "cell_type": "code",
   "execution_count": null,
   "id": "365ea2f0-72b4-46df-81cd-74440d211aa8",
   "metadata": {},
   "outputs": [],
   "source": []
  },
  {
   "cell_type": "code",
   "execution_count": 34,
   "id": "184b6eb3-a889-45ed-b915-4c47e3b72a95",
   "metadata": {},
   "outputs": [],
   "source": [
    "\n",
    "# Task 2\n",
    "# Examine the data a bit\n",
    "\n",
    "# What are the dimensions for each of the CSVs?\n",
    "# This should bring up some questions, what are our guesses?\n",
    "# Can we look at some sample values in the data?\n",
    "# Try looking at the first few rows and columns\n",
    "# Try looking at the last few rows and columns"
   ]
  },
  {
   "cell_type": "code",
   "execution_count": 36,
   "id": "c91e16d2-f368-4a3a-abfa-644806ee8e08",
   "metadata": {},
   "outputs": [
    {
     "data": {
      "text/plain": [
       "(1000,)"
      ]
     },
     "execution_count": 36,
     "metadata": {},
     "output_type": "execute_result"
    }
   ],
   "source": [
    "assignment.shape"
   ]
  },
  {
   "cell_type": "code",
   "execution_count": 37,
   "id": "d932fca1-b022-4387-a1b3-a4f50bfff375",
   "metadata": {},
   "outputs": [
    {
     "data": {
      "text/plain": [
       "(1000, 14)"
      ]
     },
     "execution_count": 37,
     "metadata": {},
     "output_type": "execute_result"
    }
   ],
   "source": [
    "clicks.shape"
   ]
  },
  {
   "cell_type": "code",
   "execution_count": 38,
   "id": "f948eae3-484d-41ee-873e-537fa743b60b",
   "metadata": {},
   "outputs": [
    {
     "data": {
      "text/plain": [
       "(1000, 14)"
      ]
     },
     "execution_count": 38,
     "metadata": {},
     "output_type": "execute_result"
    }
   ],
   "source": [
    "views.shape"
   ]
  },
  {
   "cell_type": "code",
   "execution_count": 40,
   "id": "a2ad3334-77e4-435b-b479-ccda79006499",
   "metadata": {},
   "outputs": [
    {
     "data": {
      "text/plain": [
       "array([[0., 1., 0., 0., 0., 0., 0., 0., 0., 0., 0., 0., 0., 0.],\n",
       "       [0., 0., 0., 0., 0., 0., 1., 0., 0., 0., 0., 1., 0., 0.],\n",
       "       [0., 0., 0., 0., 1., 0., 0., 0., 0., 3., 0., 0., 0., 0.]])"
      ]
     },
     "execution_count": 40,
     "metadata": {},
     "output_type": "execute_result"
    }
   ],
   "source": [
    "clicks[: 3]"
   ]
  },
  {
   "cell_type": "code",
   "execution_count": 41,
   "id": "57dab787-eb96-4495-ad36-4235879d45ec",
   "metadata": {},
   "outputs": [
    {
     "data": {
      "text/plain": [
       "array([[ 0.,  6.,  0.,  0.,  0.,  0.,  0.,  3.,  8.,  3.,  0.,  0.,  0.,\n",
       "         0.],\n",
       "       [ 7., 37.,  0.,  0., 13., 12., 26.,  0., 16.,  1.,  0., 25.,  4.,\n",
       "         0.],\n",
       "       [ 5.,  0.,  9.,  0.,  7.,  0.,  0.,  0.,  8., 17.,  5.,  6.,  3.,\n",
       "         0.]])"
      ]
     },
     "execution_count": 41,
     "metadata": {},
     "output_type": "execute_result"
    }
   ],
   "source": [
    "views[: 3]"
   ]
  },
  {
   "cell_type": "code",
   "execution_count": 42,
   "id": "3371c95a-b8ec-43ce-aa48-d2726daf0f37",
   "metadata": {},
   "outputs": [
    {
     "data": {
      "text/plain": [
       "array(['False', 'False', 'False'], dtype='<U5')"
      ]
     },
     "execution_count": 42,
     "metadata": {},
     "output_type": "execute_result"
    }
   ],
   "source": [
    "assignment[: 3]"
   ]
  },
  {
   "cell_type": "code",
   "execution_count": null,
   "id": "5f7b4806-1189-415f-b48a-350db608822f",
   "metadata": {},
   "outputs": [],
   "source": []
  },
  {
   "cell_type": "code",
   "execution_count": null,
   "id": "3d1ade24-c95f-4596-95f7-5404e903c99e",
   "metadata": {},
   "outputs": [],
   "source": []
  },
  {
   "cell_type": "code",
   "execution_count": null,
   "id": "8de281d1-109d-4d89-8c99-925c53a751c9",
   "metadata": {},
   "outputs": [],
   "source": []
  },
  {
   "cell_type": "code",
   "execution_count": 8,
   "id": "2254e4d1-b8dc-40bd-b3b7-e347d000ffce",
   "metadata": {},
   "outputs": [],
   "source": [
    "# Task 3\n",
    "# It's important to track a few summary statistics about data, statistics that will let us know if the data is bad.\n",
    "\n",
    "# Calculate some of these statistics\n",
    "# Use print() to print out a human readable message that includes these statistics."
   ]
  },
  {
   "cell_type": "code",
   "execution_count": 64,
   "id": "d56872fe-a714-4328-88a6-1e15e6976759",
   "metadata": {},
   "outputs": [],
   "source": [
    "# when we need to track a few summary statistics about data and to check if the data is good or not.\n",
    "# 1st, it's good to check if there is np.nan exists by using the np.isnan() method and use .any() method to check. exp:"
   ]
  },
  {
   "cell_type": "code",
   "execution_count": 65,
   "id": "7c285eb6-ee7a-400e-841e-55ee89841cf8",
   "metadata": {},
   "outputs": [],
   "source": [
    "check_nan = np.isnan(np.array([1, 2, 3, 4, 5, np.nan, 6, 7, 8]))"
   ]
  },
  {
   "cell_type": "code",
   "execution_count": 66,
   "id": "aa46426b-f20a-419c-ba94-f856ae1c6026",
   "metadata": {},
   "outputs": [
    {
     "data": {
      "text/plain": [
       "np.True_"
      ]
     },
     "execution_count": 66,
     "metadata": {},
     "output_type": "execute_result"
    }
   ],
   "source": [
    "# are there any np.nan?\n",
    "check_nan.any()\n",
    "# any()method: when there exists at least one item that meet the condition, it will return True."
   ]
  },
  {
   "cell_type": "code",
   "execution_count": 67,
   "id": "f058717a-56af-47aa-973b-d924c447f510",
   "metadata": {},
   "outputs": [],
   "source": [
    "# about format() method, it appears together with '{}', and they are both used in the print(), when we want to print \n",
    "# something, we can set the '{}', and use the format to subsitute the '{}' with the content we want to print."
   ]
  },
  {
   "cell_type": "code",
   "execution_count": 68,
   "id": "5f2ada3d-eae1-4880-a64b-a68b93009238",
   "metadata": {},
   "outputs": [
    {
     "name": "stdout",
     "output_type": "stream",
     "text": [
      "name is xt\n"
     ]
    }
   ],
   "source": [
    "print('name is {}'.format('xt'))"
   ]
  },
  {
   "cell_type": "code",
   "execution_count": 69,
   "id": "40daab0d-330d-419f-b7db-580c841da931",
   "metadata": {},
   "outputs": [
    {
     "name": "stdout",
     "output_type": "stream",
     "text": [
      "name is         xt\n"
     ]
    }
   ],
   "source": [
    "print('name is {: >10}'.format('xt'))"
   ]
  },
  {
   "cell_type": "code",
   "execution_count": 70,
   "id": "662a3e02-bd65-4b2d-a1cf-ca04532e1014",
   "metadata": {},
   "outputs": [
    {
     "name": "stdout",
     "output_type": "stream",
     "text": [
      "name is xt        \n"
     ]
    }
   ],
   "source": [
    "print('name is {: <10}'.format('xt'))"
   ]
  },
  {
   "cell_type": "code",
   "execution_count": 71,
   "id": "7e7fb31f-55b6-4d49-95f8-85261a026267",
   "metadata": {},
   "outputs": [],
   "source": [
    "# through format, we can change the set of the '{}' easily."
   ]
  },
  {
   "cell_type": "code",
   "execution_count": 72,
   "id": "74a36ec9-8f56-461e-b8c4-2b208c18814c",
   "metadata": {},
   "outputs": [],
   "source": [
    "check_nan_clicks = np.isnan(clicks)"
   ]
  },
  {
   "cell_type": "code",
   "execution_count": 73,
   "id": "162a01e9-f29f-4747-a057-7d03e46bc1bb",
   "metadata": {},
   "outputs": [
    {
     "data": {
      "text/plain": [
       "np.False_"
      ]
     },
     "execution_count": 73,
     "metadata": {},
     "output_type": "execute_result"
    }
   ],
   "source": [
    "check_nan_clicks.any()"
   ]
  },
  {
   "cell_type": "code",
   "execution_count": 74,
   "id": "5d01c44f-7f73-44ac-9bc8-ec0f294aafd2",
   "metadata": {},
   "outputs": [],
   "source": [
    "# 2nd we can check if there exists negative number, since in the real  world, sometimes there will not be negative numbers."
   ]
  },
  {
   "cell_type": "code",
   "execution_count": 80,
   "id": "802ed687-5290-4479-8971-c73b515eca47",
   "metadata": {},
   "outputs": [],
   "source": [
    "any_negtive = np.min(clicks) < 0"
   ]
  },
  {
   "cell_type": "code",
   "execution_count": 83,
   "id": "d7456955-5eff-424e-a8b0-25d0949a0796",
   "metadata": {},
   "outputs": [
    {
     "name": "stdout",
     "output_type": "stream",
     "text": [
      "are negtive numbers? False\n"
     ]
    }
   ],
   "source": [
    "print('are negtive numbers? {}'.format(any_negtive))"
   ]
  },
  {
   "cell_type": "code",
   "execution_count": 94,
   "id": "835070f6-c205-478c-bdcf-60347954d620",
   "metadata": {},
   "outputs": [],
   "source": [
    "# 3rd based on this problem, we can know some clear and simple rules, like clicks must be less or equal than views."
   ]
  },
  {
   "cell_type": "code",
   "execution_count": 95,
   "id": "8d713010-c449-47d2-85a4-9ade4a06bd71",
   "metadata": {},
   "outputs": [],
   "source": [
    "are_clicks_less_views = (clicks <= views).all()\n",
    "# all() method is to check if all the values are True.\n",
    "# any() and all() are like a twin in the python, just like the exist or any in the math."
   ]
  },
  {
   "cell_type": "code",
   "execution_count": 96,
   "id": "acd3424f-bf44-4441-a055-bfed6dfe00a3",
   "metadata": {},
   "outputs": [
    {
     "name": "stdout",
     "output_type": "stream",
     "text": [
      "are all clicks less than views? True\n"
     ]
    }
   ],
   "source": [
    "print('are all clicks less than views? {}'.format(are_clicks_less_views))"
   ]
  },
  {
   "cell_type": "code",
   "execution_count": 97,
   "id": "8145f6c0-578c-4a77-8b61-29c4e5c66a4d",
   "metadata": {},
   "outputs": [],
   "source": [
    "# 4th, we can also check the zero rate oof clicks."
   ]
  },
  {
   "cell_type": "code",
   "execution_count": 98,
   "id": "9b6d4af8-eb09-4a8e-9a67-aba3e60da177",
   "metadata": {},
   "outputs": [],
   "source": [
    "freq_clicks_zero = (clicks == 0).mean()"
   ]
  },
  {
   "cell_type": "code",
   "execution_count": 100,
   "id": "350d3f16-a630-4606-b8d8-93653290a85e",
   "metadata": {},
   "outputs": [
    {
     "name": "stdout",
     "output_type": "stream",
     "text": [
      "the perventage of 0 in the clicks is 82.57%\n"
     ]
    }
   ],
   "source": [
    "print('the perventage of 0 in the clicks is {}%'.format(round(freq_clicks_zero * 100, 2)))"
   ]
  },
  {
   "cell_type": "code",
   "execution_count": 101,
   "id": "ae4edda8-4134-4002-803d-84365f5e1314",
   "metadata": {},
   "outputs": [],
   "source": [
    "# les's do it on the views."
   ]
  },
  {
   "cell_type": "code",
   "execution_count": 102,
   "id": "63222cf4-958e-481d-b77b-a8ae86290e54",
   "metadata": {},
   "outputs": [],
   "source": [
    "check_nan_views = np.isnan(views).any()"
   ]
  },
  {
   "cell_type": "code",
   "execution_count": 103,
   "id": "694d3e79-9b83-4322-b2d7-6e1a12aa4d41",
   "metadata": {},
   "outputs": [
    {
     "name": "stdout",
     "output_type": "stream",
     "text": [
      "are there any nan in the views? False\n"
     ]
    }
   ],
   "source": [
    "print('are there any nan in the views? {}'.format(check_nan_views))"
   ]
  },
  {
   "cell_type": "code",
   "execution_count": 109,
   "id": "eae38711-ac30-4a49-b2d8-7f0a70182114",
   "metadata": {},
   "outputs": [],
   "source": [
    "views_bigger_clicks = (views >= clicks).all()"
   ]
  },
  {
   "cell_type": "code",
   "execution_count": 110,
   "id": "7fd7dab0-7616-4f39-8c80-0ba4375bb4f2",
   "metadata": {},
   "outputs": [
    {
     "name": "stdout",
     "output_type": "stream",
     "text": [
      "are all views bigger than clicks? True\n"
     ]
    }
   ],
   "source": [
    "print('are all views bigger than clicks? {}'.format(views_bigger_clicks))"
   ]
  },
  {
   "cell_type": "code",
   "execution_count": 111,
   "id": "247fcaeb-f33f-4504-8790-57232e937ca7",
   "metadata": {},
   "outputs": [],
   "source": [
    "freq_views_zero = (views == 0).mean()"
   ]
  },
  {
   "cell_type": "code",
   "execution_count": 114,
   "id": "a643c064-ce71-405a-bf10-617611fd144c",
   "metadata": {},
   "outputs": [
    {
     "name": "stdout",
     "output_type": "stream",
     "text": [
      "the percentage of the zeros in the views is 50.24%\n"
     ]
    }
   ],
   "source": [
    "print('the percentage of the zeros in the views is {}%'.format(round(freq_views_zero * 100, 2)))"
   ]
  },
  {
   "cell_type": "code",
   "execution_count": null,
   "id": "68291f69-0fe5-4e8d-b6f8-28d20b5048f1",
   "metadata": {},
   "outputs": [],
   "source": []
  },
  {
   "cell_type": "code",
   "execution_count": 9,
   "id": "903f4875-8b97-43c2-94f2-96cf908e2be5",
   "metadata": {},
   "outputs": [],
   "source": [
    "# Task 4\n",
    "# What kind of mathematical notation would you use to describe our data? Now use that notation to express (no code)\n",
    "\n",
    "# total clicks over all users / total views over all users\n",
    "# Average click through rate\n",
    "# Now write the code to do these calculations (don't use a for-loop!)"
   ]
  },
  {
   "cell_type": "code",
   "execution_count": 115,
   "id": "832eff55-0959-4247-bbc0-5e63d42d3940",
   "metadata": {},
   "outputs": [],
   "source": [
    "# total clicks over all user / total views over all users"
   ]
  },
  {
   "cell_type": "code",
   "execution_count": 117,
   "id": "89d7fa9a-a76c-4af5-a00e-17d33e156d17",
   "metadata": {},
   "outputs": [],
   "source": [
    "percentage_total = np.sum(clicks) / np.sum(views)"
   ]
  },
  {
   "cell_type": "code",
   "execution_count": 119,
   "id": "7841fd80-42bc-4987-bde3-c92fb0017ff5",
   "metadata": {},
   "outputs": [
    {
     "name": "stdout",
     "output_type": "stream",
     "text": [
      "5.29%\n"
     ]
    }
   ],
   "source": [
    "print('{}%'.format(round(percentage_total * 100, 2)))"
   ]
  },
  {
   "cell_type": "code",
   "execution_count": 133,
   "id": "cd40fb68-f2da-4eef-a401-c0e423cfca8f",
   "metadata": {},
   "outputs": [],
   "source": [
    "# caculate each person's clicks / views, and caculate the mean()\n",
    "# important: apply functions along axis!!"
   ]
  },
  {
   "cell_type": "code",
   "execution_count": 122,
   "id": "ca870daf-5727-4298-89e1-ff23a7cd3892",
   "metadata": {},
   "outputs": [],
   "source": [
    "each_user_clicks = np.apply_along_axis(np.sum, 1, clicks)"
   ]
  },
  {
   "cell_type": "code",
   "execution_count": 123,
   "id": "cb1c957e-760c-48b8-bf5e-a3e1c4b45103",
   "metadata": {},
   "outputs": [],
   "source": [
    "# introduce the np.apply_along_axis()method, np.apply_along_axis() can apply functions can be used used to slice an array \n",
    "# along a specified axis and apply the sliced array to a given function.\n",
    "# there are three main arguments in the np.apply_along_axis():\n",
    "# the fist is the function you want to use;\n",
    "# the second is the axis, 0 represents the x axis, meaning that you apply the function on every row of tour dat, and get a column vector;\n",
    "# the third is about the data you deal with."
   ]
  },
  {
   "cell_type": "code",
   "execution_count": 129,
   "id": "23309938-3b1b-4765-a882-6ea70a266ee6",
   "metadata": {},
   "outputs": [],
   "source": [
    "each_user_views = np.apply_along_axis(np.sum, 1, views)"
   ]
  },
  {
   "cell_type": "code",
   "execution_count": 131,
   "id": "427eb3df-57c7-426b-b3dc-d92fa65684bf",
   "metadata": {},
   "outputs": [],
   "source": [
    "ctr_each_user = (each_user_clicks / each_user_views).mean()"
   ]
  },
  {
   "cell_type": "code",
   "execution_count": 132,
   "id": "56f9e86a-e59d-4911-a71c-2271f4c31f42",
   "metadata": {},
   "outputs": [
    {
     "data": {
      "text/plain": [
       "np.float64(0.053078945894088896)"
      ]
     },
     "execution_count": 132,
     "metadata": {},
     "output_type": "execute_result"
    }
   ],
   "source": [
    "ctr_each_user"
   ]
  },
  {
   "cell_type": "code",
   "execution_count": 142,
   "id": "0b9e204e-13fa-42c8-8a7a-bc34aeeb4829",
   "metadata": {},
   "outputs": [
    {
     "name": "stdout",
     "output_type": "stream",
     "text": [
      "5.31%\n"
     ]
    }
   ],
   "source": [
    "print('{}%'.format(round(ctr_each_user * 100, 2)))"
   ]
  },
  {
   "cell_type": "code",
   "execution_count": null,
   "id": "ece2c251-5c8a-49a1-aa07-7405d6fcfca6",
   "metadata": {},
   "outputs": [],
   "source": []
  },
  {
   "cell_type": "code",
   "execution_count": 10,
   "id": "0cf46bff-5159-4400-99ac-8563fb4b12a3",
   "metadata": {},
   "outputs": [],
   "source": [
    "# Task 5\n",
    "# Let's compare the 2 metrics:\n",
    "\n",
    "# Remove one of the most active members from the data and re-calculate both metrics.\n",
    "# How would you compare the metric before/after the removal? Calculate something and print() it out.\n",
    "# Which metric would you recommend?"
   ]
  },
  {
   "cell_type": "code",
   "execution_count": 138,
   "id": "03872a7f-9cbb-4c06-a9ed-6779e9da8982",
   "metadata": {},
   "outputs": [],
   "source": [
    "# to find the most active user, maybe we can find the user who has the most views record and most clicks record.\n",
    "# there are two users actually"
   ]
  },
  {
   "cell_type": "code",
   "execution_count": 144,
   "id": "e4faa6a9-340d-4829-9253-ab926cf72d32",
   "metadata": {},
   "outputs": [],
   "source": [
    "# when we we want to change the data we have got, a way to protect the raw date is to copy one by using the .copy() method."
   ]
  },
  {
   "cell_type": "code",
   "execution_count": 145,
   "id": "f82678cc-cf89-42b7-995e-564358ea67d3",
   "metadata": {},
   "outputs": [],
   "source": [
    "each_user_clicks_2 = each_user_clicks.copy()"
   ]
  },
  {
   "cell_type": "code",
   "execution_count": 151,
   "id": "744124f5-765a-48c1-8ca9-4ed1847edfbf",
   "metadata": {},
   "outputs": [],
   "source": [
    "# now we introduce the argmax() function, the argmax is urually used in the np.array.\n",
    "# argmax() is to find the index of the max value of a numpay array.\n",
    "# likely, the argmin() is to find the index of the min value of a numpy array."
   ]
  },
  {
   "cell_type": "code",
   "execution_count": 152,
   "id": "baf78107-7d9c-4736-a3ef-3d6e4101ef18",
   "metadata": {},
   "outputs": [
    {
     "data": {
      "text/plain": [
       "np.int64(733)"
      ]
     },
     "execution_count": 152,
     "metadata": {},
     "output_type": "execute_result"
    }
   ],
   "source": [
    "each_user_clicks_2.argmax()"
   ]
  },
  {
   "cell_type": "code",
   "execution_count": 155,
   "id": "2e1594b0-4af6-42a8-a791-bf06c3df4b91",
   "metadata": {},
   "outputs": [],
   "source": [
    "# when we want to remove a value in a bp.array, we need to use the np.delete() dunction:\n",
    "# there are two arguments in the np.delete() function, the first argument is the name of your np.array, the next is the index of the value\n",
    "# you want to remove.\n",
    "each_user_clicks_2_new = np.delete(each_user_clicks_2, each_user_clicks_2.argmax())"
   ]
  },
  {
   "cell_type": "code",
   "execution_count": 154,
   "id": "905b44ba-a219-4cfa-9905-791770b492b0",
   "metadata": {},
   "outputs": [
    {
     "data": {
      "text/plain": [
       "999"
      ]
     },
     "execution_count": 154,
     "metadata": {},
     "output_type": "execute_result"
    }
   ],
   "source": [
    "len(each_user_clicks_2_new)"
   ]
  },
  {
   "cell_type": "code",
   "execution_count": 161,
   "id": "8f83a38e-7a81-48c1-8602-b78aae8ffd2f",
   "metadata": {},
   "outputs": [
    {
     "data": {
      "text/plain": [
       "array([1, 2, 4, 5])"
      ]
     },
     "execution_count": 161,
     "metadata": {},
     "output_type": "execute_result"
    }
   ],
   "source": [
    "# tips, when we don't know the index of the concrete value, we can use np.where() function, like np.where(each_user_clicks_2 == 7)\n",
    "# exp:\n",
    "arr = np.array([1, 2, 3, 4, 5])\n",
    "arr = np.delete(arr, np.where(arr == 3))\n",
    "arr"
   ]
  },
  {
   "cell_type": "code",
   "execution_count": 165,
   "id": "fe5e1793-e28f-4dc7-9291-524ef21c1453",
   "metadata": {},
   "outputs": [],
   "source": [
    "each_user_views_2 = each_user_views.copy()"
   ]
  },
  {
   "cell_type": "code",
   "execution_count": 166,
   "id": "eeaf2895-f3dc-4074-8c23-20080f56478a",
   "metadata": {},
   "outputs": [
    {
     "data": {
      "text/plain": [
       "np.int64(149)"
      ]
     },
     "execution_count": 166,
     "metadata": {},
     "output_type": "execute_result"
    }
   ],
   "source": [
    "each_user_views_2.argmax()"
   ]
  },
  {
   "cell_type": "code",
   "execution_count": 167,
   "id": "6b12121b-e347-4b1e-891b-9e8a1804962b",
   "metadata": {},
   "outputs": [],
   "source": [
    "each_user_views_2_new = np.delete(each_user_views_2, each_user_views_2.argmax())"
   ]
  },
  {
   "cell_type": "code",
   "execution_count": 169,
   "id": "b8bb46e3-c9e3-4b66-9923-7d9ee5768ef4",
   "metadata": {},
   "outputs": [
    {
     "data": {
      "text/plain": [
       "999"
      ]
     },
     "execution_count": 169,
     "metadata": {},
     "output_type": "execute_result"
    }
   ],
   "source": [
    "len(each_user_views_2_new)"
   ]
  },
  {
   "cell_type": "code",
   "execution_count": 176,
   "id": "a57878f7-b8a9-4831-87a9-9d7f26a9feef",
   "metadata": {},
   "outputs": [
    {
     "data": {
      "text/plain": [
       "np.float64(0.0528031197961885)"
      ]
     },
     "execution_count": 176,
     "metadata": {},
     "output_type": "execute_result"
    }
   ],
   "source": [
    "np.sum(each_user_clicks_2_new) / np.sum(each_user_views_2_new)"
   ]
  },
  {
   "cell_type": "code",
   "execution_count": 177,
   "id": "7e6b3245-73fa-4f02-aff3-389aac919554",
   "metadata": {},
   "outputs": [
    {
     "data": {
      "text/plain": [
       "np.float64(0.0021952988983193486)"
      ]
     },
     "execution_count": 177,
     "metadata": {},
     "output_type": "execute_result"
    }
   ],
   "source": [
    "# change rate1\n",
    "(percentage_total - np.sum(each_user_clicks_2_new) / np.sum(each_user_views_2_new)) / percentage_total"
   ]
  },
  {
   "cell_type": "code",
   "execution_count": 179,
   "id": "f1acb061-9dfc-4210-bd0d-abd4f1a403cf",
   "metadata": {},
   "outputs": [
    {
     "data": {
      "text/plain": [
       "np.float64(0.062364677273948406)"
      ]
     },
     "execution_count": 179,
     "metadata": {},
     "output_type": "execute_result"
    }
   ],
   "source": [
    "np.mean(each_user_clicks_2_new / each_user_views_2_new)"
   ]
  },
  {
   "cell_type": "code",
   "execution_count": null,
   "id": "f5bd42a9-bdd5-4d5d-b30b-4e8cb6ec0136",
   "metadata": {},
   "outputs": [],
   "source": []
  },
  {
   "cell_type": "code",
   "execution_count": null,
   "id": "d0b211ef-466d-4048-ace8-eecf66cf035a",
   "metadata": {},
   "outputs": [],
   "source": [
    "# Task 6\n",
    "# Calculate the recommended metric for each of the treatment groups."
   ]
  },
  {
   "cell_type": "code",
   "execution_count": 192,
   "id": "9294c875-8e62-4aea-a517-81611c786887",
   "metadata": {},
   "outputs": [],
   "source": [
    "# notice that the judging condition here is 'True' instead of True, since at the begining of this section, the dtype of assignment\n",
    "# is str!! so we need to use 'True' znd 'False'\n",
    "is_treatment = assignment == 'True'"
   ]
  },
  {
   "cell_type": "code",
   "execution_count": 193,
   "id": "88531032-f32a-4fdb-b41c-e573b3ea6777",
   "metadata": {},
   "outputs": [],
   "source": [
    "is_control = assignemnt == 'False'"
   ]
  },
  {
   "cell_type": "code",
   "execution_count": 194,
   "id": "635d32ba-4e72-4485-94c2-df3ce1743c74",
   "metadata": {},
   "outputs": [],
   "source": [
    "is_treatment_ctr = sum(each_user_clicks[is_treatment]) / sum(each_user_views[is_treatment])"
   ]
  },
  {
   "cell_type": "code",
   "execution_count": 195,
   "id": "10a623a6-05a8-4aaa-88f5-b441e02c4479",
   "metadata": {},
   "outputs": [
    {
     "data": {
      "text/plain": [
       "np.float64(0.10317675807765408)"
      ]
     },
     "execution_count": 195,
     "metadata": {},
     "output_type": "execute_result"
    }
   ],
   "source": [
    "is_treatment_ctr"
   ]
  },
  {
   "cell_type": "code",
   "execution_count": 196,
   "id": "8cc5afdd-ca6b-4afd-8c48-3aa746b79dec",
   "metadata": {},
   "outputs": [],
   "source": [
    "is_control_ctr = np.sum(each_user_clicks[is_control]) / np.sum(each_user_views[is_control])"
   ]
  },
  {
   "cell_type": "code",
   "execution_count": 197,
   "id": "881d7633-abe9-420f-8cff-df16b1b591c2",
   "metadata": {},
   "outputs": [
    {
     "data": {
      "text/plain": [
       "np.float64(0.05014607835792943)"
      ]
     },
     "execution_count": 197,
     "metadata": {},
     "output_type": "execute_result"
    }
   ],
   "source": [
    "is_control_ctr"
   ]
  },
  {
   "cell_type": "code",
   "execution_count": 198,
   "id": "2fa4b737-1511-4aa7-a1a5-77cccfe812a4",
   "metadata": {},
   "outputs": [],
   "source": [
    "# above these thing we can also transfer all the coding into a function:"
   ]
  },
  {
   "cell_type": "code",
   "execution_count": 203,
   "id": "5944ab9c-0352-4ea1-a8c8-fd5b6c277046",
   "metadata": {},
   "outputs": [],
   "source": [
    "def get_ctr(assign, clicks, views):\n",
    "    is_treatment = assign == 'True'\n",
    "    is_control = assign == 'False'\n",
    "    is_treat_clicks = clicks[is_treatment, :]\n",
    "    is_control_clicks = clicks[is_control, :]\n",
    "    is_treat_views = views[is_treatment, :]\n",
    "    is_control_views = views[is_control, :]\n",
    "    each_treat_clicks = np.apply_along_axis(np.sum, 1, is_treat_clicks)\n",
    "    each_treat_views = np.apply_along_axis(np.sum, 1, is_treat_views)\n",
    "    each_control_clicks = np.apply_along_axis(np.sum, 1, is_control_clicks)\n",
    "    each_control_views = np.apply_along_axis(np.sum, 1, is_control_views)\n",
    "    \n",
    "    ctr_treat = np.sum(each_treat_clicks) / np.sum(each_treat_views)\n",
    "    ctr_control = np.sum(each_control_clicks) /np.sum(each_control_views)\n",
    "    return ctr_treat, ctr_control"
   ]
  },
  {
   "cell_type": "code",
   "execution_count": 205,
   "id": "2d070b05-e54b-4678-8cd8-6c977baa6049",
   "metadata": {},
   "outputs": [
    {
     "data": {
      "text/plain": [
       "(np.float64(0.10317675807765408), np.float64(0.05014607835792943))"
      ]
     },
     "execution_count": 205,
     "metadata": {},
     "output_type": "execute_result"
    }
   ],
   "source": [
    "# see! we get the same results!!\n",
    "get_ctr(assignment, clicks, views)"
   ]
  },
  {
   "cell_type": "code",
   "execution_count": null,
   "id": "59a4dc6a-17f5-4cc4-bddd-e8e4750b4132",
   "metadata": {},
   "outputs": [],
   "source": []
  }
 ],
 "metadata": {
  "kernelspec": {
   "display_name": "Python 3 (ipykernel)",
   "language": "python",
   "name": "python3"
  },
  "language_info": {
   "codemirror_mode": {
    "name": "ipython",
    "version": 3
   },
   "file_extension": ".py",
   "mimetype": "text/x-python",
   "name": "python",
   "nbconvert_exporter": "python",
   "pygments_lexer": "ipython3",
   "version": "3.11.1"
  }
 },
 "nbformat": 4,
 "nbformat_minor": 5
}
