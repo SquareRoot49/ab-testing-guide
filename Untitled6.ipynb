{
 "cells": [
  {
   "cell_type": "code",
   "execution_count": 2,
   "id": "e9379aa0-a804-41ef-b089-027a3ca34802",
   "metadata": {},
   "outputs": [],
   "source": [
    "import requests\n",
    "url = 'https://api.census.gov/data/timeseries/intltrade/imports/enduse'\n",
    "params = {\"get\": \"CTY_CODE,CTY_NAME,I_ENDUSE,I_ENDUSE_LDESC,GEN_VAL_MO,CON_VAL_MO\",\n",
    "          \"time\": \"2013-01\"}\n",
    "resp = requests.get(url = url, params = params) \n"
   ]
  },
  {
   "cell_type": "code",
   "execution_count": 5,
   "id": "8acdf554-4765-4a02-8616-b283502bda91",
   "metadata": {},
   "outputs": [
    {
     "data": {
      "text/plain": [
       "True"
      ]
     },
     "execution_count": 5,
     "metadata": {},
     "output_type": "execute_result"
    }
   ],
   "source": [
    "resp.status_code == 200"
   ]
  },
  {
   "cell_type": "code",
   "execution_count": null,
   "id": "7988c118-ba37-40f6-9c29-30ebece432da",
   "metadata": {},
   "outputs": [],
   "source": []
  }
 ],
 "metadata": {
  "kernelspec": {
   "display_name": "Python 3 (ipykernel)",
   "language": "python",
   "name": "python3"
  },
  "language_info": {
   "codemirror_mode": {
    "name": "ipython",
    "version": 3
   },
   "file_extension": ".py",
   "mimetype": "text/x-python",
   "name": "python",
   "nbconvert_exporter": "python",
   "pygments_lexer": "ipython3",
   "version": "3.11.1"
  }
 },
 "nbformat": 4,
 "nbformat_minor": 5
}
