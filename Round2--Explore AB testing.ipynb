{
 "cells": [
  {
   "cell_type": "code",
   "execution_count": 1,
   "id": "872937fd-033f-4c8b-a7ba-8d4073ee9507",
   "metadata": {},
   "outputs": [],
   "source": [
    "import numpy as np\n",
    "import pandas as pd"
   ]
  },
  {
   "cell_type": "code",
   "execution_count": 7,
   "id": "0678f456-3535-4528-bee6-f9471f549550",
   "metadata": {},
   "outputs": [],
   "source": [
    "assign = np.loadtxt('sim_ab_test_assignment.csv', dtype = str, delimiter = ',')"
   ]
  },
  {
   "cell_type": "code",
   "execution_count": 8,
   "id": "12dbc47a-7a8e-48c5-846e-2c778744fe3e",
   "metadata": {},
   "outputs": [],
   "source": [
    "clicks = np.loadtxt('sim_ab_test_clicks.csv', delimiter = ',')"
   ]
  },
  {
   "cell_type": "code",
   "execution_count": 9,
   "id": "b977d40e-f0be-496c-8b89-20f705a760fc",
   "metadata": {},
   "outputs": [],
   "source": [
    "views = np.loadtxt('sim_ab_test_views.csv', delimiter = ',')"
   ]
  },
  {
   "cell_type": "code",
   "execution_count": 15,
   "id": "d5dba16e-6971-418c-8b1e-8990e1f755bf",
   "metadata": {},
   "outputs": [
    {
     "data": {
      "text/plain": [
       "(1000,)"
      ]
     },
     "execution_count": 15,
     "metadata": {},
     "output_type": "execute_result"
    }
   ],
   "source": [
    "assign.shape"
   ]
  },
  {
   "cell_type": "code",
   "execution_count": 16,
   "id": "49f15f30-0543-4533-927a-b48ca94448ad",
   "metadata": {},
   "outputs": [
    {
     "data": {
      "text/plain": [
       "(1000, 14)"
      ]
     },
     "execution_count": 16,
     "metadata": {},
     "output_type": "execute_result"
    }
   ],
   "source": [
    "clicks.shape"
   ]
  },
  {
   "cell_type": "code",
   "execution_count": 17,
   "id": "85efd84d-6b88-4191-a379-84212ec17218",
   "metadata": {},
   "outputs": [
    {
     "data": {
      "text/plain": [
       "(1000, 14)"
      ]
     },
     "execution_count": 17,
     "metadata": {},
     "output_type": "execute_result"
    }
   ],
   "source": [
    "views.shape"
   ]
  },
  {
   "cell_type": "code",
   "execution_count": 18,
   "id": "7d7ea134-b85a-44f1-915b-eaffe3ba1509",
   "metadata": {},
   "outputs": [
    {
     "data": {
      "text/plain": [
       "array(['False', 'False', 'False', 'False', 'False', 'False', 'False',\n",
       "       'False', 'False', 'False'], dtype='<U5')"
      ]
     },
     "execution_count": 18,
     "metadata": {},
     "output_type": "execute_result"
    }
   ],
   "source": [
    "assign[: 10]"
   ]
  },
  {
   "cell_type": "code",
   "execution_count": 19,
   "id": "f2742be1-bcf9-4d59-80e9-a01f4297a5f9",
   "metadata": {},
   "outputs": [
    {
     "data": {
      "text/plain": [
       "array([[0., 1., 0., 0., 0., 0., 0., 0., 0., 0., 0., 0., 0., 0.],\n",
       "       [0., 0., 0., 0., 0., 0., 1., 0., 0., 0., 0., 1., 0., 0.],\n",
       "       [0., 0., 0., 0., 1., 0., 0., 0., 0., 3., 0., 0., 0., 0.],\n",
       "       [1., 0., 1., 0., 0., 0., 0., 0., 0., 0., 0., 0., 0., 1.],\n",
       "       [0., 0., 0., 1., 0., 0., 0., 0., 0., 1., 0., 1., 0., 0.],\n",
       "       [0., 0., 0., 0., 0., 0., 0., 0., 0., 0., 0., 0., 0., 0.],\n",
       "       [1., 0., 0., 1., 1., 0., 0., 0., 3., 0., 0., 0., 0., 0.],\n",
       "       [4., 0., 0., 1., 0., 0., 0., 0., 1., 0., 1., 2., 0., 0.],\n",
       "       [1., 0., 0., 0., 0., 1., 0., 0., 0., 0., 0., 0., 0., 0.],\n",
       "       [0., 0., 0., 1., 0., 0., 0., 0., 0., 1., 0., 1., 1., 0.]])"
      ]
     },
     "execution_count": 19,
     "metadata": {},
     "output_type": "execute_result"
    }
   ],
   "source": [
    "clicks[: 10]"
   ]
  },
  {
   "cell_type": "code",
   "execution_count": 20,
   "id": "8e121f44-53cd-47b3-8663-161a2228691d",
   "metadata": {},
   "outputs": [
    {
     "data": {
      "text/plain": [
       "array([[ 0.,  6.,  0.,  0.,  0.,  0.,  0.,  3.,  8.,  3.,  0.,  0.,  0.,\n",
       "         0.],\n",
       "       [ 7., 37.,  0.,  0., 13., 12., 26.,  0., 16.,  1.,  0., 25.,  4.,\n",
       "         0.],\n",
       "       [ 5.,  0.,  9.,  0.,  7.,  0.,  0.,  0.,  8., 17.,  5.,  6.,  3.,\n",
       "         0.],\n",
       "       [ 5.,  0.,  7.,  0.,  0., 23.,  2., 43.,  0.,  0.,  0.,  0., 10.,\n",
       "        10.],\n",
       "       [ 0.,  0., 14., 16.,  3.,  3.,  0.,  0., 10., 12.,  0., 17.,  0.,\n",
       "         5.],\n",
       "       [ 2.,  4.,  0.,  8.,  0.,  0., 15.,  0.,  0.,  0.,  3.,  0., 10.,\n",
       "         5.],\n",
       "       [ 3.,  1.,  0., 14.,  8., 10.,  0.,  0., 37.,  0.,  0., 12.,  1.,\n",
       "         0.],\n",
       "       [40.,  0.,  0., 15.,  0.,  7.,  0.,  0.,  4.,  9.,  6., 34.,  0.,\n",
       "         0.],\n",
       "       [28.,  1.,  0.,  4.,  5., 18.,  6.,  0.,  0.,  0.,  9.,  0., 11.,\n",
       "         0.],\n",
       "       [13.,  0.,  0., 23.,  0.,  0.,  4.,  0.,  1., 12.,  0.,  3.,  7.,\n",
       "        10.]])"
      ]
     },
     "execution_count": 20,
     "metadata": {},
     "output_type": "execute_result"
    }
   ],
   "source": [
    "views[: 10]"
   ]
  },
  {
   "cell_type": "code",
   "execution_count": 21,
   "id": "21f89eb6-39a0-4fc6-977c-929074097857",
   "metadata": {},
   "outputs": [],
   "source": [
    "# summary about the data"
   ]
  },
  {
   "cell_type": "code",
   "execution_count": 29,
   "id": "717980f0-ebcb-48f9-b8a5-0c3de98b823e",
   "metadata": {},
   "outputs": [],
   "source": [
    "check_clicks_nan = np.isnan(clicks)"
   ]
  },
  {
   "cell_type": "code",
   "execution_count": 30,
   "id": "8279e506-0cc6-4400-bd96-25361e8ba1ae",
   "metadata": {},
   "outputs": [
    {
     "data": {
      "text/plain": [
       "np.False_"
      ]
     },
     "execution_count": 30,
     "metadata": {},
     "output_type": "execute_result"
    }
   ],
   "source": [
    "check_clicks_nan.any()"
   ]
  },
  {
   "cell_type": "code",
   "execution_count": 33,
   "id": "af638d8c-4bf6-4c50-90a9-9d47d5b20392",
   "metadata": {},
   "outputs": [],
   "source": [
    "any_neg = np.min(clicks) < 0"
   ]
  },
  {
   "cell_type": "code",
   "execution_count": 34,
   "id": "9945a4f8-b543-4c10-a230-b5a4d9614aa5",
   "metadata": {},
   "outputs": [
    {
     "data": {
      "text/plain": [
       "np.False_"
      ]
     },
     "execution_count": 34,
     "metadata": {},
     "output_type": "execute_result"
    }
   ],
   "source": [
    "any_neg.any()"
   ]
  },
  {
   "cell_type": "code",
   "execution_count": 44,
   "id": "7f386078-e0f9-48b0-8966-ef3bbbcbf28e",
   "metadata": {},
   "outputs": [],
   "source": [
    "check_logic = (clicks <= views)"
   ]
  },
  {
   "cell_type": "code",
   "execution_count": 45,
   "id": "0f9e7347-5b83-41ed-bcb8-5d7b03f36cad",
   "metadata": {},
   "outputs": [
    {
     "data": {
      "text/plain": [
       "np.True_"
      ]
     },
     "execution_count": 45,
     "metadata": {},
     "output_type": "execute_result"
    }
   ],
   "source": [
    "check_logic.all()"
   ]
  },
  {
   "cell_type": "code",
   "execution_count": 46,
   "id": "7069d9df-cc46-4122-85e6-9ed539e1940f",
   "metadata": {},
   "outputs": [],
   "source": [
    "check_zero = clicks == 0"
   ]
  },
  {
   "cell_type": "code",
   "execution_count": 48,
   "id": "d8d18509-8200-46ed-8dd0-fa8f2b90591d",
   "metadata": {},
   "outputs": [
    {
     "data": {
      "text/plain": [
       "np.float64(0.8257142857142857)"
      ]
     },
     "execution_count": 48,
     "metadata": {},
     "output_type": "execute_result"
    }
   ],
   "source": [
    "np.mean(check_zero)"
   ]
  },
  {
   "cell_type": "code",
   "execution_count": 50,
   "id": "3336427d-c73f-4703-9f51-976533ea1a3b",
   "metadata": {},
   "outputs": [
    {
     "name": "stdout",
     "output_type": "stream",
     "text": [
      "the zero rate of clicks is 82.57%\n"
     ]
    }
   ],
   "source": [
    "print('the zero rate of clicks is {}%'.format(round(np.mean(check_zero) * 100, 2)))"
   ]
  },
  {
   "cell_type": "code",
   "execution_count": 51,
   "id": "b9a8449e-6948-4036-bc30-f09be24dec60",
   "metadata": {},
   "outputs": [],
   "source": [
    "# total clicks / total views"
   ]
  },
  {
   "cell_type": "code",
   "execution_count": 52,
   "id": "65b80249-ff45-4772-bfe4-b848cc2c7d9a",
   "metadata": {},
   "outputs": [
    {
     "data": {
      "text/plain": [
       "np.float64(0.05291929346282728)"
      ]
     },
     "execution_count": 52,
     "metadata": {},
     "output_type": "execute_result"
    }
   ],
   "source": [
    "np.sum(clicks) / np.sum(views)"
   ]
  },
  {
   "cell_type": "code",
   "execution_count": 53,
   "id": "72477264-6fed-417a-8d5d-b85b761b7482",
   "metadata": {},
   "outputs": [],
   "source": [
    "# user clicks / user views"
   ]
  },
  {
   "cell_type": "code",
   "execution_count": 55,
   "id": "aac2680b-bfa7-4a8a-9245-b3e4b47fac10",
   "metadata": {},
   "outputs": [],
   "source": [
    "clicks_user = np.apply_along_axis(np.sum, 1, clicks)"
   ]
  },
  {
   "cell_type": "code",
   "execution_count": 57,
   "id": "ca9762ff-d97d-4e71-a77e-b8f3fe8ee1ed",
   "metadata": {},
   "outputs": [
    {
     "data": {
      "text/plain": [
       "(1000,)"
      ]
     },
     "execution_count": 57,
     "metadata": {},
     "output_type": "execute_result"
    }
   ],
   "source": [
    "clicks_user.shape"
   ]
  },
  {
   "cell_type": "code",
   "execution_count": 58,
   "id": "c8bc0e89-564b-422a-aacf-223b04ac24eb",
   "metadata": {},
   "outputs": [],
   "source": [
    "views_user = np.apply_along_axis(np.sum, 1, views)"
   ]
  },
  {
   "cell_type": "code",
   "execution_count": 61,
   "id": "6a4688ff-7adc-41d4-8dd4-209d4fd177f6",
   "metadata": {},
   "outputs": [],
   "source": [
    "ctr = np.mean(clicks_user / views_user)"
   ]
  },
  {
   "cell_type": "code",
   "execution_count": 62,
   "id": "2d302774-5c2a-48f0-a905-42b94b6688a6",
   "metadata": {},
   "outputs": [
    {
     "data": {
      "text/plain": [
       "np.float64(0.053078945894088896)"
      ]
     },
     "execution_count": 62,
     "metadata": {},
     "output_type": "execute_result"
    }
   ],
   "source": [
    "ctr"
   ]
  },
  {
   "cell_type": "code",
   "execution_count": 63,
   "id": "da0304bd-29ef-4ece-be84-2649cd574d38",
   "metadata": {},
   "outputs": [],
   "source": [
    "# remove the most active member"
   ]
  },
  {
   "cell_type": "code",
   "execution_count": 65,
   "id": "13206f28-3dd9-4b84-b225-b9f60b3b437b",
   "metadata": {},
   "outputs": [
    {
     "data": {
      "text/plain": [
       "np.int64(733)"
      ]
     },
     "execution_count": 65,
     "metadata": {},
     "output_type": "execute_result"
    }
   ],
   "source": [
    "np.argmax(clicks_user)"
   ]
  },
  {
   "cell_type": "code",
   "execution_count": 67,
   "id": "4e74d875-3c93-4cd2-a9e2-d9446b5e2c50",
   "metadata": {},
   "outputs": [],
   "source": [
    "clicks_user_new = np.delete(clicks_user, np.argmax(clicks_user))"
   ]
  },
  {
   "cell_type": "code",
   "execution_count": 68,
   "id": "7a5ef880-10c5-4c20-aa74-2407b612e1e9",
   "metadata": {},
   "outputs": [
    {
     "data": {
      "text/plain": [
       "(999,)"
      ]
     },
     "execution_count": 68,
     "metadata": {},
     "output_type": "execute_result"
    }
   ],
   "source": [
    "clicks_user_new.shape"
   ]
  },
  {
   "cell_type": "code",
   "execution_count": 69,
   "id": "3bdbbfff-b834-479a-bca8-ef3ef00b6e30",
   "metadata": {},
   "outputs": [],
   "source": [
    "views_user_new = np.delete(views_user, np.argmax(clicks_user))"
   ]
  },
  {
   "cell_type": "code",
   "execution_count": 71,
   "id": "cc4f49ec-1520-4ca1-98e3-24f53d316ba5",
   "metadata": {},
   "outputs": [
    {
     "data": {
      "text/plain": [
       "(999,)"
      ]
     },
     "execution_count": 71,
     "metadata": {},
     "output_type": "execute_result"
    }
   ],
   "source": [
    "views_user_new.shape"
   ]
  },
  {
   "cell_type": "code",
   "execution_count": 73,
   "id": "18645582-2d28-4bac-9815-c68b9380e66e",
   "metadata": {},
   "outputs": [],
   "source": [
    "ctr2 = np.mean(clicks_user_new / views_user_new)"
   ]
  },
  {
   "cell_type": "code",
   "execution_count": 74,
   "id": "53366839-9c66-4e9f-b18b-fa3bb3485d00",
   "metadata": {},
   "outputs": [
    {
     "data": {
      "text/plain": [
       "np.float64(0.05298410391104342)"
      ]
     },
     "execution_count": 74,
     "metadata": {},
     "output_type": "execute_result"
    }
   ],
   "source": [
    "ctr2"
   ]
  },
  {
   "cell_type": "code",
   "execution_count": 77,
   "id": "2c5b4b2e-c975-42df-a220-0e86b2e7a2e0",
   "metadata": {},
   "outputs": [
    {
     "data": {
      "text/plain": [
       "np.float64(0.05298410391104342)"
      ]
     },
     "execution_count": 77,
     "metadata": {},
     "output_type": "execute_result"
    }
   ],
   "source": [
    "(clicks_user_new / views_user_new).mean()"
   ]
  },
  {
   "cell_type": "code",
   "execution_count": null,
   "id": "ba037aa6-cb82-4e82-8fa9-7bed404f8dc0",
   "metadata": {},
   "outputs": [],
   "source": []
  },
  {
   "cell_type": "code",
   "execution_count": 79,
   "id": "3d35f332-0b20-4a7b-a13a-908f05e397b6",
   "metadata": {},
   "outputs": [
    {
     "data": {
      "text/plain": [
       "np.int64(335)"
      ]
     },
     "execution_count": 79,
     "metadata": {},
     "output_type": "execute_result"
    }
   ],
   "source": [
    "np.argmax(clicks_user / views_user)"
   ]
  },
  {
   "cell_type": "code",
   "execution_count": 80,
   "id": "bc704350-8e2d-4f46-bfd4-f1248fcab53e",
   "metadata": {},
   "outputs": [],
   "source": [
    "clicks_views = np.delete(clicks_user / views_user, np.argmax(clicks_user / views_user))"
   ]
  },
  {
   "cell_type": "code",
   "execution_count": 81,
   "id": "7ee08adf-354f-4c6b-ba96-c642d02e956c",
   "metadata": {},
   "outputs": [
    {
     "data": {
      "text/plain": [
       "(999,)"
      ]
     },
     "execution_count": 81,
     "metadata": {},
     "output_type": "execute_result"
    }
   ],
   "source": [
    "clicks_views.shape"
   ]
  },
  {
   "cell_type": "code",
   "execution_count": 82,
   "id": "b085e23b-e5e4-4a5f-a85a-fb7182b8507f",
   "metadata": {},
   "outputs": [],
   "source": [
    "ctr3 = np.mean(clicks_views)"
   ]
  },
  {
   "cell_type": "code",
   "execution_count": 83,
   "id": "9972498e-4269-4de0-a90e-cde6b24d3681",
   "metadata": {},
   "outputs": [
    {
     "data": {
      "text/plain": [
       "np.float64(0.05289374440039406)"
      ]
     },
     "execution_count": 83,
     "metadata": {},
     "output_type": "execute_result"
    }
   ],
   "source": [
    "ctr3"
   ]
  },
  {
   "cell_type": "code",
   "execution_count": null,
   "id": "dd0e8c55-1876-48b3-afb3-e1105e5810a0",
   "metadata": {},
   "outputs": [],
   "source": []
  },
  {
   "cell_type": "code",
   "execution_count": 84,
   "id": "d9173565-14eb-4451-80ac-960318a42d5f",
   "metadata": {},
   "outputs": [
    {
     "data": {
      "text/plain": [
       "np.int64(149)"
      ]
     },
     "execution_count": 84,
     "metadata": {},
     "output_type": "execute_result"
    }
   ],
   "source": [
    "np.argmax(views_user)"
   ]
  },
  {
   "cell_type": "code",
   "execution_count": 85,
   "id": "cb6aafdf-c545-4dd4-8002-7ee84bc88fd8",
   "metadata": {},
   "outputs": [],
   "source": [
    "clicks_user_new2 = np.delete(clicks_user, np.argmax(views_user))"
   ]
  },
  {
   "cell_type": "code",
   "execution_count": 87,
   "id": "a68ad133-545d-4313-a05c-169ab346428e",
   "metadata": {},
   "outputs": [
    {
     "data": {
      "text/plain": [
       "(999,)"
      ]
     },
     "execution_count": 87,
     "metadata": {},
     "output_type": "execute_result"
    }
   ],
   "source": [
    "clicks_user_new2.shape"
   ]
  },
  {
   "cell_type": "code",
   "execution_count": 88,
   "id": "f8efb12a-8a6a-40a2-b75b-c1c9c9a7cbe1",
   "metadata": {},
   "outputs": [
    {
     "data": {
      "text/plain": [
       "(1000,)"
      ]
     },
     "execution_count": 88,
     "metadata": {},
     "output_type": "execute_result"
    }
   ],
   "source": [
    "clicks_user.shape"
   ]
  },
  {
   "cell_type": "code",
   "execution_count": 89,
   "id": "3ba5ed77-f97c-48ec-84b8-c6f8707ce606",
   "metadata": {},
   "outputs": [],
   "source": [
    "view_user_new2 = np.delete(views_user, np.argmax(views_user))"
   ]
  },
  {
   "cell_type": "code",
   "execution_count": 92,
   "id": "9a47fe50-0c7e-4961-9fbe-cd99528ffeee",
   "metadata": {},
   "outputs": [
    {
     "data": {
      "text/plain": [
       "np.float64(0.05291698097095117)"
      ]
     },
     "execution_count": 92,
     "metadata": {},
     "output_type": "execute_result"
    }
   ],
   "source": [
    "np.sum(clicks_user_new2) / np.sum(view_user_new2)"
   ]
  },
  {
   "cell_type": "code",
   "execution_count": null,
   "id": "4d728438-3808-41f5-8bf9-1e5a01958842",
   "metadata": {},
   "outputs": [],
   "source": []
  },
  {
   "cell_type": "code",
   "execution_count": 96,
   "id": "6c61da6a-bfc8-4acf-a586-3489adf00539",
   "metadata": {},
   "outputs": [],
   "source": [
    "group_A = assign == 'False'"
   ]
  },
  {
   "cell_type": "code",
   "execution_count": 97,
   "id": "931d9ff7-87cb-468f-9c0b-690c808e2444",
   "metadata": {},
   "outputs": [],
   "source": [
    "group_B = assign == 'True'"
   ]
  },
  {
   "cell_type": "code",
   "execution_count": 98,
   "id": "a22e0885-8136-4b83-a2df-64bd249edc84",
   "metadata": {},
   "outputs": [
    {
     "data": {
      "text/plain": [
       "np.float64(0.05014607835792943)"
      ]
     },
     "execution_count": 98,
     "metadata": {},
     "output_type": "execute_result"
    }
   ],
   "source": [
    "sum(clicks_user[group_A]) / sum(views_user[group_A])"
   ]
  },
  {
   "cell_type": "code",
   "execution_count": 99,
   "id": "9560a265-577b-4306-bbf7-235927702d82",
   "metadata": {},
   "outputs": [
    {
     "data": {
      "text/plain": [
       "np.float64(0.10317675807765408)"
      ]
     },
     "execution_count": 99,
     "metadata": {},
     "output_type": "execute_result"
    }
   ],
   "source": [
    "sum(clicks_user[group_B]) / sum(views_user[group_B])"
   ]
  },
  {
   "cell_type": "code",
   "execution_count": null,
   "id": "f80c2567-1752-4bc5-8032-e3ab5bb07994",
   "metadata": {},
   "outputs": [],
   "source": []
  }
 ],
 "metadata": {
  "kernelspec": {
   "display_name": "Python 3 (ipykernel)",
   "language": "python",
   "name": "python3"
  },
  "language_info": {
   "codemirror_mode": {
    "name": "ipython",
    "version": 3
   },
   "file_extension": ".py",
   "mimetype": "text/x-python",
   "name": "python",
   "nbconvert_exporter": "python",
   "pygments_lexer": "ipython3",
   "version": "3.11.1"
  }
 },
 "nbformat": 4,
 "nbformat_minor": 5
}
