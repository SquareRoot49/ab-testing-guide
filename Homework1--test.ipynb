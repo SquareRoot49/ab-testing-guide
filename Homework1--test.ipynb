{
 "cells": [
  {
   "cell_type": "code",
   "execution_count": 9,
   "id": "addd50b0-4fe6-475d-b52c-a5fcca2ea5c1",
   "metadata": {},
   "outputs": [],
   "source": [
    "import numpy def mean1(x):\n",
    "    # TODO write your code here\n",
    "    sum_x = sum(x)\n",
    "    n_x = len(x)\n",
    "    return sum_x/n_xas np"
   ]
  },
  {
   "cell_type": "code",
   "execution_count": 10,
   "id": "5aa0f750-4a8b-47ce-8eb8-4a1b7c5b9163",
   "metadata": {},
   "outputs": [],
   "source": [
    "def mean3(x):\n",
    "    # TODO write your code here\n",
    "    import numpy as np\n",
    "    x_array = np.array(x)\n",
    "    mean = x_array.mean()\n",
    "    return mean"
   ]
  },
  {
   "cell_type": "code",
   "execution_count": 11,
   "id": "e69e0ed4-8493-43a5-a26a-1e4417358b51",
   "metadata": {},
   "outputs": [
    {
     "data": {
      "text/plain": [
       "np.float64(2.0)"
      ]
     },
     "execution_count": 11,
     "metadata": {},
     "output_type": "execute_result"
    }
   ],
   "source": [
    "mean3([1,2,3])"
   ]
  },
  {
   "cell_type": "code",
   "execution_count": 12,
   "id": "25e69c51-be31-42c7-9091-ccfca55549ad",
   "metadata": {},
   "outputs": [],
   "source": [
    "def mean1(x):\n",
    "    # TODO write your code here\n",
    "    sum_x = sum(x)\n",
    "    n_x = len(x)\n",
    "    return sum_x/n_x"
   ]
  },
  {
   "cell_type": "code",
   "execution_count": 14,
   "id": "46039c4d-ec8a-4cfa-bd1f-74165e48f271",
   "metadata": {},
   "outputs": [],
   "source": [
    "def std(x):\n",
    "    # TODO write your code here\n",
    "    mean_x = mean1(x)\n",
    "    sum_b = 0\n",
    "    n_x = len(x)\n",
    "    for i in x:\n",
    "        sum_b = sum_b + (i - mean_x)**2\n",
    "    sd_x = (sum_b/n_x)**(0.5)\n",
    "    return sd_x"
   ]
  },
  {
   "cell_type": "code",
   "execution_count": 15,
   "id": "f1d8d836-f321-4bd5-8f82-b2ddece9e4dd",
   "metadata": {},
   "outputs": [
    {
     "data": {
      "text/plain": [
       "0.816496580927726"
      ]
     },
     "execution_count": 15,
     "metadata": {},
     "output_type": "execute_result"
    }
   ],
   "source": [
    "std([1,2,3])"
   ]
  },
  {
   "cell_type": "code",
   "execution_count": 16,
   "id": "7d7e2dc7-0df4-4765-b366-9e977e97721e",
   "metadata": {},
   "outputs": [],
   "source": [
    "def corr(x, y):\n",
    "    # TODO write your code here\n",
    "    n_x = len(x)\n",
    "    sum_a = 0\n",
    "    mean_x = mean1(x)\n",
    "    mean_y = mean1(y)\n",
    "    for i,j in zip(x,y):\n",
    "        sum_a = (i-mean_x)*(j-mean_y)\n",
    "    sd_x = std(x)\n",
    "    sd_y = std(y)\n",
    "    corr_xy = sum_a/(n_x*sd_x*sd_y)\n",
    "    return corr_xy"
   ]
  },
  {
   "cell_type": "code",
   "execution_count": 17,
   "id": "5e0afede-b3f7-4d4f-90f6-e4eeb33d79de",
   "metadata": {},
   "outputs": [
    {
     "data": {
      "text/plain": [
       "-0.5000000000000001"
      ]
     },
     "execution_count": 17,
     "metadata": {},
     "output_type": "execute_result"
    }
   ],
   "source": [
    "corr([1,2,3], [3,2,1])"
   ]
  },
  {
   "cell_type": "code",
   "execution_count": 29,
   "id": "fcd2dda5-9670-4f16-bf30-f7a6a3ce0405",
   "metadata": {},
   "outputs": [],
   "source": [
    "text = 'hi, my names is liu xiaote!'"
   ]
  },
  {
   "cell_type": "code",
   "execution_count": 32,
   "id": "c93d2e6c-2a7e-4f59-9e91-c5093bf2e415",
   "metadata": {},
   "outputs": [],
   "source": [
    "text_new = text.replace(',', ' ')"
   ]
  },
  {
   "cell_type": "code",
   "execution_count": 33,
   "id": "58a7f7e5-b5b9-480d-9a83-086178740427",
   "metadata": {},
   "outputs": [
    {
     "data": {
      "text/plain": [
       "'hi  my names is liu xiaote!'"
      ]
     },
     "execution_count": 33,
     "metadata": {},
     "output_type": "execute_result"
    }
   ],
   "source": [
    "text_new"
   ]
  },
  {
   "cell_type": "code",
   "execution_count": 30,
   "id": "7dcb3e17-44be-4ff7-a5e2-e6711240a143",
   "metadata": {},
   "outputs": [],
   "source": [
    "text_new = str.split(text)"
   ]
  },
  {
   "cell_type": "code",
   "execution_count": 31,
   "id": "bea7e655-d847-482e-b2fd-9bb54f4b2b2a",
   "metadata": {},
   "outputs": [
    {
     "data": {
      "text/plain": [
       "['hi,', 'my', 'names', 'is', 'liu', 'xiaote!']"
      ]
     },
     "execution_count": 31,
     "metadata": {},
     "output_type": "execute_result"
    }
   ],
   "source": [
    "text_new"
   ]
  },
  {
   "cell_type": "code",
   "execution_count": 26,
   "id": "d7869dac-f26d-4ed2-9515-2c46278c1330",
   "metadata": {},
   "outputs": [],
   "source": [
    "def naive_tokenizer(text):\n",
    "    text_list = str.split(text)\n",
    "    text_list_mid = text_list.replace(',',' ')\n",
    "    text_list_new = text_list_mid.replace('.',' ')\n",
    "    words = text_list_new.split(' ')\n",
    "    for i in words:\n",
    "        list = []\n",
    "        list = list.append(i)\n",
    "    return list"
   ]
  },
  {
   "cell_type": "code",
   "execution_count": 27,
   "id": "81ce218e-243a-431a-9e89-fb1e37ca6b06",
   "metadata": {},
   "outputs": [
    {
     "ename": "AttributeError",
     "evalue": "'list' object has no attribute 'replace'",
     "output_type": "error",
     "traceback": [
      "\u001b[0;31m---------------------------------------------------------------------------\u001b[0m",
      "\u001b[0;31mAttributeError\u001b[0m                            Traceback (most recent call last)",
      "Cell \u001b[0;32mIn[27], line 1\u001b[0m\n\u001b[0;32m----> 1\u001b[0m \u001b[43mnaive_tokenizer\u001b[49m\u001b[43m(\u001b[49m\u001b[38;5;124;43m'\u001b[39;49m\u001b[38;5;124;43mhello, world!\u001b[39;49m\u001b[38;5;124;43m'\u001b[39;49m\u001b[43m)\u001b[49m\n",
      "Cell \u001b[0;32mIn[26], line 3\u001b[0m, in \u001b[0;36mnaive_tokenizer\u001b[0;34m(text)\u001b[0m\n\u001b[1;32m      1\u001b[0m \u001b[38;5;28;01mdef\u001b[39;00m \u001b[38;5;21mnaive_tokenizer\u001b[39m(text):\n\u001b[1;32m      2\u001b[0m     text_list \u001b[38;5;241m=\u001b[39m \u001b[38;5;28mstr\u001b[39m\u001b[38;5;241m.\u001b[39msplit(text)\n\u001b[0;32m----> 3\u001b[0m     text_list_mid \u001b[38;5;241m=\u001b[39m \u001b[43mtext_list\u001b[49m\u001b[38;5;241;43m.\u001b[39;49m\u001b[43mreplace\u001b[49m(\u001b[38;5;124m'\u001b[39m\u001b[38;5;124m,\u001b[39m\u001b[38;5;124m'\u001b[39m,\u001b[38;5;124m'\u001b[39m\u001b[38;5;124m \u001b[39m\u001b[38;5;124m'\u001b[39m)\n\u001b[1;32m      4\u001b[0m     text_list_new \u001b[38;5;241m=\u001b[39m text_list_mid\u001b[38;5;241m.\u001b[39mreplace(\u001b[38;5;124m'\u001b[39m\u001b[38;5;124m.\u001b[39m\u001b[38;5;124m'\u001b[39m,\u001b[38;5;124m'\u001b[39m\u001b[38;5;124m \u001b[39m\u001b[38;5;124m'\u001b[39m)\n\u001b[1;32m      5\u001b[0m     words \u001b[38;5;241m=\u001b[39m text_list_new\u001b[38;5;241m.\u001b[39msplit(\u001b[38;5;124m'\u001b[39m\u001b[38;5;124m \u001b[39m\u001b[38;5;124m'\u001b[39m)\n",
      "\u001b[0;31mAttributeError\u001b[0m: 'list' object has no attribute 'replace'"
     ]
    }
   ],
   "source": [
    "naive_tokenizer('hello, world!')"
   ]
  },
  {
   "cell_type": "code",
   "execution_count": 25,
   "id": "00b08a73-220d-4acb-99b6-d270a4797a72",
   "metadata": {},
   "outputs": [
    {
     "name": "stdout",
     "output_type": "stream",
     "text": [
      "None\n"
     ]
    }
   ],
   "source": [
    "print(naive_tokenizer('hello, world!'))"
   ]
  },
  {
   "cell_type": "code",
   "execution_count": 36,
   "id": "6b6b445d-3040-48a7-9737-030a0f991ff3",
   "metadata": {},
   "outputs": [],
   "source": [
    "def naive_tokenizer(text):\n",
    "    text_new = text.replace(',', ' ').replace('.', ' ')\n",
    "    text_l = str.split(text_new)\n",
    "    for i in text_l:\n",
    "        list = []\n",
    "        list = list.append(i)\n",
    "    return list"
   ]
  },
  {
   "cell_type": "code",
   "execution_count": 37,
   "id": "ac3638c1-a431-4368-8bc9-5cb65ae88625",
   "metadata": {},
   "outputs": [],
   "source": [
    "naive_tokenizer('hello, my name is xiaote liu!')"
   ]
  },
  {
   "cell_type": "code",
   "execution_count": 38,
   "id": "04d45288-1168-44b6-8cc7-3be876064fcc",
   "metadata": {},
   "outputs": [
    {
     "name": "stdout",
     "output_type": "stream",
     "text": [
      "None\n"
     ]
    }
   ],
   "source": [
    "print(naive_tokenizer('hello, my name is xiaote liu!'))"
   ]
  },
  {
   "cell_type": "code",
   "execution_count": 39,
   "id": "5773cc43-2732-4ada-b377-3e632e9776d6",
   "metadata": {},
   "outputs": [],
   "source": [
    "def naive_tokenizer(text):\n",
    "    text_new = text.replace(',', ' ').replace('.', ' ')\n",
    "   \n",
    "    return text_new"
   ]
  },
  {
   "cell_type": "code",
   "execution_count": 40,
   "id": "285e936a-7e71-4ec5-842d-ab15adf3bb07",
   "metadata": {},
   "outputs": [
    {
     "data": {
      "text/plain": [
       "'hello  my name is xiaote liu!'"
      ]
     },
     "execution_count": 40,
     "metadata": {},
     "output_type": "execute_result"
    }
   ],
   "source": [
    "naive_tokenizer('hello, my name is xiaote liu!')"
   ]
  },
  {
   "cell_type": "code",
   "execution_count": 45,
   "id": "63790179-efa9-4bdb-bc71-5c2eb2cafa44",
   "metadata": {},
   "outputs": [],
   "source": [
    "def naive_tokenizer(text):\n",
    "    text_new = text.replace(',', ' ').replace('.', ' ')\n",
    "    text_l = text_new.split()\n",
    "    return text_l"
   ]
  },
  {
   "cell_type": "code",
   "execution_count": 46,
   "id": "27312246-1cf9-417d-90f3-6fc91a9b10cf",
   "metadata": {},
   "outputs": [
    {
     "data": {
      "text/plain": [
       "['hello', 'my', 'name', 'is', 'xiaote', 'liu!']"
      ]
     },
     "execution_count": 46,
     "metadata": {},
     "output_type": "execute_result"
    }
   ],
   "source": [
    "naive_tokenizer('hello, my name is xiaote liu!')"
   ]
  },
  {
   "cell_type": "code",
   "execution_count": 47,
   "id": "8c515fa1-6e65-4d30-a113-4aa3c9264940",
   "metadata": {},
   "outputs": [
    {
     "data": {
      "text/plain": [
       "['Statistical', 'Computing', 'and', 'Introduction', 'to', 'Data', 'Science']"
      ]
     },
     "execution_count": 47,
     "metadata": {},
     "output_type": "execute_result"
    }
   ],
   "source": [
    "naive_tokenizer('Statistical Computing and Introduction to Data Science')"
   ]
  },
  {
   "cell_type": "code",
   "execution_count": 60,
   "id": "a8f68900-d8e7-4ab9-9ad4-908f9cbcd95e",
   "metadata": {},
   "outputs": [],
   "source": [
    "def corr(x, y):\n",
    "    # TODO write your code here\n",
    "    n_x = len(x)\n",
    "    sum_a = 0\n",
    "    mean_x = mean1(x)\n",
    "    mean_y = mean1(y)\n",
    "    sum_a = sum([x[i]*y[i] for i in range(n_x)])\n",
    "    sd_x = std(x)\n",
    "    sd_y = std(y)\n",
    "    if sd_x*sd_y == 0:\n",
    "        return 0\n",
    "    corr_xy = sum_a/(n_x*sd_x*sd_y)\n",
    "    return corr_xy"
   ]
  },
  {
   "cell_type": "code",
   "execution_count": 61,
   "id": "f2e29204-b8ea-4f9a-b324-9ac38c1137ef",
   "metadata": {},
   "outputs": [
    {
     "data": {
      "text/plain": [
       "5.000000000000001"
      ]
     },
     "execution_count": 61,
     "metadata": {},
     "output_type": "execute_result"
    }
   ],
   "source": []
  },
  {
   "cell_type": "code",
   "execution_count": 64,
   "id": "de0c6290-90c2-469e-829a-d43516428896",
   "metadata": {},
   "outputs": [],
   "source": [
    "def corr(x, y):\n",
    "    # TODO write your code here\n",
    "    n_x = len(x)\n",
    "    sum_a = 0\n",
    "    mean_x = mean1(x)\n",
    "    mean_y = mean1(y)\n",
    "    for i in range(n_x):\n",
    "        sum_a = sum_a+x[i]*y[i]\n",
    "    sd_x = std(x)\n",
    "    sd_y = std(y)\n",
    "    if sd_x*sd_y == 0:\n",
    "        return 0\n",
    "    corr_xy = sum_a/(n_x*sd_x*sd_y)\n",
    "    return corr_xy"
   ]
  },
  {
   "cell_type": "code",
   "execution_count": 65,
   "id": "264b246a-73d6-4c23-bd63-5f4b8c07f76f",
   "metadata": {},
   "outputs": [
    {
     "data": {
      "text/plain": [
       "5.000000000000001"
      ]
     },
     "execution_count": 65,
     "metadata": {},
     "output_type": "execute_result"
    }
   ],
   "source": [
    "corr([1,2,3], [3,2,1])"
   ]
  },
  {
   "cell_type": "code",
   "execution_count": 66,
   "id": "a56d456d-94e3-4c2c-80f7-174193792a50",
   "metadata": {},
   "outputs": [],
   "source": [
    "x = [0, 5, 1, 2, 6, 9, 5, 3, 6, 9, 6, 8, 8, 2, 3, 0, 7, 2, 1, 6]"
   ]
  },
  {
   "cell_type": "code",
   "execution_count": 67,
   "id": "fd0899ed-3325-474e-af0f-aeee73ce0613",
   "metadata": {},
   "outputs": [],
   "source": [
    "med_x = np.median(x)"
   ]
  },
  {
   "cell_type": "code",
   "execution_count": 68,
   "id": "9c949dc9-4417-4cab-a681-ecd65dab35ee",
   "metadata": {},
   "outputs": [
    {
     "data": {
      "text/plain": [
       "array([-5.,  0., -4., -3.,  1.,  4.,  0., -2.,  1.,  4.,  1.,  3.,  3.,\n",
       "       -3., -2., -5.,  2., -3., -4.,  1.])"
      ]
     },
     "execution_count": 68,
     "metadata": {},
     "output_type": "execute_result"
    }
   ],
   "source": [
    "x - np.median(x)"
   ]
  },
  {
   "cell_type": "code",
   "execution_count": 71,
   "id": "b4357274-2e80-46fc-847e-0e11d538d601",
   "metadata": {},
   "outputs": [
    {
     "data": {
      "text/plain": [
       "array([5., 0., 4., 3., 1., 4., 0., 2., 1., 4., 1., 3., 3., 3., 2., 5., 2.,\n",
       "       3., 4., 1.])"
      ]
     },
     "execution_count": 71,
     "metadata": {},
     "output_type": "execute_result"
    }
   ],
   "source": [
    "abs(x - med_x)"
   ]
  },
  {
   "cell_type": "code",
   "execution_count": 70,
   "id": "09a0bc49-4a2e-4d91-83a3-78acaf62a2dd",
   "metadata": {},
   "outputs": [],
   "source": [
    "abs_diff_lc = abs(x - med_x)"
   ]
  },
  {
   "cell_type": "code",
   "execution_count": 73,
   "id": "db8e195f-4629-42df-98de-96e908e10405",
   "metadata": {},
   "outputs": [
    {
     "data": {
      "text/plain": [
       "array([5., 0., 4., 3., 1., 4., 0., 2., 1., 4., 1., 3., 3., 3., 2., 5., 2.,\n",
       "       3., 4., 1.])"
      ]
     },
     "execution_count": 73,
     "metadata": {},
     "output_type": "execute_result"
    }
   ],
   "source": [
    "abs_diff_lc"
   ]
  },
  {
   "cell_type": "code",
   "execution_count": 74,
   "id": "af63cd00-00ad-4036-be36-d6570d9a68e2",
   "metadata": {},
   "outputs": [
    {
     "name": "stdout",
     "output_type": "stream",
     "text": [
      "[1 2 3 4]\n"
     ]
    }
   ],
   "source": [
    "\n",
    "import numpy as np\n",
    " \n",
    "# 假设有两个一维数组\n",
    "array1 = np.array([1, 2])\n",
    "array2 = np.array([3, 4])\n",
    " \n",
    "# 合并为一维数组\n",
    "result = np.concatenate((array1, array2))\n",
    " \n",
    "print(result)"
   ]
  },
  {
   "cell_type": "code",
   "execution_count": 75,
   "id": "779b3f74-73d7-4c35-8112-6ac20149464a",
   "metadata": {},
   "outputs": [
    {
     "name": "stdout",
     "output_type": "stream",
     "text": [
      "[1 2 3 4]\n"
     ]
    }
   ],
   "source": [
    "\n",
    "import numpy as np\n",
    " \n",
    "# 假设有两个一维数组\n",
    "array1 = np.array([1, 2])\n",
    "array2 = np.array([3, 4])\n",
    " \n",
    "# 使用append合并数组\n",
    "result = np.append(array1, array2)\n",
    " \n",
    "print(result)"
   ]
  },
  {
   "cell_type": "code",
   "execution_count": 76,
   "id": "ba119878-91cb-4854-802a-3cf9ab028f97",
   "metadata": {},
   "outputs": [
    {
     "name": "stdout",
     "output_type": "stream",
     "text": [
      "[[1 2 5 6]\n",
      " [3 4 7 8]]\n"
     ]
    }
   ],
   "source": [
    "\n",
    "import numpy as np\n",
    " \n",
    "# 假设有两个形状相同的二维数组\n",
    "array1 = np.array([[1, 2], [3, 4]])\n",
    "array2 = np.array([[5, 6], [7, 8]])\n",
    " \n",
    "# 沿着第一个轴合并（沿列合并）\n",
    "result = np.concatenate((array1, array2), axis=1)\n",
    " \n",
    "print(result)"
   ]
  },
  {
   "cell_type": "code",
   "execution_count": 77,
   "id": "9ab267d4-4798-4e60-a239-591e129ac609",
   "metadata": {},
   "outputs": [
    {
     "data": {
      "text/plain": [
       "41"
      ]
     },
     "execution_count": 77,
     "metadata": {},
     "output_type": "execute_result"
    }
   ],
   "source": [
    "5 + 4 * 3 ** 2"
   ]
  },
  {
   "cell_type": "code",
   "execution_count": 78,
   "id": "ba88df90-7780-492c-ab84-e1bd6c83b308",
   "metadata": {},
   "outputs": [
    {
     "data": {
      "text/plain": [
       "289"
      ]
     },
     "execution_count": 78,
     "metadata": {},
     "output_type": "execute_result"
    }
   ],
   "source": [
    "(5 + 4 * 3) ** 2"
   ]
  },
  {
   "cell_type": "code",
   "execution_count": 79,
   "id": "6b5310bc-bc88-4b53-a7dc-02db34c24836",
   "metadata": {},
   "outputs": [],
   "source": [
    "_ = 1"
   ]
  },
  {
   "cell_type": "code",
   "execution_count": 80,
   "id": "c56578c8-5704-45fe-abbc-7a5a8d09b50a",
   "metadata": {},
   "outputs": [
    {
     "name": "stdout",
     "output_type": "stream",
     "text": [
      "1\n"
     ]
    }
   ],
   "source": [
    "print(_)"
   ]
  },
  {
   "cell_type": "code",
   "execution_count": 81,
   "id": "a1456a39-0452-49d5-9674-e2a404e37c9f",
   "metadata": {},
   "outputs": [
    {
     "ename": "SyntaxError",
     "evalue": "invalid decimal literal (3549220644.py, line 1)",
     "output_type": "error",
     "traceback": [
      "\u001b[0;36m  Cell \u001b[0;32mIn[81], line 1\u001b[0;36m\u001b[0m\n\u001b[0;31m    4hourse = 1\u001b[0m\n\u001b[0m    ^\u001b[0m\n\u001b[0;31mSyntaxError\u001b[0m\u001b[0;31m:\u001b[0m invalid decimal literal\n"
     ]
    }
   ],
   "source": [
    "4hourse = 1"
   ]
  },
  {
   "cell_type": "code",
   "execution_count": 82,
   "id": "39537873-21e8-4770-8802-01c161ceb36f",
   "metadata": {},
   "outputs": [],
   "source": [
    "CaptainSparkle = 1"
   ]
  },
  {
   "cell_type": "code",
   "execution_count": 83,
   "id": "5bd75d68-147a-4928-8c9e-6089fc135cff",
   "metadata": {},
   "outputs": [
    {
     "ename": "SyntaxError",
     "evalue": "invalid syntax (2416945653.py, line 1)",
     "output_type": "error",
     "traceback": [
      "\u001b[0;36m  Cell \u001b[0;32mIn[83], line 1\u001b[0;36m\u001b[0m\n\u001b[0;31m    not = 1\u001b[0m\n\u001b[0m        ^\u001b[0m\n\u001b[0;31mSyntaxError\u001b[0m\u001b[0;31m:\u001b[0m invalid syntax\n"
     ]
    }
   ],
   "source": [
    "not = 1"
   ]
  },
  {
   "cell_type": "code",
   "execution_count": 84,
   "id": "74454926-0ce4-4f74-b4d0-36f669d1d5f9",
   "metadata": {},
   "outputs": [],
   "source": [
    "awesome_sauce = 1"
   ]
  },
  {
   "cell_type": "code",
   "execution_count": 85,
   "id": "b4ad1ae7-dfe9-4bbd-ba33-cdfbac4cee6b",
   "metadata": {},
   "outputs": [],
   "source": [
    "statement = not False and True"
   ]
  },
  {
   "cell_type": "code",
   "execution_count": 86,
   "id": "0baa40b9-136e-48b3-9748-6e7360e4c036",
   "metadata": {},
   "outputs": [
    {
     "data": {
      "text/plain": [
       "True"
      ]
     },
     "execution_count": 86,
     "metadata": {},
     "output_type": "execute_result"
    }
   ],
   "source": [
    "bool(statement)"
   ]
  },
  {
   "cell_type": "code",
   "execution_count": 87,
   "id": "adc89000-4a63-4417-9d6b-b6eb153c84aa",
   "metadata": {},
   "outputs": [],
   "source": [
    "statement = not (False and True)"
   ]
  },
  {
   "cell_type": "code",
   "execution_count": 88,
   "id": "35713555-d660-458a-b4c7-3a26e0d50be7",
   "metadata": {},
   "outputs": [
    {
     "data": {
      "text/plain": [
       "True"
      ]
     },
     "execution_count": 88,
     "metadata": {},
     "output_type": "execute_result"
    }
   ],
   "source": [
    "bool(statement)"
   ]
  },
  {
   "cell_type": "code",
   "execution_count": 89,
   "id": "13051852-d83a-4518-9892-c78df2ad48cc",
   "metadata": {},
   "outputs": [],
   "source": [
    "statement = not (False or True)"
   ]
  },
  {
   "cell_type": "code",
   "execution_count": 90,
   "id": "31c54393-36fd-450f-a557-304b7dd9704a",
   "metadata": {},
   "outputs": [
    {
     "data": {
      "text/plain": [
       "False"
      ]
     },
     "execution_count": 90,
     "metadata": {},
     "output_type": "execute_result"
    }
   ],
   "source": [
    "bool(statement)"
   ]
  },
  {
   "cell_type": "code",
   "execution_count": 91,
   "id": "d6c21266-0ceb-4872-a975-5ffd4c6f225d",
   "metadata": {},
   "outputs": [],
   "source": [
    "statement = False or True"
   ]
  },
  {
   "cell_type": "code",
   "execution_count": 92,
   "id": "b526cc69-7aee-46b6-9226-234e7c1516c9",
   "metadata": {},
   "outputs": [
    {
     "data": {
      "text/plain": [
       "True"
      ]
     },
     "execution_count": 92,
     "metadata": {},
     "output_type": "execute_result"
    }
   ],
   "source": [
    "bool(statement)"
   ]
  },
  {
   "cell_type": "code",
   "execution_count": 93,
   "id": "91f77ede-c7cf-412b-92d2-c9b965b8ffa8",
   "metadata": {},
   "outputs": [],
   "source": [
    "statement = 1 < 2 / 2"
   ]
  },
  {
   "cell_type": "code",
   "execution_count": 94,
   "id": "4d12d858-2fa1-4112-85a0-adff644adc9f",
   "metadata": {},
   "outputs": [
    {
     "data": {
      "text/plain": [
       "False"
      ]
     },
     "execution_count": 94,
     "metadata": {},
     "output_type": "execute_result"
    }
   ],
   "source": [
    "bool(statement)"
   ]
  },
  {
   "cell_type": "code",
   "execution_count": 95,
   "id": "8e4f9b2f-4fed-45b8-9d45-95642cfcc06c",
   "metadata": {},
   "outputs": [],
   "source": [
    "statement = 1 <= 2 / 2"
   ]
  },
  {
   "cell_type": "code",
   "execution_count": 96,
   "id": "1344218c-1012-4949-a631-8de7cc40309e",
   "metadata": {},
   "outputs": [
    {
     "data": {
      "text/plain": [
       "True"
      ]
     },
     "execution_count": 96,
     "metadata": {},
     "output_type": "execute_result"
    }
   ],
   "source": [
    "bool(statement)"
   ]
  },
  {
   "cell_type": "code",
   "execution_count": 97,
   "id": "859b722c-ffe1-4691-82e4-d80eeae586a3",
   "metadata": {},
   "outputs": [],
   "source": [
    "statement = True * True"
   ]
  },
  {
   "cell_type": "code",
   "execution_count": 98,
   "id": "b7cf21d6-a6c6-4e2d-bd50-10903c54ff93",
   "metadata": {},
   "outputs": [
    {
     "data": {
      "text/plain": [
       "True"
      ]
     },
     "execution_count": 98,
     "metadata": {},
     "output_type": "execute_result"
    }
   ],
   "source": [
    "bool(statement)"
   ]
  },
  {
   "cell_type": "code",
   "execution_count": 99,
   "id": "df405db5-b458-45bf-82bf-abd68455b13f",
   "metadata": {},
   "outputs": [],
   "source": [
    "statement = True * False"
   ]
  },
  {
   "cell_type": "code",
   "execution_count": 100,
   "id": "123c3440-915e-46c3-a302-7578a03cee43",
   "metadata": {},
   "outputs": [
    {
     "data": {
      "text/plain": [
       "False"
      ]
     },
     "execution_count": 100,
     "metadata": {},
     "output_type": "execute_result"
    }
   ],
   "source": [
    "bool(statement)"
   ]
  },
  {
   "cell_type": "code",
   "execution_count": 107,
   "id": "48e5e809-8f2d-4e3a-bea9-71d7a9edd11c",
   "metadata": {},
   "outputs": [],
   "source": [
    "statement = False + False"
   ]
  },
  {
   "cell_type": "code",
   "execution_count": 108,
   "id": "7a6ad37e-8f95-471f-8f28-b0116b1678a3",
   "metadata": {},
   "outputs": [
    {
     "data": {
      "text/plain": [
       "False"
      ]
     },
     "execution_count": 108,
     "metadata": {},
     "output_type": "execute_result"
    }
   ],
   "source": [
    "bool(statement)"
   ]
  },
  {
   "cell_type": "code",
   "execution_count": 103,
   "id": "868909b4-2fc3-40a1-b725-dad9bffac0e2",
   "metadata": {},
   "outputs": [],
   "source": [
    "statement = True ** False"
   ]
  },
  {
   "cell_type": "code",
   "execution_count": 104,
   "id": "9a59a0aa-3d59-4f9e-8524-66b355d1420d",
   "metadata": {},
   "outputs": [
    {
     "data": {
      "text/plain": [
       "True"
      ]
     },
     "execution_count": 104,
     "metadata": {},
     "output_type": "execute_result"
    }
   ],
   "source": [
    "bool(statement)"
   ]
  },
  {
   "cell_type": "code",
   "execution_count": 105,
   "id": "63af6a39-4d76-4dd3-a42f-a267eb9c65f3",
   "metadata": {},
   "outputs": [],
   "source": [
    "statement = False ** False"
   ]
  },
  {
   "cell_type": "code",
   "execution_count": 106,
   "id": "cb83c031-ad59-41fc-9139-a4794b481eab",
   "metadata": {},
   "outputs": [
    {
     "data": {
      "text/plain": [
       "True"
      ]
     },
     "execution_count": 106,
     "metadata": {},
     "output_type": "execute_result"
    }
   ],
   "source": [
    "bool(statement)"
   ]
  },
  {
   "cell_type": "code",
   "execution_count": 109,
   "id": "8cc7bb95-c403-466a-807e-f3bf26a445b9",
   "metadata": {},
   "outputs": [
    {
     "data": {
      "text/plain": [
       "'11'"
      ]
     },
     "execution_count": 109,
     "metadata": {},
     "output_type": "execute_result"
    }
   ],
   "source": [
    "'1' * 2"
   ]
  },
  {
   "cell_type": "code",
   "execution_count": 110,
   "id": "155cea62-218a-43a8-bf21-3885869d67f5",
   "metadata": {},
   "outputs": [
    {
     "data": {
      "text/plain": [
       "'11'"
      ]
     },
     "execution_count": 110,
     "metadata": {},
     "output_type": "execute_result"
    }
   ],
   "source": [
    "'1' + '1'"
   ]
  },
  {
   "cell_type": "code",
   "execution_count": 111,
   "id": "24c6380a-2fd9-46e4-adac-a0188e59146a",
   "metadata": {},
   "outputs": [
    {
     "ename": "TypeError",
     "evalue": "unsupported operand type(s) for /: 'str' and 'str'",
     "output_type": "error",
     "traceback": [
      "\u001b[0;31m---------------------------------------------------------------------------\u001b[0m",
      "\u001b[0;31mTypeError\u001b[0m                                 Traceback (most recent call last)",
      "Cell \u001b[0;32mIn[111], line 1\u001b[0m\n\u001b[0;32m----> 1\u001b[0m \u001b[38;5;124;43m'\u001b[39;49m\u001b[38;5;124;43m1\u001b[39;49m\u001b[38;5;124;43m'\u001b[39;49m\u001b[43m \u001b[49m\u001b[38;5;241;43m/\u001b[39;49m\u001b[43m \u001b[49m\u001b[38;5;124;43m'\u001b[39;49m\u001b[38;5;124;43m1\u001b[39;49m\u001b[38;5;124;43m'\u001b[39;49m\n",
      "\u001b[0;31mTypeError\u001b[0m: unsupported operand type(s) for /: 'str' and 'str'"
     ]
    }
   ],
   "source": [
    "'1' / '1'"
   ]
  },
  {
   "cell_type": "code",
   "execution_count": 112,
   "id": "84bd0dfc-417f-42e0-bd24-8a1ed4b0c199",
   "metadata": {},
   "outputs": [
    {
     "data": {
      "text/plain": [
       "'11'"
      ]
     },
     "execution_count": 112,
     "metadata": {},
     "output_type": "execute_result"
    }
   ],
   "source": [
    "2 * '1'"
   ]
  },
  {
   "cell_type": "code",
   "execution_count": 113,
   "id": "076adf4e-bb3e-4902-b1d7-60298b80f44e",
   "metadata": {},
   "outputs": [
    {
     "data": {
      "text/plain": [
       "0.5"
      ]
     },
     "execution_count": 113,
     "metadata": {},
     "output_type": "execute_result"
    }
   ],
   "source": [
    "True / 2"
   ]
  },
  {
   "cell_type": "code",
   "execution_count": 114,
   "id": "909adb45-5fed-42fc-951f-ed1fba3214c8",
   "metadata": {},
   "outputs": [
    {
     "ename": "ZeroDivisionError",
     "evalue": "division by zero",
     "output_type": "error",
     "traceback": [
      "\u001b[0;31m---------------------------------------------------------------------------\u001b[0m",
      "\u001b[0;31mZeroDivisionError\u001b[0m                         Traceback (most recent call last)",
      "Cell \u001b[0;32mIn[114], line 1\u001b[0m\n\u001b[0;32m----> 1\u001b[0m \u001b[38;5;241;43m1\u001b[39;49m\u001b[43m \u001b[49m\u001b[38;5;241;43m/\u001b[39;49m\u001b[43m \u001b[49m\u001b[38;5;28;43;01mFalse\u001b[39;49;00m\n",
      "\u001b[0;31mZeroDivisionError\u001b[0m: division by zero"
     ]
    }
   ],
   "source": [
    "1 / False"
   ]
  },
  {
   "cell_type": "code",
   "execution_count": 115,
   "id": "b6526f16-9ca0-4816-b106-34572de66a6c",
   "metadata": {},
   "outputs": [
    {
     "ename": "NameError",
     "evalue": "name 'a' is not defined",
     "output_type": "error",
     "traceback": [
      "\u001b[0;31m---------------------------------------------------------------------------\u001b[0m",
      "\u001b[0;31mNameError\u001b[0m                                 Traceback (most recent call last)",
      "Cell \u001b[0;32mIn[115], line 1\u001b[0m\n\u001b[0;32m----> 1\u001b[0m \u001b[38;5;28mbool\u001b[39m(\u001b[38;5;28misinstance\u001b[39m(\u001b[43ma\u001b[49m, \u001b[38;5;28mstr\u001b[39m) \u001b[38;5;129;01mand\u001b[39;00m a)\n",
      "\u001b[0;31mNameError\u001b[0m: name 'a' is not defined"
     ]
    }
   ],
   "source": [
    "bool(isinstance(a, str) and a)"
   ]
  },
  {
   "cell_type": "code",
   "execution_count": 116,
   "id": "53cfcaaf-00e1-4bac-8327-5d4a5343472e",
   "metadata": {},
   "outputs": [
    {
     "name": "stdout",
     "output_type": "stream",
     "text": [
      "hello !\n"
     ]
    }
   ],
   "source": [
    "a = print('hello', \"!\")"
   ]
  },
  {
   "cell_type": "code",
   "execution_count": 117,
   "id": "ca96302d-64a8-471d-a1d0-c92e889e0a5f",
   "metadata": {},
   "outputs": [
    {
     "data": {
      "text/plain": [
       "False"
      ]
     },
     "execution_count": 117,
     "metadata": {},
     "output_type": "execute_result"
    }
   ],
   "source": [
    "bool(isinstance(a, str) and a)"
   ]
  },
  {
   "cell_type": "code",
   "execution_count": 118,
   "id": "24bea1a7-51fa-4046-a41f-c6255a86ab51",
   "metadata": {},
   "outputs": [],
   "source": [
    "a = 'hello', \"!\""
   ]
  },
  {
   "cell_type": "code",
   "execution_count": 119,
   "id": "f8009796-768d-4b63-ad42-9261d701e044",
   "metadata": {},
   "outputs": [
    {
     "data": {
      "text/plain": [
       "False"
      ]
     },
     "execution_count": 119,
     "metadata": {},
     "output_type": "execute_result"
    }
   ],
   "source": [
    "bool(isinstance(a, str) and a)"
   ]
  },
  {
   "cell_type": "code",
   "execution_count": 120,
   "id": "da6ae791-5fd3-4159-82c0-8d57bfa020db",
   "metadata": {},
   "outputs": [],
   "source": [
    "a, b = 'hello', \"!\""
   ]
  },
  {
   "cell_type": "code",
   "execution_count": 121,
   "id": "bbd9ac8d-5826-494d-ba44-ec0cbbdd507f",
   "metadata": {},
   "outputs": [
    {
     "data": {
      "text/plain": [
       "True"
      ]
     },
     "execution_count": 121,
     "metadata": {},
     "output_type": "execute_result"
    }
   ],
   "source": [
    "bool(isinstance(a, str) and a)"
   ]
  },
  {
   "cell_type": "code",
   "execution_count": 122,
   "id": "b27946ef-d7db-4ba7-a015-e136da96dca8",
   "metadata": {},
   "outputs": [],
   "source": [
    "a = ('hello', \"!\")"
   ]
  },
  {
   "cell_type": "code",
   "execution_count": 123,
   "id": "d0648c26-4698-4f55-9698-c87b4732d9c8",
   "metadata": {},
   "outputs": [
    {
     "data": {
      "text/plain": [
       "False"
      ]
     },
     "execution_count": 123,
     "metadata": {},
     "output_type": "execute_result"
    }
   ],
   "source": [
    "bool(isinstance(a, str) and a)"
   ]
  },
  {
   "cell_type": "code",
   "execution_count": 124,
   "id": "e5739126-74eb-4462-99c7-e717278e17bb",
   "metadata": {},
   "outputs": [],
   "source": [
    "a = ' '"
   ]
  },
  {
   "cell_type": "code",
   "execution_count": 125,
   "id": "1b1ec39f-69b2-49c1-b278-88fb19f1def3",
   "metadata": {},
   "outputs": [
    {
     "data": {
      "text/plain": [
       "True"
      ]
     },
     "execution_count": 125,
     "metadata": {},
     "output_type": "execute_result"
    }
   ],
   "source": [
    "bool(isinstance(a, str) and a)"
   ]
  },
  {
   "cell_type": "code",
   "execution_count": 126,
   "id": "2998e75c-7295-4b70-99d6-17f543d8b790",
   "metadata": {},
   "outputs": [],
   "source": [
    "a = str(False)"
   ]
  },
  {
   "cell_type": "code",
   "execution_count": 127,
   "id": "d243e478-9558-4dfd-a8f2-101de5316090",
   "metadata": {},
   "outputs": [
    {
     "data": {
      "text/plain": [
       "True"
      ]
     },
     "execution_count": 127,
     "metadata": {},
     "output_type": "execute_result"
    }
   ],
   "source": [
    "bool(isinstance(a, str) and a)"
   ]
  },
  {
   "cell_type": "code",
   "execution_count": 129,
   "id": "0e6c76c5-5b29-4b1e-a7dc-a1ac197f996c",
   "metadata": {},
   "outputs": [
    {
     "ename": "SyntaxError",
     "evalue": "invalid syntax (3522839836.py, line 1)",
     "output_type": "error",
     "traceback": [
      "\u001b[0;36m  Cell \u001b[0;32mIn[129], line 1\u001b[0;36m\u001b[0m\n\u001b[0;31m    2.0 -> demo_float\u001b[0m\n\u001b[0m        ^\u001b[0m\n\u001b[0;31mSyntaxError\u001b[0m\u001b[0;31m:\u001b[0m invalid syntax\n"
     ]
    }
   ],
   "source": [
    "2.0 -> demo_float"
   ]
  },
  {
   "cell_type": "code",
   "execution_count": 131,
   "id": "c31d94bd-099c-4998-9075-abeb8f2dddd2",
   "metadata": {},
   "outputs": [
    {
     "data": {
      "text/plain": [
       "True"
      ]
     },
     "execution_count": 131,
     "metadata": {},
     "output_type": "execute_result"
    }
   ],
   "source": [
    "demo_float = 2.0\n",
    "isinstance( demo_float, float)"
   ]
  },
  {
   "cell_type": "code",
   "execution_count": 132,
   "id": "1c9a795d-b94e-45a7-9c45-cf4aad913ef0",
   "metadata": {},
   "outputs": [
    {
     "data": {
      "text/plain": [
       "False"
      ]
     },
     "execution_count": 132,
     "metadata": {},
     "output_type": "execute_result"
    }
   ],
   "source": [
    "demo_float = min(2, 2.1)\n",
    "isinstance( demo_float, float)"
   ]
  },
  {
   "cell_type": "code",
   "execution_count": 133,
   "id": "a6338a11-1182-4f65-af34-7172c49241ed",
   "metadata": {},
   "outputs": [
    {
     "data": {
      "text/plain": [
       "False"
      ]
     },
     "execution_count": 133,
     "metadata": {},
     "output_type": "execute_result"
    }
   ],
   "source": [
    "demo_float = 2\n",
    "isinstance( demo_float, float)"
   ]
  },
  {
   "cell_type": "code",
   "execution_count": 134,
   "id": "65e5ec9b-96ed-4640-b4dd-fe717ed489ae",
   "metadata": {},
   "outputs": [
    {
     "data": {
      "text/plain": [
       "True"
      ]
     },
     "execution_count": 134,
     "metadata": {},
     "output_type": "execute_result"
    }
   ],
   "source": [
    "demo_float = 2 / 1\n",
    "isinstance( demo_float, float)"
   ]
  },
  {
   "cell_type": "code",
   "execution_count": 135,
   "id": "69afb420-dbe5-47f4-870c-8b0549cbf3ad",
   "metadata": {},
   "outputs": [
    {
     "data": {
      "text/plain": [
       "False"
      ]
     },
     "execution_count": 135,
     "metadata": {},
     "output_type": "execute_result"
    }
   ],
   "source": [
    "demo_float = 2*1\n",
    "isinstance( demo_float, float)"
   ]
  },
  {
   "cell_type": "code",
   "execution_count": 137,
   "id": "885b2efb-fc5d-4c2b-ab61-0d9738ac1c92",
   "metadata": {},
   "outputs": [
    {
     "ename": "TypeError",
     "evalue": "must be str, not list",
     "output_type": "error",
     "traceback": [
      "\u001b[0;31m---------------------------------------------------------------------------\u001b[0m",
      "\u001b[0;31mTypeError\u001b[0m                                 Traceback (most recent call last)",
      "Cell \u001b[0;32mIn[137], line 1\u001b[0m\n\u001b[0;32m----> 1\u001b[0m \u001b[38;5;124;43m'\u001b[39;49m\u001b[38;5;124;43mhello\u001b[39;49m\u001b[38;5;124;43m'\u001b[39;49m\u001b[38;5;241;43m.\u001b[39;49m\u001b[43mfind\u001b[49m\u001b[43m(\u001b[49m\u001b[43mx\u001b[49m\u001b[43m)\u001b[49m\n",
      "\u001b[0;31mTypeError\u001b[0m: must be str, not list"
     ]
    }
   ],
   "source": [
    "'hello'.find(x)"
   ]
  },
  {
   "cell_type": "code",
   "execution_count": 138,
   "id": "53d31ece-7634-4e14-b606-c70e6cb52405",
   "metadata": {},
   "outputs": [
    {
     "ename": "NameError",
     "evalue": "name 'find' is not defined",
     "output_type": "error",
     "traceback": [
      "\u001b[0;31m---------------------------------------------------------------------------\u001b[0m",
      "\u001b[0;31mNameError\u001b[0m                                 Traceback (most recent call last)",
      "Cell \u001b[0;32mIn[138], line 1\u001b[0m\n\u001b[0;32m----> 1\u001b[0m \u001b[38;5;124m\"\u001b[39m\u001b[38;5;124mhello\u001b[39m\u001b[38;5;124m\"\u001b[39m,\u001b[43mfind\u001b[49m(x)\n",
      "\u001b[0;31mNameError\u001b[0m: name 'find' is not defined"
     ]
    }
   ],
   "source": [
    "\"hello\",find(x)"
   ]
  },
  {
   "cell_type": "code",
   "execution_count": 140,
   "id": "edfaebfb-d553-4663-bfe5-1137d20fcad0",
   "metadata": {},
   "outputs": [
    {
     "ename": "TypeError",
     "evalue": "must be str, not int",
     "output_type": "error",
     "traceback": [
      "\u001b[0;31m---------------------------------------------------------------------------\u001b[0m",
      "\u001b[0;31mTypeError\u001b[0m                                 Traceback (most recent call last)",
      "Cell \u001b[0;32mIn[140], line 1\u001b[0m\n\u001b[0;32m----> 1\u001b[0m \u001b[38;5;124;43m\"\u001b[39;49m\u001b[38;5;124;43mhello\u001b[39;49m\u001b[38;5;124;43m\"\u001b[39;49m\u001b[38;5;241;43m.\u001b[39;49m\u001b[43mfind\u001b[49m\u001b[43m(\u001b[49m\u001b[38;5;241;43m0\u001b[39;49m\u001b[43m)\u001b[49m\n",
      "\u001b[0;31mTypeError\u001b[0m: must be str, not int"
     ]
    }
   ],
   "source": [
    "\"hello\".find(0)"
   ]
  },
  {
   "cell_type": "code",
   "execution_count": 141,
   "id": "db8d7dfc-a207-4d90-87b6-cec642a5d057",
   "metadata": {},
   "outputs": [
    {
     "data": {
      "text/plain": [
       "-1"
      ]
     },
     "execution_count": 141,
     "metadata": {},
     "output_type": "execute_result"
    }
   ],
   "source": [
    "\"hello\".find('a')"
   ]
  },
  {
   "cell_type": "code",
   "execution_count": 142,
   "id": "2b9ec4d5-f078-4c47-9f7d-51e5b4317464",
   "metadata": {},
   "outputs": [
    {
     "data": {
      "text/plain": [
       "1"
      ]
     },
     "execution_count": 142,
     "metadata": {},
     "output_type": "execute_result"
    }
   ],
   "source": [
    "\"hello\".find('e')"
   ]
  },
  {
   "cell_type": "code",
   "execution_count": 143,
   "id": "25c1a787-fe6e-4bf8-a3e1-f2b97d76c152",
   "metadata": {},
   "outputs": [
    {
     "data": {
      "text/plain": [
       "2"
      ]
     },
     "execution_count": 143,
     "metadata": {},
     "output_type": "execute_result"
    }
   ],
   "source": [
    "\"hello\".find('L'.lower())"
   ]
  },
  {
   "cell_type": "code",
   "execution_count": 144,
   "id": "a7f3f543-4d9e-48fd-b8d1-a6584f0afa40",
   "metadata": {},
   "outputs": [
    {
     "data": {
      "text/plain": [
       "2"
      ]
     },
     "execution_count": 144,
     "metadata": {},
     "output_type": "execute_result"
    }
   ],
   "source": [
    "\"hello\".find('l')"
   ]
  },
  {
   "cell_type": "code",
   "execution_count": 145,
   "id": "9d89d42a-b98e-4da8-b284-f131211b3d25",
   "metadata": {},
   "outputs": [
    {
     "data": {
      "text/plain": [
       "1"
      ]
     },
     "execution_count": 145,
     "metadata": {},
     "output_type": "execute_result"
    }
   ],
   "source": [
    "int(True)"
   ]
  },
  {
   "cell_type": "code",
   "execution_count": 146,
   "id": "c3647867-474b-468f-8295-0f0aa0c90fa1",
   "metadata": {},
   "outputs": [
    {
     "data": {
      "text/plain": [
       "0"
      ]
     },
     "execution_count": 146,
     "metadata": {},
     "output_type": "execute_result"
    }
   ],
   "source": [
    "int(False)"
   ]
  },
  {
   "cell_type": "code",
   "execution_count": 147,
   "id": "0c447b74-70ea-476f-bcc6-31b192844bde",
   "metadata": {},
   "outputs": [
    {
     "data": {
      "text/plain": [
       "1"
      ]
     },
     "execution_count": 147,
     "metadata": {},
     "output_type": "execute_result"
    }
   ],
   "source": [
    "True * 1"
   ]
  },
  {
   "cell_type": "code",
   "execution_count": 148,
   "id": "727b62e4-0605-4dbb-86cd-f03fa1d4e629",
   "metadata": {},
   "outputs": [
    {
     "data": {
      "text/plain": [
       "0"
      ]
     },
     "execution_count": 148,
     "metadata": {},
     "output_type": "execute_result"
    }
   ],
   "source": [
    "False * 1"
   ]
  },
  {
   "cell_type": "code",
   "execution_count": 149,
   "id": "b647f40f-9824-4a36-8680-f4dff3971f7c",
   "metadata": {},
   "outputs": [
    {
     "data": {
      "text/plain": [
       "True"
      ]
     },
     "execution_count": 149,
     "metadata": {},
     "output_type": "execute_result"
    }
   ],
   "source": [
    "isinstance(True*1, int)"
   ]
  },
  {
   "cell_type": "code",
   "execution_count": 150,
   "id": "db6833d2-4838-4271-94c2-01cb1cbc3af5",
   "metadata": {},
   "outputs": [
    {
     "data": {
      "text/plain": [
       "True"
      ]
     },
     "execution_count": 150,
     "metadata": {},
     "output_type": "execute_result"
    }
   ],
   "source": [
    "isinstance(False*1, int)"
   ]
  },
  {
   "cell_type": "code",
   "execution_count": 151,
   "id": "5dcb12b1-9e2a-47a0-a3ef-d2f7139e89d8",
   "metadata": {},
   "outputs": [
    {
     "data": {
      "text/plain": [
       "False"
      ]
     },
     "execution_count": 151,
     "metadata": {},
     "output_type": "execute_result"
    }
   ],
   "source": [
    "isinstance(False*1, float)"
   ]
  },
  {
   "cell_type": "code",
   "execution_count": 152,
   "id": "48c90d43-f8f7-417c-8575-1236a1346d6d",
   "metadata": {},
   "outputs": [
    {
     "data": {
      "text/plain": [
       "0"
      ]
     },
     "execution_count": 152,
     "metadata": {},
     "output_type": "execute_result"
    }
   ],
   "source": [
    "True * False"
   ]
  },
  {
   "cell_type": "code",
   "execution_count": 153,
   "id": "4ec0d8b6-c970-46c9-a92b-41ac4b27a4ba",
   "metadata": {},
   "outputs": [
    {
     "data": {
      "text/plain": [
       "2"
      ]
     },
     "execution_count": 153,
     "metadata": {},
     "output_type": "execute_result"
    }
   ],
   "source": [
    "True + True"
   ]
  },
  {
   "cell_type": "code",
   "execution_count": 154,
   "id": "abb9c2c5-4e89-47fc-8af4-98f730bbbeb2",
   "metadata": {},
   "outputs": [
    {
     "ename": "NameError",
     "evalue": "name 'Flase' is not defined",
     "output_type": "error",
     "traceback": [
      "\u001b[0;31m---------------------------------------------------------------------------\u001b[0m",
      "\u001b[0;31mNameError\u001b[0m                                 Traceback (most recent call last)",
      "Cell \u001b[0;32mIn[154], line 1\u001b[0m\n\u001b[0;32m----> 1\u001b[0m \u001b[38;5;28mstr\u001b[39m(\u001b[43mFlase\u001b[49m)\n",
      "\u001b[0;31mNameError\u001b[0m: name 'Flase' is not defined"
     ]
    }
   ],
   "source": [
    "str(Flase)"
   ]
  },
  {
   "cell_type": "code",
   "execution_count": 155,
   "id": "225712c0-df8b-40ef-a13e-5cd339cee0b8",
   "metadata": {},
   "outputs": [
    {
     "data": {
      "text/plain": [
       "True"
      ]
     },
     "execution_count": 155,
     "metadata": {},
     "output_type": "execute_result"
    }
   ],
   "source": [
    "bool('False')"
   ]
  },
  {
   "cell_type": "code",
   "execution_count": 156,
   "id": "c3c56ba9-27c5-4ee8-865b-4196a46d0ae4",
   "metadata": {},
   "outputs": [
    {
     "data": {
      "text/plain": [
       "True"
      ]
     },
     "execution_count": 156,
     "metadata": {},
     "output_type": "execute_result"
    }
   ],
   "source": [
    "bool(True or 4*2)"
   ]
  },
  {
   "cell_type": "code",
   "execution_count": 157,
   "id": "83a2071d-d585-4d7a-90dc-8510aef8f847",
   "metadata": {},
   "outputs": [
    {
     "data": {
      "text/plain": [
       "True"
      ]
     },
     "execution_count": 157,
     "metadata": {},
     "output_type": "execute_result"
    }
   ],
   "source": [
    "bool(3*0 or 4*2)"
   ]
  },
  {
   "cell_type": "code",
   "execution_count": 158,
   "id": "1984e118-9b76-4b06-96f9-f1f8fa80eb91",
   "metadata": {},
   "outputs": [
    {
     "data": {
      "text/plain": [
       "False"
      ]
     },
     "execution_count": 158,
     "metadata": {},
     "output_type": "execute_result"
    }
   ],
   "source": [
    "bool(3*0 and 4*2)"
   ]
  },
  {
   "cell_type": "code",
   "execution_count": 160,
   "id": "211c4df9-6704-4b5a-978c-4e0e71fe3dfa",
   "metadata": {},
   "outputs": [
    {
     "name": "stdout",
     "output_type": "stream",
     "text": [
      "hello world\n"
     ]
    }
   ],
   "source": [
    "print('he{letter}{letter}o wor{letter}d'.format(letter = 'l'))"
   ]
  },
  {
   "cell_type": "code",
   "execution_count": 162,
   "id": "bb9f74b5-14f1-4795-ab44-2ea2cd3892b2",
   "metadata": {},
   "outputs": [
    {
     "name": "stdout",
     "output_type": "stream",
     "text": [
      "hello world\n"
     ]
    }
   ],
   "source": [
    "print('he{letter}{letter}o {audience}'.format(letter = 'l', audience = 'world'))"
   ]
  },
  {
   "cell_type": "code",
   "execution_count": 163,
   "id": "64c07b33-b2d6-46c3-8181-07ea9416a973",
   "metadata": {},
   "outputs": [
    {
     "ename": "KeyError",
     "evalue": "'audience'",
     "output_type": "error",
     "traceback": [
      "\u001b[0;31m---------------------------------------------------------------------------\u001b[0m",
      "\u001b[0;31mKeyError\u001b[0m                                  Traceback (most recent call last)",
      "Cell \u001b[0;32mIn[163], line 1\u001b[0m\n\u001b[0;32m----> 1\u001b[0m a \u001b[38;5;241m=\u001b[39m \u001b[38;5;124;43m'\u001b[39;49m\u001b[38;5;124;43mhe\u001b[39;49m\u001b[38;5;132;43;01m{letter}\u001b[39;49;00m\u001b[38;5;132;43;01m{letter}\u001b[39;49;00m\u001b[38;5;124;43mo \u001b[39;49m\u001b[38;5;132;43;01m{audience}\u001b[39;49;00m\u001b[38;5;124;43m'\u001b[39;49m\u001b[38;5;241;43m.\u001b[39;49m\u001b[43mformat\u001b[49m\u001b[43m(\u001b[49m\u001b[43mletter\u001b[49m\u001b[43m \u001b[49m\u001b[38;5;241;43m=\u001b[39;49m\u001b[43m \u001b[49m\u001b[38;5;124;43m'\u001b[39;49m\u001b[38;5;124;43ml\u001b[39;49m\u001b[38;5;124;43m'\u001b[39;49m\u001b[43m)\u001b[49m\n\u001b[1;32m      2\u001b[0m \u001b[38;5;28mprint\u001b[39m(a\u001b[38;5;241m.\u001b[39mformat(audience \u001b[38;5;241m=\u001b[39m \u001b[38;5;124m'\u001b[39m\u001b[38;5;124mworld\u001b[39m\u001b[38;5;124m'\u001b[39m))\n",
      "\u001b[0;31mKeyError\u001b[0m: 'audience'"
     ]
    }
   ],
   "source": [
    "a = 'he{letter}{letter}o {audience}'.format(letter = 'l')\n",
    "print(a.format(audience = 'world'))"
   ]
  },
  {
   "cell_type": "code",
   "execution_count": 164,
   "id": "2454ef43-1d63-4fa9-998d-62be01fb6b54",
   "metadata": {},
   "outputs": [],
   "source": [
    "audience = 'world'"
   ]
  },
  {
   "cell_type": "code",
   "execution_count": 165,
   "id": "80c861dc-cb80-4d63-9783-c7c0c15a2ba4",
   "metadata": {},
   "outputs": [
    {
     "data": {
      "text/plain": [
       "'hello world'"
      ]
     },
     "execution_count": 165,
     "metadata": {},
     "output_type": "execute_result"
    }
   ],
   "source": [
    "f'hello {audience}'"
   ]
  },
  {
   "cell_type": "code",
   "execution_count": 166,
   "id": "07547a48-0648-4c37-8f0a-27ec10932f31",
   "metadata": {},
   "outputs": [],
   "source": [
    "a = 'he{letter}{letter}o wor{letter}d'"
   ]
  },
  {
   "cell_type": "code",
   "execution_count": 167,
   "id": "05b85dc9-aa68-47f4-ac92-313158c7a9af",
   "metadata": {},
   "outputs": [
    {
     "data": {
      "text/plain": [
       "'hello world'"
      ]
     },
     "execution_count": 167,
     "metadata": {},
     "output_type": "execute_result"
    }
   ],
   "source": [
    "a.format(letter = 'l')"
   ]
  },
  {
   "cell_type": "code",
   "execution_count": 168,
   "id": "abc015ae-f5ac-4a64-bffd-5b136e7409f3",
   "metadata": {},
   "outputs": [],
   "source": [
    "a = {'a': 'a',\n",
    "     'A': 'a'}\n"
   ]
  },
  {
   "cell_type": "code",
   "execution_count": 170,
   "id": "f4ceed76-994f-488d-bf34-ac677b012799",
   "metadata": {},
   "outputs": [],
   "source": [
    "a.update({'a' : 'b'})"
   ]
  },
  {
   "cell_type": "code",
   "execution_count": 171,
   "id": "275a25aa-50b5-4ce6-b3a8-cc9e5c453bc7",
   "metadata": {},
   "outputs": [
    {
     "data": {
      "text/plain": [
       "{'a': 'b', 'A': 'a'}"
      ]
     },
     "execution_count": 171,
     "metadata": {},
     "output_type": "execute_result"
    }
   ],
   "source": [
    "a"
   ]
  },
  {
   "cell_type": "code",
   "execution_count": 172,
   "id": "ca20f35b-4cf0-42cc-8bcc-c2f7fca38ef4",
   "metadata": {},
   "outputs": [
    {
     "data": {
      "text/plain": [
       "True"
      ]
     },
     "execution_count": 172,
     "metadata": {},
     "output_type": "execute_result"
    }
   ],
   "source": [
    "a['a'] == a.get('a')"
   ]
  },
  {
   "cell_type": "code",
   "execution_count": 173,
   "id": "d4b661cb-fecf-4356-a84d-a1d729d9d649",
   "metadata": {},
   "outputs": [],
   "source": [
    "a = {'a': 'a',\n",
    "     'A': 'a'}\n"
   ]
  },
  {
   "cell_type": "code",
   "execution_count": 174,
   "id": "bc9e0789-83a0-475d-9912-b9d44b4f1b20",
   "metadata": {},
   "outputs": [
    {
     "ename": "SyntaxError",
     "evalue": "cannot assign to function call here. Maybe you meant '==' instead of '='? (1973547622.py, line 1)",
     "output_type": "error",
     "traceback": [
      "\u001b[0;36m  Cell \u001b[0;32mIn[174], line 1\u001b[0;36m\u001b[0m\n\u001b[0;31m    a.get('a') = 'b'\u001b[0m\n\u001b[0m    ^\u001b[0m\n\u001b[0;31mSyntaxError\u001b[0m\u001b[0;31m:\u001b[0m cannot assign to function call here. Maybe you meant '==' instead of '='?\n"
     ]
    }
   ],
   "source": [
    "a.get('a') = 'b'"
   ]
  },
  {
   "cell_type": "code",
   "execution_count": 175,
   "id": "ea7c66ac-4d30-4e0a-953f-ca1d33a7bcef",
   "metadata": {},
   "outputs": [],
   "source": [
    "a = ['a', 'b']"
   ]
  },
  {
   "cell_type": "code",
   "execution_count": 176,
   "id": "ed15396d-722e-495d-a679-377ff6f59121",
   "metadata": {},
   "outputs": [],
   "source": [
    "b = [1, 2]"
   ]
  },
  {
   "cell_type": "code",
   "execution_count": 177,
   "id": "622e554d-2a70-4f4b-bac7-5a07698747fd",
   "metadata": {},
   "outputs": [
    {
     "data": {
      "text/plain": [
       "['a', 'b', 1, 2]"
      ]
     },
     "execution_count": 177,
     "metadata": {},
     "output_type": "execute_result"
    }
   ],
   "source": [
    "a + b"
   ]
  },
  {
   "cell_type": "code",
   "execution_count": 178,
   "id": "28c6cd60-e0c1-4e83-8dd8-743a77166344",
   "metadata": {},
   "outputs": [],
   "source": [
    "a.append(b)"
   ]
  },
  {
   "cell_type": "code",
   "execution_count": 179,
   "id": "a3b3d7c8-8598-4de6-8dcb-5acf37df8e78",
   "metadata": {},
   "outputs": [
    {
     "name": "stdout",
     "output_type": "stream",
     "text": [
      "<built-in method append of list object at 0x111aa6dc0>\n"
     ]
    }
   ],
   "source": [
    "print(a.append)"
   ]
  },
  {
   "cell_type": "code",
   "execution_count": 180,
   "id": "8a2a2771-1a73-4931-89e1-8fa68a98312c",
   "metadata": {},
   "outputs": [
    {
     "data": {
      "text/plain": [
       "['a', 'b', [1, 2]]"
      ]
     },
     "execution_count": 180,
     "metadata": {},
     "output_type": "execute_result"
    }
   ],
   "source": [
    "a"
   ]
  },
  {
   "cell_type": "code",
   "execution_count": 181,
   "id": "53f1ce3d-461f-4d52-a895-79104a82056f",
   "metadata": {},
   "outputs": [],
   "source": [
    "a.extend(b)"
   ]
  },
  {
   "cell_type": "code",
   "execution_count": 182,
   "id": "246f313e-1cee-46d4-98cc-1df576e2c8dd",
   "metadata": {},
   "outputs": [
    {
     "data": {
      "text/plain": [
       "['a', 'b', [1, 2], 1, 2]"
      ]
     },
     "execution_count": 182,
     "metadata": {},
     "output_type": "execute_result"
    }
   ],
   "source": [
    "a"
   ]
  },
  {
   "cell_type": "code",
   "execution_count": 183,
   "id": "aa244615-adae-4964-abe6-18e0066d5e36",
   "metadata": {},
   "outputs": [],
   "source": [
    "a = ['a', 'b']"
   ]
  },
  {
   "cell_type": "code",
   "execution_count": 184,
   "id": "66741168-b943-4cd5-8530-8fe9c624c105",
   "metadata": {},
   "outputs": [],
   "source": [
    "a.extend(b)"
   ]
  },
  {
   "cell_type": "code",
   "execution_count": 185,
   "id": "5914dd2f-90f4-4b4d-a0d0-123cd6002809",
   "metadata": {},
   "outputs": [
    {
     "data": {
      "text/plain": [
       "['a', 'b', 1, 2]"
      ]
     },
     "execution_count": 185,
     "metadata": {},
     "output_type": "execute_result"
    }
   ],
   "source": [
    "a"
   ]
  },
  {
   "cell_type": "code",
   "execution_count": 186,
   "id": "da60628a-9184-4ae6-a81b-e9903244991f",
   "metadata": {},
   "outputs": [
    {
     "data": {
      "text/plain": [
       "'b'"
      ]
     },
     "execution_count": 186,
     "metadata": {},
     "output_type": "execute_result"
    }
   ],
   "source": [
    "a[1]"
   ]
  },
  {
   "cell_type": "code",
   "execution_count": 187,
   "id": "ba0768c1-ada0-480b-abc1-d19a230cf239",
   "metadata": {},
   "outputs": [
    {
     "data": {
      "text/plain": [
       "2"
      ]
     },
     "execution_count": 187,
     "metadata": {},
     "output_type": "execute_result"
    }
   ],
   "source": [
    "a[-1]"
   ]
  },
  {
   "cell_type": "code",
   "execution_count": 188,
   "id": "6f64e3d1-4ffc-4575-8462-0028fa6eb2b5",
   "metadata": {},
   "outputs": [
    {
     "data": {
      "text/plain": [
       "(1,)"
      ]
     },
     "execution_count": 188,
     "metadata": {},
     "output_type": "execute_result"
    }
   ],
   "source": [
    "tuple([1])"
   ]
  },
  {
   "cell_type": "code",
   "execution_count": 189,
   "id": "aacaaa4d-d6e1-45f7-81c4-1ccaadfd1e2c",
   "metadata": {},
   "outputs": [
    {
     "data": {
      "text/plain": [
       "tuple"
      ]
     },
     "execution_count": 189,
     "metadata": {},
     "output_type": "execute_result"
    }
   ],
   "source": [
    "type(tuple([1]))"
   ]
  },
  {
   "cell_type": "code",
   "execution_count": 190,
   "id": "c61323c2-ea2a-4e94-99c0-e0029d9b0a7e",
   "metadata": {},
   "outputs": [
    {
     "data": {
      "text/plain": [
       "1"
      ]
     },
     "execution_count": 190,
     "metadata": {},
     "output_type": "execute_result"
    }
   ],
   "source": [
    "len(tuple([1]))"
   ]
  },
  {
   "cell_type": "code",
   "execution_count": 191,
   "id": "34fab195-ee84-40b4-9b03-558f8890967c",
   "metadata": {},
   "outputs": [
    {
     "data": {
      "text/plain": [
       "tuple"
      ]
     },
     "execution_count": 191,
     "metadata": {},
     "output_type": "execute_result"
    }
   ],
   "source": [
    "type((5,))"
   ]
  },
  {
   "cell_type": "code",
   "execution_count": 192,
   "id": "b7066f98-84dc-4f5b-9bcc-d4a4df5f28ff",
   "metadata": {},
   "outputs": [
    {
     "data": {
      "text/plain": [
       "1"
      ]
     },
     "execution_count": 192,
     "metadata": {},
     "output_type": "execute_result"
    }
   ],
   "source": [
    "len((5,))"
   ]
  },
  {
   "cell_type": "code",
   "execution_count": 193,
   "id": "211b9c30-08c1-4245-9e34-96c5ea219b1e",
   "metadata": {},
   "outputs": [
    {
     "data": {
      "text/plain": [
       "int"
      ]
     },
     "execution_count": 193,
     "metadata": {},
     "output_type": "execute_result"
    }
   ],
   "source": [
    "type((3))"
   ]
  },
  {
   "cell_type": "code",
   "execution_count": 194,
   "id": "9dd8d84d-f064-4c26-a9cd-91931bd292c2",
   "metadata": {},
   "outputs": [
    {
     "data": {
      "text/plain": [
       "int"
      ]
     },
     "execution_count": 194,
     "metadata": {},
     "output_type": "execute_result"
    }
   ],
   "source": [
    "type((1,2)[1])"
   ]
  },
  {
   "cell_type": "code",
   "execution_count": 195,
   "id": "3fdb51b0-3c5d-4e00-8cc8-465903b3c4f1",
   "metadata": {},
   "outputs": [
    {
     "data": {
      "text/plain": [
       "tuple"
      ]
     },
     "execution_count": 195,
     "metadata": {},
     "output_type": "execute_result"
    }
   ],
   "source": [
    "type((1,2)[:1])"
   ]
  },
  {
   "cell_type": "code",
   "execution_count": 196,
   "id": "5423804e-59a3-429d-9485-7cd69a14b7b4",
   "metadata": {},
   "outputs": [
    {
     "data": {
      "text/plain": [
       "1"
      ]
     },
     "execution_count": 196,
     "metadata": {},
     "output_type": "execute_result"
    }
   ],
   "source": [
    "len((1,2)[:1])"
   ]
  },
  {
   "cell_type": "code",
   "execution_count": 197,
   "id": "806d7ac4-7764-4356-a9e7-db6509a30c1e",
   "metadata": {},
   "outputs": [
    {
     "data": {
      "text/plain": [
       "tuple"
      ]
     },
     "execution_count": 197,
     "metadata": {},
     "output_type": "execute_result"
    }
   ],
   "source": [
    "type((1,2)[-1:])"
   ]
  },
  {
   "cell_type": "code",
   "execution_count": 198,
   "id": "7b0ab9b2-0167-45f3-92a2-4bbe58ba7986",
   "metadata": {},
   "outputs": [
    {
     "data": {
      "text/plain": [
       "1"
      ]
     },
     "execution_count": 198,
     "metadata": {},
     "output_type": "execute_result"
    }
   ],
   "source": [
    "len((1,2)[-1:])"
   ]
  },
  {
   "cell_type": "code",
   "execution_count": 199,
   "id": "eaf9133d-19de-4fc8-8f1c-f763b19414d8",
   "metadata": {},
   "outputs": [
    {
     "data": {
      "text/plain": [
       "tuple"
      ]
     },
     "execution_count": 199,
     "metadata": {},
     "output_type": "execute_result"
    }
   ],
   "source": [
    "type((1,2)[1:1])"
   ]
  },
  {
   "cell_type": "code",
   "execution_count": 200,
   "id": "31d29550-ce58-4784-8d30-e94a32c6339d",
   "metadata": {},
   "outputs": [
    {
     "data": {
      "text/plain": [
       "0"
      ]
     },
     "execution_count": 200,
     "metadata": {},
     "output_type": "execute_result"
    }
   ],
   "source": [
    "len((1,2)[1:1])"
   ]
  },
  {
   "cell_type": "code",
   "execution_count": 209,
   "id": "6c1fd37b-8087-4188-bab2-1bbbfe1f23ce",
   "metadata": {},
   "outputs": [],
   "source": [
    "a = {'a' : 1, 'c' : 3, 'd' : 4}"
   ]
  },
  {
   "cell_type": "code",
   "execution_count": 203,
   "id": "70c65ec0-6e70-42d4-a691-b8f03cb4a57b",
   "metadata": {},
   "outputs": [],
   "source": [
    "a = (1, 1)"
   ]
  },
  {
   "cell_type": "code",
   "execution_count": 204,
   "id": "b2005e08-370e-44ff-96c1-8875c879fceb",
   "metadata": {},
   "outputs": [],
   "source": [
    "a = a + a"
   ]
  },
  {
   "cell_type": "code",
   "execution_count": 205,
   "id": "071b8998-4463-4c98-977d-e939c46c0746",
   "metadata": {},
   "outputs": [
    {
     "data": {
      "text/plain": [
       "4"
      ]
     },
     "execution_count": 205,
     "metadata": {},
     "output_type": "execute_result"
    }
   ],
   "source": [
    "len(a)"
   ]
  },
  {
   "cell_type": "code",
   "execution_count": 206,
   "id": "4c570f2b-b6f1-4b75-bb6e-d48113a93e06",
   "metadata": {},
   "outputs": [
    {
     "ename": "SyntaxError",
     "evalue": "invalid syntax (3785003840.py, line 1)",
     "output_type": "error",
     "traceback": [
      "\u001b[0;36m  Cell \u001b[0;32mIn[206], line 1\u001b[0;36m\u001b[0m\n\u001b[0;31m    a = {'a' : 1,,'c' : 3}\u001b[0m\n\u001b[0m                 ^\u001b[0m\n\u001b[0;31mSyntaxError\u001b[0m\u001b[0;31m:\u001b[0m invalid syntax\n"
     ]
    }
   ],
   "source": [
    "a = {'a' : 1,,'c' : 3}"
   ]
  },
  {
   "cell_type": "code",
   "execution_count": 210,
   "id": "9828dfeb-2bcc-4bd2-a0e0-45e469ca37a7",
   "metadata": {},
   "outputs": [
    {
     "data": {
      "text/plain": [
       "3"
      ]
     },
     "execution_count": 210,
     "metadata": {},
     "output_type": "execute_result"
    }
   ],
   "source": [
    "len(a)"
   ]
  },
  {
   "cell_type": "code",
   "execution_count": 211,
   "id": "8b5974c0-445c-49ab-87e5-2ac7230c1523",
   "metadata": {},
   "outputs": [
    {
     "data": {
      "text/plain": [
       "3"
      ]
     },
     "execution_count": 211,
     "metadata": {},
     "output_type": "execute_result"
    }
   ],
   "source": [
    "len([1, 2, [1, 2]])"
   ]
  },
  {
   "cell_type": "code",
   "execution_count": 212,
   "id": "1e49e8a6-117f-4120-aeb9-bf493095032f",
   "metadata": {},
   "outputs": [],
   "source": [
    "a = [1, 2]"
   ]
  },
  {
   "cell_type": "code",
   "execution_count": 213,
   "id": "8d431bb4-76fb-47e9-a881-228ed93ed535",
   "metadata": {},
   "outputs": [],
   "source": [
    "a.append(3)"
   ]
  },
  {
   "cell_type": "code",
   "execution_count": 214,
   "id": "2ffda973-8d88-455c-a29e-c3f12e256879",
   "metadata": {},
   "outputs": [
    {
     "data": {
      "text/plain": [
       "[1, 2, 3]"
      ]
     },
     "execution_count": 214,
     "metadata": {},
     "output_type": "execute_result"
    }
   ],
   "source": [
    "a "
   ]
  },
  {
   "cell_type": "code",
   "execution_count": 215,
   "id": "26612ed3-2aa0-4336-9c44-651f93207945",
   "metadata": {},
   "outputs": [],
   "source": [
    "a = [1, 2]"
   ]
  },
  {
   "cell_type": "code",
   "execution_count": 216,
   "id": "c6031dd3-cbb7-4ba5-8366-2d9f294380ae",
   "metadata": {},
   "outputs": [],
   "source": [
    "a = a.append(3)"
   ]
  },
  {
   "cell_type": "code",
   "execution_count": 217,
   "id": "b4482b07-f7c0-4362-813f-1933ce5c1857",
   "metadata": {},
   "outputs": [],
   "source": [
    "a"
   ]
  },
  {
   "cell_type": "code",
   "execution_count": 218,
   "id": "2c6da2ea-0cc2-464a-b839-7db58a4a3433",
   "metadata": {},
   "outputs": [
    {
     "name": "stdout",
     "output_type": "stream",
     "text": [
      "None\n"
     ]
    }
   ],
   "source": [
    "print(a)"
   ]
  },
  {
   "cell_type": "code",
   "execution_count": 219,
   "id": "f5272da8-5c5e-4db0-8f99-1ffce9cfc190",
   "metadata": {},
   "outputs": [
    {
     "data": {
      "text/plain": [
       "NoneType"
      ]
     },
     "execution_count": 219,
     "metadata": {},
     "output_type": "execute_result"
    }
   ],
   "source": [
    "type(a)"
   ]
  },
  {
   "cell_type": "code",
   "execution_count": 220,
   "id": "0a35c083-b355-4107-adbf-ce895db0e767",
   "metadata": {},
   "outputs": [],
   "source": [
    "a = [1, 2]"
   ]
  },
  {
   "cell_type": "code",
   "execution_count": 221,
   "id": "751740af-a9f6-4fab-964d-97cab263e040",
   "metadata": {},
   "outputs": [
    {
     "ename": "TypeError",
     "evalue": "can only concatenate list (not \"int\") to list",
     "output_type": "error",
     "traceback": [
      "\u001b[0;31m---------------------------------------------------------------------------\u001b[0m",
      "\u001b[0;31mTypeError\u001b[0m                                 Traceback (most recent call last)",
      "Cell \u001b[0;32mIn[221], line 1\u001b[0m\n\u001b[0;32m----> 1\u001b[0m b \u001b[38;5;241m=\u001b[39m \u001b[43ma\u001b[49m\u001b[43m \u001b[49m\u001b[38;5;241;43m+\u001b[39;49m\u001b[43m \u001b[49m\u001b[38;5;241;43m3\u001b[39;49m\n",
      "\u001b[0;31mTypeError\u001b[0m: can only concatenate list (not \"int\") to list"
     ]
    }
   ],
   "source": [
    "b = a + 3"
   ]
  },
  {
   "cell_type": "code",
   "execution_count": 222,
   "id": "2bb5b8a5-7b78-4f60-81f3-87347a69b881",
   "metadata": {},
   "outputs": [],
   "source": [
    "a = [1, 2]"
   ]
  },
  {
   "cell_type": "code",
   "execution_count": 224,
   "id": "a5e1ddb2-5705-4ba7-9d61-74948df79853",
   "metadata": {},
   "outputs": [],
   "source": [
    "b = a.extend([3])"
   ]
  },
  {
   "cell_type": "code",
   "execution_count": 225,
   "id": "5a65a610-45ee-46ee-b788-9f9c215a75b8",
   "metadata": {},
   "outputs": [],
   "source": [
    "b"
   ]
  },
  {
   "cell_type": "code",
   "execution_count": 226,
   "id": "49cbb470-1ffe-4de2-a645-e311de68bac0",
   "metadata": {},
   "outputs": [
    {
     "name": "stdout",
     "output_type": "stream",
     "text": [
      "None\n"
     ]
    }
   ],
   "source": [
    "print(b)"
   ]
  },
  {
   "cell_type": "code",
   "execution_count": 227,
   "id": "ad5f5d9a-d540-443d-b828-bfd6b294e75d",
   "metadata": {},
   "outputs": [
    {
     "data": {
      "text/plain": [
       "[1, 2, 3]"
      ]
     },
     "execution_count": 227,
     "metadata": {},
     "output_type": "execute_result"
    }
   ],
   "source": [
    "a"
   ]
  },
  {
   "cell_type": "code",
   "execution_count": 228,
   "id": "98605d18-f336-42c7-b8a3-ab34f7a410a6",
   "metadata": {},
   "outputs": [],
   "source": [
    "a = [1, 2]\n",
    "b = a + [3]\n",
    "c = a\n",
    "d = a.copy()\n",
    "a.append(4)\n",
    "c.extend([5])"
   ]
  },
  {
   "cell_type": "code",
   "execution_count": 229,
   "id": "fc1ad40e-78dd-4676-9cab-f94f49e06cd6",
   "metadata": {},
   "outputs": [
    {
     "data": {
      "text/plain": [
       "[1, 2, 4, 5]"
      ]
     },
     "execution_count": 229,
     "metadata": {},
     "output_type": "execute_result"
    }
   ],
   "source": [
    "a"
   ]
  },
  {
   "cell_type": "code",
   "execution_count": 230,
   "id": "90ba4099-2c35-4864-8b91-41a0f77ce6d1",
   "metadata": {},
   "outputs": [
    {
     "data": {
      "text/plain": [
       "[1, 2, 3]"
      ]
     },
     "execution_count": 230,
     "metadata": {},
     "output_type": "execute_result"
    }
   ],
   "source": [
    "b"
   ]
  },
  {
   "cell_type": "code",
   "execution_count": 231,
   "id": "0340f135-e9ea-49a6-9eeb-610a4e84de46",
   "metadata": {},
   "outputs": [
    {
     "data": {
      "text/plain": [
       "[1, 2, 4, 5]"
      ]
     },
     "execution_count": 231,
     "metadata": {},
     "output_type": "execute_result"
    }
   ],
   "source": [
    "c"
   ]
  },
  {
   "cell_type": "code",
   "execution_count": 232,
   "id": "2b804583-19a3-4af9-9b63-ae945bbcbeb4",
   "metadata": {},
   "outputs": [
    {
     "data": {
      "text/plain": [
       "[1, 2]"
      ]
     },
     "execution_count": 232,
     "metadata": {},
     "output_type": "execute_result"
    }
   ],
   "source": [
    "d"
   ]
  },
  {
   "cell_type": "code",
   "execution_count": 233,
   "id": "1cbd04aa-403e-4032-bcf8-10785d04f378",
   "metadata": {},
   "outputs": [],
   "source": [
    "a = [1, 2]\n",
    "b = (1, 2)\n",
    "c = {1: 1, 2: 2}"
   ]
  },
  {
   "cell_type": "code",
   "execution_count": 234,
   "id": "9129037b-f7b2-4fff-8625-3da061eab271",
   "metadata": {},
   "outputs": [
    {
     "ename": "IndexError",
     "evalue": "list assignment index out of range",
     "output_type": "error",
     "traceback": [
      "\u001b[0;31m---------------------------------------------------------------------------\u001b[0m",
      "\u001b[0;31mIndexError\u001b[0m                                Traceback (most recent call last)",
      "Cell \u001b[0;32mIn[234], line 1\u001b[0m\n\u001b[0;32m----> 1\u001b[0m \u001b[43ma\u001b[49m\u001b[43m[\u001b[49m\u001b[38;5;241;43m2\u001b[39;49m\u001b[43m]\u001b[49m \u001b[38;5;241m=\u001b[39m b\n",
      "\u001b[0;31mIndexError\u001b[0m: list assignment index out of range"
     ]
    }
   ],
   "source": [
    "a[2] = b"
   ]
  },
  {
   "cell_type": "code",
   "execution_count": 235,
   "id": "2f2d28e7-9e6a-4fba-9593-10443179ea80",
   "metadata": {},
   "outputs": [
    {
     "data": {
      "text/plain": [
       "2"
      ]
     },
     "execution_count": 235,
     "metadata": {},
     "output_type": "execute_result"
    }
   ],
   "source": [
    "a[1]"
   ]
  },
  {
   "cell_type": "code",
   "execution_count": 236,
   "id": "764d55a1-7945-4d4f-8880-d28b32778577",
   "metadata": {},
   "outputs": [
    {
     "data": {
      "text/plain": [
       "2"
      ]
     },
     "execution_count": 236,
     "metadata": {},
     "output_type": "execute_result"
    }
   ],
   "source": [
    "b[1]"
   ]
  },
  {
   "cell_type": "code",
   "execution_count": 237,
   "id": "4d97b631-b2f8-4f13-93b8-56737a3ae311",
   "metadata": {},
   "outputs": [],
   "source": [
    "arr = np.array([1, 2, 3, 4, 5])"
   ]
  },
  {
   "cell_type": "code",
   "execution_count": 238,
   "id": "15a990a7-2bc4-4a4e-9faf-8717afba59c5",
   "metadata": {},
   "outputs": [
    {
     "data": {
      "text/plain": [
       "(5,)"
      ]
     },
     "execution_count": 238,
     "metadata": {},
     "output_type": "execute_result"
    }
   ],
   "source": [
    "arr.shape"
   ]
  },
  {
   "cell_type": "code",
   "execution_count": null,
   "id": "c76840d5-ee57-43a2-8edd-e1ca73bf583e",
   "metadata": {},
   "outputs": [],
   "source": []
  }
 ],
 "metadata": {
  "kernelspec": {
   "display_name": "Python 3 (ipykernel)",
   "language": "python",
   "name": "python3"
  },
  "language_info": {
   "codemirror_mode": {
    "name": "ipython",
    "version": 3
   },
   "file_extension": ".py",
   "mimetype": "text/x-python",
   "name": "python",
   "nbconvert_exporter": "python",
   "pygments_lexer": "ipython3",
   "version": "3.11.1"
  }
 },
 "nbformat": 4,
 "nbformat_minor": 5
}
