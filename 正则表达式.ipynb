{
 "cells": [
  {
   "cell_type": "code",
   "execution_count": 1,
   "id": "dab7efa9-18a9-4007-8a1b-73de42202aa2",
   "metadata": {},
   "outputs": [],
   "source": [
    "import re"
   ]
  },
  {
   "cell_type": "code",
   "execution_count": 2,
   "id": "a5eb424d-c231-4fe1-9b06-34172db14b01",
   "metadata": {},
   "outputs": [],
   "source": [
    "demo = 'wtl_2109@COLUMBIA.EDU'"
   ]
  },
  {
   "cell_type": "code",
   "execution_count": 3,
   "id": "60af23d6-4e1f-447d-abf6-cf5d7b2a89f2",
   "metadata": {},
   "outputs": [
    {
     "data": {
      "text/plain": [
       "'wtl_2109@COLUMBIA.?'"
      ]
     },
     "execution_count": 3,
     "metadata": {},
     "output_type": "execute_result"
    }
   ],
   "source": [
    "re.sub(\"(EDU|EDUCATION)\", \"?\", demo)"
   ]
  },
  {
   "cell_type": "code",
   "execution_count": 4,
   "id": "effa9949-141b-425a-bc91-7fe07f03bd82",
   "metadata": {},
   "outputs": [
    {
     "data": {
      "text/plain": [
       "'w?l_2??9@COLUMBIA.EDU'"
      ]
     },
     "execution_count": 4,
     "metadata": {},
     "output_type": "execute_result"
    }
   ],
   "source": [
    "re.sub(\"(t|0|1)\", \"?\", demo)"
   ]
  },
  {
   "cell_type": "code",
   "execution_count": 2,
   "id": "66f47d0b-877d-4262-9f3b-ddd4b59b5f2c",
   "metadata": {},
   "outputs": [
    {
     "name": "stdout",
     "output_type": "stream",
     "text": [
      "Downloading from https://www.kaggle.com/api/v1/datasets/download/rajeevw/ufcdata?dataset_version_number=2...\n"
     ]
    },
    {
     "name": "stderr",
     "output_type": "stream",
     "text": [
      "100%|█████████████████████████████████████████████████████████████████████████████████████████████████████████████████████████████| 3.70M/3.70M [00:00<00:00, 7.66MB/s]"
     ]
    },
    {
     "name": "stdout",
     "output_type": "stream",
     "text": [
      "Extracting files...\n"
     ]
    },
    {
     "name": "stderr",
     "output_type": "stream",
     "text": [
      "\n"
     ]
    },
    {
     "name": "stdout",
     "output_type": "stream",
     "text": [
      "Path to dataset files: /Users/apple/.cache/kagglehub/datasets/rajeevw/ufcdata/versions/2\n"
     ]
    }
   ],
   "source": [
    "import kagglehub\n",
    "\n",
    "# Download latest version\n",
    "path = kagglehub.dataset_download(\"rajeevw/ufcdata\")\n",
    "\n",
    "print(\"Path to dataset files:\", path)"
   ]
  },
  {
   "cell_type": "code",
   "execution_count": 4,
   "id": "186300b6-89e8-4715-a5d0-d67835c4a913",
   "metadata": {},
   "outputs": [],
   "source": [
    "import pandas as pd\n",
    "dat = pd.read_csv('/Users/apple/.cache/kagglehub/datasets/rajeevw/ufcdata/versions/2/raw_fighter_details.csv')"
   ]
  },
  {
   "cell_type": "code",
   "execution_count": 6,
   "id": "8253a2a3-c4a4-495b-910d-b851dd3e6652",
   "metadata": {},
   "outputs": [
    {
     "data": {
      "text/html": [
       "<div>\n",
       "<style scoped>\n",
       "    .dataframe tbody tr th:only-of-type {\n",
       "        vertical-align: middle;\n",
       "    }\n",
       "\n",
       "    .dataframe tbody tr th {\n",
       "        vertical-align: top;\n",
       "    }\n",
       "\n",
       "    .dataframe thead th {\n",
       "        text-align: right;\n",
       "    }\n",
       "</style>\n",
       "<table border=\"1\" class=\"dataframe\">\n",
       "  <thead>\n",
       "    <tr style=\"text-align: right;\">\n",
       "      <th></th>\n",
       "      <th>fighter_name</th>\n",
       "      <th>Height</th>\n",
       "      <th>Weight</th>\n",
       "      <th>Reach</th>\n",
       "      <th>Stance</th>\n",
       "      <th>DOB</th>\n",
       "      <th>SLpM</th>\n",
       "      <th>Str_Acc</th>\n",
       "      <th>SApM</th>\n",
       "      <th>Str_Def</th>\n",
       "      <th>TD_Avg</th>\n",
       "      <th>TD_Acc</th>\n",
       "      <th>TD_Def</th>\n",
       "      <th>Sub_Avg</th>\n",
       "    </tr>\n",
       "  </thead>\n",
       "  <tbody>\n",
       "    <tr>\n",
       "      <th>0</th>\n",
       "      <td>Tom Aaron</td>\n",
       "      <td>NaN</td>\n",
       "      <td>155 lbs.</td>\n",
       "      <td>NaN</td>\n",
       "      <td>NaN</td>\n",
       "      <td>Jul 13, 1978</td>\n",
       "      <td>0.00</td>\n",
       "      <td>0%</td>\n",
       "      <td>0.00</td>\n",
       "      <td>0%</td>\n",
       "      <td>0.00</td>\n",
       "      <td>0%</td>\n",
       "      <td>0%</td>\n",
       "      <td>0.0</td>\n",
       "    </tr>\n",
       "    <tr>\n",
       "      <th>1</th>\n",
       "      <td>Papy Abedi</td>\n",
       "      <td>5' 11\"</td>\n",
       "      <td>185 lbs.</td>\n",
       "      <td>NaN</td>\n",
       "      <td>Southpaw</td>\n",
       "      <td>Jun 30, 1978</td>\n",
       "      <td>2.80</td>\n",
       "      <td>55%</td>\n",
       "      <td>3.15</td>\n",
       "      <td>48%</td>\n",
       "      <td>3.47</td>\n",
       "      <td>57%</td>\n",
       "      <td>50%</td>\n",
       "      <td>1.3</td>\n",
       "    </tr>\n",
       "    <tr>\n",
       "      <th>2</th>\n",
       "      <td>Shamil Abdurakhimov</td>\n",
       "      <td>6' 3\"</td>\n",
       "      <td>235 lbs.</td>\n",
       "      <td>76\"</td>\n",
       "      <td>Orthodox</td>\n",
       "      <td>Sep 02, 1981</td>\n",
       "      <td>2.45</td>\n",
       "      <td>44%</td>\n",
       "      <td>2.45</td>\n",
       "      <td>58%</td>\n",
       "      <td>1.23</td>\n",
       "      <td>24%</td>\n",
       "      <td>47%</td>\n",
       "      <td>0.2</td>\n",
       "    </tr>\n",
       "    <tr>\n",
       "      <th>3</th>\n",
       "      <td>Danny Abbadi</td>\n",
       "      <td>5' 11\"</td>\n",
       "      <td>155 lbs.</td>\n",
       "      <td>NaN</td>\n",
       "      <td>Orthodox</td>\n",
       "      <td>Jul 03, 1983</td>\n",
       "      <td>3.29</td>\n",
       "      <td>38%</td>\n",
       "      <td>4.41</td>\n",
       "      <td>57%</td>\n",
       "      <td>0.00</td>\n",
       "      <td>0%</td>\n",
       "      <td>77%</td>\n",
       "      <td>0.0</td>\n",
       "    </tr>\n",
       "    <tr>\n",
       "      <th>4</th>\n",
       "      <td>Hiroyuki Abe</td>\n",
       "      <td>5' 6\"</td>\n",
       "      <td>145 lbs.</td>\n",
       "      <td>NaN</td>\n",
       "      <td>Orthodox</td>\n",
       "      <td>NaN</td>\n",
       "      <td>1.71</td>\n",
       "      <td>36%</td>\n",
       "      <td>3.11</td>\n",
       "      <td>63%</td>\n",
       "      <td>0.00</td>\n",
       "      <td>0%</td>\n",
       "      <td>33%</td>\n",
       "      <td>0.0</td>\n",
       "    </tr>\n",
       "  </tbody>\n",
       "</table>\n",
       "</div>"
      ],
      "text/plain": [
       "          fighter_name  Height    Weight Reach    Stance           DOB  SLpM  \\\n",
       "0            Tom Aaron     NaN  155 lbs.   NaN       NaN  Jul 13, 1978  0.00   \n",
       "1           Papy Abedi  5' 11\"  185 lbs.   NaN  Southpaw  Jun 30, 1978  2.80   \n",
       "2  Shamil Abdurakhimov   6' 3\"  235 lbs.   76\"  Orthodox  Sep 02, 1981  2.45   \n",
       "3         Danny Abbadi  5' 11\"  155 lbs.   NaN  Orthodox  Jul 03, 1983  3.29   \n",
       "4         Hiroyuki Abe   5' 6\"  145 lbs.   NaN  Orthodox           NaN  1.71   \n",
       "\n",
       "  Str_Acc  SApM Str_Def  TD_Avg TD_Acc TD_Def  Sub_Avg  \n",
       "0      0%  0.00      0%    0.00     0%     0%      0.0  \n",
       "1     55%  3.15     48%    3.47    57%    50%      1.3  \n",
       "2     44%  2.45     58%    1.23    24%    47%      0.2  \n",
       "3     38%  4.41     57%    0.00     0%    77%      0.0  \n",
       "4     36%  3.11     63%    0.00     0%    33%      0.0  "
      ]
     },
     "execution_count": 6,
     "metadata": {},
     "output_type": "execute_result"
    }
   ],
   "source": [
    "dat.head()"
   ]
  },
  {
   "cell_type": "code",
   "execution_count": 7,
   "id": "44dbb61a-a472-48e9-ace0-4aef0068417b",
   "metadata": {},
   "outputs": [
    {
     "data": {
      "text/plain": [
       "0    Jul 13, 1978\n",
       "1    Jun 30, 1978\n",
       "2    Sep 02, 1981\n",
       "3    Jul 03, 1983\n",
       "4             NaN\n",
       "Name: DOB, dtype: object"
      ]
     },
     "execution_count": 7,
     "metadata": {},
     "output_type": "execute_result"
    }
   ],
   "source": [
    "dat.DOB.head()"
   ]
  },
  {
   "cell_type": "code",
   "execution_count": 20,
   "id": "b3d0fa99-b83b-4e1f-93cb-aa7b1ff96688",
   "metadata": {},
   "outputs": [],
   "source": [
    "def get_month(string):\n",
    "    if len(string) != 12:\n",
    "        return string\n",
    "    return string[: 3]"
   ]
  },
  {
   "cell_type": "code",
   "execution_count": 22,
   "id": "b8641dd1-7d22-4583-ab65-f274170abba6",
   "metadata": {},
   "outputs": [],
   "source": [
    "months = dat.DOB.apply(lambda x: get_month(str(x)))"
   ]
  },
  {
   "cell_type": "code",
   "execution_count": 23,
   "id": "a85a3c24-46d7-4443-9cd0-25701b6124c0",
   "metadata": {},
   "outputs": [
    {
     "data": {
      "text/plain": [
       "0       Jul\n",
       "1       Jun\n",
       "2       Sep\n",
       "3       Jul\n",
       "4       nan\n",
       "       ... \n",
       "3591    Jul\n",
       "3592    nan\n",
       "3593    nan\n",
       "3594    Apr\n",
       "3595    Jun\n",
       "Name: DOB, Length: 3596, dtype: object"
      ]
     },
     "execution_count": 23,
     "metadata": {},
     "output_type": "execute_result"
    }
   ],
   "source": [
    "months"
   ]
  },
  {
   "cell_type": "code",
   "execution_count": 26,
   "id": "31cf8e3b-acc4-4748-bd12-2ce27e2df9f1",
   "metadata": {},
   "outputs": [
    {
     "data": {
      "text/plain": [
       "DOB\n",
       "nan    739\n",
       "Aug    296\n",
       "Jul    284\n",
       "May    249\n",
       "Oct    249\n",
       "Sep    240\n",
       "Mar    237\n",
       "Jun    232\n",
       "Apr    223\n",
       "Feb    219\n",
       "Nov    218\n",
       "Dec    210\n",
       "Jan    200\n",
       "Name: count, dtype: int64"
      ]
     },
     "execution_count": 26,
     "metadata": {},
     "output_type": "execute_result"
    }
   ],
   "source": [
    "months.value_counts()\n",
    "# when we need to count the number of all kinds of data in a column, we can use the .value_counts() method."
   ]
  },
  {
   "cell_type": "code",
   "execution_count": 28,
   "id": "2c0371fa-489a-4057-9b58-97594595e21f",
   "metadata": {},
   "outputs": [],
   "source": [
    "# more complcated situcation: natural language and natural text\n",
    "# The general syntax for the pattern is to specify:\n",
    "# 1. The type of the character.\n",
    "# 2. Immediatedly followed by the frequency for the character."
   ]
  },
  {
   "cell_type": "code",
   "execution_count": 30,
   "id": "6996e03a-c16c-4115-aca1-f758f077695d",
   "metadata": {},
   "outputs": [],
   "source": [
    "import re\n",
    "# the module re is the package we need to use to replace the specified pattern with a specified output."
   ]
  },
  {
   "cell_type": "code",
   "execution_count": 52,
   "id": "b0116783-0cef-4f1a-b43b-8d47732736e3",
   "metadata": {},
   "outputs": [],
   "source": [
    "demo = 'rawr rawrr rawrrr!'"
   ]
  },
  {
   "cell_type": "code",
   "execution_count": 37,
   "id": "2569095b-1a0e-465a-bdf4-5641955701a5",
   "metadata": {},
   "outputs": [
    {
     "data": {
      "text/plain": [
       "'_aw_ _aw__ _aw___!'"
      ]
     },
     "execution_count": 37,
     "metadata": {},
     "output_type": "execute_result"
    }
   ],
   "source": [
    "# here we use the '_' to replace the 'r'\n",
    "re.sub('r', '_', demo)"
   ]
  },
  {
   "cell_type": "code",
   "execution_count": 38,
   "id": "ef211952-c014-4d7a-8cc5-044cdc535ef4",
   "metadata": {},
   "outputs": [
    {
     "data": {
      "text/plain": [
       "'rawr raw_ raw_r!'"
      ]
     },
     "execution_count": 38,
     "metadata": {},
     "output_type": "execute_result"
    }
   ],
   "source": [
    "# we use '_' to replace 'rr'\n",
    "re.sub('r{2}', '_', demo)"
   ]
  },
  {
   "cell_type": "code",
   "execution_count": 39,
   "id": "ab5a1ede-6a25-4e60-a44e-04bbcee30ce3",
   "metadata": {},
   "outputs": [
    {
     "data": {
      "text/plain": [
       "'rawr rawk rawkr!'"
      ]
     },
     "execution_count": 39,
     "metadata": {},
     "output_type": "execute_result"
    }
   ],
   "source": [
    "re.sub('r{2}', 'k', demo)"
   ]
  },
  {
   "cell_type": "code",
   "execution_count": 46,
   "id": "e0caec31-b3f8-4295-a318-e45f0a087a2b",
   "metadata": {},
   "outputs": [
    {
     "data": {
      "text/plain": [
       "'rawr raw_ raw_!'"
      ]
     },
     "execution_count": 46,
     "metadata": {},
     "output_type": "execute_result"
    }
   ],
   "source": [
    "re.sub('r{2,4}', '_', demo)"
   ]
  },
  {
   "cell_type": "code",
   "execution_count": 47,
   "id": "c60a73ef-8ef3-41f9-b1c2-8ff7e9114b40",
   "metadata": {},
   "outputs": [
    {
     "data": {
      "text/plain": [
       "'_aw_ _aw_ _aw_!'"
      ]
     },
     "execution_count": 47,
     "metadata": {},
     "output_type": "execute_result"
    }
   ],
   "source": [
    "re.sub('r{1,3}', '_', demo)"
   ]
  },
  {
   "cell_type": "code",
   "execution_count": 49,
   "id": "ee99fc2d-4245-4486-a653-7c0531595103",
   "metadata": {},
   "outputs": [
    {
     "data": {
      "text/plain": [
       "'__a_w__ __a_w___ __a_w____!_'"
      ]
     },
     "execution_count": 49,
     "metadata": {},
     "output_type": "execute_result"
    }
   ],
   "source": [
    "# replace all the space and r to '_'\n",
    "re.sub('r?', '_', demo)"
   ]
  },
  {
   "cell_type": "code",
   "execution_count": 50,
   "id": "7712248a-11e0-4679-a120-57eb5e4b0332",
   "metadata": {},
   "outputs": [
    {
     "data": {
      "text/plain": [
       "'_aw_ _aw_ _aw_!'"
      ]
     },
     "execution_count": 50,
     "metadata": {},
     "output_type": "execute_result"
    }
   ],
   "source": [
    "# one or more times\n",
    "re.sub('r+', '_', demo)"
   ]
  },
  {
   "cell_type": "code",
   "execution_count": 53,
   "id": "e3883738-786f-454b-92b1-b99c2336daf1",
   "metadata": {},
   "outputs": [
    {
     "data": {
      "text/plain": [
       "'__a_w__ __a_w__ __a_w__!_'"
      ]
     },
     "execution_count": 53,
     "metadata": {},
     "output_type": "execute_result"
    }
   ],
   "source": [
    "# zero or more time ocurrance\n",
    "# zero mean that '_' will take place when there even no space, between any two characters.\n",
    "re.sub('r*', '_', demo)"
   ]
  },
  {
   "cell_type": "code",
   "execution_count": 54,
   "id": "cfac1965-92d0-41d8-aae7-24fbc688972b",
   "metadata": {},
   "outputs": [],
   "source": [
    "demo = 'wtl_2109@COLUMBIA.EDU'"
   ]
  },
  {
   "cell_type": "code",
   "execution_count": 58,
   "id": "3f39570d-7f02-452b-9c83-3b3eebda2912",
   "metadata": {},
   "outputs": [
    {
     "data": {
      "text/plain": [
       "'wtl_2109@COLUMBIA.?'"
      ]
     },
     "execution_count": 58,
     "metadata": {},
     "output_type": "execute_result"
    }
   ],
   "source": [
    "# replace EDU or EDUCATION with '?'\n",
    "re.sub('EDU|EDUCATION', '?', demo)"
   ]
  },
  {
   "cell_type": "code",
   "execution_count": 59,
   "id": "0dffd691-d772-45b4-b49b-e2477a13960b",
   "metadata": {},
   "outputs": [
    {
     "data": {
      "text/plain": [
       "'wtl_2109@COLUMBIA.?'"
      ]
     },
     "execution_count": 59,
     "metadata": {},
     "output_type": "execute_result"
    }
   ],
   "source": [
    "re.sub('EDU', '?', demo)"
   ]
  },
  {
   "cell_type": "code",
   "execution_count": 60,
   "id": "fd534981-87b3-4a68-828c-548598004b44",
   "metadata": {},
   "outputs": [
    {
     "data": {
      "text/plain": [
       "'wtl_2109@COLUMBIA.EDU'"
      ]
     },
     "execution_count": 60,
     "metadata": {},
     "output_type": "execute_result"
    }
   ],
   "source": [
    "re.sub('EDUCATION', '?', demo)"
   ]
  },
  {
   "cell_type": "code",
   "execution_count": 62,
   "id": "7d80fb43-a9f2-4be8-8984-eba7e337531d",
   "metadata": {},
   "outputs": [
    {
     "data": {
      "text/plain": [
       "'w?l_2??9@COLUMBIA.EDU'"
      ]
     },
     "execution_count": 62,
     "metadata": {},
     "output_type": "execute_result"
    }
   ],
   "source": [
    "# transfer t or 0 or 1 to '?'\n",
    "re.sub('[t01]', '?', demo)"
   ]
  },
  {
   "cell_type": "code",
   "execution_count": 63,
   "id": "5eb99d9f-4fbe-403b-9f52-617bf8398083",
   "metadata": {},
   "outputs": [
    {
     "data": {
      "text/plain": [
       "'wtl_2?0?@COLUMBIA.EDU'"
      ]
     },
     "execution_count": 63,
     "metadata": {},
     "output_type": "execute_result"
    }
   ],
   "source": [
    "re.sub('[91]', '?', demo)"
   ]
  },
  {
   "cell_type": "code",
   "execution_count": 65,
   "id": "c07fc822-9cb6-4b63-9f18-4cb5c12d38c5",
   "metadata": {},
   "outputs": [
    {
     "data": {
      "text/plain": [
       "'wtl_????@COLUMBIA.EDU'"
      ]
     },
     "execution_count": 65,
     "metadata": {},
     "output_type": "execute_result"
    }
   ],
   "source": [
    "# the '\\d' meand that all numbers! it equals to the [0-9]\n",
    "re.sub(\"\\d\", \"?\", demo)"
   ]
  },
  {
   "cell_type": "code",
   "execution_count": 66,
   "id": "3fc0e560-736c-4c8f-94c3-044b0949c77c",
   "metadata": {},
   "outputs": [
    {
     "data": {
      "text/plain": [
       "'wtl_????@COLUMBIA.EDU'"
      ]
     },
     "execution_count": 66,
     "metadata": {},
     "output_type": "execute_result"
    }
   ],
   "source": [
    "re.sub('[0-9]', '?', demo)"
   ]
  },
  {
   "cell_type": "code",
   "execution_count": 67,
   "id": "c0cccffb-b363-44b2-b65d-7d29cb1f2fcf",
   "metadata": {},
   "outputs": [
    {
     "data": {
      "text/plain": [
       "'wtl_2109@????????.???'"
      ]
     },
     "execution_count": 67,
     "metadata": {},
     "output_type": "execute_result"
    }
   ],
   "source": [
    "re.sub('[A-Z]', '?', demo)"
   ]
  },
  {
   "cell_type": "code",
   "execution_count": 70,
   "id": "f131e073-b75f-4d18-974b-48c7091e1364",
   "metadata": {},
   "outputs": [
    {
     "data": {
      "text/plain": [
       "'????????@????????.???'"
      ]
     },
     "execution_count": 70,
     "metadata": {},
     "output_type": "execute_result"
    }
   ],
   "source": [
    "# '\\w' means that all letters and numbers can be replaced by '?'. alphanumeric means letters and numbers\n",
    "re.sub('\\w','?', demo)\n"
   ]
  },
  {
   "cell_type": "code",
   "execution_count": 72,
   "id": "4d500d95-430f-4829-99d3-67a400ca0030",
   "metadata": {},
   "outputs": [
    {
     "data": {
      "text/plain": [
       "'???_????@????????.???'"
      ]
     },
     "execution_count": 72,
     "metadata": {},
     "output_type": "execute_result"
    }
   ],
   "source": [
    "re.sub('[0-9A-Za-z]', '?', demo)"
   ]
  },
  {
   "cell_type": "code",
   "execution_count": 73,
   "id": "fc4ce4ba-54e8-4d1e-8773-2241a7d97fb7",
   "metadata": {},
   "outputs": [
    {
     "data": {
      "text/plain": [
       "'????????@????????.???'"
      ]
     },
     "execution_count": 73,
     "metadata": {},
     "output_type": "execute_result"
    }
   ],
   "source": [
    "re.sub('[0-9A-Za-z_]', '?', demo)"
   ]
  },
  {
   "cell_type": "code",
   "execution_count": 74,
   "id": "eee9d357-4289-4a7d-be38-893aae7f04fd",
   "metadata": {},
   "outputs": [
    {
     "data": {
      "text/plain": [
       "'?????????????????????'"
      ]
     },
     "execution_count": 74,
     "metadata": {},
     "output_type": "execute_result"
    }
   ],
   "source": [
    "# . means any character!!!\n",
    "re.sub('.', '?', demo)"
   ]
  },
  {
   "cell_type": "code",
   "execution_count": 76,
   "id": "0a36b120-5a35-488b-a512-873f4b7dd782",
   "metadata": {},
   "outputs": [
    {
     "data": {
      "text/plain": [
       "'wtl??????????????????'"
      ]
     },
     "execution_count": 76,
     "metadata": {},
     "output_type": "execute_result"
    }
   ],
   "source": [
    "# the ^ means not: [^a-z] means not lower cases letter\n",
    "re.sub('[^a-z]', '?', demo)"
   ]
  },
  {
   "cell_type": "code",
   "execution_count": 77,
   "id": "3cf89c29-f689-4d2a-92f7-3041686dc73a",
   "metadata": {},
   "outputs": [
    {
     "data": {
      "text/plain": [
       "['Experience',\n",
       " 'with',\n",
       " 'Google',\n",
       " 'Analytics',\n",
       " 'and',\n",
       " 'Google',\n",
       " 'Optimize',\n",
       " 'Knowledge',\n",
       " 'of',\n",
       " 'project',\n",
       " 'management',\n",
       " 'tools',\n",
       " 'JIRA',\n",
       " 'Trello',\n",
       " 'Asana',\n",
       " '']"
      ]
     },
     "execution_count": 77,
     "metadata": {},
     "output_type": "execute_result"
    }
   ],
   "source": [
    "import re\n",
    "\n",
    "demo = \"Experience with Google Analytics and Google Optimize\\nKnowledge of project management tools (JIRA, Trello, Asana)\\n\"\n",
    "# means replace any character which is not letters with space' '\n",
    "re.sub(\"[^a-zA-Z]+\", \" \", demo).split(\" \")"
   ]
  },
  {
   "cell_type": "code",
   "execution_count": 78,
   "id": "e909aad5-fa27-4327-b50b-ce3f6a835b0b",
   "metadata": {},
   "outputs": [
    {
     "data": {
      "text/plain": [
       "['Experience',\n",
       " 'with',\n",
       " 'Google',\n",
       " 'Analytics',\n",
       " 'and',\n",
       " 'Google',\n",
       " 'Optimize',\n",
       " 'Knowledge',\n",
       " 'of',\n",
       " 'project',\n",
       " 'management',\n",
       " 'tools',\n",
       " '',\n",
       " 'JIRA',\n",
       " '',\n",
       " 'Trello',\n",
       " '',\n",
       " 'Asana',\n",
       " '',\n",
       " '']"
      ]
     },
     "execution_count": 78,
     "metadata": {},
     "output_type": "execute_result"
    }
   ],
   "source": [
    "re.sub(\"[^a-zA-Z]\", \" \", demo).split(\" \")"
   ]
  },
  {
   "cell_type": "code",
   "execution_count": 79,
   "id": "1ee7c0b0-664e-4060-837f-59e6a022a7cb",
   "metadata": {},
   "outputs": [
    {
     "data": {
      "text/plain": [
       "'rawr, raw_, rwarrr'"
      ]
     },
     "execution_count": 79,
     "metadata": {},
     "output_type": "execute_result"
    }
   ],
   "source": [
    "# .count() method, can be used to count the frequenct of the target aim.\n",
    "demo = \"rawr, rawrr, rwarrr\"\n",
    "re.sub(\"r{2}\", \"_\", demo, count=1)"
   ]
  },
  {
   "cell_type": "code",
   "execution_count": 81,
   "id": "b4fbc104-713d-4615-94db-3f4d85adbf74",
   "metadata": {},
   "outputs": [],
   "source": [
    "# for the website name, we know that the 'www' and the 'com' are the module.\n",
    "demo = [\"www.google.com\", \"www.r-project.org\", \"www.linkedin.com\", \"xkcd.com\"]\n",
    "proper_demo = ['https://' + s for s in demo]"
   ]
  },
  {
   "cell_type": "code",
   "execution_count": 82,
   "id": "70e541b4-2759-4a8b-a40e-50ab40a479c4",
   "metadata": {},
   "outputs": [
    {
     "data": {
      "text/plain": [
       "['https://www.google.com',\n",
       " 'https://www.r-project.org',\n",
       " 'https://www.linkedin.com',\n",
       " 'https://xkcd.com']"
      ]
     },
     "execution_count": 82,
     "metadata": {},
     "output_type": "execute_result"
    }
   ],
   "source": [
    "proper_demo"
   ]
  },
  {
   "cell_type": "code",
   "execution_count": 88,
   "id": "1b15aeba-b7f6-4811-93f8-1d4dadcf0f84",
   "metadata": {},
   "outputs": [],
   "source": [
    "demo = [\"www.google.com\", \"www.r-project.org\", \"www.linkedin.com\", \"xkcd.com\"]\n",
    "proper_demo = ['https://' + s for s in demo]"
   ]
  },
  {
   "cell_type": "code",
   "execution_count": 89,
   "id": "09428224-f6b7-4673-9142-044bd91bb77e",
   "metadata": {},
   "outputs": [
    {
     "data": {
      "text/plain": [
       "['https://www.google.com',\n",
       " 'https://www.r-project.org',\n",
       " 'https://www.linkedin.com',\n",
       " 'https://xkcd.com']"
      ]
     },
     "execution_count": 89,
     "metadata": {},
     "output_type": "execute_result"
    }
   ],
   "source": [
    "proper_demo"
   ]
  },
  {
   "cell_type": "code",
   "execution_count": 83,
   "id": "3e1542f5-96c8-4182-8067-b50a2e498d62",
   "metadata": {},
   "outputs": [
    {
     "data": {
      "text/plain": [
       "['caught ya!', 'caught ya!', 'caught ya!', 'caught ya!']"
      ]
     },
     "execution_count": 83,
     "metadata": {},
     "output_type": "execute_result"
    }
   ],
   "source": [
    "pattern = \"https://(www\\.)?[^\\.]+\\.(com|org)\"\n",
    "[re.sub(pattern, \"caught ya!\", s) for s in proper_demo]"
   ]
  },
  {
   "cell_type": "code",
   "execution_count": 84,
   "id": "f37c439e-243b-496d-98fb-2af72b605c72",
   "metadata": {},
   "outputs": [],
   "source": [
    "demo_1 = '.dsf.afasdf.asfas.f'\n"
   ]
  },
  {
   "cell_type": "code",
   "execution_count": 86,
   "id": "d87e1680-fff3-4123-844c-e51887bc5e53",
   "metadata": {},
   "outputs": [
    {
     "data": {
      "text/plain": [
       "'?dsf?afasdf?asfas?f'"
      ]
     },
     "execution_count": 86,
     "metadata": {},
     "output_type": "execute_result"
    }
   ],
   "source": [
    "re.sub('\\.', '?', demo_1)"
   ]
  },
  {
   "cell_type": "code",
   "execution_count": 92,
   "id": "cec0892a-00eb-4d91-a5f9-88acafda5ca3",
   "metadata": {},
   "outputs": [],
   "source": [
    "pattern = 'https://(www\\.)?([^\\.]+)\\.(com|org)'"
   ]
  },
  {
   "cell_type": "code",
   "execution_count": 93,
   "id": "1e173835-d21a-49a6-967c-eff1a306f39d",
   "metadata": {},
   "outputs": [
    {
     "data": {
      "text/plain": [
       "['www. AND google AND com',\n",
       " 'www. AND r-project AND org',\n",
       " 'www. AND linkedin AND com',\n",
       " ' AND xkcd AND com']"
      ]
     },
     "execution_count": 93,
     "metadata": {},
     "output_type": "execute_result"
    }
   ],
   "source": [
    "[re.sub(pattern, \"\\\\1 AND \\\\2 AND \\\\3\", s) for s in proper_demo]"
   ]
  },
  {
   "cell_type": "code",
   "execution_count": 91,
   "id": "d13000d9-826d-44f7-a4ab-dfdccbbbd910",
   "metadata": {},
   "outputs": [
    {
     "data": {
      "text/plain": [
       "['www. AND google AND com',\n",
       " 'www. AND r-project AND org',\n",
       " 'www. AND linkedin AND com',\n",
       " ' AND xkcd AND com']"
      ]
     },
     "execution_count": 91,
     "metadata": {},
     "output_type": "execute_result"
    }
   ],
   "source": [
    "pattern = \"https://(www\\.)?([^\\.]+)\\.(com|org)\"\n",
    "[re.sub(pattern, \"\\\\1 AND \\\\2 AND \\\\3\", s) for s in proper_demo]"
   ]
  },
  {
   "cell_type": "code",
   "execution_count": 94,
   "id": "4862fead-99b5-449e-af04-b979b427b88a",
   "metadata": {},
   "outputs": [
    {
     "data": {
      "text/plain": [
       "['google', 'r-project', 'linkedin', 'xkcd']"
      ]
     },
     "execution_count": 94,
     "metadata": {},
     "output_type": "execute_result"
    }
   ],
   "source": [
    "[re.sub(pattern, \"\\\\2\", s) for s in proper_demo]"
   ]
  },
  {
   "cell_type": "code",
   "execution_count": 95,
   "id": "40355985-8811-4b0f-ae40-a062a0d44d7d",
   "metadata": {},
   "outputs": [
    {
     "data": {
      "text/plain": [
       "['www.SOMETHING.com',\n",
       " 'www.SOMETHING.org',\n",
       " 'www.SOMETHING.com',\n",
       " 'SOMETHING.com']"
      ]
     },
     "execution_count": 95,
     "metadata": {},
     "output_type": "execute_result"
    }
   ],
   "source": [
    "[re.sub(pattern, \"\\\\1SOMETHING.\\\\3\", s) for s in proper_demo]"
   ]
  },
  {
   "cell_type": "code",
   "execution_count": null,
   "id": "8438e8c4-5767-4e71-bd82-5b2c4f475a77",
   "metadata": {},
   "outputs": [],
   "source": []
  }
 ],
 "metadata": {
  "kernelspec": {
   "display_name": "Python 3 (ipykernel)",
   "language": "python",
   "name": "python3"
  },
  "language_info": {
   "codemirror_mode": {
    "name": "ipython",
    "version": 3
   },
   "file_extension": ".py",
   "mimetype": "text/x-python",
   "name": "python",
   "nbconvert_exporter": "python",
   "pygments_lexer": "ipython3",
   "version": "3.11.1"
  }
 },
 "nbformat": 4,
 "nbformat_minor": 5
}
