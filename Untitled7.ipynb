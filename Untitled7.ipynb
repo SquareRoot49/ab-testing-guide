{
 "cells": [
  {
   "cell_type": "code",
   "execution_count": 5,
   "id": "914112e2-f2f5-4547-958e-8e2554ed40a9",
   "metadata": {},
   "outputs": [],
   "source": [
    "import requests\n",
    "import pandas as pd"
   ]
  },
  {
   "cell_type": "code",
   "execution_count": 3,
   "id": "37ed69be-7346-4cba-ba84-6d08fa19a92b",
   "metadata": {},
   "outputs": [],
   "source": [
    "url = \"https://data.cityofnewyork.us/resource/erm2-nwe9.json\"\n",
    "query = \"\"\"\n",
    "SELECT\n",
    "     date_extract_y(created_date) as year,\n",
    "     date_extract_m(created_date) as month,\n",
    "     borough\n",
    "WHERE\n",
    "     date_extract_y(created_date) <= 2021 AND\n",
    "     agency = 'DSNY' AND\n",
    "     lower(complaint_type)LIKE '%miss%'\n",
    "GROUP BY\n",
    "     year, \n",
    "     month, \n",
    "     borough\n",
    "LIMIT\n",
    "     50000\n",
    "\"\"\""
   ]
  },
  {
   "cell_type": "code",
   "execution_count": null,
   "id": "3dce97e5-cccb-4913-b08f-ac16ed369bf3",
   "metadata": {},
   "outputs": [],
   "source": [
    "params = {\"$query\": query}\n",
    "resp = requests.get(url=url, params=params)\n",
    "\n"
   ]
  },
  {
   "cell_type": "code",
   "execution_count": null,
   "id": "3869ba81-c6e4-4d8a-96aa-0e7316bc5eca",
   "metadata": {},
   "outputs": [],
   "source": []
  }
 ],
 "metadata": {
  "kernelspec": {
   "display_name": "Python 3 (ipykernel)",
   "language": "python",
   "name": "python3"
  },
  "language_info": {
   "codemirror_mode": {
    "name": "ipython",
    "version": 3
   },
   "file_extension": ".py",
   "mimetype": "text/x-python",
   "name": "python",
   "nbconvert_exporter": "python",
   "pygments_lexer": "ipython3",
   "version": "3.11.1"
  }
 },
 "nbformat": 4,
 "nbformat_minor": 5
}
