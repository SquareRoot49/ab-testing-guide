{
 "cells": [
  {
   "cell_type": "code",
   "execution_count": 19,
   "id": "1d399b25-8e49-49d1-91b5-584f3980c7cd",
   "metadata": {},
   "outputs": [],
   "source": [
    "import numpy as np\n",
    "import random\n",
    "import pandas as pd"
   ]
  },
  {
   "cell_type": "code",
   "execution_count": 4,
   "id": "74dd4427-b545-4b1b-b4ad-3007f7809091",
   "metadata": {},
   "outputs": [],
   "source": [
    "random.seed(0)"
   ]
  },
  {
   "cell_type": "code",
   "execution_count": 5,
   "id": "f478225e-f347-4639-a51b-f8cfdf1da5c9",
   "metadata": {},
   "outputs": [
    {
     "data": {
      "text/plain": [
       "0.8444218515250481"
      ]
     },
     "execution_count": 5,
     "metadata": {},
     "output_type": "execute_result"
    }
   ],
   "source": [
    "random.random()"
   ]
  },
  {
   "cell_type": "code",
   "execution_count": 6,
   "id": "c9bcf941-2773-422b-8774-afc9e8fe23b3",
   "metadata": {},
   "outputs": [
    {
     "data": {
      "text/plain": [
       "0.7579544029403025"
      ]
     },
     "execution_count": 6,
     "metadata": {},
     "output_type": "execute_result"
    }
   ],
   "source": [
    "random.random()"
   ]
  },
  {
   "cell_type": "code",
   "execution_count": 7,
   "id": "c6b0876c-2117-4799-a023-9ead12cfc022",
   "metadata": {},
   "outputs": [
    {
     "data": {
      "text/plain": [
       "0.420571580830845"
      ]
     },
     "execution_count": 7,
     "metadata": {},
     "output_type": "execute_result"
    }
   ],
   "source": [
    "random.random()"
   ]
  },
  {
   "cell_type": "code",
   "execution_count": 8,
   "id": "7fa22a8f-9bd3-4cb8-b303-1363a5bebc88",
   "metadata": {},
   "outputs": [],
   "source": [
    "random.seed(0)"
   ]
  },
  {
   "cell_type": "code",
   "execution_count": 9,
   "id": "1c8eca77-75a3-4983-844d-845e071ca021",
   "metadata": {},
   "outputs": [
    {
     "data": {
      "text/plain": [
       "0.8444218515250481"
      ]
     },
     "execution_count": 9,
     "metadata": {},
     "output_type": "execute_result"
    }
   ],
   "source": [
    "random.random()"
   ]
  },
  {
   "cell_type": "code",
   "execution_count": 10,
   "id": "58685e3a-5028-4bc3-ae3b-84444a717d2b",
   "metadata": {},
   "outputs": [],
   "source": [
    "# 随机数并不是真正的随机，其实是有规律的，但是由于其中的运算过于复杂，所以可以视为是随机的。\n",
    "# 产生随机数的过程相当于是一个函数，但是关键在于我们输入一个种子之后，会得到两个东西，一个是这个种子产生的随机数，另外一个是保证能生成下一个随机数的种子！\n",
    "# 因此如果我们想要同一个随机数，就需要再重新设置种子！\n",
    "# 设置种子后，其他人也可以得到我们同样的随机数！"
   ]
  },
  {
   "cell_type": "code",
   "execution_count": 14,
   "id": "a793fdff-8499-4057-9927-11ac8f749f43",
   "metadata": {},
   "outputs": [],
   "source": [
    "np.random.seed(42)"
   ]
  },
  {
   "cell_type": "code",
   "execution_count": 15,
   "id": "f68457a9-1960-4b7d-8e9e-e8e9272c62ad",
   "metadata": {},
   "outputs": [],
   "source": [
    "sample1 = np.random.normal(0, 1, 100)"
   ]
  },
  {
   "cell_type": "code",
   "execution_count": 16,
   "id": "2a30f8f4-184a-4e33-b40b-c7459caab0fc",
   "metadata": {},
   "outputs": [
    {
     "data": {
      "text/plain": [
       "array([ 0.49671415, -0.1382643 ,  0.64768854,  1.52302986, -0.23415337,\n",
       "       -0.23413696,  1.57921282,  0.76743473, -0.46947439,  0.54256004,\n",
       "       -0.46341769, -0.46572975,  0.24196227, -1.91328024, -1.72491783,\n",
       "       -0.56228753, -1.01283112,  0.31424733, -0.90802408, -1.4123037 ,\n",
       "        1.46564877, -0.2257763 ,  0.0675282 , -1.42474819, -0.54438272,\n",
       "        0.11092259, -1.15099358,  0.37569802, -0.60063869, -0.29169375,\n",
       "       -0.60170661,  1.85227818, -0.01349722, -1.05771093,  0.82254491,\n",
       "       -1.22084365,  0.2088636 , -1.95967012, -1.32818605,  0.19686124,\n",
       "        0.73846658,  0.17136828, -0.11564828, -0.3011037 , -1.47852199,\n",
       "       -0.71984421, -0.46063877,  1.05712223,  0.34361829, -1.76304016,\n",
       "        0.32408397, -0.38508228, -0.676922  ,  0.61167629,  1.03099952,\n",
       "        0.93128012, -0.83921752, -0.30921238,  0.33126343,  0.97554513,\n",
       "       -0.47917424, -0.18565898, -1.10633497, -1.19620662,  0.81252582,\n",
       "        1.35624003, -0.07201012,  1.0035329 ,  0.36163603, -0.64511975,\n",
       "        0.36139561,  1.53803657, -0.03582604,  1.56464366, -2.6197451 ,\n",
       "        0.8219025 ,  0.08704707, -0.29900735,  0.09176078, -1.98756891,\n",
       "       -0.21967189,  0.35711257,  1.47789404, -0.51827022, -0.8084936 ,\n",
       "       -0.50175704,  0.91540212,  0.32875111, -0.5297602 ,  0.51326743,\n",
       "        0.09707755,  0.96864499, -0.70205309, -0.32766215, -0.39210815,\n",
       "       -1.46351495,  0.29612028,  0.26105527,  0.00511346, -0.23458713])"
      ]
     },
     "execution_count": 16,
     "metadata": {},
     "output_type": "execute_result"
    }
   ],
   "source": [
    "sample1"
   ]
  },
  {
   "cell_type": "code",
   "execution_count": 17,
   "id": "f40b0568-d518-41ec-b783-39fe13c18ed9",
   "metadata": {},
   "outputs": [],
   "source": [
    "sample2 = np.random.normal(0, 1, 100)"
   ]
  },
  {
   "cell_type": "code",
   "execution_count": 18,
   "id": "89671f29-6402-453a-8681-95f469c2cdec",
   "metadata": {},
   "outputs": [
    {
     "data": {
      "text/plain": [
       "array([-1.41537074, -0.42064532, -0.34271452, -0.80227727, -0.16128571,\n",
       "        0.40405086,  1.8861859 ,  0.17457781,  0.25755039, -0.07444592,\n",
       "       -1.91877122, -0.02651388,  0.06023021,  2.46324211, -0.19236096,\n",
       "        0.30154734, -0.03471177, -1.16867804,  1.14282281,  0.75193303,\n",
       "        0.79103195, -0.90938745,  1.40279431, -1.40185106,  0.58685709,\n",
       "        2.19045563, -0.99053633, -0.56629773,  0.09965137, -0.50347565,\n",
       "       -1.55066343,  0.06856297, -1.06230371,  0.47359243, -0.91942423,\n",
       "        1.54993441, -0.78325329, -0.32206152,  0.81351722, -1.23086432,\n",
       "        0.22745993,  1.30714275, -1.60748323,  0.18463386,  0.25988279,\n",
       "        0.78182287, -1.23695071, -1.32045661,  0.52194157,  0.29698467,\n",
       "        0.25049285,  0.34644821, -0.68002472,  0.2322537 ,  0.29307247,\n",
       "       -0.71435142,  1.86577451,  0.47383292, -1.1913035 ,  0.65655361,\n",
       "       -0.97468167,  0.7870846 ,  1.15859558, -0.82068232,  0.96337613,\n",
       "        0.41278093,  0.82206016,  1.89679298, -0.24538812, -0.75373616,\n",
       "       -0.88951443, -0.81581028, -0.07710171,  0.34115197,  0.2766908 ,\n",
       "        0.82718325,  0.01300189,  1.45353408, -0.26465683,  2.72016917,\n",
       "        0.62566735, -0.85715756, -1.0708925 ,  0.48247242, -0.22346279,\n",
       "        0.71400049,  0.47323762, -0.07282891, -0.84679372, -1.51484722,\n",
       "       -0.44651495,  0.85639879,  0.21409374, -1.24573878,  0.17318093,\n",
       "        0.38531738, -0.88385744,  0.15372511,  0.05820872, -1.1429703 ])"
      ]
     },
     "execution_count": 18,
     "metadata": {},
     "output_type": "execute_result"
    }
   ],
   "source": [
    "sample2"
   ]
  },
  {
   "cell_type": "code",
   "execution_count": 27,
   "id": "08b40658-0fd8-4107-ad91-88f4d7fdc59b",
   "metadata": {},
   "outputs": [],
   "source": [
    "data = pd.DataFrame({'Dataset1': sample1, 'Dataset2': sample2})"
   ]
  },
  {
   "cell_type": "code",
   "execution_count": 28,
   "id": "814f71af-700c-48ba-9202-3374471bc8f6",
   "metadata": {},
   "outputs": [
    {
     "data": {
      "text/html": [
       "<div>\n",
       "<style scoped>\n",
       "    .dataframe tbody tr th:only-of-type {\n",
       "        vertical-align: middle;\n",
       "    }\n",
       "\n",
       "    .dataframe tbody tr th {\n",
       "        vertical-align: top;\n",
       "    }\n",
       "\n",
       "    .dataframe thead th {\n",
       "        text-align: right;\n",
       "    }\n",
       "</style>\n",
       "<table border=\"1\" class=\"dataframe\">\n",
       "  <thead>\n",
       "    <tr style=\"text-align: right;\">\n",
       "      <th></th>\n",
       "      <th>Dataset1</th>\n",
       "      <th>Dataset2</th>\n",
       "    </tr>\n",
       "  </thead>\n",
       "  <tbody>\n",
       "    <tr>\n",
       "      <th>0</th>\n",
       "      <td>0.496714</td>\n",
       "      <td>-1.415371</td>\n",
       "    </tr>\n",
       "    <tr>\n",
       "      <th>1</th>\n",
       "      <td>-0.138264</td>\n",
       "      <td>-0.420645</td>\n",
       "    </tr>\n",
       "    <tr>\n",
       "      <th>2</th>\n",
       "      <td>0.647689</td>\n",
       "      <td>-0.342715</td>\n",
       "    </tr>\n",
       "    <tr>\n",
       "      <th>3</th>\n",
       "      <td>1.523030</td>\n",
       "      <td>-0.802277</td>\n",
       "    </tr>\n",
       "    <tr>\n",
       "      <th>4</th>\n",
       "      <td>-0.234153</td>\n",
       "      <td>-0.161286</td>\n",
       "    </tr>\n",
       "    <tr>\n",
       "      <th>...</th>\n",
       "      <td>...</td>\n",
       "      <td>...</td>\n",
       "    </tr>\n",
       "    <tr>\n",
       "      <th>95</th>\n",
       "      <td>-1.463515</td>\n",
       "      <td>0.385317</td>\n",
       "    </tr>\n",
       "    <tr>\n",
       "      <th>96</th>\n",
       "      <td>0.296120</td>\n",
       "      <td>-0.883857</td>\n",
       "    </tr>\n",
       "    <tr>\n",
       "      <th>97</th>\n",
       "      <td>0.261055</td>\n",
       "      <td>0.153725</td>\n",
       "    </tr>\n",
       "    <tr>\n",
       "      <th>98</th>\n",
       "      <td>0.005113</td>\n",
       "      <td>0.058209</td>\n",
       "    </tr>\n",
       "    <tr>\n",
       "      <th>99</th>\n",
       "      <td>-0.234587</td>\n",
       "      <td>-1.142970</td>\n",
       "    </tr>\n",
       "  </tbody>\n",
       "</table>\n",
       "<p>100 rows × 2 columns</p>\n",
       "</div>"
      ],
      "text/plain": [
       "    Dataset1  Dataset2\n",
       "0   0.496714 -1.415371\n",
       "1  -0.138264 -0.420645\n",
       "2   0.647689 -0.342715\n",
       "3   1.523030 -0.802277\n",
       "4  -0.234153 -0.161286\n",
       "..       ...       ...\n",
       "95 -1.463515  0.385317\n",
       "96  0.296120 -0.883857\n",
       "97  0.261055  0.153725\n",
       "98  0.005113  0.058209\n",
       "99 -0.234587 -1.142970\n",
       "\n",
       "[100 rows x 2 columns]"
      ]
     },
     "execution_count": 28,
     "metadata": {},
     "output_type": "execute_result"
    }
   ],
   "source": [
    "data"
   ]
  },
  {
   "cell_type": "code",
   "execution_count": 29,
   "id": "e02e4dc8-513d-49fe-aadf-bdb6673838ca",
   "metadata": {},
   "outputs": [],
   "source": [
    "# 对数据进行t-test"
   ]
  },
  {
   "cell_type": "code",
   "execution_count": 31,
   "id": "454d26fe-76db-4d1a-8b2c-67e08c191602",
   "metadata": {},
   "outputs": [],
   "source": [
    "d1bar = data['Dataset1'].mean()"
   ]
  },
  {
   "cell_type": "code",
   "execution_count": 33,
   "id": "242b38f2-951a-434d-b04e-8713889d301d",
   "metadata": {},
   "outputs": [],
   "source": [
    "n1 = len(data['Dataset1'])"
   ]
  },
  {
   "cell_type": "code",
   "execution_count": 99,
   "id": "8b2a4827-99b8-4451-9498-222be70f9911",
   "metadata": {},
   "outputs": [
    {
     "data": {
      "text/plain": [
       "np.float64(-0.10384651739409384)"
      ]
     },
     "execution_count": 99,
     "metadata": {},
     "output_type": "execute_result"
    }
   ],
   "source": [
    "d1bar"
   ]
  },
  {
   "cell_type": "code",
   "execution_count": 100,
   "id": "9847d867-495b-4204-a859-429545a81c69",
   "metadata": {},
   "outputs": [
    {
     "data": {
      "text/plain": [
       "100"
      ]
     },
     "execution_count": 100,
     "metadata": {},
     "output_type": "execute_result"
    }
   ],
   "source": [
    "n1"
   ]
  },
  {
   "cell_type": "code",
   "execution_count": 51,
   "id": "f79cd24f-d197-4ed9-bb45-50ddebf606fd",
   "metadata": {},
   "outputs": [],
   "source": [
    "t_s = (d1bar - 0) / (1 / n1**(0.5))"
   ]
  },
  {
   "cell_type": "code",
   "execution_count": 69,
   "id": "fa4b1af5-31bc-434b-91c3-756037e886bd",
   "metadata": {},
   "outputs": [
    {
     "name": "stdout",
     "output_type": "stream",
     "text": [
      "False\n"
     ]
    }
   ],
   "source": [
    "import numpy as np\n",
    "from scipy.stats import t\n",
    " \n",
    "# 自定义计算t分布的累计分布函数（CDF）的函数\n",
    "def t_cdf(x, df):\n",
    "    # 根据t分布的定义计算CDF\n",
    "    cdf = 0.5 * (1 + np.tan(np.pi * (x - np.sqrt(df) * np.arctan(np.sqrt((df + 1) / df) * np.tan(np.pi * (x + np.sqrt(df) / np.sqrt(df + 1)))) / 2) / np.pi))\n",
    "    return cdf\n",
    " \n",
    "# 使用scipy.stats内置的t分布函数来验证结果\n",
    "x_values = np.linspace(-5, 5, 1000)  # 创建一个包含1000个点的线性空间\n",
    "df = 1.5  # 自由度\n",
    "cdf_expected = t.cdf(x_values, df)  # 使用scipy计算期望的CDF值\n",
    "cdf_manual = manual_cdf_t_distribution(x_values, df)  # 使用自定义函数计算手动CDF值\n",
    " \n",
    "# 比较两者的差异\n",
    "print(np.allclose(cdf_expected, cdf_manual))  # 应该输出True，表示结果接近\n"
   ]
  },
  {
   "cell_type": "code",
   "execution_count": 70,
   "id": "fc268312-9c44-49c6-8b98-93a8c7d312c5",
   "metadata": {},
   "outputs": [],
   "source": [
    "def t_cdf(x, df):\n",
    "    # 根据t分布的定义计算CDF\n",
    "    cdf = 0.5 * (1 + np.tan(np.pi * (x - np.sqrt(df) * np.arctan(np.sqrt((df + 1) / df) * np.tan(np.pi * (x + np.sqrt(df) / np.sqrt(df + 1)))) / 2) / np.pi))\n",
    "    return cdf"
   ]
  },
  {
   "cell_type": "code",
   "execution_count": 75,
   "id": "ed734457-b354-4907-a01e-6806a9d7d2d0",
   "metadata": {},
   "outputs": [
    {
     "data": {
      "text/plain": [
       "np.float64(0.3143281973728479)"
      ]
     },
     "execution_count": 75,
     "metadata": {},
     "output_type": "execute_result"
    }
   ],
   "source": [
    "t_cdf(t_s, n1 - 1)"
   ]
  },
  {
   "cell_type": "code",
   "execution_count": 71,
   "id": "2bdc62df-5712-4801-a31e-7474e698456d",
   "metadata": {},
   "outputs": [],
   "source": [
    "p_value = 2*(t_cdf(t_s, n1 - 1))"
   ]
  },
  {
   "cell_type": "code",
   "execution_count": 72,
   "id": "9d0485de-9768-4c03-abc6-3dc95b826afa",
   "metadata": {},
   "outputs": [
    {
     "data": {
      "text/plain": [
       "np.float64(0.6286563947456958)"
      ]
     },
     "execution_count": 72,
     "metadata": {},
     "output_type": "execute_result"
    }
   ],
   "source": [
    "p_value"
   ]
  },
  {
   "cell_type": "code",
   "execution_count": 61,
   "id": "8ed2eddf-d498-4597-b2df-964e47646870",
   "metadata": {},
   "outputs": [],
   "source": [
    "# problem three"
   ]
  },
  {
   "cell_type": "code",
   "execution_count": 62,
   "id": "bce09307-d827-4f4a-99b3-010904373661",
   "metadata": {},
   "outputs": [],
   "source": [
    "u0 = 0\n",
    "u1 = 0.5\n",
    "t_s2 = (u1 - u0) / (1 / n1**(0.5))"
   ]
  },
  {
   "cell_type": "code",
   "execution_count": 64,
   "id": "f3fc4f94-56f1-4ec5-bd9e-a648517afee1",
   "metadata": {},
   "outputs": [],
   "source": [
    "from scipy.stats import t"
   ]
  },
  {
   "cell_type": "code",
   "execution_count": 66,
   "id": "35f9eebe-6580-41bd-b569-5e514dc9c4be",
   "metadata": {},
   "outputs": [],
   "source": [
    "t_tric = t.ppf(1 - 0.5 * 0.05, n1 - 1)"
   ]
  },
  {
   "cell_type": "code",
   "execution_count": 67,
   "id": "8185bcce-d1e6-46ae-9e1f-d0971bf26792",
   "metadata": {},
   "outputs": [
    {
     "data": {
      "text/plain": [
       "np.float64(1.9842169515086827)"
      ]
     },
     "execution_count": 67,
     "metadata": {},
     "output_type": "execute_result"
    }
   ],
   "source": [
    "t_tric"
   ]
  },
  {
   "cell_type": "code",
   "execution_count": 68,
   "id": "31a245aa-45f9-4b0c-a67e-ac2324e919cd",
   "metadata": {},
   "outputs": [
    {
     "data": {
      "text/plain": [
       "5.0"
      ]
     },
     "execution_count": 68,
     "metadata": {},
     "output_type": "execute_result"
    }
   ],
   "source": [
    "t_s2"
   ]
  },
  {
   "cell_type": "code",
   "execution_count": 91,
   "id": "d44f7b5e-ab41-4801-8e20-b123fa07db3d",
   "metadata": {},
   "outputs": [],
   "source": [
    "power = 1 - t_cdf(t_tric - t_s2, n1 - 1)"
   ]
  },
  {
   "cell_type": "code",
   "execution_count": 92,
   "id": "7c120ac4-4fee-4420-8415-751f65952722",
   "metadata": {},
   "outputs": [
    {
     "data": {
      "text/plain": [
       "np.float64(0.2569526503293825)"
      ]
     },
     "execution_count": 92,
     "metadata": {},
     "output_type": "execute_result"
    }
   ],
   "source": [
    "power"
   ]
  },
  {
   "cell_type": "code",
   "execution_count": 109,
   "id": "a384dfff-095f-4984-82f9-dc99b7a7005c",
   "metadata": {},
   "outputs": [],
   "source": [
    "u0 = 0\n",
    "d1_bar = data['Dataset1'].mean()\n",
    "n1 = len(data['Dataset1'])\n",
    "s = 0\n",
    "for i in data['Dataset1']:\n",
    "    s = s + (i - d1_bar)**2\n",
    "sd = (s / n1)**(0.5)\n",
    "t_stas = (d1_bar - u0) / (1 / n1**(0.5))"
   ]
  },
  {
   "cell_type": "code",
   "execution_count": 110,
   "id": "58b90a78-2912-4538-8bd7-ed86dc26743b",
   "metadata": {},
   "outputs": [
    {
     "data": {
      "text/plain": [
       "np.float64(-1.0384651739409383)"
      ]
     },
     "execution_count": 110,
     "metadata": {},
     "output_type": "execute_result"
    }
   ],
   "source": [
    "t_stas"
   ]
  },
  {
   "cell_type": "code",
   "execution_count": 81,
   "id": "9a1911e5-e74a-46e9-8e0b-3f4d9cc7d8f9",
   "metadata": {},
   "outputs": [
    {
     "data": {
      "text/plain": [
       "np.float64(0.3143281973728479)"
      ]
     },
     "execution_count": 81,
     "metadata": {},
     "output_type": "execute_result"
    }
   ],
   "source": [
    "t_cdf(t_stas, n1 - 1)"
   ]
  },
  {
   "cell_type": "code",
   "execution_count": 88,
   "id": "6bb6f4ed-d9d8-4efe-9826-a2f5dba24c4e",
   "metadata": {},
   "outputs": [
    {
     "data": {
      "text/plain": [
       "np.float64(-1.0384651739409383)"
      ]
     },
     "execution_count": 88,
     "metadata": {},
     "output_type": "execute_result"
    }
   ],
   "source": [
    "t_s"
   ]
  },
  {
   "cell_type": "code",
   "execution_count": 84,
   "id": "75250a09-0434-4fe3-b43f-c4a4210fcb28",
   "metadata": {},
   "outputs": [],
   "source": [
    "cdf = 0.5 * (1 + np.tan(np.pi * (t_stas - np.sqrt(n1 - 1) * np.arctan(np.sqrt((n1 - 1 + 1) / n1 - 1) * np.tan(np.pi * (t_stas + np.sqrt(n1 - 1) / np.sqrt(n1 - 1 + 1)))) / 2) / np.pi))"
   ]
  },
  {
   "cell_type": "code",
   "execution_count": 85,
   "id": "91511c23-d43c-4930-9681-d13bf217c80e",
   "metadata": {},
   "outputs": [
    {
     "data": {
      "text/plain": [
       "np.float64(-0.3488204357365212)"
      ]
     },
     "execution_count": 85,
     "metadata": {},
     "output_type": "execute_result"
    }
   ],
   "source": [
    "cdf"
   ]
  },
  {
   "cell_type": "code",
   "execution_count": 89,
   "id": "e43427d5-039f-40cd-9c17-ba333527149d",
   "metadata": {},
   "outputs": [
    {
     "data": {
      "text/plain": [
       "np.float64(0.3143281973728479)"
      ]
     },
     "execution_count": 89,
     "metadata": {},
     "output_type": "execute_result"
    }
   ],
   "source": [
    "t_cdf(t_stas, n1 - 1)"
   ]
  },
  {
   "cell_type": "code",
   "execution_count": 90,
   "id": "7829b999-8cab-40e0-b8fd-e12da9dfd87d",
   "metadata": {},
   "outputs": [
    {
     "data": {
      "text/plain": [
       "np.float64(0.3143281973728479)"
      ]
     },
     "execution_count": 90,
     "metadata": {},
     "output_type": "execute_result"
    }
   ],
   "source": [
    "t_cdf(t_s, n1 -1)"
   ]
  },
  {
   "cell_type": "code",
   "execution_count": 93,
   "id": "3507ec1a-1dd0-4f2a-8c59-a4b5a150267e",
   "metadata": {},
   "outputs": [
    {
     "ename": "SyntaxError",
     "evalue": "invalid syntax (1177528995.py, line 1)",
     "output_type": "error",
     "traceback": [
      "\u001b[0;36m  Cell \u001b[0;32mIn[93], line 1\u001b[0;36m\u001b[0m\n\u001b[0;31m    cdf = 0.5 * (1 + np.tan(np.pi * (t_stas - np.sqrt(n1 - 1) * np.arctan(np.sqrt((n1 - 1 + 1) / ) * np.tan(np.pi * (x + np.sqrt(df) / np.sqrt(df + 1)))) / 2) / np.pi))\u001b[0m\n\u001b[0m                                                                                                 ^\u001b[0m\n\u001b[0;31mSyntaxError\u001b[0m\u001b[0;31m:\u001b[0m invalid syntax\n"
     ]
    }
   ],
   "source": [
    "cdf = 0.5 * (1 + np.tan(np.pi * (t_stas - np.sqrt(n1 - 1) * np.arctan(np.sqrt((n1 - 1 + 1) / ) * np.tan(np.pi * (x + np.sqrt(df) / np.sqrt(df + 1)))) / 2) / np.pi))"
   ]
  },
  {
   "cell_type": "code",
   "execution_count": null,
   "id": "ccad93da-e173-4a5f-baeb-5db4ca8fd3cf",
   "metadata": {},
   "outputs": [],
   "source": []
  },
  {
   "cell_type": "code",
   "execution_count": 94,
   "id": "2aa7f7d3-3541-4753-b486-cff492830030",
   "metadata": {},
   "outputs": [],
   "source": [
    "from scipy import stats"
   ]
  },
  {
   "cell_type": "code",
   "execution_count": 95,
   "id": "5ec63582-f2f9-41c5-ac77-90b28a573d29",
   "metadata": {},
   "outputs": [
    {
     "ename": "TypeError",
     "evalue": "ttest_ind() missing 1 required positional argument: 'b'",
     "output_type": "error",
     "traceback": [
      "\u001b[0;31m---------------------------------------------------------------------------\u001b[0m",
      "\u001b[0;31mKeyError\u001b[0m                                  Traceback (most recent call last)",
      "File \u001b[0;32m~/Desktop/pythonProject10/venv/lib/python3.11/site-packages/scipy/stats/_axis_nan_policy.py:497\u001b[0m, in \u001b[0;36m_axis_nan_policy_factory.<locals>.axis_nan_policy_decorator.<locals>.axis_nan_policy_wrapper\u001b[0;34m(_no_deco, *args, **kwds)\u001b[0m\n\u001b[1;32m    496\u001b[0m \u001b[38;5;28;01mtry\u001b[39;00m:  \u001b[38;5;66;03m# if something is missing\u001b[39;00m\n\u001b[0;32m--> 497\u001b[0m     samples \u001b[38;5;241m=\u001b[39m \u001b[43m[\u001b[49m\u001b[43mnp\u001b[49m\u001b[38;5;241;43m.\u001b[39;49m\u001b[43matleast_1d\u001b[49m\u001b[43m(\u001b[49m\u001b[43mkwds\u001b[49m\u001b[38;5;241;43m.\u001b[39;49m\u001b[43mpop\u001b[49m\u001b[43m(\u001b[49m\u001b[43mparam\u001b[49m\u001b[43m)\u001b[49m\u001b[43m)\u001b[49m\n\u001b[1;32m    498\u001b[0m \u001b[43m               \u001b[49m\u001b[38;5;28;43;01mfor\u001b[39;49;00m\u001b[43m \u001b[49m\u001b[43mparam\u001b[49m\u001b[43m \u001b[49m\u001b[38;5;129;43;01min\u001b[39;49;00m\u001b[43m \u001b[49m\u001b[43m(\u001b[49m\u001b[43mparams\u001b[49m\u001b[43m[\u001b[49m\u001b[43m:\u001b[49m\u001b[43mn_samp\u001b[49m\u001b[43m]\u001b[49m\u001b[43m \u001b[49m\u001b[38;5;241;43m+\u001b[39;49m\u001b[43m \u001b[49m\u001b[43mkwd_samp\u001b[49m\u001b[43m)\u001b[49m\u001b[43m]\u001b[49m\n\u001b[1;32m    499\u001b[0m \u001b[38;5;28;01mexcept\u001b[39;00m \u001b[38;5;167;01mKeyError\u001b[39;00m:  \u001b[38;5;66;03m# let the function raise the right error\u001b[39;00m\n\u001b[1;32m    500\u001b[0m     \u001b[38;5;66;03m# might need to revisit this if required arg is not a \"sample\"\u001b[39;00m\n",
      "File \u001b[0;32m~/Desktop/pythonProject10/venv/lib/python3.11/site-packages/scipy/stats/_axis_nan_policy.py:497\u001b[0m, in \u001b[0;36m<listcomp>\u001b[0;34m(.0)\u001b[0m\n\u001b[1;32m    496\u001b[0m \u001b[38;5;28;01mtry\u001b[39;00m:  \u001b[38;5;66;03m# if something is missing\u001b[39;00m\n\u001b[0;32m--> 497\u001b[0m     samples \u001b[38;5;241m=\u001b[39m [np\u001b[38;5;241m.\u001b[39matleast_1d(\u001b[43mkwds\u001b[49m\u001b[38;5;241;43m.\u001b[39;49m\u001b[43mpop\u001b[49m\u001b[43m(\u001b[49m\u001b[43mparam\u001b[49m\u001b[43m)\u001b[49m)\n\u001b[1;32m    498\u001b[0m                \u001b[38;5;28;01mfor\u001b[39;00m param \u001b[38;5;129;01min\u001b[39;00m (params[:n_samp] \u001b[38;5;241m+\u001b[39m kwd_samp)]\n\u001b[1;32m    499\u001b[0m \u001b[38;5;28;01mexcept\u001b[39;00m \u001b[38;5;167;01mKeyError\u001b[39;00m:  \u001b[38;5;66;03m# let the function raise the right error\u001b[39;00m\n\u001b[1;32m    500\u001b[0m     \u001b[38;5;66;03m# might need to revisit this if required arg is not a \"sample\"\u001b[39;00m\n",
      "\u001b[0;31mKeyError\u001b[0m: 'b'",
      "\nDuring handling of the above exception, another exception occurred:\n",
      "\u001b[0;31mTypeError\u001b[0m                                 Traceback (most recent call last)",
      "Cell \u001b[0;32mIn[95], line 1\u001b[0m\n\u001b[0;32m----> 1\u001b[0m t_statistic, p_value \u001b[38;5;241m=\u001b[39m \u001b[43mstats\u001b[49m\u001b[38;5;241;43m.\u001b[39;49m\u001b[43mttest_ind\u001b[49m\u001b[43m(\u001b[49m\u001b[43msample1\u001b[49m\u001b[43m)\u001b[49m\n",
      "File \u001b[0;32m~/Desktop/pythonProject10/venv/lib/python3.11/site-packages/scipy/stats/_axis_nan_policy.py:501\u001b[0m, in \u001b[0;36m_axis_nan_policy_factory.<locals>.axis_nan_policy_decorator.<locals>.axis_nan_policy_wrapper\u001b[0;34m(_no_deco, *args, **kwds)\u001b[0m\n\u001b[1;32m    497\u001b[0m     samples \u001b[38;5;241m=\u001b[39m [np\u001b[38;5;241m.\u001b[39matleast_1d(kwds\u001b[38;5;241m.\u001b[39mpop(param))\n\u001b[1;32m    498\u001b[0m                \u001b[38;5;28;01mfor\u001b[39;00m param \u001b[38;5;129;01min\u001b[39;00m (params[:n_samp] \u001b[38;5;241m+\u001b[39m kwd_samp)]\n\u001b[1;32m    499\u001b[0m \u001b[38;5;28;01mexcept\u001b[39;00m \u001b[38;5;167;01mKeyError\u001b[39;00m:  \u001b[38;5;66;03m# let the function raise the right error\u001b[39;00m\n\u001b[1;32m    500\u001b[0m     \u001b[38;5;66;03m# might need to revisit this if required arg is not a \"sample\"\u001b[39;00m\n\u001b[0;32m--> 501\u001b[0m     \u001b[43mhypotest_fun_in\u001b[49m\u001b[43m(\u001b[49m\u001b[38;5;241;43m*\u001b[39;49m\u001b[43margs\u001b[49m\u001b[43m,\u001b[49m\u001b[43m \u001b[49m\u001b[38;5;241;43m*\u001b[39;49m\u001b[38;5;241;43m*\u001b[39;49m\u001b[43mkwds\u001b[49m\u001b[43m)\u001b[49m\n\u001b[1;32m    502\u001b[0m vectorized \u001b[38;5;241m=\u001b[39m \u001b[38;5;28;01mTrue\u001b[39;00m \u001b[38;5;28;01mif\u001b[39;00m \u001b[38;5;124m'\u001b[39m\u001b[38;5;124maxis\u001b[39m\u001b[38;5;124m'\u001b[39m \u001b[38;5;129;01min\u001b[39;00m params \u001b[38;5;28;01melse\u001b[39;00m \u001b[38;5;28;01mFalse\u001b[39;00m\n\u001b[1;32m    503\u001b[0m vectorized \u001b[38;5;241m=\u001b[39m vectorized \u001b[38;5;129;01mand\u001b[39;00m \u001b[38;5;129;01mnot\u001b[39;00m override[\u001b[38;5;124m'\u001b[39m\u001b[38;5;124mvectorization\u001b[39m\u001b[38;5;124m'\u001b[39m]\n",
      "\u001b[0;31mTypeError\u001b[0m: ttest_ind() missing 1 required positional argument: 'b'"
     ]
    }
   ],
   "source": [
    "t_statistic, p_value = stats.ttest_ind(sample1)"
   ]
  },
  {
   "cell_type": "code",
   "execution_count": 106,
   "id": "7e244d9a-7350-4cf6-ab54-78964deea0dd",
   "metadata": {},
   "outputs": [],
   "source": [
    "t_stat, p_value = stats.ttest_1samp(sample1, 0)"
   ]
  },
  {
   "cell_type": "code",
   "execution_count": 107,
   "id": "533e7f77-84fb-4790-bdd7-69a49d452594",
   "metadata": {},
   "outputs": [
    {
     "data": {
      "text/plain": [
       "np.float64(0.25560017625303605)"
      ]
     },
     "execution_count": 107,
     "metadata": {},
     "output_type": "execute_result"
    }
   ],
   "source": [
    "p_value"
   ]
  },
  {
   "cell_type": "code",
   "execution_count": 108,
   "id": "29647959-ce70-48cc-9165-8d87b7bf316d",
   "metadata": {},
   "outputs": [
    {
     "data": {
      "text/plain": [
       "np.float64(-1.1434720057588463)"
      ]
     },
     "execution_count": 108,
     "metadata": {},
     "output_type": "execute_result"
    }
   ],
   "source": [
    "t_stat"
   ]
  },
  {
   "cell_type": "code",
   "execution_count": 104,
   "id": "b157e474-9956-4c27-a21d-88743d2da0bc",
   "metadata": {},
   "outputs": [],
   "source": [
    "import numpy as np\n",
    "from scipy import stats\n",
    " \n",
    "# 假设样本数据\n",
    "sample_data = np.array([1.1, 2.9, 3.5, 4.7, 5.2, 6.0, 7.0, 8.2, 9.5, 10.7])\n",
    " \n",
    "# 假设原假设的均值\n",
    "population_mean = 10.0\n",
    " \n",
    "# 执行单样本T检验\n",
    "t_stat, p_value = stats.ttest_1samp(sample_data, population_mean)"
   ]
  },
  {
   "cell_type": "code",
   "execution_count": 105,
   "id": "451ede88-0d86-4692-8ddd-13f4c1396b0a",
   "metadata": {},
   "outputs": [
    {
     "data": {
      "text/plain": [
       "np.float64(-4.310101343148389)"
      ]
     },
     "execution_count": 105,
     "metadata": {},
     "output_type": "execute_result"
    }
   ],
   "source": [
    "t_stat"
   ]
  },
  {
   "cell_type": "code",
   "execution_count": 111,
   "id": "ecbbb902-a3cc-4ac2-9895-b5f3ee381524",
   "metadata": {},
   "outputs": [],
   "source": [
    "t_stat, p_value = stats.ttest_1samp(sample1, 0)"
   ]
  },
  {
   "cell_type": "code",
   "execution_count": 112,
   "id": "5c10b972-04d3-4b2c-b662-7147be1f4460",
   "metadata": {},
   "outputs": [
    {
     "data": {
      "text/plain": [
       "np.float64(-1.1434720057588463)"
      ]
     },
     "execution_count": 112,
     "metadata": {},
     "output_type": "execute_result"
    }
   ],
   "source": [
    "t_stat"
   ]
  },
  {
   "cell_type": "code",
   "execution_count": 113,
   "id": "1932428f-9c9c-4d60-b049-1fa08ef90e01",
   "metadata": {},
   "outputs": [],
   "source": [
    "ss = 0\n",
    "for i in sample1:\n",
    "    ss = ss + (i - d1bar)**2"
   ]
  },
  {
   "cell_type": "code",
   "execution_count": 114,
   "id": "f451545e-ac30-425b-a958-be1a82aa6d0a",
   "metadata": {},
   "outputs": [
    {
     "data": {
      "text/plain": [
       "np.float64(81.65221946938586)"
      ]
     },
     "execution_count": 114,
     "metadata": {},
     "output_type": "execute_result"
    }
   ],
   "source": [
    "ss"
   ]
  },
  {
   "cell_type": "code",
   "execution_count": 117,
   "id": "d99e2a53-d18b-45fc-942a-e77ed789da3c",
   "metadata": {},
   "outputs": [],
   "source": [
    "t_stas = (d1_bar - 0) / (ss**(0.5) / n1**(0.5))"
   ]
  },
  {
   "cell_type": "code",
   "execution_count": 118,
   "id": "f0112236-4201-48f6-a71e-044b682bd471",
   "metadata": {},
   "outputs": [
    {
     "data": {
      "text/plain": [
       "np.float64(-0.114923260647794)"
      ]
     },
     "execution_count": 118,
     "metadata": {},
     "output_type": "execute_result"
    }
   ],
   "source": [
    "t_stas"
   ]
  },
  {
   "cell_type": "code",
   "execution_count": 128,
   "id": "45c75677-45b7-4b77-bf73-1e97b0cdbe5c",
   "metadata": {},
   "outputs": [],
   "source": [
    "t_stat = (d1bar - 0) / np.sqrt(ss / n1)"
   ]
  },
  {
   "cell_type": "code",
   "execution_count": 129,
   "id": "11be2739-f95e-4db2-b4f7-81e06c383be9",
   "metadata": {},
   "outputs": [
    {
     "data": {
      "text/plain": [
       "np.float64(-0.114923260647794)"
      ]
     },
     "execution_count": 129,
     "metadata": {},
     "output_type": "execute_result"
    }
   ],
   "source": [
    "t_stas"
   ]
  },
  {
   "cell_type": "code",
   "execution_count": 130,
   "id": "4166ce49-d00b-48a7-b834-e4c7255ed8d2",
   "metadata": {},
   "outputs": [
    {
     "data": {
      "text/plain": [
       "np.float64(-0.114923260647794)"
      ]
     },
     "execution_count": 130,
     "metadata": {},
     "output_type": "execute_result"
    }
   ],
   "source": [
    "t_stat"
   ]
  },
  {
   "cell_type": "code",
   "execution_count": 131,
   "id": "ff2f01ac-01c4-4fd5-9f4d-69dff52fed81",
   "metadata": {},
   "outputs": [],
   "source": [
    "t_stat, p_value = stats.ttest_1samp(sample1, 0)"
   ]
  },
  {
   "cell_type": "code",
   "execution_count": 132,
   "id": "14c3fbf0-61ae-4dad-8ff4-ff9e83f5a423",
   "metadata": {},
   "outputs": [
    {
     "data": {
      "text/plain": [
       "np.float64(-1.1434720057588463)"
      ]
     },
     "execution_count": 132,
     "metadata": {},
     "output_type": "execute_result"
    }
   ],
   "source": [
    "t_stat"
   ]
  },
  {
   "cell_type": "code",
   "execution_count": 140,
   "id": "e8005f77-dcaf-4c5f-b72d-03ecde4f01f8",
   "metadata": {},
   "outputs": [],
   "source": [
    "t_stat = (d1bar - 0) * n1**(0.5) / (np.sqrt(ss / (n1 - 1)))"
   ]
  },
  {
   "cell_type": "code",
   "execution_count": 141,
   "id": "1351912f-62ba-4f99-96bc-0e6c75090082",
   "metadata": {},
   "outputs": [
    {
     "data": {
      "text/plain": [
       "np.float64(-1.1434720057588463)"
      ]
     },
     "execution_count": 141,
     "metadata": {},
     "output_type": "execute_result"
    }
   ],
   "source": [
    "t_stat"
   ]
  },
  {
   "cell_type": "code",
   "execution_count": 144,
   "id": "4c5fd486-d6ba-4aec-8625-d4b0c3a53b07",
   "metadata": {},
   "outputs": [],
   "source": [
    "p_value = 2 * t.cdf(t_stat, df = n1 - 1)"
   ]
  },
  {
   "cell_type": "code",
   "execution_count": 145,
   "id": "479c55f5-6b73-4370-80f8-75a209cf3333",
   "metadata": {},
   "outputs": [
    {
     "data": {
      "text/plain": [
       "np.float64(0.25560017625303605)"
      ]
     },
     "execution_count": 145,
     "metadata": {},
     "output_type": "execute_result"
    }
   ],
   "source": [
    "p_value"
   ]
  },
  {
   "cell_type": "code",
   "execution_count": 146,
   "id": "6a1c6c3c-face-4375-b0ac-06a3112e8107",
   "metadata": {},
   "outputs": [],
   "source": [
    "a = [1, 2, 3, 4, 5, 6, 7]"
   ]
  },
  {
   "cell_type": "code",
   "execution_count": 149,
   "id": "e929c3ea-76f4-443d-a805-17aa33df654a",
   "metadata": {},
   "outputs": [
    {
     "data": {
      "text/plain": [
       "0"
      ]
     },
     "execution_count": 149,
     "metadata": {},
     "output_type": "execute_result"
    }
   ],
   "source": [
    "a.index(1)"
   ]
  },
  {
   "cell_type": "code",
   "execution_count": 150,
   "id": "1b883e3c-945b-4d47-a20b-d5b77707f8d8",
   "metadata": {},
   "outputs": [
    {
     "ename": "TypeError",
     "evalue": "can only concatenate list (not \"int\") to list",
     "output_type": "error",
     "traceback": [
      "\u001b[0;31m---------------------------------------------------------------------------\u001b[0m",
      "\u001b[0;31mTypeError\u001b[0m                                 Traceback (most recent call last)",
      "Cell \u001b[0;32mIn[150], line 1\u001b[0m\n\u001b[0;32m----> 1\u001b[0m \u001b[43ma\u001b[49m\u001b[43m \u001b[49m\u001b[38;5;241;43m+\u001b[39;49m\u001b[43m \u001b[49m\u001b[38;5;241;43m1\u001b[39;49m\n",
      "\u001b[0;31mTypeError\u001b[0m: can only concatenate list (not \"int\") to list"
     ]
    }
   ],
   "source": [
    "a + 1"
   ]
  },
  {
   "cell_type": "code",
   "execution_count": 174,
   "id": "b686d478-8797-460b-8be2-39b57b6c21f7",
   "metadata": {},
   "outputs": [],
   "source": [
    "def two_sum(nums, target):\n",
    "    for i in nums:\n",
    "        nums_new = list(map(lambda x: x + i, nums))\n",
    "        print(nums_new)\n",
    "        for j in nums_new:\n",
    "            if j == target:\n",
    "                print(nums.index(i), nums_new.index(j))"
   ]
  },
  {
   "cell_type": "code",
   "execution_count": 175,
   "id": "c364f1c6-1457-4592-9e32-9b1913311973",
   "metadata": {},
   "outputs": [
    {
     "name": "stdout",
     "output_type": "stream",
     "text": [
      "[2, 3, 4, 5, 6, 7, 8]\n",
      "0 4\n",
      "[3, 4, 5, 6, 7, 8, 9]\n",
      "1 3\n",
      "[4, 5, 6, 7, 8, 9, 10]\n",
      "2 2\n",
      "[5, 6, 7, 8, 9, 10, 11]\n",
      "3 1\n",
      "[6, 7, 8, 9, 10, 11, 12]\n",
      "4 0\n",
      "[7, 8, 9, 10, 11, 12, 13]\n",
      "[8, 9, 10, 11, 12, 13, 14]\n"
     ]
    }
   ],
   "source": [
    "two_sum(a, 6)"
   ]
  },
  {
   "cell_type": "code",
   "execution_count": 164,
   "id": "0cca254f-6eb5-4460-b177-6944942b5415",
   "metadata": {},
   "outputs": [],
   "source": [
    "nums_new = list(map(lambda x: x + a[0], a))"
   ]
  },
  {
   "cell_type": "code",
   "execution_count": 165,
   "id": "9ab16b93-cf77-4048-a50b-358029a2ac11",
   "metadata": {},
   "outputs": [
    {
     "data": {
      "text/plain": [
       "[2, 3, 4, 5, 6, 7, 8]"
      ]
     },
     "execution_count": 165,
     "metadata": {},
     "output_type": "execute_result"
    }
   ],
   "source": [
    "nums_new"
   ]
  },
  {
   "cell_type": "code",
   "execution_count": 203,
   "id": "28f4d826-5048-4c20-9122-262f62716cda",
   "metadata": {},
   "outputs": [],
   "source": [
    "def max_average(nums, k):\n",
    "    list = []\n",
    "    sum = 0\n",
    "    for i in nums:\n",
    "        id = nums.index(i)\n",
    "        if (id + k) <= len(nums):\n",
    "            for j in range(id , id + k):\n",
    "                sum = sum + nums[j]\n",
    "            list.append(sum)\n",
    "            sum = 0\n",
    "    print(list)\n",
    "    max_average = max(list) / k\n",
    "    print(max_average)"
   ]
  },
  {
   "cell_type": "code",
   "execution_count": 204,
   "id": "16811eaf-829e-4245-ae68-67abca27459b",
   "metadata": {},
   "outputs": [
    {
     "name": "stdout",
     "output_type": "stream",
     "text": [
      "[3, 5, 7, 9]\n",
      "4.5\n"
     ]
    }
   ],
   "source": [
    "max_average([1, 2, 3, 4, 5], 2)"
   ]
  },
  {
   "cell_type": "code",
   "execution_count": 205,
   "id": "84e53b49-4025-4631-84b4-68b9a7fa014b",
   "metadata": {},
   "outputs": [],
   "source": [
    "def remove_deplicates(nums):\n",
    "    new_nums = []\n",
    "    for i in nums:\n",
    "        if i not in new_nums:\n",
    "            new_nums.append(i)\n",
    "    print(len(new_nums))\n"
   ]
  },
  {
   "cell_type": "code",
   "execution_count": 206,
   "id": "1ec2e858-9340-499e-98fa-82580eb1d817",
   "metadata": {},
   "outputs": [],
   "source": [
    "a = [1, 1, 2, 2, 3, 3, 3, 4, 4, 4, 4, 5, 5, 6, 7, 7, 7, 7]"
   ]
  },
  {
   "cell_type": "code",
   "execution_count": 207,
   "id": "ec25b310-ef37-40ce-a4d3-6b887cd27c15",
   "metadata": {},
   "outputs": [
    {
     "name": "stdout",
     "output_type": "stream",
     "text": [
      "7\n"
     ]
    }
   ],
   "source": [
    "remove_deplicates(a)"
   ]
  },
  {
   "cell_type": "code",
   "execution_count": 239,
   "id": "04d2e70c-e99b-428e-b66e-14928c94dfd4",
   "metadata": {},
   "outputs": [],
   "source": [
    "def two_sum(nums, target):\n",
    "    k = 0\n",
    "    for i in nums:\n",
    "        nums_new = list(map(lambda x: x + i, nums))\n",
    "        for j in nums_new:\n",
    "            if j == target and k < 1:\n",
    "                print(list[nums.index(i), nums_new.index(j)])\n",
    "                k = k + 1"
   ]
  },
  {
   "cell_type": "code",
   "execution_count": 240,
   "id": "9d7a5f5e-4363-455d-9e4b-c5aa5de61c5b",
   "metadata": {},
   "outputs": [
    {
     "name": "stdout",
     "output_type": "stream",
     "text": [
      "list[3, 4]\n"
     ]
    }
   ],
   "source": [
    "a = [1, 2, 3, 4, 5]\n",
    "two_sum(a, 9)"
   ]
  },
  {
   "cell_type": "code",
   "execution_count": 241,
   "id": "8ea136bc-8559-4608-916b-030f7ee0d4a3",
   "metadata": {},
   "outputs": [
    {
     "name": "stdout",
     "output_type": "stream",
     "text": [
      "list[3, 4]\n"
     ]
    }
   ],
   "source": [
    "two_sum(a, 9)"
   ]
  },
  {
   "cell_type": "code",
   "execution_count": 244,
   "id": "10f8182b-b50b-4372-95f9-244328812d5b",
   "metadata": {},
   "outputs": [],
   "source": [
    "def max_average(nums, k):\n",
    "    list = []\n",
    "    sum = 0\n",
    "    for i in nums:\n",
    "        id = nums.index(i)\n",
    "        if (id + k) <= len(nums):\n",
    "            for j in range(id , id + k):\n",
    "                sum = sum + nums[j]\n",
    "            list.append(sum)\n",
    "            sum = 0\n",
    "    max_average = max(list) / k\n",
    "    return max_average"
   ]
  },
  {
   "cell_type": "code",
   "execution_count": 245,
   "id": "d0575f45-4c53-4dbf-b87c-f1f0e3faa813",
   "metadata": {},
   "outputs": [
    {
     "data": {
      "text/plain": [
       "4.0"
      ]
     },
     "execution_count": 245,
     "metadata": {},
     "output_type": "execute_result"
    }
   ],
   "source": [
    "max_average(a, 3)"
   ]
  },
  {
   "cell_type": "code",
   "execution_count": 246,
   "id": "aa7e2828-dc2f-43f5-8655-34122675de5a",
   "metadata": {},
   "outputs": [],
   "source": [
    "def remove_duplicates(nums):\n",
    "    new_nums = []\n",
    "    for i in nums:\n",
    "        if i not in new_nums:\n",
    "            new_nums.append(i)\n",
    "    print(len(new_nums))"
   ]
  },
  {
   "cell_type": "code",
   "execution_count": 247,
   "id": "55e91fd7-7f76-4ebd-81de-62c9d7e6c558",
   "metadata": {},
   "outputs": [
    {
     "name": "stdout",
     "output_type": "stream",
     "text": [
      "7\n"
     ]
    }
   ],
   "source": [
    "a = [1, 1, 2, 2, 3, 3, 3, 4, 4, 4, 4, 5, 5, 6, 7, 7, 7, 7]\n",
    "remove_duplicates(a)"
   ]
  },
  {
   "cell_type": "code",
   "execution_count": 320,
   "id": "12ef69b2-b642-4421-82cf-bf3502b03891",
   "metadata": {},
   "outputs": [],
   "source": [
    "def two_sum(nums, target):\n",
    "    k = 0\n",
    "    for i in nums:\n",
    "        nums_new = list(map(lambda x: x + i, nums))\n",
    "        for j in nums_new:\n",
    "            if j == target and k < 1:\n",
    "                if nums.index(i) == nums_new.index(j):\n",
    "                    nums_new[nums_new.index(j)] = j + 1\n",
    "                else:\n",
    "                    tw1 = nums.index(i)\n",
    "                    tw2 = nums_new.index(j)\n",
    "    if tw1 > tw2:\n",
    "        tw = tw1\n",
    "        tw1 = tw2\n",
    "        tw2 = tw\n",
    "    return [tw1, tw2]"
   ]
  },
  {
   "cell_type": "code",
   "execution_count": 321,
   "id": "4bc28ed7-1735-47aa-b1a9-7ef20833a864",
   "metadata": {},
   "outputs": [
    {
     "data": {
      "text/plain": [
       "[3, 4]"
      ]
     },
     "execution_count": 321,
     "metadata": {},
     "output_type": "execute_result"
    }
   ],
   "source": [
    "a = [1, 2, 3, 4, 5]\n",
    "two_sum(a, 9)"
   ]
  },
  {
   "cell_type": "code",
   "execution_count": 322,
   "id": "ab25f40e-4a83-4260-ad47-013738402728",
   "metadata": {},
   "outputs": [
    {
     "data": {
      "text/plain": [
       "[0, 4]"
      ]
     },
     "execution_count": 322,
     "metadata": {},
     "output_type": "execute_result"
    }
   ],
   "source": [
    "two_sum(a, 6)"
   ]
  },
  {
   "cell_type": "code",
   "execution_count": 323,
   "id": "95783791-2d35-4d70-92a9-e2b5416600ec",
   "metadata": {},
   "outputs": [
    {
     "ename": "UnboundLocalError",
     "evalue": "cannot access local variable 'tw1' where it is not associated with a value",
     "output_type": "error",
     "traceback": [
      "\u001b[0;31m---------------------------------------------------------------------------\u001b[0m",
      "\u001b[0;31mUnboundLocalError\u001b[0m                         Traceback (most recent call last)",
      "Cell \u001b[0;32mIn[323], line 1\u001b[0m\n\u001b[0;32m----> 1\u001b[0m \u001b[43mtwo_sum\u001b[49m\u001b[43m(\u001b[49m\u001b[43ma\u001b[49m\u001b[43m,\u001b[49m\u001b[43m \u001b[49m\u001b[38;5;241;43m2\u001b[39;49m\u001b[43m)\u001b[49m\n",
      "Cell \u001b[0;32mIn[320], line 12\u001b[0m, in \u001b[0;36mtwo_sum\u001b[0;34m(nums, target)\u001b[0m\n\u001b[1;32m     10\u001b[0m                 tw1 \u001b[38;5;241m=\u001b[39m nums\u001b[38;5;241m.\u001b[39mindex(i)\n\u001b[1;32m     11\u001b[0m                 tw2 \u001b[38;5;241m=\u001b[39m nums_new\u001b[38;5;241m.\u001b[39mindex(j)\n\u001b[0;32m---> 12\u001b[0m \u001b[38;5;28;01mif\u001b[39;00m \u001b[43mtw1\u001b[49m \u001b[38;5;241m>\u001b[39m tw2:\n\u001b[1;32m     13\u001b[0m     tw \u001b[38;5;241m=\u001b[39m tw1\n\u001b[1;32m     14\u001b[0m     tw1 \u001b[38;5;241m=\u001b[39m tw2\n",
      "\u001b[0;31mUnboundLocalError\u001b[0m: cannot access local variable 'tw1' where it is not associated with a value"
     ]
    }
   ],
   "source": [
    "two_sum(a, 2)"
   ]
  },
  {
   "cell_type": "code",
   "execution_count": 324,
   "id": "db385f47-92e6-46e8-8855-afe6e6b32367",
   "metadata": {},
   "outputs": [],
   "source": [
    "a  = [0, 2, 2, 3, 5]"
   ]
  },
  {
   "cell_type": "code",
   "execution_count": 325,
   "id": "36c2c773-899d-4bee-9d09-b42a6fd71f32",
   "metadata": {},
   "outputs": [
    {
     "data": {
      "text/plain": [
       "[1, 2]"
      ]
     },
     "execution_count": 325,
     "metadata": {},
     "output_type": "execute_result"
    }
   ],
   "source": [
    "two_sum(a, 4)"
   ]
  },
  {
   "cell_type": "code",
   "execution_count": 326,
   "id": "79697818-9552-4564-aa6f-56dea0fa0a96",
   "metadata": {},
   "outputs": [
    {
     "name": "stdout",
     "output_type": "stream",
     "text": [
      "['Homework2--test.ipynb', 'Untitled1.ipynb', '.DS_Store', 'Untitled.ipynb', 'Homework1--test.ipynb', 'Untitled2.ipynb', 'main.py', 'Homework3.ipynb']\n"
     ]
    }
   ],
   "source": [
    "import os\n",
    " \n",
    "# 假设你想要遍历当前目录下的所有文件\n",
    "directory = '.'\n",
    " \n",
    "# 使用列表推导式获取所有文件名\n",
    "file_names = [file for file in os.listdir(directory) if os.path.isfile(os.path.join(directory, file))]\n",
    " \n",
    "print(file_names)\n"
   ]
  },
  {
   "cell_type": "code",
   "execution_count": 329,
   "id": "387377d7-16c6-417e-9c3f-889b7edf5d01",
   "metadata": {},
   "outputs": [],
   "source": [
    "import pandas as pd\n",
    "df = pd.DataFrame({'City': ['北京', '广州', '深圳', '上海', '大连', '成都', '深圳', '厦门', '北京', '北京', '上海', '珠海'],\n",
    "                    'Revenue': [10000, 10000, 5000, 5000, 40000, 50000, 8000, 5000, 5000, 5000, 10000, 12000],\n",
    "                    'Age': [50, 43, 34, 40, 25, 25, 45, 32, 25, 25, 34, np.nan]})\n",
    "res1 = df['City'].value_counts()  # 按默认参数统计'City'列的频数\n",
    "res2 = df['Revenue'].value_counts(ascending=True)  # 按升序统计'Revenue'列的频数\n",
    "res3 = df['Age'].value_counts(normalize=True)  # 按标准化占比统计'Age'列的频数\n"
   ]
  },
  {
   "cell_type": "raw",
   "id": "8bc4e9bc-832d-477e-a694-0cb0f0d5f220",
   "metadata": {},
   "source": [
    "res1"
   ]
  },
  {
   "cell_type": "code",
   "execution_count": 330,
   "id": "648b6a5a-1d81-4dec-a3c8-904b1ba78ed7",
   "metadata": {},
   "outputs": [
    {
     "name": "stdout",
     "output_type": "stream",
     "text": [
      "City\n",
      "北京    3\n",
      "深圳    2\n",
      "上海    2\n",
      "广州    1\n",
      "大连    1\n",
      "成都    1\n",
      "厦门    1\n",
      "珠海    1\n",
      "Name: count, dtype: int64\n"
     ]
    }
   ],
   "source": [
    "print(res1)"
   ]
  },
  {
   "cell_type": "code",
   "execution_count": 331,
   "id": "3bd5f7c3-e903-474e-89d1-22dbf9f02b0d",
   "metadata": {},
   "outputs": [
    {
     "name": "stdout",
     "output_type": "stream",
     "text": [
      "Revenue\n",
      "50000    1\n",
      "40000    1\n",
      "12000    1\n",
      "8000     1\n",
      "10000    3\n",
      "5000     5\n",
      "Name: count, dtype: int64\n"
     ]
    }
   ],
   "source": [
    "print(res2)"
   ]
  },
  {
   "cell_type": "code",
   "execution_count": 332,
   "id": "43e94914-10d8-4b10-b13a-ae3ca3eea4cf",
   "metadata": {},
   "outputs": [],
   "source": [
    "def scrub2int(ob):\n",
    "  ob_string = str(ob)\n",
    "  if ob_string.isnumeric():\n",
    "    return int(ob_string)\n",
    "  else:\n",
    "    return np.nan"
   ]
  },
  {
   "cell_type": "code",
   "execution_count": 333,
   "id": "179c2b74-160f-46c0-95cb-002955232af9",
   "metadata": {},
   "outputs": [
    {
     "data": {
      "text/plain": [
       "5"
      ]
     },
     "execution_count": 333,
     "metadata": {},
     "output_type": "execute_result"
    }
   ],
   "source": [
    "scrub2int('5')"
   ]
  },
  {
   "cell_type": "code",
   "execution_count": 334,
   "id": "677bee9f-2ac5-484e-af49-40a547779c18",
   "metadata": {},
   "outputs": [
    {
     "data": {
      "text/plain": [
       "19"
      ]
     },
     "execution_count": 334,
     "metadata": {},
     "output_type": "execute_result"
    }
   ],
   "source": [
    "scrub2int(19)"
   ]
  },
  {
   "cell_type": "code",
   "execution_count": 335,
   "id": "ab7daf62-92d8-4324-af11-cc88cb71e9e0",
   "metadata": {},
   "outputs": [
    {
     "data": {
      "text/plain": [
       "nan"
      ]
     },
     "execution_count": 335,
     "metadata": {},
     "output_type": "execute_result"
    }
   ],
   "source": [
    "scrub2int('g')"
   ]
  },
  {
   "cell_type": "code",
   "execution_count": null,
   "id": "6f7b79e2-2c11-45b9-a4f9-4388c74316b4",
   "metadata": {},
   "outputs": [],
   "source": [
    "byline\n",
    "['headline']['main']\n",
    "author[0]['firtname']\n",
    "\n",
    "\n",
    "rows = []\n",
    "author_bag = {}\n",
    "byline = datum['byline']\n",
    "main_headline = datum['headline']['main']\n",
    "for person in byline['person']:\n",
    "    author_bag.append(person['firstname'])\n",
    "    author_bag.update({person['first name']: True})\n",
    "row = {'headline': main_headline}\n",
    "row.update(author_bag)\n",
    "\n",
    "author_bag = []\n",
    "def get"
   ]
  },
  {
   "cell_type": "code",
   "execution_count": 336,
   "id": "ef52b26b-4cbb-46ae-868e-88525a780412",
   "metadata": {},
   "outputs": [
    {
     "ename": "SyntaxError",
     "evalue": "invalid syntax (4018562908.py, line 1)",
     "output_type": "error",
     "traceback": [
      "\u001b[0;36m  Cell \u001b[0;32mIn[336], line 1\u001b[0;36m\u001b[0m\n\u001b[0;31m    vjk = id things\u001b[0m\n\u001b[0m             ^\u001b[0m\n\u001b[0;31mSyntaxError\u001b[0m\u001b[0;31m:\u001b[0m invalid syntax\n"
     ]
    }
   ],
   "source": [
    "vjk = id things"
   ]
  },
  {
   "cell_type": "code",
   "execution_count": 341,
   "id": "8072db5e-c642-431d-be49-312f2de628e2",
   "metadata": {},
   "outputs": [],
   "source": [
    "BASE_URL = \"https://api.census.gov/data/timeseries/intltrade/imports/enduse\""
   ]
  },
  {
   "cell_type": "code",
   "execution_count": 344,
   "id": "e48abdd3-ff53-454f-a25b-62bf4134ff9c",
   "metadata": {},
   "outputs": [],
   "source": [
    "import requests\n",
    "import pandas as pd\n",
    "\n",
    "end_point = 'https://api.census.gov/data/timeseries/intltrade/imports/enduse'\n",
    "\n",
    "years = range(2018, 2022)\n",
    "months = range(1, 13)\n",
    "\n",
    "dfs = []\n",
    "\n",
    "for month in months:\n",
    "    if month < 10:\n",
    "        month_str = f'0{month}'\n",
    "    else:\n",
    "        month_str = str(month)\n",
    "    payload = {\n",
    "        'get': 'CTY_CODE,CTY_NAME,I_ENDUSE,I_ENDUSE_LDESC,GEN_VAL_MO,CON_VAL_MO',\n",
    "        'time': f'{year}-{month_str}'}\n",
    "    resp = requests.get(url = end_point, params = payload)\n",
    "    assert resp.status_code == 200\n",
    "    dat = resp.json()\n",
    "    df = pd.DataFrame(dat[1:], columns = dat[0])\n",
    "    dfs.append(df)"
   ]
  },
  {
   "cell_type": "code",
   "execution_count": 343,
   "id": "0fbbb8ac-b7f6-4f75-99fc-37e2c6d19761",
   "metadata": {},
   "outputs": [
    {
     "data": {
      "text/plain": [
       "[      CTY_CODE                 CTY_NAME I_ENDUSE  \\\n",
       " 0            -  TOTAL FOR ALL COUNTRIES        -   \n",
       " 1         0001                     OPEC        -   \n",
       " 2         0003           EUROPEAN UNION        -   \n",
       " 3         0014    PACIFIC RIM COUNTRIES        -   \n",
       " 4         0017                 CAFTA-DR        -   \n",
       " ...        ...                      ...      ...   \n",
       " 13851     7880               MADAGASCAR    50040   \n",
       " 13852     7904                  REUNION    50040   \n",
       " 13853     7910             SOUTH AFRICA    50040   \n",
       " 13854     7XXX                   AFRICA    50040   \n",
       " 13855        -  TOTAL FOR ALL COUNTRIES    50040   \n",
       " \n",
       "                                           I_ENDUSE_LDESC    GEN_VAL_MO  \\\n",
       " 0                    TOTAL IMPORTS FOR ALL END-USE CODES  203028883846   \n",
       " 1                    TOTAL IMPORTS FOR ALL END-USE CODES    5811776722   \n",
       " 2                    TOTAL IMPORTS FOR ALL END-USE CODES   32324828722   \n",
       " 3                    TOTAL IMPORTS FOR ALL END-USE CODES   75627219017   \n",
       " 4                    TOTAL IMPORTS FOR ALL END-USE CODES    1745667404   \n",
       " ...                                                  ...           ...   \n",
       " 13851  OTHER (MOVIES, MISCELLANEOUS IMPORTS, AND SPEC...         32134   \n",
       " 13852  OTHER (MOVIES, MISCELLANEOUS IMPORTS, AND SPEC...          5818   \n",
       " 13853  OTHER (MOVIES, MISCELLANEOUS IMPORTS, AND SPEC...        130702   \n",
       " 13854  OTHER (MOVIES, MISCELLANEOUS IMPORTS, AND SPEC...        692674   \n",
       " 13855  OTHER (MOVIES, MISCELLANEOUS IMPORTS, AND SPEC...     482821293   \n",
       " \n",
       "          CON_VAL_MO     time  \n",
       " 0      201363447994  2018-01  \n",
       " 1        5077058800  2018-01  \n",
       " 2       32147782489  2018-01  \n",
       " 3       74486177148  2018-01  \n",
       " 4        1730840561  2018-01  \n",
       " ...             ...      ...  \n",
       " 13851         32134  2018-01  \n",
       " 13852          5818  2018-01  \n",
       " 13853        130702  2018-01  \n",
       " 13854        692674  2018-01  \n",
       " 13855     482546164  2018-01  \n",
       " \n",
       " [13856 rows x 7 columns],\n",
       "       CTY_CODE                 CTY_NAME I_ENDUSE  \\\n",
       " 0            -  TOTAL FOR ALL COUNTRIES        -   \n",
       " 1         0001                     OPEC        -   \n",
       " 2         0003           EUROPEAN UNION        -   \n",
       " 3         0014    PACIFIC RIM COUNTRIES        -   \n",
       " 4         0017                 CAFTA-DR        -   \n",
       " ...        ...                      ...      ...   \n",
       " 15214     7910             SOUTH AFRICA    50040   \n",
       " 15215     7920                  NAMIBIA    50040   \n",
       " 15216     7950                 ESWATINI    50040   \n",
       " 15217     7XXX                   AFRICA    50040   \n",
       " 15218        -  TOTAL FOR ALL COUNTRIES    50040   \n",
       " \n",
       "                                           I_ENDUSE_LDESC    GEN_VAL_MO  \\\n",
       " 0                    TOTAL IMPORTS FOR ALL END-USE CODES  186770202889   \n",
       " 1                    TOTAL IMPORTS FOR ALL END-USE CODES    4952539407   \n",
       " 2                    TOTAL IMPORTS FOR ALL END-USE CODES   31985412368   \n",
       " 3                    TOTAL IMPORTS FOR ALL END-USE CODES   66789406346   \n",
       " 4                    TOTAL IMPORTS FOR ALL END-USE CODES    2012705044   \n",
       " ...                                                  ...           ...   \n",
       " 15214  OTHER (MOVIES, MISCELLANEOUS IMPORTS, AND SPEC...        117492   \n",
       " 15215  OTHER (MOVIES, MISCELLANEOUS IMPORTS, AND SPEC...          3040   \n",
       " 15216  OTHER (MOVIES, MISCELLANEOUS IMPORTS, AND SPEC...          7500   \n",
       " 15217  OTHER (MOVIES, MISCELLANEOUS IMPORTS, AND SPEC...       1626721   \n",
       " 15218  OTHER (MOVIES, MISCELLANEOUS IMPORTS, AND SPEC...     541664881   \n",
       " \n",
       "          CON_VAL_MO     time  \n",
       " 0      188997006603  2018-02  \n",
       " 1        5171124297  2018-02  \n",
       " 2       32265050616  2018-02  \n",
       " 3       67348223309  2018-02  \n",
       " 4        2020946559  2018-02  \n",
       " ...             ...      ...  \n",
       " 15214        117492  2018-02  \n",
       " 15215          3040  2018-02  \n",
       " 15216          7500  2018-02  \n",
       " 15217       1626721  2018-02  \n",
       " 15218     541702009  2018-02  \n",
       " \n",
       " [15219 rows x 7 columns],\n",
       "       CTY_CODE                 CTY_NAME I_ENDUSE  \\\n",
       " 0            -  TOTAL FOR ALL COUNTRIES        -   \n",
       " 1         0001                     OPEC        -   \n",
       " 2         0003           EUROPEAN UNION        -   \n",
       " 3         0014    PACIFIC RIM COUNTRIES        -   \n",
       " 4         0017                 CAFTA-DR        -   \n",
       " ...        ...                      ...      ...   \n",
       " 16070     7904                  REUNION    50040   \n",
       " 16071     7910             SOUTH AFRICA    50040   \n",
       " 16072     7920                  NAMIBIA    50040   \n",
       " 16073     7950                 ESWATINI    50040   \n",
       " 16074     7XXX                   AFRICA    50040   \n",
       " \n",
       "                                           I_ENDUSE_LDESC    GEN_VAL_MO  \\\n",
       " 0                    TOTAL IMPORTS FOR ALL END-USE CODES  207985485687   \n",
       " 1                    TOTAL IMPORTS FOR ALL END-USE CODES    5415109258   \n",
       " 2                    TOTAL IMPORTS FOR ALL END-USE CODES   36609470692   \n",
       " 3                    TOTAL IMPORTS FOR ALL END-USE CODES   70759257675   \n",
       " 4                    TOTAL IMPORTS FOR ALL END-USE CODES    2217077574   \n",
       " ...                                                  ...           ...   \n",
       " 16070  OTHER (MOVIES, MISCELLANEOUS IMPORTS, AND SPEC...             0   \n",
       " 16071  OTHER (MOVIES, MISCELLANEOUS IMPORTS, AND SPEC...        236212   \n",
       " 16072  OTHER (MOVIES, MISCELLANEOUS IMPORTS, AND SPEC...             0   \n",
       " 16073  OTHER (MOVIES, MISCELLANEOUS IMPORTS, AND SPEC...             0   \n",
       " 16074  OTHER (MOVIES, MISCELLANEOUS IMPORTS, AND SPEC...       7803873   \n",
       " \n",
       "          CON_VAL_MO     time  \n",
       " 0      209020543141  2018-03  \n",
       " 1        5942955246  2018-03  \n",
       " 2       36124616655  2018-03  \n",
       " 3       71706492387  2018-03  \n",
       " 4        2196314952  2018-03  \n",
       " ...             ...      ...  \n",
       " 16070             0  2018-03  \n",
       " 16071        236212  2018-03  \n",
       " 16072             0  2018-03  \n",
       " 16073             0  2018-03  \n",
       " 16074       7803873  2018-03  \n",
       " \n",
       " [16075 rows x 7 columns],\n",
       "       CTY_CODE                 CTY_NAME I_ENDUSE  \\\n",
       " 0            -  TOTAL FOR ALL COUNTRIES        -   \n",
       " 1         0001                     OPEC        -   \n",
       " 2         0003           EUROPEAN UNION        -   \n",
       " 3         0014    PACIFIC RIM COUNTRIES        -   \n",
       " 4         0017                 CAFTA-DR        -   \n",
       " ...        ...                      ...      ...   \n",
       " 16700     7910             SOUTH AFRICA    50040   \n",
       " 16701     7920                  NAMIBIA    50040   \n",
       " 16702     7940                   ZAMBIA    50040   \n",
       " 16703     7950                 ESWATINI    50040   \n",
       " 16704     7XXX                   AFRICA    50040   \n",
       " \n",
       "                                           I_ENDUSE_LDESC    GEN_VAL_MO  \\\n",
       " 0                    TOTAL IMPORTS FOR ALL END-USE CODES  205084378104   \n",
       " 1                    TOTAL IMPORTS FOR ALL END-USE CODES    7045084082   \n",
       " 2                    TOTAL IMPORTS FOR ALL END-USE CODES   36502677367   \n",
       " 3                    TOTAL IMPORTS FOR ALL END-USE CODES   70226360066   \n",
       " 4                    TOTAL IMPORTS FOR ALL END-USE CODES    2074670137   \n",
       " ...                                                  ...           ...   \n",
       " 16700  OTHER (MOVIES, MISCELLANEOUS IMPORTS, AND SPEC...        157992   \n",
       " 16701  OTHER (MOVIES, MISCELLANEOUS IMPORTS, AND SPEC...             0   \n",
       " 16702  OTHER (MOVIES, MISCELLANEOUS IMPORTS, AND SPEC...         13750   \n",
       " 16703  OTHER (MOVIES, MISCELLANEOUS IMPORTS, AND SPEC...             0   \n",
       " 16704  OTHER (MOVIES, MISCELLANEOUS IMPORTS, AND SPEC...       1494361   \n",
       " \n",
       "          CON_VAL_MO     time  \n",
       " 0      203815782180  2018-04  \n",
       " 1        6227310572  2018-04  \n",
       " 2       35932307022  2018-04  \n",
       " 3       70070953020  2018-04  \n",
       " 4        2073472062  2018-04  \n",
       " ...             ...      ...  \n",
       " 16700        157992  2018-04  \n",
       " 16701             0  2018-04  \n",
       " 16702         13750  2018-04  \n",
       " 16703             0  2018-04  \n",
       " 16704       1494361  2018-04  \n",
       " \n",
       " [16705 rows x 7 columns],\n",
       "       CTY_CODE                 CTY_NAME I_ENDUSE  \\\n",
       " 0            -  TOTAL FOR ALL COUNTRIES        -   \n",
       " 1         0001                     OPEC        -   \n",
       " 2         0003           EUROPEAN UNION        -   \n",
       " 3         0014    PACIFIC RIM COUNTRIES        -   \n",
       " 4         0017                 CAFTA-DR        -   \n",
       " ...        ...                      ...      ...   \n",
       " 17258     7920                  NAMIBIA    50040   \n",
       " 17259     7940                   ZAMBIA    50040   \n",
       " 17260     7950                 ESWATINI    50040   \n",
       " 17261     7XXX                   AFRICA    50040   \n",
       " 17262        -  TOTAL FOR ALL COUNTRIES    50040   \n",
       " \n",
       "                                           I_ENDUSE_LDESC    GEN_VAL_MO  \\\n",
       " 0                    TOTAL IMPORTS FOR ALL END-USE CODES  216026513962   \n",
       " 1                    TOTAL IMPORTS FOR ALL END-USE CODES    5790960434   \n",
       " 2                    TOTAL IMPORTS FOR ALL END-USE CODES   35909486037   \n",
       " 3                    TOTAL IMPORTS FOR ALL END-USE CODES   76732841778   \n",
       " 4                    TOTAL IMPORTS FOR ALL END-USE CODES    2350494864   \n",
       " ...                                                  ...           ...   \n",
       " 17258  OTHER (MOVIES, MISCELLANEOUS IMPORTS, AND SPEC...             0   \n",
       " 17259  OTHER (MOVIES, MISCELLANEOUS IMPORTS, AND SPEC...             0   \n",
       " 17260  OTHER (MOVIES, MISCELLANEOUS IMPORTS, AND SPEC...             0   \n",
       " 17261  OTHER (MOVIES, MISCELLANEOUS IMPORTS, AND SPEC...       1945665   \n",
       " 17262  OTHER (MOVIES, MISCELLANEOUS IMPORTS, AND SPEC...     486752339   \n",
       " \n",
       "          CON_VAL_MO     time  \n",
       " 0      218836897427  2018-05  \n",
       " 1        6644936805  2018-05  \n",
       " 2       36462281830  2018-05  \n",
       " 3       77698363641  2018-05  \n",
       " 4        2349993294  2018-05  \n",
       " ...             ...      ...  \n",
       " 17258             0  2018-05  \n",
       " 17259             0  2018-05  \n",
       " 17260             0  2018-05  \n",
       " 17261       1945665  2018-05  \n",
       " 17262     486865816  2018-05  \n",
       " \n",
       " [17263 rows x 7 columns],\n",
       "       CTY_CODE                 CTY_NAME I_ENDUSE  \\\n",
       " 0            -  TOTAL FOR ALL COUNTRIES        -   \n",
       " 1         0001                     OPEC        -   \n",
       " 2         0003           EUROPEAN UNION        -   \n",
       " 3         0014    PACIFIC RIM COUNTRIES        -   \n",
       " 4         0017                 CAFTA-DR        -   \n",
       " ...        ...                      ...      ...   \n",
       " 17674     7920                  NAMIBIA    50040   \n",
       " 17675     7940                   ZAMBIA    50040   \n",
       " 17676     7950                 ESWATINI    50040   \n",
       " 17677     7XXX                   AFRICA    50040   \n",
       " 17678        -  TOTAL FOR ALL COUNTRIES    50040   \n",
       " \n",
       "                                           I_ENDUSE_LDESC    GEN_VAL_MO  \\\n",
       " 0                    TOTAL IMPORTS FOR ALL END-USE CODES  211252662445   \n",
       " 1                    TOTAL IMPORTS FOR ALL END-USE CODES    6232758235   \n",
       " 2                    TOTAL IMPORTS FOR ALL END-USE CODES   35399960650   \n",
       " 3                    TOTAL IMPORTS FOR ALL END-USE CODES   75808974230   \n",
       " 4                    TOTAL IMPORTS FOR ALL END-USE CODES    2062412807   \n",
       " ...                                                  ...           ...   \n",
       " 17674  OTHER (MOVIES, MISCELLANEOUS IMPORTS, AND SPEC...             0   \n",
       " 17675  OTHER (MOVIES, MISCELLANEOUS IMPORTS, AND SPEC...             0   \n",
       " 17676  OTHER (MOVIES, MISCELLANEOUS IMPORTS, AND SPEC...             0   \n",
       " 17677  OTHER (MOVIES, MISCELLANEOUS IMPORTS, AND SPEC...        363593   \n",
       " 17678  OTHER (MOVIES, MISCELLANEOUS IMPORTS, AND SPEC...     598676762   \n",
       " \n",
       "          CON_VAL_MO     time  \n",
       " 0      211217992231  2018-06  \n",
       " 1        6294177124  2018-06  \n",
       " 2       35521357226  2018-06  \n",
       " 3       76056729316  2018-06  \n",
       " 4        2079669832  2018-06  \n",
       " ...             ...      ...  \n",
       " 17674             0  2018-06  \n",
       " 17675             0  2018-06  \n",
       " 17676             0  2018-06  \n",
       " 17677        363593  2018-06  \n",
       " 17678     598732207  2018-06  \n",
       " \n",
       " [17679 rows x 7 columns],\n",
       "       CTY_CODE                 CTY_NAME I_ENDUSE  \\\n",
       " 0            -  TOTAL FOR ALL COUNTRIES        -   \n",
       " 1         0001                     OPEC        -   \n",
       " 2         0003           EUROPEAN UNION        -   \n",
       " 3         0014    PACIFIC RIM COUNTRIES        -   \n",
       " 4         0017                 CAFTA-DR        -   \n",
       " ...        ...                      ...      ...   \n",
       " 18100     7920                  NAMIBIA    50040   \n",
       " 18101     7940                   ZAMBIA    50040   \n",
       " 18102     7950                 ESWATINI    50040   \n",
       " 18103     7XXX                   AFRICA    50040   \n",
       " 18104        -  TOTAL FOR ALL COUNTRIES    50040   \n",
       " \n",
       "                                           I_ENDUSE_LDESC    GEN_VAL_MO  \\\n",
       " 0                    TOTAL IMPORTS FOR ALL END-USE CODES  216854224361   \n",
       " 1                    TOTAL IMPORTS FOR ALL END-USE CODES    6708988892   \n",
       " 2                    TOTAL IMPORTS FOR ALL END-USE CODES   36853432953   \n",
       " 3                    TOTAL IMPORTS FOR ALL END-USE CODES   79455510650   \n",
       " 4                    TOTAL IMPORTS FOR ALL END-USE CODES    2203095226   \n",
       " ...                                                  ...           ...   \n",
       " 18100  OTHER (MOVIES, MISCELLANEOUS IMPORTS, AND SPEC...             0   \n",
       " 18101  OTHER (MOVIES, MISCELLANEOUS IMPORTS, AND SPEC...             0   \n",
       " 18102  OTHER (MOVIES, MISCELLANEOUS IMPORTS, AND SPEC...             0   \n",
       " 18103  OTHER (MOVIES, MISCELLANEOUS IMPORTS, AND SPEC...       1100384   \n",
       " 18104  OTHER (MOVIES, MISCELLANEOUS IMPORTS, AND SPEC...     485190498   \n",
       " \n",
       "          CON_VAL_MO     time  \n",
       " 0      217695894192  2018-07  \n",
       " 1        6383529246  2018-07  \n",
       " 2       36759325256  2018-07  \n",
       " 3       80386017525  2018-07  \n",
       " 4        2183465211  2018-07  \n",
       " ...             ...      ...  \n",
       " 18100             0  2018-07  \n",
       " 18101             0  2018-07  \n",
       " 18102             0  2018-07  \n",
       " 18103       1100384  2018-07  \n",
       " 18104     483952736  2018-07  \n",
       " \n",
       " [18105 rows x 7 columns],\n",
       "       CTY_CODE                 CTY_NAME I_ENDUSE  \\\n",
       " 0            -  TOTAL FOR ALL COUNTRIES        -   \n",
       " 1         0001                     OPEC        -   \n",
       " 2         0003           EUROPEAN UNION        -   \n",
       " 3         0014    PACIFIC RIM COUNTRIES        -   \n",
       " 4         0017                 CAFTA-DR        -   \n",
       " ...        ...                      ...      ...   \n",
       " 18441     7920                  NAMIBIA    50040   \n",
       " 18442     7940                   ZAMBIA    50040   \n",
       " 18443     7950                 ESWATINI    50040   \n",
       " 18444     7XXX                   AFRICA    50040   \n",
       " 18445        -  TOTAL FOR ALL COUNTRIES    50040   \n",
       " \n",
       "                                           I_ENDUSE_LDESC    GEN_VAL_MO  \\\n",
       " 0                    TOTAL IMPORTS FOR ALL END-USE CODES  221896965105   \n",
       " 1                    TOTAL IMPORTS FOR ALL END-USE CODES    5910027476   \n",
       " 2                    TOTAL IMPORTS FOR ALL END-USE CODES   36185246986   \n",
       " 3                    TOTAL IMPORTS FOR ALL END-USE CODES   80673351613   \n",
       " 4                    TOTAL IMPORTS FOR ALL END-USE CODES    2247377037   \n",
       " ...                                                  ...           ...   \n",
       " 18441  OTHER (MOVIES, MISCELLANEOUS IMPORTS, AND SPEC...             0   \n",
       " 18442  OTHER (MOVIES, MISCELLANEOUS IMPORTS, AND SPEC...             0   \n",
       " 18443  OTHER (MOVIES, MISCELLANEOUS IMPORTS, AND SPEC...             0   \n",
       " 18444  OTHER (MOVIES, MISCELLANEOUS IMPORTS, AND SPEC...        284135   \n",
       " 18445  OTHER (MOVIES, MISCELLANEOUS IMPORTS, AND SPEC...     559063581   \n",
       " \n",
       "          CON_VAL_MO     time  \n",
       " 0      224841152896  2018-08  \n",
       " 1        6849971117  2018-08  \n",
       " 2       36559491097  2018-08  \n",
       " 3       81815549627  2018-08  \n",
       " 4        2308499443  2018-08  \n",
       " ...             ...      ...  \n",
       " 18441             0  2018-08  \n",
       " 18442             0  2018-08  \n",
       " 18443             0  2018-08  \n",
       " 18444        284135  2018-08  \n",
       " 18445     556838059  2018-08  \n",
       " \n",
       " [18446 rows x 7 columns],\n",
       "       CTY_CODE                 CTY_NAME I_ENDUSE  \\\n",
       " 0            -  TOTAL FOR ALL COUNTRIES        -   \n",
       " 1         0001                     OPEC        -   \n",
       " 2         0003           EUROPEAN UNION        -   \n",
       " 3         0014    PACIFIC RIM COUNTRIES        -   \n",
       " 4         0017                 CAFTA-DR        -   \n",
       " ...        ...                      ...      ...   \n",
       " 18723     7910             SOUTH AFRICA    50040   \n",
       " 18724     7920                  NAMIBIA    50040   \n",
       " 18725     7940                   ZAMBIA    50040   \n",
       " 18726     7950                 ESWATINI    50040   \n",
       " 18727     7XXX                   AFRICA    50040   \n",
       " \n",
       "                                           I_ENDUSE_LDESC    GEN_VAL_MO  \\\n",
       " 0                    TOTAL IMPORTS FOR ALL END-USE CODES  211317474139   \n",
       " 1                    TOTAL IMPORTS FOR ALL END-USE CODES    6212836226   \n",
       " 2                    TOTAL IMPORTS FOR ALL END-USE CODES   32674294974   \n",
       " 3                    TOTAL IMPORTS FOR ALL END-USE CODES   80429409477   \n",
       " 4                    TOTAL IMPORTS FOR ALL END-USE CODES    2015125789   \n",
       " ...                                                  ...           ...   \n",
       " 18723  OTHER (MOVIES, MISCELLANEOUS IMPORTS, AND SPEC...         62888   \n",
       " 18724  OTHER (MOVIES, MISCELLANEOUS IMPORTS, AND SPEC...             0   \n",
       " 18725  OTHER (MOVIES, MISCELLANEOUS IMPORTS, AND SPEC...             0   \n",
       " 18726  OTHER (MOVIES, MISCELLANEOUS IMPORTS, AND SPEC...             0   \n",
       " 18727  OTHER (MOVIES, MISCELLANEOUS IMPORTS, AND SPEC...       1294905   \n",
       " \n",
       "          CON_VAL_MO     time  \n",
       " 0      212002479908  2018-09  \n",
       " 1        5934807435  2018-09  \n",
       " 2       32327998880  2018-09  \n",
       " 3       81746994642  2018-09  \n",
       " 4        2006902775  2018-09  \n",
       " ...             ...      ...  \n",
       " 18723         62888  2018-09  \n",
       " 18724             0  2018-09  \n",
       " 18725             0  2018-09  \n",
       " 18726             0  2018-09  \n",
       " 18727       1294905  2018-09  \n",
       " \n",
       " [18728 rows x 7 columns],\n",
       "       CTY_CODE                 CTY_NAME I_ENDUSE  \\\n",
       " 0            -  TOTAL FOR ALL COUNTRIES        -   \n",
       " 1         0001                     OPEC        -   \n",
       " 2         0003           EUROPEAN UNION        -   \n",
       " 3         0014    PACIFIC RIM COUNTRIES        -   \n",
       " 4         0017                 CAFTA-DR        -   \n",
       " ...        ...                      ...      ...   \n",
       " 19014     7910             SOUTH AFRICA    50040   \n",
       " 19015     7920                  NAMIBIA    50040   \n",
       " 19016     7940                   ZAMBIA    50040   \n",
       " 19017     7950                 ESWATINI    50040   \n",
       " 19018     7XXX                   AFRICA    50040   \n",
       " \n",
       "                                           I_ENDUSE_LDESC    GEN_VAL_MO  \\\n",
       " 0                    TOTAL IMPORTS FOR ALL END-USE CODES  235857712175   \n",
       " 1                    TOTAL IMPORTS FOR ALL END-USE CODES    6925565478   \n",
       " 2                    TOTAL IMPORTS FOR ALL END-USE CODES   39415552348   \n",
       " 3                    TOTAL IMPORTS FOR ALL END-USE CODES   86805067291   \n",
       " 4                    TOTAL IMPORTS FOR ALL END-USE CODES    2206226093   \n",
       " ...                                                  ...           ...   \n",
       " 19014  OTHER (MOVIES, MISCELLANEOUS IMPORTS, AND SPEC...         66161   \n",
       " 19015  OTHER (MOVIES, MISCELLANEOUS IMPORTS, AND SPEC...             0   \n",
       " 19016  OTHER (MOVIES, MISCELLANEOUS IMPORTS, AND SPEC...             0   \n",
       " 19017  OTHER (MOVIES, MISCELLANEOUS IMPORTS, AND SPEC...             0   \n",
       " 19018  OTHER (MOVIES, MISCELLANEOUS IMPORTS, AND SPEC...       2052146   \n",
       " \n",
       "          CON_VAL_MO     time  \n",
       " 0      236557510025  2018-10  \n",
       " 1        6393328972  2018-10  \n",
       " 2       39076695372  2018-10  \n",
       " 3       87576368585  2018-10  \n",
       " 4        2206940603  2018-10  \n",
       " ...             ...      ...  \n",
       " 19014         66161  2018-10  \n",
       " 19015             0  2018-10  \n",
       " 19016             0  2018-10  \n",
       " 19017             0  2018-10  \n",
       " 19018       2052146  2018-10  \n",
       " \n",
       " [19019 rows x 7 columns],\n",
       "       CTY_CODE                 CTY_NAME I_ENDUSE  \\\n",
       " 0            -  TOTAL FOR ALL COUNTRIES        -   \n",
       " 1         0001                     OPEC        -   \n",
       " 2         0003           EUROPEAN UNION        -   \n",
       " 3         0014    PACIFIC RIM COUNTRIES        -   \n",
       " 4         0017                 CAFTA-DR        -   \n",
       " ...        ...                      ...      ...   \n",
       " 19269     7910             SOUTH AFRICA    50040   \n",
       " 19270     7920                  NAMIBIA    50040   \n",
       " 19271     7940                   ZAMBIA    50040   \n",
       " 19272     7950                 ESWATINI    50040   \n",
       " 19273     7XXX                   AFRICA    50040   \n",
       " \n",
       "                                           I_ENDUSE_LDESC    GEN_VAL_MO  \\\n",
       " 0                    TOTAL IMPORTS FOR ALL END-USE CODES  213493034014   \n",
       " 1                    TOTAL IMPORTS FOR ALL END-USE CODES    5844339264   \n",
       " 2                    TOTAL IMPORTS FOR ALL END-USE CODES   36603621132   \n",
       " 3                    TOTAL IMPORTS FOR ALL END-USE CODES   79162393826   \n",
       " 4                    TOTAL IMPORTS FOR ALL END-USE CODES    1949160981   \n",
       " ...                                                  ...           ...   \n",
       " 19269  OTHER (MOVIES, MISCELLANEOUS IMPORTS, AND SPEC...        248449   \n",
       " 19270  OTHER (MOVIES, MISCELLANEOUS IMPORTS, AND SPEC...             0   \n",
       " 19271  OTHER (MOVIES, MISCELLANEOUS IMPORTS, AND SPEC...             0   \n",
       " 19272  OTHER (MOVIES, MISCELLANEOUS IMPORTS, AND SPEC...             0   \n",
       " 19273  OTHER (MOVIES, MISCELLANEOUS IMPORTS, AND SPEC...       1782562   \n",
       " \n",
       "          CON_VAL_MO     time  \n",
       " 0      215840332619  2018-11  \n",
       " 1        6445964887  2018-11  \n",
       " 2       36455024384  2018-11  \n",
       " 3       80110167412  2018-11  \n",
       " 4        1947609086  2018-11  \n",
       " ...             ...      ...  \n",
       " 19269        248449  2018-11  \n",
       " 19270             0  2018-11  \n",
       " 19271             0  2018-11  \n",
       " 19272             0  2018-11  \n",
       " 19273       1782562  2018-11  \n",
       " \n",
       " [19274 rows x 7 columns],\n",
       "       CTY_CODE                 CTY_NAME I_ENDUSE  \\\n",
       " 0            -  TOTAL FOR ALL COUNTRIES        -   \n",
       " 1         0001                     OPEC        -   \n",
       " 2         0003           EUROPEAN UNION        -   \n",
       " 3         0014    PACIFIC RIM COUNTRIES        -   \n",
       " 4         0017                 CAFTA-DR        -   \n",
       " ...        ...                      ...      ...   \n",
       " 19483     7910             SOUTH AFRICA    50040   \n",
       " 19484     7920                  NAMIBIA    50040   \n",
       " 19485     7940                   ZAMBIA    50040   \n",
       " 19486     7950                 ESWATINI    50040   \n",
       " 19487     7XXX                   AFRICA    50040   \n",
       " \n",
       "                                           I_ENDUSE_LDESC    GEN_VAL_MO  \\\n",
       " 0                    TOTAL IMPORTS FOR ALL END-USE CODES  206577736951   \n",
       " 1                    TOTAL IMPORTS FOR ALL END-USE CODES    5095660439   \n",
       " 2                    TOTAL IMPORTS FOR ALL END-USE CODES   35690231403   \n",
       " 3                    TOTAL IMPORTS FOR ALL END-USE CODES   78306918628   \n",
       " 4                    TOTAL IMPORTS FOR ALL END-USE CODES    1982406328   \n",
       " ...                                                  ...           ...   \n",
       " 19483  OTHER (MOVIES, MISCELLANEOUS IMPORTS, AND SPEC...        266459   \n",
       " 19484  OTHER (MOVIES, MISCELLANEOUS IMPORTS, AND SPEC...             0   \n",
       " 19485  OTHER (MOVIES, MISCELLANEOUS IMPORTS, AND SPEC...             0   \n",
       " 19486  OTHER (MOVIES, MISCELLANEOUS IMPORTS, AND SPEC...             0   \n",
       " 19487  OTHER (MOVIES, MISCELLANEOUS IMPORTS, AND SPEC...       1043355   \n",
       " \n",
       "          CON_VAL_MO     time  \n",
       " 0      207597663946  2018-12  \n",
       " 1        5196840316  2018-12  \n",
       " 2       36149843944  2018-12  \n",
       " 3       78542370708  2018-12  \n",
       " 4        1981820453  2018-12  \n",
       " ...             ...      ...  \n",
       " 19483        266459  2018-12  \n",
       " 19484             0  2018-12  \n",
       " 19485             0  2018-12  \n",
       " 19486             0  2018-12  \n",
       " 19487       1043355  2018-12  \n",
       " \n",
       " [19488 rows x 7 columns],\n",
       "       CTY_CODE                 CTY_NAME I_ENDUSE  \\\n",
       " 0            -  TOTAL FOR ALL COUNTRIES        -   \n",
       " 1         0003           EUROPEAN UNION        -   \n",
       " 2         0014    PACIFIC RIM COUNTRIES        -   \n",
       " 3         0017                 CAFTA-DR        -   \n",
       " 4         0020                    NAFTA        -   \n",
       " ...        ...                      ...      ...   \n",
       " 13751     7850                MAURITIUS    50040   \n",
       " 13752     7880               MADAGASCAR    50040   \n",
       " 13753     7910             SOUTH AFRICA    50040   \n",
       " 13754     7XXX                   AFRICA    50040   \n",
       " 13755        -  TOTAL FOR ALL COUNTRIES    50040   \n",
       " \n",
       "                                           I_ENDUSE_LDESC    GEN_VAL_MO  \\\n",
       " 0                    TOTAL IMPORTS FOR ALL END-USE CODES  203980735535   \n",
       " 1                    TOTAL IMPORTS FOR ALL END-USE CODES   35062078374   \n",
       " 2                    TOTAL IMPORTS FOR ALL END-USE CODES   73806622920   \n",
       " 3                    TOTAL IMPORTS FOR ALL END-USE CODES    1777592697   \n",
       " 4                    TOTAL IMPORTS FOR ALL END-USE CODES   50906264625   \n",
       " ...                                                  ...           ...   \n",
       " 13751  OTHER (MOVIES, MISCELLANEOUS IMPORTS, AND SPEC...        942200   \n",
       " 13752  OTHER (MOVIES, MISCELLANEOUS IMPORTS, AND SPEC...         24370   \n",
       " 13753  OTHER (MOVIES, MISCELLANEOUS IMPORTS, AND SPEC...         21896   \n",
       " 13754  OTHER (MOVIES, MISCELLANEOUS IMPORTS, AND SPEC...       1332161   \n",
       " 13755  OTHER (MOVIES, MISCELLANEOUS IMPORTS, AND SPEC...     493934905   \n",
       " \n",
       "          CON_VAL_MO     time  \n",
       " 0      206290514519  2019-01  \n",
       " 1       35649021589  2019-01  \n",
       " 2       74756324892  2019-01  \n",
       " 3        1778013540  2019-01  \n",
       " 4       50832244194  2019-01  \n",
       " ...             ...      ...  \n",
       " 13751        942200  2019-01  \n",
       " 13752         24370  2019-01  \n",
       " 13753         21896  2019-01  \n",
       " 13754       1332161  2019-01  \n",
       " 13755     493537466  2019-01  \n",
       " \n",
       " [13756 rows x 7 columns],\n",
       "       CTY_CODE                 CTY_NAME I_ENDUSE  \\\n",
       " 0            -  TOTAL FOR ALL COUNTRIES        -   \n",
       " 1         0003           EUROPEAN UNION        -   \n",
       " 2         0014    PACIFIC RIM COUNTRIES        -   \n",
       " 3         0017                 CAFTA-DR        -   \n",
       " 4         0020                    NAFTA        -   \n",
       " ...        ...                      ...      ...   \n",
       " 14982     7790                    KENYA    50040   \n",
       " 14983     7850                MAURITIUS    50040   \n",
       " 14984     7880               MADAGASCAR    50040   \n",
       " 14985     7910             SOUTH AFRICA    50040   \n",
       " 14986     7XXX                   AFRICA    50040   \n",
       " \n",
       "                                           I_ENDUSE_LDESC    GEN_VAL_MO  \\\n",
       " 0                    TOTAL IMPORTS FOR ALL END-USE CODES  185267532330   \n",
       " 1                    TOTAL IMPORTS FOR ALL END-USE CODES   32852043908   \n",
       " 2                    TOTAL IMPORTS FOR ALL END-USE CODES   62747559312   \n",
       " 3                    TOTAL IMPORTS FOR ALL END-USE CODES    1997048977   \n",
       " 4                    TOTAL IMPORTS FOR ALL END-USE CODES   50300049185   \n",
       " ...                                                  ...           ...   \n",
       " 14982  OTHER (MOVIES, MISCELLANEOUS IMPORTS, AND SPEC...         82339   \n",
       " 14983  OTHER (MOVIES, MISCELLANEOUS IMPORTS, AND SPEC...       1380292   \n",
       " 14984  OTHER (MOVIES, MISCELLANEOUS IMPORTS, AND SPEC...         23741   \n",
       " 14985  OTHER (MOVIES, MISCELLANEOUS IMPORTS, AND SPEC...         78245   \n",
       " 14986  OTHER (MOVIES, MISCELLANEOUS IMPORTS, AND SPEC...       1932638   \n",
       " \n",
       "          CON_VAL_MO     time  \n",
       " 0      184386614151  2019-02  \n",
       " 1       32333786128  2019-02  \n",
       " 2       62503031547  2019-02  \n",
       " 3        1986345153  2019-02  \n",
       " 4       50167961582  2019-02  \n",
       " ...             ...      ...  \n",
       " 14982         82339  2019-02  \n",
       " 14983       1380292  2019-02  \n",
       " 14984         23741  2019-02  \n",
       " 14985         78245  2019-02  \n",
       " 14986       1932638  2019-02  \n",
       " \n",
       " [14987 rows x 7 columns],\n",
       "       CTY_CODE                 CTY_NAME I_ENDUSE  \\\n",
       " 0            -  TOTAL FOR ALL COUNTRIES        -   \n",
       " 1         0003           EUROPEAN UNION        -   \n",
       " 2         0014    PACIFIC RIM COUNTRIES        -   \n",
       " 3         0017                 CAFTA-DR        -   \n",
       " 4         0020                    NAFTA        -   \n",
       " ...        ...                      ...      ...   \n",
       " 15875     7790                    KENYA    50040   \n",
       " 15876     7850                MAURITIUS    50040   \n",
       " 15877     7880               MADAGASCAR    50040   \n",
       " 15878     7910             SOUTH AFRICA    50040   \n",
       " 15879     7XXX                   AFRICA    50040   \n",
       " \n",
       "                                           I_ENDUSE_LDESC    GEN_VAL_MO  \\\n",
       " 0                    TOTAL IMPORTS FOR ALL END-USE CODES  207511046150   \n",
       " 1                    TOTAL IMPORTS FOR ALL END-USE CODES   38912282270   \n",
       " 2                    TOTAL IMPORTS FOR ALL END-USE CODES   65428331362   \n",
       " 3                    TOTAL IMPORTS FOR ALL END-USE CODES    2225842360   \n",
       " 4                    TOTAL IMPORTS FOR ALL END-USE CODES   58660942125   \n",
       " ...                                                  ...           ...   \n",
       " 15875  OTHER (MOVIES, MISCELLANEOUS IMPORTS, AND SPEC...        135661   \n",
       " 15876  OTHER (MOVIES, MISCELLANEOUS IMPORTS, AND SPEC...        918371   \n",
       " 15877  OTHER (MOVIES, MISCELLANEOUS IMPORTS, AND SPEC...          3316   \n",
       " 15878  OTHER (MOVIES, MISCELLANEOUS IMPORTS, AND SPEC...         54068   \n",
       " 15879  OTHER (MOVIES, MISCELLANEOUS IMPORTS, AND SPEC...       1551393   \n",
       " \n",
       "          CON_VAL_MO     time  \n",
       " 0      207818523457  2019-03  \n",
       " 1       38627139394  2019-03  \n",
       " 2       65923514612  2019-03  \n",
       " 3        2212568668  2019-03  \n",
       " 4       58493369596  2019-03  \n",
       " ...             ...      ...  \n",
       " 15875        135661  2019-03  \n",
       " 15876        918371  2019-03  \n",
       " 15877          3316  2019-03  \n",
       " 15878         54068  2019-03  \n",
       " 15879       1551393  2019-03  \n",
       " \n",
       " [15880 rows x 7 columns],\n",
       "       CTY_CODE                 CTY_NAME I_ENDUSE  \\\n",
       " 0            -  TOTAL FOR ALL COUNTRIES        -   \n",
       " 1         0003           EUROPEAN UNION        -   \n",
       " 2         0014    PACIFIC RIM COUNTRIES        -   \n",
       " 3         0017                 CAFTA-DR        -   \n",
       " 4         0020                    NAFTA        -   \n",
       " ...        ...                      ...      ...   \n",
       " 16553     7790                    KENYA    50040   \n",
       " 16554     7850                MAURITIUS    50040   \n",
       " 16555     7880               MADAGASCAR    50040   \n",
       " 16556     7910             SOUTH AFRICA    50040   \n",
       " 16557     7XXX                   AFRICA    50040   \n",
       " \n",
       "                                           I_ENDUSE_LDESC    GEN_VAL_MO  \\\n",
       " 0                    TOTAL IMPORTS FOR ALL END-USE CODES  208742142619   \n",
       " 1                    TOTAL IMPORTS FOR ALL END-USE CODES   39383825201   \n",
       " 2                    TOTAL IMPORTS FOR ALL END-USE CODES   68161699236   \n",
       " 3                    TOTAL IMPORTS FOR ALL END-USE CODES    2200328624   \n",
       " 4                    TOTAL IMPORTS FOR ALL END-USE CODES   56960643939   \n",
       " ...                                                  ...           ...   \n",
       " 16553  OTHER (MOVIES, MISCELLANEOUS IMPORTS, AND SPEC...         89231   \n",
       " 16554  OTHER (MOVIES, MISCELLANEOUS IMPORTS, AND SPEC...       1098252   \n",
       " 16555  OTHER (MOVIES, MISCELLANEOUS IMPORTS, AND SPEC...         47298   \n",
       " 16556  OTHER (MOVIES, MISCELLANEOUS IMPORTS, AND SPEC...         60407   \n",
       " 16557  OTHER (MOVIES, MISCELLANEOUS IMPORTS, AND SPEC...       1673980   \n",
       " \n",
       "          CON_VAL_MO     time  \n",
       " 0      208201346492  2019-04  \n",
       " 1       39523499588  2019-04  \n",
       " 2       67971232197  2019-04  \n",
       " 3        2199826333  2019-04  \n",
       " 4       57039984403  2019-04  \n",
       " ...             ...      ...  \n",
       " 16553         89231  2019-04  \n",
       " 16554       1098252  2019-04  \n",
       " 16555         47298  2019-04  \n",
       " 16556         60407  2019-04  \n",
       " 16557       1673980  2019-04  \n",
       " \n",
       " [16558 rows x 7 columns],\n",
       "       CTY_CODE                 CTY_NAME I_ENDUSE  \\\n",
       " 0            -  TOTAL FOR ALL COUNTRIES        -   \n",
       " 1         0003           EUROPEAN UNION        -   \n",
       " 2         0014    PACIFIC RIM COUNTRIES        -   \n",
       " 3         0017                 CAFTA-DR        -   \n",
       " 4         0020                    NAFTA        -   \n",
       " ...        ...                      ...      ...   \n",
       " 17077     7830                 TANZANIA    50040   \n",
       " 17078     7850                MAURITIUS    50040   \n",
       " 17079     7880               MADAGASCAR    50040   \n",
       " 17080     7910             SOUTH AFRICA    50040   \n",
       " 17081     7XXX                   AFRICA    50040   \n",
       " \n",
       "                                           I_ENDUSE_LDESC    GEN_VAL_MO  \\\n",
       " 0                    TOTAL IMPORTS FOR ALL END-USE CODES  220207611029   \n",
       " 1                    TOTAL IMPORTS FOR ALL END-USE CODES   40143644487   \n",
       " 2                    TOTAL IMPORTS FOR ALL END-USE CODES   72515026237   \n",
       " 3                    TOTAL IMPORTS FOR ALL END-USE CODES    2301226659   \n",
       " 4                    TOTAL IMPORTS FOR ALL END-USE CODES   61104075325   \n",
       " ...                                                  ...           ...   \n",
       " 17077  OTHER (MOVIES, MISCELLANEOUS IMPORTS, AND SPEC...          2750   \n",
       " 17078  OTHER (MOVIES, MISCELLANEOUS IMPORTS, AND SPEC...        316038   \n",
       " 17079  OTHER (MOVIES, MISCELLANEOUS IMPORTS, AND SPEC...         18408   \n",
       " 17080  OTHER (MOVIES, MISCELLANEOUS IMPORTS, AND SPEC...        126631   \n",
       " 17081  OTHER (MOVIES, MISCELLANEOUS IMPORTS, AND SPEC...        988362   \n",
       " \n",
       "          CON_VAL_MO     time  \n",
       " 0      220454844296  2019-05  \n",
       " 1       39522546210  2019-05  \n",
       " 2       72750115254  2019-05  \n",
       " 3        2273948665  2019-05  \n",
       " 4       61669429601  2019-05  \n",
       " ...             ...      ...  \n",
       " 17077          2750  2019-05  \n",
       " 17078        316038  2019-05  \n",
       " 17079         18408  2019-05  \n",
       " 17080        126631  2019-05  \n",
       " 17081        988362  2019-05  \n",
       " \n",
       " [17082 rows x 7 columns],\n",
       "       CTY_CODE                 CTY_NAME I_ENDUSE  \\\n",
       " 0            -  TOTAL FOR ALL COUNTRIES        -   \n",
       " 1         0003           EUROPEAN UNION        -   \n",
       " 2         0014    PACIFIC RIM COUNTRIES        -   \n",
       " 3         0017                 CAFTA-DR        -   \n",
       " 4         0020                    NAFTA        -   \n",
       " ...        ...                      ...      ...   \n",
       " 17465     7830                 TANZANIA    50040   \n",
       " 17466     7850                MAURITIUS    50040   \n",
       " 17467     7880               MADAGASCAR    50040   \n",
       " 17468     7910             SOUTH AFRICA    50040   \n",
       " 17469     7XXX                   AFRICA    50040   \n",
       " \n",
       "                                           I_ENDUSE_LDESC    GEN_VAL_MO  \\\n",
       " 0                    TOTAL IMPORTS FOR ALL END-USE CODES  206531579286   \n",
       " 1                    TOTAL IMPORTS FOR ALL END-USE CODES   36565994818   \n",
       " 2                    TOTAL IMPORTS FOR ALL END-USE CODES   70986287963   \n",
       " 3                    TOTAL IMPORTS FOR ALL END-USE CODES    2213610637   \n",
       " 4                    TOTAL IMPORTS FOR ALL END-USE CODES   57837679934   \n",
       " ...                                                  ...           ...   \n",
       " 17465  OTHER (MOVIES, MISCELLANEOUS IMPORTS, AND SPEC...             0   \n",
       " 17466  OTHER (MOVIES, MISCELLANEOUS IMPORTS, AND SPEC...       1231934   \n",
       " 17467  OTHER (MOVIES, MISCELLANEOUS IMPORTS, AND SPEC...         19342   \n",
       " 17468  OTHER (MOVIES, MISCELLANEOUS IMPORTS, AND SPEC...        132586   \n",
       " 17469  OTHER (MOVIES, MISCELLANEOUS IMPORTS, AND SPEC...       1545399   \n",
       " \n",
       "          CON_VAL_MO     time  \n",
       " 0      205534137214  2019-06  \n",
       " 1       36490123709  2019-06  \n",
       " 2       70376566394  2019-06  \n",
       " 3        2226027129  2019-06  \n",
       " 4       57511281576  2019-06  \n",
       " ...             ...      ...  \n",
       " 17465             0  2019-06  \n",
       " 17466       1231934  2019-06  \n",
       " 17467         19342  2019-06  \n",
       " 17468        132586  2019-06  \n",
       " 17469       1545399  2019-06  \n",
       " \n",
       " [17470 rows x 7 columns],\n",
       "       CTY_CODE                 CTY_NAME I_ENDUSE  \\\n",
       " 0            -  TOTAL FOR ALL COUNTRIES        -   \n",
       " 1         0003           EUROPEAN UNION        -   \n",
       " 2         0014    PACIFIC RIM COUNTRIES        -   \n",
       " 3         0017                 CAFTA-DR        -   \n",
       " 4         0020                    NAFTA        -   \n",
       " ...        ...                      ...      ...   \n",
       " 17908     7850                MAURITIUS    50040   \n",
       " 17909     7880               MADAGASCAR    50040   \n",
       " 17910     7910             SOUTH AFRICA    50040   \n",
       " 17911     7XXX                   AFRICA    50040   \n",
       " 17912        -  TOTAL FOR ALL COUNTRIES    50040   \n",
       " \n",
       "                                           I_ENDUSE_LDESC    GEN_VAL_MO  \\\n",
       " 0                    TOTAL IMPORTS FOR ALL END-USE CODES  218311146547   \n",
       " 1                    TOTAL IMPORTS FOR ALL END-USE CODES   40282886643   \n",
       " 2                    TOTAL IMPORTS FOR ALL END-USE CODES   75704952942   \n",
       " 3                    TOTAL IMPORTS FOR ALL END-USE CODES    2361272689   \n",
       " 4                    TOTAL IMPORTS FOR ALL END-USE CODES   56714039194   \n",
       " ...                                                  ...           ...   \n",
       " 17908  OTHER (MOVIES, MISCELLANEOUS IMPORTS, AND SPEC...        542919   \n",
       " 17909  OTHER (MOVIES, MISCELLANEOUS IMPORTS, AND SPEC...             0   \n",
       " 17910  OTHER (MOVIES, MISCELLANEOUS IMPORTS, AND SPEC...         76308   \n",
       " 17911  OTHER (MOVIES, MISCELLANEOUS IMPORTS, AND SPEC...        781964   \n",
       " 17912  OTHER (MOVIES, MISCELLANEOUS IMPORTS, AND SPEC...     595575334   \n",
       " \n",
       "          CON_VAL_MO     time  \n",
       " 0      219636895970  2019-07  \n",
       " 1       39999850020  2019-07  \n",
       " 2       76560767464  2019-07  \n",
       " 3        2349562103  2019-07  \n",
       " 4       56756872575  2019-07  \n",
       " ...             ...      ...  \n",
       " 17908        542919  2019-07  \n",
       " 17909             0  2019-07  \n",
       " 17910         76308  2019-07  \n",
       " 17911        781964  2019-07  \n",
       " 17912     598489016  2019-07  \n",
       " \n",
       " [17913 rows x 7 columns],\n",
       "       CTY_CODE                 CTY_NAME I_ENDUSE  \\\n",
       " 0            -  TOTAL FOR ALL COUNTRIES        -   \n",
       " 1         0003           EUROPEAN UNION        -   \n",
       " 2         0014    PACIFIC RIM COUNTRIES        -   \n",
       " 3         0017                 CAFTA-DR        -   \n",
       " 4         0020                    NAFTA        -   \n",
       " ...        ...                      ...      ...   \n",
       " 18248     7830                 TANZANIA    50040   \n",
       " 18249     7850                MAURITIUS    50040   \n",
       " 18250     7880               MADAGASCAR    50040   \n",
       " 18251     7910             SOUTH AFRICA    50040   \n",
       " 18252     7XXX                   AFRICA    50040   \n",
       " \n",
       "                                           I_ENDUSE_LDESC    GEN_VAL_MO  \\\n",
       " 0                    TOTAL IMPORTS FOR ALL END-USE CODES  215245816181   \n",
       " 1                    TOTAL IMPORTS FOR ALL END-USE CODES   37994677779   \n",
       " 2                    TOTAL IMPORTS FOR ALL END-USE CODES   75556223211   \n",
       " 3                    TOTAL IMPORTS FOR ALL END-USE CODES    2169657641   \n",
       " 4                    TOTAL IMPORTS FOR ALL END-USE CODES   57521418731   \n",
       " ...                                                  ...           ...   \n",
       " 18248  OTHER (MOVIES, MISCELLANEOUS IMPORTS, AND SPEC...          4520   \n",
       " 18249  OTHER (MOVIES, MISCELLANEOUS IMPORTS, AND SPEC...        311588   \n",
       " 18250  OTHER (MOVIES, MISCELLANEOUS IMPORTS, AND SPEC...          3275   \n",
       " 18251  OTHER (MOVIES, MISCELLANEOUS IMPORTS, AND SPEC...        206245   \n",
       " 18252  OTHER (MOVIES, MISCELLANEOUS IMPORTS, AND SPEC...        835634   \n",
       " \n",
       "          CON_VAL_MO     time  \n",
       " 0      214647027906  2019-08  \n",
       " 1       37536457530  2019-08  \n",
       " 2       75250565233  2019-08  \n",
       " 3        2172556791  2019-08  \n",
       " 4       57586407922  2019-08  \n",
       " ...             ...      ...  \n",
       " 18248          4520  2019-08  \n",
       " 18249        311588  2019-08  \n",
       " 18250          3275  2019-08  \n",
       " 18251        206245  2019-08  \n",
       " 18252        835634  2019-08  \n",
       " \n",
       " [18253 rows x 7 columns],\n",
       "       CTY_CODE                 CTY_NAME I_ENDUSE  \\\n",
       " 0            -  TOTAL FOR ALL COUNTRIES        -   \n",
       " 1         0003           EUROPEAN UNION        -   \n",
       " 2         0014    PACIFIC RIM COUNTRIES        -   \n",
       " 3         0017                 CAFTA-DR        -   \n",
       " 4         0020                    NAFTA        -   \n",
       " ...        ...                      ...      ...   \n",
       " 18517     7880               MADAGASCAR    50040   \n",
       " 18518     7910             SOUTH AFRICA    50040   \n",
       " 18519     7960                 ZIMBABWE    50040   \n",
       " 18520     7XXX                   AFRICA    50040   \n",
       " 18521        -  TOTAL FOR ALL COUNTRIES    50040   \n",
       " \n",
       "                                           I_ENDUSE_LDESC    GEN_VAL_MO  \\\n",
       " 0                    TOTAL IMPORTS FOR ALL END-USE CODES  206148934308   \n",
       " 1                    TOTAL IMPORTS FOR ALL END-USE CODES   36526933587   \n",
       " 2                    TOTAL IMPORTS FOR ALL END-USE CODES   70807241668   \n",
       " 3                    TOTAL IMPORTS FOR ALL END-USE CODES    2147886825   \n",
       " 4                    TOTAL IMPORTS FOR ALL END-USE CODES   56125298341   \n",
       " ...                                                  ...           ...   \n",
       " 18517  OTHER (MOVIES, MISCELLANEOUS IMPORTS, AND SPEC...             0   \n",
       " 18518  OTHER (MOVIES, MISCELLANEOUS IMPORTS, AND SPEC...       5809794   \n",
       " 18519  OTHER (MOVIES, MISCELLANEOUS IMPORTS, AND SPEC...         19500   \n",
       " 18520  OTHER (MOVIES, MISCELLANEOUS IMPORTS, AND SPEC...       6316873   \n",
       " 18521  OTHER (MOVIES, MISCELLANEOUS IMPORTS, AND SPEC...     573307516   \n",
       " \n",
       "          CON_VAL_MO     time  \n",
       " 0      206315628808  2019-09  \n",
       " 1       35687372693  2019-09  \n",
       " 2       71991509308  2019-09  \n",
       " 3        2181488512  2019-09  \n",
       " 4       56006884934  2019-09  \n",
       " ...             ...      ...  \n",
       " 18517             0  2019-09  \n",
       " 18518       5809794  2019-09  \n",
       " 18519         19500  2019-09  \n",
       " 18520       6316873  2019-09  \n",
       " 18521     575666917  2019-09  \n",
       " \n",
       " [18522 rows x 7 columns],\n",
       "       CTY_CODE                 CTY_NAME I_ENDUSE  \\\n",
       " 0            -  TOTAL FOR ALL COUNTRIES        -   \n",
       " 1         0003           EUROPEAN UNION        -   \n",
       " 2         0014    PACIFIC RIM COUNTRIES        -   \n",
       " 3         0017                 CAFTA-DR        -   \n",
       " 4         0020                    NAFTA        -   \n",
       " ...        ...                      ...      ...   \n",
       " 18834     7850                MAURITIUS    50040   \n",
       " 18835     7880               MADAGASCAR    50040   \n",
       " 18836     7910             SOUTH AFRICA    50040   \n",
       " 18837     7960                 ZIMBABWE    50040   \n",
       " 18838     7XXX                   AFRICA    50040   \n",
       " \n",
       "                                           I_ENDUSE_LDESC    GEN_VAL_MO  \\\n",
       " 0                    TOTAL IMPORTS FOR ALL END-USE CODES  218901114532   \n",
       " 1                    TOTAL IMPORTS FOR ALL END-USE CODES   40933444378   \n",
       " 2                    TOTAL IMPORTS FOR ALL END-USE CODES   73703903882   \n",
       " 3                    TOTAL IMPORTS FOR ALL END-USE CODES    2211685320   \n",
       " 4                    TOTAL IMPORTS FOR ALL END-USE CODES   59467065545   \n",
       " ...                                                  ...           ...   \n",
       " 18834  OTHER (MOVIES, MISCELLANEOUS IMPORTS, AND SPEC...       1790476   \n",
       " 18835  OTHER (MOVIES, MISCELLANEOUS IMPORTS, AND SPEC...          2544   \n",
       " 18836  OTHER (MOVIES, MISCELLANEOUS IMPORTS, AND SPEC...        265733   \n",
       " 18837  OTHER (MOVIES, MISCELLANEOUS IMPORTS, AND SPEC...             0   \n",
       " 18838  OTHER (MOVIES, MISCELLANEOUS IMPORTS, AND SPEC...       2311790   \n",
       " \n",
       "          CON_VAL_MO     time  \n",
       " 0      221354465537  2019-10  \n",
       " 1       41424616251  2019-10  \n",
       " 2       74788220361  2019-10  \n",
       " 3        2161841178  2019-10  \n",
       " 4       59218758962  2019-10  \n",
       " ...             ...      ...  \n",
       " 18834       1790476  2019-10  \n",
       " 18835          2544  2019-10  \n",
       " 18836        265733  2019-10  \n",
       " 18837             0  2019-10  \n",
       " 18838       2311790  2019-10  \n",
       " \n",
       " [18839 rows x 7 columns],\n",
       "       CTY_CODE                 CTY_NAME I_ENDUSE  \\\n",
       " 0            -  TOTAL FOR ALL COUNTRIES        -   \n",
       " 1         0003           EUROPEAN UNION        -   \n",
       " 2         0014    PACIFIC RIM COUNTRIES        -   \n",
       " 3         0017                 CAFTA-DR        -   \n",
       " 4         0020                    NAFTA        -   \n",
       " ...        ...                      ...      ...   \n",
       " 19101     5830                   TAIWAN    50040   \n",
       " 19102     5880                    JAPAN    50040   \n",
       " 19103     5XXX                     ASIA    50040   \n",
       " 19104     6021                AUSTRALIA    50040   \n",
       " 19105     6024         CHRISTMAS ISLAND    50040   \n",
       " \n",
       "                                           I_ENDUSE_LDESC    GEN_VAL_MO  \\\n",
       " 0                    TOTAL IMPORTS FOR ALL END-USE CODES  198974554693   \n",
       " 1                    TOTAL IMPORTS FOR ALL END-USE CODES   36144407482   \n",
       " 2                    TOTAL IMPORTS FOR ALL END-USE CODES   67793718392   \n",
       " 3                    TOTAL IMPORTS FOR ALL END-USE CODES    2012822844   \n",
       " 4                    TOTAL IMPORTS FOR ALL END-USE CODES   54300877227   \n",
       " ...                                                  ...           ...   \n",
       " 19101  OTHER (MOVIES, MISCELLANEOUS IMPORTS, AND SPEC...       6236174   \n",
       " 19102  OTHER (MOVIES, MISCELLANEOUS IMPORTS, AND SPEC...       5047987   \n",
       " 19103  OTHER (MOVIES, MISCELLANEOUS IMPORTS, AND SPEC...     198850805   \n",
       " 19104  OTHER (MOVIES, MISCELLANEOUS IMPORTS, AND SPEC...        325705   \n",
       " 19105  OTHER (MOVIES, MISCELLANEOUS IMPORTS, AND SPEC...             0   \n",
       " \n",
       "          CON_VAL_MO     time  \n",
       " 0      199167527511  2019-11  \n",
       " 1       36347881288  2019-11  \n",
       " 2       66956903608  2019-11  \n",
       " 3        1994003648  2019-11  \n",
       " 4       54164190862  2019-11  \n",
       " ...             ...      ...  \n",
       " 19101       6236174  2019-11  \n",
       " 19102       5054062  2019-11  \n",
       " 19103     200315535  2019-11  \n",
       " 19104        325705  2019-11  \n",
       " 19105             0  2019-11  \n",
       " \n",
       " [19106 rows x 7 columns],\n",
       "       CTY_CODE                 CTY_NAME I_ENDUSE  \\\n",
       " 0            -  TOTAL FOR ALL COUNTRIES        -   \n",
       " 1         0003           EUROPEAN UNION        -   \n",
       " 2         0014    PACIFIC RIM COUNTRIES        -   \n",
       " 3         0017                 CAFTA-DR        -   \n",
       " 4         0020                    NAFTA        -   \n",
       " ...        ...                      ...      ...   \n",
       " 19312     7850                MAURITIUS    50040   \n",
       " 19313     7880               MADAGASCAR    50040   \n",
       " 19314     7910             SOUTH AFRICA    50040   \n",
       " 19315     7960                 ZIMBABWE    50040   \n",
       " 19316     7XXX                   AFRICA    50040   \n",
       " \n",
       "                                           I_ENDUSE_LDESC    GEN_VAL_MO  \\\n",
       " 0                    TOTAL IMPORTS FOR ALL END-USE CODES  201877354516   \n",
       " 1                    TOTAL IMPORTS FOR ALL END-USE CODES   36921846643   \n",
       " 2                    TOTAL IMPORTS FOR ALL END-USE CODES   66748701387   \n",
       " 3                    TOTAL IMPORTS FOR ALL END-USE CODES    2186549375   \n",
       " 4                    TOTAL IMPORTS FOR ALL END-USE CODES   54783997282   \n",
       " ...                                                  ...           ...   \n",
       " 19312  OTHER (MOVIES, MISCELLANEOUS IMPORTS, AND SPEC...       1971753   \n",
       " 19313  OTHER (MOVIES, MISCELLANEOUS IMPORTS, AND SPEC...         13757   \n",
       " 19314  OTHER (MOVIES, MISCELLANEOUS IMPORTS, AND SPEC...        417400   \n",
       " 19315  OTHER (MOVIES, MISCELLANEOUS IMPORTS, AND SPEC...             0   \n",
       " 19316  OTHER (MOVIES, MISCELLANEOUS IMPORTS, AND SPEC...       2562185   \n",
       " \n",
       "          CON_VAL_MO     time  \n",
       " 0      201879715697  2019-12  \n",
       " 1       36735748889  2019-12  \n",
       " 2       67124242970  2019-12  \n",
       " 3        2174983498  2019-12  \n",
       " 4       54916020332  2019-12  \n",
       " ...             ...      ...  \n",
       " 19312       1971753  2019-12  \n",
       " 19313         13757  2019-12  \n",
       " 19314        417400  2019-12  \n",
       " 19315             0  2019-12  \n",
       " 19316       2562185  2019-12  \n",
       " \n",
       " [19317 rows x 7 columns],\n",
       "       CTY_CODE                 CTY_NAME I_ENDUSE  \\\n",
       " 0            -  TOTAL FOR ALL COUNTRIES        -   \n",
       " 1         0003           EUROPEAN UNION        -   \n",
       " 2         0014    PACIFIC RIM COUNTRIES        -   \n",
       " 3         0017                 CAFTA-DR        -   \n",
       " 4         0020                    NAFTA        -   \n",
       " ...        ...                      ...      ...   \n",
       " 13624     7790                    KENYA    50040   \n",
       " 13625     7850                MAURITIUS    50040   \n",
       " 13626     7880               MADAGASCAR    50040   \n",
       " 13627     7910             SOUTH AFRICA    50040   \n",
       " 13628     7XXX                   AFRICA    50040   \n",
       " \n",
       "                                           I_ENDUSE_LDESC    GEN_VAL_MO  \\\n",
       " 0                    TOTAL IMPORTS FOR ALL END-USE CODES  195796204072   \n",
       " 1                    TOTAL IMPORTS FOR ALL END-USE CODES   35071255143   \n",
       " 2                    TOTAL IMPORTS FOR ALL END-USE CODES   65080414292   \n",
       " 3                    TOTAL IMPORTS FOR ALL END-USE CODES    1786453267   \n",
       " 4                    TOTAL IMPORTS FOR ALL END-USE CODES   53489130119   \n",
       " ...                                                  ...           ...   \n",
       " 13624  OTHER (MOVIES, MISCELLANEOUS IMPORTS, AND SPEC...         69827   \n",
       " 13625  OTHER (MOVIES, MISCELLANEOUS IMPORTS, AND SPEC...        560729   \n",
       " 13626  OTHER (MOVIES, MISCELLANEOUS IMPORTS, AND SPEC...         42491   \n",
       " 13627  OTHER (MOVIES, MISCELLANEOUS IMPORTS, AND SPEC...        216754   \n",
       " 13628  OTHER (MOVIES, MISCELLANEOUS IMPORTS, AND SPEC...       1459472   \n",
       " \n",
       "          CON_VAL_MO     time  \n",
       " 0      196275984205  2020-01  \n",
       " 1       34175943986  2020-01  \n",
       " 2       65234243103  2020-01  \n",
       " 3        1768166175  2020-01  \n",
       " 4       53635361916  2020-01  \n",
       " ...             ...      ...  \n",
       " 13624         69827  2020-01  \n",
       " 13625        560729  2020-01  \n",
       " 13626         42491  2020-01  \n",
       " 13627        216754  2020-01  \n",
       " 13628       1459472  2020-01  \n",
       " \n",
       " [13629 rows x 7 columns],\n",
       "       CTY_CODE                 CTY_NAME I_ENDUSE  \\\n",
       " 0            -  TOTAL FOR ALL COUNTRIES        -   \n",
       " 1         0003           EUROPEAN UNION        -   \n",
       " 2         0014    PACIFIC RIM COUNTRIES        -   \n",
       " 3         0017                 CAFTA-DR        -   \n",
       " 4         0020                    NAFTA        -   \n",
       " ...        ...                      ...      ...   \n",
       " 14909     7830                 TANZANIA    50040   \n",
       " 14910     7850                MAURITIUS    50040   \n",
       " 14911     7880               MADAGASCAR    50040   \n",
       " 14912     7910             SOUTH AFRICA    50040   \n",
       " 14913     7XXX                   AFRICA    50040   \n",
       " \n",
       "                                           I_ENDUSE_LDESC    GEN_VAL_MO  \\\n",
       " 0                    TOTAL IMPORTS FOR ALL END-USE CODES  178107959988   \n",
       " 1                    TOTAL IMPORTS FOR ALL END-USE CODES   32779739519   \n",
       " 2                    TOTAL IMPORTS FOR ALL END-USE CODES   51884383967   \n",
       " 3                    TOTAL IMPORTS FOR ALL END-USE CODES    2179743911   \n",
       " 4                    TOTAL IMPORTS FOR ALL END-USE CODES   53242237994   \n",
       " ...                                                  ...           ...   \n",
       " 14909  OTHER (MOVIES, MISCELLANEOUS IMPORTS, AND SPEC...          3117   \n",
       " 14910  OTHER (MOVIES, MISCELLANEOUS IMPORTS, AND SPEC...        299400   \n",
       " 14911  OTHER (MOVIES, MISCELLANEOUS IMPORTS, AND SPEC...         11378   \n",
       " 14912  OTHER (MOVIES, MISCELLANEOUS IMPORTS, AND SPEC...         23204   \n",
       " 14913  OTHER (MOVIES, MISCELLANEOUS IMPORTS, AND SPEC...        628445   \n",
       " \n",
       "          CON_VAL_MO     time  \n",
       " 0      177630956469  2020-02  \n",
       " 1       32097467891  2020-02  \n",
       " 2       52317837190  2020-02  \n",
       " 3        2157155986  2020-02  \n",
       " 4       53092206975  2020-02  \n",
       " ...             ...      ...  \n",
       " 14909          3117  2020-02  \n",
       " 14910        299400  2020-02  \n",
       " 14911         11378  2020-02  \n",
       " 14912         23204  2020-02  \n",
       " 14913        628445  2020-02  \n",
       " \n",
       " [14914 rows x 7 columns],\n",
       "       CTY_CODE                 CTY_NAME I_ENDUSE  \\\n",
       " 0            -  TOTAL FOR ALL COUNTRIES        -   \n",
       " 1         0003           EUROPEAN UNION        -   \n",
       " 2         0014    PACIFIC RIM COUNTRIES        -   \n",
       " 3         0017                 CAFTA-DR        -   \n",
       " 4         0020                    NAFTA        -   \n",
       " ...        ...                      ...      ...   \n",
       " 15742     7850                MAURITIUS    50040   \n",
       " 15743     7880               MADAGASCAR    50040   \n",
       " 15744     7910             SOUTH AFRICA    50040   \n",
       " 15745     7990                  LESOTHO    50040   \n",
       " 15746     7XXX                   AFRICA    50040   \n",
       " \n",
       "                                           I_ENDUSE_LDESC    GEN_VAL_MO  \\\n",
       " 0                    TOTAL IMPORTS FOR ALL END-USE CODES  193922847899   \n",
       " 1                    TOTAL IMPORTS FOR ALL END-USE CODES   41365412512   \n",
       " 2                    TOTAL IMPORTS FOR ALL END-USE CODES   54562507333   \n",
       " 3                    TOTAL IMPORTS FOR ALL END-USE CODES    2274624035   \n",
       " 4                    TOTAL IMPORTS FOR ALL END-USE CODES   54962452753   \n",
       " ...                                                  ...           ...   \n",
       " 15742  OTHER (MOVIES, MISCELLANEOUS IMPORTS, AND SPEC...       1279342   \n",
       " 15743  OTHER (MOVIES, MISCELLANEOUS IMPORTS, AND SPEC...         10319   \n",
       " 15744  OTHER (MOVIES, MISCELLANEOUS IMPORTS, AND SPEC...        219622   \n",
       " 15745  OTHER (MOVIES, MISCELLANEOUS IMPORTS, AND SPEC...          3000   \n",
       " 15746  OTHER (MOVIES, MISCELLANEOUS IMPORTS, AND SPEC...       1763890   \n",
       " \n",
       "          CON_VAL_MO     time  \n",
       " 0      192897172646  2020-03  \n",
       " 1       40282399015  2020-03  \n",
       " 2       54191299324  2020-03  \n",
       " 3        2265287631  2020-03  \n",
       " 4       54724751427  2020-03  \n",
       " ...             ...      ...  \n",
       " 15742       1279342  2020-03  \n",
       " 15743         10319  2020-03  \n",
       " 15744        219622  2020-03  \n",
       " 15745          3000  2020-03  \n",
       " 15746       1763890  2020-03  \n",
       " \n",
       " [15747 rows x 7 columns],\n",
       "       CTY_CODE                 CTY_NAME I_ENDUSE  \\\n",
       " 0            -  TOTAL FOR ALL COUNTRIES        -   \n",
       " 1         0003           EUROPEAN UNION        -   \n",
       " 2         0014    PACIFIC RIM COUNTRIES        -   \n",
       " 3         0017                 CAFTA-DR        -   \n",
       " 4         0020                    NAFTA        -   \n",
       " ...        ...                      ...      ...   \n",
       " 16211     7850                MAURITIUS    50040   \n",
       " 16212     7880               MADAGASCAR    50040   \n",
       " 16213     7910             SOUTH AFRICA    50040   \n",
       " 16214     7990                  LESOTHO    50040   \n",
       " 16215     7XXX                   AFRICA    50040   \n",
       " \n",
       "                                           I_ENDUSE_LDESC    GEN_VAL_MO  \\\n",
       " 0                    TOTAL IMPORTS FOR ALL END-USE CODES  165611885689   \n",
       " 1                    TOTAL IMPORTS FOR ALL END-USE CODES   31662829934   \n",
       " 2                    TOTAL IMPORTS FOR ALL END-USE CODES   65379807630   \n",
       " 3                    TOTAL IMPORTS FOR ALL END-USE CODES    1392964444   \n",
       " 4                    TOTAL IMPORTS FOR ALL END-USE CODES   30708975252   \n",
       " ...                                                  ...           ...   \n",
       " 16211  OTHER (MOVIES, MISCELLANEOUS IMPORTS, AND SPEC...             0   \n",
       " 16212  OTHER (MOVIES, MISCELLANEOUS IMPORTS, AND SPEC...             0   \n",
       " 16213  OTHER (MOVIES, MISCELLANEOUS IMPORTS, AND SPEC...        974313   \n",
       " 16214  OTHER (MOVIES, MISCELLANEOUS IMPORTS, AND SPEC...             0   \n",
       " 16215  OTHER (MOVIES, MISCELLANEOUS IMPORTS, AND SPEC...       1099194   \n",
       " \n",
       "          CON_VAL_MO     time  \n",
       " 0      166010009824  2020-04  \n",
       " 1       32016024674  2020-04  \n",
       " 2       64737331231  2020-04  \n",
       " 3        1391163284  2020-04  \n",
       " 4       31020169215  2020-04  \n",
       " ...             ...      ...  \n",
       " 16211             0  2020-04  \n",
       " 16212             0  2020-04  \n",
       " 16213        974313  2020-04  \n",
       " 16214             0  2020-04  \n",
       " 16215       1099194  2020-04  \n",
       " \n",
       " [16216 rows x 7 columns],\n",
       "       CTY_CODE                 CTY_NAME I_ENDUSE  \\\n",
       " 0            -  TOTAL FOR ALL COUNTRIES        -   \n",
       " 1         0003           EUROPEAN UNION        -   \n",
       " 2         0014    PACIFIC RIM COUNTRIES        -   \n",
       " 3         0017                 CAFTA-DR        -   \n",
       " 4         0020                    NAFTA        -   \n",
       " ...        ...                      ...      ...   \n",
       " 16608     7880               MADAGASCAR    50040   \n",
       " 16609     7910             SOUTH AFRICA    50040   \n",
       " 16610     7990                  LESOTHO    50040   \n",
       " 16611     7XXX                   AFRICA    50040   \n",
       " 16612        -  TOTAL FOR ALL COUNTRIES    50040   \n",
       " \n",
       "                                           I_ENDUSE_LDESC    GEN_VAL_MO  \\\n",
       " 0                    TOTAL IMPORTS FOR ALL END-USE CODES  163494079397   \n",
       " 1                    TOTAL IMPORTS FOR ALL END-USE CODES   27199368041   \n",
       " 2                    TOTAL IMPORTS FOR ALL END-USE CODES   66333581551   \n",
       " 3                    TOTAL IMPORTS FOR ALL END-USE CODES    1448212412   \n",
       " 4                    TOTAL IMPORTS FOR ALL END-USE CODES   30700075031   \n",
       " ...                                                  ...           ...   \n",
       " 16608  OTHER (MOVIES, MISCELLANEOUS IMPORTS, AND SPEC...             0   \n",
       " 16609  OTHER (MOVIES, MISCELLANEOUS IMPORTS, AND SPEC...         29924   \n",
       " 16610  OTHER (MOVIES, MISCELLANEOUS IMPORTS, AND SPEC...             0   \n",
       " 16611  OTHER (MOVIES, MISCELLANEOUS IMPORTS, AND SPEC...       2517794   \n",
       " 16612  OTHER (MOVIES, MISCELLANEOUS IMPORTS, AND SPEC...     402741827   \n",
       " \n",
       "          CON_VAL_MO     time  \n",
       " 0      163093322293  2020-05  \n",
       " 1       26796311181  2020-05  \n",
       " 2       65643613803  2020-05  \n",
       " 3        1458719347  2020-05  \n",
       " 4       31162503460  2020-05  \n",
       " ...             ...      ...  \n",
       " 16608             0  2020-05  \n",
       " 16609         29924  2020-05  \n",
       " 16610             0  2020-05  \n",
       " 16611       2517794  2020-05  \n",
       " 16612     401493954  2020-05  \n",
       " \n",
       " [16613 rows x 7 columns],\n",
       "       CTY_CODE                 CTY_NAME I_ENDUSE  \\\n",
       " 0            -  TOTAL FOR ALL COUNTRIES        -   \n",
       " 1         0003           EUROPEAN UNION        -   \n",
       " 2         0014    PACIFIC RIM COUNTRIES        -   \n",
       " 3         0017                 CAFTA-DR        -   \n",
       " 4         0020                    NAFTA        -   \n",
       " ...        ...                      ...      ...   \n",
       " 16983     7850                MAURITIUS    50040   \n",
       " 16984     7880               MADAGASCAR    50040   \n",
       " 16985     7910             SOUTH AFRICA    50040   \n",
       " 16986     7990                  LESOTHO    50040   \n",
       " 16987     7XXX                   AFRICA    50040   \n",
       " \n",
       "                                           I_ENDUSE_LDESC    GEN_VAL_MO  \\\n",
       " 0                    TOTAL IMPORTS FOR ALL END-USE CODES  179138115171   \n",
       " 1                    TOTAL IMPORTS FOR ALL END-USE CODES   30290104129   \n",
       " 2                    TOTAL IMPORTS FOR ALL END-USE CODES   64484139414   \n",
       " 3                    TOTAL IMPORTS FOR ALL END-USE CODES    1790972847   \n",
       " 4                    TOTAL IMPORTS FOR ALL END-USE CODES   45987257761   \n",
       " ...                                                  ...           ...   \n",
       " 16983  OTHER (MOVIES, MISCELLANEOUS IMPORTS, AND SPEC...       4160069   \n",
       " 16984  OTHER (MOVIES, MISCELLANEOUS IMPORTS, AND SPEC...             0   \n",
       " 16985  OTHER (MOVIES, MISCELLANEOUS IMPORTS, AND SPEC...         19124   \n",
       " 16986  OTHER (MOVIES, MISCELLANEOUS IMPORTS, AND SPEC...             0   \n",
       " 16987  OTHER (MOVIES, MISCELLANEOUS IMPORTS, AND SPEC...       4342403   \n",
       " \n",
       "          CON_VAL_MO     time  \n",
       " 0      179281195816  2020-06  \n",
       " 1       30328791607  2020-06  \n",
       " 2       64385656711  2020-06  \n",
       " 3        1807819235  2020-06  \n",
       " 4       46154043193  2020-06  \n",
       " ...             ...      ...  \n",
       " 16983       4160069  2020-06  \n",
       " 16984             0  2020-06  \n",
       " 16985         19124  2020-06  \n",
       " 16986             0  2020-06  \n",
       " 16987       4342403  2020-06  \n",
       " \n",
       " [16988 rows x 7 columns],\n",
       "       CTY_CODE                 CTY_NAME I_ENDUSE  \\\n",
       " 0            -  TOTAL FOR ALL COUNTRIES        -   \n",
       " 1         0003           EUROPEAN UNION        -   \n",
       " 2         0014    PACIFIC RIM COUNTRIES        -   \n",
       " 3         0017                 CAFTA-DR        -   \n",
       " 4         0020                    NAFTA        -   \n",
       " ...        ...                      ...      ...   \n",
       " 17379     7850                MAURITIUS    50040   \n",
       " 17380     7880               MADAGASCAR    50040   \n",
       " 17381     7910             SOUTH AFRICA    50040   \n",
       " 17382     7990                  LESOTHO    50040   \n",
       " 17383     7XXX                   AFRICA    50040   \n",
       " \n",
       "                                           I_ENDUSE_LDESC    GEN_VAL_MO  \\\n",
       " 0                    TOTAL IMPORTS FOR ALL END-USE CODES  199927697812   \n",
       " 1                    TOTAL IMPORTS FOR ALL END-USE CODES   33967936550   \n",
       " 2                    TOTAL IMPORTS FOR ALL END-USE CODES   71646660809   \n",
       " 3                    TOTAL IMPORTS FOR ALL END-USE CODES    2055726796   \n",
       " 4                    TOTAL IMPORTS FOR ALL END-USE CODES   51207934818   \n",
       " ...                                                  ...           ...   \n",
       " 17379  OTHER (MOVIES, MISCELLANEOUS IMPORTS, AND SPEC...        304800   \n",
       " 17380  OTHER (MOVIES, MISCELLANEOUS IMPORTS, AND SPEC...             0   \n",
       " 17381  OTHER (MOVIES, MISCELLANEOUS IMPORTS, AND SPEC...        632037   \n",
       " 17382  OTHER (MOVIES, MISCELLANEOUS IMPORTS, AND SPEC...             0   \n",
       " 17383  OTHER (MOVIES, MISCELLANEOUS IMPORTS, AND SPEC...       1098768   \n",
       " \n",
       "          CON_VAL_MO     time  \n",
       " 0      200016284876  2020-07  \n",
       " 1       33584053147  2020-07  \n",
       " 2       72029134888  2020-07  \n",
       " 3        2071501902  2020-07  \n",
       " 4       51245866729  2020-07  \n",
       " ...             ...      ...  \n",
       " 17379        304800  2020-07  \n",
       " 17380             0  2020-07  \n",
       " 17381        632037  2020-07  \n",
       " 17382             0  2020-07  \n",
       " 17383       1098768  2020-07  \n",
       " \n",
       " [17384 rows x 7 columns],\n",
       "       CTY_CODE                 CTY_NAME I_ENDUSE  \\\n",
       " 0            -  TOTAL FOR ALL COUNTRIES        -   \n",
       " 1         0003           EUROPEAN UNION        -   \n",
       " 2         0014    PACIFIC RIM COUNTRIES        -   \n",
       " 3         0017                 CAFTA-DR        -   \n",
       " 4         0020                    NAFTA        -   \n",
       " ...        ...                      ...      ...   \n",
       " 17714     7880               MADAGASCAR    50040   \n",
       " 17715     7910             SOUTH AFRICA    50040   \n",
       " 17716     7920                  NAMIBIA    50040   \n",
       " 17717     7990                  LESOTHO    50040   \n",
       " 17718     7XXX                   AFRICA    50040   \n",
       " \n",
       "                                           I_ENDUSE_LDESC    GEN_VAL_MO  \\\n",
       " 0                    TOTAL IMPORTS FOR ALL END-USE CODES  203112048656   \n",
       " 1                    TOTAL IMPORTS FOR ALL END-USE CODES   34380732411   \n",
       " 2                    TOTAL IMPORTS FOR ALL END-USE CODES   71909055504   \n",
       " 3                    TOTAL IMPORTS FOR ALL END-USE CODES    2079487859   \n",
       " 4                    TOTAL IMPORTS FOR ALL END-USE CODES   53304554575   \n",
       " ...                                                  ...           ...   \n",
       " 17714  OTHER (MOVIES, MISCELLANEOUS IMPORTS, AND SPEC...             0   \n",
       " 17715  OTHER (MOVIES, MISCELLANEOUS IMPORTS, AND SPEC...        345068   \n",
       " 17716  OTHER (MOVIES, MISCELLANEOUS IMPORTS, AND SPEC...         10938   \n",
       " 17717  OTHER (MOVIES, MISCELLANEOUS IMPORTS, AND SPEC...             0   \n",
       " 17718  OTHER (MOVIES, MISCELLANEOUS IMPORTS, AND SPEC...       1876371   \n",
       " \n",
       "          CON_VAL_MO     time  \n",
       " 0      201926827671  2020-08  \n",
       " 1       33877635627  2020-08  \n",
       " 2       71816805112  2020-08  \n",
       " 3        2097979393  2020-08  \n",
       " 4       53140364079  2020-08  \n",
       " ...             ...      ...  \n",
       " 17714             0  2020-08  \n",
       " 17715        345068  2020-08  \n",
       " 17716         10938  2020-08  \n",
       " 17717             0  2020-08  \n",
       " 17718       1876371  2020-08  \n",
       " \n",
       " [17719 rows x 7 columns],\n",
       "       CTY_CODE                 CTY_NAME I_ENDUSE  \\\n",
       " 0            -  TOTAL FOR ALL COUNTRIES        -   \n",
       " 1         0003           EUROPEAN UNION        -   \n",
       " 2         0014    PACIFIC RIM COUNTRIES        -   \n",
       " 3         0017                 CAFTA-DR        -   \n",
       " 4         0020                    NAFTA        -   \n",
       " ...        ...                      ...      ...   \n",
       " 18085     7910             SOUTH AFRICA    50040   \n",
       " 18086     7920                  NAMIBIA    50040   \n",
       " 18087     7970                   MALAWI    50040   \n",
       " 18088     7990                  LESOTHO    50040   \n",
       " 18089     7XXX                   AFRICA    50040   \n",
       " \n",
       "                                           I_ENDUSE_LDESC    GEN_VAL_MO  \\\n",
       " 0                    TOTAL IMPORTS FOR ALL END-USE CODES  206083668469   \n",
       " 1                    TOTAL IMPORTS FOR ALL END-USE CODES   35639671038   \n",
       " 2                    TOTAL IMPORTS FOR ALL END-USE CODES   73276827879   \n",
       " 3                    TOTAL IMPORTS FOR ALL END-USE CODES    2249870549   \n",
       " 4                    TOTAL IMPORTS FOR ALL END-USE CODES   54383510150   \n",
       " ...                                                  ...           ...   \n",
       " 18085  OTHER (MOVIES, MISCELLANEOUS IMPORTS, AND SPEC...        231965   \n",
       " 18086  OTHER (MOVIES, MISCELLANEOUS IMPORTS, AND SPEC...             0   \n",
       " 18087  OTHER (MOVIES, MISCELLANEOUS IMPORTS, AND SPEC...          2343   \n",
       " 18088  OTHER (MOVIES, MISCELLANEOUS IMPORTS, AND SPEC...             0   \n",
       " 18089  OTHER (MOVIES, MISCELLANEOUS IMPORTS, AND SPEC...        848964   \n",
       " \n",
       "          CON_VAL_MO     time  \n",
       " 0      205400372097  2020-09  \n",
       " 1       34663670713  2020-09  \n",
       " 2       73457095025  2020-09  \n",
       " 3        2239315021  2020-09  \n",
       " 4       54312018343  2020-09  \n",
       " ...             ...      ...  \n",
       " 18085        231965  2020-09  \n",
       " 18086             0  2020-09  \n",
       " 18087          2343  2020-09  \n",
       " 18088             0  2020-09  \n",
       " 18089        848964  2020-09  \n",
       " \n",
       " [18090 rows x 7 columns],\n",
       "       CTY_CODE                 CTY_NAME I_ENDUSE  \\\n",
       " 0            -  TOTAL FOR ALL COUNTRIES        -   \n",
       " 1         0003           EUROPEAN UNION        -   \n",
       " 2         0014    PACIFIC RIM COUNTRIES        -   \n",
       " 3         0017                 CAFTA-DR        -   \n",
       " 4         0020                    NAFTA        -   \n",
       " ...        ...                      ...      ...   \n",
       " 18402     7920                  NAMIBIA    50040   \n",
       " 18403     7970                   MALAWI    50040   \n",
       " 18404     7990                  LESOTHO    50040   \n",
       " 18405     7XXX                   AFRICA    50040   \n",
       " 18406        -  TOTAL FOR ALL COUNTRIES    50040   \n",
       " \n",
       "                                           I_ENDUSE_LDESC    GEN_VAL_MO  \\\n",
       " 0                    TOTAL IMPORTS FOR ALL END-USE CODES  218952608531   \n",
       " 1                    TOTAL IMPORTS FOR ALL END-USE CODES   36919625497   \n",
       " 2                    TOTAL IMPORTS FOR ALL END-USE CODES   79738494752   \n",
       " 3                    TOTAL IMPORTS FOR ALL END-USE CODES    2233350475   \n",
       " 4                    TOTAL IMPORTS FOR ALL END-USE CODES   57638555014   \n",
       " ...                                                  ...           ...   \n",
       " 18402  OTHER (MOVIES, MISCELLANEOUS IMPORTS, AND SPEC...          5744   \n",
       " 18403  OTHER (MOVIES, MISCELLANEOUS IMPORTS, AND SPEC...             0   \n",
       " 18404  OTHER (MOVIES, MISCELLANEOUS IMPORTS, AND SPEC...             0   \n",
       " 18405  OTHER (MOVIES, MISCELLANEOUS IMPORTS, AND SPEC...       3485100   \n",
       " 18406  OTHER (MOVIES, MISCELLANEOUS IMPORTS, AND SPEC...     433906957   \n",
       " \n",
       "          CON_VAL_MO     time  \n",
       " 0      219278682040  2020-10  \n",
       " 1       36431751095  2020-10  \n",
       " 2       79875855083  2020-10  \n",
       " 3        2248992947  2020-10  \n",
       " 4       57563480667  2020-10  \n",
       " ...             ...      ...  \n",
       " 18402          5744  2020-10  \n",
       " 18403             0  2020-10  \n",
       " 18404             0  2020-10  \n",
       " 18405       3485100  2020-10  \n",
       " 18406     432478866  2020-10  \n",
       " \n",
       " [18407 rows x 7 columns],\n",
       "       CTY_CODE                 CTY_NAME I_ENDUSE  \\\n",
       " 0            -  TOTAL FOR ALL COUNTRIES        -   \n",
       " 1         0003           EUROPEAN UNION        -   \n",
       " 2         0014    PACIFIC RIM COUNTRIES        -   \n",
       " 3         0017                 CAFTA-DR        -   \n",
       " 4         0020                    NAFTA        -   \n",
       " ...        ...                      ...      ...   \n",
       " 18667     7910             SOUTH AFRICA    50040   \n",
       " 18668     7920                  NAMIBIA    50040   \n",
       " 18669     7970                   MALAWI    50040   \n",
       " 18670     7990                  LESOTHO    50040   \n",
       " 18671     7XXX                   AFRICA    50040   \n",
       " \n",
       "                                           I_ENDUSE_LDESC    GEN_VAL_MO  \\\n",
       " 0                    TOTAL IMPORTS FOR ALL END-USE CODES  212453314812   \n",
       " 1                    TOTAL IMPORTS FOR ALL END-USE CODES   36698834086   \n",
       " 2                    TOTAL IMPORTS FOR ALL END-USE CODES   78975728986   \n",
       " 3                    TOTAL IMPORTS FOR ALL END-USE CODES    1955788114   \n",
       " 4                    TOTAL IMPORTS FOR ALL END-USE CODES   53884583834   \n",
       " ...                                                  ...           ...   \n",
       " 18667  OTHER (MOVIES, MISCELLANEOUS IMPORTS, AND SPEC...        362979   \n",
       " 18668  OTHER (MOVIES, MISCELLANEOUS IMPORTS, AND SPEC...             0   \n",
       " 18669  OTHER (MOVIES, MISCELLANEOUS IMPORTS, AND SPEC...             0   \n",
       " 18670  OTHER (MOVIES, MISCELLANEOUS IMPORTS, AND SPEC...             0   \n",
       " 18671  OTHER (MOVIES, MISCELLANEOUS IMPORTS, AND SPEC...       3398891   \n",
       " \n",
       "          CON_VAL_MO     time  \n",
       " 0      212363063369  2020-11  \n",
       " 1       37052296804  2020-11  \n",
       " 2       78294874237  2020-11  \n",
       " 3        2000322600  2020-11  \n",
       " 4       53917762308  2020-11  \n",
       " ...             ...      ...  \n",
       " 18667        362979  2020-11  \n",
       " 18668             0  2020-11  \n",
       " 18669             0  2020-11  \n",
       " 18670             0  2020-11  \n",
       " 18671       3398891  2020-11  \n",
       " \n",
       " [18672 rows x 7 columns],\n",
       "       CTY_CODE                 CTY_NAME I_ENDUSE  \\\n",
       " 0            -  TOTAL FOR ALL COUNTRIES        -   \n",
       " 1         0003           EUROPEAN UNION        -   \n",
       " 2         0014    PACIFIC RIM COUNTRIES        -   \n",
       " 3         0017                 CAFTA-DR        -   \n",
       " 4         0020                    NAFTA        -   \n",
       " ...        ...                      ...      ...   \n",
       " 18937     7910             SOUTH AFRICA    50040   \n",
       " 18938     7920                  NAMIBIA    50040   \n",
       " 18939     7970                   MALAWI    50040   \n",
       " 18940     7990                  LESOTHO    50040   \n",
       " 18941     7XXX                   AFRICA    50040   \n",
       " \n",
       "                                           I_ENDUSE_LDESC    GEN_VAL_MO  \\\n",
       " 0                    TOTAL IMPORTS FOR ALL END-USE CODES  214876750326   \n",
       " 1                    TOTAL IMPORTS FOR ALL END-USE CODES   39455857036   \n",
       " 2                    TOTAL IMPORTS FOR ALL END-USE CODES   78230428687   \n",
       " 3                    TOTAL IMPORTS FOR ALL END-USE CODES    2209212351   \n",
       " 4                    TOTAL IMPORTS FOR ALL END-USE CODES   53993174303   \n",
       " ...                                                  ...           ...   \n",
       " 18937  OTHER (MOVIES, MISCELLANEOUS IMPORTS, AND SPEC...        125738   \n",
       " 18938  OTHER (MOVIES, MISCELLANEOUS IMPORTS, AND SPEC...        425000   \n",
       " 18939  OTHER (MOVIES, MISCELLANEOUS IMPORTS, AND SPEC...             0   \n",
       " 18940  OTHER (MOVIES, MISCELLANEOUS IMPORTS, AND SPEC...             0   \n",
       " 18941  OTHER (MOVIES, MISCELLANEOUS IMPORTS, AND SPEC...       2450623   \n",
       " \n",
       "          CON_VAL_MO     time  \n",
       " 0      216381248919  2020-12  \n",
       " 1       39747049088  2020-12  \n",
       " 2       79027339405  2020-12  \n",
       " 3        2197738134  2020-12  \n",
       " 4       54040493347  2020-12  \n",
       " ...             ...      ...  \n",
       " 18937        125738  2020-12  \n",
       " 18938        425000  2020-12  \n",
       " 18939             0  2020-12  \n",
       " 18940             0  2020-12  \n",
       " 18941       2450623  2020-12  \n",
       " \n",
       " [18942 rows x 7 columns],\n",
       "       CTY_CODE                 CTY_NAME I_ENDUSE  \\\n",
       " 0            -  TOTAL FOR ALL COUNTRIES        -   \n",
       " 1         0003           EUROPEAN UNION        -   \n",
       " 2         0014    PACIFIC RIM COUNTRIES        -   \n",
       " 3         0017                 CAFTA-DR        -   \n",
       " 4         0020                    NAFTA        -   \n",
       " ...        ...                      ...      ...   \n",
       " 13570     7790                    KENYA    50040   \n",
       " 13571     7850                MAURITIUS    50040   \n",
       " 13572     7880               MADAGASCAR    50040   \n",
       " 13573     7910             SOUTH AFRICA    50040   \n",
       " 13574     7XXX                   AFRICA    50040   \n",
       " \n",
       "                                           I_ENDUSE_LDESC    GEN_VAL_MO  \\\n",
       " 0                    TOTAL IMPORTS FOR ALL END-USE CODES  204628270226   \n",
       " 1                    TOTAL IMPORTS FOR ALL END-USE CODES   35615655849   \n",
       " 2                    TOTAL IMPORTS FOR ALL END-USE CODES   71560835078   \n",
       " 3                    TOTAL IMPORTS FOR ALL END-USE CODES    1774588909   \n",
       " 4                    TOTAL IMPORTS FOR ALL END-USE CODES   53697485441   \n",
       " ...                                                  ...           ...   \n",
       " 13570  OTHER (MOVIES, MISCELLANEOUS IMPORTS, AND SPEC...        143228   \n",
       " 13571  OTHER (MOVIES, MISCELLANEOUS IMPORTS, AND SPEC...       2553384   \n",
       " 13572  OTHER (MOVIES, MISCELLANEOUS IMPORTS, AND SPEC...         33080   \n",
       " 13573  OTHER (MOVIES, MISCELLANEOUS IMPORTS, AND SPEC...         20423   \n",
       " 13574  OTHER (MOVIES, MISCELLANEOUS IMPORTS, AND SPEC...       2908426   \n",
       " \n",
       "          CON_VAL_MO     time  \n",
       " 0      202848425798  2021-01  \n",
       " 1       35122189908  2021-01  \n",
       " 2       70825238724  2021-01  \n",
       " 3        1772950730  2021-01  \n",
       " 4       53492903581  2021-01  \n",
       " ...             ...      ...  \n",
       " 13570        143228  2021-01  \n",
       " 13571       2553384  2021-01  \n",
       " 13572         33080  2021-01  \n",
       " 13573         20423  2021-01  \n",
       " 13574       2908426  2021-01  \n",
       " \n",
       " [13575 rows x 7 columns],\n",
       "       CTY_CODE                 CTY_NAME I_ENDUSE  \\\n",
       " 0            -  TOTAL FOR ALL COUNTRIES        -   \n",
       " 1         0003           EUROPEAN UNION        -   \n",
       " 2         0014    PACIFIC RIM COUNTRIES        -   \n",
       " 3         0017                 CAFTA-DR        -   \n",
       " 4         0020                    NAFTA        -   \n",
       " ...        ...                      ...      ...   \n",
       " 14881     7830                 TANZANIA    50040   \n",
       " 14882     7850                MAURITIUS    50040   \n",
       " 14883     7880               MADAGASCAR    50040   \n",
       " 14884     7910             SOUTH AFRICA    50040   \n",
       " 14885     7XXX                   AFRICA    50040   \n",
       " \n",
       "                                           I_ENDUSE_LDESC    GEN_VAL_MO  \\\n",
       " 0                    TOTAL IMPORTS FOR ALL END-USE CODES  193435057621   \n",
       " 1                    TOTAL IMPORTS FOR ALL END-USE CODES   35817551209   \n",
       " 2                    TOTAL IMPORTS FOR ALL END-USE CODES   63117551632   \n",
       " 3                    TOTAL IMPORTS FOR ALL END-USE CODES    2145840372   \n",
       " 4                    TOTAL IMPORTS FOR ALL END-USE CODES   52417336937   \n",
       " ...                                                  ...           ...   \n",
       " 14881  OTHER (MOVIES, MISCELLANEOUS IMPORTS, AND SPEC...          5891   \n",
       " 14882  OTHER (MOVIES, MISCELLANEOUS IMPORTS, AND SPEC...        317184   \n",
       " 14883  OTHER (MOVIES, MISCELLANEOUS IMPORTS, AND SPEC...             0   \n",
       " 14884  OTHER (MOVIES, MISCELLANEOUS IMPORTS, AND SPEC...        809951   \n",
       " 14885  OTHER (MOVIES, MISCELLANEOUS IMPORTS, AND SPEC...       1563753   \n",
       " \n",
       "          CON_VAL_MO     time  \n",
       " 0      193037045027  2021-02  \n",
       " 1       35397410948  2021-02  \n",
       " 2       63262680832  2021-02  \n",
       " 3        2120153103  2021-02  \n",
       " 4       52347531775  2021-02  \n",
       " ...             ...      ...  \n",
       " 14881          5891  2021-02  \n",
       " 14882        317184  2021-02  \n",
       " 14883             0  2021-02  \n",
       " 14884        809951  2021-02  \n",
       " 14885       1563753  2021-02  \n",
       " \n",
       " [14886 rows x 7 columns],\n",
       "       CTY_CODE                 CTY_NAME I_ENDUSE  \\\n",
       " 0            -  TOTAL FOR ALL COUNTRIES        -   \n",
       " 1         0003           EUROPEAN UNION        -   \n",
       " 2         0014    PACIFIC RIM COUNTRIES        -   \n",
       " 3         0017                 CAFTA-DR        -   \n",
       " 4         0020                    NAFTA        -   \n",
       " ...        ...                      ...      ...   \n",
       " 15900     7830                 TANZANIA    50040   \n",
       " 15901     7850                MAURITIUS    50040   \n",
       " 15902     7880               MADAGASCAR    50040   \n",
       " 15903     7910             SOUTH AFRICA    50040   \n",
       " 15904     7XXX                   AFRICA    50040   \n",
       " \n",
       "                                           I_ENDUSE_LDESC    GEN_VAL_MO  \\\n",
       " 0                    TOTAL IMPORTS FOR ALL END-USE CODES  236917164332   \n",
       " 1                    TOTAL IMPORTS FOR ALL END-USE CODES   40606680211   \n",
       " 2                    TOTAL IMPORTS FOR ALL END-USE CODES   78944720801   \n",
       " 3                    TOTAL IMPORTS FOR ALL END-USE CODES    2739499227   \n",
       " 4                    TOTAL IMPORTS FOR ALL END-USE CODES   63123819046   \n",
       " ...                                                  ...           ...   \n",
       " 15900  OTHER (MOVIES, MISCELLANEOUS IMPORTS, AND SPEC...          6706   \n",
       " 15901  OTHER (MOVIES, MISCELLANEOUS IMPORTS, AND SPEC...       4293271   \n",
       " 15902  OTHER (MOVIES, MISCELLANEOUS IMPORTS, AND SPEC...          2280   \n",
       " 15903  OTHER (MOVIES, MISCELLANEOUS IMPORTS, AND SPEC...        241117   \n",
       " 15904  OTHER (MOVIES, MISCELLANEOUS IMPORTS, AND SPEC...       5739372   \n",
       " \n",
       "          CON_VAL_MO     time  \n",
       " 0      236286942120  2021-03  \n",
       " 1       40400230556  2021-03  \n",
       " 2       79026410723  2021-03  \n",
       " 3        2698703784  2021-03  \n",
       " 4       63097995281  2021-03  \n",
       " ...             ...      ...  \n",
       " 15900          6706  2021-03  \n",
       " 15901       4293271  2021-03  \n",
       " 15902          2280  2021-03  \n",
       " 15903        241117  2021-03  \n",
       " 15904       5739372  2021-03  \n",
       " \n",
       " [15905 rows x 7 columns],\n",
       "       CTY_CODE                 CTY_NAME I_ENDUSE  \\\n",
       " 0            -  TOTAL FOR ALL COUNTRIES        -   \n",
       " 1         0003           EUROPEAN UNION        -   \n",
       " 2         0014    PACIFIC RIM COUNTRIES        -   \n",
       " 3         0017                 CAFTA-DR        -   \n",
       " 4         0020                    NAFTA        -   \n",
       " ...        ...                      ...      ...   \n",
       " 16536     7830                 TANZANIA    50040   \n",
       " 16537     7850                MAURITIUS    50040   \n",
       " 16538     7880               MADAGASCAR    50040   \n",
       " 16539     7910             SOUTH AFRICA    50040   \n",
       " 16540     7XXX                   AFRICA    50040   \n",
       " \n",
       "                                           I_ENDUSE_LDESC    GEN_VAL_MO  \\\n",
       " 0                    TOTAL IMPORTS FOR ALL END-USE CODES  226461821602   \n",
       " 1                    TOTAL IMPORTS FOR ALL END-USE CODES   40380184898   \n",
       " 2                    TOTAL IMPORTS FOR ALL END-USE CODES   76214664929   \n",
       " 3                    TOTAL IMPORTS FOR ALL END-USE CODES    2385718314   \n",
       " 4                    TOTAL IMPORTS FOR ALL END-USE CODES   59476022536   \n",
       " ...                                                  ...           ...   \n",
       " 16536  OTHER (MOVIES, MISCELLANEOUS IMPORTS, AND SPEC...         10289   \n",
       " 16537  OTHER (MOVIES, MISCELLANEOUS IMPORTS, AND SPEC...       2365040   \n",
       " 16538  OTHER (MOVIES, MISCELLANEOUS IMPORTS, AND SPEC...         95327   \n",
       " 16539  OTHER (MOVIES, MISCELLANEOUS IMPORTS, AND SPEC...         74391   \n",
       " 16540  OTHER (MOVIES, MISCELLANEOUS IMPORTS, AND SPEC...       4082942   \n",
       " \n",
       "          CON_VAL_MO     time  \n",
       " 0      226183034451  2021-04  \n",
       " 1       39843680612  2021-04  \n",
       " 2       75856320475  2021-04  \n",
       " 3        2407333456  2021-04  \n",
       " 4       59598213139  2021-04  \n",
       " ...             ...      ...  \n",
       " 16536         10289  2021-04  \n",
       " 16537       2365040  2021-04  \n",
       " 16538         95327  2021-04  \n",
       " 16539         74391  2021-04  \n",
       " 16540       4082942  2021-04  \n",
       " \n",
       " [16541 rows x 7 columns],\n",
       "       CTY_CODE                 CTY_NAME I_ENDUSE  \\\n",
       " 0            -  TOTAL FOR ALL COUNTRIES        -   \n",
       " 1         0003           EUROPEAN UNION        -   \n",
       " 2         0014    PACIFIC RIM COUNTRIES        -   \n",
       " 3         0017                 CAFTA-DR        -   \n",
       " 4         0020                    NAFTA        -   \n",
       " ...        ...                      ...      ...   \n",
       " 17070     7850                MAURITIUS    50040   \n",
       " 17071     7880               MADAGASCAR    50040   \n",
       " 17072     7910             SOUTH AFRICA    50040   \n",
       " 17073     7XXX                   AFRICA    50040   \n",
       " 17074        -  TOTAL FOR ALL COUNTRIES    50040   \n",
       " \n",
       "                                           I_ENDUSE_LDESC    GEN_VAL_MO  \\\n",
       " 0                    TOTAL IMPORTS FOR ALL END-USE CODES  230413997150   \n",
       " 1                    TOTAL IMPORTS FOR ALL END-USE CODES   39932149700   \n",
       " 2                    TOTAL IMPORTS FOR ALL END-USE CODES   77049174512   \n",
       " 3                    TOTAL IMPORTS FOR ALL END-USE CODES    2594617126   \n",
       " 4                    TOTAL IMPORTS FOR ALL END-USE CODES   60149350376   \n",
       " ...                                                  ...           ...   \n",
       " 17070  OTHER (MOVIES, MISCELLANEOUS IMPORTS, AND SPEC...       2690530   \n",
       " 17071  OTHER (MOVIES, MISCELLANEOUS IMPORTS, AND SPEC...         40863   \n",
       " 17072  OTHER (MOVIES, MISCELLANEOUS IMPORTS, AND SPEC...        323092   \n",
       " 17073  OTHER (MOVIES, MISCELLANEOUS IMPORTS, AND SPEC...       4113885   \n",
       " 17074  OTHER (MOVIES, MISCELLANEOUS IMPORTS, AND SPEC...     458738507   \n",
       " \n",
       "          CON_VAL_MO     time  \n",
       " 0      228825091295  2021-05  \n",
       " 1       38225067121  2021-05  \n",
       " 2       77105005357  2021-05  \n",
       " 3        2601191554  2021-05  \n",
       " 4       60196133147  2021-05  \n",
       " ...             ...      ...  \n",
       " 17070       2690530  2021-05  \n",
       " 17071         40863  2021-05  \n",
       " 17072        323092  2021-05  \n",
       " 17073       4113885  2021-05  \n",
       " 17074     459826814  2021-05  \n",
       " \n",
       " [17075 rows x 7 columns],\n",
       "       CTY_CODE                 CTY_NAME I_ENDUSE  \\\n",
       " 0            -  TOTAL FOR ALL COUNTRIES        -   \n",
       " 1         0003           EUROPEAN UNION        -   \n",
       " 2         0014    PACIFIC RIM COUNTRIES        -   \n",
       " 3         0017                 CAFTA-DR        -   \n",
       " 4         0020                    NAFTA        -   \n",
       " ...        ...                      ...      ...   \n",
       " 17547     7850                MAURITIUS    50040   \n",
       " 17548     7880               MADAGASCAR    50040   \n",
       " 17549     7910             SOUTH AFRICA    50040   \n",
       " 17550     7XXX                   AFRICA    50040   \n",
       " 17551        -  TOTAL FOR ALL COUNTRIES    50040   \n",
       " \n",
       "                                           I_ENDUSE_LDESC    GEN_VAL_MO  \\\n",
       " 0                    TOTAL IMPORTS FOR ALL END-USE CODES  242322118724   \n",
       " 1                    TOTAL IMPORTS FOR ALL END-USE CODES   43132443491   \n",
       " 2                    TOTAL IMPORTS FOR ALL END-USE CODES   79078090508   \n",
       " 3                    TOTAL IMPORTS FOR ALL END-USE CODES    2613359423   \n",
       " 4                    TOTAL IMPORTS FOR ALL END-USE CODES   64937554957   \n",
       " ...                                                  ...           ...   \n",
       " 17547  OTHER (MOVIES, MISCELLANEOUS IMPORTS, AND SPEC...       1795646   \n",
       " 17548  OTHER (MOVIES, MISCELLANEOUS IMPORTS, AND SPEC...         14986   \n",
       " 17549  OTHER (MOVIES, MISCELLANEOUS IMPORTS, AND SPEC...        377083   \n",
       " 17550  OTHER (MOVIES, MISCELLANEOUS IMPORTS, AND SPEC...       2677141   \n",
       " 17551  OTHER (MOVIES, MISCELLANEOUS IMPORTS, AND SPEC...     472312076   \n",
       " \n",
       "          CON_VAL_MO     time  \n",
       " 0      242316779355  2021-06  \n",
       " 1       42773459932  2021-06  \n",
       " 2       79474222682  2021-06  \n",
       " 3        2624065023  2021-06  \n",
       " 4       64717337338  2021-06  \n",
       " ...             ...      ...  \n",
       " 17547       1795646  2021-06  \n",
       " 17548         14986  2021-06  \n",
       " 17549        377083  2021-06  \n",
       " 17550       2677141  2021-06  \n",
       " 17551     473305262  2021-06  \n",
       " \n",
       " [17552 rows x 7 columns],\n",
       "       CTY_CODE                 CTY_NAME I_ENDUSE  \\\n",
       " 0            -  TOTAL FOR ALL COUNTRIES        -   \n",
       " 1         0003           EUROPEAN UNION        -   \n",
       " 2         0014    PACIFIC RIM COUNTRIES        -   \n",
       " 3         0017                 CAFTA-DR        -   \n",
       " 4         0020                    NAFTA        -   \n",
       " ...        ...                      ...      ...   \n",
       " 17941     7830                 TANZANIA    50040   \n",
       " 17942     7850                MAURITIUS    50040   \n",
       " 17943     7880               MADAGASCAR    50040   \n",
       " 17944     7910             SOUTH AFRICA    50040   \n",
       " 17945     7XXX                   AFRICA    50040   \n",
       " \n",
       "                                           I_ENDUSE_LDESC    GEN_VAL_MO  \\\n",
       " 0                    TOTAL IMPORTS FOR ALL END-USE CODES  237302400922   \n",
       " 1                    TOTAL IMPORTS FOR ALL END-USE CODES   42205920089   \n",
       " 2                    TOTAL IMPORTS FOR ALL END-USE CODES   79489656405   \n",
       " 3                    TOTAL IMPORTS FOR ALL END-USE CODES    2632668120   \n",
       " 4                    TOTAL IMPORTS FOR ALL END-USE CODES   61627893273   \n",
       " ...                                                  ...           ...   \n",
       " 17941  OTHER (MOVIES, MISCELLANEOUS IMPORTS, AND SPEC...             0   \n",
       " 17942  OTHER (MOVIES, MISCELLANEOUS IMPORTS, AND SPEC...       5779707   \n",
       " 17943  OTHER (MOVIES, MISCELLANEOUS IMPORTS, AND SPEC...          6174   \n",
       " 17944  OTHER (MOVIES, MISCELLANEOUS IMPORTS, AND SPEC...         61073   \n",
       " 17945  OTHER (MOVIES, MISCELLANEOUS IMPORTS, AND SPEC...       6135518   \n",
       " \n",
       "          CON_VAL_MO     time  \n",
       " 0      237135522863  2021-07  \n",
       " 1       41360793792  2021-07  \n",
       " 2       79508665011  2021-07  \n",
       " 3        2646266156  2021-07  \n",
       " 4       61650123044  2021-07  \n",
       " ...             ...      ...  \n",
       " 17941             0  2021-07  \n",
       " 17942       5779707  2021-07  \n",
       " 17943          6174  2021-07  \n",
       " 17944         61073  2021-07  \n",
       " 17945       6135518  2021-07  \n",
       " \n",
       " [17946 rows x 7 columns],\n",
       "       CTY_CODE                 CTY_NAME I_ENDUSE  \\\n",
       " 0            -  TOTAL FOR ALL COUNTRIES        -   \n",
       " 1         0003           EUROPEAN UNION        -   \n",
       " 2         0014    PACIFIC RIM COUNTRIES        -   \n",
       " 3         0017                 CAFTA-DR        -   \n",
       " 4         0020                    NAFTA        -   \n",
       " ...        ...                      ...      ...   \n",
       " 18297     7830                 TANZANIA    50040   \n",
       " 18298     7850                MAURITIUS    50040   \n",
       " 18299     7880               MADAGASCAR    50040   \n",
       " 18300     7910             SOUTH AFRICA    50040   \n",
       " 18301     7XXX                   AFRICA    50040   \n",
       " \n",
       "                                           I_ENDUSE_LDESC    GEN_VAL_MO  \\\n",
       " 0                    TOTAL IMPORTS FOR ALL END-USE CODES  245231530985   \n",
       " 1                    TOTAL IMPORTS FOR ALL END-USE CODES   42276956299   \n",
       " 2                    TOTAL IMPORTS FOR ALL END-USE CODES   83615488216   \n",
       " 3                    TOTAL IMPORTS FOR ALL END-USE CODES    2650113846   \n",
       " 4                    TOTAL IMPORTS FOR ALL END-USE CODES   62908463783   \n",
       " ...                                                  ...           ...   \n",
       " 18297  OTHER (MOVIES, MISCELLANEOUS IMPORTS, AND SPEC...             0   \n",
       " 18298  OTHER (MOVIES, MISCELLANEOUS IMPORTS, AND SPEC...         14700   \n",
       " 18299  OTHER (MOVIES, MISCELLANEOUS IMPORTS, AND SPEC...             0   \n",
       " 18300  OTHER (MOVIES, MISCELLANEOUS IMPORTS, AND SPEC...        107626   \n",
       " 18301  OTHER (MOVIES, MISCELLANEOUS IMPORTS, AND SPEC...        367523   \n",
       " \n",
       "          CON_VAL_MO     time  \n",
       " 0      243524253800  2021-08  \n",
       " 1       40753355268  2021-08  \n",
       " 2       83657010980  2021-08  \n",
       " 3        2638519496  2021-08  \n",
       " 4       62519751352  2021-08  \n",
       " ...             ...      ...  \n",
       " 18297             0  2021-08  \n",
       " 18298         14700  2021-08  \n",
       " 18299             0  2021-08  \n",
       " 18300        107626  2021-08  \n",
       " 18301        367523  2021-08  \n",
       " \n",
       " [18302 rows x 7 columns],\n",
       "       CTY_CODE                 CTY_NAME I_ENDUSE  \\\n",
       " 0            -  TOTAL FOR ALL COUNTRIES        -   \n",
       " 1         0003           EUROPEAN UNION        -   \n",
       " 2         0014    PACIFIC RIM COUNTRIES        -   \n",
       " 3         0017                 CAFTA-DR        -   \n",
       " 4         0020                    NAFTA        -   \n",
       " ...        ...                      ...      ...   \n",
       " 18608     7850                MAURITIUS    50040   \n",
       " 18609     7880               MADAGASCAR    50040   \n",
       " 18610     7910             SOUTH AFRICA    50040   \n",
       " 18611     7XXX                   AFRICA    50040   \n",
       " 18612        -  TOTAL FOR ALL COUNTRIES    50040   \n",
       " \n",
       "                                           I_ENDUSE_LDESC    GEN_VAL_MO  \\\n",
       " 0                    TOTAL IMPORTS FOR ALL END-USE CODES  244355844701   \n",
       " 1                    TOTAL IMPORTS FOR ALL END-USE CODES   41216415963   \n",
       " 2                    TOTAL IMPORTS FOR ALL END-USE CODES   86804907241   \n",
       " 3                    TOTAL IMPORTS FOR ALL END-USE CODES    2664086319   \n",
       " 4                    TOTAL IMPORTS FOR ALL END-USE CODES   61755932331   \n",
       " ...                                                  ...           ...   \n",
       " 18608  OTHER (MOVIES, MISCELLANEOUS IMPORTS, AND SPEC...       2361945   \n",
       " 18609  OTHER (MOVIES, MISCELLANEOUS IMPORTS, AND SPEC...             0   \n",
       " 18610  OTHER (MOVIES, MISCELLANEOUS IMPORTS, AND SPEC...         89059   \n",
       " 18611  OTHER (MOVIES, MISCELLANEOUS IMPORTS, AND SPEC...       2996798   \n",
       " 18612  OTHER (MOVIES, MISCELLANEOUS IMPORTS, AND SPEC...     456335739   \n",
       " \n",
       "          CON_VAL_MO     time  \n",
       " 0      244980494127  2021-09  \n",
       " 1       40596880880  2021-09  \n",
       " 2       87835768959  2021-09  \n",
       " 3        2633394499  2021-09  \n",
       " 4       61657883384  2021-09  \n",
       " ...             ...      ...  \n",
       " 18608       2361945  2021-09  \n",
       " 18609             0  2021-09  \n",
       " 18610         89059  2021-09  \n",
       " 18611       2996798  2021-09  \n",
       " 18612     456677891  2021-09  \n",
       " \n",
       " [18613 rows x 7 columns],\n",
       "       CTY_CODE                 CTY_NAME I_ENDUSE  \\\n",
       " 0            -  TOTAL FOR ALL COUNTRIES        -   \n",
       " 1         0003           EUROPEAN UNION        -   \n",
       " 2         0014    PACIFIC RIM COUNTRIES        -   \n",
       " 3         0017                 CAFTA-DR        -   \n",
       " 4         0020                    NAFTA        -   \n",
       " ...        ...                      ...      ...   \n",
       " 18866     7830                 TANZANIA    50040   \n",
       " 18867     7850                MAURITIUS    50040   \n",
       " 18868     7880               MADAGASCAR    50040   \n",
       " 18869     7910             SOUTH AFRICA    50040   \n",
       " 18870     7XXX                   AFRICA    50040   \n",
       " \n",
       "                                           I_ENDUSE_LDESC    GEN_VAL_MO  \\\n",
       " 0                    TOTAL IMPORTS FOR ALL END-USE CODES  251211888879   \n",
       " 1                    TOTAL IMPORTS FOR ALL END-USE CODES   42548190336   \n",
       " 2                    TOTAL IMPORTS FOR ALL END-USE CODES   86691778887   \n",
       " 3                    TOTAL IMPORTS FOR ALL END-USE CODES    2520162784   \n",
       " 4                    TOTAL IMPORTS FOR ALL END-USE CODES   65715991102   \n",
       " ...                                                  ...           ...   \n",
       " 18866  OTHER (MOVIES, MISCELLANEOUS IMPORTS, AND SPEC...          4726   \n",
       " 18867  OTHER (MOVIES, MISCELLANEOUS IMPORTS, AND SPEC...       3288027   \n",
       " 18868  OTHER (MOVIES, MISCELLANEOUS IMPORTS, AND SPEC...          5390   \n",
       " 18869  OTHER (MOVIES, MISCELLANEOUS IMPORTS, AND SPEC...        176279   \n",
       " 18870  OTHER (MOVIES, MISCELLANEOUS IMPORTS, AND SPEC...       3838476   \n",
       " \n",
       "          CON_VAL_MO     time  \n",
       " 0      248103717303  2021-10  \n",
       " 1       41660470705  2021-10  \n",
       " 2       85798320721  2021-10  \n",
       " 3        2539113775  2021-10  \n",
       " 4       65588930504  2021-10  \n",
       " ...             ...      ...  \n",
       " 18866          4726  2021-10  \n",
       " 18867       3288027  2021-10  \n",
       " 18868          5390  2021-10  \n",
       " 18869        176279  2021-10  \n",
       " 18870       3838476  2021-10  \n",
       " \n",
       " [18871 rows x 7 columns],\n",
       "       CTY_CODE                 CTY_NAME I_ENDUSE  \\\n",
       " 0            -  TOTAL FOR ALL COUNTRIES        -   \n",
       " 1         0003           EUROPEAN UNION        -   \n",
       " 2         0014    PACIFIC RIM COUNTRIES        -   \n",
       " 3         0017                 CAFTA-DR        -   \n",
       " 4         0020                    NAFTA        -   \n",
       " ...        ...                      ...      ...   \n",
       " 19136     7830                 TANZANIA    50040   \n",
       " 19137     7850                MAURITIUS    50040   \n",
       " 19138     7880               MADAGASCAR    50040   \n",
       " 19139     7910             SOUTH AFRICA    50040   \n",
       " 19140     7XXX                   AFRICA    50040   \n",
       " \n",
       "                                           I_ENDUSE_LDESC    GEN_VAL_MO  \\\n",
       " 0                    TOTAL IMPORTS FOR ALL END-USE CODES  259390162126   \n",
       " 1                    TOTAL IMPORTS FOR ALL END-USE CODES   44426129244   \n",
       " 2                    TOTAL IMPORTS FOR ALL END-USE CODES   86797347011   \n",
       " 3                    TOTAL IMPORTS FOR ALL END-USE CODES    2512797876   \n",
       " 4                    TOTAL IMPORTS FOR ALL END-USE CODES   68281090933   \n",
       " ...                                                  ...           ...   \n",
       " 19136  OTHER (MOVIES, MISCELLANEOUS IMPORTS, AND SPEC...         16786   \n",
       " 19137  OTHER (MOVIES, MISCELLANEOUS IMPORTS, AND SPEC...       2155488   \n",
       " 19138  OTHER (MOVIES, MISCELLANEOUS IMPORTS, AND SPEC...             0   \n",
       " 19139  OTHER (MOVIES, MISCELLANEOUS IMPORTS, AND SPEC...         70845   \n",
       " 19140  OTHER (MOVIES, MISCELLANEOUS IMPORTS, AND SPEC...       2531787   \n",
       " \n",
       "          CON_VAL_MO     time  \n",
       " 0      256982535642  2021-11  \n",
       " 1       42999649963  2021-11  \n",
       " 2       86472476236  2021-11  \n",
       " 3        2531946673  2021-11  \n",
       " 4       68157574729  2021-11  \n",
       " ...             ...      ...  \n",
       " 19136         16786  2021-11  \n",
       " 19137       2155488  2021-11  \n",
       " 19138             0  2021-11  \n",
       " 19139         70845  2021-11  \n",
       " 19140       2531787  2021-11  \n",
       " \n",
       " [19141 rows x 7 columns],\n",
       "       CTY_CODE                 CTY_NAME I_ENDUSE  \\\n",
       " 0            -  TOTAL FOR ALL COUNTRIES        -   \n",
       " 1         0003           EUROPEAN UNION        -   \n",
       " 2         0014    PACIFIC RIM COUNTRIES        -   \n",
       " 3         0017                 CAFTA-DR        -   \n",
       " 4         0020                    NAFTA        -   \n",
       " ...        ...                      ...      ...   \n",
       " 19444     7830                 TANZANIA    50040   \n",
       " 19445     7850                MAURITIUS    50040   \n",
       " 19446     7880               MADAGASCAR    50040   \n",
       " 19447     7910             SOUTH AFRICA    50040   \n",
       " 19448     7XXX                   AFRICA    50040   \n",
       " \n",
       "                                           I_ENDUSE_LDESC    GEN_VAL_MO  \\\n",
       " 0                    TOTAL IMPORTS FOR ALL END-USE CODES  256845242631   \n",
       " 1                    TOTAL IMPORTS FOR ALL END-USE CODES   42179942026   \n",
       " 2                    TOTAL IMPORTS FOR ALL END-USE CODES   90378798339   \n",
       " 3                    TOTAL IMPORTS FOR ALL END-USE CODES    2632734755   \n",
       " 4                    TOTAL IMPORTS FOR ALL END-USE CODES   65753061979   \n",
       " ...                                                  ...           ...   \n",
       " 19444  OTHER (MOVIES, MISCELLANEOUS IMPORTS, AND SPEC...             0   \n",
       " 19445  OTHER (MOVIES, MISCELLANEOUS IMPORTS, AND SPEC...       3163141   \n",
       " 19446  OTHER (MOVIES, MISCELLANEOUS IMPORTS, AND SPEC...         98077   \n",
       " 19447  OTHER (MOVIES, MISCELLANEOUS IMPORTS, AND SPEC...        375341   \n",
       " 19448  OTHER (MOVIES, MISCELLANEOUS IMPORTS, AND SPEC...       3964187   \n",
       " \n",
       "          CON_VAL_MO     time  \n",
       " 0      257633723449  2021-12  \n",
       " 1       41651401829  2021-12  \n",
       " 2       91351941349  2021-12  \n",
       " 3        2588344983  2021-12  \n",
       " 4       66042525581  2021-12  \n",
       " ...             ...      ...  \n",
       " 19444             0  2021-12  \n",
       " 19445       3163141  2021-12  \n",
       " 19446         98077  2021-12  \n",
       " 19447        375341  2021-12  \n",
       " 19448       3964187  2021-12  \n",
       " \n",
       " [19449 rows x 7 columns]]"
      ]
     },
     "execution_count": 343,
     "metadata": {},
     "output_type": "execute_result"
    }
   ],
   "source": [
    "dfs"
   ]
  },
  {
   "cell_type": "code",
   "execution_count": null,
   "id": "06eb382d-de14-45bf-97f6-4752d0eac811",
   "metadata": {},
   "outputs": [],
   "source": []
  }
 ],
 "metadata": {
  "kernelspec": {
   "display_name": "Python 3 (ipykernel)",
   "language": "python",
   "name": "python3"
  },
  "language_info": {
   "codemirror_mode": {
    "name": "ipython",
    "version": 3
   },
   "file_extension": ".py",
   "mimetype": "text/x-python",
   "name": "python",
   "nbconvert_exporter": "python",
   "pygments_lexer": "ipython3",
   "version": "3.11.1"
  }
 },
 "nbformat": 4,
 "nbformat_minor": 5
}
