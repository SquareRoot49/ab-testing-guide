{
  "nbformat": 4,
  "nbformat_minor": 0,
  "metadata": {
    "colab": {
      "provenance": []
    },
    "kernelspec": {
      "name": "python3",
      "display_name": "Python 3"
    },
    "language_info": {
      "name": "python"
    }
  },
  "cells": [
    {
      "cell_type": "code",
      "execution_count": 2,
      "metadata": {
        "id": "Mm62KCNQ-l-x",
        "colab": {
          "base_uri": "https://localhost:8080/"
        },
        "outputId": "82746926-1cd2-4b30-9ddc-23d8eef50369"
      },
      "outputs": [
        {
          "output_type": "stream",
          "name": "stdout",
          "text": [
            "1\n",
            "2\n",
            "5\n"
          ]
        }
      ],
      "source": [
        "print(1)\n",
        "print(2)\n",
        "print(5)"
      ]
    },
    {
      "cell_type": "code",
      "source": [
        "inputs = [1, 2, 5]"
      ],
      "metadata": {
        "id": "9s6pBiJH-_LN"
      },
      "execution_count": 3,
      "outputs": []
    },
    {
      "cell_type": "code",
      "source": [
        "print(inputs[0])"
      ],
      "metadata": {
        "colab": {
          "base_uri": "https://localhost:8080/"
        },
        "id": "l2L8EFjW_J4h",
        "outputId": "52db3be0-944c-4ef1-b5ca-e7d28c9a112a"
      },
      "execution_count": 7,
      "outputs": [
        {
          "output_type": "stream",
          "name": "stdout",
          "text": [
            "1\n"
          ]
        }
      ]
    },
    {
      "cell_type": "code",
      "source": [
        "print(inputs[1])"
      ],
      "metadata": {
        "colab": {
          "base_uri": "https://localhost:8080/"
        },
        "id": "IQW3oK7N_MdB",
        "outputId": "af1c25aa-4340-4a92-ca86-dbdbd29e59dc"
      },
      "execution_count": 8,
      "outputs": [
        {
          "output_type": "stream",
          "name": "stdout",
          "text": [
            "2\n"
          ]
        }
      ]
    },
    {
      "cell_type": "code",
      "source": [
        "print(inputs[2])"
      ],
      "metadata": {
        "colab": {
          "base_uri": "https://localhost:8080/"
        },
        "id": "J6AqNgqi_NeA",
        "outputId": "b257da1e-6ed9-4c22-8a69-99e64bb047bc"
      },
      "execution_count": 9,
      "outputs": [
        {
          "output_type": "stream",
          "name": "stdout",
          "text": [
            "5\n"
          ]
        }
      ]
    },
    {
      "cell_type": "code",
      "source": [
        "list(range(3))"
      ],
      "metadata": {
        "colab": {
          "base_uri": "https://localhost:8080/"
        },
        "id": "loW5RD9O_vXW",
        "outputId": "b8b466d0-ef69-4112-be9f-9c121e7cabfd"
      },
      "execution_count": 14,
      "outputs": [
        {
          "output_type": "execute_result",
          "data": {
            "text/plain": [
              "[0, 1, 2]"
            ]
          },
          "metadata": {},
          "execution_count": 14
        }
      ]
    },
    {
      "cell_type": "code",
      "source": [
        "inputs = [1, 2, 5, -1, 18, 0]\n",
        "outputs = []\n",
        "for index in range(len(inputs)):\n",
        "    output = inputs[index]** 2\n",
        "    outputs.append(output)\n"
      ],
      "metadata": {
        "id": "xKR33B9C_hIC"
      },
      "execution_count": 22,
      "outputs": []
    },
    {
      "cell_type": "code",
      "source": [
        "outputs"
      ],
      "metadata": {
        "colab": {
          "base_uri": "https://localhost:8080/"
        },
        "id": "a534ikOX_hTl",
        "outputId": "90772204-744b-4011-f687-3fd2b0bd5e68"
      },
      "execution_count": 23,
      "outputs": [
        {
          "output_type": "execute_result",
          "data": {
            "text/plain": [
              "[1, 4, 25, 1, 324, 0]"
            ]
          },
          "metadata": {},
          "execution_count": 23
        }
      ]
    },
    {
      "cell_type": "code",
      "source": [],
      "metadata": {
        "id": "67sw_Xfo_hcb"
      },
      "execution_count": null,
      "outputs": []
    },
    {
      "cell_type": "code",
      "source": [
        "for index in range(len(inputs)):\n",
        "    print(inputs[index])"
      ],
      "metadata": {
        "colab": {
          "base_uri": "https://localhost:8080/"
        },
        "id": "WymmNMuJ_OiQ",
        "outputId": "403fca63-7763-4415-ec01-d2c5ab379913"
      },
      "execution_count": 10,
      "outputs": [
        {
          "output_type": "stream",
          "name": "stdout",
          "text": [
            "1\n",
            "2\n",
            "5\n"
          ]
        }
      ]
    },
    {
      "cell_type": "code",
      "source": [
        "inputs = [1, 2, 5, -1, 18, 0]\n",
        "outputs = []\n",
        "index = 0\n",
        "for input in inputs:\n",
        "    output = input ** 2\n",
        "    print(input)\n",
        "    print(output)\n",
        "    outputs.append(output)\n",
        "    print(outputs)\n"
      ],
      "metadata": {
        "colab": {
          "base_uri": "https://localhost:8080/"
        },
        "id": "-hsiYVK__e5R",
        "outputId": "f8ccfaf2-cebf-42dd-ee4a-75434b128c52"
      },
      "execution_count": 27,
      "outputs": [
        {
          "output_type": "stream",
          "name": "stdout",
          "text": [
            "1\n",
            "1\n",
            "[1]\n",
            "2\n",
            "4\n",
            "[1, 4]\n",
            "5\n",
            "25\n",
            "[1, 4, 25]\n",
            "-1\n",
            "1\n",
            "[1, 4, 25, 1]\n",
            "18\n",
            "324\n",
            "[1, 4, 25, 1, 324]\n",
            "0\n",
            "0\n",
            "[1, 4, 25, 1, 324, 0]\n"
          ]
        }
      ]
    },
    {
      "cell_type": "code",
      "source": [
        "outputs"
      ],
      "metadata": {
        "colab": {
          "base_uri": "https://localhost:8080/"
        },
        "id": "EQIsuuLLA_Ds",
        "outputId": "d8ee3ad2-7cb6-4c64-dfd5-84d73c58f1a5"
      },
      "execution_count": 25,
      "outputs": [
        {
          "output_type": "execute_result",
          "data": {
            "text/plain": [
              "[1, 4, 25, 1, 324, 0]"
            ]
          },
          "metadata": {},
          "execution_count": 25
        }
      ]
    },
    {
      "cell_type": "code",
      "source": [
        "demo_map = {\"a\": 1, \"b\": [1, 2, 3]}"
      ],
      "metadata": {
        "id": "7r3a_k9xBDJN"
      },
      "execution_count": 28,
      "outputs": []
    },
    {
      "cell_type": "code",
      "source": [
        "demo_map"
      ],
      "metadata": {
        "colab": {
          "base_uri": "https://localhost:8080/"
        },
        "id": "Bq4-6Y3EB6Iy",
        "outputId": "2d18b6a2-bca7-4b60-b0cd-22ea2ecb1b60"
      },
      "execution_count": 29,
      "outputs": [
        {
          "output_type": "execute_result",
          "data": {
            "text/plain": [
              "{'a': 1, 'b': [1, 2, 3]}"
            ]
          },
          "metadata": {},
          "execution_count": 29
        }
      ]
    },
    {
      "cell_type": "code",
      "source": [
        "for i in demo_map:\n",
        "  print(i)\n",
        "  print(demo_map[i])\n"
      ],
      "metadata": {
        "colab": {
          "base_uri": "https://localhost:8080/"
        },
        "id": "HUTdk7K1B6jw",
        "outputId": "135fa4c4-b35f-4519-e999-96534232bcb2"
      },
      "execution_count": 31,
      "outputs": [
        {
          "output_type": "stream",
          "name": "stdout",
          "text": [
            "a\n",
            "1\n",
            "b\n",
            "[1, 2, 3]\n"
          ]
        }
      ]
    },
    {
      "cell_type": "code",
      "source": [
        "demo_str = \"hello\""
      ],
      "metadata": {
        "id": "YaBcdHEZB-6M"
      },
      "execution_count": 32,
      "outputs": []
    },
    {
      "cell_type": "code",
      "source": [
        "for s in demo_str:\n",
        "  print(s)"
      ],
      "metadata": {
        "colab": {
          "base_uri": "https://localhost:8080/"
        },
        "id": "1naKbnN_COZh",
        "outputId": "a1e7d47f-9b94-49cc-9fc7-3ff80a11e54d"
      },
      "execution_count": 41,
      "outputs": [
        {
          "output_type": "stream",
          "name": "stdout",
          "text": [
            "h\n",
            "e\n",
            "l\n",
            "l\n",
            "o\n"
          ]
        }
      ]
    },
    {
      "cell_type": "code",
      "source": [
        "it = demo_str.__iter__()"
      ],
      "metadata": {
        "id": "7Dh5I4-sCQlV"
      },
      "execution_count": 34,
      "outputs": []
    },
    {
      "cell_type": "code",
      "source": [
        "type(it)"
      ],
      "metadata": {
        "colab": {
          "base_uri": "https://localhost:8080/"
        },
        "id": "B-QHQqM3CYHj",
        "outputId": "884bd23d-3d55-4227-aa26-0c55a7d56874"
      },
      "execution_count": 35,
      "outputs": [
        {
          "output_type": "execute_result",
          "data": {
            "text/plain": [
              "str_iterator"
            ]
          },
          "metadata": {},
          "execution_count": 35
        }
      ]
    },
    {
      "cell_type": "code",
      "source": [
        "it = demo_str.__iter__()\n",
        "for s in it:\n",
        "  print(s)"
      ],
      "metadata": {
        "colab": {
          "base_uri": "https://localhost:8080/"
        },
        "id": "BsM04OeRCZAs",
        "outputId": "a87803e3-6337-44e3-c8c6-e2082924087c"
      },
      "execution_count": 43,
      "outputs": [
        {
          "output_type": "stream",
          "name": "stdout",
          "text": [
            "h\n",
            "e\n",
            "l\n",
            "l\n",
            "o\n"
          ]
        }
      ]
    },
    {
      "cell_type": "code",
      "source": [
        "for s in it:\n",
        "  print(s)"
      ],
      "metadata": {
        "id": "xikAurzGChL2"
      },
      "execution_count": 37,
      "outputs": []
    },
    {
      "cell_type": "code",
      "source": [
        "choice = \"banana\"\n",
        "if choice == \"apple\":\n",
        "  print(\"apple\")\n",
        "else:\n",
        "  print(\"not in stock\")"
      ],
      "metadata": {
        "colab": {
          "base_uri": "https://localhost:8080/"
        },
        "id": "nfJG_kYpCkfi",
        "outputId": "3d743c11-c2a4-493e-af21-c62a6211ecd5"
      },
      "execution_count": 45,
      "outputs": [
        {
          "output_type": "stream",
          "name": "stdout",
          "text": [
            "not in stock\n"
          ]
        }
      ]
    },
    {
      "cell_type": "code",
      "source": [],
      "metadata": {
        "id": "CqXDRQ_kDDMq"
      },
      "execution_count": null,
      "outputs": []
    }
  ]
}