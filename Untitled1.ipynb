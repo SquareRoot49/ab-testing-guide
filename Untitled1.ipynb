{
 "cells": [
  {
   "cell_type": "code",
   "execution_count": 1,
   "id": "a745c79c-9fc4-4ce5-a7fe-bb68250ca421",
   "metadata": {},
   "outputs": [],
   "source": [
    "import numpy as np"
   ]
  },
  {
   "cell_type": "code",
   "execution_count": 2,
   "id": "8164f878-51a6-400f-a5b3-0b1830f8cd6b",
   "metadata": {},
   "outputs": [],
   "source": [
    "#python基础--numpy"
   ]
  },
  {
   "cell_type": "code",
   "execution_count": 4,
   "id": "c85cd351-4d04-47e7-a44b-c353809d7b68",
   "metadata": {},
   "outputs": [],
   "source": [
    "demo = np.array([[1, 2, 3],\n",
    "                   [4, 5, 6]])\n",
    "# ,代表着换行"
   ]
  },
  {
   "cell_type": "code",
   "execution_count": 5,
   "id": "0b938add-4ce2-4466-a18e-a23e1413f905",
   "metadata": {},
   "outputs": [
    {
     "data": {
      "text/plain": [
       "array([[1, 2, 3],\n",
       "       [4, 5, 6]])"
      ]
     },
     "execution_count": 5,
     "metadata": {},
     "output_type": "execute_result"
    }
   ],
   "source": [
    "demo"
   ]
  },
  {
   "cell_type": "code",
   "execution_count": 189,
   "id": "618fbf46-414b-4ca8-bda6-fc6d4f9e2a8a",
   "metadata": {},
   "outputs": [],
   "source": [
    "demo_2 = np.array([[1, 2, 3], [4, 5, 6]])"
   ]
  },
  {
   "cell_type": "code",
   "execution_count": 190,
   "id": "bbc6300f-1a4b-45b4-9525-9494a174a66a",
   "metadata": {},
   "outputs": [
    {
     "data": {
      "text/plain": [
       "array([[1, 2, 3],\n",
       "       [4, 5, 6]])"
      ]
     },
     "execution_count": 190,
     "metadata": {},
     "output_type": "execute_result"
    }
   ],
   "source": [
    "demo_2"
   ]
  },
  {
   "cell_type": "code",
   "execution_count": 6,
   "id": "c8160113-d703-427e-933f-daf37cd5044d",
   "metadata": {},
   "outputs": [
    {
     "data": {
      "text/plain": [
       "array([[1, 2],\n",
       "       [3, 4],\n",
       "       [5, 6]])"
      ]
     },
     "execution_count": 6,
     "metadata": {},
     "output_type": "execute_result"
    }
   ],
   "source": [
    "#矩阵转秩\n",
    "#在reshape函数中，第一个参数代表行数，第二个参数代表列数。再进行reshape是必须要注意行数✖️列数🟰总元素个数。 第一个参数写列数，代表直接计算所有元素个数。\n",
    "demo.reshape(-1, 2)"
   ]
  },
  {
   "cell_type": "code",
   "execution_count": 8,
   "id": "f597090d-2262-4ba8-9ad3-f045e35128d2",
   "metadata": {},
   "outputs": [
    {
     "data": {
      "text/plain": [
       "array([[1, 2, 3],\n",
       "       [4, 5, 6]])"
      ]
     },
     "execution_count": 8,
     "metadata": {},
     "output_type": "execute_result"
    }
   ],
   "source": [
    "demo.reshape(2, 3)"
   ]
  },
  {
   "cell_type": "code",
   "execution_count": 9,
   "id": "18100fbf-b264-444c-bffb-e331697a26aa",
   "metadata": {},
   "outputs": [
    {
     "data": {
      "text/plain": [
       "array([[1, 2, 3, 4, 5, 6]])"
      ]
     },
     "execution_count": 9,
     "metadata": {},
     "output_type": "execute_result"
    }
   ],
   "source": [
    "demo.reshape(1, 6)"
   ]
  },
  {
   "cell_type": "code",
   "execution_count": 10,
   "id": "0e9504b7-fe29-479c-aecb-b95cc1c2b4cb",
   "metadata": {},
   "outputs": [
    {
     "data": {
      "text/plain": [
       "array([[1],\n",
       "       [2],\n",
       "       [3],\n",
       "       [4],\n",
       "       [5],\n",
       "       [6]])"
      ]
     },
     "execution_count": 10,
     "metadata": {},
     "output_type": "execute_result"
    }
   ],
   "source": [
    "demo.reshape(6, 1)"
   ]
  },
  {
   "cell_type": "code",
   "execution_count": 11,
   "id": "6d3b011a-ce7f-4731-bde4-e3cb2cb8a548",
   "metadata": {},
   "outputs": [],
   "source": [
    "#关于python中的re模块"
   ]
  },
  {
   "cell_type": "code",
   "execution_count": 12,
   "id": "598d2822-58ba-45c1-b292-6fabb76f9623",
   "metadata": {},
   "outputs": [
    {
     "data": {
      "text/plain": [
       "<re.Match object; span=(0, 6), match='Python'>"
      ]
     },
     "execution_count": 12,
     "metadata": {},
     "output_type": "execute_result"
    }
   ],
   "source": [
    "import re #帮助我们为文本添加一般的规则，例如对于专有名词，将专有名词的首字母大写，后面跟多个小写字母。\n",
    "re.compile('[A-Z][a-z]+').search('Python')\n",
    "# compile 编译编撰"
   ]
  },
  {
   "cell_type": "code",
   "execution_count": 13,
   "id": "a3cd3cb5-b840-4e0f-bfc0-ee8a1a4dbb1b",
   "metadata": {},
   "outputs": [],
   "source": [
    "#关于python中的lambda，map以及reduce函数的用法和组合"
   ]
  },
  {
   "cell_type": "code",
   "execution_count": 14,
   "id": "226fa1bd-635c-4d40-ae7a-1fd1e97c7e8e",
   "metadata": {},
   "outputs": [],
   "source": [
    "#lambda是python中的一个隐藏函数，也就是这个函数不需要我们去定义名称，只需要直接写lambda就可以，后买的expression由我们进行定义"
   ]
  },
  {
   "cell_type": "code",
   "execution_count": 21,
   "id": "ba7ae04f-b2cb-4e12-b6e7-23a4b9f408fe",
   "metadata": {},
   "outputs": [],
   "source": [
    "add = lambda x, y: x + y #在此add不再是一个简单的变量，它变成了一个具有加法功能性的函数"
   ]
  },
  {
   "cell_type": "code",
   "execution_count": 22,
   "id": "3b89241e-77e1-4a39-aa51-c42610324a7a",
   "metadata": {},
   "outputs": [
    {
     "data": {
      "text/plain": [
       "12"
      ]
     },
     "execution_count": 22,
     "metadata": {},
     "output_type": "execute_result"
    }
   ],
   "source": [
    "add(5, 7)"
   ]
  },
  {
   "cell_type": "code",
   "execution_count": 23,
   "id": "3bb41e34-6056-4755-82ce-ae8e91c0d1bb",
   "metadata": {},
   "outputs": [],
   "source": [
    "#lambda和 其他函数的组合"
   ]
  },
  {
   "cell_type": "code",
   "execution_count": 24,
   "id": "28dd0675-73b2-442f-958c-ca0d6df689f8",
   "metadata": {},
   "outputs": [],
   "source": [
    "#map() 函数：map函数的功能是，在你已经有一个函数的前提下，可以将一个序列中的每个元素都经过函数映射，并返回最后的结果。"
   ]
  },
  {
   "cell_type": "code",
   "execution_count": 120,
   "id": "e5e7b587-5c89-4263-811e-51932a78b054",
   "metadata": {},
   "outputs": [],
   "source": [
    "def square(x):\n",
    "    x2 = x**2\n",
    "    return x2\n",
    "s = map(square, [1, 2, 3, 4, 5]) #返回的是迭代器"
   ]
  },
  {
   "cell_type": "code",
   "execution_count": 121,
   "id": "21a239e4-50ed-4993-8ca6-aebc09e21e83",
   "metadata": {},
   "outputs": [
    {
     "data": {
      "text/plain": [
       "1"
      ]
     },
     "execution_count": 121,
     "metadata": {},
     "output_type": "execute_result"
    }
   ],
   "source": [
    "next(s)"
   ]
  },
  {
   "cell_type": "code",
   "execution_count": 122,
   "id": "e125a537-0792-4a61-98cd-3182895f3dae",
   "metadata": {},
   "outputs": [
    {
     "data": {
      "text/plain": [
       "4"
      ]
     },
     "execution_count": 122,
     "metadata": {},
     "output_type": "execute_result"
    }
   ],
   "source": [
    "next(s)"
   ]
  },
  {
   "cell_type": "code",
   "execution_count": 123,
   "id": "7542db72-262f-4205-b093-dfe79ae01fcd",
   "metadata": {},
   "outputs": [
    {
     "name": "stdout",
     "output_type": "stream",
     "text": [
      "9\n",
      "16\n",
      "25\n"
     ]
    }
   ],
   "source": [
    "for i in s:\n",
    "    print(i)"
   ]
  },
  {
   "cell_type": "code",
   "execution_count": 32,
   "id": "02482f02-3d1c-469e-849e-b16860dd4d23",
   "metadata": {},
   "outputs": [],
   "source": [
    "# __inti__ 构造方法：在类的方法中，谁调用就表示谁"
   ]
  },
  {
   "cell_type": "code",
   "execution_count": 44,
   "id": "d2e81c6b-2253-489c-9cc6-50da71d3e6b5",
   "metadata": {},
   "outputs": [],
   "source": [
    "class Person:\n",
    "    def __init__(self, name, age):\n",
    "        self.name = name\n",
    "        self.age = age\n",
    "    #self.name中的name代表类的属性，而等号后面的name是具体的数字，是输入的值。\n",
    "    def test(self): #谁调用就表示谁，这个test方法调用了init中的name和age，那么name和age就可以表示为test方法。\n",
    "        print(self.name, self.age)"
   ]
  },
  {
   "cell_type": "code",
   "execution_count": 45,
   "id": "e102e34f-dca7-49ec-a265-8ae083460f14",
   "metadata": {},
   "outputs": [],
   "source": [
    "person_1 = Person('liming', 25) #这里在为一个在person类中的对象添加属性"
   ]
  },
  {
   "cell_type": "code",
   "execution_count": 46,
   "id": "5aa15590-d512-40bf-a988-38d88e310bc4",
   "metadata": {},
   "outputs": [
    {
     "name": "stdout",
     "output_type": "stream",
     "text": [
      "liming 25\n"
     ]
    }
   ],
   "source": [
    "person_1.test() #类中定义的方法这样使用"
   ]
  },
  {
   "cell_type": "code",
   "execution_count": 55,
   "id": "adc95a04-3c6c-4dcb-88f0-ee33d8d65c2a",
   "metadata": {},
   "outputs": [
    {
     "name": "stdout",
     "output_type": "stream",
     "text": [
      "The 1 member in my family is my mom, her name is 芦丽红, 50 years old this year.\n",
      "The 2 member in my family is my bather, his name is 刘旺泽, 52 years old this year.\n"
     ]
    }
   ],
   "source": [
    "#用类+__inti__可以化简一些代码：\n",
    "class Family :\n",
    "    def __init__(self, num, name, age, icon, gender):\n",
    "        self.name = name\n",
    "        self.age = age\n",
    "        self.num = num\n",
    "        self.icon = icon\n",
    "        self.gender = gender\n",
    "    def Myfamily(self):\n",
    "        print('The '+ str(self.num) + ' member in my family is my ' + self.icon + ', ' + self.gender + ' name is ' + self.name + ', ' + str(self.age) + ' years old this year.')\n",
    "my_mom = Family(1, '芦丽红', 50, 'mom', 'her')\n",
    "my_father = Family(2, '刘旺泽', 52, 'bather', 'his')\n",
    "my_mom.Myfamily()\n",
    "my_father.Myfamily()\n",
    "        "
   ]
  },
  {
   "cell_type": "code",
   "execution_count": 56,
   "id": "a3ae8d5b-6a6f-46e1-b0b9-763c04698c38",
   "metadata": {},
   "outputs": [],
   "source": [
    "#迭代器iterator对象表示一个数据流，iterator对象可以被next()函数不断调用并不断返回下一个值，知直到没有数据得到StopIteration错误"
   ]
  },
  {
   "cell_type": "code",
   "execution_count": 57,
   "id": "3d55cb56-635f-41b4-8ef8-5852c688c6ae",
   "metadata": {},
   "outputs": [
    {
     "name": "stdout",
     "output_type": "stream",
     "text": [
      "9\n",
      "16\n",
      "25\n"
     ]
    },
    {
     "ename": "StopIteration",
     "evalue": "",
     "output_type": "error",
     "traceback": [
      "\u001b[0;31m---------------------------------------------------------------------------\u001b[0m",
      "\u001b[0;31mStopIteration\u001b[0m                             Traceback (most recent call last)",
      "Cell \u001b[0;32mIn[57], line 2\u001b[0m\n\u001b[1;32m      1\u001b[0m \u001b[38;5;28;01mfor\u001b[39;00m i \u001b[38;5;129;01min\u001b[39;00m \u001b[38;5;28mrange\u001b[39m(\u001b[38;5;241m100\u001b[39m):\n\u001b[0;32m----> 2\u001b[0m     \u001b[38;5;28mprint\u001b[39m(\u001b[38;5;28;43mnext\u001b[39;49m\u001b[43m(\u001b[49m\u001b[43ms\u001b[49m\u001b[43m)\u001b[49m)\n\u001b[1;32m      3\u001b[0m \u001b[38;5;28;01melse\u001b[39;00m:\n\u001b[1;32m      4\u001b[0m     \u001b[38;5;28;01mraise\u001b[39;00m \u001b[38;5;167;01mStopIteration\u001b[39;00m\n",
      "\u001b[0;31mStopIteration\u001b[0m: "
     ]
    }
   ],
   "source": [
    "for i in range(100):\n",
    "    print(next(s))\n",
    "else:\n",
    "    raise StopIteration"
   ]
  },
  {
   "cell_type": "code",
   "execution_count": 58,
   "id": "5c0c9726-b4b8-41e6-a4f5-31c26bf590c2",
   "metadata": {},
   "outputs": [
    {
     "ename": "StopIteration",
     "evalue": "",
     "output_type": "error",
     "traceback": [
      "\u001b[0;31m---------------------------------------------------------------------------\u001b[0m",
      "\u001b[0;31mStopIteration\u001b[0m                             Traceback (most recent call last)",
      "Cell \u001b[0;32mIn[58], line 2\u001b[0m\n\u001b[1;32m      1\u001b[0m \u001b[38;5;28;01mfor\u001b[39;00m i \u001b[38;5;129;01min\u001b[39;00m \u001b[38;5;28mrange\u001b[39m(\u001b[38;5;241m100\u001b[39m):\n\u001b[0;32m----> 2\u001b[0m     \u001b[38;5;28mprint\u001b[39m(\u001b[38;5;28;43mnext\u001b[39;49m\u001b[43m(\u001b[49m\u001b[43ms\u001b[49m\u001b[43m)\u001b[49m)\n\u001b[1;32m      3\u001b[0m \u001b[38;5;28;01melse\u001b[39;00m:\n\u001b[1;32m      4\u001b[0m     \u001b[38;5;28;01mraise\u001b[39;00m \u001b[38;5;167;01mStopIteration\u001b[39;00m\n",
      "\u001b[0;31mStopIteration\u001b[0m: "
     ]
    }
   ],
   "source": [
    "for i in range(100):\n",
    "    print(next(s))\n",
    "else:\n",
    "    raise StopIteration\n",
    "#迭代只能进行一次，不能过重复进行"
   ]
  },
  {
   "cell_type": "code",
   "execution_count": 59,
   "id": "f912a683-5435-4f79-b079-00dfaaf39774",
   "metadata": {},
   "outputs": [],
   "source": [
    "demo_map = {'a': 1, 'b': [1, 2, 3]}"
   ]
  },
  {
   "cell_type": "code",
   "execution_count": 60,
   "id": "d60285ff-97b8-4c38-bbd1-d6d7e9f8c9c4",
   "metadata": {},
   "outputs": [
    {
     "data": {
      "text/plain": [
       "{'a': 1, 'b': [1, 2, 3]}"
      ]
     },
     "execution_count": 60,
     "metadata": {},
     "output_type": "execute_result"
    }
   ],
   "source": [
    "demo_map"
   ]
  },
  {
   "cell_type": "code",
   "execution_count": 62,
   "id": "b67fe6f2-9686-4b05-9b20-8f05352a906e",
   "metadata": {},
   "outputs": [
    {
     "name": "stdout",
     "output_type": "stream",
     "text": [
      "a\n",
      "b\n"
     ]
    }
   ],
   "source": [
    "for i in demo_map:\n",
    "    print(i)\n"
   ]
  },
  {
   "cell_type": "code",
   "execution_count": 68,
   "id": "044567ed-1396-46b8-8798-feffc30651b5",
   "metadata": {},
   "outputs": [
    {
     "name": "stdout",
     "output_type": "stream",
     "text": [
      "1\n",
      "[1, 2, 3]\n"
     ]
    }
   ],
   "source": [
    "for i in demo_map:\n",
    "    print(demo_map[i])"
   ]
  },
  {
   "cell_type": "code",
   "execution_count": 69,
   "id": "57aba012-c30a-4d19-900c-4baece986f5d",
   "metadata": {},
   "outputs": [],
   "source": [
    "demo_s = 'hello'"
   ]
  },
  {
   "cell_type": "code",
   "execution_count": 70,
   "id": "16db88fc-050d-4bcd-b9da-14df23bb38f7",
   "metadata": {},
   "outputs": [
    {
     "name": "stdout",
     "output_type": "stream",
     "text": [
      "h\n",
      "e\n",
      "l\n",
      "l\n",
      "o\n"
     ]
    }
   ],
   "source": [
    "for i in demo_s:\n",
    "    print(i)"
   ]
  },
  {
   "cell_type": "code",
   "execution_count": 71,
   "id": "25494259-5277-4dbc-8e57-319027b74a0a",
   "metadata": {},
   "outputs": [],
   "source": [
    "#定义iterator，采用迭代器方法"
   ]
  },
  {
   "cell_type": "code",
   "execution_count": 74,
   "id": "5445df82-615c-4f2f-98ab-03dbc48ff07a",
   "metadata": {},
   "outputs": [],
   "source": [
    "it = demo_s.__iter__()  #将demo_s这个字符串转换为迭代对象"
   ]
  },
  {
   "cell_type": "code",
   "execution_count": 75,
   "id": "38a0ec84-8e22-4fe9-a10a-440cb844fe40",
   "metadata": {},
   "outputs": [
    {
     "data": {
      "text/plain": [
       "<str_ascii_iterator at 0x1062e92a0>"
      ]
     },
     "execution_count": 75,
     "metadata": {},
     "output_type": "execute_result"
    }
   ],
   "source": [
    "it"
   ]
  },
  {
   "cell_type": "code",
   "execution_count": 76,
   "id": "7d12dc07-f07c-4566-92e3-55b1193c653d",
   "metadata": {},
   "outputs": [
    {
     "name": "stdout",
     "output_type": "stream",
     "text": [
      "h\n",
      "e\n",
      "l\n",
      "l\n",
      "o\n"
     ]
    }
   ],
   "source": [
    "for i in it:\n",
    "    print(i)"
   ]
  },
  {
   "cell_type": "code",
   "execution_count": 98,
   "id": "f4efa8b8-9c51-4af3-a5b6-6b8b3a1804ae",
   "metadata": {},
   "outputs": [],
   "source": [
    "for i in it:\n",
    "    print(i)\n",
    "#迭代对象在迭代一次之后就不能再迭代了，是一次性的消耗品"
   ]
  },
  {
   "cell_type": "code",
   "execution_count": 99,
   "id": "3edcee24-0f69-49be-97e5-5474aacd32f2",
   "metadata": {},
   "outputs": [],
   "source": [
    "#用迭代器编译斐波那契数列："
   ]
  },
  {
   "cell_type": "code",
   "execution_count": 124,
   "id": "5a8723cd-a7ef-4c56-bbb5-c80c7f4d57d4",
   "metadata": {},
   "outputs": [],
   "source": [
    "class FeiBo(object):\n",
    "    def __init__(self, m):\n",
    "        self.a = 0\n",
    "        self.b = 1\n",
    "        self.n = 0\n",
    "        self.m = m\n",
    "    def __next__(self):\n",
    "        if self.n < self.m:\n",
    "            final = self.a\n",
    "            self.a, self.b = self.b, self.a + self.b\n",
    "            self.n += 1\n",
    "            return final\n",
    "        else:\n",
    "            raise StopIteration\n",
    "    def __iter__(self):\n",
    "        return(self)\n",
    "fb = FeiBo(30)\n"
   ]
  },
  {
   "cell_type": "code",
   "execution_count": 125,
   "id": "7d8a436b-94f8-4659-965a-b5845f344059",
   "metadata": {},
   "outputs": [
    {
     "name": "stdout",
     "output_type": "stream",
     "text": [
      "0\n",
      "1\n",
      "1\n",
      "2\n",
      "3\n",
      "5\n",
      "8\n",
      "13\n",
      "21\n",
      "34\n",
      "55\n",
      "89\n",
      "144\n",
      "233\n",
      "377\n",
      "610\n",
      "987\n",
      "1597\n",
      "2584\n",
      "4181\n",
      "6765\n",
      "10946\n",
      "17711\n",
      "28657\n",
      "46368\n",
      "75025\n",
      "121393\n",
      "196418\n",
      "317811\n",
      "514229\n"
     ]
    }
   ],
   "source": [
    "for s in fb:\n",
    "    print(s)"
   ]
  },
  {
   "cell_type": "code",
   "execution_count": 126,
   "id": "3bae25ff-7a5b-4afc-a71b-91126bbef9fb",
   "metadata": {},
   "outputs": [],
   "source": [
    "for s in fb:\n",
    "    print(s)"
   ]
  },
  {
   "cell_type": "code",
   "execution_count": 103,
   "id": "c6a99628-ef43-4ba0-84ac-947e218546d5",
   "metadata": {},
   "outputs": [],
   "source": [
    "#再回到最开始讨论的lambda函数"
   ]
  },
  {
   "cell_type": "code",
   "execution_count": 108,
   "id": "355a89dc-c40d-48e4-ab4a-e252f721413e",
   "metadata": {},
   "outputs": [
    {
     "data": {
      "text/plain": [
       "<map at 0x1063c11e0>"
      ]
     },
     "execution_count": 108,
     "metadata": {},
     "output_type": "execute_result"
    }
   ],
   "source": [
    "#一般写法：计算平方数\n",
    "#map函数中：第一个参数代表需要用到的函数，第二个参数代表施加函数的对象\n",
    "def square(x):\n",
    "    return x**2\n",
    "x = [1, 2, 3, 4, 5]\n",
    "map(square, x)\n",
    "#得到的结果是一个迭代器"
   ]
  },
  {
   "cell_type": "code",
   "execution_count": 109,
   "id": "75e6a74e-e66b-43c2-b71c-8400125a2fc4",
   "metadata": {},
   "outputs": [
    {
     "name": "stdout",
     "output_type": "stream",
     "text": [
      "1\n",
      "4\n",
      "9\n",
      "16\n",
      "25\n"
     ]
    }
   ],
   "source": [
    "for i in map(square,x):\n",
    "    print(i)"
   ]
  },
  {
   "cell_type": "code",
   "execution_count": 110,
   "id": "8b88e76a-f7a6-4885-8858-30e48466e1ca",
   "metadata": {},
   "outputs": [
    {
     "name": "stdout",
     "output_type": "stream",
     "text": [
      "1\n",
      "4\n",
      "9\n",
      "16\n",
      "25\n"
     ]
    }
   ],
   "source": [
    "for i in map(square,x):\n",
    "    print(i)"
   ]
  },
  {
   "cell_type": "code",
   "execution_count": 113,
   "id": "1d75e03f-24c2-4331-bd78-a39af700142d",
   "metadata": {},
   "outputs": [
    {
     "data": {
      "text/plain": [
       "<map at 0x1063c18a0>"
      ]
     },
     "execution_count": 113,
     "metadata": {},
     "output_type": "execute_result"
    }
   ],
   "source": [
    "#lambda函数写法：\n",
    "map(lambda x: x**2, x)"
   ]
  },
  {
   "cell_type": "code",
   "execution_count": 114,
   "id": "c87808cf-13ec-42ce-80ee-19ee491ebe63",
   "metadata": {},
   "outputs": [
    {
     "name": "stdout",
     "output_type": "stream",
     "text": [
      "1\n",
      "4\n",
      "9\n",
      "16\n",
      "25\n"
     ]
    }
   ],
   "source": [
    "for i in map(lambda x: x**2, x):\n",
    "    print(i)"
   ]
  },
  {
   "cell_type": "code",
   "execution_count": 115,
   "id": "4822a73f-21a2-47fb-a458-90c5bd66ae55",
   "metadata": {},
   "outputs": [
    {
     "name": "stdout",
     "output_type": "stream",
     "text": [
      "1\n",
      "4\n",
      "9\n",
      "16\n",
      "25\n"
     ]
    }
   ],
   "source": [
    "for i in map(lambda x: x**2, x):\n",
    "    print(i)"
   ]
  },
  {
   "cell_type": "code",
   "execution_count": 127,
   "id": "26f2dec8-1a63-43cc-8dea-59751ebf5b6c",
   "metadata": {},
   "outputs": [],
   "source": [
    "#lambda函数与reduce()函数的组合："
   ]
  },
  {
   "cell_type": "code",
   "execution_count": 128,
   "id": "ca25536c-8fd3-4475-9d84-2a89c450beb4",
   "metadata": {},
   "outputs": [],
   "source": [
    "#reduce()函数中的第一个参数同map()函数一样也是为一个一直都函数，第二个参数为实施函数的对象。reduce()函数的功能是对参数序列中的元素进行累积"
   ]
  },
  {
   "cell_type": "code",
   "execution_count": 133,
   "id": "fd431b87-12a0-40d2-b3ae-63ee89db1682",
   "metadata": {},
   "outputs": [
    {
     "data": {
      "text/plain": [
       "15"
      ]
     },
     "execution_count": 133,
     "metadata": {},
     "output_type": "execute_result"
    }
   ],
   "source": [
    "#一般用法：\n",
    "from functools import reduce\n",
    "def add(x, y):\n",
    "    return x + y\n",
    "reduce(add, x) #add不用添加参数，就可以直接求出列表的累积和"
   ]
  },
  {
   "cell_type": "code",
   "execution_count": 134,
   "id": "841638fc-e8a7-4f34-b82f-64b9e1f75c4d",
   "metadata": {},
   "outputs": [
    {
     "data": {
      "text/plain": [
       "15"
      ]
     },
     "execution_count": 134,
     "metadata": {},
     "output_type": "execute_result"
    }
   ],
   "source": [
    "#lambda函数写法\n",
    "reduce(lambda x, y: x + y, x)\n",
    "#lambda函数的方便在于，不需要另外再单独定义一个函数去用，可以直接在lambda中定义即可"
   ]
  },
  {
   "cell_type": "code",
   "execution_count": 137,
   "id": "342cec83-d674-4987-bb69-fab373e44c91",
   "metadata": {},
   "outputs": [
    {
     "name": "stdout",
     "output_type": "stream",
     "text": [
      "[9, 4, 6, 47, 45, 1, 7]\n",
      "[1, 4, 6, 7, 9, 45, 47]\n"
     ]
    }
   ],
   "source": [
    "#sorted()函数，对对象序列的所有数值进行大小排序，并且不改变原数据\n",
    "x = [9, 4, 6, 47, 45, 1, 7]\n",
    "b = sorted(x)\n",
    "print(x)\n",
    "print(b)"
   ]
  },
  {
   "cell_type": "code",
   "execution_count": 138,
   "id": "c2641e9e-e672-48f5-a182-62e8d5821c70",
   "metadata": {},
   "outputs": [],
   "source": [
    "#但是我们会遇到一些数据，这些数据它其中不仅仅只包含了数字，还有一些字符等没办法排序，比如说以元组为元素的列表('a', 3)，\n",
    "#就不能够直接排序，这时候lambda就可以通过只对元组中的数字部分排序从而带动整个元组的顺序。"
   ]
  },
  {
   "cell_type": "code",
   "execution_count": 139,
   "id": "3f9413b8-845f-4761-b37d-9fd1e8edd135",
   "metadata": {},
   "outputs": [
    {
     "data": {
      "text/plain": [
       "[('a', 7), ('b', -1), ('c', -10), ('h', 2), ('k', 1)]"
      ]
     },
     "execution_count": 139,
     "metadata": {},
     "output_type": "execute_result"
    }
   ],
   "source": [
    "L = [('a', 7), ('k', 1), ('h', 2), ('b', -1), ('c', -10)]\n",
    "sorted(L)#函数默认是对第一个元素排序"
   ]
  },
  {
   "cell_type": "code",
   "execution_count": 143,
   "id": "2366f5ed-046b-4030-8681-7de271631711",
   "metadata": {},
   "outputs": [
    {
     "data": {
      "text/plain": [
       "[('c', -10), ('b', -1), ('k', 1), ('h', 2), ('a', 7)]"
      ]
     },
     "execution_count": 143,
     "metadata": {},
     "output_type": "execute_result"
    }
   ],
   "source": [
    "sorted(L, key = lambda x: x[1])\n",
    "#利用sorted中的参数key进行排序"
   ]
  },
  {
   "cell_type": "code",
   "execution_count": 167,
   "id": "229dbb2c-387e-4093-b947-fff8df499b81",
   "metadata": {},
   "outputs": [],
   "source": [
    "#在用sorted对数据进行排序时，要想获得数据的降序，只需要令reverse = True"
   ]
  },
  {
   "cell_type": "code",
   "execution_count": 168,
   "id": "d512dfc2-c464-4e1f-9365-9839b9eb49a4",
   "metadata": {},
   "outputs": [],
   "source": [
    "#filter函数，filter函数的含义是对对象进行过滤，过滤掉不符合条件的元素，保留符合条件的元素"
   ]
  },
  {
   "cell_type": "code",
   "execution_count": 169,
   "id": "848b43af-e58e-422a-ac4d-c5a886f996d7",
   "metadata": {},
   "outputs": [
    {
     "name": "stdout",
     "output_type": "stream",
     "text": [
      "<filter object at 0x10715a260>\n"
     ]
    }
   ],
   "source": [
    "#一般写法：\n",
    "def is_odd(x):\n",
    "    return x % 2 == 1\n",
    "list = filter(is_odd, [1, 2, 3, 4, 5, 6, 7, 8, 9, 10])\n",
    "print(list)"
   ]
  },
  {
   "cell_type": "code",
   "execution_count": 170,
   "id": "bb409260-837d-46b7-bcfa-f3ea4559ec7b",
   "metadata": {},
   "outputs": [],
   "source": [
    "#lambda函数写法："
   ]
  },
  {
   "cell_type": "code",
   "execution_count": 173,
   "id": "cbac7e62-7fa6-4820-a18b-73b2af4b9fd5",
   "metadata": {},
   "outputs": [],
   "source": [
    "newlist = filter(lambda x: x % 2 == 1, [1, 2, 3, 4, 5, 6, 7, 8, 9, 10])"
   ]
  },
  {
   "cell_type": "code",
   "execution_count": 174,
   "id": "8b377586-ba5a-425a-a87c-0945504eb146",
   "metadata": {},
   "outputs": [
    {
     "ename": "TypeError",
     "evalue": "'filter' object is not callable",
     "output_type": "error",
     "traceback": [
      "\u001b[0;31m---------------------------------------------------------------------------\u001b[0m",
      "\u001b[0;31mTypeError\u001b[0m                                 Traceback (most recent call last)",
      "Cell \u001b[0;32mIn[174], line 1\u001b[0m\n\u001b[0;32m----> 1\u001b[0m \u001b[38;5;28mprint\u001b[39m(\u001b[38;5;28;43mlist\u001b[39;49m\u001b[43m(\u001b[49m\u001b[43mnewlist\u001b[49m\u001b[43m)\u001b[49m)\n",
      "\u001b[0;31mTypeError\u001b[0m: 'filter' object is not callable"
     ]
    }
   ],
   "source": [
    "print(list(newlist))"
   ]
  },
  {
   "cell_type": "code",
   "execution_count": 176,
   "id": "fd56b66e-2326-4da6-a0ac-71e53777ed67",
   "metadata": {},
   "outputs": [
    {
     "name": "stdout",
     "output_type": "stream",
     "text": [
      "<filter object at 0x10715b8b0>\n"
     ]
    },
    {
     "ename": "TypeError",
     "evalue": "'filter' object is not callable",
     "output_type": "error",
     "traceback": [
      "\u001b[0;31m---------------------------------------------------------------------------\u001b[0m",
      "\u001b[0;31mTypeError\u001b[0m                                 Traceback (most recent call last)",
      "Cell \u001b[0;32mIn[176], line 7\u001b[0m\n\u001b[1;32m      5\u001b[0m even_numbers \u001b[38;5;241m=\u001b[39m \u001b[38;5;28mfilter\u001b[39m(is_even, numbers)\n\u001b[1;32m      6\u001b[0m \u001b[38;5;28mprint\u001b[39m(even_numbers)  \u001b[38;5;66;03m# 这将输出<filter object at 0x1071595a0>\u001b[39;00m\n\u001b[0;32m----> 7\u001b[0m \u001b[38;5;28mprint\u001b[39m(\u001b[38;5;28;43mlist\u001b[39;49m\u001b[43m(\u001b[49m\u001b[43meven_numbers\u001b[49m\u001b[43m)\u001b[49m)  \u001b[38;5;66;03m# 这将输出[2, 4]\u001b[39;00m\n",
      "\u001b[0;31mTypeError\u001b[0m: 'filter' object is not callable"
     ]
    }
   ],
   "source": [
    "def is_even(x):\n",
    "    return x % 2 == 0\n",
    "\n",
    "numbers = [1, 2, 3, 4, 5]\n",
    "even_numbers = filter(is_even, numbers)\n",
    "print(even_numbers)  # 这将输出<filter object at 0x1071595a0>\n",
    "print(list(even_numbers))  # 这将输出[2, 4]"
   ]
  },
  {
   "cell_type": "code",
   "execution_count": 177,
   "id": "1ee6436e-31e6-49f8-be1f-ab81c431b10a",
   "metadata": {},
   "outputs": [],
   "source": [
    "#如何处理日期/时间值，它们通常与一般的数字有着不同的约定"
   ]
  },
  {
   "cell_type": "code",
   "execution_count": 178,
   "id": "e9433a6e-4020-4e79-9a2d-03b27113df1c",
   "metadata": {},
   "outputs": [],
   "source": [
    "import datetime"
   ]
  },
  {
   "cell_type": "code",
   "execution_count": 180,
   "id": "94a0a744-ab91-4c67-9fdf-67600838c620",
   "metadata": {},
   "outputs": [
    {
     "data": {
      "text/plain": [
       "datetime.datetime(2024, 9, 25, 18, 36, 37, 947535)"
      ]
     },
     "execution_count": 180,
     "metadata": {},
     "output_type": "execute_result"
    }
   ],
   "source": [
    "datetime.datetime.now()"
   ]
  },
  {
   "cell_type": "code",
   "execution_count": 181,
   "id": "c20cd9f8-935f-40f8-a565-d926e3e90354",
   "metadata": {},
   "outputs": [],
   "source": [
    "#可视化数据！！！"
   ]
  },
  {
   "cell_type": "code",
   "execution_count": 187,
   "id": "491c2a55-e465-4afb-bf88-feeb8efc5e5d",
   "metadata": {},
   "outputs": [
    {
     "data": {
      "image/png": "[encoded data removed]",
      "text/plain": [
       "<Figure size 500x500 with 1 Axes>"
      ]
     },
     "metadata": {},
     "output_type": "display_data"
    }
   ],
   "source": [
    "import matplotlib\n",
    "import matplotlib.pyplot as plt\n",
    "import numpy as np\n",
    "import seaborn as sns\n",
    "x = np.linspace(-1, 1, 100)\n",
    "y = (0.1 * x - 0.5 * np.power(x, 2)\n",
    "    + np.random.normal(size=len(x),\n",
    "                        scale=0.03))\n",
    "sns.relplot(y)\n",
    "plt.show()"
   ]
  },
  {
   "cell_type": "code",
   "execution_count": 196,
   "id": "0c4459db-c1d3-4c99-ad6d-d24b736a518c",
   "metadata": {},
   "outputs": [],
   "source": [
    "#测试迭代器的特性a"
   ]
  },
  {
   "cell_type": "code",
   "execution_count": 197,
   "id": "ae29589f-4bae-4393-a753-d9eb4e2edc56",
   "metadata": {},
   "outputs": [],
   "source": [
    "demo_str = 'hello'"
   ]
  },
  {
   "cell_type": "code",
   "execution_count": 198,
   "id": "8243179d-11cb-4e27-a69b-452f113251e0",
   "metadata": {},
   "outputs": [],
   "source": [
    "it = demo_str.__iter__() #__iter__方法可以使一个迭代对象转换为一次性的迭代器"
   ]
  },
  {
   "cell_type": "code",
   "execution_count": 199,
   "id": "dfe261dd-ff8e-4fa1-8ae2-44b43b54d701",
   "metadata": {},
   "outputs": [
    {
     "name": "stdout",
     "output_type": "stream",
     "text": [
      "h\n",
      "e\n",
      "l\n",
      "l\n",
      "o\n"
     ]
    }
   ],
   "source": [
    "for i in it:\n",
    "    print(i)"
   ]
  },
  {
   "cell_type": "code",
   "execution_count": 200,
   "id": "3f31a91f-0c69-4a8d-b3aa-eb27dbac0314",
   "metadata": {},
   "outputs": [],
   "source": [
    "for i in it:\n",
    "    print(i)\n",
    "#只能偶进行迭代一次，进行迭代后it中没有值"
   ]
  },
  {
   "cell_type": "code",
   "execution_count": 201,
   "id": "b1e11d0b-0a82-41b1-8e6b-20ce66daa945",
   "metadata": {},
   "outputs": [],
   "source": [
    "a_dict = {'a': 5,\n",
    "          'b': 7,\n",
    "          'c': 3,\n",
    "          'd': 8,\n",
    "          'e': 4,\n",
    "          'f': 10}"
   ]
  },
  {
   "cell_type": "code",
   "execution_count": 202,
   "id": "9e23e2f3-c804-4393-ad97-9e8a466e8eb5",
   "metadata": {},
   "outputs": [
    {
     "data": {
      "text/plain": [
       "['a', 'b', 'c', 'd', 'e', 'f']"
      ]
     },
     "execution_count": 202,
     "metadata": {},
     "output_type": "execute_result"
    }
   ],
   "source": [
    "sorted(a_dict)"
   ]
  },
  {
   "cell_type": "code",
   "execution_count": 211,
   "id": "f9da3111-b92d-48e5-9738-2022af51175a",
   "metadata": {},
   "outputs": [
    {
     "ename": "IndexError",
     "evalue": "string index out of range",
     "output_type": "error",
     "traceback": [
      "\u001b[0;31m---------------------------------------------------------------------------\u001b[0m",
      "\u001b[0;31mIndexError\u001b[0m                                Traceback (most recent call last)",
      "Cell \u001b[0;32mIn[211], line 1\u001b[0m\n\u001b[0;32m----> 1\u001b[0m \u001b[38;5;28;43msorted\u001b[39;49m\u001b[43m(\u001b[49m\u001b[43ma_dict\u001b[49m\u001b[43m,\u001b[49m\u001b[43m \u001b[49m\u001b[43mkey\u001b[49m\u001b[43m \u001b[49m\u001b[38;5;241;43m=\u001b[39;49m\u001b[43m \u001b[49m\u001b[38;5;28;43;01mlambda\u001b[39;49;00m\u001b[43m \u001b[49m\u001b[43mx\u001b[49m\u001b[43m:\u001b[49m\u001b[43m \u001b[49m\u001b[43mx\u001b[49m\u001b[43m[\u001b[49m\u001b[38;5;241;43m1\u001b[39;49m\u001b[43m]\u001b[49m\u001b[43m)\u001b[49m\n\u001b[1;32m      2\u001b[0m \u001b[38;5;66;03m#字典不可以根据值排序\u001b[39;00m\n",
      "Cell \u001b[0;32mIn[211], line 1\u001b[0m, in \u001b[0;36m<lambda>\u001b[0;34m(x)\u001b[0m\n\u001b[0;32m----> 1\u001b[0m \u001b[38;5;28msorted\u001b[39m(a_dict, key \u001b[38;5;241m=\u001b[39m \u001b[38;5;28;01mlambda\u001b[39;00m x: \u001b[43mx\u001b[49m\u001b[43m[\u001b[49m\u001b[38;5;241;43m1\u001b[39;49m\u001b[43m]\u001b[49m)\n\u001b[1;32m      2\u001b[0m \u001b[38;5;66;03m#字典不可以根据值排序\u001b[39;00m\n",
      "\u001b[0;31mIndexError\u001b[0m: string index out of range"
     ]
    }
   ],
   "source": [
    "sorted(a_dict, key = lambda x: x[1])\n",
    "#字典不可以根据值排序"
   ]
  },
  {
   "cell_type": "code",
   "execution_count": 212,
   "id": "37756683-2b18-4dd5-b5c7-0d6625229a68",
   "metadata": {},
   "outputs": [],
   "source": [
    "import math"
   ]
  },
  {
   "cell_type": "code",
   "execution_count": 213,
   "id": "15e9d1e7-b600-4012-bc82-b66cb1462ba7",
   "metadata": {},
   "outputs": [
    {
     "data": {
      "text/plain": [
       "0.6931471805599453"
      ]
     },
     "execution_count": 213,
     "metadata": {},
     "output_type": "execute_result"
    }
   ],
   "source": [
    "math.log(2)"
   ]
  },
  {
   "cell_type": "code",
   "execution_count": 214,
   "id": "c3baf593-67d9-48a5-8d81-921f06e0118e",
   "metadata": {},
   "outputs": [
    {
     "data": {
      "text/plain": [
       "0.0"
      ]
     },
     "execution_count": 214,
     "metadata": {},
     "output_type": "execute_result"
    }
   ],
   "source": [
    "math.log(1)"
   ]
  },
  {
   "cell_type": "code",
   "execution_count": 215,
   "id": "8e12bcaa-658c-493b-b54d-e0348305e9bc",
   "metadata": {},
   "outputs": [],
   "source": [
    "import pandas as pd"
   ]
  },
  {
   "cell_type": "code",
   "execution_count": 216,
   "id": "110106ef-6d82-415b-adda-56bb01feea4b",
   "metadata": {},
   "outputs": [],
   "source": [
    "#Python needed something like R's data frames that could handle multiple types of data in a tabular format\n",
    "#Python需要一些类似于R的数据框架的东西，可以处理表格格式的多种类型的数据"
   ]
  },
  {
   "cell_type": "code",
   "execution_count": 218,
   "id": "582bd6fe-ee59-4190-a62a-7e70e6243820",
   "metadata": {},
   "outputs": [
    {
     "data": {
      "text/html": [
       "<div>\n",
       "<style scoped>\n",
       "    .dataframe tbody tr th:only-of-type {\n",
       "        vertical-align: middle;\n",
       "    }\n",
       "\n",
       "    .dataframe tbody tr th {\n",
       "        vertical-align: top;\n",
       "    }\n",
       "\n",
       "    .dataframe thead th {\n",
       "        text-align: right;\n",
       "    }\n",
       "</style>\n",
       "<table border=\"1\" class=\"dataframe\">\n",
       "  <thead>\n",
       "    <tr style=\"text-align: right;\">\n",
       "      <th></th>\n",
       "      <th>sex</th>\n",
       "      <th>score</th>\n",
       "    </tr>\n",
       "  </thead>\n",
       "  <tbody>\n",
       "    <tr>\n",
       "      <th>0</th>\n",
       "      <td>M</td>\n",
       "      <td>2</td>\n",
       "    </tr>\n",
       "    <tr>\n",
       "      <th>1</th>\n",
       "      <td>F</td>\n",
       "      <td>8</td>\n",
       "    </tr>\n",
       "  </tbody>\n",
       "</table>\n",
       "</div>"
      ],
      "text/plain": [
       "  sex  score\n",
       "0   M      2\n",
       "1   F      8"
      ]
     },
     "execution_count": 218,
     "metadata": {},
     "output_type": "execute_result"
    }
   ],
   "source": [
    "pd.DataFrame([{'sex': 'M', 'score': 2}, \n",
    "             {'sex': 'F', 'score': 8}])"
   ]
  },
  {
   "cell_type": "code",
   "execution_count": 219,
   "id": "f41b6ca1-3018-4140-9b26-13c2a38c0315",
   "metadata": {},
   "outputs": [],
   "source": [
    "#为了从一个大的项目列表中取样，我们需要一些能够产生伪随机性的东西。"
   ]
  },
  {
   "cell_type": "code",
   "execution_count": 220,
   "id": "360bb060-8274-47b1-b124-63ee392dc541",
   "metadata": {},
   "outputs": [
    {
     "data": {
      "text/plain": [
       "'tails'"
      ]
     },
     "execution_count": 220,
     "metadata": {},
     "output_type": "execute_result"
    }
   ],
   "source": [
    "import random\n",
    "random.gauss(0, 1)\n",
    "random.choice(['heads', 'tails'])"
   ]
  },
  {
   "cell_type": "code",
   "execution_count": 221,
   "id": "8272795d-6936-4e8e-bf10-f16401547928",
   "metadata": {},
   "outputs": [
    {
     "data": {
      "text/plain": [
       "-0.7336588019709592"
      ]
     },
     "execution_count": 221,
     "metadata": {},
     "output_type": "execute_result"
    }
   ],
   "source": [
    "random.gauss(0, 1)"
   ]
  },
  {
   "cell_type": "code",
   "execution_count": 222,
   "id": "4e3f493b-bc25-44fa-92ba-989e17ca5f3f",
   "metadata": {},
   "outputs": [
    {
     "data": {
      "text/plain": [
       "0.9398378505775037"
      ]
     },
     "execution_count": 222,
     "metadata": {},
     "output_type": "execute_result"
    }
   ],
   "source": [
    "random.gauss(0, 1)"
   ]
  },
  {
   "cell_type": "code",
   "execution_count": 223,
   "id": "bfea3b94-20a0-465e-8e08-f619d7b583df",
   "metadata": {},
   "outputs": [],
   "source": [
    "#模拟随机数，例如模拟服从于正态分布的一组数据"
   ]
  },
  {
   "cell_type": "code",
   "execution_count": 224,
   "id": "ca2de98a-c5bd-4d7b-b06f-e60b0f796a3b",
   "metadata": {},
   "outputs": [
    {
     "data": {
      "text/plain": [
       "np.float64(1.1347879005748913)"
      ]
     },
     "execution_count": 224,
     "metadata": {},
     "output_type": "execute_result"
    }
   ],
   "source": [
    "  maxs = []\n",
    "  for _ in range(1000):\n",
    "      y = np.random.normal(size=5)\n",
    "      maxs.append(np.max(y))\n",
    "  np.mean(maxs)"
   ]
  },
  {
   "cell_type": "code",
   "execution_count": 225,
   "id": "da542232-bce3-4c21-b6ba-6ab73b189714",
   "metadata": {},
   "outputs": [
    {
     "data": {
      "text/plain": [
       "[np.float64(3.101316539425292),\n",
       " np.float64(1.6433252302488872),\n",
       " np.float64(1.6889550937627902),\n",
       " np.float64(0.9699917353400302),\n",
       " np.float64(0.5860750296856645),\n",
       " np.float64(0.6751812679311964),\n",
       " np.float64(1.0621976275853604),\n",
       " np.float64(1.2674709768633499),\n",
       " np.float64(1.1351028417115385),\n",
       " np.float64(0.8828471971546364),\n",
       " np.float64(1.2837341256837271),\n",
       " np.float64(1.8264206522195021),\n",
       " np.float64(1.6885763646016867),\n",
       " np.float64(0.33825156422405234),\n",
       " np.float64(1.8737148341035101),\n",
       " np.float64(0.6570304056294853),\n",
       " np.float64(1.1553640445299949),\n",
       " np.float64(1.2906967278526877),\n",
       " np.float64(1.6597774946500568),\n",
       " np.float64(0.5930918073215662),\n",
       " np.float64(2.192078966359318),\n",
       " np.float64(1.4192711657816697),\n",
       " np.float64(2.312248995574602),\n",
       " np.float64(-0.41136008509006416),\n",
       " np.float64(1.7615913323139167),\n",
       " np.float64(2.6911607730175864),\n",
       " np.float64(0.5502846584228509),\n",
       " np.float64(1.7061036323859684),\n",
       " np.float64(-0.1287061452741479),\n",
       " np.float64(2.3733301119675243),\n",
       " np.float64(1.5301461120138546),\n",
       " np.float64(1.7725653901768144),\n",
       " np.float64(1.0109635192163626),\n",
       " np.float64(1.286243595956405),\n",
       " np.float64(-0.9537975720626426),\n",
       " np.float64(1.7508495898148002),\n",
       " np.float64(-0.1743828963703678),\n",
       " np.float64(1.6533734921225154),\n",
       " np.float64(2.350780727153585),\n",
       " np.float64(1.2273034096368),\n",
       " np.float64(1.4227721838245155),\n",
       " np.float64(2.012803237904091),\n",
       " np.float64(-0.03560505240311506),\n",
       " np.float64(0.6143644508295272),\n",
       " np.float64(0.1423551346285186),\n",
       " np.float64(1.071625264979454),\n",
       " np.float64(1.0695556400791435),\n",
       " np.float64(0.6344162291650774),\n",
       " np.float64(0.28492368538678553),\n",
       " np.float64(1.757320796301669),\n",
       " np.float64(0.31482394647341255),\n",
       " np.float64(2.2327208170595583),\n",
       " np.float64(2.1040939755868457),\n",
       " np.float64(0.2115554998615105),\n",
       " np.float64(0.17130266613584402),\n",
       " np.float64(0.1491114892821554),\n",
       " np.float64(1.2899821188197365),\n",
       " np.float64(0.8098456673001719),\n",
       " np.float64(1.1202503552179564),\n",
       " np.float64(1.6330510916031467),\n",
       " np.float64(1.3602628786995097),\n",
       " np.float64(0.7708043731479791),\n",
       " np.float64(1.1697195046472901),\n",
       " np.float64(1.059689754594244),\n",
       " np.float64(-0.21189804658387),\n",
       " np.float64(1.513981503984825),\n",
       " np.float64(1.350929473394484),\n",
       " np.float64(1.9523979172813615),\n",
       " np.float64(1.2245021252322086),\n",
       " np.float64(1.5568253429116587),\n",
       " np.float64(1.2413724076266386),\n",
       " np.float64(1.6879828189126145),\n",
       " np.float64(0.8835629152873283),\n",
       " np.float64(1.3720196139149472),\n",
       " np.float64(1.1194475972669147),\n",
       " np.float64(1.02938484141691),\n",
       " np.float64(0.5496408439178113),\n",
       " np.float64(1.4876842663832293),\n",
       " np.float64(1.1459606121931727),\n",
       " np.float64(0.6279989205491655),\n",
       " np.float64(0.2665615306186404),\n",
       " np.float64(1.6314859762239562),\n",
       " np.float64(0.6922737390620768),\n",
       " np.float64(0.7134258723505496),\n",
       " np.float64(1.0999243599063646),\n",
       " np.float64(2.1968115460905207),\n",
       " np.float64(2.0651185143341357),\n",
       " np.float64(1.4134716508056226),\n",
       " np.float64(1.501052300987833),\n",
       " np.float64(1.2469297327492854),\n",
       " np.float64(0.9291925287325801),\n",
       " np.float64(2.457711721009392),\n",
       " np.float64(1.3340540057502102),\n",
       " np.float64(0.20159856089634576),\n",
       " np.float64(0.6575090376859172),\n",
       " np.float64(0.8401166020058205),\n",
       " np.float64(1.9202640327028162),\n",
       " np.float64(1.8380277666440934),\n",
       " np.float64(0.4546578575073495),\n",
       " np.float64(0.9107251371759926),\n",
       " np.float64(1.3245543191088975),\n",
       " np.float64(0.32619344235725584),\n",
       " np.float64(2.5248867736836664),\n",
       " np.float64(2.4186149358422737),\n",
       " np.float64(1.1111186777138373),\n",
       " np.float64(1.0046929188466385),\n",
       " np.float64(1.5839024435853781),\n",
       " np.float64(1.389026378299347),\n",
       " np.float64(-0.3649058168758645),\n",
       " np.float64(1.5447969279678397),\n",
       " np.float64(1.136191732777339),\n",
       " np.float64(0.985450349530096),\n",
       " np.float64(1.828616698953332),\n",
       " np.float64(0.9023831614846579),\n",
       " np.float64(0.8008187505792198),\n",
       " np.float64(0.9119954494134475),\n",
       " np.float64(1.8477374791235397),\n",
       " np.float64(-0.18986791513858403),\n",
       " np.float64(0.759765789295252),\n",
       " np.float64(-0.4418848995831207),\n",
       " np.float64(0.8952828527908235),\n",
       " np.float64(1.0616172410460756),\n",
       " np.float64(2.4761689425859337),\n",
       " np.float64(0.6027472646764713),\n",
       " np.float64(1.9625990981663346),\n",
       " np.float64(2.418451915811975),\n",
       " np.float64(1.9454652244441406),\n",
       " np.float64(2.9884304045106993),\n",
       " np.float64(1.560026175979818),\n",
       " np.float64(0.26144449091556354),\n",
       " np.float64(0.8995797045862162),\n",
       " np.float64(0.2886400548014306),\n",
       " np.float64(1.22543789747019),\n",
       " np.float64(1.9154320837708831),\n",
       " np.float64(1.2933521014807274),\n",
       " np.float64(1.406648672400648),\n",
       " np.float64(0.46083526792115986),\n",
       " np.float64(1.733182578404339),\n",
       " np.float64(3.149124774452968),\n",
       " np.float64(0.7820963678330933),\n",
       " np.float64(1.1414824095973568),\n",
       " np.float64(2.1009738265063445),\n",
       " np.float64(0.5724658800636264),\n",
       " np.float64(0.8541624219613512),\n",
       " np.float64(0.6960629008120178),\n",
       " np.float64(-0.021754113885458545),\n",
       " np.float64(0.4507863371063602),\n",
       " np.float64(1.1751442984275704),\n",
       " np.float64(0.2424418897116241),\n",
       " np.float64(1.3716384422667254),\n",
       " np.float64(1.103077985719394),\n",
       " np.float64(2.3307037310476018),\n",
       " np.float64(1.7804294137642533),\n",
       " np.float64(1.4838324466713584),\n",
       " np.float64(0.1543684301211595),\n",
       " np.float64(0.7358721077148792),\n",
       " np.float64(2.1459483786187468),\n",
       " np.float64(1.4529636216063528),\n",
       " np.float64(1.3369926668851215),\n",
       " np.float64(2.000128048974562),\n",
       " np.float64(0.5492000053073849),\n",
       " np.float64(-0.0875771463322047),\n",
       " np.float64(0.7924431554967222),\n",
       " np.float64(1.330928026472461),\n",
       " np.float64(0.9375480071175076),\n",
       " np.float64(1.7189023107646633),\n",
       " np.float64(1.0204260658342137),\n",
       " np.float64(1.6416689704369534),\n",
       " np.float64(0.1000792817957838),\n",
       " np.float64(1.3078019099108509),\n",
       " np.float64(-0.7104538214636621),\n",
       " np.float64(1.7169672257029747),\n",
       " np.float64(0.8625379995306421),\n",
       " np.float64(1.0834185789985045),\n",
       " np.float64(0.6135280451569467),\n",
       " np.float64(0.19344768596634174),\n",
       " np.float64(0.6873711104273089),\n",
       " np.float64(1.0591072654386122),\n",
       " np.float64(-0.7938537045053373),\n",
       " np.float64(1.0720336391879781),\n",
       " np.float64(0.5787115062173721),\n",
       " np.float64(2.130793818424907),\n",
       " np.float64(0.3479320417179444),\n",
       " np.float64(1.147901559051245),\n",
       " np.float64(0.9585790390146277),\n",
       " np.float64(0.6898339288487518),\n",
       " np.float64(0.94326048202335),\n",
       " np.float64(1.8639668872447779),\n",
       " np.float64(1.128790984672271),\n",
       " np.float64(2.4892721916682716),\n",
       " np.float64(1.6229669892649186),\n",
       " np.float64(1.4398713300407904),\n",
       " np.float64(1.1894140523812347),\n",
       " np.float64(2.3157097886404414),\n",
       " np.float64(1.7118876985314382),\n",
       " np.float64(1.6709430925820576),\n",
       " np.float64(1.4618592211769952),\n",
       " np.float64(0.08212458012248225),\n",
       " np.float64(1.5508512683912876),\n",
       " np.float64(1.4177804137095549),\n",
       " np.float64(1.738000172399203),\n",
       " np.float64(2.327480791109605),\n",
       " np.float64(0.9464706150060775),\n",
       " np.float64(0.5306705842856511),\n",
       " np.float64(1.3392562853363656),\n",
       " np.float64(1.6336318801697005),\n",
       " np.float64(1.011743671416383),\n",
       " np.float64(1.2620108836194952),\n",
       " np.float64(0.42884544043921224),\n",
       " np.float64(1.5948350193612404),\n",
       " np.float64(1.106987833666017),\n",
       " np.float64(1.5429190178237187),\n",
       " np.float64(0.4621575699623796),\n",
       " np.float64(0.2868415508485814),\n",
       " np.float64(1.036914916526686),\n",
       " np.float64(2.319173052683438),\n",
       " np.float64(1.3559186512837371),\n",
       " np.float64(0.038335898690348966),\n",
       " np.float64(0.4069715823906617),\n",
       " np.float64(1.0917013737003314),\n",
       " np.float64(2.0381072452222466),\n",
       " np.float64(1.4107035686310008),\n",
       " np.float64(1.8159609282003437),\n",
       " np.float64(-0.3979208145296802),\n",
       " np.float64(1.875603121200735),\n",
       " np.float64(0.41093885552333076),\n",
       " np.float64(1.366594151569766),\n",
       " np.float64(0.20523969880493045),\n",
       " np.float64(1.3539426082357542),\n",
       " np.float64(1.1191144982213537),\n",
       " np.float64(-0.44381696012531713),\n",
       " np.float64(1.4185044468118506),\n",
       " np.float64(0.22293028994884517),\n",
       " np.float64(0.8342226144400519),\n",
       " np.float64(1.3810408968895571),\n",
       " np.float64(2.506238296890583),\n",
       " np.float64(0.5094668605268028),\n",
       " np.float64(0.22141875048966003),\n",
       " np.float64(0.22080710759955421),\n",
       " np.float64(0.7592120819489646),\n",
       " np.float64(1.3446529647716199),\n",
       " np.float64(1.143337823561603),\n",
       " np.float64(-0.0830151086268176),\n",
       " np.float64(1.1981360845586484),\n",
       " np.float64(1.0772762138359113),\n",
       " np.float64(1.6497418791243363),\n",
       " np.float64(0.528034014514883),\n",
       " np.float64(2.1372460709661567),\n",
       " np.float64(1.8454836019928302),\n",
       " np.float64(1.2725026537743986),\n",
       " np.float64(1.222113416265236),\n",
       " np.float64(-0.6399916774618959),\n",
       " np.float64(0.8706318949324016),\n",
       " np.float64(-0.5857123476628524),\n",
       " np.float64(1.6147630455022413),\n",
       " np.float64(1.5308186101723742),\n",
       " np.float64(2.1117317544104144),\n",
       " np.float64(0.4746622487329174),\n",
       " np.float64(1.1055774287607065),\n",
       " np.float64(1.0584679506617174),\n",
       " np.float64(0.8898079069353592),\n",
       " np.float64(2.313749931504527),\n",
       " np.float64(1.5503551155138107),\n",
       " np.float64(0.7695495988526133),\n",
       " np.float64(1.7445785605704878),\n",
       " np.float64(2.053658946007197),\n",
       " np.float64(1.6648317251653029),\n",
       " np.float64(0.36151798258580964),\n",
       " np.float64(2.5184712868690915),\n",
       " np.float64(0.3929499399836431),\n",
       " np.float64(1.4921708974640011),\n",
       " np.float64(2.5663190370197992),\n",
       " np.float64(1.923574659788534),\n",
       " np.float64(1.5715502478568488),\n",
       " np.float64(0.8078543336118053),\n",
       " np.float64(1.9886466455554492),\n",
       " np.float64(1.2986662317696303),\n",
       " np.float64(1.6449679583391226),\n",
       " np.float64(1.3698500448496982),\n",
       " np.float64(0.9733044474502354),\n",
       " np.float64(0.921366937778648),\n",
       " np.float64(1.4752991373479853),\n",
       " np.float64(0.7524357810117202),\n",
       " np.float64(0.944630899362894),\n",
       " np.float64(0.7930993351207366),\n",
       " np.float64(1.413054478572325),\n",
       " np.float64(-0.05931303555882339),\n",
       " np.float64(1.6563275701038378),\n",
       " np.float64(0.6185383994246558),\n",
       " np.float64(1.5618070266658481),\n",
       " np.float64(0.8517115775670081),\n",
       " np.float64(1.987946503749089),\n",
       " np.float64(-0.48408284128862256),\n",
       " np.float64(-0.026538536288905942),\n",
       " np.float64(0.5140881397757566),\n",
       " np.float64(0.2635550103759462),\n",
       " np.float64(0.6121325828823025),\n",
       " np.float64(0.7736821224726802),\n",
       " np.float64(1.1539966677687503),\n",
       " np.float64(1.2615278765312914),\n",
       " np.float64(1.688783873454572),\n",
       " np.float64(1.438215699415022),\n",
       " np.float64(1.2144146945931136),\n",
       " np.float64(1.3163612862795293),\n",
       " np.float64(2.1166530963501327),\n",
       " np.float64(0.5715380337902685),\n",
       " np.float64(2.0121801887150985),\n",
       " np.float64(0.31942300918847344),\n",
       " np.float64(1.9600131341656475),\n",
       " np.float64(0.7164878277899169),\n",
       " np.float64(1.3342434580158054),\n",
       " np.float64(0.7424912633181224),\n",
       " np.float64(-0.5473667840374601),\n",
       " np.float64(1.0670344386438029),\n",
       " np.float64(1.6965394799639772),\n",
       " np.float64(1.2730737169919906),\n",
       " np.float64(1.4044965665995144),\n",
       " np.float64(2.176148264088243),\n",
       " np.float64(1.5752584132635026),\n",
       " np.float64(1.3324270438371497),\n",
       " np.float64(1.0422237165487922),\n",
       " np.float64(2.5327368929105853),\n",
       " np.float64(0.3259052993535277),\n",
       " np.float64(0.6700062159128158),\n",
       " np.float64(2.856105532565018),\n",
       " np.float64(0.21737901101752383),\n",
       " np.float64(1.3310382424179463),\n",
       " np.float64(1.3469793119589897),\n",
       " np.float64(1.3353454752064398),\n",
       " np.float64(0.8977438431309325),\n",
       " np.float64(1.9409313091435028),\n",
       " np.float64(2.246989258677641),\n",
       " np.float64(0.518161534823737),\n",
       " np.float64(-0.11071300599822521),\n",
       " np.float64(0.215685717239582),\n",
       " np.float64(0.9827337394625812),\n",
       " np.float64(1.560210623796653),\n",
       " np.float64(0.7002045045264523),\n",
       " np.float64(0.763785002244698),\n",
       " np.float64(0.46547287143900223),\n",
       " np.float64(0.5690968174295792),\n",
       " np.float64(2.432687571648233),\n",
       " np.float64(1.0559941191066602),\n",
       " np.float64(0.6357588086338178),\n",
       " np.float64(1.0107100914310918),\n",
       " np.float64(1.837377237805781),\n",
       " np.float64(1.368284547617003),\n",
       " np.float64(2.1012172063209733),\n",
       " np.float64(2.019684062553828),\n",
       " np.float64(1.221658828578599),\n",
       " np.float64(0.31354978948002954),\n",
       " np.float64(1.5206593604537184),\n",
       " np.float64(1.1556962842792964),\n",
       " np.float64(1.4199591341212443),\n",
       " np.float64(2.007686462845252),\n",
       " np.float64(0.8128424633957052),\n",
       " np.float64(0.39471911009270105),\n",
       " np.float64(1.566278703267273),\n",
       " np.float64(1.8393869048982212),\n",
       " np.float64(0.8743086483065149),\n",
       " np.float64(1.598064930522848),\n",
       " np.float64(1.7375395155961102),\n",
       " np.float64(0.8445749077227604),\n",
       " np.float64(0.4493226900392039),\n",
       " np.float64(1.2520860213097924),\n",
       " np.float64(0.928159650131753),\n",
       " np.float64(0.979591810210187),\n",
       " np.float64(0.8828462856403531),\n",
       " np.float64(1.0908751410557347),\n",
       " np.float64(1.5159993156478084),\n",
       " np.float64(0.7886606211447809),\n",
       " np.float64(1.3963896163618015),\n",
       " np.float64(0.001162855596070373),\n",
       " np.float64(1.320775072465583),\n",
       " np.float64(1.6886142089002982),\n",
       " np.float64(1.1658906734002343),\n",
       " np.float64(0.44338988652558103),\n",
       " np.float64(0.13835454797538263),\n",
       " np.float64(-0.04475338058479087),\n",
       " np.float64(1.8401115332601088),\n",
       " np.float64(0.6863461000507466),\n",
       " np.float64(1.73365771226238),\n",
       " np.float64(0.294829159292318),\n",
       " np.float64(0.24359144594829726),\n",
       " np.float64(0.3698304614505199),\n",
       " np.float64(1.204552012004642),\n",
       " np.float64(0.4817442916661127),\n",
       " np.float64(1.439433637552843),\n",
       " np.float64(0.23955363773476743),\n",
       " np.float64(1.5974341580546347),\n",
       " np.float64(0.05212498718815401),\n",
       " np.float64(0.7143779011862029),\n",
       " np.float64(2.0777002397556585),\n",
       " np.float64(0.799223933442016),\n",
       " np.float64(1.557802346804272),\n",
       " np.float64(-0.2543018301759627),\n",
       " np.float64(0.7360375005419627),\n",
       " np.float64(1.3434425151097467),\n",
       " np.float64(0.4809832989900164),\n",
       " np.float64(2.169855152699499),\n",
       " np.float64(1.3182016302582462),\n",
       " np.float64(0.4830855371605966),\n",
       " np.float64(0.3335886072550898),\n",
       " np.float64(1.2789732037865809),\n",
       " np.float64(0.9378832299359039),\n",
       " np.float64(1.9401974892663614),\n",
       " np.float64(0.743077865475994),\n",
       " np.float64(0.46344400461469726),\n",
       " np.float64(1.8832367101571474),\n",
       " np.float64(1.6695222491488795),\n",
       " np.float64(3.462971953888965),\n",
       " np.float64(2.1557711694454382),\n",
       " np.float64(1.6404645967775786),\n",
       " np.float64(0.6162960405861855),\n",
       " np.float64(0.38907959286501587),\n",
       " np.float64(1.079744803120479),\n",
       " np.float64(1.0270608961991894),\n",
       " np.float64(1.2331163754039316),\n",
       " np.float64(1.0656453548344644),\n",
       " np.float64(1.5187591665990532),\n",
       " np.float64(0.38109476663320835),\n",
       " np.float64(1.9794586646910575),\n",
       " np.float64(1.065695928682541),\n",
       " np.float64(1.2299370123524562),\n",
       " np.float64(1.5028697971341525),\n",
       " np.float64(0.4513290150412354),\n",
       " np.float64(0.22628871574461193),\n",
       " np.float64(2.4551968257348102),\n",
       " np.float64(2.6194471839055677),\n",
       " np.float64(0.6831681147126688),\n",
       " np.float64(0.45482872822381804),\n",
       " np.float64(1.1719318843941888),\n",
       " np.float64(-0.013360242132781992),\n",
       " np.float64(0.9137247404857134),\n",
       " np.float64(1.403083000464478),\n",
       " np.float64(1.1113039299463083),\n",
       " np.float64(0.5795115550790205),\n",
       " np.float64(2.0043791358858996),\n",
       " np.float64(0.48562607844082806),\n",
       " np.float64(0.20618025560465453),\n",
       " np.float64(-0.2219069126969634),\n",
       " np.float64(2.1886786319951788),\n",
       " np.float64(1.4178145016114276),\n",
       " np.float64(0.5152496859858149),\n",
       " np.float64(1.5324738461702325),\n",
       " np.float64(2.062568977587949),\n",
       " np.float64(1.673762263447747),\n",
       " np.float64(0.47300135607336163),\n",
       " np.float64(0.17216383085432513),\n",
       " np.float64(1.3257556559139392),\n",
       " np.float64(2.2121453939913986),\n",
       " np.float64(0.6548628347178476),\n",
       " np.float64(0.9289460216191806),\n",
       " np.float64(1.0688249202863256),\n",
       " np.float64(1.2229232593293042),\n",
       " np.float64(1.7138338083574853),\n",
       " np.float64(2.143706723397981),\n",
       " np.float64(1.127006308233611),\n",
       " np.float64(0.45337560033978364),\n",
       " np.float64(0.9136360629183551),\n",
       " np.float64(1.0908956909816814),\n",
       " np.float64(1.1919479067130623),\n",
       " np.float64(0.6859952757754316),\n",
       " np.float64(0.7957925510260895),\n",
       " np.float64(0.8310517400181967),\n",
       " np.float64(1.3056183071697425),\n",
       " np.float64(3.1518740318086835),\n",
       " np.float64(0.10980622981784813),\n",
       " np.float64(2.0920795476858505),\n",
       " np.float64(1.4748126009589044),\n",
       " np.float64(0.6814781551664667),\n",
       " np.float64(1.0914639598477247),\n",
       " np.float64(0.7781954811265868),\n",
       " np.float64(1.9054311489173947),\n",
       " np.float64(2.019567622660411),\n",
       " np.float64(0.2266872116812246),\n",
       " np.float64(1.7543841985715851),\n",
       " np.float64(0.89912304669057),\n",
       " np.float64(0.9980410060024794),\n",
       " np.float64(0.9692625498284323),\n",
       " np.float64(2.4701776875538863),\n",
       " np.float64(0.23134711577854683),\n",
       " np.float64(1.4392709400332382),\n",
       " np.float64(0.5204945398852564),\n",
       " np.float64(0.9010575718511796),\n",
       " np.float64(3.707845023343041),\n",
       " np.float64(1.1003240742482459),\n",
       " np.float64(0.37975901415332425),\n",
       " np.float64(0.7057382550475569),\n",
       " np.float64(1.7288898735706253),\n",
       " np.float64(1.3831310280472446),\n",
       " np.float64(-0.28460152038576375),\n",
       " np.float64(0.744228102171503),\n",
       " np.float64(0.5522283838186708),\n",
       " np.float64(1.8830964810026674),\n",
       " np.float64(1.0988487968824898),\n",
       " np.float64(0.7401998164232911),\n",
       " np.float64(1.0762332498959897),\n",
       " np.float64(0.6368341043731189),\n",
       " np.float64(1.271853314828682),\n",
       " np.float64(0.9063773007034435),\n",
       " np.float64(1.3738636623411369),\n",
       " np.float64(0.8861248996727703),\n",
       " np.float64(0.899421923548098),\n",
       " np.float64(-0.4724509241919833),\n",
       " np.float64(0.3510748518277262),\n",
       " np.float64(1.7981516152438177),\n",
       " np.float64(0.5236474632912248),\n",
       " np.float64(1.5037149460057246),\n",
       " np.float64(1.3975110449080252),\n",
       " np.float64(1.7580107908544187),\n",
       " np.float64(0.5414819804340879),\n",
       " np.float64(1.239929731746697),\n",
       " np.float64(1.4300950327081159),\n",
       " np.float64(1.5549684465061844),\n",
       " np.float64(0.8653410170597995),\n",
       " np.float64(1.1626067105588704),\n",
       " np.float64(0.7157676313488198),\n",
       " np.float64(0.04658699140316494),\n",
       " np.float64(0.926088445819101),\n",
       " np.float64(1.1590862865543592),\n",
       " np.float64(0.8786487786400059),\n",
       " np.float64(0.8618038827883927),\n",
       " np.float64(1.2604000429592117),\n",
       " np.float64(-0.04520364500940974),\n",
       " np.float64(1.6017833978555758),\n",
       " np.float64(1.0821538022111195),\n",
       " np.float64(1.358878994037333),\n",
       " np.float64(0.08484089702886634),\n",
       " np.float64(0.7930015999387483),\n",
       " np.float64(1.3916363386190451),\n",
       " np.float64(0.8496613581217725),\n",
       " np.float64(1.7297450375053391),\n",
       " np.float64(0.5863240229249954),\n",
       " np.float64(0.014484334872401146),\n",
       " np.float64(1.402019364879228),\n",
       " np.float64(-0.7108096421711678),\n",
       " np.float64(1.2430148610175737),\n",
       " np.float64(0.3987287389319426),\n",
       " np.float64(0.4095905091985589),\n",
       " np.float64(0.5065881622609564),\n",
       " np.float64(2.452081283800285),\n",
       " np.float64(0.729486744278588),\n",
       " np.float64(0.526379915682409),\n",
       " np.float64(2.8483652259995442),\n",
       " np.float64(-0.07462345620133623),\n",
       " np.float64(0.6391383012526344),\n",
       " np.float64(0.9783091809649485),\n",
       " np.float64(1.2167439881132638),\n",
       " np.float64(1.0093267125931875),\n",
       " np.float64(0.5303073817239432),\n",
       " np.float64(2.137486959238197),\n",
       " np.float64(1.3790367356784585),\n",
       " np.float64(1.3557740943097618),\n",
       " np.float64(2.0741373580768565),\n",
       " np.float64(1.912047876470125),\n",
       " np.float64(-0.015415074695770711),\n",
       " np.float64(1.4872469726267892),\n",
       " np.float64(1.2110929368014869),\n",
       " np.float64(0.4077018353465739),\n",
       " np.float64(1.6069119532518668),\n",
       " np.float64(0.8090855646028259),\n",
       " np.float64(0.9179129503438684),\n",
       " np.float64(1.0607101224613606),\n",
       " np.float64(2.2708405605797557),\n",
       " np.float64(1.0094883857162982),\n",
       " np.float64(0.7463084083438818),\n",
       " np.float64(1.3065101219349573),\n",
       " np.float64(0.9633721551272149),\n",
       " np.float64(1.2860839684055776),\n",
       " np.float64(1.75830121583576),\n",
       " np.float64(1.0507759603574809),\n",
       " np.float64(1.3235293540531097),\n",
       " np.float64(0.9575555477731236),\n",
       " np.float64(2.6845473820633994),\n",
       " np.float64(1.3079462751212854),\n",
       " np.float64(0.8923870435138409),\n",
       " np.float64(1.6588883782096875),\n",
       " np.float64(1.2964783648242975),\n",
       " np.float64(0.6990130689232699),\n",
       " np.float64(1.5760430081895869),\n",
       " np.float64(2.347529051691184),\n",
       " np.float64(2.0544221158731877),\n",
       " np.float64(1.482632767408486),\n",
       " np.float64(1.7422557457120103),\n",
       " np.float64(2.251541144962877),\n",
       " np.float64(0.2659036167714307),\n",
       " np.float64(1.1408758057023138),\n",
       " np.float64(0.998854019915565),\n",
       " np.float64(0.9731533767345781),\n",
       " np.float64(1.8396987542001504),\n",
       " np.float64(-0.052612234675385956),\n",
       " np.float64(0.7482516127218957),\n",
       " np.float64(1.119532787857342),\n",
       " np.float64(0.9427060594958617),\n",
       " np.float64(-0.3639367981487866),\n",
       " np.float64(0.8640219214392866),\n",
       " np.float64(1.235616869283825),\n",
       " np.float64(3.58517206143687),\n",
       " np.float64(1.5696970809711492),\n",
       " np.float64(1.6947730744930514),\n",
       " np.float64(0.4662206380022413),\n",
       " np.float64(2.5191335676444915),\n",
       " np.float64(1.4404204770138789),\n",
       " np.float64(1.1082922800700685),\n",
       " np.float64(0.6605126906805658),\n",
       " np.float64(0.4473755872141248),\n",
       " np.float64(0.4700198365549203),\n",
       " np.float64(1.40300856644769),\n",
       " np.float64(1.5421961218185507),\n",
       " np.float64(1.2926414113007925),\n",
       " np.float64(1.177769438685744),\n",
       " np.float64(0.8435168052752451),\n",
       " np.float64(2.343983057920521),\n",
       " np.float64(0.5391409047147016),\n",
       " np.float64(1.1958554184673793),\n",
       " np.float64(0.035684971717867574),\n",
       " np.float64(1.7152794867410315),\n",
       " np.float64(1.3121335339328166),\n",
       " np.float64(0.965879130573102),\n",
       " np.float64(0.6593778669043024),\n",
       " np.float64(0.5084769384631178),\n",
       " np.float64(0.7974852099959177),\n",
       " np.float64(1.4515077769910243),\n",
       " np.float64(0.36728977533166973),\n",
       " np.float64(1.1843871584002625),\n",
       " np.float64(0.8960724160615101),\n",
       " np.float64(0.4677762276674486),\n",
       " np.float64(0.9898506721491969),\n",
       " np.float64(1.133764831533877),\n",
       " np.float64(1.298877763437293),\n",
       " np.float64(0.6579879253577979),\n",
       " np.float64(0.6958257798441678),\n",
       " np.float64(0.7949778624442593),\n",
       " np.float64(0.8397402862199854),\n",
       " np.float64(0.42109257045276977),\n",
       " np.float64(1.939037596549572),\n",
       " np.float64(0.7369011622900353),\n",
       " np.float64(1.1801166848098406),\n",
       " np.float64(1.8707920678932746),\n",
       " np.float64(1.3537498034550983),\n",
       " np.float64(0.49091584841913805),\n",
       " np.float64(0.3920031985577178),\n",
       " np.float64(1.4330033176832484),\n",
       " np.float64(0.18621905366468738),\n",
       " np.float64(1.293652448644932),\n",
       " np.float64(1.1690178962897007),\n",
       " np.float64(1.4487331743172651),\n",
       " np.float64(1.4283466038464292),\n",
       " np.float64(2.1896574312936936),\n",
       " np.float64(1.1416602875865132),\n",
       " np.float64(0.7406995369273768),\n",
       " np.float64(0.4205857356216547),\n",
       " np.float64(0.381084950976845),\n",
       " np.float64(0.34173867752475046),\n",
       " np.float64(1.221869446591592),\n",
       " np.float64(0.4296731211984118),\n",
       " np.float64(0.791489906139681),\n",
       " np.float64(0.5613544406389214),\n",
       " np.float64(1.2426231400068655),\n",
       " np.float64(0.460524466264049),\n",
       " np.float64(1.5908274929516435),\n",
       " np.float64(0.9329442240176602),\n",
       " np.float64(1.615931288342747),\n",
       " np.float64(1.2501385986234406),\n",
       " np.float64(0.5408208444896516),\n",
       " np.float64(3.2789286529754724),\n",
       " np.float64(1.859598938332218),\n",
       " np.float64(1.4308527959331752),\n",
       " np.float64(2.445581301114519),\n",
       " np.float64(0.509106702485099),\n",
       " np.float64(1.4241208326365882),\n",
       " np.float64(0.928480379018248),\n",
       " np.float64(2.6158031239865647),\n",
       " np.float64(1.4174552595444194),\n",
       " np.float64(1.6064961353930731),\n",
       " np.float64(1.6512276286339307),\n",
       " np.float64(1.6776426594925027),\n",
       " np.float64(0.4326976833666473),\n",
       " np.float64(0.9780743245572273),\n",
       " np.float64(-0.07473506623366383),\n",
       " np.float64(1.09970078951222),\n",
       " np.float64(0.701999143524418),\n",
       " np.float64(0.07781746427301323),\n",
       " np.float64(1.3218481557172368),\n",
       " np.float64(1.1621616537658979),\n",
       " np.float64(2.2297116817312252),\n",
       " np.float64(0.7025579603499804),\n",
       " np.float64(1.560826210153303),\n",
       " np.float64(0.31403208526429965),\n",
       " np.float64(1.3649700186652642),\n",
       " np.float64(0.9736031456717618),\n",
       " np.float64(1.4980163615028985),\n",
       " np.float64(0.4640086030741783),\n",
       " np.float64(1.3544258101969362),\n",
       " np.float64(0.6573282062013924),\n",
       " np.float64(1.6020743932803507),\n",
       " np.float64(2.314087758898622),\n",
       " np.float64(1.8230340909717682),\n",
       " np.float64(1.8826745905686788),\n",
       " np.float64(1.3275493856898724),\n",
       " np.float64(1.0607902000857516),\n",
       " np.float64(1.5559343120708886),\n",
       " np.float64(1.2109164776060763),\n",
       " np.float64(1.6335358055283928),\n",
       " np.float64(1.3069172052143019),\n",
       " np.float64(1.2455150163791036),\n",
       " np.float64(0.6489648464207615),\n",
       " np.float64(1.80679129226481),\n",
       " np.float64(0.716133970251485),\n",
       " np.float64(1.4365467004911296),\n",
       " np.float64(1.2978128232701356),\n",
       " np.float64(0.9927727144021156),\n",
       " np.float64(0.9638173036167734),\n",
       " np.float64(1.9423980549517816),\n",
       " np.float64(1.235751965923187),\n",
       " np.float64(0.46035114845359204),\n",
       " np.float64(0.9152062561477114),\n",
       " np.float64(2.277058964052278),\n",
       " np.float64(2.313765027963761),\n",
       " np.float64(2.0092211155877036),\n",
       " np.float64(0.6360234518539255),\n",
       " np.float64(0.8965957471528203),\n",
       " np.float64(2.034443312497837),\n",
       " np.float64(1.6618212982109473),\n",
       " np.float64(0.23539073680098183),\n",
       " np.float64(1.0945972163435025),\n",
       " np.float64(0.7203635470407374),\n",
       " np.float64(0.5324020324032654),\n",
       " np.float64(1.0523988863433966),\n",
       " np.float64(1.0642349070785588),\n",
       " np.float64(1.2221613263583913),\n",
       " np.float64(1.3277064916703427),\n",
       " np.float64(1.2575582919755333),\n",
       " np.float64(0.46106736771071954),\n",
       " np.float64(1.218286710590139),\n",
       " np.float64(1.1295622739758904),\n",
       " np.float64(0.8948676953318477),\n",
       " np.float64(1.6708164659426483),\n",
       " np.float64(1.8439818156722882),\n",
       " np.float64(1.0842322826319035),\n",
       " np.float64(-0.26522465657963845),\n",
       " np.float64(1.1795140176588539),\n",
       " np.float64(0.08654056465978305),\n",
       " np.float64(0.5811563256855603),\n",
       " np.float64(1.1767233171289186),\n",
       " np.float64(1.0189376141129294),\n",
       " np.float64(-0.2689034120633914),\n",
       " np.float64(1.325103877597516),\n",
       " np.float64(0.39482676545355844),\n",
       " np.float64(1.3361784022749617),\n",
       " np.float64(0.9340151476093713),\n",
       " np.float64(1.3201318682778953),\n",
       " np.float64(1.138298896618274),\n",
       " np.float64(-0.5831142074433487),\n",
       " np.float64(1.2277673982605717),\n",
       " np.float64(0.6622013521403817),\n",
       " np.float64(2.2342534017624636),\n",
       " np.float64(0.2846835740009172),\n",
       " np.float64(1.4319844499337055),\n",
       " np.float64(1.5960699319654537),\n",
       " np.float64(0.5475733858647757),\n",
       " np.float64(0.04975651959346577),\n",
       " np.float64(-0.19332188884147697),\n",
       " np.float64(0.9329458334661752),\n",
       " np.float64(0.6165916944345197),\n",
       " np.float64(1.0039986846562563),\n",
       " np.float64(-0.06135099921648411),\n",
       " np.float64(0.7849256314845947),\n",
       " np.float64(0.20425248552602013),\n",
       " np.float64(1.2194364091886982),\n",
       " np.float64(0.9715941242798282),\n",
       " np.float64(2.026320271221522),\n",
       " np.float64(0.5653842875702609),\n",
       " np.float64(1.2777830434794508),\n",
       " np.float64(1.2441264252053235),\n",
       " np.float64(2.1899629225239483),\n",
       " np.float64(0.6339532823011287),\n",
       " np.float64(1.5977969351679429),\n",
       " np.float64(2.9670651798901337),\n",
       " np.float64(1.2470353491366533),\n",
       " np.float64(0.9944112325584497),\n",
       " np.float64(1.6709907001303121),\n",
       " np.float64(1.8286004394295898),\n",
       " np.float64(0.3765724235485388),\n",
       " np.float64(1.5496554806743075),\n",
       " np.float64(0.981307636843489),\n",
       " np.float64(0.9342239559487817),\n",
       " np.float64(1.8560321430616777),\n",
       " np.float64(1.6156514664168686),\n",
       " np.float64(1.0274260757078955),\n",
       " np.float64(1.8396688528495282),\n",
       " np.float64(1.3425521913002851),\n",
       " np.float64(0.81388812254144),\n",
       " np.float64(1.3531597185250066),\n",
       " np.float64(1.3270910472137776),\n",
       " np.float64(1.6571303449560568),\n",
       " np.float64(1.918746257195549),\n",
       " np.float64(1.135990205822439),\n",
       " np.float64(0.48646733599915826),\n",
       " np.float64(1.7943883685117963),\n",
       " np.float64(0.5837079913063055),\n",
       " np.float64(1.3685529421778322),\n",
       " np.float64(1.0652594770729713),\n",
       " np.float64(0.7904559581138119),\n",
       " np.float64(1.1462631704705282),\n",
       " np.float64(2.550387215391595),\n",
       " np.float64(0.8771033423539828),\n",
       " np.float64(-0.027859141745755163),\n",
       " np.float64(1.3577985943715634),\n",
       " np.float64(1.515455677987582),\n",
       " np.float64(1.8253015840773688),\n",
       " np.float64(0.19351219751803037),\n",
       " np.float64(1.0998144217113568),\n",
       " np.float64(1.1997494755182876),\n",
       " np.float64(0.9606497105102613),\n",
       " np.float64(1.6426289590473904),\n",
       " np.float64(1.8152664456082537),\n",
       " np.float64(0.7124667154922683),\n",
       " np.float64(1.2915621682056582),\n",
       " np.float64(1.1213199790676485),\n",
       " np.float64(0.2408167317856014),\n",
       " np.float64(0.24128795646844728),\n",
       " np.float64(1.8852166003647282),\n",
       " np.float64(2.5929884249749655),\n",
       " np.float64(0.9303778618603084),\n",
       " np.float64(0.6996157110148358),\n",
       " np.float64(0.6917432637232902),\n",
       " np.float64(2.4770091490859785),\n",
       " np.float64(1.4766496237329492),\n",
       " np.float64(2.695195352601832),\n",
       " np.float64(-0.35330550455284215),\n",
       " np.float64(0.82633005388115),\n",
       " np.float64(0.7887342294778974),\n",
       " np.float64(0.6162479827854931),\n",
       " np.float64(0.8753046364534148),\n",
       " np.float64(1.2049398606992818),\n",
       " np.float64(1.2370673166687323),\n",
       " np.float64(0.8123277548067576),\n",
       " np.float64(1.8917171030177866),\n",
       " np.float64(0.6306357850333376),\n",
       " np.float64(0.4274168409659623),\n",
       " np.float64(0.9878845115250342),\n",
       " np.float64(1.0401295489110483),\n",
       " np.float64(0.028605801233282494),\n",
       " np.float64(1.5542311373706914),\n",
       " np.float64(1.8683831933889123),\n",
       " np.float64(1.9218224542840179),\n",
       " np.float64(0.7165591591928581),\n",
       " np.float64(0.6626568797188387),\n",
       " np.float64(2.2334365827251417),\n",
       " np.float64(1.33836961517989),\n",
       " np.float64(0.2859097594014556),\n",
       " np.float64(1.2511692436332225),\n",
       " np.float64(1.525465567762913),\n",
       " np.float64(0.11380144635625042),\n",
       " np.float64(1.9188986723076003),\n",
       " np.float64(0.6440522840145491),\n",
       " np.float64(1.499762734180342),\n",
       " np.float64(1.3232410407585482),\n",
       " np.float64(0.5904035550898971),\n",
       " np.float64(2.0282290567769237),\n",
       " np.float64(1.5917698593682952),\n",
       " np.float64(1.5529084127359716),\n",
       " np.float64(1.029664821759804),\n",
       " np.float64(-0.32057382471599055),\n",
       " np.float64(1.0265260585401028),\n",
       " np.float64(2.2300773391961815),\n",
       " np.float64(1.3847201687808501),\n",
       " np.float64(0.6438504310569036),\n",
       " np.float64(-0.03302449666688155),\n",
       " np.float64(0.7130787118309487),\n",
       " np.float64(2.1455386119792874),\n",
       " np.float64(1.150218729079852),\n",
       " np.float64(0.2653358086545241),\n",
       " np.float64(1.7017035607249478),\n",
       " np.float64(1.2338335474140651),\n",
       " np.float64(0.8137680876803173),\n",
       " np.float64(0.06526958919998255),\n",
       " np.float64(1.279382659459887),\n",
       " np.float64(1.6655088842561663),\n",
       " np.float64(2.0663982806111507),\n",
       " np.float64(0.35191340756738076),\n",
       " np.float64(1.513729870157577),\n",
       " np.float64(1.8127276029211903),\n",
       " np.float64(0.8577721074574317),\n",
       " np.float64(1.675784840411042),\n",
       " np.float64(1.1107509720705027),\n",
       " np.float64(1.0017615911404207),\n",
       " np.float64(0.7319433251624495),\n",
       " np.float64(0.6685672397427171),\n",
       " np.float64(0.6492254389076131),\n",
       " np.float64(0.9122391110453277),\n",
       " np.float64(0.6518964806646272),\n",
       " np.float64(3.5244995911320154),\n",
       " np.float64(1.0392859354460278),\n",
       " np.float64(1.297105415442719),\n",
       " np.float64(1.875939268666944),\n",
       " np.float64(0.9432620915534711),\n",
       " np.float64(1.5820209435083956),\n",
       " np.float64(0.8948269869947427),\n",
       " np.float64(0.899461519716417),\n",
       " np.float64(0.5039524477454282),\n",
       " np.float64(0.6060997844104175),\n",
       " np.float64(1.6248000756420427),\n",
       " np.float64(1.392853541547242),\n",
       " np.float64(1.3529296628254732),\n",
       " np.float64(1.9749872470438636),\n",
       " np.float64(1.705311177940056),\n",
       " np.float64(1.656194280449438),\n",
       " np.float64(1.3534309649516136),\n",
       " np.float64(0.48026660138257277),\n",
       " np.float64(0.43465572592485036),\n",
       " np.float64(0.9021309394162382),\n",
       " np.float64(2.2500899947410673),\n",
       " np.float64(1.6829909108678953),\n",
       " np.float64(0.7100889262028333),\n",
       " np.float64(1.8506664833241446),\n",
       " np.float64(1.6605582833698016),\n",
       " np.float64(1.4330843417569594),\n",
       " np.float64(1.3168880701594943),\n",
       " np.float64(0.9545888078243016),\n",
       " np.float64(1.6374967450451738),\n",
       " np.float64(0.23682790439708531),\n",
       " np.float64(0.7761323289297228),\n",
       " np.float64(2.7203608687923007),\n",
       " np.float64(0.21149883619251994),\n",
       " np.float64(1.3433953812322836),\n",
       " np.float64(1.094666364548703),\n",
       " np.float64(1.2640215861116446),\n",
       " np.float64(0.9157392237670563),\n",
       " np.float64(0.6830608030845425),\n",
       " np.float64(1.0619929306304294),\n",
       " np.float64(0.3021537813342374),\n",
       " np.float64(1.4554423905556735),\n",
       " np.float64(1.2571857381547198),\n",
       " np.float64(1.4976550086528018),\n",
       " np.float64(0.9868921924064924),\n",
       " np.float64(2.2593496223059715),\n",
       " np.float64(0.7110813220660007),\n",
       " np.float64(1.651378641217273),\n",
       " np.float64(2.3089674344739795),\n",
       " np.float64(0.849752700802442),\n",
       " np.float64(1.0781253481968227),\n",
       " np.float64(2.2618036336927383),\n",
       " np.float64(1.5046550070697227),\n",
       " np.float64(1.6594347176420614),\n",
       " np.float64(0.8869493637532075),\n",
       " np.float64(-0.9312122429603947),\n",
       " np.float64(2.179976782555122),\n",
       " np.float64(-0.0002701601748493094),\n",
       " np.float64(0.7290143254137005),\n",
       " np.float64(2.4753341031708866),\n",
       " np.float64(0.1467287634086489),\n",
       " np.float64(1.8447940025101726),\n",
       " np.float64(0.6206755091333981),\n",
       " np.float64(0.5334664018299503),\n",
       " np.float64(2.1301267652665503),\n",
       " np.float64(1.4103256720141992),\n",
       " np.float64(1.1286067952601768),\n",
       " np.float64(1.1007807169366854),\n",
       " np.float64(1.1517961905468381),\n",
       " np.float64(1.2485632249918883),\n",
       " np.float64(1.6052462315983258),\n",
       " np.float64(1.7623547339213457),\n",
       " np.float64(1.3425835912950046),\n",
       " np.float64(1.1559523444785218),\n",
       " np.float64(-0.19341854599987515),\n",
       " np.float64(0.43624068857516135),\n",
       " np.float64(1.0070800238331725),\n",
       " np.float64(2.5148922215834526),\n",
       " np.float64(0.551496561192187),\n",
       " np.float64(0.4827529062219837),\n",
       " np.float64(0.5431491995948061),\n",
       " np.float64(0.4356068163002022),\n",
       " np.float64(1.5357246722168176),\n",
       " np.float64(1.2721364423715718),\n",
       " np.float64(0.9067214783081443),\n",
       " np.float64(0.5514998643549862),\n",
       " np.float64(0.5806361414790729),\n",
       " np.float64(1.0063122861802234),\n",
       " np.float64(1.501922888652437),\n",
       " np.float64(2.4572250576911587),\n",
       " np.float64(0.014458652715075078),\n",
       " np.float64(2.020433972753473),\n",
       " np.float64(1.4132883761025739),\n",
       " np.float64(2.3173923328614703),\n",
       " np.float64(0.439397913133395),\n",
       " np.float64(0.9820109733742357),\n",
       " np.float64(0.5379552141298349),\n",
       " np.float64(1.393888063605026),\n",
       " np.float64(-0.16496282846543742),\n",
       " np.float64(1.7449648266756213),\n",
       " np.float64(-0.07608760858034513),\n",
       " np.float64(1.540132944690264),\n",
       " np.float64(0.963800854517902),\n",
       " np.float64(1.5399946884513478),\n",
       " np.float64(-0.3357819374393342),\n",
       " np.float64(1.338306302344278),\n",
       " np.float64(1.025621907331095)]"
      ]
     },
     "execution_count": 225,
     "metadata": {},
     "output_type": "execute_result"
    }
   ],
   "source": [
    "maxs"
   ]
  },
  {
   "cell_type": "code",
   "execution_count": 226,
   "id": "9b513473-e6d1-42b4-8ca1-33d49cbf9e94",
   "metadata": {},
   "outputs": [
    {
     "data": {
      "text/html": [
       "<div>\n",
       "<style scoped>\n",
       "    .dataframe tbody tr th:only-of-type {\n",
       "        vertical-align: middle;\n",
       "    }\n",
       "\n",
       "    .dataframe tbody tr th {\n",
       "        vertical-align: top;\n",
       "    }\n",
       "\n",
       "    .dataframe thead th {\n",
       "        text-align: right;\n",
       "    }\n",
       "</style>\n",
       "<table border=\"1\" class=\"dataframe\">\n",
       "  <thead>\n",
       "    <tr style=\"text-align: right;\">\n",
       "      <th></th>\n",
       "      <th>id</th>\n",
       "      <th>variable</th>\n",
       "      <th>value</th>\n",
       "    </tr>\n",
       "  </thead>\n",
       "  <tbody>\n",
       "    <tr>\n",
       "      <th>0</th>\n",
       "      <td>1</td>\n",
       "      <td>height</td>\n",
       "      <td>180.0</td>\n",
       "    </tr>\n",
       "    <tr>\n",
       "      <th>1</th>\n",
       "      <td>2</td>\n",
       "      <td>height</td>\n",
       "      <td>150.0</td>\n",
       "    </tr>\n",
       "    <tr>\n",
       "      <th>2</th>\n",
       "      <td>1</td>\n",
       "      <td>weight</td>\n",
       "      <td>80.0</td>\n",
       "    </tr>\n",
       "    <tr>\n",
       "      <th>3</th>\n",
       "      <td>2</td>\n",
       "      <td>weight</td>\n",
       "      <td>NaN</td>\n",
       "    </tr>\n",
       "  </tbody>\n",
       "</table>\n",
       "</div>"
      ],
      "text/plain": [
       "   id variable  value\n",
       "0   1   height  180.0\n",
       "1   2   height  150.0\n",
       "2   1   weight   80.0\n",
       "3   2   weight    NaN"
      ]
     },
     "execution_count": 226,
     "metadata": {},
     "output_type": "execute_result"
    }
   ],
   "source": [
    "  import pandas as pd\n",
    "  health = pd.DataFrame(\n",
    "      [{'id': 1, 'height': 180, 'weight': 80},\n",
    "       {'id': 2, 'height': 150}])\n",
    "  pd.melt(health, id_vars='id', value_vars=['height', 'weight'])"
   ]
  },
  {
   "cell_type": "code",
   "execution_count": 228,
   "id": "99236799-d75c-4c33-9a43-458529fb4803",
   "metadata": {},
   "outputs": [
    {
     "data": {
      "text/html": [
       "<div>\n",
       "<style scoped>\n",
       "    .dataframe tbody tr th:only-of-type {\n",
       "        vertical-align: middle;\n",
       "    }\n",
       "\n",
       "    .dataframe tbody tr th {\n",
       "        vertical-align: top;\n",
       "    }\n",
       "\n",
       "    .dataframe thead th {\n",
       "        text-align: right;\n",
       "    }\n",
       "</style>\n",
       "<table border=\"1\" class=\"dataframe\">\n",
       "  <thead>\n",
       "    <tr style=\"text-align: right;\">\n",
       "      <th></th>\n",
       "      <th>id</th>\n",
       "      <th>height</th>\n",
       "      <th>weight</th>\n",
       "    </tr>\n",
       "  </thead>\n",
       "  <tbody>\n",
       "    <tr>\n",
       "      <th>0</th>\n",
       "      <td>1</td>\n",
       "      <td>180</td>\n",
       "      <td>80.0</td>\n",
       "    </tr>\n",
       "    <tr>\n",
       "      <th>1</th>\n",
       "      <td>2</td>\n",
       "      <td>150</td>\n",
       "      <td>NaN</td>\n",
       "    </tr>\n",
       "  </tbody>\n",
       "</table>\n",
       "</div>"
      ],
      "text/plain": [
       "   id  height  weight\n",
       "0   1     180    80.0\n",
       "1   2     150     NaN"
      ]
     },
     "execution_count": 228,
     "metadata": {},
     "output_type": "execute_result"
    }
   ],
   "source": [
    "  health = pd.DataFrame(\n",
    "      [{'id': 1, 'height': 180, 'weight': 80},\n",
    "       {'id': 2, 'height': 150}])\n",
    "health"
   ]
  },
  {
   "cell_type": "code",
   "execution_count": 229,
   "id": "83a6752b-0743-4c5f-9f0d-d699661a318b",
   "metadata": {},
   "outputs": [
    {
     "data": {
      "text/plain": [
       "False"
      ]
     },
     "execution_count": 229,
     "metadata": {},
     "output_type": "execute_result"
    }
   ],
   "source": [
    "not False and False"
   ]
  },
  {
   "cell_type": "code",
   "execution_count": 230,
   "id": "f5ef2574-71ec-434b-9958-b0e3509e94ee",
   "metadata": {},
   "outputs": [
    {
     "data": {
      "text/plain": [
       "False"
      ]
     },
     "execution_count": 230,
     "metadata": {},
     "output_type": "execute_result"
    }
   ],
   "source": [
    "False and False"
   ]
  },
  {
   "cell_type": "code",
   "execution_count": 232,
   "id": "fe384a52-6553-458f-a9d2-64156e451030",
   "metadata": {},
   "outputs": [
    {
     "data": {
      "text/plain": [
       "False"
      ]
     },
     "execution_count": 232,
     "metadata": {},
     "output_type": "execute_result"
    }
   ],
   "source": [
    "False and True"
   ]
  },
  {
   "cell_type": "code",
   "execution_count": 233,
   "id": "2fa973e7-5e65-4ae0-9001-b51b00650049",
   "metadata": {},
   "outputs": [
    {
     "data": {
      "text/plain": [
       "True"
      ]
     },
     "execution_count": 233,
     "metadata": {},
     "output_type": "execute_result"
    }
   ],
   "source": [
    "not (False and True)"
   ]
  },
  {
   "cell_type": "code",
   "execution_count": 234,
   "id": "fc8464f5-8250-4e08-928f-3a1eb522256e",
   "metadata": {},
   "outputs": [
    {
     "data": {
      "text/plain": [
       "True"
      ]
     },
     "execution_count": 234,
     "metadata": {},
     "output_type": "execute_result"
    }
   ],
   "source": [
    "not False and True"
   ]
  },
  {
   "cell_type": "code",
   "execution_count": 235,
   "id": "d4cb3b42-2e29-45c3-acb2-644665c14714",
   "metadata": {},
   "outputs": [
    {
     "data": {
      "text/plain": [
       "False"
      ]
     },
     "execution_count": 235,
     "metadata": {},
     "output_type": "execute_result"
    }
   ],
   "source": [
    "not(False or True)"
   ]
  },
  {
   "cell_type": "code",
   "execution_count": 236,
   "id": "dc9d140e-0bc8-4a25-97e7-775a3feffd3d",
   "metadata": {},
   "outputs": [
    {
     "data": {
      "text/plain": [
       "1"
      ]
     },
     "execution_count": 236,
     "metadata": {},
     "output_type": "execute_result"
    }
   ],
   "source": [
    "True * True"
   ]
  },
  {
   "cell_type": "code",
   "execution_count": 238,
   "id": "dfe7fc9a-532f-4d57-914f-7a1d47b32c43",
   "metadata": {},
   "outputs": [
    {
     "data": {
      "text/plain": [
       "False"
      ]
     },
     "execution_count": 238,
     "metadata": {},
     "output_type": "execute_result"
    }
   ],
   "source": [
    "bool(True * False)"
   ]
  },
  {
   "cell_type": "code",
   "execution_count": 240,
   "id": "e66ecc7c-662d-416e-8b6b-c59a9d912745",
   "metadata": {},
   "outputs": [
    {
     "data": {
      "text/plain": [
       "False"
      ]
     },
     "execution_count": 240,
     "metadata": {},
     "output_type": "execute_result"
    }
   ],
   "source": [
    "bool(False + False)"
   ]
  },
  {
   "cell_type": "code",
   "execution_count": 241,
   "id": "2f46bb79-3891-4edc-a303-2fe6db403a89",
   "metadata": {},
   "outputs": [
    {
     "data": {
      "text/plain": [
       "1"
      ]
     },
     "execution_count": 241,
     "metadata": {},
     "output_type": "execute_result"
    }
   ],
   "source": [
    "True ** False"
   ]
  },
  {
   "cell_type": "code",
   "execution_count": 242,
   "id": "7aa89e32-e2e3-4cbf-bbef-c38715612e84",
   "metadata": {},
   "outputs": [
    {
     "data": {
      "text/plain": [
       "1"
      ]
     },
     "execution_count": 242,
     "metadata": {},
     "output_type": "execute_result"
    }
   ],
   "source": [
    "False ** False"
   ]
  },
  {
   "cell_type": "code",
   "execution_count": 243,
   "id": "e81b581a-a514-4425-9323-b0f38b53c2d5",
   "metadata": {},
   "outputs": [
    {
     "data": {
      "text/plain": [
       "0"
      ]
     },
     "execution_count": 243,
     "metadata": {},
     "output_type": "execute_result"
    }
   ],
   "source": [
    "False * False"
   ]
  },
  {
   "cell_type": "code",
   "execution_count": 244,
   "id": "7771a116-4162-4145-bc61-01237306c238",
   "metadata": {},
   "outputs": [
    {
     "data": {
      "text/plain": [
       "'11'"
      ]
     },
     "execution_count": 244,
     "metadata": {},
     "output_type": "execute_result"
    }
   ],
   "source": [
    "'1' * 2"
   ]
  },
  {
   "cell_type": "code",
   "execution_count": 245,
   "id": "e80a47be-81b6-4f93-849e-97f5ef200563",
   "metadata": {},
   "outputs": [
    {
     "data": {
      "text/plain": [
       "'11'"
      ]
     },
     "execution_count": 245,
     "metadata": {},
     "output_type": "execute_result"
    }
   ],
   "source": [
    "'1' + '1'"
   ]
  },
  {
   "cell_type": "code",
   "execution_count": 246,
   "id": "ead8c0b0-c4ef-4390-b9fa-133d6f28c379",
   "metadata": {},
   "outputs": [
    {
     "ename": "TypeError",
     "evalue": "unsupported operand type(s) for /: 'str' and 'str'",
     "output_type": "error",
     "traceback": [
      "\u001b[0;31m---------------------------------------------------------------------------\u001b[0m",
      "\u001b[0;31mTypeError\u001b[0m                                 Traceback (most recent call last)",
      "Cell \u001b[0;32mIn[246], line 1\u001b[0m\n\u001b[0;32m----> 1\u001b[0m \u001b[38;5;124;43m'\u001b[39;49m\u001b[38;5;124;43m1\u001b[39;49m\u001b[38;5;124;43m'\u001b[39;49m\u001b[43m \u001b[49m\u001b[38;5;241;43m/\u001b[39;49m\u001b[43m \u001b[49m\u001b[38;5;124;43m'\u001b[39;49m\u001b[38;5;124;43m1\u001b[39;49m\u001b[38;5;124;43m'\u001b[39;49m\n",
      "\u001b[0;31mTypeError\u001b[0m: unsupported operand type(s) for /: 'str' and 'str'"
     ]
    }
   ],
   "source": [
    "'1' / '1'"
   ]
  },
  {
   "cell_type": "code",
   "execution_count": 247,
   "id": "dcff106f-b829-440e-8032-1c23cbda91e7",
   "metadata": {},
   "outputs": [
    {
     "data": {
      "text/plain": [
       "0.5"
      ]
     },
     "execution_count": 247,
     "metadata": {},
     "output_type": "execute_result"
    }
   ],
   "source": [
    "True / 2"
   ]
  },
  {
   "cell_type": "code",
   "execution_count": 249,
   "id": "cb2dc32d-0b79-4b8e-8b5a-51d26d3d2938",
   "metadata": {},
   "outputs": [
    {
     "data": {
      "text/plain": [
       "0.0"
      ]
     },
     "execution_count": 249,
     "metadata": {},
     "output_type": "execute_result"
    }
   ],
   "source": [
    "False / 2"
   ]
  },
  {
   "cell_type": "code",
   "execution_count": 250,
   "id": "9c85189d-fbda-4d9b-a832-bfc03bbfd22f",
   "metadata": {},
   "outputs": [
    {
     "ename": "ZeroDivisionError",
     "evalue": "division by zero",
     "output_type": "error",
     "traceback": [
      "\u001b[0;31m---------------------------------------------------------------------------\u001b[0m",
      "\u001b[0;31mZeroDivisionError\u001b[0m                         Traceback (most recent call last)",
      "Cell \u001b[0;32mIn[250], line 1\u001b[0m\n\u001b[0;32m----> 1\u001b[0m \u001b[38;5;241;43m2\u001b[39;49m\u001b[43m \u001b[49m\u001b[38;5;241;43m/\u001b[39;49m\u001b[43m \u001b[49m\u001b[38;5;28;43;01mFalse\u001b[39;49;00m\n",
      "\u001b[0;31mZeroDivisionError\u001b[0m: division by zero"
     ]
    }
   ],
   "source": [
    "2 / False"
   ]
  },
  {
   "cell_type": "code",
   "execution_count": 251,
   "id": "ccc9088f-e015-449a-964b-096214646856",
   "metadata": {},
   "outputs": [],
   "source": [
    "#isinstance函数：用来判断不同的数据类型"
   ]
  },
  {
   "cell_type": "code",
   "execution_count": 252,
   "id": "aac93d9a-00af-480a-8695-ba939bee7f4c",
   "metadata": {},
   "outputs": [
    {
     "data": {
      "text/plain": [
       "False"
      ]
     },
     "execution_count": 252,
     "metadata": {},
     "output_type": "execute_result"
    }
   ],
   "source": [
    "a = ''\n",
    "bool(isinstance(a, str) and a)"
   ]
  },
  {
   "cell_type": "code",
   "execution_count": 253,
   "id": "73613a3a-d887-4928-82a5-d8052115deab",
   "metadata": {},
   "outputs": [
    {
     "data": {
      "text/plain": [
       "True"
      ]
     },
     "execution_count": 253,
     "metadata": {},
     "output_type": "execute_result"
    }
   ],
   "source": [
    "a = str(False)\n",
    "bool(isinstance(a, str) and a)"
   ]
  },
  {
   "cell_type": "code",
   "execution_count": 254,
   "id": "1999b16a-700d-44ef-ae66-f987a95ce44c",
   "metadata": {},
   "outputs": [
    {
     "data": {
      "text/plain": [
       "True"
      ]
     },
     "execution_count": 254,
     "metadata": {},
     "output_type": "execute_result"
    }
   ],
   "source": [
    "a, b = 'hello', 'world'\n",
    "bool(isinstance(a, str) and a)"
   ]
  },
  {
   "cell_type": "code",
   "execution_count": 255,
   "id": "05fd5de2-60f0-4dbc-b9ff-07d4061c0670",
   "metadata": {},
   "outputs": [
    {
     "data": {
      "text/plain": [
       "False"
      ]
     },
     "execution_count": 255,
     "metadata": {},
     "output_type": "execute_result"
    }
   ],
   "source": [
    "a = 'hello', 'world'\n",
    "bool(isinstance(a, str) and a)"
   ]
  },
  {
   "cell_type": "code",
   "execution_count": 256,
   "id": "14f79775-8e03-47ec-a4d6-e983cf0df65c",
   "metadata": {},
   "outputs": [
    {
     "data": {
      "text/plain": [
       "('hello', 'world')"
      ]
     },
     "execution_count": 256,
     "metadata": {},
     "output_type": "execute_result"
    }
   ],
   "source": [
    "a"
   ]
  },
  {
   "cell_type": "code",
   "execution_count": 257,
   "id": "92c44d47-4d37-4f80-8e4b-720a47dc54ed",
   "metadata": {},
   "outputs": [
    {
     "data": {
      "text/plain": [
       "False"
      ]
     },
     "execution_count": 257,
     "metadata": {},
     "output_type": "execute_result"
    }
   ],
   "source": [
    "a = ('hello', 'world')\n",
    "bool(isinstance(a, str) and a)"
   ]
  },
  {
   "cell_type": "code",
   "execution_count": 258,
   "id": "9bd48106-ed42-4fdb-a974-b1a5dcc764c7",
   "metadata": {},
   "outputs": [],
   "source": [
    "#float 类型数据"
   ]
  },
  {
   "cell_type": "code",
   "execution_count": 259,
   "id": "281559bb-f96f-4325-a43b-939c6415265f",
   "metadata": {},
   "outputs": [],
   "source": [
    "demo_float = 2 / 1"
   ]
  },
  {
   "cell_type": "code",
   "execution_count": 261,
   "id": "cc8de369-9f90-4ba4-96b3-d959315d3984",
   "metadata": {},
   "outputs": [
    {
     "data": {
      "text/plain": [
       "True"
      ]
     },
     "execution_count": 261,
     "metadata": {},
     "output_type": "execute_result"
    }
   ],
   "source": [
    "isinstance(demo_float, float)"
   ]
  },
  {
   "cell_type": "code",
   "execution_count": 262,
   "id": "a1dad94e-da74-4367-a430-23adc321bac7",
   "metadata": {},
   "outputs": [],
   "source": [
    "#对于.find()方法，可以用于查找字符串中的字符，返回的是字符所在的位置！并且要注意的是，只会返回目标字符第一次出现的位置！！！"
   ]
  },
  {
   "cell_type": "code",
   "execution_count": 264,
   "id": "d37bc66a-236b-4ba3-8fc2-acdcc7d5a8b4",
   "metadata": {},
   "outputs": [
    {
     "data": {
      "text/plain": [
       "1"
      ]
     },
     "execution_count": 264,
     "metadata": {},
     "output_type": "execute_result"
    }
   ],
   "source": [
    "'hello'.find('e')"
   ]
  },
  {
   "cell_type": "code",
   "execution_count": 265,
   "id": "d4ef68ad-6a4c-4711-8c83-a945f46e9d9a",
   "metadata": {},
   "outputs": [
    {
     "data": {
      "text/plain": [
       "2"
      ]
     },
     "execution_count": 265,
     "metadata": {},
     "output_type": "execute_result"
    }
   ],
   "source": [
    "'hello'.find('l')"
   ]
  },
  {
   "cell_type": "code",
   "execution_count": 266,
   "id": "56dac599-496a-4f03-aaac-5420c50d212d",
   "metadata": {},
   "outputs": [
    {
     "data": {
      "text/plain": [
       "2"
      ]
     },
     "execution_count": 266,
     "metadata": {},
     "output_type": "execute_result"
    }
   ],
   "source": [
    "'helllllo'.find('l')"
   ]
  },
  {
   "cell_type": "code",
   "execution_count": 267,
   "id": "7b69958a-fcef-411a-baa6-d74e0738dbbc",
   "metadata": {},
   "outputs": [
    {
     "data": {
      "text/plain": [
       "False"
      ]
     },
     "execution_count": 267,
     "metadata": {},
     "output_type": "execute_result"
    }
   ],
   "source": [
    "isinstance(False * 1, float)"
   ]
  },
  {
   "cell_type": "code",
   "execution_count": 268,
   "id": "fed479fa-470c-4d97-ac39-5101b5ae0ef5",
   "metadata": {},
   "outputs": [
    {
     "data": {
      "text/plain": [
       "True"
      ]
     },
     "execution_count": 268,
     "metadata": {},
     "output_type": "execute_result"
    }
   ],
   "source": [
    "bool(True + True)"
   ]
  },
  {
   "cell_type": "code",
   "execution_count": 269,
   "id": "d655a634-84ef-40bd-a3c9-3a0c6799171e",
   "metadata": {},
   "outputs": [
    {
     "data": {
      "text/plain": [
       "2"
      ]
     },
     "execution_count": 269,
     "metadata": {},
     "output_type": "execute_result"
    }
   ],
   "source": [
    "True + True"
   ]
  },
  {
   "cell_type": "code",
   "execution_count": 270,
   "id": "95d3117f-00dd-423c-814d-8ecefc050228",
   "metadata": {},
   "outputs": [],
   "source": [
    "#.farmat()方法，使用来对字符串中的一些值进行定义的，因为字符串中的值一般不是很好改变，但是通过format方法可以做到。"
   ]
  },
  {
   "cell_type": "code",
   "execution_count": 271,
   "id": "4cd3c247-4920-4268-8402-58b4f5e0ce69",
   "metadata": {},
   "outputs": [],
   "source": [
    "text = 'he{letter}{letter}o{letter}, wor{letter}ld'\n",
    "text_new = text.format(letter = 'l')"
   ]
  },
  {
   "cell_type": "code",
   "execution_count": 272,
   "id": "11637864-9c2d-445e-8e66-d0acef969385",
   "metadata": {},
   "outputs": [
    {
     "data": {
      "text/plain": [
       "'hellol, worlld'"
      ]
     },
     "execution_count": 272,
     "metadata": {},
     "output_type": "execute_result"
    }
   ],
   "source": [
    "text_new"
   ]
  },
  {
   "cell_type": "code",
   "execution_count": 273,
   "id": "2c83697a-4000-4c81-b6db-a3240756684b",
   "metadata": {},
   "outputs": [
    {
     "data": {
      "text/plain": [
       "'hello, world'"
      ]
     },
     "execution_count": 273,
     "metadata": {},
     "output_type": "execute_result"
    }
   ],
   "source": [
    "audience = 'world'\n",
    "f'hello, {audience}'"
   ]
  },
  {
   "cell_type": "code",
   "execution_count": 274,
   "id": "6e069029-bdd7-422f-83ed-4cf523d23a01",
   "metadata": {},
   "outputs": [],
   "source": [
    "a = {'a': 'a',\n",
    "     'A': 'a'}"
   ]
  },
  {
   "cell_type": "code",
   "execution_count": 278,
   "id": "271a4495-5789-4ccf-b4e5-532fda4cb66f",
   "metadata": {},
   "outputs": [],
   "source": [
    "a.update({'a': 'b'})"
   ]
  },
  {
   "cell_type": "code",
   "execution_count": null,
   "id": "d7337730-b527-45ff-b2fa-118fd540c933",
   "metadata": {},
   "outputs": [],
   "source": []
  },
  {
   "cell_type": "code",
   "execution_count": 279,
   "id": "6a729801-33c3-4ce9-b403-50d9526c0931",
   "metadata": {},
   "outputs": [
    {
     "data": {
      "text/plain": [
       "{'a': 'b', 'A': 'a'}"
      ]
     },
     "execution_count": 279,
     "metadata": {},
     "output_type": "execute_result"
    }
   ],
   "source": [
    "a"
   ]
  },
  {
   "cell_type": "code",
   "execution_count": 280,
   "id": "887f9ac6-90a8-4d49-a4b7-2d05845a839d",
   "metadata": {},
   "outputs": [
    {
     "data": {
      "text/plain": [
       "'b'"
      ]
     },
     "execution_count": 280,
     "metadata": {},
     "output_type": "execute_result"
    }
   ],
   "source": [
    "a.get('a')"
   ]
  },
  {
   "cell_type": "code",
   "execution_count": 282,
   "id": "2af7421b-e71f-44c8-95e9-ca778822db9d",
   "metadata": {},
   "outputs": [
    {
     "data": {
      "text/plain": [
       "'b'"
      ]
     },
     "execution_count": 282,
     "metadata": {},
     "output_type": "execute_result"
    }
   ],
   "source": [
    "a['a']"
   ]
  },
  {
   "cell_type": "code",
   "execution_count": 283,
   "id": "38530aa1-8713-4a07-ae88-c6024f90661b",
   "metadata": {},
   "outputs": [],
   "source": [
    "a = {'a': 'a',\n",
    "     'A': 'a'}"
   ]
  },
  {
   "cell_type": "code",
   "execution_count": 284,
   "id": "0840dcee-3d90-4c32-8366-861da89c03f5",
   "metadata": {},
   "outputs": [
    {
     "data": {
      "text/plain": [
       "'a'"
      ]
     },
     "execution_count": 284,
     "metadata": {},
     "output_type": "execute_result"
    }
   ],
   "source": [
    "a.get('a')"
   ]
  },
  {
   "cell_type": "code",
   "execution_count": 285,
   "id": "a01c3617-5f4e-4cf4-adf4-498c136d0729",
   "metadata": {},
   "outputs": [],
   "source": [
    "a['a'] = 'b'"
   ]
  },
  {
   "cell_type": "code",
   "execution_count": 286,
   "id": "83cefa99-ef0d-4e2a-b59d-d64ffb0f293a",
   "metadata": {},
   "outputs": [
    {
     "data": {
      "text/plain": [
       "'b'"
      ]
     },
     "execution_count": 286,
     "metadata": {},
     "output_type": "execute_result"
    }
   ],
   "source": [
    "a['a']"
   ]
  },
  {
   "cell_type": "code",
   "execution_count": 287,
   "id": "181c5f67-1cc0-40fd-9f9e-a4e608f3fdbd",
   "metadata": {},
   "outputs": [],
   "source": [
    "a = {'a': 'a',\n",
    "     'A': 'a'}"
   ]
  },
  {
   "cell_type": "code",
   "execution_count": 288,
   "id": "f75dcdc5-2f90-48ff-901f-abc9ab142d6d",
   "metadata": {},
   "outputs": [
    {
     "ename": "SyntaxError",
     "evalue": "cannot assign to function call here. Maybe you meant '==' instead of '='? (1973547622.py, line 1)",
     "output_type": "error",
     "traceback": [
      "\u001b[0;36m  Cell \u001b[0;32mIn[288], line 1\u001b[0;36m\u001b[0m\n\u001b[0;31m    a.get('a') = 'b'\u001b[0m\n\u001b[0m    ^\u001b[0m\n\u001b[0;31mSyntaxError\u001b[0m\u001b[0;31m:\u001b[0m cannot assign to function call here. Maybe you meant '==' instead of '='?\n"
     ]
    }
   ],
   "source": [
    "a.get('a') = 'b'"
   ]
  },
  {
   "cell_type": "code",
   "execution_count": 290,
   "id": "03e1e134-2b20-4ca3-bd4c-1394520ffd4d",
   "metadata": {},
   "outputs": [],
   "source": [
    "#列表的加减合并："
   ]
  },
  {
   "cell_type": "code",
   "execution_count": 291,
   "id": "4430953e-17aa-43e3-a91f-7893cc32a916",
   "metadata": {},
   "outputs": [],
   "source": [
    "a = [1, 2, 3]\n",
    "b = ['a', 'b', 'c']"
   ]
  },
  {
   "cell_type": "code",
   "execution_count": 292,
   "id": "10d01206-5288-4dff-84fe-1649b8a8d131",
   "metadata": {},
   "outputs": [
    {
     "data": {
      "text/plain": [
       "[1, 2, 3, 'a', 'b', 'c']"
      ]
     },
     "execution_count": 292,
     "metadata": {},
     "output_type": "execute_result"
    }
   ],
   "source": [
    "a + b\n",
    "#直接相加，相当于元素合并，不是列表直接相加。"
   ]
  },
  {
   "cell_type": "code",
   "execution_count": 293,
   "id": "8c7d006e-87c2-41e4-959e-651158089271",
   "metadata": {},
   "outputs": [],
   "source": [
    "a.append(b)"
   ]
  },
  {
   "cell_type": "code",
   "execution_count": 294,
   "id": "c166c4f0-8201-41b3-879a-55956e982a67",
   "metadata": {},
   "outputs": [
    {
     "data": {
      "text/plain": [
       "[1, 2, 3, ['a', 'b', 'c']]"
      ]
     },
     "execution_count": 294,
     "metadata": {},
     "output_type": "execute_result"
    }
   ],
   "source": [
    "a"
   ]
  },
  {
   "cell_type": "code",
   "execution_count": 295,
   "id": "c9c0ffaa-f041-4b4c-9133-7af564ce054c",
   "metadata": {},
   "outputs": [],
   "source": [
    "#用append方法会导致列表整体的加入，也就是列表会作为一个元素储存在打列表中"
   ]
  },
  {
   "cell_type": "code",
   "execution_count": 296,
   "id": "8fdb4cef-017e-4620-9eae-cfc34721a653",
   "metadata": {},
   "outputs": [],
   "source": [
    "a.extend(b)"
   ]
  },
  {
   "cell_type": "code",
   "execution_count": 297,
   "id": "d182aadc-1516-42b8-b5d6-94bed27802ce",
   "metadata": {},
   "outputs": [],
   "source": [
    "a = [1, 2, 3]\n",
    "b = ['a', 'b', 'c']"
   ]
  },
  {
   "cell_type": "code",
   "execution_count": 298,
   "id": "a0ae888a-5b88-44a7-82ae-b05821c06cc8",
   "metadata": {},
   "outputs": [],
   "source": [
    "a.extend(b)"
   ]
  },
  {
   "cell_type": "code",
   "execution_count": 299,
   "id": "fd36c810-3648-432b-9f84-70898fdacc25",
   "metadata": {},
   "outputs": [
    {
     "data": {
      "text/plain": [
       "[1, 2, 3, 'a', 'b', 'c']"
      ]
     },
     "execution_count": 299,
     "metadata": {},
     "output_type": "execute_result"
    }
   ],
   "source": [
    "a"
   ]
  },
  {
   "cell_type": "code",
   "execution_count": 300,
   "id": "51e9ba03-c674-4589-9446-72b5f58e1f72",
   "metadata": {},
   "outputs": [],
   "source": [
    "#a.extend()方法和+的作用相同"
   ]
  },
  {
   "cell_type": "code",
   "execution_count": 301,
   "id": "adbdb029-a58f-4208-b18d-1ab5ac7161f2",
   "metadata": {},
   "outputs": [],
   "source": [
    "a = [1, 2, 3]\n",
    "b = ['a', 'b', 'c']"
   ]
  },
  {
   "cell_type": "code",
   "execution_count": 302,
   "id": "6e2990db-a77b-421c-94a2-f701f19c5aef",
   "metadata": {},
   "outputs": [
    {
     "data": {
      "text/plain": [
       "3"
      ]
     },
     "execution_count": 302,
     "metadata": {},
     "output_type": "execute_result"
    }
   ],
   "source": [
    "a[-1]"
   ]
  },
  {
   "cell_type": "code",
   "execution_count": 303,
   "id": "2b70cd43-38f9-4740-8cfe-ff09f0e0c8ac",
   "metadata": {},
   "outputs": [],
   "source": [
    "a = [1, 2]\n",
    "b = ['a', 'b', 'c']"
   ]
  },
  {
   "cell_type": "code",
   "execution_count": 304,
   "id": "fad4f140-3a62-42f4-a273-ecea753843ff",
   "metadata": {},
   "outputs": [
    {
     "data": {
      "text/plain": [
       "2"
      ]
     },
     "execution_count": 304,
     "metadata": {},
     "output_type": "execute_result"
    }
   ],
   "source": [
    "a[-1]"
   ]
  },
  {
   "cell_type": "code",
   "execution_count": 305,
   "id": "4a024d09-856e-46c1-8cab-ce687f6bd1ce",
   "metadata": {},
   "outputs": [],
   "source": [
    "a = ['a', 'b']"
   ]
  },
  {
   "cell_type": "code",
   "execution_count": 306,
   "id": "5a0f3fb8-f073-42e6-a4a0-9bb4c5ac3845",
   "metadata": {},
   "outputs": [
    {
     "data": {
      "text/plain": [
       "'b'"
      ]
     },
     "execution_count": 306,
     "metadata": {},
     "output_type": "execute_result"
    }
   ],
   "source": [
    "a[-1]"
   ]
  },
  {
   "cell_type": "code",
   "execution_count": 307,
   "id": "ede992c0-7c76-4b2f-87e5-1729f27676e8",
   "metadata": {},
   "outputs": [
    {
     "data": {
      "text/plain": [
       "int"
      ]
     },
     "execution_count": 307,
     "metadata": {},
     "output_type": "execute_result"
    }
   ],
   "source": [
    "type((3)) #整数！"
   ]
  },
  {
   "cell_type": "code",
   "execution_count": 308,
   "id": "5773f054-a5c3-4dad-9bdd-246d3f0f69bb",
   "metadata": {},
   "outputs": [],
   "source": [
    "a = tuple([1])"
   ]
  },
  {
   "cell_type": "code",
   "execution_count": 309,
   "id": "4c555b82-8163-4cae-ac2a-4438b879325a",
   "metadata": {},
   "outputs": [
    {
     "data": {
      "text/plain": [
       "tuple"
      ]
     },
     "execution_count": 309,
     "metadata": {},
     "output_type": "execute_result"
    }
   ],
   "source": [
    "type(a)"
   ]
  },
  {
   "cell_type": "code",
   "execution_count": 310,
   "id": "7db3ce73-3c00-4501-ae57-a77f679f0d39",
   "metadata": {},
   "outputs": [
    {
     "data": {
      "text/plain": [
       "1"
      ]
     },
     "execution_count": 310,
     "metadata": {},
     "output_type": "execute_result"
    }
   ],
   "source": [
    "len(a)"
   ]
  },
  {
   "cell_type": "code",
   "execution_count": 311,
   "id": "8dd10e60-d1de-46ab-98d8-0dbb3a608481",
   "metadata": {},
   "outputs": [],
   "source": [
    "a = (1, 2)[-1:]"
   ]
  },
  {
   "cell_type": "code",
   "execution_count": 312,
   "id": "b59314ca-8b32-490d-9e16-50572be54ae0",
   "metadata": {},
   "outputs": [
    {
     "data": {
      "text/plain": [
       "tuple"
      ]
     },
     "execution_count": 312,
     "metadata": {},
     "output_type": "execute_result"
    }
   ],
   "source": [
    "type(a)"
   ]
  },
  {
   "cell_type": "code",
   "execution_count": 313,
   "id": "ee0c4176-7b14-42ae-8151-12c834d240ab",
   "metadata": {},
   "outputs": [
    {
     "data": {
      "text/plain": [
       "1"
      ]
     },
     "execution_count": 313,
     "metadata": {},
     "output_type": "execute_result"
    }
   ],
   "source": [
    "len(a)"
   ]
  },
  {
   "cell_type": "code",
   "execution_count": 314,
   "id": "799695a5-0945-4dfe-bff6-3f3fcc018cd4",
   "metadata": {},
   "outputs": [
    {
     "data": {
      "text/plain": [
       "(2,)"
      ]
     },
     "execution_count": 314,
     "metadata": {},
     "output_type": "execute_result"
    }
   ],
   "source": [
    "a"
   ]
  },
  {
   "cell_type": "code",
   "execution_count": 315,
   "id": "61c73262-30e1-4250-b384-5e382491669b",
   "metadata": {},
   "outputs": [],
   "source": [
    "a = (1, 2)[:1]"
   ]
  },
  {
   "cell_type": "code",
   "execution_count": 316,
   "id": "20592da7-3871-4be6-8673-fa01d0996a8e",
   "metadata": {},
   "outputs": [
    {
     "data": {
      "text/plain": [
       "tuple"
      ]
     },
     "execution_count": 316,
     "metadata": {},
     "output_type": "execute_result"
    }
   ],
   "source": [
    "type(a)"
   ]
  },
  {
   "cell_type": "code",
   "execution_count": 317,
   "id": "627f3fbe-88aa-42bb-905b-58406733708c",
   "metadata": {},
   "outputs": [
    {
     "data": {
      "text/plain": [
       "1"
      ]
     },
     "execution_count": 317,
     "metadata": {},
     "output_type": "execute_result"
    }
   ],
   "source": [
    "len(a)"
   ]
  },
  {
   "cell_type": "code",
   "execution_count": 318,
   "id": "38befd33-3edf-4700-88c4-65494caa39d1",
   "metadata": {},
   "outputs": [
    {
     "data": {
      "text/plain": [
       "(1,)"
      ]
     },
     "execution_count": 318,
     "metadata": {},
     "output_type": "execute_result"
    }
   ],
   "source": [
    "a"
   ]
  },
  {
   "cell_type": "code",
   "execution_count": 319,
   "id": "a40eb5b8-30ea-4421-8991-9b130c2bcbf3",
   "metadata": {},
   "outputs": [],
   "source": [
    "a = (1, 2)[:0]"
   ]
  },
  {
   "cell_type": "code",
   "execution_count": 320,
   "id": "c8e37052-2c00-46cf-870a-2a759096ed75",
   "metadata": {},
   "outputs": [
    {
     "data": {
      "text/plain": [
       "tuple"
      ]
     },
     "execution_count": 320,
     "metadata": {},
     "output_type": "execute_result"
    }
   ],
   "source": [
    "type(a)"
   ]
  },
  {
   "cell_type": "code",
   "execution_count": 321,
   "id": "e6084848-f227-4b36-b191-c6fa704eb0d4",
   "metadata": {},
   "outputs": [
    {
     "data": {
      "text/plain": [
       "0"
      ]
     },
     "execution_count": 321,
     "metadata": {},
     "output_type": "execute_result"
    }
   ],
   "source": [
    "len(a)"
   ]
  },
  {
   "cell_type": "code",
   "execution_count": 322,
   "id": "d67340ca-b43d-4701-a8a0-1359b2ec996d",
   "metadata": {},
   "outputs": [
    {
     "data": {
      "text/plain": [
       "()"
      ]
     },
     "execution_count": 322,
     "metadata": {},
     "output_type": "execute_result"
    }
   ],
   "source": [
    "a"
   ]
  },
  {
   "cell_type": "code",
   "execution_count": 325,
   "id": "ba6f92fa-7030-43fa-80ae-f31aad899d51",
   "metadata": {},
   "outputs": [],
   "source": [
    "a = (1,  1)"
   ]
  },
  {
   "cell_type": "code",
   "execution_count": null,
   "id": "c4fd6204-2dba-4777-9231-b9904fd09363",
   "metadata": {},
   "outputs": [],
   "source": []
  },
  {
   "cell_type": "code",
   "execution_count": 326,
   "id": "25d89fcd-bcff-4547-bbec-d03063a6f1f7",
   "metadata": {},
   "outputs": [],
   "source": [
    "a = a + a"
   ]
  },
  {
   "cell_type": "code",
   "execution_count": 327,
   "id": "55b72b5c-e065-4d4c-a81b-a8c4a811b072",
   "metadata": {},
   "outputs": [
    {
     "data": {
      "text/plain": [
       "(1, 1, 1, 1)"
      ]
     },
     "execution_count": 327,
     "metadata": {},
     "output_type": "execute_result"
    }
   ],
   "source": [
    "a"
   ]
  },
  {
   "cell_type": "code",
   "execution_count": 328,
   "id": "7ae60afb-6b95-4f88-b19d-d582ffd6d640",
   "metadata": {},
   "outputs": [],
   "source": [
    "a = {'a': 1,}"
   ]
  },
  {
   "cell_type": "code",
   "execution_count": 329,
   "id": "1713de7b-6198-4f3f-98ab-893134b13c55",
   "metadata": {},
   "outputs": [],
   "source": [
    "a = [1, 2]"
   ]
  },
  {
   "cell_type": "code",
   "execution_count": 330,
   "id": "5fc10917-c44f-408d-8418-cf8b75f1dcc2",
   "metadata": {},
   "outputs": [],
   "source": [
    "a = a.append(3)"
   ]
  },
  {
   "cell_type": "code",
   "execution_count": 331,
   "id": "4d158188-6da3-4069-8110-7c7db20fd09f",
   "metadata": {},
   "outputs": [],
   "source": [
    "a"
   ]
  },
  {
   "cell_type": "code",
   "execution_count": 334,
   "id": "b0b36d6b-5036-4c7e-860a-b23a97cd6986",
   "metadata": {},
   "outputs": [
    {
     "data": {
      "text/plain": [
       "NoneType"
      ]
     },
     "execution_count": 334,
     "metadata": {},
     "output_type": "execute_result"
    }
   ],
   "source": [
    "type(a)"
   ]
  },
  {
   "cell_type": "code",
   "execution_count": 335,
   "id": "8c1ec73f-70a3-4c7a-8792-b9b7f95fbcb3",
   "metadata": {},
   "outputs": [],
   "source": [
    "a = [1, 2]"
   ]
  },
  {
   "cell_type": "code",
   "execution_count": 336,
   "id": "d2a195f2-703f-40ec-81f7-cde0a9e04d46",
   "metadata": {},
   "outputs": [
    {
     "ename": "TypeError",
     "evalue": "can only concatenate list (not \"int\") to list",
     "output_type": "error",
     "traceback": [
      "\u001b[0;31m---------------------------------------------------------------------------\u001b[0m",
      "\u001b[0;31mTypeError\u001b[0m                                 Traceback (most recent call last)",
      "Cell \u001b[0;32mIn[336], line 1\u001b[0m\n\u001b[0;32m----> 1\u001b[0m b \u001b[38;5;241m=\u001b[39m \u001b[43ma\u001b[49m\u001b[43m \u001b[49m\u001b[38;5;241;43m+\u001b[39;49m\u001b[43m \u001b[49m\u001b[38;5;241;43m3\u001b[39;49m\n",
      "\u001b[0;31mTypeError\u001b[0m: can only concatenate list (not \"int\") to list"
     ]
    }
   ],
   "source": [
    "b = a + 3"
   ]
  },
  {
   "cell_type": "code",
   "execution_count": 337,
   "id": "e2339f88-c46a-4c84-8afa-43fc170fd380",
   "metadata": {},
   "outputs": [],
   "source": [
    "a = [1, 2]\n",
    "b = a + [3]\n",
    "c = a\n",
    "d = a.copy()\n",
    "a.append(4)\n",
    "c.extend([5])"
   ]
  },
  {
   "cell_type": "code",
   "execution_count": 338,
   "id": "f736ed98-b022-4296-988e-51a9d5a7ce08",
   "metadata": {},
   "outputs": [
    {
     "data": {
      "text/plain": [
       "[1, 2, 4, 5]"
      ]
     },
     "execution_count": 338,
     "metadata": {},
     "output_type": "execute_result"
    }
   ],
   "source": [
    "a"
   ]
  },
  {
   "cell_type": "code",
   "execution_count": 339,
   "id": "a9e042aa-0f5d-428d-a560-f3a1f6cfba2e",
   "metadata": {},
   "outputs": [
    {
     "data": {
      "text/plain": [
       "[1, 2, 3]"
      ]
     },
     "execution_count": 339,
     "metadata": {},
     "output_type": "execute_result"
    }
   ],
   "source": [
    "b"
   ]
  },
  {
   "cell_type": "code",
   "execution_count": 340,
   "id": "f87513d1-56be-4c9f-8d30-e9a36030bd46",
   "metadata": {},
   "outputs": [
    {
     "data": {
      "text/plain": [
       "[1, 2, 4, 5]"
      ]
     },
     "execution_count": 340,
     "metadata": {},
     "output_type": "execute_result"
    }
   ],
   "source": [
    "c"
   ]
  },
  {
   "cell_type": "code",
   "execution_count": 341,
   "id": "070c633a-db28-4331-9416-1299f1e09968",
   "metadata": {},
   "outputs": [
    {
     "data": {
      "text/plain": [
       "[1, 2]"
      ]
     },
     "execution_count": 341,
     "metadata": {},
     "output_type": "execute_result"
    }
   ],
   "source": [
    "d"
   ]
  },
  {
   "cell_type": "code",
   "execution_count": 342,
   "id": "c4df7497-0b90-4ee9-bcd0-e0df64b1d94a",
   "metadata": {},
   "outputs": [],
   "source": [
    "a = [1, 2]"
   ]
  },
  {
   "cell_type": "code",
   "execution_count": 343,
   "id": "4200b5dc-1a01-41da-83f9-5559afc580ca",
   "metadata": {},
   "outputs": [],
   "source": [
    "b = (1, 2)"
   ]
  },
  {
   "cell_type": "code",
   "execution_count": 344,
   "id": "3c57a8bf-3467-4a19-a59f-6767a6c5123a",
   "metadata": {},
   "outputs": [
    {
     "ename": "IndexError",
     "evalue": "list assignment index out of range",
     "output_type": "error",
     "traceback": [
      "\u001b[0;31m---------------------------------------------------------------------------\u001b[0m",
      "\u001b[0;31mIndexError\u001b[0m                                Traceback (most recent call last)",
      "Cell \u001b[0;32mIn[344], line 1\u001b[0m\n\u001b[0;32m----> 1\u001b[0m \u001b[43ma\u001b[49m\u001b[43m[\u001b[49m\u001b[38;5;241;43m2\u001b[39;49m\u001b[43m]\u001b[49m \u001b[38;5;241m=\u001b[39m b\n",
      "\u001b[0;31mIndexError\u001b[0m: list assignment index out of range"
     ]
    }
   ],
   "source": [
    "a[2] = b"
   ]
  },
  {
   "cell_type": "code",
   "execution_count": 345,
   "id": "96432f5b-5d1f-4c4f-a27b-aae2674cb0c5",
   "metadata": {},
   "outputs": [],
   "source": [
    "a.append(b)"
   ]
  },
  {
   "cell_type": "code",
   "execution_count": 346,
   "id": "c3e717c0-6a81-40d6-a979-6f2c0724918f",
   "metadata": {},
   "outputs": [
    {
     "data": {
      "text/plain": [
       "[1, 2, (1, 2)]"
      ]
     },
     "execution_count": 346,
     "metadata": {},
     "output_type": "execute_result"
    }
   ],
   "source": [
    "a"
   ]
  },
  {
   "cell_type": "code",
   "execution_count": 347,
   "id": "dd4f9df8-7ed2-4616-9d2c-a8c3a02c49b9",
   "metadata": {},
   "outputs": [],
   "source": [
    "demo_map = {'a': 1, 'b': [1, 2, 3]}"
   ]
  },
  {
   "cell_type": "code",
   "execution_count": 350,
   "id": "99e07114-16e4-4b83-adc5-5afc7f54a18a",
   "metadata": {},
   "outputs": [
    {
     "name": "stdout",
     "output_type": "stream",
     "text": [
      "a\n",
      "1\n",
      "b\n",
      "[1, 2, 3]\n"
     ]
    }
   ],
   "source": [
    "for i in demo_map:\n",
    "    print(i)\n",
    "    print(demo_map[i])"
   ]
  },
  {
   "cell_type": "code",
   "execution_count": 351,
   "id": "5eac5708-0e7c-48d5-b428-5f7a4f3c17f9",
   "metadata": {},
   "outputs": [],
   "source": [
    "# the frequency of data will change"
   ]
  },
  {
   "cell_type": "code",
   "execution_count": 352,
   "id": "baa25fc8-ab4b-4796-844e-a46bd44521f2",
   "metadata": {},
   "outputs": [],
   "source": [
    "import pandas as pd"
   ]
  },
  {
   "cell_type": "code",
   "execution_count": 361,
   "id": "7bbdfa59-9e71-4f28-8ba7-0c12e1157d32",
   "metadata": {},
   "outputs": [],
   "source": [
    "a = pd.DataFrame([{'city': 'new york', 'lon': 100},\n",
    "                  {'city': 'san francisco', 'lon': 120}])\n",
    "b = pd.DataFrame([{'hospital': 'A', 'city': 'new york', 'beds': 90},\n",
    "                  {'hospital': 'B', 'city': 'new york', 'beds': 20},\n",
    "                  {'hospital': 'A', 'city': 'austin', 'beds': 210}])"
   ]
  },
  {
   "cell_type": "code",
   "execution_count": null,
   "id": "9fabeea4-1a38-4b70-afa8-b4006486058c",
   "metadata": {},
   "outputs": [],
   "source": []
  },
  {
   "cell_type": "code",
   "execution_count": null,
   "id": "022022d5-fda1-4f2b-8b69-06c6e7cd27ce",
   "metadata": {},
   "outputs": [],
   "source": []
  },
  {
   "cell_type": "code",
   "execution_count": 355,
   "id": "07cf0025-1c7c-4932-9453-920942d3fad1",
   "metadata": {},
   "outputs": [
    {
     "data": {
      "text/html": [
       "<div>\n",
       "<style scoped>\n",
       "    .dataframe tbody tr th:only-of-type {\n",
       "        vertical-align: middle;\n",
       "    }\n",
       "\n",
       "    .dataframe tbody tr th {\n",
       "        vertical-align: top;\n",
       "    }\n",
       "\n",
       "    .dataframe thead th {\n",
       "        text-align: right;\n",
       "    }\n",
       "</style>\n",
       "<table border=\"1\" class=\"dataframe\">\n",
       "  <thead>\n",
       "    <tr style=\"text-align: right;\">\n",
       "      <th></th>\n",
       "      <th>city</th>\n",
       "      <th>lon</th>\n",
       "      <th>hospital</th>\n",
       "      <th>beds</th>\n",
       "    </tr>\n",
       "  </thead>\n",
       "  <tbody>\n",
       "    <tr>\n",
       "      <th>0</th>\n",
       "      <td>new york</td>\n",
       "      <td>100</td>\n",
       "      <td>A</td>\n",
       "      <td>90</td>\n",
       "    </tr>\n",
       "    <tr>\n",
       "      <th>1</th>\n",
       "      <td>new york</td>\n",
       "      <td>100</td>\n",
       "      <td>B</td>\n",
       "      <td>20</td>\n",
       "    </tr>\n",
       "  </tbody>\n",
       "</table>\n",
       "</div>"
      ],
      "text/plain": [
       "       city  lon hospital  beds\n",
       "0  new york  100        A    90\n",
       "1  new york  100        B    20"
      ]
     },
     "execution_count": 355,
     "metadata": {},
     "output_type": "execute_result"
    }
   ],
   "source": [
    "a.merge(b, on='city')"
   ]
  },
  {
   "cell_type": "code",
   "execution_count": 356,
   "id": "feb2dcca-d049-4836-a304-9dfcd96b29a4",
   "metadata": {},
   "outputs": [
    {
     "data": {
      "text/html": [
       "<div>\n",
       "<style scoped>\n",
       "    .dataframe tbody tr th:only-of-type {\n",
       "        vertical-align: middle;\n",
       "    }\n",
       "\n",
       "    .dataframe tbody tr th {\n",
       "        vertical-align: top;\n",
       "    }\n",
       "\n",
       "    .dataframe thead th {\n",
       "        text-align: right;\n",
       "    }\n",
       "</style>\n",
       "<table border=\"1\" class=\"dataframe\">\n",
       "  <thead>\n",
       "    <tr style=\"text-align: right;\">\n",
       "      <th></th>\n",
       "      <th>city</th>\n",
       "      <th>lon</th>\n",
       "    </tr>\n",
       "  </thead>\n",
       "  <tbody>\n",
       "    <tr>\n",
       "      <th>0</th>\n",
       "      <td>new york</td>\n",
       "      <td>100</td>\n",
       "    </tr>\n",
       "    <tr>\n",
       "      <th>1</th>\n",
       "      <td>san francisco</td>\n",
       "      <td>120</td>\n",
       "    </tr>\n",
       "  </tbody>\n",
       "</table>\n",
       "</div>"
      ],
      "text/plain": [
       "            city  lon\n",
       "0       new york  100\n",
       "1  san francisco  120"
      ]
     },
     "execution_count": 356,
     "metadata": {},
     "output_type": "execute_result"
    }
   ],
   "source": [
    "a"
   ]
  },
  {
   "cell_type": "code",
   "execution_count": 357,
   "id": "4bda20b1-8edb-4ca9-b40a-8e0abf724b89",
   "metadata": {},
   "outputs": [
    {
     "data": {
      "text/html": [
       "<div>\n",
       "<style scoped>\n",
       "    .dataframe tbody tr th:only-of-type {\n",
       "        vertical-align: middle;\n",
       "    }\n",
       "\n",
       "    .dataframe tbody tr th {\n",
       "        vertical-align: top;\n",
       "    }\n",
       "\n",
       "    .dataframe thead th {\n",
       "        text-align: right;\n",
       "    }\n",
       "</style>\n",
       "<table border=\"1\" class=\"dataframe\">\n",
       "  <thead>\n",
       "    <tr style=\"text-align: right;\">\n",
       "      <th></th>\n",
       "      <th>hospital</th>\n",
       "      <th>city</th>\n",
       "      <th>beds</th>\n",
       "    </tr>\n",
       "  </thead>\n",
       "  <tbody>\n",
       "    <tr>\n",
       "      <th>0</th>\n",
       "      <td>A</td>\n",
       "      <td>new york</td>\n",
       "      <td>90</td>\n",
       "    </tr>\n",
       "    <tr>\n",
       "      <th>1</th>\n",
       "      <td>B</td>\n",
       "      <td>new york</td>\n",
       "      <td>20</td>\n",
       "    </tr>\n",
       "    <tr>\n",
       "      <th>2</th>\n",
       "      <td>A</td>\n",
       "      <td>austin</td>\n",
       "      <td>210</td>\n",
       "    </tr>\n",
       "  </tbody>\n",
       "</table>\n",
       "</div>"
      ],
      "text/plain": [
       "  hospital      city  beds\n",
       "0        A  new york    90\n",
       "1        B  new york    20\n",
       "2        A    austin   210"
      ]
     },
     "execution_count": 357,
     "metadata": {},
     "output_type": "execute_result"
    }
   ],
   "source": [
    "b"
   ]
  },
  {
   "cell_type": "code",
   "execution_count": 358,
   "id": "a1adac87-11da-4c89-b67a-f39938cdd54d",
   "metadata": {},
   "outputs": [],
   "source": [
    "#内部连接(默认)只会合并存在于两个数据集中的记录。注意，当有多个匹配时将发生复制。merge()"
   ]
  },
  {
   "cell_type": "code",
   "execution_count": 362,
   "id": "1e298efd-ae22-4839-9e5e-782e35ccf9b4",
   "metadata": {},
   "outputs": [
    {
     "data": {
      "text/html": [
       "<div>\n",
       "<style scoped>\n",
       "    .dataframe tbody tr th:only-of-type {\n",
       "        vertical-align: middle;\n",
       "    }\n",
       "\n",
       "    .dataframe tbody tr th {\n",
       "        vertical-align: top;\n",
       "    }\n",
       "\n",
       "    .dataframe thead th {\n",
       "        text-align: right;\n",
       "    }\n",
       "</style>\n",
       "<table border=\"1\" class=\"dataframe\">\n",
       "  <thead>\n",
       "    <tr style=\"text-align: right;\">\n",
       "      <th></th>\n",
       "      <th>city</th>\n",
       "      <th>lon</th>\n",
       "      <th>hospital</th>\n",
       "      <th>beds</th>\n",
       "    </tr>\n",
       "  </thead>\n",
       "  <tbody>\n",
       "    <tr>\n",
       "      <th>0</th>\n",
       "      <td>austin</td>\n",
       "      <td>NaN</td>\n",
       "      <td>A</td>\n",
       "      <td>210.0</td>\n",
       "    </tr>\n",
       "    <tr>\n",
       "      <th>1</th>\n",
       "      <td>new york</td>\n",
       "      <td>100.0</td>\n",
       "      <td>A</td>\n",
       "      <td>90.0</td>\n",
       "    </tr>\n",
       "    <tr>\n",
       "      <th>2</th>\n",
       "      <td>new york</td>\n",
       "      <td>100.0</td>\n",
       "      <td>B</td>\n",
       "      <td>20.0</td>\n",
       "    </tr>\n",
       "    <tr>\n",
       "      <th>3</th>\n",
       "      <td>san francisco</td>\n",
       "      <td>120.0</td>\n",
       "      <td>NaN</td>\n",
       "      <td>NaN</td>\n",
       "    </tr>\n",
       "  </tbody>\n",
       "</table>\n",
       "</div>"
      ],
      "text/plain": [
       "            city    lon hospital   beds\n",
       "0         austin    NaN        A  210.0\n",
       "1       new york  100.0        A   90.0\n",
       "2       new york  100.0        B   20.0\n",
       "3  san francisco  120.0      NaN    NaN"
      ]
     },
     "execution_count": 362,
     "metadata": {},
     "output_type": "execute_result"
    }
   ],
   "source": [
    "a.merge(b, on='city', how='outer')"
   ]
  },
  {
   "cell_type": "code",
   "execution_count": 363,
   "id": "4c6f6a6f-ef6c-49a9-8728-a7fd77ef1655",
   "metadata": {},
   "outputs": [
    {
     "data": {
      "text/html": [
       "<div>\n",
       "<style scoped>\n",
       "    .dataframe tbody tr th:only-of-type {\n",
       "        vertical-align: middle;\n",
       "    }\n",
       "\n",
       "    .dataframe tbody tr th {\n",
       "        vertical-align: top;\n",
       "    }\n",
       "\n",
       "    .dataframe thead th {\n",
       "        text-align: right;\n",
       "    }\n",
       "</style>\n",
       "<table border=\"1\" class=\"dataframe\">\n",
       "  <thead>\n",
       "    <tr style=\"text-align: right;\">\n",
       "      <th></th>\n",
       "      <th>hospital</th>\n",
       "      <th>city</th>\n",
       "      <th>beds</th>\n",
       "      <th>lon</th>\n",
       "    </tr>\n",
       "  </thead>\n",
       "  <tbody>\n",
       "    <tr>\n",
       "      <th>0</th>\n",
       "      <td>A</td>\n",
       "      <td>austin</td>\n",
       "      <td>210.0</td>\n",
       "      <td>NaN</td>\n",
       "    </tr>\n",
       "    <tr>\n",
       "      <th>1</th>\n",
       "      <td>A</td>\n",
       "      <td>new york</td>\n",
       "      <td>90.0</td>\n",
       "      <td>100.0</td>\n",
       "    </tr>\n",
       "    <tr>\n",
       "      <th>2</th>\n",
       "      <td>B</td>\n",
       "      <td>new york</td>\n",
       "      <td>20.0</td>\n",
       "      <td>100.0</td>\n",
       "    </tr>\n",
       "    <tr>\n",
       "      <th>3</th>\n",
       "      <td>NaN</td>\n",
       "      <td>san francisco</td>\n",
       "      <td>NaN</td>\n",
       "      <td>120.0</td>\n",
       "    </tr>\n",
       "  </tbody>\n",
       "</table>\n",
       "</div>"
      ],
      "text/plain": [
       "  hospital           city   beds    lon\n",
       "0        A         austin  210.0    NaN\n",
       "1        A       new york   90.0  100.0\n",
       "2        B       new york   20.0  100.0\n",
       "3      NaN  san francisco    NaN  120.0"
      ]
     },
     "execution_count": 363,
     "metadata": {},
     "output_type": "execute_result"
    }
   ],
   "source": [
    "b.merge(a, on = 'city', how = 'outer')"
   ]
  },
  {
   "cell_type": "code",
   "execution_count": null,
   "id": "d374ea99-a342-4d4a-9344-f97747615b48",
   "metadata": {},
   "outputs": [],
   "source": []
  }
 ],
 "metadata": {
  "kernelspec": {
   "display_name": "Python 3 (ipykernel)",
   "language": "python",
   "name": "python3"
  },
  "language_info": {
   "codemirror_mode": {
    "name": "ipython",
    "version": 3
   },
   "file_extension": ".py",
   "mimetype": "text/x-python",
   "name": "python",
   "nbconvert_exporter": "python",
   "pygments_lexer": "ipython3",
   "version": "3.11.1"
  }
 },
 "nbformat": 4,
 "nbformat_minor": 5
}
