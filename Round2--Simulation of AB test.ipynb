{
 "cells": [
  {
   "cell_type": "code",
   "execution_count": 1,
   "id": "11f1b875-9ad7-4621-80e6-bba595b8698e",
   "metadata": {},
   "outputs": [],
   "source": [
    "import numpy as np"
   ]
  },
  {
   "cell_type": "code",
   "execution_count": 2,
   "id": "93fc0be0-cc23-4dae-8f40-c00317597784",
   "metadata": {},
   "outputs": [],
   "source": [
    "## Simulate Ab Test"
   ]
  },
  {
   "cell_type": "code",
   "execution_count": 3,
   "id": "a7f22460-36d5-4bc9-8bed-4b21532608eb",
   "metadata": {},
   "outputs": [],
   "source": [
    "n = 1000"
   ]
  },
  {
   "cell_type": "code",
   "execution_count": 4,
   "id": "f05f79b0-00de-4d98-b114-540267a4092e",
   "metadata": {},
   "outputs": [],
   "source": [
    "assign = np.random.choice(['True', 'False'], size = n, p = [0.05, 0.95])"
   ]
  },
  {
   "cell_type": "code",
   "execution_count": 5,
   "id": "6b98895c-d248-40d6-9437-0744179fa599",
   "metadata": {},
   "outputs": [
    {
     "data": {
      "text/plain": [
       "array(['False', 'False', 'False', 'False', 'False', 'False', 'False',\n",
       "       'False', 'False', 'False'], dtype='<U5')"
      ]
     },
     "execution_count": 5,
     "metadata": {},
     "output_type": "execute_result"
    }
   ],
   "source": [
    "assign[: 10]"
   ]
  },
  {
   "cell_type": "code",
   "execution_count": 6,
   "id": "4d583444-ce1f-4203-a286-48add8e56238",
   "metadata": {},
   "outputs": [],
   "source": [
    "def sim_click_view(ctr_prob, view_n = 0.1,  view_p = 0.5):\n",
    "    if np.random.uniform(size = 1) > view_p:\n",
    "        return 0, 0\n",
    "    views = np.random.geometric(view_n)\n",
    "    clicks = np.random.binomial(views, ctr_prob)\n",
    "    return views, clicks"
   ]
  },
  {
   "cell_type": "code",
   "execution_count": 7,
   "id": "b05a23df-417c-4f92-a8da-7732f7a6a8e9",
   "metadata": {},
   "outputs": [
    {
     "data": {
      "text/plain": [
       "(7, 0)"
      ]
     },
     "execution_count": 7,
     "metadata": {},
     "output_type": "execute_result"
    }
   ],
   "source": [
    "sim_click_view(0.05)"
   ]
  },
  {
   "cell_type": "code",
   "execution_count": null,
   "id": "08a5962b-f060-44b1-a252-10454685e27b",
   "metadata": {},
   "outputs": [],
   "source": []
  },
  {
   "cell_type": "code",
   "execution_count": 8,
   "id": "e6713138-8405-401b-9ed5-36a14f2eff9a",
   "metadata": {},
   "outputs": [],
   "source": [
    "days = 14"
   ]
  },
  {
   "cell_type": "code",
   "execution_count": 11,
   "id": "1fc22b29-fc9f-4990-a40f-4217d706c045",
   "metadata": {},
   "outputs": [],
   "source": [
    "views = np.zeros([n, days])"
   ]
  },
  {
   "cell_type": "code",
   "execution_count": 16,
   "id": "e8c03024-fe78-472a-a911-ae4f252a558b",
   "metadata": {},
   "outputs": [],
   "source": [
    "clicks = views.copy()"
   ]
  },
  {
   "cell_type": "code",
   "execution_count": 17,
   "id": "b9d2e0d6-0150-47ae-815c-d5381d6cf55a",
   "metadata": {},
   "outputs": [
    {
     "data": {
      "text/plain": [
       "(1000, 14)"
      ]
     },
     "execution_count": 17,
     "metadata": {},
     "output_type": "execute_result"
    }
   ],
   "source": [
    "views.shape"
   ]
  },
  {
   "cell_type": "code",
   "execution_count": 18,
   "id": "bb18c204-2d57-47e2-b3fb-eff63b6e2de7",
   "metadata": {},
   "outputs": [],
   "source": [
    "for day in range(days):\n",
    "    for id in range(n):\n",
    "        ctr = 0.05 if assign[id] == 'True' else 0.1\n",
    "        view, click = sim_click_view(ctr)\n",
    "        clicks[id, day] = click\n",
    "        views[id, day] = view"
   ]
  },
  {
   "cell_type": "code",
   "execution_count": 19,
   "id": "3f0f2214-9f57-45dd-988f-555c2541f2a3",
   "metadata": {},
   "outputs": [
    {
     "data": {
      "text/plain": [
       "array([[1., 2., 0., 1., 5., 0., 0., 0., 0., 0., 0., 1., 1., 0.],\n",
       "       [0., 0., 0., 0., 2., 0., 0., 4., 0., 1., 0., 0., 0., 0.],\n",
       "       [1., 1., 0., 0., 0., 0., 0., 1., 0., 0., 1., 0., 0., 0.],\n",
       "       [0., 0., 0., 0., 0., 0., 0., 1., 0., 0., 0., 0., 0., 0.],\n",
       "       [0., 0., 1., 0., 0., 0., 2., 0., 2., 0., 0., 0., 1., 0.],\n",
       "       [3., 0., 0., 0., 1., 0., 0., 1., 0., 0., 1., 1., 2., 0.],\n",
       "       [0., 1., 0., 0., 0., 6., 0., 0., 0., 0., 0., 1., 3., 0.],\n",
       "       [0., 0., 0., 4., 0., 0., 1., 0., 0., 3., 0., 1., 0., 0.],\n",
       "       [2., 1., 0., 0., 2., 0., 0., 3., 2., 0., 1., 0., 1., 0.],\n",
       "       [1., 0., 0., 1., 1., 2., 0., 1., 0., 0., 0., 0., 0., 0.]])"
      ]
     },
     "execution_count": 19,
     "metadata": {},
     "output_type": "execute_result"
    }
   ],
   "source": [
    "clicks[: 10]"
   ]
  },
  {
   "cell_type": "code",
   "execution_count": 20,
   "id": "c17a27a4-075c-4fe5-b2ac-d73096f1f5ec",
   "metadata": {},
   "outputs": [
    {
     "data": {
      "text/plain": [
       "array([[ 6.,  6.,  0.,  7., 39.,  0.,  0.,  4.,  0.,  0.,  7., 14.,  2.,\n",
       "         2.],\n",
       "       [ 0.,  0.,  0.,  0.,  4.,  0.,  1., 15.,  3.,  8.,  0.,  7.,  3.,\n",
       "         1.],\n",
       "       [ 9.,  7.,  0., 11.,  3.,  0.,  0., 17.,  0.,  0., 23.,  0.,  0.,\n",
       "        10.],\n",
       "       [ 2., 12.,  2.,  0.,  0.,  0.,  1.,  6.,  0.,  5.,  5.,  0.,  0.,\n",
       "         0.],\n",
       "       [ 0.,  0.,  8.,  5.,  0.,  0.,  8.,  6.,  7.,  0.,  0.,  0., 20.,\n",
       "         0.],\n",
       "       [39.,  0.,  0.,  0.,  3.,  0.,  2., 34.,  0.,  0.,  8.,  2., 12.,\n",
       "         8.],\n",
       "       [ 0.,  9.,  0.,  0.,  0., 48.,  1.,  0.,  6.,  0.,  0., 19., 23.,\n",
       "         0.],\n",
       "       [ 0.,  0.,  0., 31.,  0.,  0., 11.,  2.,  0., 36.,  0.,  5.,  0.,\n",
       "         0.],\n",
       "       [ 9., 10.,  0.,  0.,  6.,  0.,  0., 13.,  7.,  0.,  3.,  9.,  6.,\n",
       "        28.],\n",
       "       [26.,  0.,  0.,  4., 11., 18., 12., 14.,  0.,  1.,  0.,  0.,  2.,\n",
       "         0.]])"
      ]
     },
     "execution_count": 20,
     "metadata": {},
     "output_type": "execute_result"
    }
   ],
   "source": [
    "views[: 10]"
   ]
  },
  {
   "cell_type": "code",
   "execution_count": 21,
   "id": "eec73a02-965f-41c8-bba9-a59197f73763",
   "metadata": {},
   "outputs": [
    {
     "data": {
      "text/plain": [
       "np.True_"
      ]
     },
     "execution_count": 21,
     "metadata": {},
     "output_type": "execute_result"
    }
   ],
   "source": [
    "(clicks <= views).all()"
   ]
  },
  {
   "cell_type": "code",
   "execution_count": null,
   "id": "44fb9449-7fa9-4c0a-a6a9-9099f174a465",
   "metadata": {},
   "outputs": [],
   "source": []
  },
  {
   "cell_type": "code",
   "execution_count": 22,
   "id": "0e5084b1-6ee6-4ed0-9241-d583eae205be",
   "metadata": {},
   "outputs": [],
   "source": [
    "np.savetxt(\"sim_ab_views.csv\", views, delimiter=',')"
   ]
  },
  {
   "cell_type": "code",
   "execution_count": 23,
   "id": "73ca52f1-b99c-42ad-b593-750c45f85c60",
   "metadata": {},
   "outputs": [],
   "source": [
    "np.savetxt('sim_ab_clicks.csv', clicks, delimiter = ',')"
   ]
  },
  {
   "cell_type": "code",
   "execution_count": null,
   "id": "dd5b93df-4739-4e4a-90f8-70076f734cd0",
   "metadata": {},
   "outputs": [],
   "source": []
  }
 ],
 "metadata": {
  "kernelspec": {
   "display_name": "Python 3 (ipykernel)",
   "language": "python",
   "name": "python3"
  },
  "language_info": {
   "codemirror_mode": {
    "name": "ipython",
    "version": 3
   },
   "file_extension": ".py",
   "mimetype": "text/x-python",
   "name": "python",
   "nbconvert_exporter": "python",
   "pygments_lexer": "ipython3",
   "version": "3.11.1"
  }
 },
 "nbformat": 4,
 "nbformat_minor": 5
}
