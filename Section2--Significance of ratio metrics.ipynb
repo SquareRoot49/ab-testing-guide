{
 "cells": [
  {
   "cell_type": "code",
   "execution_count": 1,
   "id": "b0a4070a-6c33-4368-b2b3-f18e8244b976",
   "metadata": {},
   "outputs": [],
   "source": [
    "import numpy as np"
   ]
  },
  {
   "cell_type": "code",
   "execution_count": 2,
   "id": "b7fcc8cc-916c-4bf8-b392-dcd9bfbf12c3",
   "metadata": {},
   "outputs": [],
   "source": [
    "# CTR = Total clicks / Total views\n",
    "# Ratio of averages so usual Central Limit theorem does not apply!\n",
    "# We've detected a 5% difference between group A and group B using the data\n",
    "# sim_ab_test_assignment.csv\n",
    "# sim_ab_test_clicks.csv\n",
    "# sim_ab_test_views.csv\n",
    "# We want to test the signifiance of this difference we observe!"
   ]
  },
  {
   "cell_type": "code",
   "execution_count": 3,
   "id": "ff53386d-f0fe-4a43-83c1-da852b8c251e",
   "metadata": {},
   "outputs": [],
   "source": [
    "# Task 1\n",
    "# We talked about using the permutation test, i.e. randomize the AB assignment and re-calculate the CTR difference.\n",
    "\n",
    "# Please write down the pseudo-code for what we want to achieve.\n",
    "\n",
    "# Small pseudo-code example\n",
    "# Pseudo-code is like draft code. The pseudo-code to demonstrate the Central Limit Theorem would look like:\n",
    "\n",
    "# Simulate and store B=1000 times the following\n",
    "# generate n=50 random numbers\n",
    "# calculate average from n=50 numbers\n",
    "# Check the distribution of the B averages"
   ]
  },
  {
   "cell_type": "code",
   "execution_count": 8,
   "id": "69b2dc50-d689-4a7f-a952-438ec2e06c3c",
   "metadata": {},
   "outputs": [],
   "source": [
    "# when meet a problem about random, we need to think about np.random() function, this fucntion can help us simulate random situation\n",
    "# exp:"
   ]
  },
  {
   "cell_type": "code",
   "execution_count": 9,
   "id": "2d8d3c57-521b-4435-af78-33bda431002a",
   "metadata": {},
   "outputs": [],
   "source": [
    "import random"
   ]
  },
  {
   "cell_type": "code",
   "execution_count": 13,
   "id": "29b98112-b7d4-4902-9637-c58f2b449495",
   "metadata": {},
   "outputs": [],
   "source": [
    "list = []\n",
    "for i in range(50):\n",
    "    num = random.uniform(0, 100)\n",
    "    list.append(num)"
   ]
  },
  {
   "cell_type": "code",
   "execution_count": 15,
   "id": "15b016dc-5f5d-46f9-bc69-94c5e1021269",
   "metadata": {},
   "outputs": [],
   "source": [
    "mean_ist = sum(list) / len(list)"
   ]
  },
  {
   "cell_type": "code",
   "execution_count": null,
   "id": "df12ac1c-70a2-41a2-ba3f-8246ca6d2aa4",
   "metadata": {},
   "outputs": [],
   "source": []
  },
  {
   "cell_type": "code",
   "execution_count": 6,
   "id": "e0ca676f-c5dd-4e23-854f-8875c3ae0479",
   "metadata": {},
   "outputs": [],
   "source": [
    "# Task 2 - Execute your code...in pieces!\n",
    "# Write a function that takes in your data, including the assignment vector, then outputs a difference of CTR between the 2 groups. \n",
    "# You can assume there are only 2 groups."
   ]
  },
  {
   "cell_type": "code",
   "execution_count": 17,
   "id": "7c5cd352-e5c6-4d32-8d4e-34fa353372de",
   "metadata": {},
   "outputs": [],
   "source": [
    "assignment = np.loadtxt('sim_ab_test_assignment.csv', dtype = str, delimiter = ',')"
   ]
  },
  {
   "cell_type": "code",
   "execution_count": 19,
   "id": "fcaa315c-3e4c-4bb4-abf7-8419f3a508df",
   "metadata": {},
   "outputs": [],
   "source": [
    "clicks = np.loadtxt('sim_ab_test_clicks.csv', delimiter = ',')"
   ]
  },
  {
   "cell_type": "code",
   "execution_count": 20,
   "id": "654442fe-cdcd-416c-a621-718609eafbae",
   "metadata": {},
   "outputs": [],
   "source": [
    "views = np.loadtxt('sim_ab_test_views.csv', delimiter = ',')"
   ]
  },
  {
   "cell_type": "code",
   "execution_count": 23,
   "id": "e0c92048-4d74-4ca3-a66e-ba00888618b7",
   "metadata": {},
   "outputs": [],
   "source": [
    "def get_ctr(assign, clicks, views):\n",
    "    is_treatment = assign == 'True'\n",
    "    is_control = assign == 'False'\n",
    "    is_treat_clicks = clicks[is_treatment, :]\n",
    "    is_control_clicks = clicks[is_control, :]\n",
    "    is_treat_views = views[is_treatment, :]\n",
    "    is_control_views = views[is_control, :]\n",
    "    each_treat_clicks = np.apply_along_axis(np.sum, 1, is_treat_clicks)\n",
    "    each_treat_views = np.apply_along_axis(np.sum, 1, is_treat_views)\n",
    "    each_control_clicks = np.apply_along_axis(np.sum, 1, is_control_clicks)\n",
    "    each_control_views = np.apply_along_axis(np.sum, 1, is_control_views)\n",
    "    \n",
    "    ctr_treat = np.sum(each_treat_clicks) / np.sum(each_treat_views)\n",
    "    ctr_control = np.sum(each_control_clicks) /np.sum(each_control_views)\n",
    "    return ctr_treat - ctr_control"
   ]
  },
  {
   "cell_type": "code",
   "execution_count": 24,
   "id": "f2d71abc-d7a8-41f7-81a4-e7eca39675b3",
   "metadata": {},
   "outputs": [
    {
     "data": {
      "text/plain": [
       "np.float64(0.05303067971972465)"
      ]
     },
     "execution_count": 24,
     "metadata": {},
     "output_type": "execute_result"
    }
   ],
   "source": [
    "get_ctr(assignment, clicks, views)"
   ]
  },
  {
   "cell_type": "code",
   "execution_count": null,
   "id": "37c780d5-5207-4acd-910b-5545141774db",
   "metadata": {},
   "outputs": [],
   "source": []
  },
  {
   "cell_type": "code",
   "execution_count": 5,
   "id": "370aea4e-0e5e-48c2-bfd2-5790ac3802b2",
   "metadata": {},
   "outputs": [],
   "source": [
    "# Task 3 - Randomization\n",
    "# Write some code that will randomdize your assignments. Hint: numpy.random.choice, test this out first!\n",
    "\n",
    "# Do we want to do this with or without replacement?"
   ]
  },
  {
   "cell_type": "code",
   "execution_count": 26,
   "id": "368161ff-2d31-4749-857a-0a0ca48e6757",
   "metadata": {},
   "outputs": [],
   "source": [
    "arr = assignment"
   ]
  },
  {
   "cell_type": "code",
   "execution_count": 27,
   "id": "e1910068-eb71-4aae-b36c-950fde9cb906",
   "metadata": {},
   "outputs": [],
   "source": [
    "perm_arr = np.random.choice(arr, len(arr), replace = False)"
   ]
  },
  {
   "cell_type": "code",
   "execution_count": 29,
   "id": "d0e6db02-4bcc-4fa0-b04a-e747ad35afd2",
   "metadata": {},
   "outputs": [
    {
     "data": {
      "text/plain": [
       "np.True_"
      ]
     },
     "execution_count": 29,
     "metadata": {},
     "output_type": "execute_result"
    }
   ],
   "source": [
    "(assignment == perm_arr).any() "
   ]
  },
  {
   "cell_type": "code",
   "execution_count": 32,
   "id": "41f1e332-69dc-49fb-8c43-019ac1b84349",
   "metadata": {},
   "outputs": [
    {
     "data": {
      "text/plain": [
       "np.int64(54)"
      ]
     },
     "execution_count": 32,
     "metadata": {},
     "output_type": "execute_result"
    }
   ],
   "source": [
    "np.sum(assignment == 'True')"
   ]
  },
  {
   "cell_type": "code",
   "execution_count": 33,
   "id": "2f94763a-7dee-4171-a8dc-c6f9a8a3c5d7",
   "metadata": {},
   "outputs": [
    {
     "data": {
      "text/plain": [
       "np.int64(54)"
      ]
     },
     "execution_count": 33,
     "metadata": {},
     "output_type": "execute_result"
    }
   ],
   "source": [
    "np.sum(perm_arr == 'True')"
   ]
  },
  {
   "cell_type": "code",
   "execution_count": null,
   "id": "f7226636-3303-4b63-a89f-8a6c10d8d21c",
   "metadata": {},
   "outputs": [],
   "source": []
  },
  {
   "cell_type": "code",
   "execution_count": 34,
   "id": "8d507110-dc70-4022-ab2b-3050cfca7d84",
   "metadata": {},
   "outputs": [],
   "source": [
    "# Task 4 - Repeating the process\n",
    "# Repeat the randomization & calculation B=1000 times, storing your calculation in a variable called perm_diffs\n",
    "\n",
    "# What data type should perm_diffs be?\n",
    "# What is the mean of perm_diffs?\n",
    "# What is the SD of perm_diffs?\n",
    "# What percentage of perm_diffs values are below k SDs from the mean? Where k is [3, 2, 1, 0, -1, -2, -3] ?\n",
    "# Is B=1000 sufficient? (no code! just type out what would you do)"
   ]
  },
  {
   "cell_type": "code",
   "execution_count": 35,
   "id": "36141094-0acf-4237-a238-e7e2401265bf",
   "metadata": {},
   "outputs": [],
   "source": [
    "# we can use for-loop to solve this question, it's repeating the procedure we do before."
   ]
  },
  {
   "cell_type": "code",
   "execution_count": 60,
   "id": "1e396177-60ac-489a-96af-1d40ac798acf",
   "metadata": {},
   "outputs": [],
   "source": [
    "B = 1000\n",
    "per_diffs = []\n",
    "for i in range(B):\n",
    "    perm_assign = np.random.choice(assignment, len(assignment), replace = False)\n",
    "    perm_difference = get_ctr(perm_assign, clicks, views)\n",
    "    per_diffs.append(perm_difference)\n"
   ]
  },
  {
   "cell_type": "code",
   "execution_count": 54,
   "id": "392a16ea-7f75-409e-b42f-6ea0a4763a23",
   "metadata": {},
   "outputs": [
    {
     "data": {
      "text/plain": [
       "1000"
      ]
     },
     "execution_count": 54,
     "metadata": {},
     "output_type": "execute_result"
    }
   ],
   "source": [
    "len(per_diffs)"
   ]
  },
  {
   "cell_type": "code",
   "execution_count": 55,
   "id": "66cf9dbf-6252-4879-a151-4ce1b003d57b",
   "metadata": {},
   "outputs": [
    {
     "data": {
      "text/plain": [
       "np.float64(8.936566925469872e-05)"
      ]
     },
     "execution_count": 55,
     "metadata": {},
     "output_type": "execute_result"
    }
   ],
   "source": [
    "np.mean(per_diffs)"
   ]
  },
  {
   "cell_type": "code",
   "execution_count": 56,
   "id": "2e303584-e887-4694-a598-71e859a59b55",
   "metadata": {},
   "outputs": [],
   "source": [
    "per_diffs_mean = np.mean(per_diffs)"
   ]
  },
  {
   "cell_type": "code",
   "execution_count": 57,
   "id": "68983851-415f-4001-b70d-3444c6650fc4",
   "metadata": {},
   "outputs": [],
   "source": [
    "per_diffs_sd = np.std(per_diffs)"
   ]
  },
  {
   "cell_type": "code",
   "execution_count": 58,
   "id": "4a4a56b1-0c28-42a8-948d-4cf8d4ac35cc",
   "metadata": {},
   "outputs": [
    {
     "data": {
      "text/plain": [
       "np.float64(0.004232563531580541)"
      ]
     },
     "execution_count": 58,
     "metadata": {},
     "output_type": "execute_result"
    }
   ],
   "source": [
    "per_diffs_sd"
   ]
  },
  {
   "cell_type": "code",
   "execution_count": 59,
   "id": "ea5c2aa1-87a6-41e8-b90c-2de7cad8b529",
   "metadata": {},
   "outputs": [
    {
     "name": "stdout",
     "output_type": "stream",
     "text": [
      "0.1%\n",
      "2.1%\n",
      "15.6%\n",
      "51.5%\n",
      "84.3%\n",
      "98.1%\n",
      "99.8%\n"
     ]
    }
   ],
   "source": [
    "k = [3, 2, 1, 0, -1, -2, -3]\n",
    "for i in k:\n",
    "    percentage_k = np.mean(per_diffs < (per_diffs_mean - i * per_diffs_sd))\n",
    "    print('{}%'.format(round(percentage_k * 100, 2)))"
   ]
  },
  {
   "cell_type": "code",
   "execution_count": null,
   "id": "7aba2cf7-a635-45c7-9e90-1faabc71d835",
   "metadata": {},
   "outputs": [],
   "source": []
  },
  {
   "cell_type": "code",
   "execution_count": 62,
   "id": "3f94f4af-9e8e-40c2-b299-7a091c61e030",
   "metadata": {},
   "outputs": [],
   "source": [
    "# Task 5 - Getting a p-value\n",
    "# Please calculate a p-value using your original assignment and perm_diffs, i.e. what the chance of seeing our observed statistic or something more extreme?\n",
    "\n",
    "# Would you use one-sided or a two tailed test?"
   ]
  },
  {
   "cell_type": "code",
   "execution_count": 63,
   "id": "dad8c3f0-dc8d-4f3a-b860-e112843854e2",
   "metadata": {},
   "outputs": [],
   "source": [
    "obs_ctr_diff = get_ctr(assignment, clicks, views)"
   ]
  },
  {
   "cell_type": "code",
   "execution_count": 66,
   "id": "46335732-7789-413b-b8f5-e27c378fceaf",
   "metadata": {},
   "outputs": [
    {
     "data": {
      "text/plain": [
       "np.float64(0.489)"
      ]
     },
     "execution_count": 66,
     "metadata": {},
     "output_type": "execute_result"
    }
   ],
   "source": [
    "np.mean(np.array(per_diffs) < 0)"
   ]
  },
  {
   "cell_type": "code",
   "execution_count": 67,
   "id": "df135af3-2a47-46bf-9e68-db1dc0867a37",
   "metadata": {},
   "outputs": [],
   "source": [
    "# the reason why we nned to use np.array is that only the bp.array has the broadcasting ability, so when we meet the situation that \n",
    "# want to compare each value in a list with 0, we can use np.array."
   ]
  },
  {
   "cell_type": "code",
   "execution_count": null,
   "id": "64794c5f-e283-4b8d-8cf4-7915ebd1f844",
   "metadata": {},
   "outputs": [],
   "source": []
  },
  {
   "cell_type": "code",
   "execution_count": 69,
   "id": "88074794-a15e-4ea2-a1b1-580527558d70",
   "metadata": {},
   "outputs": [],
   "source": [
    "# Task 6\n",
    "# Questions:\n",
    "\n",
    "# What is the p-value coming from the Delta method?\n",
    "# Given we haven't covered scikit-learn which can tell us the p-value directly. Try simulating numbers from a normal distribution with the mean and SD you're deriving then compare this to your observed value (hint: numpy.random.normal)\n",
    "# What are the pro/con of the permutation test vs the delta method?"
   ]
  },
  {
   "cell_type": "code",
   "execution_count": null,
   "id": "66fee987-7637-496f-ba1c-a0208c5fa6d0",
   "metadata": {},
   "outputs": [],
   "source": []
  }
 ],
 "metadata": {
  "kernelspec": {
   "display_name": "Python 3 (ipykernel)",
   "language": "python",
   "name": "python3"
  },
  "language_info": {
   "codemirror_mode": {
    "name": "ipython",
    "version": 3
   },
   "file_extension": ".py",
   "mimetype": "text/x-python",
   "name": "python",
   "nbconvert_exporter": "python",
   "pygments_lexer": "ipython3",
   "version": "3.11.1"
  }
 },
 "nbformat": 4,
 "nbformat_minor": 5
}
