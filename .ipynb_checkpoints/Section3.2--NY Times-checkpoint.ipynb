{
 "cells": [
  {
   "cell_type": "code",
   "execution_count": 4,
   "id": "7cdebe36-5afa-444f-a031-48461312ce07",
   "metadata": {},
   "outputs": [],
   "source": [
    "# How often are NYTimes Journalists writing?\n",
    "# IMPORTANT:\n",
    "\n",
    "# You should download the notebook and dataset. Ed will likely crash.\n",
    "# Task 1\n",
    "# How often do journalists write in a given year, given our data?"
   ]
  },
  {
   "cell_type": "code",
   "execution_count": 5,
   "id": "50a63697-1d0b-43c1-a345-7092b12925aa",
   "metadata": {},
   "outputs": [],
   "source": [
    "import pandas as pd"
   ]
  },
  {
   "cell_type": "code",
   "execution_count": 6,
   "id": "fe488a46-d358-4463-8554-7f2214fdcc98",
   "metadata": {},
   "outputs": [],
   "source": [
    "data = pd.read_csv('nytimes_metadata.csv')"
   ]
  },
  {
   "cell_type": "code",
   "execution_count": 7,
   "id": "9a5ccd3b-c9dc-4a53-a2fb-6703c1051c97",
   "metadata": {},
   "outputs": [
    {
     "data": {
      "text/html": [
       "<div>\n",
       "<style scoped>\n",
       "    .dataframe tbody tr th:only-of-type {\n",
       "        vertical-align: middle;\n",
       "    }\n",
       "\n",
       "    .dataframe tbody tr th {\n",
       "        vertical-align: top;\n",
       "    }\n",
       "\n",
       "    .dataframe thead th {\n",
       "        text-align: right;\n",
       "    }\n",
       "</style>\n",
       "<table border=\"1\" class=\"dataframe\">\n",
       "  <thead>\n",
       "    <tr style=\"text-align: right;\">\n",
       "      <th></th>\n",
       "      <th>headline</th>\n",
       "      <th>word_count</th>\n",
       "      <th>author_count</th>\n",
       "      <th>lead_author</th>\n",
       "      <th>section</th>\n",
       "      <th>pub_date</th>\n",
       "    </tr>\n",
       "  </thead>\n",
       "  <tbody>\n",
       "    <tr>\n",
       "      <th>0</th>\n",
       "      <td>A Leak-Prone White House Finally Manages to Ke...</td>\n",
       "      <td>1341.0</td>\n",
       "      <td>1</td>\n",
       "      <td>M i c h a e l C r o w l e y</td>\n",
       "      <td>U.S.</td>\n",
       "      <td>2019-12-01T00:15:08+0000</td>\n",
       "    </tr>\n",
       "    <tr>\n",
       "      <th>1</th>\n",
       "      <td>Justin Fields Has ‘Heisman Moment’ in Ohio Sta...</td>\n",
       "      <td>727.0</td>\n",
       "      <td>1</td>\n",
       "      <td>J e f f A r n o l d</td>\n",
       "      <td>Sports</td>\n",
       "      <td>2019-12-01T00:33:57+0000</td>\n",
       "    </tr>\n",
       "    <tr>\n",
       "      <th>2</th>\n",
       "      <td>Mikaela Shiffrin Learns a New Way to Win: With...</td>\n",
       "      <td>762.0</td>\n",
       "      <td>1</td>\n",
       "      <td>B i l l P e n n i n g t o n</td>\n",
       "      <td>Sports</td>\n",
       "      <td>2019-12-01T00:37:15+0000</td>\n",
       "    </tr>\n",
       "    <tr>\n",
       "      <th>3</th>\n",
       "      <td>Leonardo DiCaprio Responds to Brazil’s Preside...</td>\n",
       "      <td>540.0</td>\n",
       "      <td>1</td>\n",
       "      <td>A i m e e O r t i z</td>\n",
       "      <td>World</td>\n",
       "      <td>2019-12-01T01:03:22+0000</td>\n",
       "    </tr>\n",
       "    <tr>\n",
       "      <th>4</th>\n",
       "      <td>Cooking Grease Down a Drain Eyed in Sewage Flo...</td>\n",
       "      <td>781.0</td>\n",
       "      <td>2</td>\n",
       "      <td>N e i l V i g d o r</td>\n",
       "      <td>New York</td>\n",
       "      <td>2019-12-01T01:47:35+0000</td>\n",
       "    </tr>\n",
       "  </tbody>\n",
       "</table>\n",
       "</div>"
      ],
      "text/plain": [
       "                                            headline  word_count  \\\n",
       "0  A Leak-Prone White House Finally Manages to Ke...      1341.0   \n",
       "1  Justin Fields Has ‘Heisman Moment’ in Ohio Sta...       727.0   \n",
       "2  Mikaela Shiffrin Learns a New Way to Win: With...       762.0   \n",
       "3  Leonardo DiCaprio Responds to Brazil’s Preside...       540.0   \n",
       "4  Cooking Grease Down a Drain Eyed in Sewage Flo...       781.0   \n",
       "\n",
       "   author_count                  lead_author   section  \\\n",
       "0             1  M i c h a e l C r o w l e y      U.S.   \n",
       "1             1          J e f f A r n o l d    Sports   \n",
       "2             1  B i l l P e n n i n g t o n    Sports   \n",
       "3             1          A i m e e O r t i z     World   \n",
       "4             2          N e i l V i g d o r  New York   \n",
       "\n",
       "                   pub_date  \n",
       "0  2019-12-01T00:15:08+0000  \n",
       "1  2019-12-01T00:33:57+0000  \n",
       "2  2019-12-01T00:37:15+0000  \n",
       "3  2019-12-01T01:03:22+0000  \n",
       "4  2019-12-01T01:47:35+0000  "
      ]
     },
     "execution_count": 7,
     "metadata": {},
     "output_type": "execute_result"
    }
   ],
   "source": [
    "data.head()"
   ]
  },
  {
   "cell_type": "code",
   "execution_count": 8,
   "id": "8735c391-3d27-4b88-9912-5b5020b2d6f2",
   "metadata": {},
   "outputs": [],
   "source": [
    "from datetime import datetime"
   ]
  },
  {
   "cell_type": "code",
   "execution_count": 9,
   "id": "7a2415c7-e0ca-4880-894b-583c5f6599bf",
   "metadata": {},
   "outputs": [],
   "source": [
    "# in the previors sections, I always think when we need to use the lambda(the list comprehension), now I think I know.\n",
    "# when we want to change a whole column value based on the original column, we can use the list comprehension to help us finish it."
   ]
  },
  {
   "cell_type": "code",
   "execution_count": 10,
   "id": "43edb150-8cd0-49e3-9773-3a4f8a501b36",
   "metadata": {},
   "outputs": [],
   "source": [
    "data['lead_author'] = data.lead_author.apply(lambda x: str(x).replace(' ', ''))"
   ]
  },
  {
   "cell_type": "code",
   "execution_count": 11,
   "id": "a4feb5bc-e4e2-41b1-b1a7-d59fd311fd6e",
   "metadata": {},
   "outputs": [
    {
     "data": {
      "text/html": [
       "<div>\n",
       "<style scoped>\n",
       "    .dataframe tbody tr th:only-of-type {\n",
       "        vertical-align: middle;\n",
       "    }\n",
       "\n",
       "    .dataframe tbody tr th {\n",
       "        vertical-align: top;\n",
       "    }\n",
       "\n",
       "    .dataframe thead th {\n",
       "        text-align: right;\n",
       "    }\n",
       "</style>\n",
       "<table border=\"1\" class=\"dataframe\">\n",
       "  <thead>\n",
       "    <tr style=\"text-align: right;\">\n",
       "      <th></th>\n",
       "      <th>headline</th>\n",
       "      <th>word_count</th>\n",
       "      <th>author_count</th>\n",
       "      <th>lead_author</th>\n",
       "      <th>section</th>\n",
       "      <th>pub_date</th>\n",
       "    </tr>\n",
       "  </thead>\n",
       "  <tbody>\n",
       "    <tr>\n",
       "      <th>0</th>\n",
       "      <td>A Leak-Prone White House Finally Manages to Ke...</td>\n",
       "      <td>1341.0</td>\n",
       "      <td>1</td>\n",
       "      <td>MichaelCrowley</td>\n",
       "      <td>U.S.</td>\n",
       "      <td>2019-12-01T00:15:08+0000</td>\n",
       "    </tr>\n",
       "    <tr>\n",
       "      <th>1</th>\n",
       "      <td>Justin Fields Has ‘Heisman Moment’ in Ohio Sta...</td>\n",
       "      <td>727.0</td>\n",
       "      <td>1</td>\n",
       "      <td>JeffArnold</td>\n",
       "      <td>Sports</td>\n",
       "      <td>2019-12-01T00:33:57+0000</td>\n",
       "    </tr>\n",
       "    <tr>\n",
       "      <th>2</th>\n",
       "      <td>Mikaela Shiffrin Learns a New Way to Win: With...</td>\n",
       "      <td>762.0</td>\n",
       "      <td>1</td>\n",
       "      <td>BillPennington</td>\n",
       "      <td>Sports</td>\n",
       "      <td>2019-12-01T00:37:15+0000</td>\n",
       "    </tr>\n",
       "    <tr>\n",
       "      <th>3</th>\n",
       "      <td>Leonardo DiCaprio Responds to Brazil’s Preside...</td>\n",
       "      <td>540.0</td>\n",
       "      <td>1</td>\n",
       "      <td>AimeeOrtiz</td>\n",
       "      <td>World</td>\n",
       "      <td>2019-12-01T01:03:22+0000</td>\n",
       "    </tr>\n",
       "    <tr>\n",
       "      <th>4</th>\n",
       "      <td>Cooking Grease Down a Drain Eyed in Sewage Flo...</td>\n",
       "      <td>781.0</td>\n",
       "      <td>2</td>\n",
       "      <td>NeilVigdor</td>\n",
       "      <td>New York</td>\n",
       "      <td>2019-12-01T01:47:35+0000</td>\n",
       "    </tr>\n",
       "  </tbody>\n",
       "</table>\n",
       "</div>"
      ],
      "text/plain": [
       "                                            headline  word_count  \\\n",
       "0  A Leak-Prone White House Finally Manages to Ke...      1341.0   \n",
       "1  Justin Fields Has ‘Heisman Moment’ in Ohio Sta...       727.0   \n",
       "2  Mikaela Shiffrin Learns a New Way to Win: With...       762.0   \n",
       "3  Leonardo DiCaprio Responds to Brazil’s Preside...       540.0   \n",
       "4  Cooking Grease Down a Drain Eyed in Sewage Flo...       781.0   \n",
       "\n",
       "   author_count     lead_author   section                  pub_date  \n",
       "0             1  MichaelCrowley      U.S.  2019-12-01T00:15:08+0000  \n",
       "1             1      JeffArnold    Sports  2019-12-01T00:33:57+0000  \n",
       "2             1  BillPennington    Sports  2019-12-01T00:37:15+0000  \n",
       "3             1      AimeeOrtiz     World  2019-12-01T01:03:22+0000  \n",
       "4             2      NeilVigdor  New York  2019-12-01T01:47:35+0000  "
      ]
     },
     "execution_count": 11,
     "metadata": {},
     "output_type": "execute_result"
    }
   ],
   "source": [
    "data.head()"
   ]
  },
  {
   "cell_type": "code",
   "execution_count": 12,
   "id": "a82388e6-955a-489d-9919-883252faacae",
   "metadata": {},
   "outputs": [
    {
     "data": {
      "text/html": [
       "<div>\n",
       "<style scoped>\n",
       "    .dataframe tbody tr th:only-of-type {\n",
       "        vertical-align: middle;\n",
       "    }\n",
       "\n",
       "    .dataframe tbody tr th {\n",
       "        vertical-align: top;\n",
       "    }\n",
       "\n",
       "    .dataframe thead th {\n",
       "        text-align: right;\n",
       "    }\n",
       "</style>\n",
       "<table border=\"1\" class=\"dataframe\">\n",
       "  <thead>\n",
       "    <tr style=\"text-align: right;\">\n",
       "      <th></th>\n",
       "      <th>headline</th>\n",
       "      <th>word_count</th>\n",
       "      <th>author_count</th>\n",
       "      <th>section</th>\n",
       "      <th>pub_date</th>\n",
       "    </tr>\n",
       "    <tr>\n",
       "      <th>lead_author</th>\n",
       "      <th></th>\n",
       "      <th></th>\n",
       "      <th></th>\n",
       "      <th></th>\n",
       "      <th></th>\n",
       "    </tr>\n",
       "  </thead>\n",
       "  <tbody>\n",
       "    <tr>\n",
       "      <th></th>\n",
       "      <td>70</td>\n",
       "      <td>70</td>\n",
       "      <td>70</td>\n",
       "      <td>70</td>\n",
       "      <td>70</td>\n",
       "    </tr>\n",
       "    <tr>\n",
       "      <th>A.C.Shilton</th>\n",
       "      <td>2</td>\n",
       "      <td>2</td>\n",
       "      <td>2</td>\n",
       "      <td>2</td>\n",
       "      <td>2</td>\n",
       "    </tr>\n",
       "    <tr>\n",
       "      <th>A.G.Sulzberger</th>\n",
       "      <td>2</td>\n",
       "      <td>2</td>\n",
       "      <td>2</td>\n",
       "      <td>2</td>\n",
       "      <td>2</td>\n",
       "    </tr>\n",
       "    <tr>\n",
       "      <th>A.HopeJahren</th>\n",
       "      <td>1</td>\n",
       "      <td>1</td>\n",
       "      <td>1</td>\n",
       "      <td>1</td>\n",
       "      <td>1</td>\n",
       "    </tr>\n",
       "    <tr>\n",
       "      <th>A.J.Goldmann</th>\n",
       "      <td>20</td>\n",
       "      <td>20</td>\n",
       "      <td>20</td>\n",
       "      <td>20</td>\n",
       "      <td>20</td>\n",
       "    </tr>\n",
       "    <tr>\n",
       "      <th>...</th>\n",
       "      <td>...</td>\n",
       "      <td>...</td>\n",
       "      <td>...</td>\n",
       "      <td>...</td>\n",
       "      <td>...</td>\n",
       "    </tr>\n",
       "    <tr>\n",
       "      <th>ZoëLescaze</th>\n",
       "      <td>4</td>\n",
       "      <td>4</td>\n",
       "      <td>4</td>\n",
       "      <td>4</td>\n",
       "      <td>4</td>\n",
       "    </tr>\n",
       "    <tr>\n",
       "      <th>ZuzanaBoehmová</th>\n",
       "      <td>1</td>\n",
       "      <td>1</td>\n",
       "      <td>1</td>\n",
       "      <td>1</td>\n",
       "      <td>1</td>\n",
       "    </tr>\n",
       "    <tr>\n",
       "      <th>nan</th>\n",
       "      <td>7354</td>\n",
       "      <td>7365</td>\n",
       "      <td>7365</td>\n",
       "      <td>7365</td>\n",
       "      <td>7365</td>\n",
       "    </tr>\n",
       "    <tr>\n",
       "      <th>ÁlvaroEnrigue</th>\n",
       "      <td>1</td>\n",
       "      <td>1</td>\n",
       "      <td>1</td>\n",
       "      <td>1</td>\n",
       "      <td>1</td>\n",
       "    </tr>\n",
       "    <tr>\n",
       "      <th>ÁlvaroSantana-Acuña</th>\n",
       "      <td>1</td>\n",
       "      <td>1</td>\n",
       "      <td>1</td>\n",
       "      <td>1</td>\n",
       "      <td>1</td>\n",
       "    </tr>\n",
       "  </tbody>\n",
       "</table>\n",
       "<p>5497 rows × 5 columns</p>\n",
       "</div>"
      ],
      "text/plain": [
       "                     headline  word_count  author_count  section  pub_date\n",
       "lead_author                                                               \n",
       "                           70          70            70       70        70\n",
       "A.C.Shilton                 2           2             2        2         2\n",
       "A.G.Sulzberger              2           2             2        2         2\n",
       "A.HopeJahren                1           1             1        1         1\n",
       "A.J.Goldmann               20          20            20       20        20\n",
       "...                       ...         ...           ...      ...       ...\n",
       "ZoëLescaze                  4           4             4        4         4\n",
       "ZuzanaBoehmová              1           1             1        1         1\n",
       "nan                      7354        7365          7365     7365      7365\n",
       "ÁlvaroEnrigue               1           1             1        1         1\n",
       "ÁlvaroSantana-Acuña         1           1             1        1         1\n",
       "\n",
       "[5497 rows x 5 columns]"
      ]
     },
     "execution_count": 12,
     "metadata": {},
     "output_type": "execute_result"
    }
   ],
   "source": [
    "data.groupby('lead_author').count()"
   ]
  },
  {
   "cell_type": "code",
   "execution_count": 13,
   "id": "5d8b308a-5eab-4af1-8bde-a3a4e4846130",
   "metadata": {},
   "outputs": [],
   "source": [
    "gdf = data.groupby('lead_author')"
   ]
  },
  {
   "cell_type": "code",
   "execution_count": 14,
   "id": "dc16e85d-b9a0-473c-a2ab-7df227f493cd",
   "metadata": {},
   "outputs": [
    {
     "data": {
      "text/plain": [
       "{'': [1922, 3606, 4598, 7074, 8514, 9760, 10242, 13275, 13603, 14279, 14439, 14580, 15128, 15285, 15332, 16545, 17440, 17966, 18516, 18956, 19110, 20680, 21126, 21714, 21903, 22117, 22985, 23254, 23292, 24092, 24298, 24914, 25095, 25658, 26620, 27672, 28306, 29994, 31000, 31071, 32043, 33139, 33142, 33145, 33146, 33147, 33152, 33153, 33159, 33164, 34342, 34907, 35393, 37891, 38738, 39276, 43897, 44443, 44451, 45103, 46418, 47540, 49080, 49634, 49678, 50468, 50780, 51796, 52562, 52776], 'A.C.Shilton': [19230, 30240], 'A.G.Sulzberger': [39102, 50363], 'A.HopeJahren': [19997], 'A.J.Goldmann': [1828, 5426, 10107, 12323, 13986, 17119, 19277, 24983, 28440, 32282, 37346, 40243, 43973, 44328, 47449, 50384, 50666, 52276, 52460, 52695], 'A.J.Jacobs': [33067], 'A.J.Verdelle': [41084], 'A.O.Scott': [424, 671, 714, 1246, 1739, 1748, 2421, 3231, 3337, 5310, 5475, 5483, 6304, 6411, 7262, 7424, 8959, 9127, 9987, 10144, 10166, 10842, 11080, 11954, 12111, 12308, 13900, 14758, 15133, 16016, 16163, 16793, 17132, 17406, 17842, 18037, 19104, 19306, 21257, 21352, 21728, 22413, 22574, 22753, 23443, 23642, 25553, 25894, 26189, 26329, 27366, 27406, 28071, 28116, 28267, 28304, 28491, 29396, 29429, 29540, 30163, 30359, 30515, 31160, 31303, 31524, 32046, 32178, 32336, 33251, 33310, 33485, 34416, 34618, 35452, 35572, 35680, 35716, 36192, 37229, 37272, 38517, 38525, 39400, 39535, 39902, 40257, 40320, 40325, 40342, 44954, 45190, 46413, 46437, 46579, 47512, 47554, 48218, 48234, 49190, ...], 'A.OdysseusPatrick': [17249], 'AarathiPrasad': [27536], 'AaronBastani': [9758], 'AaronBelkin': [31782], 'AaronE.Carroll': [1134, 3447, 6890, 9586, 14528, 16603, 18713, 20879, 25384, 27904, 28041, 30027, 30837, 30848, 32836, 35094, 37915, 40765, 42599, 45823, 49845, 51975], 'AaronHicklin': [7666, 9165, 27625, 39830], 'AaronRandle': [3127, 4103, 4676, 5253, 5378, 5435, 5608, 5904, 10037, 10561, 31234, 31473, 32487, 32936, 33614, 34759, 36020, 36212, 37613, 38654, 39755, 41487, 42302, 42448, 43213, 44372, 45282, 45498, 46589, 47168, 47330, 47467, 48336], 'AaronReiss': [877, 4321, 36391], 'AaronSorkin': [35633], 'AaronTang': [48215], 'AatishTaseer': [28218, 32091], 'AbbeR.Gluck': [2697], 'AbbeyCrain': [28513], 'AbbieVanSickle': [28437], 'Abby': [32240], 'AbbyEllin': [16982, 23425, 26640, 28600, 30895, 34323, 37340, 40265, 41065, 41447, 43928, 46158, 52110], 'AbbyGoodnough': [723, 1764, 2390, 2554, 3821, 5082, 6149, 6266, 6273, 7840, 8115, 8234, 8934, 10442, 12154, 12513, 15320, 19578, 21332, 22626, 24440, 28569, 28792, 29748, 32355, 33606, 34164, 34194, 37036, 38467, 42935, 46631, 47942], 'AbbySeiff': [40145], 'AbdalazizAlhamza': [19256], 'AbdiLatifDahir': [834, 878, 1227, 1360, 1982, 3078, 3746, 3804, 46955, 47158, 47361, 47594, 48172, 48296, 48480], 'Abdul-kareemAhmed': [16087, 39319], 'AbdullahAlaoudh': [23587], 'AbdullahShihipar': [25533, 34539], 'AbigailMeisel': [3571], 'AbigailZuger': [35334, 51392], 'AbrahamJiménezEnoa': [4385], 'AbrahmLustgarten': [34155], 'AdaCalhoun': [29240], 'AdaLimon': [19228], 'AdamBecker': [22341], 'AdamBryant': [17177, 17742], 'AdamClymer': [19301, 35037], 'AdamCohen': [180, 19815], 'AdamElder': [52822], 'AdamGoldman': [1462, 2248, 4412, 5137, 5171, 7035, 7105, 8278, 8761, 8820, 10202, 14353, 18101, 20427, 23619, 23818, 24123, 26364, 27038, 27385, 27990, 28217, 28755, 29814, 30381, 30981, 31674, 33789, 37106, 37496, 39274, 40347, 40387, 42826, 43529, 43993, 44182, 45782, 45977, 46067, 47346, 47774, 48447, 50104], 'AdamGopnik': [27123], 'AdamGrant': [18347, 19371, 20554, 21577, 24062, 48903, 49540, 50703, 51793, 52673], 'AdamGreen': [40613], 'AdamJentleson': [24359], 'AdamLanger': [48536], 'AdamLinehan': [45841, 46625], 'AdamLiptak': [89, 149, 349, 526, 684, 920, 932, 1140, 1197, 1376, 1514, 1576, 1956, 1967, 2177, 2513, 2942, 3124, 3980, 4921, 6191, 6252, 6892, 7638, 8192, 8609, 8641, 9594, 9665, 10632, 10637, 10659, 10699, 11209, 11251, 11416, 11419, 11471, 11749, 11785, 12103, 12116, 12285, 12292, 12377, 12389, 12511, 12654, 13297, 13530, 13549, 13715, 13757, 13905, 14274, 14350, 14570, 14754, 14959, 15595, 15743, 15744, 15745, 17655, 17695, 18063, 19811, 19855, 19875, 20027, 20196, 20922, 21046, 21131, 21305, 21478, 21576, 22000, 22179, 22862, 22865, 23026, 24060, 24088, 24352, 24506, 24539, 24680, 25276, 25757, 25777, 27113, 27829, 27877, 27900, 27921, 27939, 28269, 29807, 30032, ...], 'AdamNagourney': [13018, 13611, 14144, 16173, 26539], 'AdamNossiter': [467, 497, 724, 833, 1238, 1328, 1493, 1729, 1946, 2379, 2842, 3144, 3974, 5182, 5519, 6080, 7828, 8232, 8419, 8905, 10473, 11642, 12135, 12778, 13069, 13403, 14492, 14794, 16050, 17402, 17584, 17690, 17964, 18495, 18792, 18989, 19575, 20812, 21000, 21109, 21547, 21742, 22727, 23141, 23434, 23876, 24405, 24562, 26136, 26289, 26744, 29116, 29832, 30074, 31137, 31255, 31615, 31630, 32032, 35033, 35645, 36231, 37671, 38332, 43666, 46751, 46771, 48187, 48831, 49012, 49186, 49664, 49901, 51026, 51105, 51835, 52200, 52546, 52578], 'AdamPasick': [5021, 5700, 5823, 44039, 45932], 'AdamPhilipStern': [5414, 16908], 'AdamPopescu': [7123, 8841, 15861, 22343, 39522, 43773], 'AdamSatariano': [131, 1287, 1369, 2878, 4861, 4940, 5756, 6241, 8889, 9681, 10315, 14207, 15074, 15628, 15712, 16365, 17338, 18688, 19011, 19088, 19485, 20171, 21087, 21410, 24362, 24704, 25105, 25581, 25820, 26759, 26822, 28279, 28997, 31200, 33240, 36039, 37864, 38976, 39137, 44889, 45843, 47057, 47434, 48029, 49809, 50993, 52096], 'AdamSkolnick': [15274], 'AdamSobel': [33644, 35840], 'AdamSokol': [17523], 'AdamSternbergh': [7517, 33213, 48382], 'AdamTooze': [35951], 'AdamWinkler': [21474], 'AdamWray': [33319], 'AdamZagoria': [1291, 10722, 11320, 12515, 13073, 19514, 22241, 23212, 42471, 44981, 47828, 51064], 'AddieMorfoot': [24454], 'AdeelHassan': [3177, 3510, 3813, 5302, 5481, 6139, 6642, 7364, 7753, 8921, 9089, 10161, 10396, 11010, 11245, 11498, 14121, 16194, 16551, 18233, 18553, 19394, 19579, 19858, 20430, 20694, 21501, 21730, 21948, 23722, 26037, 26628, 27100, 28501, 29029, 29366, 31030, 31135, 31854, 32615, 33187, 33344, 33969, 34422, 37951, 38112, 38824, 40490, 41764, 41933, 42910, 43359, 43522, 43865, 44037, 45116, 45743, 46060, 46628, 48669, 49272, 49620, 50051, 50648, 50767, 52701], 'AdelleWaldman': [28731, 51126], 'AdenikeOlanrewaju': [42772], 'AditiNatashaKini': [12294], 'AditiSriram': [49902], 'AdizahEghan': [43300], 'AdnanKhan': [6909, 6911], 'AdrianZenz': [6013, 47937], 'AdrianaBalsamo': [3453, 6758, 9603, 12715, 13889, 14923, 20431, 33604, 42985, 43425, 44711, 46096, 49047], 'AdrianaCarranca': [50615], 'AdrianaCavarero': [4188], 'AdrianeQuinlan': [37711], 'AffrazMohammed': [36002], 'AfshanJafar': [26344], 'AfsinYurdakul': [6366], 'AgenciaEfe': [30708], 'AgnesCallard': [41840, 47695], 'AgnesLee': [12917], 'AgnèsC.Poirier': [51178], 'AhmedRashid': [16641, 18130], 'AhmerKhan': [42024], 'Ai-jenPoo': [5863, 11696], 'AiWeiwei': [5615], 'AidaAlami': [6462, 6720, 21732, 33288, 37878, 40160, 46604], 'AidanGardiner': [296, 2875, 7383, 7898, 8957, 11043, 35386, 36237, 38582, 40520, 40935, 42324, 44223, 44350, 45267, 45586, 46113, 47379, 50729], 'AileenJacobson': [3390, 13847, 23578, 33216, 37176, 41072, 47271, 52525], 'AiliMcConnon': [8716], 'AilinTang': [5127], 'AimeeBerg': [5398, 8143], 'AimeeFarrell': [14739, 20954, 24124, 32022, 33487, 38305, 41130, 45385], 'AimeeOrtiz': [3, 46, 383, 947, 1022, 1090, 1310, 1985, 2048, 2114, 2120, 2407, 2958, 3646, 3661, 3739, 31214, 31619, 31723, 32222, 32669, 32814, 33564, 33824, 33945, 34480, 34893, 35050, 35600, 38463, 38584, 38774, 39707, 44322, 44601, 45486, 45642, 45766, 45956, 46800, 46935, 47226, 47800, 48131, 48686, 48719], 'AinaraTiefenthäler': [4770, 5753, 6368, 9383, 12437, 15107, 15460, 15608, 16970, 17518, 18326, 19529, 19762, 22069, 24926, 25207, 46225, 47140, 51862, 51904, 52468], 'AishaHarris': [2464, 3631, 6132, 6142, 6260, 6598, 10526, 13233, 13461, 16628, 17782, 17847, 17922, 21460, 22007, 22429, 24844, 25607, 27878, 28432, 30049, 30448, 31786, 34767, 36235, 36828, 37399, 40828, 41062, 41307, 47325, 48813, 49562, 50037, 51331], 'AishaKhan': [9661, 39640], 'AkedaPulati': [42620], ...}"
      ]
     },
     "execution_count": 14,
     "metadata": {},
     "output_type": "execute_result"
    }
   ],
   "source": [
    "gdf.groups"
   ]
  },
  {
   "cell_type": "code",
   "execution_count": 15,
   "id": "6ae294ce-7126-485d-b017-ba6f3c08ce63",
   "metadata": {},
   "outputs": [],
   "source": [
    "data_month = data.pub_date.apply(lambda x: datetime.strptime(x, '%Y-%m-%dT%H:%M:%S+0000'))"
   ]
  },
  {
   "cell_type": "code",
   "execution_count": 16,
   "id": "0d68bf0d-1b80-4fd8-a7d1-eb41ef089dac",
   "metadata": {},
   "outputs": [],
   "source": [
    "data['data_month'] = data_month"
   ]
  },
  {
   "cell_type": "code",
   "execution_count": 17,
   "id": "c8f30d0b-a84c-4758-a105-1ccbbd7e262f",
   "metadata": {},
   "outputs": [
    {
     "data": {
      "text/html": [
       "<div>\n",
       "<style scoped>\n",
       "    .dataframe tbody tr th:only-of-type {\n",
       "        vertical-align: middle;\n",
       "    }\n",
       "\n",
       "    .dataframe tbody tr th {\n",
       "        vertical-align: top;\n",
       "    }\n",
       "\n",
       "    .dataframe thead th {\n",
       "        text-align: right;\n",
       "    }\n",
       "</style>\n",
       "<table border=\"1\" class=\"dataframe\">\n",
       "  <thead>\n",
       "    <tr style=\"text-align: right;\">\n",
       "      <th></th>\n",
       "      <th>headline</th>\n",
       "      <th>word_count</th>\n",
       "      <th>author_count</th>\n",
       "      <th>lead_author</th>\n",
       "      <th>section</th>\n",
       "      <th>pub_date</th>\n",
       "      <th>data_month</th>\n",
       "    </tr>\n",
       "  </thead>\n",
       "  <tbody>\n",
       "    <tr>\n",
       "      <th>0</th>\n",
       "      <td>A Leak-Prone White House Finally Manages to Ke...</td>\n",
       "      <td>1341.0</td>\n",
       "      <td>1</td>\n",
       "      <td>MichaelCrowley</td>\n",
       "      <td>U.S.</td>\n",
       "      <td>2019-12-01T00:15:08+0000</td>\n",
       "      <td>2019-12-01 00:15:08</td>\n",
       "    </tr>\n",
       "    <tr>\n",
       "      <th>1</th>\n",
       "      <td>Justin Fields Has ‘Heisman Moment’ in Ohio Sta...</td>\n",
       "      <td>727.0</td>\n",
       "      <td>1</td>\n",
       "      <td>JeffArnold</td>\n",
       "      <td>Sports</td>\n",
       "      <td>2019-12-01T00:33:57+0000</td>\n",
       "      <td>2019-12-01 00:33:57</td>\n",
       "    </tr>\n",
       "    <tr>\n",
       "      <th>2</th>\n",
       "      <td>Mikaela Shiffrin Learns a New Way to Win: With...</td>\n",
       "      <td>762.0</td>\n",
       "      <td>1</td>\n",
       "      <td>BillPennington</td>\n",
       "      <td>Sports</td>\n",
       "      <td>2019-12-01T00:37:15+0000</td>\n",
       "      <td>2019-12-01 00:37:15</td>\n",
       "    </tr>\n",
       "    <tr>\n",
       "      <th>3</th>\n",
       "      <td>Leonardo DiCaprio Responds to Brazil’s Preside...</td>\n",
       "      <td>540.0</td>\n",
       "      <td>1</td>\n",
       "      <td>AimeeOrtiz</td>\n",
       "      <td>World</td>\n",
       "      <td>2019-12-01T01:03:22+0000</td>\n",
       "      <td>2019-12-01 01:03:22</td>\n",
       "    </tr>\n",
       "    <tr>\n",
       "      <th>4</th>\n",
       "      <td>Cooking Grease Down a Drain Eyed in Sewage Flo...</td>\n",
       "      <td>781.0</td>\n",
       "      <td>2</td>\n",
       "      <td>NeilVigdor</td>\n",
       "      <td>New York</td>\n",
       "      <td>2019-12-01T01:47:35+0000</td>\n",
       "      <td>2019-12-01 01:47:35</td>\n",
       "    </tr>\n",
       "  </tbody>\n",
       "</table>\n",
       "</div>"
      ],
      "text/plain": [
       "                                            headline  word_count  \\\n",
       "0  A Leak-Prone White House Finally Manages to Ke...      1341.0   \n",
       "1  Justin Fields Has ‘Heisman Moment’ in Ohio Sta...       727.0   \n",
       "2  Mikaela Shiffrin Learns a New Way to Win: With...       762.0   \n",
       "3  Leonardo DiCaprio Responds to Brazil’s Preside...       540.0   \n",
       "4  Cooking Grease Down a Drain Eyed in Sewage Flo...       781.0   \n",
       "\n",
       "   author_count     lead_author   section                  pub_date  \\\n",
       "0             1  MichaelCrowley      U.S.  2019-12-01T00:15:08+0000   \n",
       "1             1      JeffArnold    Sports  2019-12-01T00:33:57+0000   \n",
       "2             1  BillPennington    Sports  2019-12-01T00:37:15+0000   \n",
       "3             1      AimeeOrtiz     World  2019-12-01T01:03:22+0000   \n",
       "4             2      NeilVigdor  New York  2019-12-01T01:47:35+0000   \n",
       "\n",
       "           data_month  \n",
       "0 2019-12-01 00:15:08  \n",
       "1 2019-12-01 00:33:57  \n",
       "2 2019-12-01 00:37:15  \n",
       "3 2019-12-01 01:03:22  \n",
       "4 2019-12-01 01:47:35  "
      ]
     },
     "execution_count": 17,
     "metadata": {},
     "output_type": "execute_result"
    }
   ],
   "source": [
    "data.head()"
   ]
  },
  {
   "cell_type": "code",
   "execution_count": null,
   "id": "3c5fd9e3-c8cb-42ab-9689-8752179d2891",
   "metadata": {},
   "outputs": [],
   "source": []
  },
  {
   "cell_type": "code",
   "execution_count": 18,
   "id": "24c2e03e-9706-4a93-9168-c3aaeff86b55",
   "metadata": {},
   "outputs": [],
   "source": [
    "import numpy as np"
   ]
  },
  {
   "cell_type": "code",
   "execution_count": 19,
   "id": "7e70fc65-cbc2-4198-bccc-80a223aa7791",
   "metadata": {},
   "outputs": [],
   "source": [
    "# np.diff() can caculate the difference between adjacent elements"
   ]
  },
  {
   "cell_type": "code",
   "execution_count": 20,
   "id": "fa4469a4-b350-41c9-b282-3ae58003e887",
   "metadata": {},
   "outputs": [],
   "source": [
    "time_diff = np.diff(data_month)"
   ]
  },
  {
   "cell_type": "code",
   "execution_count": 21,
   "id": "4a82e1d7-c22b-4018-ab2e-35dcd4186b89",
   "metadata": {},
   "outputs": [
    {
     "data": {
      "text/plain": [
       "array([1129000000000,  198000000000, 1567000000000, 2653000000000,\n",
       "         15000000000], dtype='timedelta64[ns]')"
      ]
     },
     "execution_count": 21,
     "metadata": {},
     "output_type": "execute_result"
    }
   ],
   "source": [
    "time_diff[: 5]"
   ]
  },
  {
   "cell_type": "code",
   "execution_count": 22,
   "id": "e8d5a000-7a67-4a02-b323-7a2c5cd83c8d",
   "metadata": {},
   "outputs": [],
   "source": [
    "# use .total_seconds() method to caculate the duration seconds"
   ]
  },
  {
   "cell_type": "code",
   "execution_count": 23,
   "id": "284d268b-aeb0-44bf-aef4-c90f98f0f018",
   "metadata": {},
   "outputs": [
    {
     "ename": "SyntaxError",
     "evalue": "invalid syntax (861683141.py, line 5)",
     "output_type": "error",
     "traceback": [
      "\u001b[0;36m  Cell \u001b[0;32mIn[23], line 5\u001b[0;36m\u001b[0m\n\u001b[0;31m    times = [.datetime.strptime(date, \"%Y-%m-%dT%H:%M:%S%z\") for date in pub_dates]\u001b[0m\n\u001b[0m             ^\u001b[0m\n\u001b[0;31mSyntaxError\u001b[0m\u001b[0;31m:\u001b[0m invalid syntax\n"
     ]
    }
   ],
   "source": [
    "for auth in gdf.groups:\n",
    "    sdf = gdf.get_group(auth)\n",
    "    sdf = sdf.sort_values('pub_date')\n",
    "    pub_dates = sdf.pub_date.tolist()\n",
    "    times = [.datetime.strptime(date, \"%Y-%m-%dT%H:%M:%S%z\") for date in pub_dates]\n",
    "    time_diffs = np.diff(times)\n",
    "    seconds_btw = [td.total_seconds() for td in time_diffs]\n",
    "    pub_durations.append(np.mean(seconds_btw) / 60 / 60 / 24)"
   ]
  },
  {
   "cell_type": "code",
   "execution_count": 65,
   "id": "425cbca8-8e2a-4c8d-8652-931d819c87b9",
   "metadata": {},
   "outputs": [
    {
     "name": "stderr",
     "output_type": "stream",
     "text": [
      "/Users/apple/Desktop/pythonProject10/venv/lib/python3.11/site-packages/numpy/_core/fromnumeric.py:3904: RuntimeWarning: Mean of empty slice.\n",
      "  return _methods._mean(a, axis=axis, dtype=dtype,\n",
      "/Users/apple/Desktop/pythonProject10/venv/lib/python3.11/site-packages/numpy/_core/_methods.py:147: RuntimeWarning: invalid value encountered in scalar divide\n",
      "  ret = ret.dtype.type(ret / rcount)\n"
     ]
    }
   ],
   "source": [
    "from datetime import timedelta\n",
    "pub_durations = []\n",
    "for auth in data.lead_author.drop_duplicates():\n",
    "    t1 = data.lead_author == str(auth)\n",
    "    times = [data.data_month[t1].sort_values().iloc[i] for i in range(len(data.data_month[t1].sort_values()))]\n",
    "    diff_time = np.diff(times)\n",
    "    sec = [td.total_seconds() for td in diff_time]\n",
    "    pub_durations.append(np.mean(sec) / 60 / 60 / 24)"
   ]
  },
  {
   "cell_type": "code",
   "execution_count": null,
   "id": "dc17533d-9645-46af-ba95-585353e71c6f",
   "metadata": {},
   "outputs": [],
   "source": []
  },
  {
   "cell_type": "code",
   "execution_count": 66,
   "id": "da9b10c7-0831-45e1-a9e6-882adcfdb07f",
   "metadata": {},
   "outputs": [
    {
     "data": {
      "text/plain": [
       "[np.float64(3.5182318535052914),\n",
       " np.float64(26.514783399470904),\n",
       " np.float64(7.132731935366738),\n",
       " np.float64(2.248314814814815),\n",
       " np.float64(1.589393738977072)]"
      ]
     },
     "execution_count": 66,
     "metadata": {},
     "output_type": "execute_result"
    }
   ],
   "source": [
    "pub_durations[: 5]"
   ]
  },
  {
   "cell_type": "code",
   "execution_count": 67,
   "id": "9c4a8b1e-eae0-4a0e-94c4-42637d57a4ce",
   "metadata": {},
   "outputs": [
    {
     "data": {
      "text/plain": [
       "<Axes: ylabel='Count'>"
      ]
     },
     "execution_count": 67,
     "metadata": {},
     "output_type": "execute_result"
    },
    {
     "data": {
      "image/png": "[encoded data removed]",
      "text/plain": [
       "<Figure size 640x480 with 1 Axes>"
      ]
     },
     "metadata": {},
     "output_type": "display_data"
    }
   ],
   "source": [
    "import seaborn as sns\n",
    "sns.histplot(pub_durations)"
   ]
  },
  {
   "cell_type": "code",
   "execution_count": 26,
   "id": "3fb79587-dca4-4f4c-bc11-f3805270562f",
   "metadata": {},
   "outputs": [
    {
     "data": {
      "text/plain": [
       "Timedelta('-1 days +22:46:07')"
      ]
     },
     "execution_count": 26,
     "metadata": {},
     "output_type": "execute_result"
    }
   ],
   "source": [
    "data.loc[1, 'data_month'] - data.loc[5, 'data_month']"
   ]
  },
  {
   "cell_type": "code",
   "execution_count": 27,
   "id": "7dbdb33d-15dc-4556-b118-aac3a0b209cb",
   "metadata": {},
   "outputs": [
    {
     "data": {
      "text/plain": [
       "19230   2019-03-14 09:00:02\n",
       "30240   2019-05-29 01:44:51\n",
       "Name: data_month, dtype: datetime64[ns]"
      ]
     },
     "execution_count": 27,
     "metadata": {},
     "output_type": "execute_result"
    }
   ],
   "source": [
    "data.data_month[data.lead_author == 'A.C.Shilton'].sort_values()"
   ]
  },
  {
   "cell_type": "code",
   "execution_count": null,
   "id": "9c940a2f-d0fe-4d31-9d5c-f30f5d09be35",
   "metadata": {},
   "outputs": [],
   "source": [
    "import seaborn as sns"
   ]
  },
  {
   "cell_type": "code",
   "execution_count": null,
   "id": "2f135ee1-15a3-4e84-a5c2-cd6522d848cf",
   "metadata": {},
   "outputs": [],
   "source": [
    "6540289000000000 / 60 / 60 / 24"
   ]
  },
  {
   "cell_type": "code",
   "execution_count": 32,
   "id": "24d81cbe-4728-4ef6-9f62-19551a19f682",
   "metadata": {},
   "outputs": [
    {
     "data": {
      "text/plain": [
       "Timedelta('75 days 16:44:49')"
      ]
     },
     "execution_count": 32,
     "metadata": {},
     "output_type": "execute_result"
    }
   ],
   "source": [
    "data.data_month[data.lead_author == 'A.C.Shilton'].sort_values().iloc[1] - data.data_month[data.lead_author == 'A.C.Shilton'].sort_values().iloc[0]"
   ]
  },
  {
   "cell_type": "code",
   "execution_count": 33,
   "id": "75479d13-9d74-4b75-8c38-f73dcfcb8922",
   "metadata": {},
   "outputs": [],
   "source": [
    "v = data.data_month[data.lead_author == 'A.C.Shilton'].sort_values().iloc[1] - data.data_month[data.lead_author == 'A.C.Shilton'].sort_values().iloc[0]"
   ]
  },
  {
   "cell_type": "code",
   "execution_count": 37,
   "id": "a2578103-1837-4e3c-a515-f654672b2e2a",
   "metadata": {},
   "outputs": [
    {
     "ename": "AttributeError",
     "evalue": "'Timedelta' object has no attribute 'total'",
     "output_type": "error",
     "traceback": [
      "\u001b[0;31m---------------------------------------------------------------------------\u001b[0m",
      "\u001b[0;31mAttributeError\u001b[0m                            Traceback (most recent call last)",
      "Cell \u001b[0;32mIn[37], line 2\u001b[0m\n\u001b[1;32m      1\u001b[0m \u001b[38;5;28;01mfrom\u001b[39;00m \u001b[38;5;21;01mdatetime\u001b[39;00m \u001b[38;5;28;01mimport\u001b[39;00m timedelta\n\u001b[0;32m----> 2\u001b[0m \u001b[43mv\u001b[49m\u001b[38;5;241;43m.\u001b[39;49m\u001b[43mtotal\u001b[49m\u001b[38;5;241m.\u001b[39mseconds()\n",
      "\u001b[0;31mAttributeError\u001b[0m: 'Timedelta' object has no attribute 'total'"
     ]
    }
   ],
   "source": [
    "from datetime import timedelta\n",
    "sec = "
   ]
  },
  {
   "cell_type": "code",
   "execution_count": 40,
   "id": "e8896441-f6dd-4013-85e3-1dae935cbc32",
   "metadata": {},
   "outputs": [
    {
     "data": {
      "text/plain": [
       "pandas._libs.tslibs.timedeltas.Timedelta"
      ]
     },
     "execution_count": 40,
     "metadata": {},
     "output_type": "execute_result"
    }
   ],
   "source": [
    "type(v)"
   ]
  },
  {
   "cell_type": "code",
   "execution_count": 45,
   "id": "65b2ee46-fa04-4921-95bd-3e2c22bb9319",
   "metadata": {},
   "outputs": [
    {
     "data": {
      "text/plain": [
       "6540289.0"
      ]
     },
     "execution_count": 45,
     "metadata": {},
     "output_type": "execute_result"
    }
   ],
   "source": [
    "v.total_seconds()"
   ]
  },
  {
   "cell_type": "code",
   "execution_count": 48,
   "id": "e98d50c8-d39c-41f8-8992-d0488de0d071",
   "metadata": {},
   "outputs": [
    {
     "data": {
      "text/plain": [
       "19230   2019-03-14 09:00:02\n",
       "30240   2019-05-29 01:44:51\n",
       "Name: data_month, dtype: datetime64[ns]"
      ]
     },
     "execution_count": 48,
     "metadata": {},
     "output_type": "execute_result"
    }
   ],
   "source": [
    "data.data_month[data.lead_author == 'A.C.Shilton'].sort_values().iloc[:]"
   ]
  },
  {
   "cell_type": "code",
   "execution_count": 53,
   "id": "68aa5461-9e58-4619-961d-788b65a4a072",
   "metadata": {},
   "outputs": [],
   "source": [
    "times = [data.data_month[data.lead_author == 'A.C.Shilton'].sort_values().iloc[i] for i in range(len(data.data_month[data.lead_author == 'A.C.Shilton'].sort_values()))]"
   ]
  },
  {
   "cell_type": "code",
   "execution_count": 54,
   "id": "df9edf77-0611-480a-a268-b35cdb54b68d",
   "metadata": {},
   "outputs": [
    {
     "data": {
      "text/plain": [
       "[Timestamp('2019-03-14 09:00:02'), Timestamp('2019-05-29 01:44:51')]"
      ]
     },
     "execution_count": 54,
     "metadata": {},
     "output_type": "execute_result"
    }
   ],
   "source": [
    "times"
   ]
  },
  {
   "cell_type": "code",
   "execution_count": 55,
   "id": "7451b274-48a7-443c-bb28-a298bc1e1418",
   "metadata": {},
   "outputs": [
    {
     "data": {
      "text/plain": [
       "array([Timedelta('75 days 16:44:49')], dtype=object)"
      ]
     },
     "execution_count": 55,
     "metadata": {},
     "output_type": "execute_result"
    }
   ],
   "source": [
    "np.diff(times)"
   ]
  },
  {
   "cell_type": "code",
   "execution_count": 57,
   "id": "4fcb03c4-6d01-4ef3-a7e5-5fa76c7bf414",
   "metadata": {},
   "outputs": [
    {
     "ename": "AttributeError",
     "evalue": "'numpy.ndarray' object has no attribute 'total'",
     "output_type": "error",
     "traceback": [
      "\u001b[0;31m---------------------------------------------------------------------------\u001b[0m",
      "\u001b[0;31mAttributeError\u001b[0m                            Traceback (most recent call last)",
      "Cell \u001b[0;32mIn[57], line 1\u001b[0m\n\u001b[0;32m----> 1\u001b[0m \u001b[43mnp\u001b[49m\u001b[38;5;241;43m.\u001b[39;49m\u001b[43mdiff\u001b[49m\u001b[43m(\u001b[49m\u001b[43mtimes\u001b[49m\u001b[43m)\u001b[49m\u001b[38;5;241;43m.\u001b[39;49m\u001b[43mtotal\u001b[49m\u001b[38;5;241m.\u001b[39mseconds()\n",
      "\u001b[0;31mAttributeError\u001b[0m: 'numpy.ndarray' object has no attribute 'total'"
     ]
    }
   ],
   "source": [
    "np.diff(times).total.seconds()"
   ]
  },
  {
   "cell_type": "code",
   "execution_count": null,
   "id": "28f93d38-bc18-4adc-9651-73f7e76fbf07",
   "metadata": {},
   "outputs": [],
   "source": []
  }
 ],
 "metadata": {
  "kernelspec": {
   "display_name": "Python 3 (ipykernel)",
   "language": "python",
   "name": "python3"
  },
  "language_info": {
   "codemirror_mode": {
    "name": "ipython",
    "version": 3
   },
   "file_extension": ".py",
   "mimetype": "text/x-python",
   "name": "python",
   "nbconvert_exporter": "python",
   "pygments_lexer": "ipython3",
   "version": "3.11.1"
  }
 },
 "nbformat": 4,
 "nbformat_minor": 5
}
