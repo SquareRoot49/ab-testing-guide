{
 "cells": [
  {
   "cell_type": "code",
   "execution_count": 52,
   "id": "425ea385-79f3-4b06-b9c9-b077c0f9e753",
   "metadata": {},
   "outputs": [],
   "source": [
    "import pandas as pd\n",
    "import numpy as np\n",
    "from datetime import datetime"
   ]
  },
  {
   "cell_type": "code",
   "execution_count": 2,
   "id": "35f4b365-5950-4311-88e6-cb6e7c33f5c9",
   "metadata": {},
   "outputs": [],
   "source": [
    "import json"
   ]
  },
  {
   "cell_type": "code",
   "execution_count": 3,
   "id": "e3c78f60-e0e8-4f12-8089-bf646b118fd6",
   "metadata": {},
   "outputs": [],
   "source": [
    "with open('singapore_twitter_copy.json', 'r') as f:\n",
    "    data = json.load(f)"
   ]
  },
  {
   "cell_type": "code",
   "execution_count": 7,
   "id": "a8d6c69c-9d4d-48f0-8701-1c8481174961",
   "metadata": {},
   "outputs": [
    {
     "data": {
      "text/plain": [
       "list"
      ]
     },
     "execution_count": 7,
     "metadata": {},
     "output_type": "execute_result"
    }
   ],
   "source": [
    "type(data)"
   ]
  },
  {
   "cell_type": "code",
   "execution_count": 8,
   "id": "e228082d-bd73-4f7d-a9d2-f26af71eece5",
   "metadata": {},
   "outputs": [
    {
     "data": {
      "text/plain": [
       "13740"
      ]
     },
     "execution_count": 8,
     "metadata": {},
     "output_type": "execute_result"
    }
   ],
   "source": [
    "len(data)"
   ]
  },
  {
   "cell_type": "code",
   "execution_count": 9,
   "id": "2e441713-b8cb-4b13-ad12-65aed96621fa",
   "metadata": {},
   "outputs": [
    {
     "data": {
      "text/plain": [
       "dict"
      ]
     },
     "execution_count": 9,
     "metadata": {},
     "output_type": "execute_result"
    }
   ],
   "source": [
    "type(data[0])"
   ]
  },
  {
   "cell_type": "code",
   "execution_count": 10,
   "id": "11166380-f948-46e6-9c83-279a27ce0813",
   "metadata": {},
   "outputs": [
    {
     "data": {
      "text/plain": [
       "10"
      ]
     },
     "execution_count": 10,
     "metadata": {},
     "output_type": "execute_result"
    }
   ],
   "source": [
    "len(data[0])"
   ]
  },
  {
   "cell_type": "code",
   "execution_count": 11,
   "id": "7926fe93-ecd7-47d4-b1f3-764e234048b9",
   "metadata": {},
   "outputs": [
    {
     "data": {
      "text/plain": [
       "{'referenced_tweets': [{'type': 'replied_to', 'id': '1491816184240480284'}],\n",
       " 'id': '1491816347117916162',\n",
       " 'in_reply_to_user_id': '204970988',\n",
       " 'reply_settings': 'everyone',\n",
       " 'entities': {'mentions': [{'start': 0,\n",
       "    'end': 12,\n",
       "    'username': 'QuantoQuant',\n",
       "    'id': '4332053537'}],\n",
       "  'annotations': [{'start': 241,\n",
       "    'end': 249,\n",
       "    'probability': 0.8172,\n",
       "    'type': 'Place',\n",
       "    'normalized_text': 'singapore'}]},\n",
       " 'text': \"@QuantoQuant I don't think we should have death penalty for dealers, but at the very least I think they should be deported if they are here illegally. Alternatively, I think they should go to prison for involuntary manslaughter. \\n\\nI believe singapore has only had a few dozen put to death.\",\n",
       " 'source': 'Twitter Web App',\n",
       " 'created_at': '2022-02-10T16:48:28.000Z',\n",
       " 'public_metrics': {'retweet_count': 0,\n",
       "  'reply_count': 1,\n",
       "  'like_count': 2,\n",
       "  'quote_count': 0},\n",
       " 'author_id': '204970988'}"
      ]
     },
     "execution_count": 11,
     "metadata": {},
     "output_type": "execute_result"
    }
   ],
   "source": [
    "data[0]"
   ]
  },
  {
   "cell_type": "code",
   "execution_count": 12,
   "id": "14fd73f3-1ae1-46c8-a36c-0ed5af1eac07",
   "metadata": {},
   "outputs": [
    {
     "data": {
      "text/plain": [
       "{'referenced_tweets': [{'type': 'replied_to', 'id': '1491780697106763784'}],\n",
       " 'id': '1491813901842984962',\n",
       " 'in_reply_to_user_id': '1382974668',\n",
       " 'reply_settings': 'everyone',\n",
       " 'entities': {'mentions': [{'start': 0,\n",
       "    'end': 11,\n",
       "    'username': 'IonaItalia',\n",
       "    'id': '1382974668'}],\n",
       "  'annotations': [{'start': 99,\n",
       "    'end': 107,\n",
       "    'probability': 0.9643,\n",
       "    'type': 'Place',\n",
       "    'normalized_text': 'Singapore'}]},\n",
       " 'text': '@IonaItalia It’s also a question of enforcing laws at a level of harshness that drives compliance. Singapore does not have a drug problem. Instead, it has very strict drug laws...that it enforces...with a cane or death penalty. \\n\\nBut if one won’t be that harsh, then consider legalization.',\n",
       " 'source': 'Twitter for iPad',\n",
       " 'created_at': '2022-02-10T16:38:45.000Z',\n",
       " 'public_metrics': {'retweet_count': 0,\n",
       "  'reply_count': 1,\n",
       "  'like_count': 1,\n",
       "  'quote_count': 0},\n",
       " 'author_id': '1459920226385027086'}"
      ]
     },
     "execution_count": 12,
     "metadata": {},
     "output_type": "execute_result"
    }
   ],
   "source": [
    "data[1]"
   ]
  },
  {
   "cell_type": "code",
   "execution_count": 16,
   "id": "ed2f8f98-6491-4d2d-8d02-9e30bb1d7fa9",
   "metadata": {},
   "outputs": [],
   "source": [
    "rt_tweet = [tweet for tweet in data if tweet['text'].startswith('RT')]"
   ]
  },
  {
   "cell_type": "code",
   "execution_count": 17,
   "id": "2d97dcbd-97fb-42ce-9017-4c02c84910f4",
   "metadata": {},
   "outputs": [
    {
     "data": {
      "text/plain": [
       "0.6558224163027656"
      ]
     },
     "execution_count": 17,
     "metadata": {},
     "output_type": "execute_result"
    }
   ],
   "source": [
    "len(rt_tweet) / len(data)"
   ]
  },
  {
   "cell_type": "code",
   "execution_count": null,
   "id": "707d6b39-12ef-4dde-936a-83a1c0e32b0f",
   "metadata": {},
   "outputs": [],
   "source": []
  },
  {
   "cell_type": "code",
   "execution_count": null,
   "id": "76e71a6a-eead-4feb-a7cb-a3a451b1b318",
   "metadata": {},
   "outputs": [],
   "source": []
  },
  {
   "cell_type": "code",
   "execution_count": 18,
   "id": "d733322d-c5c1-4d91-a796-4d4595302f00",
   "metadata": {},
   "outputs": [],
   "source": [
    "## entities in tweet"
   ]
  },
  {
   "cell_type": "code",
   "execution_count": 20,
   "id": "2b6ff0b3-0eab-4489-a34a-40b472c29945",
   "metadata": {},
   "outputs": [
    {
     "data": {
      "text/plain": [
       "{'mentions': [{'start': 0,\n",
       "   'end': 12,\n",
       "   'username': 'QuantoQuant',\n",
       "   'id': '4332053537'}],\n",
       " 'annotations': [{'start': 241,\n",
       "   'end': 249,\n",
       "   'probability': 0.8172,\n",
       "   'type': 'Place',\n",
       "   'normalized_text': 'singapore'}]}"
      ]
     },
     "execution_count": 20,
     "metadata": {},
     "output_type": "execute_result"
    }
   ],
   "source": [
    "data[0]['entities']"
   ]
  },
  {
   "cell_type": "code",
   "execution_count": 21,
   "id": "4f13a0e0-5363-4070-8026-f8f8c43a2f5e",
   "metadata": {},
   "outputs": [
    {
     "data": {
      "text/plain": [
       "{'mentions': [{'start': 0,\n",
       "   'end': 12,\n",
       "   'username': 'QuantoQuant',\n",
       "   'id': '4332053537'}],\n",
       " 'annotations': [{'start': 241,\n",
       "   'end': 249,\n",
       "   'probability': 0.8172,\n",
       "   'type': 'Place',\n",
       "   'normalized_text': 'singapore'}]}"
      ]
     },
     "execution_count": 21,
     "metadata": {},
     "output_type": "execute_result"
    }
   ],
   "source": [
    "data[0].get('entities')"
   ]
  },
  {
   "cell_type": "code",
   "execution_count": 23,
   "id": "e59a410b-f430-493a-950a-c1f84a365e67",
   "metadata": {},
   "outputs": [
    {
     "data": {
      "text/plain": [
       "True"
      ]
     },
     "execution_count": 23,
     "metadata": {},
     "output_type": "execute_result"
    }
   ],
   "source": [
    " data[0]['entities'] == data[0].get('entities')"
   ]
  },
  {
   "cell_type": "code",
   "execution_count": null,
   "id": "e52fea58-c787-4ed5-afcd-411c0edc99db",
   "metadata": {},
   "outputs": [],
   "source": []
  },
  {
   "cell_type": "code",
   "execution_count": 24,
   "id": "0d7a27a3-7f80-428b-a41f-6aeee3a7e7a3",
   "metadata": {},
   "outputs": [
    {
     "data": {
      "text/plain": [
       "{'annotations', 'cashtags', 'hashtags', 'mentions', 'urls'}"
      ]
     },
     "execution_count": 24,
     "metadata": {},
     "output_type": "execute_result"
    }
   ],
   "source": [
    "# entities:\n",
    "{k for tweet in data if tweet.get('entities') for k in tweet.get('entities')}"
   ]
  },
  {
   "cell_type": "code",
   "execution_count": 22,
   "id": "8a57bc72-9ca9-4947-b3e0-e07b2a5a2b12",
   "metadata": {},
   "outputs": [
    {
     "data": {
      "text/plain": [
       "{'annotations', 'cashtags', 'hashtags', 'mentions', 'urls'}"
      ]
     },
     "execution_count": 22,
     "metadata": {},
     "output_type": "execute_result"
    }
   ],
   "source": [
    "{k for tweet in data if tweet.get('entities') for k in tweet.get(\"entities\")}"
   ]
  },
  {
   "cell_type": "code",
   "execution_count": 25,
   "id": "0376481a-2e73-4d95-9b0c-58a76715ee75",
   "metadata": {},
   "outputs": [],
   "source": [
    "ents = set()\n",
    "ent_map = {'annotations': 'normalized_text', \n",
    "           'cashtags': 'tag', \n",
    "           'hashtags': 'tag', \n",
    "           'mentions': 'username', \n",
    "           'urls': 'url'}\n"
   ]
  },
  {
   "cell_type": "code",
   "execution_count": 38,
   "id": "b0a986d3-ee37-4ec3-84bc-50f6fdc82051",
   "metadata": {},
   "outputs": [],
   "source": [
    "for tweet in data:\n",
    "    if not tweet.get('entities'):\n",
    "        continue\n",
    "    for ent in ent_map:\n",
    "        if ent not in tweet['entities']:\n",
    "            continue\n",
    "        ents.update({i.get(ent_map.get(ent)) for i in tweet.get(\"entities\").get(ent)})"
   ]
  },
  {
   "cell_type": "code",
   "execution_count": 39,
   "id": "9f4fc0c8-bf87-4977-9ea6-048e09d17ee8",
   "metadata": {},
   "outputs": [
    {
     "data": {
      "text/plain": [
       "[{'start': 241,\n",
       "  'end': 249,\n",
       "  'probability': 0.8172,\n",
       "  'type': 'Place',\n",
       "  'normalized_text': 'singapore'}]"
      ]
     },
     "execution_count": 39,
     "metadata": {},
     "output_type": "execute_result"
    }
   ],
   "source": [
    "data[0].get('entities').get('annotations')"
   ]
  },
  {
   "cell_type": "code",
   "execution_count": 35,
   "id": "f531dcdd-1ba8-42c8-b7e9-f74520137825",
   "metadata": {},
   "outputs": [
    {
     "data": {
      "text/plain": [
       "set"
      ]
     },
     "execution_count": 35,
     "metadata": {},
     "output_type": "execute_result"
    }
   ],
   "source": [
    "type(ents)"
   ]
  },
  {
   "cell_type": "code",
   "execution_count": 47,
   "id": "3731ee58-f8c5-4047-adcc-9c4c8f735063",
   "metadata": {},
   "outputs": [
    {
     "ename": "TypeError",
     "evalue": "'set' object is not subscriptable",
     "output_type": "error",
     "traceback": [
      "\u001b[0;31m---------------------------------------------------------------------------\u001b[0m",
      "\u001b[0;31mTypeError\u001b[0m                                 Traceback (most recent call last)",
      "Cell \u001b[0;32mIn[47], line 1\u001b[0m\n\u001b[0;32m----> 1\u001b[0m \u001b[43ments\u001b[49m\u001b[43m[\u001b[49m\u001b[38;5;241;43m1\u001b[39;49m\u001b[43m]\u001b[49m\n",
      "\u001b[0;31mTypeError\u001b[0m: 'set' object is not subscriptable"
     ]
    }
   ],
   "source": [
    "ents[1]"
   ]
  },
  {
   "cell_type": "code",
   "execution_count": 42,
   "id": "6f4d3700-9f92-49a9-870b-99d0261a573b",
   "metadata": {},
   "outputs": [],
   "source": [
    "my_set = set([1, 2, 3, 4]) "
   ]
  },
  {
   "cell_type": "code",
   "execution_count": 49,
   "id": "d06c7aff-8dff-4284-b046-2bc7f802a689",
   "metadata": {},
   "outputs": [
    {
     "data": {
      "text/plain": [
       "{1, 2, 3, 4}"
      ]
     },
     "execution_count": 49,
     "metadata": {},
     "output_type": "execute_result"
    }
   ],
   "source": [
    "my_set"
   ]
  },
  {
   "cell_type": "code",
   "execution_count": 46,
   "id": "54232d32-e042-4c0b-ac65-a163ee76517f",
   "metadata": {},
   "outputs": [
    {
     "name": "stdout",
     "output_type": "stream",
     "text": [
      "1\n",
      "2\n",
      "3\n",
      "4\n"
     ]
    }
   ],
   "source": [
    "for i in my_set:\n",
    "    print(i)"
   ]
  },
  {
   "cell_type": "code",
   "execution_count": 50,
   "id": "497b1982-5600-4a26-8785-c7b2864194d3",
   "metadata": {},
   "outputs": [],
   "source": [
    "hours = {h: {} for h in range(24)}"
   ]
  },
  {
   "cell_type": "code",
   "execution_count": 51,
   "id": "01bc14a6-953f-4dce-912e-7efcab60a557",
   "metadata": {},
   "outputs": [
    {
     "data": {
      "text/plain": [
       "{0: {},\n",
       " 1: {},\n",
       " 2: {},\n",
       " 3: {},\n",
       " 4: {},\n",
       " 5: {},\n",
       " 6: {},\n",
       " 7: {},\n",
       " 8: {},\n",
       " 9: {},\n",
       " 10: {},\n",
       " 11: {},\n",
       " 12: {},\n",
       " 13: {},\n",
       " 14: {},\n",
       " 15: {},\n",
       " 16: {},\n",
       " 17: {},\n",
       " 18: {},\n",
       " 19: {},\n",
       " 20: {},\n",
       " 21: {},\n",
       " 22: {},\n",
       " 23: {}}"
      ]
     },
     "execution_count": 51,
     "metadata": {},
     "output_type": "execute_result"
    }
   ],
   "source": [
    "hours"
   ]
  },
  {
   "cell_type": "code",
   "execution_count": 53,
   "id": "df062438-72c4-40a8-a4a9-19519aaf9991",
   "metadata": {},
   "outputs": [
    {
     "data": {
      "text/plain": [
       "'2022-02-10T01:28:26.000Z'"
      ]
     },
     "execution_count": 53,
     "metadata": {},
     "output_type": "execute_result"
    }
   ],
   "source": [
    "tweet['created_at']"
   ]
  },
  {
   "cell_type": "code",
   "execution_count": 57,
   "id": "2483d00d-f90f-4b68-960a-8500105fb2ae",
   "metadata": {},
   "outputs": [
    {
     "data": {
      "text/plain": [
       "16"
      ]
     },
     "execution_count": 57,
     "metadata": {},
     "output_type": "execute_result"
    }
   ],
   "source": [
    "demo = data[0]['created_at']\n",
    "datetime.strptime(demo, '%Y-%m-%dT%H:%M:%S.000Z').hour"
   ]
  },
  {
   "cell_type": "code",
   "execution_count": 87,
   "id": "9910a940-aab8-448f-8d99-490043b78b71",
   "metadata": {},
   "outputs": [
    {
     "data": {
      "text/plain": [
       "[{'start': 241,\n",
       "  'end': 249,\n",
       "  'probability': 0.8172,\n",
       "  'type': 'Place',\n",
       "  'normalized_text': 'singapore'}]"
      ]
     },
     "execution_count": 87,
     "metadata": {},
     "output_type": "execute_result"
    }
   ],
   "source": [
    "data[0]['entities'].get('annotations')"
   ]
  },
  {
   "cell_type": "code",
   "execution_count": 89,
   "id": "8df57cc7-f5d3-41d4-92af-38325c58a223",
   "metadata": {},
   "outputs": [
    {
     "data": {
      "text/plain": [
       "list"
      ]
     },
     "execution_count": 89,
     "metadata": {},
     "output_type": "execute_result"
    }
   ],
   "source": [
    "type(data[0]['entities'].get('annotations'))"
   ]
  },
  {
   "cell_type": "code",
   "execution_count": 71,
   "id": "ed698221-e96f-422d-8f80-ff02e14adcab",
   "metadata": {},
   "outputs": [],
   "source": [
    "for tweet in data:\n",
    "    hour = datetime.strptime(tweet['created_at'], '%Y-%m-%dT%H:%M:%S.000Z').hour\n",
    "    hours_ent = hours.get(hour)\n",
    "    for ent in ent_map:\n",
    "        if not tweet.get('entities') or ent not in tweet.get('entities'):\n",
    "            continue\n",
    "        for i in tweet['entities'].get(ent):\n",
    "            entt = i.get(ent_map.get(ent))\n",
    "            if entt in hours_ent:\n",
    "                hours_ent[entt] += hours_ent.get(entt)\n",
    "            else:\n",
    "                hours_ent.update({entt: 0})"
   ]
  },
  {
   "cell_type": "code",
   "execution_count": 72,
   "id": "77350885-0793-4b8c-890d-50a803690552",
   "metadata": {},
   "outputs": [
    {
     "data": {
      "text/plain": [
       "[0,\n",
       " 6,\n",
       " 488,\n",
       " 1172,\n",
       " 1123,\n",
       " 1278,\n",
       " 1208,\n",
       " 1256,\n",
       " 1511,\n",
       " 1377,\n",
       " 1284,\n",
       " 1206,\n",
       " 1264,\n",
       " 1285,\n",
       " 1176,\n",
       " 1245,\n",
       " 1086,\n",
       " 380,\n",
       " 0,\n",
       " 0,\n",
       " 0,\n",
       " 0,\n",
       " 0,\n",
       " 0]"
      ]
     },
     "execution_count": 72,
     "metadata": {},
     "output_type": "execute_result"
    }
   ],
   "source": [
    "[len(hours[h]) for h in hours]"
   ]
  },
  {
   "cell_type": "code",
   "execution_count": null,
   "id": "54ae25ad-d50f-4833-b5af-9b0415b04970",
   "metadata": {},
   "outputs": [],
   "source": []
  },
  {
   "cell_type": "code",
   "execution_count": 81,
   "id": "34c5a715-2cd0-4d20-9cc8-1d6edcea6e14",
   "metadata": {},
   "outputs": [],
   "source": [
    "demo2 = {'k': 'fff', 'l': 9}"
   ]
  },
  {
   "cell_type": "code",
   "execution_count": 82,
   "id": "8e0cbe8b-bca9-4571-90eb-23c8f247e309",
   "metadata": {},
   "outputs": [],
   "source": [
    "demo2['k'] = demo2['k'] + 'ksjam'"
   ]
  },
  {
   "cell_type": "code",
   "execution_count": 83,
   "id": "fe1cbf0c-5b0d-4488-a0bb-9ee05e8d5370",
   "metadata": {},
   "outputs": [
    {
     "data": {
      "text/plain": [
       "{'k': 'fffksjam', 'l': 9}"
      ]
     },
     "execution_count": 83,
     "metadata": {},
     "output_type": "execute_result"
    }
   ],
   "source": [
    "demo2"
   ]
  },
  {
   "cell_type": "code",
   "execution_count": 90,
   "id": "2c039286-920c-4348-a381-3896c8e440cd",
   "metadata": {},
   "outputs": [],
   "source": [
    "demo3 = {'singapore': 0}"
   ]
  },
  {
   "cell_type": "code",
   "execution_count": 91,
   "id": "bcb84ad3-587e-4f72-8da5-ea5bd3b31043",
   "metadata": {},
   "outputs": [
    {
     "data": {
      "text/plain": [
       "0"
      ]
     },
     "execution_count": 91,
     "metadata": {},
     "output_type": "execute_result"
    }
   ],
   "source": [
    "demo3.get('singapore')"
   ]
  },
  {
   "cell_type": "code",
   "execution_count": 93,
   "id": "54a2e1a8-432b-4a0d-80c3-ca49687b601f",
   "metadata": {},
   "outputs": [],
   "source": [
    "demo3['singamopre'] = demo3['singapore'] + demo3.get('singapore')"
   ]
  },
  {
   "cell_type": "code",
   "execution_count": 94,
   "id": "eaf804bb-241c-41b1-a0c7-2db02a5c6a98",
   "metadata": {},
   "outputs": [
    {
     "data": {
      "text/plain": [
       "{'singapore': 0, 'singamopre': 0}"
      ]
     },
     "execution_count": 94,
     "metadata": {},
     "output_type": "execute_result"
    }
   ],
   "source": [
    "demo3"
   ]
  },
  {
   "cell_type": "code",
   "execution_count": 108,
   "id": "5252669c-5028-4059-8616-b3b776a51cd3",
   "metadata": {},
   "outputs": [
    {
     "ename": "ValueError",
     "evalue": "dictionary update sequence element #0 has length 1; 2 is required",
     "output_type": "error",
     "traceback": [
      "\u001b[0;31m---------------------------------------------------------------------------\u001b[0m",
      "\u001b[0;31mValueError\u001b[0m                                Traceback (most recent call last)",
      "Cell \u001b[0;32mIn[108], line 1\u001b[0m\n\u001b[0;32m----> 1\u001b[0m \u001b[43mdemo3\u001b[49m\u001b[38;5;241;43m.\u001b[39;49m\u001b[43mupdate\u001b[49m\u001b[43m(\u001b[49m\u001b[38;5;124;43m'\u001b[39;49m\u001b[38;5;124;43mdd\u001b[39;49m\u001b[38;5;124;43m'\u001b[39;49m\u001b[43m)\u001b[49m\n",
      "\u001b[0;31mValueError\u001b[0m: dictionary update sequence element #0 has length 1; 2 is required"
     ]
    }
   ],
   "source": [
    "demo3.update('dd')"
   ]
  },
  {
   "cell_type": "code",
   "execution_count": 97,
   "id": "82ea4d9e-a81a-48d1-bcf6-3ed56c3b9246",
   "metadata": {},
   "outputs": [],
   "source": [
    "# Connectivity in Twitter"
   ]
  },
  {
   "cell_type": "code",
   "execution_count": 105,
   "id": "a3d2dd88-b75b-4efc-b060-ba2ae2a75866",
   "metadata": {},
   "outputs": [],
   "source": [
    "connects = {}"
   ]
  },
  {
   "cell_type": "code",
   "execution_count": 101,
   "id": "1aeca70f-ec0f-4bc8-83bd-48464b6f8a48",
   "metadata": {},
   "outputs": [
    {
     "data": {
      "text/plain": [
       "[{'start': 0, 'end': 12, 'username': 'QuantoQuant', 'id': '4332053537'}]"
      ]
     },
     "execution_count": 101,
     "metadata": {},
     "output_type": "execute_result"
    }
   ],
   "source": [
    "data[0]['entities']['mentions']"
   ]
  },
  {
   "cell_type": "code",
   "execution_count": 103,
   "id": "208c3349-6d44-4eb3-b42d-2831bbc37d8b",
   "metadata": {},
   "outputs": [
    {
     "ename": "AttributeError",
     "evalue": "'str' object has no attribute 'update'",
     "output_type": "error",
     "traceback": [
      "\u001b[0;31m---------------------------------------------------------------------------\u001b[0m",
      "\u001b[0;31mAttributeError\u001b[0m                            Traceback (most recent call last)",
      "Cell \u001b[0;32mIn[103], line 1\u001b[0m\n\u001b[0;32m----> 1\u001b[0m \u001b[43mdemo2\u001b[49m\u001b[38;5;241;43m.\u001b[39;49m\u001b[43mget\u001b[49m\u001b[43m(\u001b[49m\u001b[38;5;124;43m'\u001b[39;49m\u001b[38;5;124;43mk\u001b[39;49m\u001b[38;5;124;43m'\u001b[39;49m\u001b[43m)\u001b[49m\u001b[38;5;241;43m.\u001b[39;49m\u001b[43mupdate\u001b[49m(\u001b[38;5;124m'\u001b[39m\u001b[38;5;124mkajldjl\u001b[39m\u001b[38;5;124m'\u001b[39m)\n",
      "\u001b[0;31mAttributeError\u001b[0m: 'str' object has no attribute 'update'"
     ]
    }
   ],
   "source": [
    "demo2.get('k').update('kajldjl')"
   ]
  },
  {
   "cell_type": "code",
   "execution_count": 115,
   "id": "7c398f4c-b93c-4605-a782-ae863610c037",
   "metadata": {},
   "outputs": [],
   "source": [
    "for tweet in data:\n",
    "    if tweet.get('entities') and 'mentions' in tweet.get('entities'):\n",
    "        tweet_buds = [u.get('id') for u in tweet.get('entities')['mentions']]\n",
    "        if tweet.get('author_id') not in connects:\n",
    "            connects.update({tweet.get('author_id'): set(tweet_buds)})\n",
    "        else:\n",
    "            connects.get(tweet.get('author_id')).update(tweet_buds)"
   ]
  },
  {
   "cell_type": "code",
   "execution_count": 117,
   "id": "b4a8fc87-2b3d-47db-bb45-6f3b2b06032b",
   "metadata": {},
   "outputs": [],
   "source": [
    "demo4 = {'genhao49': {'heixiu'}}"
   ]
  },
  {
   "cell_type": "code",
   "execution_count": 118,
   "id": "0193eeb6-e4dd-4c30-b0e0-be1c8803c857",
   "metadata": {},
   "outputs": [],
   "source": [
    "demo4.get('genhao49').update(['11'])"
   ]
  },
  {
   "cell_type": "code",
   "execution_count": 119,
   "id": "8081c651-cb25-4bbe-992d-6499fb396d7e",
   "metadata": {},
   "outputs": [
    {
     "data": {
      "text/plain": [
       "{'genhao49': {'11', 'heixiu'}}"
      ]
     },
     "execution_count": 119,
     "metadata": {},
     "output_type": "execute_result"
    }
   ],
   "source": [
    "demo4"
   ]
  },
  {
   "cell_type": "code",
   "execution_count": 120,
   "id": "d37d6a30-d137-4816-8386-cfeadd89dc48",
   "metadata": {},
   "outputs": [],
   "source": [
    "authors = connects.keys()"
   ]
  },
  {
   "cell_type": "code",
   "execution_count": 125,
   "id": "516747e9-6c9c-4c5f-bc73-79c99934c18c",
   "metadata": {},
   "outputs": [],
   "source": [
    "references = {u for k, v in connects.items() for u in v}"
   ]
  },
  {
   "cell_type": "code",
   "execution_count": 127,
   "id": "e777fbad-9eb8-422c-8ea0-eeddbd591b18",
   "metadata": {},
   "outputs": [],
   "source": [
    "references = list(references)"
   ]
  },
  {
   "cell_type": "code",
   "execution_count": 128,
   "id": "55269d2c-2aa7-4aaf-8174-71afde0a9833",
   "metadata": {},
   "outputs": [],
   "source": [
    "dataframe = pd.DataFrame(0, index = references, columns = authors)"
   ]
  },
  {
   "cell_type": "code",
   "execution_count": 129,
   "id": "38598406-eda1-4351-81e7-f49302a486fc",
   "metadata": {},
   "outputs": [
    {
     "data": {
      "text/html": [
       "<div>\n",
       "<style scoped>\n",
       "    .dataframe tbody tr th:only-of-type {\n",
       "        vertical-align: middle;\n",
       "    }\n",
       "\n",
       "    .dataframe tbody tr th {\n",
       "        vertical-align: top;\n",
       "    }\n",
       "\n",
       "    .dataframe thead th {\n",
       "        text-align: right;\n",
       "    }\n",
       "</style>\n",
       "<table border=\"1\" class=\"dataframe\">\n",
       "  <thead>\n",
       "    <tr style=\"text-align: right;\">\n",
       "      <th></th>\n",
       "      <th>204970988</th>\n",
       "      <th>1459920226385027086</th>\n",
       "      <th>840441380652556288</th>\n",
       "      <th>1388529837833392132</th>\n",
       "      <th>1197328734417588224</th>\n",
       "      <th>250839545</th>\n",
       "      <th>1429786043100786696</th>\n",
       "      <th>1356923375776489476</th>\n",
       "      <th>1271138348258615302</th>\n",
       "      <th>1487196249715613698</th>\n",
       "      <th>...</th>\n",
       "      <th>1370925303422464002</th>\n",
       "      <th>1113354650277699584</th>\n",
       "      <th>1404143587911245831</th>\n",
       "      <th>2262534272</th>\n",
       "      <th>1428297742112018434</th>\n",
       "      <th>1233528932638642176</th>\n",
       "      <th>1363596002100449282</th>\n",
       "      <th>893718644084977664</th>\n",
       "      <th>1329485154591576074</th>\n",
       "      <th>25491333</th>\n",
       "    </tr>\n",
       "  </thead>\n",
       "  <tbody>\n",
       "    <tr>\n",
       "      <th>1032376689383428096</th>\n",
       "      <td>0</td>\n",
       "      <td>0</td>\n",
       "      <td>0</td>\n",
       "      <td>0</td>\n",
       "      <td>0</td>\n",
       "      <td>0</td>\n",
       "      <td>0</td>\n",
       "      <td>0</td>\n",
       "      <td>0</td>\n",
       "      <td>0</td>\n",
       "      <td>...</td>\n",
       "      <td>0</td>\n",
       "      <td>0</td>\n",
       "      <td>0</td>\n",
       "      <td>0</td>\n",
       "      <td>0</td>\n",
       "      <td>0</td>\n",
       "      <td>0</td>\n",
       "      <td>0</td>\n",
       "      <td>0</td>\n",
       "      <td>0</td>\n",
       "    </tr>\n",
       "    <tr>\n",
       "      <th>4558138408</th>\n",
       "      <td>0</td>\n",
       "      <td>0</td>\n",
       "      <td>0</td>\n",
       "      <td>0</td>\n",
       "      <td>0</td>\n",
       "      <td>0</td>\n",
       "      <td>0</td>\n",
       "      <td>0</td>\n",
       "      <td>0</td>\n",
       "      <td>0</td>\n",
       "      <td>...</td>\n",
       "      <td>0</td>\n",
       "      <td>0</td>\n",
       "      <td>0</td>\n",
       "      <td>0</td>\n",
       "      <td>0</td>\n",
       "      <td>0</td>\n",
       "      <td>0</td>\n",
       "      <td>0</td>\n",
       "      <td>0</td>\n",
       "      <td>0</td>\n",
       "    </tr>\n",
       "    <tr>\n",
       "      <th>1211117018331566080</th>\n",
       "      <td>0</td>\n",
       "      <td>0</td>\n",
       "      <td>0</td>\n",
       "      <td>0</td>\n",
       "      <td>0</td>\n",
       "      <td>0</td>\n",
       "      <td>0</td>\n",
       "      <td>0</td>\n",
       "      <td>0</td>\n",
       "      <td>0</td>\n",
       "      <td>...</td>\n",
       "      <td>0</td>\n",
       "      <td>0</td>\n",
       "      <td>0</td>\n",
       "      <td>0</td>\n",
       "      <td>0</td>\n",
       "      <td>0</td>\n",
       "      <td>0</td>\n",
       "      <td>0</td>\n",
       "      <td>0</td>\n",
       "      <td>0</td>\n",
       "    </tr>\n",
       "    <tr>\n",
       "      <th>1351075082492391428</th>\n",
       "      <td>0</td>\n",
       "      <td>0</td>\n",
       "      <td>0</td>\n",
       "      <td>0</td>\n",
       "      <td>0</td>\n",
       "      <td>0</td>\n",
       "      <td>0</td>\n",
       "      <td>0</td>\n",
       "      <td>0</td>\n",
       "      <td>0</td>\n",
       "      <td>...</td>\n",
       "      <td>0</td>\n",
       "      <td>0</td>\n",
       "      <td>0</td>\n",
       "      <td>0</td>\n",
       "      <td>0</td>\n",
       "      <td>0</td>\n",
       "      <td>0</td>\n",
       "      <td>0</td>\n",
       "      <td>0</td>\n",
       "      <td>0</td>\n",
       "    </tr>\n",
       "    <tr>\n",
       "      <th>743787350</th>\n",
       "      <td>0</td>\n",
       "      <td>0</td>\n",
       "      <td>0</td>\n",
       "      <td>0</td>\n",
       "      <td>0</td>\n",
       "      <td>0</td>\n",
       "      <td>0</td>\n",
       "      <td>0</td>\n",
       "      <td>0</td>\n",
       "      <td>0</td>\n",
       "      <td>...</td>\n",
       "      <td>0</td>\n",
       "      <td>0</td>\n",
       "      <td>0</td>\n",
       "      <td>0</td>\n",
       "      <td>0</td>\n",
       "      <td>0</td>\n",
       "      <td>0</td>\n",
       "      <td>0</td>\n",
       "      <td>0</td>\n",
       "      <td>0</td>\n",
       "    </tr>\n",
       "  </tbody>\n",
       "</table>\n",
       "<p>5 rows × 8525 columns</p>\n",
       "</div>"
      ],
      "text/plain": [
       "                     204970988  1459920226385027086  840441380652556288  \\\n",
       "1032376689383428096          0                    0                   0   \n",
       "4558138408                   0                    0                   0   \n",
       "1211117018331566080          0                    0                   0   \n",
       "1351075082492391428          0                    0                   0   \n",
       "743787350                    0                    0                   0   \n",
       "\n",
       "                     1388529837833392132  1197328734417588224  250839545  \\\n",
       "1032376689383428096                    0                    0          0   \n",
       "4558138408                             0                    0          0   \n",
       "1211117018331566080                    0                    0          0   \n",
       "1351075082492391428                    0                    0          0   \n",
       "743787350                              0                    0          0   \n",
       "\n",
       "                     1429786043100786696  1356923375776489476  \\\n",
       "1032376689383428096                    0                    0   \n",
       "4558138408                             0                    0   \n",
       "1211117018331566080                    0                    0   \n",
       "1351075082492391428                    0                    0   \n",
       "743787350                              0                    0   \n",
       "\n",
       "                     1271138348258615302  1487196249715613698  ...  \\\n",
       "1032376689383428096                    0                    0  ...   \n",
       "4558138408                             0                    0  ...   \n",
       "1211117018331566080                    0                    0  ...   \n",
       "1351075082492391428                    0                    0  ...   \n",
       "743787350                              0                    0  ...   \n",
       "\n",
       "                     1370925303422464002  1113354650277699584  \\\n",
       "1032376689383428096                    0                    0   \n",
       "4558138408                             0                    0   \n",
       "1211117018331566080                    0                    0   \n",
       "1351075082492391428                    0                    0   \n",
       "743787350                              0                    0   \n",
       "\n",
       "                     1404143587911245831  2262534272  1428297742112018434  \\\n",
       "1032376689383428096                    0           0                    0   \n",
       "4558138408                             0           0                    0   \n",
       "1211117018331566080                    0           0                    0   \n",
       "1351075082492391428                    0           0                    0   \n",
       "743787350                              0           0                    0   \n",
       "\n",
       "                     1233528932638642176  1363596002100449282  \\\n",
       "1032376689383428096                    0                    0   \n",
       "4558138408                             0                    0   \n",
       "1211117018331566080                    0                    0   \n",
       "1351075082492391428                    0                    0   \n",
       "743787350                              0                    0   \n",
       "\n",
       "                     893718644084977664  1329485154591576074  25491333  \n",
       "1032376689383428096                   0                    0         0  \n",
       "4558138408                            0                    0         0  \n",
       "1211117018331566080                   0                    0         0  \n",
       "1351075082492391428                   0                    0         0  \n",
       "743787350                             0                    0         0  \n",
       "\n",
       "[5 rows x 8525 columns]"
      ]
     },
     "execution_count": 129,
     "metadata": {},
     "output_type": "execute_result"
    }
   ],
   "source": [
    "dataframe.head()"
   ]
  },
  {
   "cell_type": "code",
   "execution_count": null,
   "id": "79f81dea-b143-4428-840f-eaed5f1ebb71",
   "metadata": {},
   "outputs": [],
   "source": []
  }
 ],
 "metadata": {
  "kernelspec": {
   "display_name": "Python 3 (ipykernel)",
   "language": "python",
   "name": "python3"
  },
  "language_info": {
   "codemirror_mode": {
    "name": "ipython",
    "version": 3
   },
   "file_extension": ".py",
   "mimetype": "text/x-python",
   "name": "python",
   "nbconvert_exporter": "python",
   "pygments_lexer": "ipython3",
   "version": "3.11.1"
  }
 },
 "nbformat": 4,
 "nbformat_minor": 5
}
