{
 "cells": [
  {
   "cell_type": "code",
   "execution_count": 1,
   "id": "cd998add-9c47-4e4e-a51a-41ae1fb59f9d",
   "metadata": {},
   "outputs": [],
   "source": [
    "import pandas as pd"
   ]
  },
  {
   "cell_type": "code",
   "execution_count": 2,
   "id": "f09aa03f-faef-413c-9c82-f0387780aeb1",
   "metadata": {},
   "outputs": [],
   "source": [
    "import json"
   ]
  },
  {
   "cell_type": "code",
   "execution_count": 50,
   "id": "04eb7656-2c7f-4fba-a47d-f298aa33473b",
   "metadata": {},
   "outputs": [],
   "source": [
    "with open('nytimes_metadata_example.json', 'r') as f:\n",
    "    dat = json.load(f)"
   ]
  },
  {
   "cell_type": "code",
   "execution_count": 52,
   "id": "46b44a1b-560a-4d74-b768-a8bba3250751",
   "metadata": {},
   "outputs": [
    {
     "data": {
      "text/plain": [
       "list"
      ]
     },
     "execution_count": 52,
     "metadata": {},
     "output_type": "execute_result"
    }
   ],
   "source": [
    "type(dat)"
   ]
  },
  {
   "cell_type": "code",
   "execution_count": 53,
   "id": "e82a130b-d489-43a1-9242-64c9afbf10d9",
   "metadata": {},
   "outputs": [
    {
     "data": {
      "text/plain": [
       "10"
      ]
     },
     "execution_count": 53,
     "metadata": {},
     "output_type": "execute_result"
    }
   ],
   "source": [
    "len(dat)"
   ]
  },
  {
   "cell_type": "code",
   "execution_count": 55,
   "id": "d78ad774-0136-48ba-8c84-9705029ef065",
   "metadata": {},
   "outputs": [
    {
     "data": {
      "text/plain": [
       "dict"
      ]
     },
     "execution_count": 55,
     "metadata": {},
     "output_type": "execute_result"
    }
   ],
   "source": [
    "type(dat[0])"
   ]
  },
  {
   "cell_type": "code",
   "execution_count": 56,
   "id": "fe5e21ea-567e-4120-a9da-5f65469ed984",
   "metadata": {},
   "outputs": [
    {
     "data": {
      "text/plain": [
       "20"
      ]
     },
     "execution_count": 56,
     "metadata": {},
     "output_type": "execute_result"
    }
   ],
   "source": [
    "len(dat[0])"
   ]
  },
  {
   "cell_type": "code",
   "execution_count": 57,
   "id": "0f101f03-3a77-45b7-bb85-7a370a16a73d",
   "metadata": {},
   "outputs": [
    {
     "data": {
      "text/plain": [
       "dict_keys(['abstract', 'web_url', 'snippet', 'lead_paragraph', 'print_section', 'print_page', 'source', 'multimedia', 'headline', 'keywords', 'pub_date', 'document_type', 'news_desk', 'section_name', 'subsection_name', 'byline', 'type_of_material', '_id', 'word_count', 'uri'])"
      ]
     },
     "execution_count": 57,
     "metadata": {},
     "output_type": "execute_result"
    }
   ],
   "source": [
    "dat[0].keys()"
   ]
  },
  {
   "cell_type": "code",
   "execution_count": 58,
   "id": "efb32858-aa16-4135-8b1d-8cd14af1aba8",
   "metadata": {},
   "outputs": [
    {
     "data": {
      "text/plain": [
       "{'original': 'By Ana Swanson',\n",
       " 'person': [{'firstname': 'Ana',\n",
       "   'middlename': None,\n",
       "   'lastname': 'Swanson',\n",
       "   'qualifier': None,\n",
       "   'title': None,\n",
       "   'role': 'reported',\n",
       "   'organization': '',\n",
       "   'rank': 1}],\n",
       " 'organization': None}"
      ]
     },
     "execution_count": 58,
     "metadata": {},
     "output_type": "execute_result"
    }
   ],
   "source": [
    "dat[0]['byline']"
   ]
  },
  {
   "cell_type": "code",
   "execution_count": 51,
   "id": "fd88aad0-cf5a-465e-9327-4e82d78ad122",
   "metadata": {},
   "outputs": [
    {
     "ename": "AttributeError",
     "evalue": "'list' object has no attribute 'head'",
     "output_type": "error",
     "traceback": [
      "\u001b[0;31m---------------------------------------------------------------------------\u001b[0m",
      "\u001b[0;31mAttributeError\u001b[0m                            Traceback (most recent call last)",
      "Cell \u001b[0;32mIn[51], line 1\u001b[0m\n\u001b[0;32m----> 1\u001b[0m \u001b[43mdat\u001b[49m\u001b[38;5;241;43m.\u001b[39;49m\u001b[43mhead\u001b[49m()\n",
      "\u001b[0;31mAttributeError\u001b[0m: 'list' object has no attribute 'head'"
     ]
    }
   ],
   "source": [
    "dat.head()"
   ]
  },
  {
   "cell_type": "code",
   "execution_count": 24,
   "id": "59d402d8-c61c-4813-82d6-f1aea079e929",
   "metadata": {},
   "outputs": [],
   "source": [
    "byline = dat['byline']"
   ]
  },
  {
   "cell_type": "code",
   "execution_count": 25,
   "id": "2096c502-6ccb-475c-a729-3ff3968e3330",
   "metadata": {},
   "outputs": [
    {
     "data": {
      "text/plain": [
       "[{'firstname': 'Ana',\n",
       "  'middlename': None,\n",
       "  'lastname': 'Swanson',\n",
       "  'qualifier': None,\n",
       "  'title': None,\n",
       "  'role': 'reported',\n",
       "  'organization': '',\n",
       "  'rank': 1},\n",
       " {'firstname': 'Keith',\n",
       "  'middlename': None,\n",
       "  'lastname': 'Bradsher',\n",
       "  'qualifier': None,\n",
       "  'title': None,\n",
       "  'role': 'reported',\n",
       "  'organization': '',\n",
       "  'rank': 2}]"
      ]
     },
     "execution_count": 25,
     "metadata": {},
     "output_type": "execute_result"
    }
   ],
   "source": [
    "byline.loc[1]['person']"
   ]
  },
  {
   "cell_type": "code",
   "execution_count": 40,
   "id": "e7bac61e-57fe-4f9b-b46e-e5a30295c8f2",
   "metadata": {},
   "outputs": [],
   "source": [
    "persons = []\n",
    "for i in range(byline.shape[0]):\n",
    "    person = byline.loc[i]['person']\n",
    "    for i in range(len(person)):\n",
    "        persons.append(person[i])"
   ]
  },
  {
   "cell_type": "code",
   "execution_count": 47,
   "id": "cafd6c1f-d227-4b68-aed1-2095a6470ff2",
   "metadata": {},
   "outputs": [
    {
     "data": {
      "text/plain": [
       "10"
      ]
     },
     "execution_count": 47,
     "metadata": {},
     "output_type": "execute_result"
    }
   ],
   "source": [
    "byline.shape[0]"
   ]
  },
  {
   "cell_type": "code",
   "execution_count": 41,
   "id": "9c1964ec-0276-4a1d-8ea4-e25f287350df",
   "metadata": {},
   "outputs": [],
   "source": [
    "author_bag = {}"
   ]
  },
  {
   "cell_type": "code",
   "execution_count": 44,
   "id": "4f4c8ba0-0699-4b42-af51-df597acbbf13",
   "metadata": {},
   "outputs": [],
   "source": [
    "for person in persons:\n",
    "    author_bag.update({person['firstname']: True})\n"
   ]
  },
  {
   "cell_type": "code",
   "execution_count": 46,
   "id": "464fc158-bbf5-49fb-89f5-61ce5b26752c",
   "metadata": {},
   "outputs": [
    {
     "data": {
      "text/plain": [
       "11"
      ]
     },
     "execution_count": 46,
     "metadata": {},
     "output_type": "execute_result"
    }
   ],
   "source": [
    "len(author_bag)"
   ]
  },
  {
   "cell_type": "code",
   "execution_count": 48,
   "id": "ce9b04d9-bcd7-4c55-a74d-083de9ea9bb5",
   "metadata": {},
   "outputs": [
    {
     "name": "stdout",
     "output_type": "stream",
     "text": [
      "abstract\n",
      "web_url\n",
      "snippet\n",
      "lead_paragraph\n",
      "print_section\n",
      "print_page\n",
      "source\n",
      "multimedia\n",
      "headline\n",
      "keywords\n",
      "pub_date\n",
      "document_type\n",
      "news_desk\n",
      "section_name\n",
      "subsection_name\n",
      "byline\n",
      "type_of_material\n",
      "_id\n",
      "word_count\n",
      "uri\n"
     ]
    }
   ],
   "source": [
    "for datum in dat:\n",
    "    "
   ]
  },
  {
   "cell_type": "code",
   "execution_count": 64,
   "id": "2bee5faa-8179-4be6-87d8-c42b5bf6ae32",
   "metadata": {},
   "outputs": [],
   "source": [
    "rows = []\n",
    "for datum in dat:\n",
    "    main_headline = datum['headline']['main']\n",
    "    byline = datum['byline']\n",
    "    author_bag = {}\n",
    "    for person in byline['person']:\n",
    "        author_bag.update({person['firstname']: True})\n",
    "    row = {'headline': main_headline}\n",
    "    row.update(author_bag)\n",
    "    rows.append(row)"
   ]
  },
  {
   "cell_type": "code",
   "execution_count": 65,
   "id": "59f2e46f-381e-4b6d-8814-f3602a30f6fa",
   "metadata": {},
   "outputs": [],
   "source": [
    "dat = pd.DataFrame(rows)"
   ]
  },
  {
   "cell_type": "code",
   "execution_count": 66,
   "id": "aeffd225-e19d-42e5-912f-efb7046608b5",
   "metadata": {},
   "outputs": [
    {
     "data": {
      "text/html": [
       "<div>\n",
       "<style scoped>\n",
       "    .dataframe tbody tr th:only-of-type {\n",
       "        vertical-align: middle;\n",
       "    }\n",
       "\n",
       "    .dataframe tbody tr th {\n",
       "        vertical-align: top;\n",
       "    }\n",
       "\n",
       "    .dataframe thead th {\n",
       "        text-align: right;\n",
       "    }\n",
       "</style>\n",
       "<table border=\"1\" class=\"dataframe\">\n",
       "  <thead>\n",
       "    <tr style=\"text-align: right;\">\n",
       "      <th></th>\n",
       "      <th>headline</th>\n",
       "      <th>Ana</th>\n",
       "      <th>Keith</th>\n",
       "      <th>Thomas</th>\n",
       "      <th>Benjamin</th>\n",
       "      <th>Nate</th>\n",
       "      <th>Noam</th>\n",
       "      <th>Doriane</th>\n",
       "      <th>Adam</th>\n",
       "      <th>Damien</th>\n",
       "      <th>Matt</th>\n",
       "      <th>Michael</th>\n",
       "    </tr>\n",
       "  </thead>\n",
       "  <tbody>\n",
       "    <tr>\n",
       "      <th>0</th>\n",
       "      <td>White House Delays Tariffs on E.U., Canada and...</td>\n",
       "      <td>True</td>\n",
       "      <td>NaN</td>\n",
       "      <td>NaN</td>\n",
       "      <td>NaN</td>\n",
       "      <td>NaN</td>\n",
       "      <td>NaN</td>\n",
       "      <td>NaN</td>\n",
       "      <td>NaN</td>\n",
       "      <td>NaN</td>\n",
       "      <td>NaN</td>\n",
       "      <td>NaN</td>\n",
       "    </tr>\n",
       "    <tr>\n",
       "      <th>1</th>\n",
       "      <td>White House Considers Restricting Chinese Rese...</td>\n",
       "      <td>True</td>\n",
       "      <td>True</td>\n",
       "      <td>NaN</td>\n",
       "      <td>NaN</td>\n",
       "      <td>NaN</td>\n",
       "      <td>NaN</td>\n",
       "      <td>NaN</td>\n",
       "      <td>NaN</td>\n",
       "      <td>NaN</td>\n",
       "      <td>NaN</td>\n",
       "      <td>NaN</td>\n",
       "    </tr>\n",
       "    <tr>\n",
       "      <th>2</th>\n",
       "      <td>Reports of Sexual Assault in the Military Rise...</td>\n",
       "      <td>NaN</td>\n",
       "      <td>NaN</td>\n",
       "      <td>True</td>\n",
       "      <td>NaN</td>\n",
       "      <td>NaN</td>\n",
       "      <td>NaN</td>\n",
       "      <td>NaN</td>\n",
       "      <td>NaN</td>\n",
       "      <td>NaN</td>\n",
       "      <td>NaN</td>\n",
       "      <td>NaN</td>\n",
       "    </tr>\n",
       "    <tr>\n",
       "      <th>3</th>\n",
       "      <td>Was Sheldon Silver Corrupt, or Was It Just Pol...</td>\n",
       "      <td>NaN</td>\n",
       "      <td>NaN</td>\n",
       "      <td>NaN</td>\n",
       "      <td>True</td>\n",
       "      <td>True</td>\n",
       "      <td>NaN</td>\n",
       "      <td>NaN</td>\n",
       "      <td>NaN</td>\n",
       "      <td>NaN</td>\n",
       "      <td>NaN</td>\n",
       "      <td>NaN</td>\n",
       "    </tr>\n",
       "    <tr>\n",
       "      <th>4</th>\n",
       "      <td>Gig Economy Business Model Dealt a Blow in Cal...</td>\n",
       "      <td>NaN</td>\n",
       "      <td>NaN</td>\n",
       "      <td>NaN</td>\n",
       "      <td>NaN</td>\n",
       "      <td>NaN</td>\n",
       "      <td>True</td>\n",
       "      <td>NaN</td>\n",
       "      <td>NaN</td>\n",
       "      <td>NaN</td>\n",
       "      <td>NaN</td>\n",
       "      <td>NaN</td>\n",
       "    </tr>\n",
       "  </tbody>\n",
       "</table>\n",
       "</div>"
      ],
      "text/plain": [
       "                                            headline   Ana Keith Thomas  \\\n",
       "0  White House Delays Tariffs on E.U., Canada and...  True   NaN    NaN   \n",
       "1  White House Considers Restricting Chinese Rese...  True  True    NaN   \n",
       "2  Reports of Sexual Assault in the Military Rise...   NaN   NaN   True   \n",
       "3  Was Sheldon Silver Corrupt, or Was It Just Pol...   NaN   NaN    NaN   \n",
       "4  Gig Economy Business Model Dealt a Blow in Cal...   NaN   NaN    NaN   \n",
       "\n",
       "  Benjamin  Nate  Noam Doriane Adam Damien Matt Michael  \n",
       "0      NaN   NaN   NaN     NaN  NaN    NaN  NaN     NaN  \n",
       "1      NaN   NaN   NaN     NaN  NaN    NaN  NaN     NaN  \n",
       "2      NaN   NaN   NaN     NaN  NaN    NaN  NaN     NaN  \n",
       "3     True  True   NaN     NaN  NaN    NaN  NaN     NaN  \n",
       "4      NaN   NaN  True     NaN  NaN    NaN  NaN     NaN  "
      ]
     },
     "execution_count": 66,
     "metadata": {},
     "output_type": "execute_result"
    }
   ],
   "source": [
    "dat.head()"
   ]
  },
  {
   "cell_type": "code",
   "execution_count": 69,
   "id": "d5abc767-6231-4294-896e-47923b36400a",
   "metadata": {},
   "outputs": [
    {
     "name": "stderr",
     "output_type": "stream",
     "text": [
      "/var/folders/s1/2r578vx153d8cmbdps9ln15m0000gn/T/ipykernel_46327/3670497392.py:2: FutureWarning: Downcasting behavior in `replace` is deprecated and will be removed in a future version. To retain the old behavior, explicitly call `result.infer_objects(copy=False)`. To opt-in to the future behavior, set `pd.set_option('future.no_silent_downcasting', True)`\n",
      "  dat_new = dat.replace(np.nan, False)\n"
     ]
    }
   ],
   "source": [
    "import numpy as np\n",
    "dat_new = dat.replace(np.nan, False)"
   ]
  },
  {
   "cell_type": "code",
   "execution_count": 70,
   "id": "7a1eb980-c188-4017-85c6-8075f586366b",
   "metadata": {},
   "outputs": [
    {
     "data": {
      "text/html": [
       "<div>\n",
       "<style scoped>\n",
       "    .dataframe tbody tr th:only-of-type {\n",
       "        vertical-align: middle;\n",
       "    }\n",
       "\n",
       "    .dataframe tbody tr th {\n",
       "        vertical-align: top;\n",
       "    }\n",
       "\n",
       "    .dataframe thead th {\n",
       "        text-align: right;\n",
       "    }\n",
       "</style>\n",
       "<table border=\"1\" class=\"dataframe\">\n",
       "  <thead>\n",
       "    <tr style=\"text-align: right;\">\n",
       "      <th></th>\n",
       "      <th>headline</th>\n",
       "      <th>Ana</th>\n",
       "      <th>Keith</th>\n",
       "      <th>Thomas</th>\n",
       "      <th>Benjamin</th>\n",
       "      <th>Nate</th>\n",
       "      <th>Noam</th>\n",
       "      <th>Doriane</th>\n",
       "      <th>Adam</th>\n",
       "      <th>Damien</th>\n",
       "      <th>Matt</th>\n",
       "      <th>Michael</th>\n",
       "    </tr>\n",
       "  </thead>\n",
       "  <tbody>\n",
       "    <tr>\n",
       "      <th>0</th>\n",
       "      <td>White House Delays Tariffs on E.U., Canada and...</td>\n",
       "      <td>True</td>\n",
       "      <td>False</td>\n",
       "      <td>False</td>\n",
       "      <td>False</td>\n",
       "      <td>False</td>\n",
       "      <td>False</td>\n",
       "      <td>False</td>\n",
       "      <td>False</td>\n",
       "      <td>False</td>\n",
       "      <td>False</td>\n",
       "      <td>False</td>\n",
       "    </tr>\n",
       "    <tr>\n",
       "      <th>1</th>\n",
       "      <td>White House Considers Restricting Chinese Rese...</td>\n",
       "      <td>True</td>\n",
       "      <td>True</td>\n",
       "      <td>False</td>\n",
       "      <td>False</td>\n",
       "      <td>False</td>\n",
       "      <td>False</td>\n",
       "      <td>False</td>\n",
       "      <td>False</td>\n",
       "      <td>False</td>\n",
       "      <td>False</td>\n",
       "      <td>False</td>\n",
       "    </tr>\n",
       "    <tr>\n",
       "      <th>2</th>\n",
       "      <td>Reports of Sexual Assault in the Military Rise...</td>\n",
       "      <td>False</td>\n",
       "      <td>False</td>\n",
       "      <td>True</td>\n",
       "      <td>False</td>\n",
       "      <td>False</td>\n",
       "      <td>False</td>\n",
       "      <td>False</td>\n",
       "      <td>False</td>\n",
       "      <td>False</td>\n",
       "      <td>False</td>\n",
       "      <td>False</td>\n",
       "    </tr>\n",
       "    <tr>\n",
       "      <th>3</th>\n",
       "      <td>Was Sheldon Silver Corrupt, or Was It Just Pol...</td>\n",
       "      <td>False</td>\n",
       "      <td>False</td>\n",
       "      <td>False</td>\n",
       "      <td>True</td>\n",
       "      <td>True</td>\n",
       "      <td>False</td>\n",
       "      <td>False</td>\n",
       "      <td>False</td>\n",
       "      <td>False</td>\n",
       "      <td>False</td>\n",
       "      <td>False</td>\n",
       "    </tr>\n",
       "    <tr>\n",
       "      <th>4</th>\n",
       "      <td>Gig Economy Business Model Dealt a Blow in Cal...</td>\n",
       "      <td>False</td>\n",
       "      <td>False</td>\n",
       "      <td>False</td>\n",
       "      <td>False</td>\n",
       "      <td>False</td>\n",
       "      <td>True</td>\n",
       "      <td>False</td>\n",
       "      <td>False</td>\n",
       "      <td>False</td>\n",
       "      <td>False</td>\n",
       "      <td>False</td>\n",
       "    </tr>\n",
       "    <tr>\n",
       "      <th>5</th>\n",
       "      <td>Sex, Sport, and Why Track and Field’s New Rule...</td>\n",
       "      <td>False</td>\n",
       "      <td>False</td>\n",
       "      <td>False</td>\n",
       "      <td>False</td>\n",
       "      <td>False</td>\n",
       "      <td>False</td>\n",
       "      <td>True</td>\n",
       "      <td>False</td>\n",
       "      <td>False</td>\n",
       "      <td>False</td>\n",
       "      <td>False</td>\n",
       "    </tr>\n",
       "    <tr>\n",
       "      <th>6</th>\n",
       "      <td>Cardinal George Pell to Stand Trial on Histori...</td>\n",
       "      <td>False</td>\n",
       "      <td>False</td>\n",
       "      <td>False</td>\n",
       "      <td>False</td>\n",
       "      <td>False</td>\n",
       "      <td>False</td>\n",
       "      <td>False</td>\n",
       "      <td>True</td>\n",
       "      <td>False</td>\n",
       "      <td>False</td>\n",
       "      <td>False</td>\n",
       "    </tr>\n",
       "    <tr>\n",
       "      <th>7</th>\n",
       "      <td>Why the Cardinal Pell Case Has Been So Secretive</td>\n",
       "      <td>False</td>\n",
       "      <td>False</td>\n",
       "      <td>False</td>\n",
       "      <td>False</td>\n",
       "      <td>False</td>\n",
       "      <td>False</td>\n",
       "      <td>False</td>\n",
       "      <td>True</td>\n",
       "      <td>True</td>\n",
       "      <td>False</td>\n",
       "      <td>False</td>\n",
       "    </tr>\n",
       "    <tr>\n",
       "      <th>8</th>\n",
       "      <td>The Questions Mueller Wants to Ask Trump About...</td>\n",
       "      <td>False</td>\n",
       "      <td>False</td>\n",
       "      <td>False</td>\n",
       "      <td>False</td>\n",
       "      <td>False</td>\n",
       "      <td>False</td>\n",
       "      <td>False</td>\n",
       "      <td>False</td>\n",
       "      <td>False</td>\n",
       "      <td>True</td>\n",
       "      <td>True</td>\n",
       "    </tr>\n",
       "    <tr>\n",
       "      <th>9</th>\n",
       "      <td>Mueller Has Dozens of Inquiries for Trump in B...</td>\n",
       "      <td>False</td>\n",
       "      <td>False</td>\n",
       "      <td>False</td>\n",
       "      <td>False</td>\n",
       "      <td>False</td>\n",
       "      <td>False</td>\n",
       "      <td>False</td>\n",
       "      <td>False</td>\n",
       "      <td>False</td>\n",
       "      <td>False</td>\n",
       "      <td>True</td>\n",
       "    </tr>\n",
       "  </tbody>\n",
       "</table>\n",
       "</div>"
      ],
      "text/plain": [
       "                                            headline    Ana  Keith  Thomas  \\\n",
       "0  White House Delays Tariffs on E.U., Canada and...   True  False   False   \n",
       "1  White House Considers Restricting Chinese Rese...   True   True   False   \n",
       "2  Reports of Sexual Assault in the Military Rise...  False  False    True   \n",
       "3  Was Sheldon Silver Corrupt, or Was It Just Pol...  False  False   False   \n",
       "4  Gig Economy Business Model Dealt a Blow in Cal...  False  False   False   \n",
       "5  Sex, Sport, and Why Track and Field’s New Rule...  False  False   False   \n",
       "6  Cardinal George Pell to Stand Trial on Histori...  False  False   False   \n",
       "7   Why the Cardinal Pell Case Has Been So Secretive  False  False   False   \n",
       "8  The Questions Mueller Wants to Ask Trump About...  False  False   False   \n",
       "9  Mueller Has Dozens of Inquiries for Trump in B...  False  False   False   \n",
       "\n",
       "   Benjamin   Nate   Noam  Doriane   Adam  Damien   Matt  Michael  \n",
       "0     False  False  False    False  False   False  False    False  \n",
       "1     False  False  False    False  False   False  False    False  \n",
       "2     False  False  False    False  False   False  False    False  \n",
       "3      True   True  False    False  False   False  False    False  \n",
       "4     False  False   True    False  False   False  False    False  \n",
       "5     False  False  False     True  False   False  False    False  \n",
       "6     False  False  False    False   True   False  False    False  \n",
       "7     False  False  False    False   True    True  False    False  \n",
       "8     False  False  False    False  False   False   True     True  \n",
       "9     False  False  False    False  False   False  False     True  "
      ]
     },
     "execution_count": 70,
     "metadata": {},
     "output_type": "execute_result"
    }
   ],
   "source": [
    "dat_new"
   ]
  },
  {
   "cell_type": "code",
   "execution_count": null,
   "id": "d561b58a-7843-4e67-97be-527ca397bfca",
   "metadata": {},
   "outputs": [],
   "source": []
  }
 ],
 "metadata": {
  "kernelspec": {
   "display_name": "Python 3 (ipykernel)",
   "language": "python",
   "name": "python3"
  },
  "language_info": {
   "codemirror_mode": {
    "name": "ipython",
    "version": 3
   },
   "file_extension": ".py",
   "mimetype": "text/x-python",
   "name": "python",
   "nbconvert_exporter": "python",
   "pygments_lexer": "ipython3",
   "version": "3.11.1"
  }
 },
 "nbformat": 4,
 "nbformat_minor": 5
}
