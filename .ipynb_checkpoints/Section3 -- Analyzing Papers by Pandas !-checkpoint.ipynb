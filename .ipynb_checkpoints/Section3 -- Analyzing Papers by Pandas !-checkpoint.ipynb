{
 "cells": [
  {
   "cell_type": "code",
   "execution_count": 3,
   "id": "9122de4b-9ea9-4b7c-aecf-0137de89e8e8",
   "metadata": {},
   "outputs": [],
   "source": [
    "# Exploratory data analysis\n",
    "# We want more students to do research with professors. The incentives seem to exist: professors need students to publish and students need professors for guidance (what to ask, what papers to read, where to publish, etc).\n",
    "\n",
    "# We have anecdotal evidence that\n",
    "\n",
    "# If students approach professors without any direction, chances are low\n",
    "# If students approach with their own problem, chances are better\n",
    "# If students approach knowing the professor's research, chances are much better.\n",
    "# So our initial dataset only has\n",
    "\n",
    "# authors and the papers they wrote in author_and_papers.csv\n",
    "# papers and the references in paper_and_references.csv\n"
   ]
  },
  {
   "cell_type": "code",
   "execution_count": 5,
   "id": "2322860b-3984-4e70-a08e-fb8ec593b21d",
   "metadata": {},
   "outputs": [],
   "source": [
    "# Task 1 - basic exploration\n",
    "# Load the data\n",
    "# For both datasets, look at the first few, last few, and a random sample of records in the datasets (hint: pandas.DataFrame.sample()).\n",
    "# (no code) Why do we care about looking at a few records\n",
    "# How many professors are there in our dataset? (Multiple answers!)\n",
    "# How many papers are in our dataset? (Multiple answers!)"
   ]
  },
  {
   "cell_type": "code",
   "execution_count": 9,
   "id": "1402a550-5b8b-4da8-9016-934bf3a75bfc",
   "metadata": {},
   "outputs": [],
   "source": [
    "import pandas as pd"
   ]
  },
  {
   "cell_type": "code",
   "execution_count": 11,
   "id": "af5d0b10-cf37-40a9-894d-c7504f8ffa12",
   "metadata": {},
   "outputs": [],
   "source": [
    "au_paper = pd.read_csv('author_and_papers.csv')"
   ]
  },
  {
   "cell_type": "code",
   "execution_count": 12,
   "id": "1d1629e1-037d-4e3a-af93-7ccd9f48bf6c",
   "metadata": {},
   "outputs": [],
   "source": [
    "pa_refer = pd.read_csv('paper_and_references.csv')"
   ]
  },
  {
   "cell_type": "code",
   "execution_count": 13,
   "id": "8410c7b3-1f29-4d26-914c-d071620d0493",
   "metadata": {},
   "outputs": [
    {
     "data": {
      "text/html": [
       "<div>\n",
       "<style scoped>\n",
       "    .dataframe tbody tr th:only-of-type {\n",
       "        vertical-align: middle;\n",
       "    }\n",
       "\n",
       "    .dataframe tbody tr th {\n",
       "        vertical-align: top;\n",
       "    }\n",
       "\n",
       "    .dataframe thead th {\n",
       "        text-align: right;\n",
       "    }\n",
       "</style>\n",
       "<table border=\"1\" class=\"dataframe\">\n",
       "  <thead>\n",
       "    <tr style=\"text-align: right;\">\n",
       "      <th></th>\n",
       "      <th>Unnamed: 0</th>\n",
       "      <th>author_id</th>\n",
       "      <th>given_name</th>\n",
       "      <th>family_name</th>\n",
       "      <th>middle_name</th>\n",
       "      <th>paper_id</th>\n",
       "      <th>paper_title</th>\n",
       "    </tr>\n",
       "  </thead>\n",
       "  <tbody>\n",
       "    <tr>\n",
       "      <th>0</th>\n",
       "      <td>0</td>\n",
       "      <td>2</td>\n",
       "      <td>S</td>\n",
       "      <td>Rahmann</td>\n",
       "      <td>NaN</td>\n",
       "      <td>4</td>\n",
       "      <td>Snakemake--a scalable bioinformatics workflow ...</td>\n",
       "    </tr>\n",
       "    <tr>\n",
       "      <th>1</th>\n",
       "      <td>1</td>\n",
       "      <td>1678</td>\n",
       "      <td>J</td>\n",
       "      <td>Koster</td>\n",
       "      <td>NaN</td>\n",
       "      <td>4</td>\n",
       "      <td>Snakemake--a scalable bioinformatics workflow ...</td>\n",
       "    </tr>\n",
       "    <tr>\n",
       "      <th>2</th>\n",
       "      <td>2</td>\n",
       "      <td>109</td>\n",
       "      <td>Victoria</td>\n",
       "      <td>Stodden</td>\n",
       "      <td>NaN</td>\n",
       "      <td>15</td>\n",
       "      <td>Scientific tests and continuous integration st...</td>\n",
       "    </tr>\n",
       "    <tr>\n",
       "      <th>3</th>\n",
       "      <td>3</td>\n",
       "      <td>14</td>\n",
       "      <td>Darko</td>\n",
       "      <td>Marinov</td>\n",
       "      <td>NaN</td>\n",
       "      <td>15</td>\n",
       "      <td>Scientific tests and continuous integration st...</td>\n",
       "    </tr>\n",
       "    <tr>\n",
       "      <th>4</th>\n",
       "      <td>4</td>\n",
       "      <td>12</td>\n",
       "      <td>Adhithya</td>\n",
       "      <td>Bhaskar</td>\n",
       "      <td>NaN</td>\n",
       "      <td>15</td>\n",
       "      <td>Scientific tests and continuous integration st...</td>\n",
       "    </tr>\n",
       "  </tbody>\n",
       "</table>\n",
       "</div>"
      ],
      "text/plain": [
       "   Unnamed: 0  author_id given_name family_name middle_name  paper_id  \\\n",
       "0           0          2          S     Rahmann         NaN         4   \n",
       "1           1       1678          J      Koster         NaN         4   \n",
       "2           2        109   Victoria     Stodden         NaN        15   \n",
       "3           3         14      Darko     Marinov         NaN        15   \n",
       "4           4         12   Adhithya     Bhaskar         NaN        15   \n",
       "\n",
       "                                         paper_title  \n",
       "0  Snakemake--a scalable bioinformatics workflow ...  \n",
       "1  Snakemake--a scalable bioinformatics workflow ...  \n",
       "2  Scientific tests and continuous integration st...  \n",
       "3  Scientific tests and continuous integration st...  \n",
       "4  Scientific tests and continuous integration st...  "
      ]
     },
     "execution_count": 13,
     "metadata": {},
     "output_type": "execute_result"
    }
   ],
   "source": [
    "au_paper.head()"
   ]
  },
  {
   "cell_type": "code",
   "execution_count": 15,
   "id": "d4174ae1-669e-4aa4-b853-34d15779803b",
   "metadata": {},
   "outputs": [
    {
     "data": {
      "text/html": [
       "<div>\n",
       "<style scoped>\n",
       "    .dataframe tbody tr th:only-of-type {\n",
       "        vertical-align: middle;\n",
       "    }\n",
       "\n",
       "    .dataframe tbody tr th {\n",
       "        vertical-align: top;\n",
       "    }\n",
       "\n",
       "    .dataframe thead th {\n",
       "        text-align: right;\n",
       "    }\n",
       "</style>\n",
       "<table border=\"1\" class=\"dataframe\">\n",
       "  <thead>\n",
       "    <tr style=\"text-align: right;\">\n",
       "      <th></th>\n",
       "      <th>Unnamed: 0</th>\n",
       "      <th>author_id</th>\n",
       "      <th>given_name</th>\n",
       "      <th>family_name</th>\n",
       "      <th>middle_name</th>\n",
       "      <th>paper_id</th>\n",
       "      <th>paper_title</th>\n",
       "    </tr>\n",
       "  </thead>\n",
       "  <tbody>\n",
       "    <tr>\n",
       "      <th>11737</th>\n",
       "      <td>11737</td>\n",
       "      <td>11723</td>\n",
       "      <td>H</td>\n",
       "      <td>March</td>\n",
       "      <td>De</td>\n",
       "      <td>11724</td>\n",
       "      <td>Irreducible convex paving for decomposition of...</td>\n",
       "    </tr>\n",
       "    <tr>\n",
       "      <th>11738</th>\n",
       "      <td>11738</td>\n",
       "      <td>3763</td>\n",
       "      <td>Belding</td>\n",
       "      <td>Scribner</td>\n",
       "      <td>H</td>\n",
       "      <td>11727</td>\n",
       "      <td>The effect in humans of extracellular ph chang...</td>\n",
       "    </tr>\n",
       "    <tr>\n",
       "      <th>11739</th>\n",
       "      <td>11739</td>\n",
       "      <td>3764</td>\n",
       "      <td>Ben</td>\n",
       "      <td>Uyeno</td>\n",
       "      <td>T</td>\n",
       "      <td>11727</td>\n",
       "      <td>The effect in humans of extracellular ph chang...</td>\n",
       "    </tr>\n",
       "    <tr>\n",
       "      <th>11740</th>\n",
       "      <td>11740</td>\n",
       "      <td>11726</td>\n",
       "      <td>Mario</td>\n",
       "      <td>Villamil</td>\n",
       "      <td>F</td>\n",
       "      <td>11727</td>\n",
       "      <td>The effect in humans of extracellular ph chang...</td>\n",
       "    </tr>\n",
       "    <tr>\n",
       "      <th>11741</th>\n",
       "      <td>11741</td>\n",
       "      <td>3762</td>\n",
       "      <td>James</td>\n",
       "      <td>Burnell</td>\n",
       "      <td>M</td>\n",
       "      <td>11727</td>\n",
       "      <td>The effect in humans of extracellular ph chang...</td>\n",
       "    </tr>\n",
       "  </tbody>\n",
       "</table>\n",
       "</div>"
      ],
      "text/plain": [
       "       Unnamed: 0  author_id given_name family_name middle_name  paper_id  \\\n",
       "11737       11737      11723          H       March          De     11724   \n",
       "11738       11738       3763    Belding    Scribner           H     11727   \n",
       "11739       11739       3764        Ben       Uyeno           T     11727   \n",
       "11740       11740      11726      Mario    Villamil           F     11727   \n",
       "11741       11741       3762      James     Burnell           M     11727   \n",
       "\n",
       "                                             paper_title  \n",
       "11737  Irreducible convex paving for decomposition of...  \n",
       "11738  The effect in humans of extracellular ph chang...  \n",
       "11739  The effect in humans of extracellular ph chang...  \n",
       "11740  The effect in humans of extracellular ph chang...  \n",
       "11741  The effect in humans of extracellular ph chang...  "
      ]
     },
     "execution_count": 15,
     "metadata": {},
     "output_type": "execute_result"
    }
   ],
   "source": [
    "au_paper.tail()"
   ]
  },
  {
   "cell_type": "code",
   "execution_count": 124,
   "id": "4d307103-4638-4a85-b5cc-76a20d519c07",
   "metadata": {},
   "outputs": [
    {
     "data": {
      "text/html": [
       "<div>\n",
       "<style scoped>\n",
       "    .dataframe tbody tr th:only-of-type {\n",
       "        vertical-align: middle;\n",
       "    }\n",
       "\n",
       "    .dataframe tbody tr th {\n",
       "        vertical-align: top;\n",
       "    }\n",
       "\n",
       "    .dataframe thead th {\n",
       "        text-align: right;\n",
       "    }\n",
       "</style>\n",
       "<table border=\"1\" class=\"dataframe\">\n",
       "  <thead>\n",
       "    <tr style=\"text-align: right;\">\n",
       "      <th></th>\n",
       "      <th>Unnamed: 0</th>\n",
       "      <th>auth_id</th>\n",
       "      <th>auth_title</th>\n",
       "      <th>ref_id</th>\n",
       "      <th>ref_title</th>\n",
       "    </tr>\n",
       "  </thead>\n",
       "  <tbody>\n",
       "    <tr>\n",
       "      <th>0</th>\n",
       "      <td>0</td>\n",
       "      <td>20</td>\n",
       "      <td>Nonlinear evolution via spatially-dependent li...</td>\n",
       "      <td>278</td>\n",
       "      <td>Penalized matrix decomposition for denoising, ...</td>\n",
       "    </tr>\n",
       "    <tr>\n",
       "      <th>1</th>\n",
       "      <td>1</td>\n",
       "      <td>20</td>\n",
       "      <td>Nonlinear evolution via spatially-dependent li...</td>\n",
       "      <td>1392</td>\n",
       "      <td>Resting-state hemodynamics are spatiotemporall...</td>\n",
       "    </tr>\n",
       "    <tr>\n",
       "      <th>2</th>\n",
       "      <td>2</td>\n",
       "      <td>20</td>\n",
       "      <td>Nonlinear evolution via spatially-dependent li...</td>\n",
       "      <td>1498</td>\n",
       "      <td>Wide-field optical mapping of neural activity ...</td>\n",
       "    </tr>\n",
       "    <tr>\n",
       "      <th>3</th>\n",
       "      <td>3</td>\n",
       "      <td>20</td>\n",
       "      <td>Nonlinear evolution via spatially-dependent li...</td>\n",
       "      <td>2445</td>\n",
       "      <td>A quantitative description of membrane current...</td>\n",
       "    </tr>\n",
       "    <tr>\n",
       "      <th>4</th>\n",
       "      <td>4</td>\n",
       "      <td>20</td>\n",
       "      <td>Nonlinear evolution via spatially-dependent li...</td>\n",
       "      <td>2442</td>\n",
       "      <td>An orderly single-trial organization of popula...</td>\n",
       "    </tr>\n",
       "  </tbody>\n",
       "</table>\n",
       "</div>"
      ],
      "text/plain": [
       "   Unnamed: 0  auth_id                                         auth_title  \\\n",
       "0           0       20  Nonlinear evolution via spatially-dependent li...   \n",
       "1           1       20  Nonlinear evolution via spatially-dependent li...   \n",
       "2           2       20  Nonlinear evolution via spatially-dependent li...   \n",
       "3           3       20  Nonlinear evolution via spatially-dependent li...   \n",
       "4           4       20  Nonlinear evolution via spatially-dependent li...   \n",
       "\n",
       "   ref_id                                          ref_title  \n",
       "0     278  Penalized matrix decomposition for denoising, ...  \n",
       "1    1392  Resting-state hemodynamics are spatiotemporall...  \n",
       "2    1498  Wide-field optical mapping of neural activity ...  \n",
       "3    2445  A quantitative description of membrane current...  \n",
       "4    2442  An orderly single-trial organization of popula...  "
      ]
     },
     "execution_count": 124,
     "metadata": {},
     "output_type": "execute_result"
    }
   ],
   "source": [
    "pa_refer.head()"
   ]
  },
  {
   "cell_type": "code",
   "execution_count": 125,
   "id": "86d2d729-bd70-4eb3-8185-05fb060c8559",
   "metadata": {},
   "outputs": [
    {
     "data": {
      "text/html": [
       "<div>\n",
       "<style scoped>\n",
       "    .dataframe tbody tr th:only-of-type {\n",
       "        vertical-align: middle;\n",
       "    }\n",
       "\n",
       "    .dataframe tbody tr th {\n",
       "        vertical-align: top;\n",
       "    }\n",
       "\n",
       "    .dataframe thead th {\n",
       "        text-align: right;\n",
       "    }\n",
       "</style>\n",
       "<table border=\"1\" class=\"dataframe\">\n",
       "  <thead>\n",
       "    <tr style=\"text-align: right;\">\n",
       "      <th></th>\n",
       "      <th>Unnamed: 0</th>\n",
       "      <th>auth_id</th>\n",
       "      <th>auth_title</th>\n",
       "      <th>ref_id</th>\n",
       "      <th>ref_title</th>\n",
       "    </tr>\n",
       "  </thead>\n",
       "  <tbody>\n",
       "    <tr>\n",
       "      <th>3716</th>\n",
       "      <td>3716</td>\n",
       "      <td>11636</td>\n",
       "      <td>Population predictive checks</td>\n",
       "      <td>11702</td>\n",
       "      <td>Bayesianly justifiable and relevant frequency ...</td>\n",
       "    </tr>\n",
       "    <tr>\n",
       "      <th>3717</th>\n",
       "      <td>3717</td>\n",
       "      <td>11636</td>\n",
       "      <td>Population predictive checks</td>\n",
       "      <td>11703</td>\n",
       "      <td>Bayesian probabilistic matrix factorization us...</td>\n",
       "    </tr>\n",
       "    <tr>\n",
       "      <th>3718</th>\n",
       "      <td>3718</td>\n",
       "      <td>11636</td>\n",
       "      <td>Population predictive checks</td>\n",
       "      <td>11705</td>\n",
       "      <td>Scalable bayes via barycenter in wasserstein s...</td>\n",
       "    </tr>\n",
       "    <tr>\n",
       "      <th>3719</th>\n",
       "      <td>3719</td>\n",
       "      <td>11636</td>\n",
       "      <td>Population predictive checks</td>\n",
       "      <td>11706</td>\n",
       "      <td>Stan r&amp;d: research and development expenditure...</td>\n",
       "    </tr>\n",
       "    <tr>\n",
       "      <th>3720</th>\n",
       "      <td>3720</td>\n",
       "      <td>11636</td>\n",
       "      <td>Population predictive checks</td>\n",
       "      <td>11709</td>\n",
       "      <td>Cross-validatory choice and assessment of stat...</td>\n",
       "    </tr>\n",
       "  </tbody>\n",
       "</table>\n",
       "</div>"
      ],
      "text/plain": [
       "      Unnamed: 0  auth_id                    auth_title  ref_id  \\\n",
       "3716        3716    11636  Population predictive checks   11702   \n",
       "3717        3717    11636  Population predictive checks   11703   \n",
       "3718        3718    11636  Population predictive checks   11705   \n",
       "3719        3719    11636  Population predictive checks   11706   \n",
       "3720        3720    11636  Population predictive checks   11709   \n",
       "\n",
       "                                              ref_title  \n",
       "3716  Bayesianly justifiable and relevant frequency ...  \n",
       "3717  Bayesian probabilistic matrix factorization us...  \n",
       "3718  Scalable bayes via barycenter in wasserstein s...  \n",
       "3719  Stan r&d: research and development expenditure...  \n",
       "3720  Cross-validatory choice and assessment of stat...  "
      ]
     },
     "execution_count": 125,
     "metadata": {},
     "output_type": "execute_result"
    }
   ],
   "source": [
    "pa_refer.tail()"
   ]
  },
  {
   "cell_type": "code",
   "execution_count": 18,
   "id": "234a3649-3b6e-4505-b1d8-45e7237e520c",
   "metadata": {},
   "outputs": [
    {
     "data": {
      "text/html": [
       "<div>\n",
       "<style scoped>\n",
       "    .dataframe tbody tr th:only-of-type {\n",
       "        vertical-align: middle;\n",
       "    }\n",
       "\n",
       "    .dataframe tbody tr th {\n",
       "        vertical-align: top;\n",
       "    }\n",
       "\n",
       "    .dataframe thead th {\n",
       "        text-align: right;\n",
       "    }\n",
       "</style>\n",
       "<table border=\"1\" class=\"dataframe\">\n",
       "  <thead>\n",
       "    <tr style=\"text-align: right;\">\n",
       "      <th></th>\n",
       "      <th>Unnamed: 0</th>\n",
       "      <th>author_id</th>\n",
       "      <th>given_name</th>\n",
       "      <th>family_name</th>\n",
       "      <th>middle_name</th>\n",
       "      <th>paper_id</th>\n",
       "      <th>paper_title</th>\n",
       "    </tr>\n",
       "  </thead>\n",
       "  <tbody>\n",
       "    <tr>\n",
       "      <th>9357</th>\n",
       "      <td>9357</td>\n",
       "      <td>5038</td>\n",
       "      <td>Nizar</td>\n",
       "      <td>Touzi</td>\n",
       "      <td>NaN</td>\n",
       "      <td>9214</td>\n",
       "      <td>An explicit martingale version of the one-dime...</td>\n",
       "    </tr>\n",
       "  </tbody>\n",
       "</table>\n",
       "</div>"
      ],
      "text/plain": [
       "      Unnamed: 0  author_id given_name family_name middle_name  paper_id  \\\n",
       "9357        9357       5038      Nizar       Touzi         NaN      9214   \n",
       "\n",
       "                                            paper_title  \n",
       "9357  An explicit martingale version of the one-dime...  "
      ]
     },
     "execution_count": 18,
     "metadata": {},
     "output_type": "execute_result"
    }
   ],
   "source": [
    "au_paper.sample()"
   ]
  },
  {
   "cell_type": "code",
   "execution_count": 19,
   "id": "4e7f6ad2-343d-49ff-a3f9-3133244a4619",
   "metadata": {},
   "outputs": [
    {
     "data": {
      "text/html": [
       "<div>\n",
       "<style scoped>\n",
       "    .dataframe tbody tr th:only-of-type {\n",
       "        vertical-align: middle;\n",
       "    }\n",
       "\n",
       "    .dataframe tbody tr th {\n",
       "        vertical-align: top;\n",
       "    }\n",
       "\n",
       "    .dataframe thead th {\n",
       "        text-align: right;\n",
       "    }\n",
       "</style>\n",
       "<table border=\"1\" class=\"dataframe\">\n",
       "  <thead>\n",
       "    <tr style=\"text-align: right;\">\n",
       "      <th></th>\n",
       "      <th>Unnamed: 0</th>\n",
       "      <th>auth_id</th>\n",
       "      <th>auth_title</th>\n",
       "      <th>ref_id</th>\n",
       "      <th>ref_title</th>\n",
       "    </tr>\n",
       "  </thead>\n",
       "  <tbody>\n",
       "    <tr>\n",
       "      <th>1496</th>\n",
       "      <td>1496</td>\n",
       "      <td>5416</td>\n",
       "      <td>Fine properties of the optimal skorokhod embed...</td>\n",
       "      <td>5092</td>\n",
       "      <td>Robust superhedging with jumps and diffusion</td>\n",
       "    </tr>\n",
       "  </tbody>\n",
       "</table>\n",
       "</div>"
      ],
      "text/plain": [
       "      Unnamed: 0  auth_id                                         auth_title  \\\n",
       "1496        1496     5416  Fine properties of the optimal skorokhod embed...   \n",
       "\n",
       "      ref_id                                     ref_title  \n",
       "1496    5092  Robust superhedging with jumps and diffusion  "
      ]
     },
     "execution_count": 19,
     "metadata": {},
     "output_type": "execute_result"
    }
   ],
   "source": [
    "pa_refer.sample()"
   ]
  },
  {
   "cell_type": "code",
   "execution_count": 36,
   "id": "33d2a2b9-9f64-4524-98c4-bc2c9774b3f0",
   "metadata": {},
   "outputs": [
    {
     "data": {
      "text/plain": [
       "array([    2,  1678,   109, ..., 11712, 11723, 11726])"
      ]
     },
     "execution_count": 36,
     "metadata": {},
     "output_type": "execute_result"
    }
   ],
   "source": [
    "# when we need to caculate how many different values in a column of a dataset, we can use .unique() method and use .shape()[0] to count.\n",
    "# this method could help us find the unique values in a column.\n",
    "au_paper.author_id.unique()"
   ]
  },
  {
   "cell_type": "code",
   "execution_count": 35,
   "id": "187ffe49-782d-44b3-a4b0-ec6aa2a8c060",
   "metadata": {},
   "outputs": [
    {
     "data": {
      "text/plain": [
       "7098"
      ]
     },
     "execution_count": 35,
     "metadata": {},
     "output_type": "execute_result"
    }
   ],
   "source": [
    "au_paper.author_id.unique().shape[0]"
   ]
  },
  {
   "cell_type": "code",
   "execution_count": 39,
   "id": "aab793ff-66d8-44fb-844f-320356fd2db3",
   "metadata": {},
   "outputs": [
    {
     "name": "stdout",
     "output_type": "stream",
     "text": [
      "there are 7098 professor in the data.\n"
     ]
    }
   ],
   "source": [
    "# number of professor:\n",
    "num_prof = au_paper.author_id.unique().shape[0]\n",
    "print('there are {} professor in the data.'.format(num_prof))"
   ]
  },
  {
   "cell_type": "code",
   "execution_count": 40,
   "id": "a42a5ea4-ea10-4d11-a633-bb4b11ddc3ba",
   "metadata": {},
   "outputs": [],
   "source": [
    "# get paper count"
   ]
  },
  {
   "cell_type": "code",
   "execution_count": 48,
   "id": "844c6859-74ed-42f4-afc8-101643f5b61e",
   "metadata": {},
   "outputs": [],
   "source": [
    "# set() only contains unique values, which can be used in counting number of unique numbers.\n",
    "paper_set_1 = au_paper.paper_title.unique().tolist()\n",
    "paper_set_2 = pa_refer.auth_title.unique().tolist()\n",
    "paper_set_3 = pa_refer.ref_title.unique().tolist()"
   ]
  },
  {
   "cell_type": "code",
   "execution_count": 49,
   "id": "918833c7-6746-4e59-baa3-bade61abbdf4",
   "metadata": {},
   "outputs": [],
   "source": [
    "pap_titles = paper_set_1 + paper_set_2 + paper_set_3"
   ]
  },
  {
   "cell_type": "code",
   "execution_count": 50,
   "id": "2ab383be-e16a-470a-96b8-4c690bbfa4f1",
   "metadata": {},
   "outputs": [
    {
     "data": {
      "text/plain": [
       "6123"
      ]
     },
     "execution_count": 50,
     "metadata": {},
     "output_type": "execute_result"
    }
   ],
   "source": [
    "len(pap_titles)"
   ]
  },
  {
   "cell_type": "code",
   "execution_count": 51,
   "id": "cf73a475-487b-4ccf-bc75-26c982bac218",
   "metadata": {},
   "outputs": [
    {
     "data": {
      "text/plain": [
       "3090"
      ]
     },
     "execution_count": 51,
     "metadata": {},
     "output_type": "execute_result"
    }
   ],
   "source": [
    "len(set([str(title).lower() for title in pap_titles]))"
   ]
  },
  {
   "cell_type": "code",
   "execution_count": null,
   "id": "2f19e4f7-cf05-4ef8-bc49-d9fb8ce66012",
   "metadata": {},
   "outputs": [],
   "source": []
  },
  {
   "cell_type": "code",
   "execution_count": 6,
   "id": "443bf1da-65e6-440e-9ba3-3d04c40a8981",
   "metadata": {},
   "outputs": [],
   "source": [
    "# Task 2 - Some analysis\n",
    "# Calculate, then graph the following:\n",
    "\n",
    "# How many papers are associated with each professor?\n",
    "# How many authors does each paper have?\n",
    "# How many references does each paper have?\n",
    "# Are the same references being used by multiple papers?"
   ]
  },
  {
   "cell_type": "code",
   "execution_count": 85,
   "id": "ca048eb7-d3e5-4a1f-95f7-1c3aafaa44ff",
   "metadata": {},
   "outputs": [
    {
     "data": {
      "text/plain": [
       "author_id\n",
       "0        199\n",
       "2          1\n",
       "3          4\n",
       "5          7\n",
       "7         13\n",
       "        ... \n",
       "11704      1\n",
       "11708      1\n",
       "11712      1\n",
       "11723      1\n",
       "11726      1\n",
       "Name: paper_id, Length: 7098, dtype: int64"
      ]
     },
     "execution_count": 85,
     "metadata": {},
     "output_type": "execute_result"
    }
   ],
   "source": [
    "# number of professor\n",
    "au_paper.groupby('author_id').count()['paper_id']\n",
    "# maybe there are duplicates data"
   ]
  },
  {
   "cell_type": "code",
   "execution_count": 87,
   "id": "1c2a54e5-9360-432e-8f5c-017bce748a7e",
   "metadata": {},
   "outputs": [
    {
     "data": {
      "text/plain": [
       "7098"
      ]
     },
     "execution_count": 87,
     "metadata": {},
     "output_type": "execute_result"
    }
   ],
   "source": [
    "len(au_paper.groupby('author_id').count()['paper_id'])"
   ]
  },
  {
   "cell_type": "code",
   "execution_count": 33,
   "id": "5d51525b-ce32-4dae-aa24-a18b175be99d",
   "metadata": {},
   "outputs": [
    {
     "data": {
      "text/plain": [
       "paper_id\n",
       "4         2\n",
       "15        5\n",
       "20        6\n",
       "21        1\n",
       "30       10\n",
       "         ..\n",
       "11717     2\n",
       "11719     5\n",
       "11722     1\n",
       "11724     2\n",
       "11727     4\n",
       "Name: author_id, Length: 3049, dtype: int64"
      ]
     },
     "execution_count": 33,
     "metadata": {},
     "output_type": "execute_result"
    }
   ],
   "source": [
    "au_paper.groupby('paper_id').count()['author_id']"
   ]
  },
  {
   "cell_type": "code",
   "execution_count": 70,
   "id": "ad925eb9-5605-4057-93ff-d932ca0a84e1",
   "metadata": {},
   "outputs": [],
   "source": [
    "# method 2: using for-loops:\n",
    "paper_count = []\n",
    "for i in au_paper.author_id.unique():\n",
    "    is_target = au_paper.author_id == i\n",
    "    paps_by_author = au_paper.loc[is_target, 'paper_id'].unique()\n",
    "    paper_count.append(paps_by_author.shape[0])"
   ]
  },
  {
   "cell_type": "code",
   "execution_count": 74,
   "id": "09767792-3e68-492f-8078-817be91c7d1e",
   "metadata": {},
   "outputs": [
    {
     "data": {
      "text/plain": [
       "<Axes: ylabel='Count'>"
      ]
     },
     "execution_count": 74,
     "metadata": {},
     "output_type": "execute_result"
    },
    {
     "data": {
      "image/png": "[encoded data removed]",
      "text/plain": [
       "<Figure size 640x480 with 1 Axes>"
      ]
     },
     "metadata": {},
     "output_type": "display_data"
    }
   ],
   "source": [
    "import seaborn as sns\n",
    "sns.histplot(paper_count)\n",
    "# this plot means: the number of authors who have about 0-10 passages is round 7000 people, and the number of authors who have 10-20 papers\n",
    "# is a little people."
   ]
  },
  {
   "cell_type": "code",
   "execution_count": null,
   "id": "75f077f8-fdd7-4dea-a411-409e9bb7c670",
   "metadata": {},
   "outputs": [],
   "source": []
  },
  {
   "cell_type": "code",
   "execution_count": 77,
   "id": "6b7a8523-baee-4a1a-9d50-8f58c3e9d3ec",
   "metadata": {},
   "outputs": [],
   "source": [
    "auth_count = []\n",
    "for paper in au_paper.paper_id.unique():\n",
    "    is_target_p = au_paper.paper_id == paper\n",
    "    author_by_paper = au_paper.loc[is_target_p, 'author_id'].unique()\n",
    "    auth_count.append(author_by_paper.shape[0])"
   ]
  },
  {
   "cell_type": "code",
   "execution_count": 78,
   "id": "5f7304a9-b2b5-481b-ba50-dabbf15ac8b1",
   "metadata": {},
   "outputs": [
    {
     "data": {
      "text/plain": [
       "<Axes: ylabel='Count'>"
      ]
     },
     "execution_count": 78,
     "metadata": {},
     "output_type": "execute_result"
    },
    {
     "data": {
      "image/png": "[encoded data removed]",
      "text/plain": [
       "<Figure size 640x480 with 1 Axes>"
      ]
     },
     "metadata": {},
     "output_type": "display_data"
    }
   ],
   "source": [
    "sns.histplot(auth_count)"
   ]
  },
  {
   "cell_type": "code",
   "execution_count": 88,
   "id": "59d69018-7734-4e41-89e0-b6fa4b387b34",
   "metadata": {},
   "outputs": [],
   "source": [
    "# we can also use .drop_duplicates() method to get unique values.\n",
    "auth_cnt = au_paper.loc[:, ['paper_id', 'author_id']].drop_duplicates().groupby('paper_id').count()"
   ]
  },
  {
   "cell_type": "code",
   "execution_count": 89,
   "id": "91dad8bf-95e3-401d-b2b1-bd227f16019d",
   "metadata": {},
   "outputs": [
    {
     "data": {
      "text/html": [
       "<div>\n",
       "<style scoped>\n",
       "    .dataframe tbody tr th:only-of-type {\n",
       "        vertical-align: middle;\n",
       "    }\n",
       "\n",
       "    .dataframe tbody tr th {\n",
       "        vertical-align: top;\n",
       "    }\n",
       "\n",
       "    .dataframe thead th {\n",
       "        text-align: right;\n",
       "    }\n",
       "</style>\n",
       "<table border=\"1\" class=\"dataframe\">\n",
       "  <thead>\n",
       "    <tr style=\"text-align: right;\">\n",
       "      <th></th>\n",
       "      <th>author_id</th>\n",
       "    </tr>\n",
       "    <tr>\n",
       "      <th>paper_id</th>\n",
       "      <th></th>\n",
       "    </tr>\n",
       "  </thead>\n",
       "  <tbody>\n",
       "    <tr>\n",
       "      <th>4</th>\n",
       "      <td>2</td>\n",
       "    </tr>\n",
       "    <tr>\n",
       "      <th>15</th>\n",
       "      <td>5</td>\n",
       "    </tr>\n",
       "    <tr>\n",
       "      <th>20</th>\n",
       "      <td>6</td>\n",
       "    </tr>\n",
       "    <tr>\n",
       "      <th>21</th>\n",
       "      <td>1</td>\n",
       "    </tr>\n",
       "    <tr>\n",
       "      <th>30</th>\n",
       "      <td>10</td>\n",
       "    </tr>\n",
       "    <tr>\n",
       "      <th>...</th>\n",
       "      <td>...</td>\n",
       "    </tr>\n",
       "    <tr>\n",
       "      <th>11717</th>\n",
       "      <td>2</td>\n",
       "    </tr>\n",
       "    <tr>\n",
       "      <th>11719</th>\n",
       "      <td>5</td>\n",
       "    </tr>\n",
       "    <tr>\n",
       "      <th>11722</th>\n",
       "      <td>1</td>\n",
       "    </tr>\n",
       "    <tr>\n",
       "      <th>11724</th>\n",
       "      <td>2</td>\n",
       "    </tr>\n",
       "    <tr>\n",
       "      <th>11727</th>\n",
       "      <td>4</td>\n",
       "    </tr>\n",
       "  </tbody>\n",
       "</table>\n",
       "<p>3049 rows × 1 columns</p>\n",
       "</div>"
      ],
      "text/plain": [
       "          author_id\n",
       "paper_id           \n",
       "4                 2\n",
       "15                5\n",
       "20                6\n",
       "21                1\n",
       "30               10\n",
       "...             ...\n",
       "11717             2\n",
       "11719             5\n",
       "11722             1\n",
       "11724             2\n",
       "11727             4\n",
       "\n",
       "[3049 rows x 1 columns]"
      ]
     },
     "execution_count": 89,
     "metadata": {},
     "output_type": "execute_result"
    }
   ],
   "source": [
    "auth_cnt"
   ]
  },
  {
   "cell_type": "code",
   "execution_count": 102,
   "id": "ae784c44-662a-4f29-9ab5-242b0c83e1ee",
   "metadata": {},
   "outputs": [],
   "source": [
    "auth_cnt2 = auth_cnt.reset_index().author_id"
   ]
  },
  {
   "cell_type": "code",
   "execution_count": 103,
   "id": "ac3025b7-5e72-49fe-b251-a986426197c4",
   "metadata": {},
   "outputs": [
    {
     "data": {
      "text/plain": [
       "0        2\n",
       "1        5\n",
       "2        6\n",
       "3        1\n",
       "4       10\n",
       "        ..\n",
       "3044     2\n",
       "3045     5\n",
       "3046     1\n",
       "3047     2\n",
       "3048     4\n",
       "Name: author_id, Length: 3049, dtype: int64"
      ]
     },
     "execution_count": 103,
     "metadata": {},
     "output_type": "execute_result"
    }
   ],
   "source": [
    "auth_cnt2"
   ]
  },
  {
   "cell_type": "code",
   "execution_count": 104,
   "id": "3ac89f38-b165-4d73-9c01-dbfef97e1484",
   "metadata": {},
   "outputs": [
    {
     "data": {
      "text/plain": [
       "<Axes: xlabel='author_id', ylabel='Count'>"
      ]
     },
     "execution_count": 104,
     "metadata": {},
     "output_type": "execute_result"
    },
    {
     "data": {
      "image/png": "[encoded data removed]",
      "text/plain": [
       "<Figure size 640x480 with 1 Axes>"
      ]
     },
     "metadata": {},
     "output_type": "display_data"
    }
   ],
   "source": [
    "sns.histplot(auth_cnt2)"
   ]
  },
  {
   "cell_type": "code",
   "execution_count": 116,
   "id": "517178c3-45de-4343-9dc5-5bdb7ee55829",
   "metadata": {},
   "outputs": [],
   "source": [
    "ref_count = pa_refer.loc[:, ['ref_id', 'auth_id']].drop_duplicates().groupby('auth_id').count()"
   ]
  },
  {
   "cell_type": "code",
   "execution_count": 117,
   "id": "42f82c0e-60a6-4a76-ab19-2d3de7272136",
   "metadata": {},
   "outputs": [
    {
     "data": {
      "text/plain": [
       "<Axes: ylabel='Count'>"
      ]
     },
     "execution_count": 117,
     "metadata": {},
     "output_type": "execute_result"
    },
    {
     "data": {
      "image/png": "[encoded data removed]",
      "text/plain": [
       "<Figure size 640x480 with 1 Axes>"
      ]
     },
     "metadata": {},
     "output_type": "display_data"
    }
   ],
   "source": [
    "sns.histplot(ref_count)"
   ]
  },
  {
   "cell_type": "code",
   "execution_count": 118,
   "id": "9c3362a4-a66a-4f4f-9b2f-2ddf2a314c72",
   "metadata": {},
   "outputs": [],
   "source": [
    "ref_cnt2 = ref_count.reset_index()"
   ]
  },
  {
   "cell_type": "code",
   "execution_count": 119,
   "id": "a4de0a11-8946-4d05-8ec3-8b9e1c5f9c85",
   "metadata": {},
   "outputs": [
    {
     "data": {
      "text/html": [
       "<div>\n",
       "<style scoped>\n",
       "    .dataframe tbody tr th:only-of-type {\n",
       "        vertical-align: middle;\n",
       "    }\n",
       "\n",
       "    .dataframe tbody tr th {\n",
       "        vertical-align: top;\n",
       "    }\n",
       "\n",
       "    .dataframe thead th {\n",
       "        text-align: right;\n",
       "    }\n",
       "</style>\n",
       "<table border=\"1\" class=\"dataframe\">\n",
       "  <thead>\n",
       "    <tr style=\"text-align: right;\">\n",
       "      <th></th>\n",
       "      <th>auth_id</th>\n",
       "      <th>ref_id</th>\n",
       "    </tr>\n",
       "  </thead>\n",
       "  <tbody>\n",
       "    <tr>\n",
       "      <th>0</th>\n",
       "      <td>20</td>\n",
       "      <td>40</td>\n",
       "    </tr>\n",
       "    <tr>\n",
       "      <th>1</th>\n",
       "      <td>48</td>\n",
       "      <td>78</td>\n",
       "    </tr>\n",
       "    <tr>\n",
       "      <th>2</th>\n",
       "      <td>74</td>\n",
       "      <td>45</td>\n",
       "    </tr>\n",
       "    <tr>\n",
       "      <th>3</th>\n",
       "      <td>95</td>\n",
       "      <td>22</td>\n",
       "    </tr>\n",
       "    <tr>\n",
       "      <th>4</th>\n",
       "      <td>104</td>\n",
       "      <td>50</td>\n",
       "    </tr>\n",
       "  </tbody>\n",
       "</table>\n",
       "</div>"
      ],
      "text/plain": [
       "   auth_id  ref_id\n",
       "0       20      40\n",
       "1       48      78\n",
       "2       74      45\n",
       "3       95      22\n",
       "4      104      50"
      ]
     },
     "execution_count": 119,
     "metadata": {},
     "output_type": "execute_result"
    }
   ],
   "source": [
    "ref_cnt2.head()"
   ]
  },
  {
   "cell_type": "code",
   "execution_count": 122,
   "id": "9619250e-0557-4a75-8039-5de81a6c2e26",
   "metadata": {},
   "outputs": [
    {
     "data": {
      "text/html": [
       "<div>\n",
       "<style scoped>\n",
       "    .dataframe tbody tr th:only-of-type {\n",
       "        vertical-align: middle;\n",
       "    }\n",
       "\n",
       "    .dataframe tbody tr th {\n",
       "        vertical-align: top;\n",
       "    }\n",
       "\n",
       "    .dataframe thead th {\n",
       "        text-align: right;\n",
       "    }\n",
       "</style>\n",
       "<table border=\"1\" class=\"dataframe\">\n",
       "  <thead>\n",
       "    <tr style=\"text-align: right;\">\n",
       "      <th></th>\n",
       "      <th>author_id</th>\n",
       "    </tr>\n",
       "    <tr>\n",
       "      <th>paper_id</th>\n",
       "      <th></th>\n",
       "    </tr>\n",
       "  </thead>\n",
       "  <tbody>\n",
       "    <tr>\n",
       "      <th>11698</th>\n",
       "      <td>1</td>\n",
       "    </tr>\n",
       "    <tr>\n",
       "      <th>85</th>\n",
       "      <td>1</td>\n",
       "    </tr>\n",
       "    <tr>\n",
       "      <th>73</th>\n",
       "      <td>1</td>\n",
       "    </tr>\n",
       "    <tr>\n",
       "      <th>11667</th>\n",
       "      <td>1</td>\n",
       "    </tr>\n",
       "    <tr>\n",
       "      <th>11660</th>\n",
       "      <td>1</td>\n",
       "    </tr>\n",
       "    <tr>\n",
       "      <th>...</th>\n",
       "      <td>...</td>\n",
       "    </tr>\n",
       "    <tr>\n",
       "      <th>5221</th>\n",
       "      <td>72</td>\n",
       "    </tr>\n",
       "    <tr>\n",
       "      <th>1711</th>\n",
       "      <td>107</td>\n",
       "    </tr>\n",
       "    <tr>\n",
       "      <th>11469</th>\n",
       "      <td>116</td>\n",
       "    </tr>\n",
       "    <tr>\n",
       "      <th>299</th>\n",
       "      <td>127</td>\n",
       "    </tr>\n",
       "    <tr>\n",
       "      <th>917</th>\n",
       "      <td>238</td>\n",
       "    </tr>\n",
       "  </tbody>\n",
       "</table>\n",
       "<p>3049 rows × 1 columns</p>\n",
       "</div>"
      ],
      "text/plain": [
       "          author_id\n",
       "paper_id           \n",
       "11698             1\n",
       "85                1\n",
       "73                1\n",
       "11667             1\n",
       "11660             1\n",
       "...             ...\n",
       "5221             72\n",
       "1711            107\n",
       "11469           116\n",
       "299             127\n",
       "917             238\n",
       "\n",
       "[3049 rows x 1 columns]"
      ]
     },
     "execution_count": 122,
     "metadata": {},
     "output_type": "execute_result"
    }
   ],
   "source": [
    "# when we need to sort the values, we can use the .sort_values() method, and the argumemt in the () is the column name you want to sort with.\n",
    "auth_cnt.sort_values('author_id')"
   ]
  },
  {
   "cell_type": "code",
   "execution_count": 130,
   "id": "faa1c7e8-b263-4dcd-9a93-a42e1c298a6a",
   "metadata": {},
   "outputs": [],
   "source": [
    "auth_count_ref = pa_refer.loc[:, ['auth_id', 'ref_id']].drop_duplicates().groupby('ref_id').count()"
   ]
  },
  {
   "cell_type": "code",
   "execution_count": 131,
   "id": "04948766-5b84-432d-9aa8-d976f441c10f",
   "metadata": {},
   "outputs": [
    {
     "data": {
      "text/plain": [
       "<Axes: ylabel='Count'>"
      ]
     },
     "execution_count": 131,
     "metadata": {},
     "output_type": "execute_result"
    },
    {
     "data": {
      "image/png": "[encoded data removed]",
      "text/plain": [
       "<Figure size 640x480 with 1 Axes>"
      ]
     },
     "metadata": {},
     "output_type": "display_data"
    }
   ],
   "source": [
    "sns.histplot(auth_count_ref)"
   ]
  },
  {
   "cell_type": "code",
   "execution_count": 133,
   "id": "24c65806-59ef-47b5-a4f2-4dbfae7a4a9c",
   "metadata": {},
   "outputs": [
    {
     "data": {
      "text/plain": [
       "Index(['auth_id'], dtype='object')"
      ]
     },
     "execution_count": 133,
     "metadata": {},
     "output_type": "execute_result"
    }
   ],
   "source": [
    "auth_count_ref.columns"
   ]
  },
  {
   "cell_type": "code",
   "execution_count": 135,
   "id": "65ca20da-d864-4738-909d-0a845b4824ec",
   "metadata": {},
   "outputs": [
    {
     "data": {
      "text/html": [
       "<div>\n",
       "<style scoped>\n",
       "    .dataframe tbody tr th:only-of-type {\n",
       "        vertical-align: middle;\n",
       "    }\n",
       "\n",
       "    .dataframe tbody tr th {\n",
       "        vertical-align: top;\n",
       "    }\n",
       "\n",
       "    .dataframe thead th {\n",
       "        text-align: right;\n",
       "    }\n",
       "</style>\n",
       "<table border=\"1\" class=\"dataframe\">\n",
       "  <thead>\n",
       "    <tr style=\"text-align: right;\">\n",
       "      <th></th>\n",
       "      <th>auth_id</th>\n",
       "    </tr>\n",
       "    <tr>\n",
       "      <th>ref_id</th>\n",
       "      <th></th>\n",
       "    </tr>\n",
       "  </thead>\n",
       "  <tbody>\n",
       "    <tr>\n",
       "      <th>299</th>\n",
       "      <td>26</td>\n",
       "    </tr>\n",
       "    <tr>\n",
       "      <th>917</th>\n",
       "      <td>26</td>\n",
       "    </tr>\n",
       "  </tbody>\n",
       "</table>\n",
       "</div>"
      ],
      "text/plain": [
       "        auth_id\n",
       "ref_id         \n",
       "299          26\n",
       "917          26"
      ]
     },
     "execution_count": 135,
     "metadata": {},
     "output_type": "execute_result"
    }
   ],
   "source": [
    "auth_count_ref.loc[auth_count_ref.auth_id > 20,:]"
   ]
  },
  {
   "cell_type": "code",
   "execution_count": 137,
   "id": "1772d05d-ca99-4d7c-a3ad-4407f2141640",
   "metadata": {},
   "outputs": [
    {
     "data": {
      "text/plain": [
       "array(['Preprint repository arxiv achieves milestone million uploads',\n",
       "       nan], dtype=object)"
      ]
     },
     "execution_count": 137,
     "metadata": {},
     "output_type": "execute_result"
    }
   ],
   "source": [
    "pa_refer.loc[(pa_refer.ref_id == 299) | (pa_refer.ref_id == 917), 'ref_title'].unique()"
   ]
  },
  {
   "cell_type": "code",
   "execution_count": null,
   "id": "0b9f37ac-e22d-45bf-9964-92f2db6a3ed3",
   "metadata": {},
   "outputs": [],
   "source": []
  },
  {
   "cell_type": "code",
   "execution_count": null,
   "id": "899c77dc-d966-4b70-8267-53866c33a1d3",
   "metadata": {},
   "outputs": [],
   "source": []
  },
  {
   "cell_type": "code",
   "execution_count": 7,
   "id": "aa18257b-2a88-4cf1-97b2-3db20ecc12e4",
   "metadata": {},
   "outputs": [],
   "source": [
    "# Task 3 - Targeted search\n",
    "# Which and how many professors have a paper with the word \"deep learning\" in it? What about \"bayesian\"? What about \"causal\"?"
   ]
  },
  {
   "cell_type": "code",
   "execution_count": 152,
   "id": "b7bda0ce-45d3-4028-b5d2-908a13ac256c",
   "metadata": {},
   "outputs": [],
   "source": [
    "# don't forget the capital/lower difference!!!\n",
    "authors = []\n",
    "for i in range(au_paper.shape[0]):\n",
    "    if 'deep learning' in str(au_paper.iloc[i]['paper_title']).lower():\n",
    "        if au_paper.iloc[i]['middle_name'] == True:\n",
    "            name = au_paper.iloc[i]['given_name'] + au_paper.iloc[i]['middle_name'] + au_paper.iloc[i]['family_name']\n",
    "            authors.append(name)\n",
    "        else:\n",
    "            name = au_paper.iloc[i]['given_name'] + au_paper.iloc[i]['family_name']\n",
    "            authors.append(name)\n",
    "authors_u = set(str(author) for author in authors)"
   ]
  },
  {
   "cell_type": "code",
   "execution_count": 153,
   "id": "418e50fd-23ee-4e48-80ab-e00d31987980",
   "metadata": {},
   "outputs": [
    {
     "data": {
      "text/plain": [
       "76"
      ]
     },
     "execution_count": 153,
     "metadata": {},
     "output_type": "execute_result"
    }
   ],
   "source": [
    "len(authors_u)"
   ]
  },
  {
   "cell_type": "code",
   "execution_count": 154,
   "id": "893e05d2-b5e5-43a8-ae88-ddfa5cc55e41",
   "metadata": {},
   "outputs": [
    {
     "data": {
      "text/plain": [
       "84"
      ]
     },
     "execution_count": 154,
     "metadata": {},
     "output_type": "execute_result"
    }
   ],
   "source": [
    "len(authors)"
   ]
  },
  {
   "cell_type": "code",
   "execution_count": 158,
   "id": "fbcec2c6-a432-45f6-8f23-74f9b1f49197",
   "metadata": {},
   "outputs": [
    {
     "data": {
      "text/plain": [
       "-1"
      ]
     },
     "execution_count": 158,
     "metadata": {},
     "output_type": "execute_result"
    }
   ],
   "source": [
    "# we can also use function to solve this problem, since the content we want to search is different time to time, so the function\n",
    "# can be the better choice.\n",
    "# when we deal with strings, we want to find some particular section in the string, we can use the find() function.\n",
    "# when the string has the section, the result of find() is 0. otherwise, the result is -1.\n",
    "string = 'shaflasdfjlkasdnljkfnasdjkvn'\n",
    "string.find('s')\n",
    "string.find('1')"
   ]
  },
  {
   "cell_type": "code",
   "execution_count": 161,
   "id": "faa8fd83-af65-45db-953f-170876213df6",
   "metadata": {},
   "outputs": [],
   "source": [
    "def get_profs(keywords, au_paper):\n",
    "    has_keywords = au_paper.paper_title.apply(lambda x: str(x).find(keywords) != -1)\n",
    "    return au_paper.loc[has_keywords, ['given_name', 'family_name']]"
   ]
  },
  {
   "cell_type": "code",
   "execution_count": 163,
   "id": "08715ac5-2039-47c3-b76c-fe3a6e359dbf",
   "metadata": {},
   "outputs": [
    {
     "data": {
      "text/plain": [
       "(53, 2)"
      ]
     },
     "execution_count": 163,
     "metadata": {},
     "output_type": "execute_result"
    }
   ],
   "source": [
    "get_profs('deep learning', au_paper).shape"
   ]
  },
  {
   "cell_type": "code",
   "execution_count": null,
   "id": "757b50b5-da7c-4e26-adc0-48d1fe00e2b0",
   "metadata": {},
   "outputs": [],
   "source": []
  },
  {
   "cell_type": "code",
   "execution_count": 8,
   "id": "19fd7026-c6de-4faf-96bb-7e67363d5169",
   "metadata": {},
   "outputs": [],
   "source": [
    "# Task 4 - Joining the datasets\n",
    "# If a paper has more authors, does it likely have more references? How are you testing this out?\n",
    "# Do the same professors reference the same papers over multiple publications?"
   ]
  },
  {
   "cell_type": "code",
   "execution_count": 164,
   "id": "f782ce34-25b8-42a6-a139-bcd7ca4b1b4a",
   "metadata": {},
   "outputs": [],
   "source": [
    "author_count2 = au_paper.loc[:, ['author_id', 'paper_id']].drop_duplicates().groupby('paper_id').count()  "
   ]
  },
  {
   "cell_type": "code",
   "execution_count": 165,
   "id": "7f34f78c-9168-4dcf-a573-e790b9659e65",
   "metadata": {},
   "outputs": [
    {
     "data": {
      "text/html": [
       "<div>\n",
       "<style scoped>\n",
       "    .dataframe tbody tr th:only-of-type {\n",
       "        vertical-align: middle;\n",
       "    }\n",
       "\n",
       "    .dataframe tbody tr th {\n",
       "        vertical-align: top;\n",
       "    }\n",
       "\n",
       "    .dataframe thead th {\n",
       "        text-align: right;\n",
       "    }\n",
       "</style>\n",
       "<table border=\"1\" class=\"dataframe\">\n",
       "  <thead>\n",
       "    <tr style=\"text-align: right;\">\n",
       "      <th></th>\n",
       "      <th>author_id</th>\n",
       "    </tr>\n",
       "    <tr>\n",
       "      <th>paper_id</th>\n",
       "      <th></th>\n",
       "    </tr>\n",
       "  </thead>\n",
       "  <tbody>\n",
       "    <tr>\n",
       "      <th>4</th>\n",
       "      <td>2</td>\n",
       "    </tr>\n",
       "    <tr>\n",
       "      <th>15</th>\n",
       "      <td>5</td>\n",
       "    </tr>\n",
       "    <tr>\n",
       "      <th>20</th>\n",
       "      <td>6</td>\n",
       "    </tr>\n",
       "  </tbody>\n",
       "</table>\n",
       "</div>"
      ],
      "text/plain": [
       "          author_id\n",
       "paper_id           \n",
       "4                 2\n",
       "15                5\n",
       "20                6"
      ]
     },
     "execution_count": 165,
     "metadata": {},
     "output_type": "execute_result"
    }
   ],
   "source": [
    "author_count2.head(3)"
   ]
  },
  {
   "cell_type": "code",
   "execution_count": 166,
   "id": "19f870f2-87d8-4735-8106-1d1f7785f315",
   "metadata": {},
   "outputs": [],
   "source": [
    "ref_count = pa_refer.loc[:, ['auth_id', 'ref_id']].drop_duplicates().groupby('auth_id').count()"
   ]
  },
  {
   "cell_type": "code",
   "execution_count": 167,
   "id": "37daaebc-9d09-4059-8fbe-34041c36ff45",
   "metadata": {},
   "outputs": [
    {
     "data": {
      "text/html": [
       "<div>\n",
       "<style scoped>\n",
       "    .dataframe tbody tr th:only-of-type {\n",
       "        vertical-align: middle;\n",
       "    }\n",
       "\n",
       "    .dataframe tbody tr th {\n",
       "        vertical-align: top;\n",
       "    }\n",
       "\n",
       "    .dataframe thead th {\n",
       "        text-align: right;\n",
       "    }\n",
       "</style>\n",
       "<table border=\"1\" class=\"dataframe\">\n",
       "  <thead>\n",
       "    <tr style=\"text-align: right;\">\n",
       "      <th></th>\n",
       "      <th>ref_id</th>\n",
       "    </tr>\n",
       "    <tr>\n",
       "      <th>auth_id</th>\n",
       "      <th></th>\n",
       "    </tr>\n",
       "  </thead>\n",
       "  <tbody>\n",
       "    <tr>\n",
       "      <th>20</th>\n",
       "      <td>40</td>\n",
       "    </tr>\n",
       "    <tr>\n",
       "      <th>48</th>\n",
       "      <td>78</td>\n",
       "    </tr>\n",
       "    <tr>\n",
       "      <th>74</th>\n",
       "      <td>45</td>\n",
       "    </tr>\n",
       "  </tbody>\n",
       "</table>\n",
       "</div>"
      ],
      "text/plain": [
       "         ref_id\n",
       "auth_id        \n",
       "20           40\n",
       "48           78\n",
       "74           45"
      ]
     },
     "execution_count": 167,
     "metadata": {},
     "output_type": "execute_result"
    }
   ],
   "source": [
    "ref_count.head(3)"
   ]
  },
  {
   "cell_type": "code",
   "execution_count": 168,
   "id": "becabdf1-e7fa-4ab6-8d0f-99e696048020",
   "metadata": {},
   "outputs": [],
   "source": [
    "# when we need to join two data frames, we can use the merge() method to do it."
   ]
  },
  {
   "cell_type": "code",
   "execution_count": 170,
   "id": "683c44d7-8a8f-48fb-a916-b77021fadde7",
   "metadata": {},
   "outputs": [],
   "source": [
    "jdf = pd.merge(author_count2, ref_count, left_on = 'paper_id', right_on = 'auth_id')"
   ]
  },
  {
   "cell_type": "code",
   "execution_count": 171,
   "id": "79e1065a-9196-4ce3-bbcc-b023acaaeeee",
   "metadata": {},
   "outputs": [
    {
     "data": {
      "text/html": [
       "<div>\n",
       "<style scoped>\n",
       "    .dataframe tbody tr th:only-of-type {\n",
       "        vertical-align: middle;\n",
       "    }\n",
       "\n",
       "    .dataframe tbody tr th {\n",
       "        vertical-align: top;\n",
       "    }\n",
       "\n",
       "    .dataframe thead th {\n",
       "        text-align: right;\n",
       "    }\n",
       "</style>\n",
       "<table border=\"1\" class=\"dataframe\">\n",
       "  <thead>\n",
       "    <tr style=\"text-align: right;\">\n",
       "      <th></th>\n",
       "      <th>author_id</th>\n",
       "      <th>ref_id</th>\n",
       "    </tr>\n",
       "  </thead>\n",
       "  <tbody>\n",
       "    <tr>\n",
       "      <th>0</th>\n",
       "      <td>6</td>\n",
       "      <td>40</td>\n",
       "    </tr>\n",
       "    <tr>\n",
       "      <th>1</th>\n",
       "      <td>7</td>\n",
       "      <td>78</td>\n",
       "    </tr>\n",
       "    <tr>\n",
       "      <th>2</th>\n",
       "      <td>12</td>\n",
       "      <td>45</td>\n",
       "    </tr>\n",
       "  </tbody>\n",
       "</table>\n",
       "</div>"
      ],
      "text/plain": [
       "   author_id  ref_id\n",
       "0          6      40\n",
       "1          7      78\n",
       "2         12      45"
      ]
     },
     "execution_count": 171,
     "metadata": {},
     "output_type": "execute_result"
    }
   ],
   "source": [
    "jdf.head(3)"
   ]
  },
  {
   "cell_type": "code",
   "execution_count": 175,
   "id": "4073c929-ce75-4e71-816f-da8ef3c97612",
   "metadata": {},
   "outputs": [
    {
     "data": {
      "text/plain": [
       "<Axes: xlabel='author_id', ylabel='ref_id'>"
      ]
     },
     "execution_count": 175,
     "metadata": {},
     "output_type": "execute_result"
    },
    {
     "data": {
      "image/png": "[encoded data removed]",
      "text/plain": [
       "<Figure size 640x480 with 1 Axes>"
      ]
     },
     "metadata": {},
     "output_type": "display_data"
    }
   ],
   "source": [
    "import seaborn as sns\n",
    "\n",
    "sns.scatterplot(x = jdf.author_id, y = jdf.ref_id)"
   ]
  },
  {
   "cell_type": "code",
   "execution_count": null,
   "id": "db88da02-44e7-4582-ac1d-37612262ce66",
   "metadata": {},
   "outputs": [],
   "source": []
  },
  {
   "cell_type": "code",
   "execution_count": null,
   "id": "a1db4e30-a209-49e6-a2f4-a259f25a5689",
   "metadata": {},
   "outputs": [],
   "source": []
  }
 ],
 "metadata": {
  "kernelspec": {
   "display_name": "Python 3 (ipykernel)",
   "language": "python",
   "name": "python3"
  },
  "language_info": {
   "codemirror_mode": {
    "name": "ipython",
    "version": 3
   },
   "file_extension": ".py",
   "mimetype": "text/x-python",
   "name": "python",
   "nbconvert_exporter": "python",
   "pygments_lexer": "ipython3",
   "version": "3.11.1"
  }
 },
 "nbformat": 4,
 "nbformat_minor": 5
}
