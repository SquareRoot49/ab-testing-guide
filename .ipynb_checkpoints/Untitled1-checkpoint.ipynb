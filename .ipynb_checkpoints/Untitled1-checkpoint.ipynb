{
 "cells": [
  {
   "cell_type": "code",
   "execution_count": 1,
   "id": "a745c79c-9fc4-4ce5-a7fe-bb68250ca421",
   "metadata": {},
   "outputs": [],
   "source": [
    "import numpy as np"
   ]
  },
  {
   "cell_type": "code",
   "execution_count": 2,
   "id": "8164f878-51a6-400f-a5b3-0b1830f8cd6b",
   "metadata": {},
   "outputs": [],
   "source": [
    "#python基础--numpy"
   ]
  },
  {
   "cell_type": "code",
   "execution_count": 4,
   "id": "c85cd351-4d04-47e7-a44b-c353809d7b68",
   "metadata": {},
   "outputs": [],
   "source": [
    "demo = np.array([[1, 2, 3],\n",
    "                   [4, 5, 6]])"
   ]
  },
  {
   "cell_type": "code",
   "execution_count": 5,
   "id": "0b938add-4ce2-4466-a18e-a23e1413f905",
   "metadata": {},
   "outputs": [
    {
     "data": {
      "text/plain": [
       "array([[1, 2, 3],\n",
       "       [4, 5, 6]])"
      ]
     },
     "execution_count": 5,
     "metadata": {},
     "output_type": "execute_result"
    }
   ],
   "source": [
    "demo"
   ]
  },
  {
   "cell_type": "code",
   "execution_count": 6,
   "id": "c8160113-d703-427e-933f-daf37cd5044d",
   "metadata": {},
   "outputs": [
    {
     "data": {
      "text/plain": [
       "array([[1, 2],\n",
       "       [3, 4],\n",
       "       [5, 6]])"
      ]
     },
     "execution_count": 6,
     "metadata": {},
     "output_type": "execute_result"
    }
   ],
   "source": [
    "#矩阵转秩\n",
    "#在reshape函数中，第一个参数代表行数，第二个参数代表列数。再进行reshape是必须要注意行数✖️列数🟰总元素个数。 第一个参数写列数，代表直接计算所有元素个数。\n",
    "demo.reshape(-1, 2)"
   ]
  },
  {
   "cell_type": "code",
   "execution_count": 8,
   "id": "f597090d-2262-4ba8-9ad3-f045e35128d2",
   "metadata": {},
   "outputs": [
    {
     "data": {
      "text/plain": [
       "array([[1, 2, 3],\n",
       "       [4, 5, 6]])"
      ]
     },
     "execution_count": 8,
     "metadata": {},
     "output_type": "execute_result"
    }
   ],
   "source": [
    "demo.reshape(2, 3)"
   ]
  },
  {
   "cell_type": "code",
   "execution_count": 9,
   "id": "18100fbf-b264-444c-bffb-e331697a26aa",
   "metadata": {},
   "outputs": [
    {
     "data": {
      "text/plain": [
       "array([[1, 2, 3, 4, 5, 6]])"
      ]
     },
     "execution_count": 9,
     "metadata": {},
     "output_type": "execute_result"
    }
   ],
   "source": [
    "demo.reshape(1, 6)"
   ]
  },
  {
   "cell_type": "code",
   "execution_count": 10,
   "id": "0e9504b7-fe29-479c-aecb-b95cc1c2b4cb",
   "metadata": {},
   "outputs": [
    {
     "data": {
      "text/plain": [
       "array([[1],\n",
       "       [2],\n",
       "       [3],\n",
       "       [4],\n",
       "       [5],\n",
       "       [6]])"
      ]
     },
     "execution_count": 10,
     "metadata": {},
     "output_type": "execute_result"
    }
   ],
   "source": [
    "demo.reshape(6, 1)"
   ]
  },
  {
   "cell_type": "code",
   "execution_count": 11,
   "id": "6d3b011a-ce7f-4731-bde4-e3cb2cb8a548",
   "metadata": {},
   "outputs": [],
   "source": [
    "#关于python中的re模块"
   ]
  },
  {
   "cell_type": "code",
   "execution_count": 12,
   "id": "598d2822-58ba-45c1-b292-6fabb76f9623",
   "metadata": {},
   "outputs": [
    {
     "data": {
      "text/plain": [
       "<re.Match object; span=(0, 6), match='Python'>"
      ]
     },
     "execution_count": 12,
     "metadata": {},
     "output_type": "execute_result"
    }
   ],
   "source": [
    "import re #帮助我们为文本添加一般的规则，例如对于专有名词，将专有名词的首字母大写，后面跟多个小写字母。\n",
    "re.compile('[A-Z][a-z]+').search('Python')"
   ]
  },
  {
   "cell_type": "code",
   "execution_count": 13,
   "id": "a3cd3cb5-b840-4e0f-bfc0-ee8a1a4dbb1b",
   "metadata": {},
   "outputs": [],
   "source": [
    "#关于python中的lambda，map以及reduce函数的用法和组合"
   ]
  },
  {
   "cell_type": "code",
   "execution_count": 14,
   "id": "226fa1bd-635c-4d40-ae7a-1fd1e97c7e8e",
   "metadata": {},
   "outputs": [],
   "source": [
    "#lambda是python中的一个隐藏函数，也就是这个函数不需要我们去定义名称，只需要直接写lambda就可以，后买的expression由我们进行定义"
   ]
  },
  {
   "cell_type": "code",
   "execution_count": 21,
   "id": "ba7ae04f-b2cb-4e12-b6e7-23a4b9f408fe",
   "metadata": {},
   "outputs": [],
   "source": [
    "add = lambda x, y: x + y #在此add不再是一个简单的变量，它变成了一个具有加法功能性的函数"
   ]
  },
  {
   "cell_type": "code",
   "execution_count": 22,
   "id": "3b89241e-77e1-4a39-aa51-c42610324a7a",
   "metadata": {},
   "outputs": [
    {
     "data": {
      "text/plain": [
       "12"
      ]
     },
     "execution_count": 22,
     "metadata": {},
     "output_type": "execute_result"
    }
   ],
   "source": [
    "add(5, 7)"
   ]
  },
  {
   "cell_type": "code",
   "execution_count": 23,
   "id": "3bb41e34-6056-4755-82ce-ae8e91c0d1bb",
   "metadata": {},
   "outputs": [],
   "source": [
    "#lambda和 其他函数的组合"
   ]
  },
  {
   "cell_type": "code",
   "execution_count": 24,
   "id": "28dd0675-73b2-442f-958c-ca0d6df689f8",
   "metadata": {},
   "outputs": [],
   "source": [
    "#map() 函数：map函数的功能是，在你已经有一个函数的前提下，可以将一个序列中的每个元素都经过函数映射，并返回最后的结果。"
   ]
  },
  {
   "cell_type": "code",
   "execution_count": 120,
   "id": "e5e7b587-5c89-4263-811e-51932a78b054",
   "metadata": {},
   "outputs": [],
   "source": [
    "def square(x):\n",
    "    x2 = x**2\n",
    "    return x2\n",
    "s = map(square, [1, 2, 3, 4, 5]) #返回的是迭代器"
   ]
  },
  {
   "cell_type": "code",
   "execution_count": 121,
   "id": "21a239e4-50ed-4993-8ca6-aebc09e21e83",
   "metadata": {},
   "outputs": [
    {
     "data": {
      "text/plain": [
       "1"
      ]
     },
     "execution_count": 121,
     "metadata": {},
     "output_type": "execute_result"
    }
   ],
   "source": [
    "next(s)"
   ]
  },
  {
   "cell_type": "code",
   "execution_count": 122,
   "id": "e125a537-0792-4a61-98cd-3182895f3dae",
   "metadata": {},
   "outputs": [
    {
     "data": {
      "text/plain": [
       "4"
      ]
     },
     "execution_count": 122,
     "metadata": {},
     "output_type": "execute_result"
    }
   ],
   "source": [
    "next(s)"
   ]
  },
  {
   "cell_type": "code",
   "execution_count": 123,
   "id": "7542db72-262f-4205-b093-dfe79ae01fcd",
   "metadata": {},
   "outputs": [
    {
     "name": "stdout",
     "output_type": "stream",
     "text": [
      "9\n",
      "16\n",
      "25\n"
     ]
    }
   ],
   "source": [
    "for i in s:\n",
    "    print(i)"
   ]
  },
  {
   "cell_type": "code",
   "execution_count": 32,
   "id": "02482f02-3d1c-469e-849e-b16860dd4d23",
   "metadata": {},
   "outputs": [],
   "source": [
    "# __inti__ 构造方法：在类的方法中，谁调用就表示谁"
   ]
  },
  {
   "cell_type": "code",
   "execution_count": 44,
   "id": "d2e81c6b-2253-489c-9cc6-50da71d3e6b5",
   "metadata": {},
   "outputs": [],
   "source": [
    "class Person:\n",
    "    def __init__(self, name, age):\n",
    "        self.name = name\n",
    "        self.age = age\n",
    "    #self.name中的name代表类的属性，而等号后面的name是具体的数字，是输入的值。\n",
    "    def test(self): #谁调用就表示谁，这个test方法调用了init中的name和age，那么name和age就可以表示为test方法。\n",
    "        print(self.name, self.age)"
   ]
  },
  {
   "cell_type": "code",
   "execution_count": 45,
   "id": "e102e34f-dca7-49ec-a265-8ae083460f14",
   "metadata": {},
   "outputs": [],
   "source": [
    "person_1 = Person('liming', 25) #这里在为一个在person类中的对象添加属性"
   ]
  },
  {
   "cell_type": "code",
   "execution_count": 46,
   "id": "5aa15590-d512-40bf-a988-38d88e310bc4",
   "metadata": {},
   "outputs": [
    {
     "name": "stdout",
     "output_type": "stream",
     "text": [
      "liming 25\n"
     ]
    }
   ],
   "source": [
    "person_1.test() #类中定义的方法这样使用"
   ]
  },
  {
   "cell_type": "code",
   "execution_count": 55,
   "id": "adc95a04-3c6c-4dcb-88f0-ee33d8d65c2a",
   "metadata": {},
   "outputs": [
    {
     "name": "stdout",
     "output_type": "stream",
     "text": [
      "The 1 member in my family is my mom, her name is 芦丽红, 50 years old this year.\n",
      "The 2 member in my family is my bather, his name is 刘旺泽, 52 years old this year.\n"
     ]
    }
   ],
   "source": [
    "#用类+__inti__可以化简一些代码：\n",
    "class Family :\n",
    "    def __init__(self, num, name, age, icon, gender):\n",
    "        self.name = name\n",
    "        self.age = age\n",
    "        self.num = num\n",
    "        self.icon = icon\n",
    "        self.gender = gender\n",
    "    def Myfamily(self):\n",
    "        print('The '+ str(self.num) + ' member in my family is my ' + self.icon + ', ' + self.gender + ' name is ' + self.name + ', ' + str(self.age) + ' years old this year.')\n",
    "my_mom = Family(1, '芦丽红', 50, 'mom', 'her')\n",
    "my_father = Family(2, '刘旺泽', 52, 'bather', 'his')\n",
    "my_mom.Myfamily()\n",
    "my_father.Myfamily()\n",
    "        "
   ]
  },
  {
   "cell_type": "code",
   "execution_count": 56,
   "id": "a3ae8d5b-6a6f-46e1-b0b9-763c04698c38",
   "metadata": {},
   "outputs": [],
   "source": [
    "#迭代器iterator对象表示一个数据流，iterator对象可以被next()函数不断调用并不断返回下一个值，知直到没有数据得到StopIteration错误"
   ]
  },
  {
   "cell_type": "code",
   "execution_count": 57,
   "id": "3d55cb56-635f-41b4-8ef8-5852c688c6ae",
   "metadata": {},
   "outputs": [
    {
     "name": "stdout",
     "output_type": "stream",
     "text": [
      "9\n",
      "16\n",
      "25\n"
     ]
    },
    {
     "ename": "StopIteration",
     "evalue": "",
     "output_type": "error",
     "traceback": [
      "\u001b[0;31m---------------------------------------------------------------------------\u001b[0m",
      "\u001b[0;31mStopIteration\u001b[0m                             Traceback (most recent call last)",
      "Cell \u001b[0;32mIn[57], line 2\u001b[0m\n\u001b[1;32m      1\u001b[0m \u001b[38;5;28;01mfor\u001b[39;00m i \u001b[38;5;129;01min\u001b[39;00m \u001b[38;5;28mrange\u001b[39m(\u001b[38;5;241m100\u001b[39m):\n\u001b[0;32m----> 2\u001b[0m     \u001b[38;5;28mprint\u001b[39m(\u001b[38;5;28;43mnext\u001b[39;49m\u001b[43m(\u001b[49m\u001b[43ms\u001b[49m\u001b[43m)\u001b[49m)\n\u001b[1;32m      3\u001b[0m \u001b[38;5;28;01melse\u001b[39;00m:\n\u001b[1;32m      4\u001b[0m     \u001b[38;5;28;01mraise\u001b[39;00m \u001b[38;5;167;01mStopIteration\u001b[39;00m\n",
      "\u001b[0;31mStopIteration\u001b[0m: "
     ]
    }
   ],
   "source": [
    "for i in range(100):\n",
    "    print(next(s))\n",
    "else:\n",
    "    raise StopIteration"
   ]
  },
  {
   "cell_type": "code",
   "execution_count": 58,
   "id": "5c0c9726-b4b8-41e6-a4f5-31c26bf590c2",
   "metadata": {},
   "outputs": [
    {
     "ename": "StopIteration",
     "evalue": "",
     "output_type": "error",
     "traceback": [
      "\u001b[0;31m---------------------------------------------------------------------------\u001b[0m",
      "\u001b[0;31mStopIteration\u001b[0m                             Traceback (most recent call last)",
      "Cell \u001b[0;32mIn[58], line 2\u001b[0m\n\u001b[1;32m      1\u001b[0m \u001b[38;5;28;01mfor\u001b[39;00m i \u001b[38;5;129;01min\u001b[39;00m \u001b[38;5;28mrange\u001b[39m(\u001b[38;5;241m100\u001b[39m):\n\u001b[0;32m----> 2\u001b[0m     \u001b[38;5;28mprint\u001b[39m(\u001b[38;5;28;43mnext\u001b[39;49m\u001b[43m(\u001b[49m\u001b[43ms\u001b[49m\u001b[43m)\u001b[49m)\n\u001b[1;32m      3\u001b[0m \u001b[38;5;28;01melse\u001b[39;00m:\n\u001b[1;32m      4\u001b[0m     \u001b[38;5;28;01mraise\u001b[39;00m \u001b[38;5;167;01mStopIteration\u001b[39;00m\n",
      "\u001b[0;31mStopIteration\u001b[0m: "
     ]
    }
   ],
   "source": [
    "for i in range(100):\n",
    "    print(next(s))\n",
    "else:\n",
    "    raise StopIteration\n",
    "#迭代只能进行一次，不能过重复进行"
   ]
  },
  {
   "cell_type": "code",
   "execution_count": 59,
   "id": "f912a683-5435-4f79-b079-00dfaaf39774",
   "metadata": {},
   "outputs": [],
   "source": [
    "demo_map = {'a': 1, 'b': [1, 2, 3]}"
   ]
  },
  {
   "cell_type": "code",
   "execution_count": 60,
   "id": "d60285ff-97b8-4c38-bbd1-d6d7e9f8c9c4",
   "metadata": {},
   "outputs": [
    {
     "data": {
      "text/plain": [
       "{'a': 1, 'b': [1, 2, 3]}"
      ]
     },
     "execution_count": 60,
     "metadata": {},
     "output_type": "execute_result"
    }
   ],
   "source": [
    "demo_map"
   ]
  },
  {
   "cell_type": "code",
   "execution_count": 62,
   "id": "b67fe6f2-9686-4b05-9b20-8f05352a906e",
   "metadata": {},
   "outputs": [
    {
     "name": "stdout",
     "output_type": "stream",
     "text": [
      "a\n",
      "b\n"
     ]
    }
   ],
   "source": [
    "for i in demo_map:\n",
    "    print(i)\n"
   ]
  },
  {
   "cell_type": "code",
   "execution_count": 68,
   "id": "044567ed-1396-46b8-8798-feffc30651b5",
   "metadata": {},
   "outputs": [
    {
     "name": "stdout",
     "output_type": "stream",
     "text": [
      "1\n",
      "[1, 2, 3]\n"
     ]
    }
   ],
   "source": [
    "for i in demo_map:\n",
    "    print(demo_map[i])"
   ]
  },
  {
   "cell_type": "code",
   "execution_count": 69,
   "id": "57aba012-c30a-4d19-900c-4baece986f5d",
   "metadata": {},
   "outputs": [],
   "source": [
    "demo_s = 'hello'"
   ]
  },
  {
   "cell_type": "code",
   "execution_count": 70,
   "id": "16db88fc-050d-4bcd-b9da-14df23bb38f7",
   "metadata": {},
   "outputs": [
    {
     "name": "stdout",
     "output_type": "stream",
     "text": [
      "h\n",
      "e\n",
      "l\n",
      "l\n",
      "o\n"
     ]
    }
   ],
   "source": [
    "for i in demo_s:\n",
    "    print(i)"
   ]
  },
  {
   "cell_type": "code",
   "execution_count": 71,
   "id": "25494259-5277-4dbc-8e57-319027b74a0a",
   "metadata": {},
   "outputs": [],
   "source": [
    "#定义iterator，采用迭代器方法"
   ]
  },
  {
   "cell_type": "code",
   "execution_count": 74,
   "id": "5445df82-615c-4f2f-98ab-03dbc48ff07a",
   "metadata": {},
   "outputs": [],
   "source": [
    "it = demo_s.__iter__()  #将demo_s这个字符串转换为迭代对象"
   ]
  },
  {
   "cell_type": "code",
   "execution_count": 75,
   "id": "38a0ec84-8e22-4fe9-a10a-440cb844fe40",
   "metadata": {},
   "outputs": [
    {
     "data": {
      "text/plain": [
       "<str_ascii_iterator at 0x1062e92a0>"
      ]
     },
     "execution_count": 75,
     "metadata": {},
     "output_type": "execute_result"
    }
   ],
   "source": [
    "it"
   ]
  },
  {
   "cell_type": "code",
   "execution_count": 76,
   "id": "7d12dc07-f07c-4566-92e3-55b1193c653d",
   "metadata": {},
   "outputs": [
    {
     "name": "stdout",
     "output_type": "stream",
     "text": [
      "h\n",
      "e\n",
      "l\n",
      "l\n",
      "o\n"
     ]
    }
   ],
   "source": [
    "for i in it:\n",
    "    print(i)"
   ]
  },
  {
   "cell_type": "code",
   "execution_count": 98,
   "id": "f4efa8b8-9c51-4af3-a5b6-6b8b3a1804ae",
   "metadata": {},
   "outputs": [],
   "source": [
    "for i in it:\n",
    "    print(i)\n",
    "#迭代对象在迭代一次之后就不能再迭代了，是一次性的消耗品"
   ]
  },
  {
   "cell_type": "code",
   "execution_count": 99,
   "id": "3edcee24-0f69-49be-97e5-5474aacd32f2",
   "metadata": {},
   "outputs": [],
   "source": [
    "#用迭代器编译斐波那契数列："
   ]
  },
  {
   "cell_type": "code",
   "execution_count": 124,
   "id": "5a8723cd-a7ef-4c56-bbb5-c80c7f4d57d4",
   "metadata": {},
   "outputs": [],
   "source": [
    "class FeiBo(object):\n",
    "    def __init__(self, m):\n",
    "        self.a = 0\n",
    "        self.b = 1\n",
    "        self.n = 0\n",
    "        self.m = m\n",
    "    def __next__(self):\n",
    "        if self.n < self.m:\n",
    "            final = self.a\n",
    "            self.a, self.b = self.b, self.a + self.b\n",
    "            self.n += 1\n",
    "            return final\n",
    "        else:\n",
    "            raise StopIteration\n",
    "    def __iter__(self):\n",
    "        return(self)\n",
    "fb = FeiBo(30)\n"
   ]
  },
  {
   "cell_type": "code",
   "execution_count": 125,
   "id": "7d8a436b-94f8-4659-965a-b5845f344059",
   "metadata": {},
   "outputs": [
    {
     "name": "stdout",
     "output_type": "stream",
     "text": [
      "0\n",
      "1\n",
      "1\n",
      "2\n",
      "3\n",
      "5\n",
      "8\n",
      "13\n",
      "21\n",
      "34\n",
      "55\n",
      "89\n",
      "144\n",
      "233\n",
      "377\n",
      "610\n",
      "987\n",
      "1597\n",
      "2584\n",
      "4181\n",
      "6765\n",
      "10946\n",
      "17711\n",
      "28657\n",
      "46368\n",
      "75025\n",
      "121393\n",
      "196418\n",
      "317811\n",
      "514229\n"
     ]
    }
   ],
   "source": [
    "for s in fb:\n",
    "    print(s)"
   ]
  },
  {
   "cell_type": "code",
   "execution_count": 126,
   "id": "3bae25ff-7a5b-4afc-a71b-91126bbef9fb",
   "metadata": {},
   "outputs": [],
   "source": [
    "for s in fb:\n",
    "    print(s)"
   ]
  },
  {
   "cell_type": "code",
   "execution_count": 103,
   "id": "c6a99628-ef43-4ba0-84ac-947e218546d5",
   "metadata": {},
   "outputs": [],
   "source": [
    "#再回到最开始讨论的lambda函数"
   ]
  },
  {
   "cell_type": "code",
   "execution_count": 108,
   "id": "355a89dc-c40d-48e4-ab4a-e252f721413e",
   "metadata": {},
   "outputs": [
    {
     "data": {
      "text/plain": [
       "<map at 0x1063c11e0>"
      ]
     },
     "execution_count": 108,
     "metadata": {},
     "output_type": "execute_result"
    }
   ],
   "source": [
    "#一般写法：计算平方数\n",
    "#map函数中：第一个参数代表需要用到的函数，第二个参数代表施加函数的对象\n",
    "def square(x):\n",
    "    return x**2\n",
    "x = [1, 2, 3, 4, 5]\n",
    "map(square, x)\n",
    "#得到的结果是一个迭代器"
   ]
  },
  {
   "cell_type": "code",
   "execution_count": 109,
   "id": "75e6a74e-e66b-43c2-b71c-8400125a2fc4",
   "metadata": {},
   "outputs": [
    {
     "name": "stdout",
     "output_type": "stream",
     "text": [
      "1\n",
      "4\n",
      "9\n",
      "16\n",
      "25\n"
     ]
    }
   ],
   "source": [
    "for i in map(square,x):\n",
    "    print(i)"
   ]
  },
  {
   "cell_type": "code",
   "execution_count": 110,
   "id": "8b88e76a-f7a6-4885-8858-30e48466e1ca",
   "metadata": {},
   "outputs": [
    {
     "name": "stdout",
     "output_type": "stream",
     "text": [
      "1\n",
      "4\n",
      "9\n",
      "16\n",
      "25\n"
     ]
    }
   ],
   "source": [
    "for i in map(square,x):\n",
    "    print(i)"
   ]
  },
  {
   "cell_type": "code",
   "execution_count": 113,
   "id": "1d75e03f-24c2-4331-bd78-a39af700142d",
   "metadata": {},
   "outputs": [
    {
     "data": {
      "text/plain": [
       "<map at 0x1063c18a0>"
      ]
     },
     "execution_count": 113,
     "metadata": {},
     "output_type": "execute_result"
    }
   ],
   "source": [
    "#lambda函数写法：\n",
    "map(lambda x: x**2, x)"
   ]
  },
  {
   "cell_type": "code",
   "execution_count": 114,
   "id": "c87808cf-13ec-42ce-80ee-19ee491ebe63",
   "metadata": {},
   "outputs": [
    {
     "name": "stdout",
     "output_type": "stream",
     "text": [
      "1\n",
      "4\n",
      "9\n",
      "16\n",
      "25\n"
     ]
    }
   ],
   "source": [
    "for i in map(lambda x: x**2, x):\n",
    "    print(i)"
   ]
  },
  {
   "cell_type": "code",
   "execution_count": 115,
   "id": "4822a73f-21a2-47fb-a458-90c5bd66ae55",
   "metadata": {},
   "outputs": [
    {
     "name": "stdout",
     "output_type": "stream",
     "text": [
      "1\n",
      "4\n",
      "9\n",
      "16\n",
      "25\n"
     ]
    }
   ],
   "source": [
    "for i in map(lambda x: x**2, x):\n",
    "    print(i)"
   ]
  },
  {
   "cell_type": "code",
   "execution_count": 127,
   "id": "26f2dec8-1a63-43cc-8dea-59751ebf5b6c",
   "metadata": {},
   "outputs": [],
   "source": [
    "#lambda函数与reduce()函数的组合："
   ]
  },
  {
   "cell_type": "code",
   "execution_count": 128,
   "id": "ca25536c-8fd3-4475-9d84-2a89c450beb4",
   "metadata": {},
   "outputs": [],
   "source": [
    "#reduce()函数中的第一个参数同map()函数一样也是为一个一直都函数，第二个参数为实施函数的对象。reduce()函数的功能是对参数序列中的元素进行累积"
   ]
  },
  {
   "cell_type": "code",
   "execution_count": 133,
   "id": "fd431b87-12a0-40d2-b3ae-63ee89db1682",
   "metadata": {},
   "outputs": [
    {
     "data": {
      "text/plain": [
       "15"
      ]
     },
     "execution_count": 133,
     "metadata": {},
     "output_type": "execute_result"
    }
   ],
   "source": [
    "#一般用法：\n",
    "from functools import reduce\n",
    "def add(x, y):\n",
    "    return x + y\n",
    "reduce(add, x) #add不用添加参数，就可以直接求出列表的累积和"
   ]
  },
  {
   "cell_type": "code",
   "execution_count": 134,
   "id": "841638fc-e8a7-4f34-b82f-64b9e1f75c4d",
   "metadata": {},
   "outputs": [
    {
     "data": {
      "text/plain": [
       "15"
      ]
     },
     "execution_count": 134,
     "metadata": {},
     "output_type": "execute_result"
    }
   ],
   "source": [
    "#lambda函数写法\n",
    "reduce(lambda x, y: x + y, x)\n",
    "#lambda函数的方便在于，不需要另外再单独定义一个函数去用，可以直接在lambda中定义即可"
   ]
  },
  {
   "cell_type": "code",
   "execution_count": 137,
   "id": "342cec83-d674-4987-bb69-fab373e44c91",
   "metadata": {},
   "outputs": [
    {
     "name": "stdout",
     "output_type": "stream",
     "text": [
      "[9, 4, 6, 47, 45, 1, 7]\n",
      "[1, 4, 6, 7, 9, 45, 47]\n"
     ]
    }
   ],
   "source": [
    "#sorted()函数，对对象序列的所有数值进行大小排序，并且不改变原数据\n",
    "x = [9, 4, 6, 47, 45, 1, 7]\n",
    "b = sorted(x)\n",
    "print(x)\n",
    "print(b)"
   ]
  },
  {
   "cell_type": "code",
   "execution_count": 138,
   "id": "c2641e9e-e672-48f5-a182-62e8d5821c70",
   "metadata": {},
   "outputs": [],
   "source": [
    "#但是我们会遇到一些数据，这些数据它其中不仅仅只包含了数字，还有一些字符等没办法排序，比如说以元组为元素的列表('a', 3)，\n",
    "#就不能够直接排序，这时候lambda就可以通过只对元组中的数字部分排序从而带动整个元组的顺序。"
   ]
  },
  {
   "cell_type": "code",
   "execution_count": 139,
   "id": "3f9413b8-845f-4761-b37d-9fd1e8edd135",
   "metadata": {},
   "outputs": [
    {
     "data": {
      "text/plain": [
       "[('a', 7), ('b', -1), ('c', -10), ('h', 2), ('k', 1)]"
      ]
     },
     "execution_count": 139,
     "metadata": {},
     "output_type": "execute_result"
    }
   ],
   "source": [
    "L = [('a', 7), ('k', 1), ('h', 2), ('b', -1), ('c', -10)]\n",
    "sorted(L)#函数默认是对第一个元素排序"
   ]
  },
  {
   "cell_type": "code",
   "execution_count": 143,
   "id": "2366f5ed-046b-4030-8681-7de271631711",
   "metadata": {},
   "outputs": [
    {
     "data": {
      "text/plain": [
       "[('c', -10), ('b', -1), ('k', 1), ('h', 2), ('a', 7)]"
      ]
     },
     "execution_count": 143,
     "metadata": {},
     "output_type": "execute_result"
    }
   ],
   "source": [
    "sorted(L, key = lambda x: x[1])\n",
    "#利用sorted中的参数key进行排序"
   ]
  },
  {
   "cell_type": "code",
   "execution_count": 167,
   "id": "229dbb2c-387e-4093-b947-fff8df499b81",
   "metadata": {},
   "outputs": [],
   "source": [
    "#在用sorted对数据进行排序时，要想获得数据的降序，只需要令reverse = True"
   ]
  },
  {
   "cell_type": "code",
   "execution_count": 168,
   "id": "d512dfc2-c464-4e1f-9365-9839b9eb49a4",
   "metadata": {},
   "outputs": [],
   "source": [
    "#filter函数，filter函数的含义是对对象进行过滤，过滤掉不符合条件的元素，保留符合条件的元素"
   ]
  },
  {
   "cell_type": "code",
   "execution_count": 169,
   "id": "848b43af-e58e-422a-ac4d-c5a886f996d7",
   "metadata": {},
   "outputs": [
    {
     "name": "stdout",
     "output_type": "stream",
     "text": [
      "<filter object at 0x10715a260>\n"
     ]
    }
   ],
   "source": [
    "#一般写法：\n",
    "def is_odd(x):\n",
    "    return x % 2 == 1\n",
    "list = filter(is_odd, [1, 2, 3, 4, 5, 6, 7, 8, 9, 10])\n",
    "print(list)"
   ]
  },
  {
   "cell_type": "code",
   "execution_count": 170,
   "id": "bb409260-837d-46b7-bcfa-f3ea4559ec7b",
   "metadata": {},
   "outputs": [],
   "source": [
    "#lambda函数写法："
   ]
  },
  {
   "cell_type": "code",
   "execution_count": 173,
   "id": "cbac7e62-7fa6-4820-a18b-73b2af4b9fd5",
   "metadata": {},
   "outputs": [],
   "source": [
    "newlist = filter(lambda x: x % 2 == 1, [1, 2, 3, 4, 5, 6, 7, 8, 9, 10])"
   ]
  },
  {
   "cell_type": "code",
   "execution_count": 174,
   "id": "8b377586-ba5a-425a-a87c-0945504eb146",
   "metadata": {},
   "outputs": [
    {
     "ename": "TypeError",
     "evalue": "'filter' object is not callable",
     "output_type": "error",
     "traceback": [
      "\u001b[0;31m---------------------------------------------------------------------------\u001b[0m",
      "\u001b[0;31mTypeError\u001b[0m                                 Traceback (most recent call last)",
      "Cell \u001b[0;32mIn[174], line 1\u001b[0m\n\u001b[0;32m----> 1\u001b[0m \u001b[38;5;28mprint\u001b[39m(\u001b[38;5;28;43mlist\u001b[39;49m\u001b[43m(\u001b[49m\u001b[43mnewlist\u001b[49m\u001b[43m)\u001b[49m)\n",
      "\u001b[0;31mTypeError\u001b[0m: 'filter' object is not callable"
     ]
    }
   ],
   "source": [
    "print(list(newlist))"
   ]
  },
  {
   "cell_type": "code",
   "execution_count": 175,
   "id": "fd56b66e-2326-4da6-a0ac-71e53777ed67",
   "metadata": {},
   "outputs": [
    {
     "name": "stdout",
     "output_type": "stream",
     "text": [
      "<filter object at 0x107158b80>\n"
     ]
    },
    {
     "ename": "TypeError",
     "evalue": "'filter' object is not callable",
     "output_type": "error",
     "traceback": [
      "\u001b[0;31m---------------------------------------------------------------------------\u001b[0m",
      "\u001b[0;31mTypeError\u001b[0m                                 Traceback (most recent call last)",
      "Cell \u001b[0;32mIn[175], line 7\u001b[0m\n\u001b[1;32m      5\u001b[0m even_numbers \u001b[38;5;241m=\u001b[39m \u001b[38;5;28mfilter\u001b[39m(is_even, numbers)\n\u001b[1;32m      6\u001b[0m \u001b[38;5;28mprint\u001b[39m(even_numbers)  \u001b[38;5;66;03m# 这将输出<filter object at 0x1071595a0>\u001b[39;00m\n\u001b[0;32m----> 7\u001b[0m \u001b[38;5;28mprint\u001b[39m(\u001b[38;5;28;43mlist\u001b[39;49m\u001b[43m(\u001b[49m\u001b[43meven_numbers\u001b[49m\u001b[43m)\u001b[49m)  \u001b[38;5;66;03m# 这将输出[2, 4]\u001b[39;00m\n",
      "\u001b[0;31mTypeError\u001b[0m: 'filter' object is not callable"
     ]
    }
   ],
   "source": [
    "def is_even(x):\n",
    "    return x % 2 == 0\n",
    "\n",
    "numbers = [1, 2, 3, 4, 5]\n",
    "even_numbers = filter(is_even, numbers)\n",
    "print(even_numbers)  # 这将输出<filter object at 0x1071595a0>\n",
    "print(list(even_numbers))  # 这将输出[2, 4]"
   ]
  },
  {
   "cell_type": "code",
   "execution_count": null,
   "id": "1ee6436e-31e6-49f8-be1f-ab81c431b10a",
   "metadata": {},
   "outputs": [],
   "source": []
  },
  {
   "cell_type": "code",
   "execution_count": null,
   "id": "e9433a6e-4020-4e79-9a2d-03b27113df1c",
   "metadata": {},
   "outputs": [],
   "source": []
  },
  {
   "cell_type": "code",
   "execution_count": null,
   "id": "94a0a744-ab91-4c67-9fdf-67600838c620",
   "metadata": {},
   "outputs": [],
   "source": []
  }
 ],
 "metadata": {
  "kernelspec": {
   "display_name": "Python 3 (ipykernel)",
   "language": "python",
   "name": "python3"
  },
  "language_info": {
   "codemirror_mode": {
    "name": "ipython",
    "version": 3
   },
   "file_extension": ".py",
   "mimetype": "text/x-python",
   "name": "python",
   "nbconvert_exporter": "python",
   "pygments_lexer": "ipython3",
   "version": "3.11.1"
  }
 },
 "nbformat": 4,
 "nbformat_minor": 5
}
