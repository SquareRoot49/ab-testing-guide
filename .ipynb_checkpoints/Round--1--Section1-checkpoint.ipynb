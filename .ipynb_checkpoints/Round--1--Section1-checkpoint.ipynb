{
 "cells": [
  {
   "cell_type": "code",
   "execution_count": 1,
   "id": "476f67b5-13da-4f28-bfd2-309c3f87f036",
   "metadata": {},
   "outputs": [],
   "source": [
    "\n",
    "# Always explore your data\n",
    "# We have 3 files that simulated a potential AB test that is measuring clicks and views.\n",
    "\n",
    "# sim_ab_test_assignment.csv\n",
    "# sim_ab_test_clicks.csv\n",
    "# sim_ab_test_views.csv"
   ]
  },
  {
   "cell_type": "code",
   "execution_count": 2,
   "id": "2b9fdb46-ba0f-4383-b720-0a0e894d4936",
   "metadata": {},
   "outputs": [],
   "source": [
    "# Task 1\n",
    "# Load the files into sensible variable names using numpy. Hint: loading strings vs numbers may be different!"
   ]
  },
  {
   "cell_type": "code",
   "execution_count": 119,
   "id": "df374225-3036-4472-ad0f-bb8157549114",
   "metadata": {},
   "outputs": [],
   "source": [
    "import numpy as np\n",
    "assign = np.loadtxt('sim_ab_test_assignment.csv', dtype = str, delimiter = ',')"
   ]
  },
  {
   "cell_type": "code",
   "execution_count": 9,
   "id": "3382bba1-a445-4dea-8f65-f413e5cfe470",
   "metadata": {},
   "outputs": [],
   "source": [
    "clicks = np.loadtxt('sim_ab_test_clicks.csv', delimiter = ',')"
   ]
  },
  {
   "cell_type": "code",
   "execution_count": 10,
   "id": "ca9aa051-e732-4f11-9fff-376e464520a4",
   "metadata": {},
   "outputs": [],
   "source": [
    "views = np.loadtxt('sim_ab_test_views.csv', delimiter = ',')"
   ]
  },
  {
   "cell_type": "code",
   "execution_count": 11,
   "id": "74b9c589-2979-4e8f-8003-b9db85dabc98",
   "metadata": {},
   "outputs": [],
   "source": [
    "# Task 2\n",
    "# Examine the data a bit\n",
    "\n",
    "# What are the dimensions for each of the CSVs?\n",
    "# This should bring up some questions, what are our guesses?\n",
    "# Can we look at some sample values in the data?\n",
    "# Try looking at the first few rows and columns\n",
    "# Try looking at the last few rows and columns"
   ]
  },
  {
   "cell_type": "code",
   "execution_count": 12,
   "id": "e382e4d7-b53c-4581-9e17-7bf3a40fac61",
   "metadata": {},
   "outputs": [
    {
     "data": {
      "text/plain": [
       "(1000,)"
      ]
     },
     "execution_count": 12,
     "metadata": {},
     "output_type": "execute_result"
    }
   ],
   "source": [
    "assign.shape"
   ]
  },
  {
   "cell_type": "code",
   "execution_count": 13,
   "id": "ffbb37e8-65dc-4a3d-a247-343710f2ae27",
   "metadata": {},
   "outputs": [
    {
     "data": {
      "text/plain": [
       "(1000, 14)"
      ]
     },
     "execution_count": 13,
     "metadata": {},
     "output_type": "execute_result"
    }
   ],
   "source": [
    "clicks.shape"
   ]
  },
  {
   "cell_type": "code",
   "execution_count": 14,
   "id": "cb0c37b3-a362-4879-a0d9-a917dff3c52c",
   "metadata": {},
   "outputs": [
    {
     "data": {
      "text/plain": [
       "(1000, 14)"
      ]
     },
     "execution_count": 14,
     "metadata": {},
     "output_type": "execute_result"
    }
   ],
   "source": [
    "views.shape"
   ]
  },
  {
   "cell_type": "code",
   "execution_count": 19,
   "id": "2ee2b8fa-55b5-4889-9e1c-4a12e815e6d1",
   "metadata": {},
   "outputs": [
    {
     "data": {
      "text/plain": [
       "array(['False', 'False', 'False', 'False', 'False'], dtype='<U5')"
      ]
     },
     "execution_count": 19,
     "metadata": {},
     "output_type": "execute_result"
    }
   ],
   "source": [
    "assign[: 5]"
   ]
  },
  {
   "cell_type": "code",
   "execution_count": 20,
   "id": "253492cb-0ae8-4115-b528-7303524a2d3a",
   "metadata": {},
   "outputs": [
    {
     "data": {
      "text/plain": [
       "array([[0., 1., 0., 0., 0., 0., 0., 0., 0., 0., 0., 0., 0., 0.],\n",
       "       [0., 0., 0., 0., 0., 0., 1., 0., 0., 0., 0., 1., 0., 0.],\n",
       "       [0., 0., 0., 0., 1., 0., 0., 0., 0., 3., 0., 0., 0., 0.]])"
      ]
     },
     "execution_count": 20,
     "metadata": {},
     "output_type": "execute_result"
    }
   ],
   "source": [
    "clicks[:3, :]"
   ]
  },
  {
   "cell_type": "code",
   "execution_count": 21,
   "id": "2677624a-e928-4d82-8fbf-25f94c799c67",
   "metadata": {},
   "outputs": [
    {
     "data": {
      "text/plain": [
       "array([[ 0.,  6.,  0.,  0.,  0.,  0.,  0.,  3.,  8.,  3.,  0.,  0.,  0.,\n",
       "         0.],\n",
       "       [ 7., 37.,  0.,  0., 13., 12., 26.,  0., 16.,  1.,  0., 25.,  4.,\n",
       "         0.],\n",
       "       [ 5.,  0.,  9.,  0.,  7.,  0.,  0.,  0.,  8., 17.,  5.,  6.,  3.,\n",
       "         0.]])"
      ]
     },
     "execution_count": 21,
     "metadata": {},
     "output_type": "execute_result"
    }
   ],
   "source": [
    "views[:3, :]"
   ]
  },
  {
   "cell_type": "code",
   "execution_count": 22,
   "id": "84ef0eb2-dc6b-495f-a5ee-2d507a3ae7e0",
   "metadata": {},
   "outputs": [],
   "source": [
    "# Task 3\n",
    "# It's important to track a few summary statistics about data, statistics that will let us know if the data is bad.\n",
    "\n",
    "# Calculate some of these statistics\n",
    "# Use print() to print out a human readable message that includes these statistics."
   ]
  },
  {
   "cell_type": "code",
   "execution_count": 23,
   "id": "7be906df-98d1-48bc-9596-a8b071afdf2b",
   "metadata": {},
   "outputs": [],
   "source": [
    "# find nan"
   ]
  },
  {
   "cell_type": "code",
   "execution_count": 25,
   "id": "7dbc1085-1dd6-49ee-ae9a-dabb11479d6d",
   "metadata": {},
   "outputs": [
    {
     "data": {
      "text/plain": [
       "array([[False, False, False, ..., False, False, False],\n",
       "       [False, False, False, ..., False, False, False],\n",
       "       [False, False, False, ..., False, False, False],\n",
       "       ...,\n",
       "       [False, False, False, ..., False, False, False],\n",
       "       [False, False, False, ..., False, False, False],\n",
       "       [False, False, False, ..., False, False, False]])"
      ]
     },
     "execution_count": 25,
     "metadata": {},
     "output_type": "execute_result"
    }
   ],
   "source": [
    "np.isnan(clicks)"
   ]
  },
  {
   "cell_type": "code",
   "execution_count": 26,
   "id": "a401b16e-b507-4e90-beed-be18f1512a46",
   "metadata": {},
   "outputs": [
    {
     "data": {
      "text/plain": [
       "np.False_"
      ]
     },
     "execution_count": 26,
     "metadata": {},
     "output_type": "execute_result"
    }
   ],
   "source": [
    "np.isnan(clicks).any()"
   ]
  },
  {
   "cell_type": "code",
   "execution_count": 27,
   "id": "d863eaa4-c03e-466e-a743-84b261f53295",
   "metadata": {},
   "outputs": [],
   "source": [
    "any_negs = np.min(clicks) < 0"
   ]
  },
  {
   "cell_type": "code",
   "execution_count": 28,
   "id": "8969140e-e08e-4004-89b0-fbff2221f11a",
   "metadata": {},
   "outputs": [
    {
     "data": {
      "text/plain": [
       "np.False_"
      ]
     },
     "execution_count": 28,
     "metadata": {},
     "output_type": "execute_result"
    }
   ],
   "source": [
    "any_negs"
   ]
  },
  {
   "cell_type": "code",
   "execution_count": 30,
   "id": "c9326084-1fa9-471b-8686-8a0d3d826934",
   "metadata": {},
   "outputs": [
    {
     "data": {
      "text/plain": [
       "np.True_"
      ]
     },
     "execution_count": 30,
     "metadata": {},
     "output_type": "execute_result"
    }
   ],
   "source": [
    "(clicks <= views).all()"
   ]
  },
  {
   "cell_type": "code",
   "execution_count": 31,
   "id": "70d5dd71-26fe-4824-859d-cf904de73261",
   "metadata": {},
   "outputs": [],
   "source": [
    "zero_frequency = (clicks == 0).mean()"
   ]
  },
  {
   "cell_type": "code",
   "execution_count": 32,
   "id": "e0528e32-0c4e-4c06-91f4-1caac94f6e30",
   "metadata": {},
   "outputs": [
    {
     "data": {
      "text/plain": [
       "np.float64(0.8257142857142857)"
      ]
     },
     "execution_count": 32,
     "metadata": {},
     "output_type": "execute_result"
    }
   ],
   "source": [
    "zero_frequency"
   ]
  },
  {
   "cell_type": "code",
   "execution_count": 33,
   "id": "42796721-0bc1-4d70-a770-7fec14f9e1a3",
   "metadata": {},
   "outputs": [],
   "source": [
    "# Task 4\n",
    "# What kind of mathematical notation would you use to describe our data? Now use that notation to express (no code)\n",
    "\n",
    "# total clicks over all users / total views over all users\n",
    "# Average click through rate\n",
    "# Now write the code to do these calculations"
   ]
  },
  {
   "cell_type": "code",
   "execution_count": 34,
   "id": "116641c3-c18d-4dbc-9eac-94a89e5dc218",
   "metadata": {},
   "outputs": [],
   "source": [
    "total_clicks = clicks.sum()"
   ]
  },
  {
   "cell_type": "code",
   "execution_count": 35,
   "id": "e62b96d2-c480-47a0-a1f8-b21fd66c6ff4",
   "metadata": {},
   "outputs": [
    {
     "data": {
      "text/plain": [
       "np.float64(3727.0)"
      ]
     },
     "execution_count": 35,
     "metadata": {},
     "output_type": "execute_result"
    }
   ],
   "source": [
    "total_clicks"
   ]
  },
  {
   "cell_type": "code",
   "execution_count": 37,
   "id": "d2872f41-40e2-4b7f-9498-5166e04210eb",
   "metadata": {},
   "outputs": [],
   "source": [
    "total_views = views.sum()"
   ]
  },
  {
   "cell_type": "code",
   "execution_count": 38,
   "id": "8e01185d-8779-41aa-b10b-b379650994f0",
   "metadata": {},
   "outputs": [
    {
     "data": {
      "text/plain": [
       "np.float64(70428.0)"
      ]
     },
     "execution_count": 38,
     "metadata": {},
     "output_type": "execute_result"
    }
   ],
   "source": [
    "total_views"
   ]
  },
  {
   "cell_type": "code",
   "execution_count": 93,
   "id": "b65d3f2c-e6d4-4a0d-bf80-23220c4f28a3",
   "metadata": {},
   "outputs": [],
   "source": [
    "ctr_1 = total_clicks / total_views"
   ]
  },
  {
   "cell_type": "code",
   "execution_count": 94,
   "id": "60eeda2d-7596-43f7-bce7-6527a107fc2e",
   "metadata": {},
   "outputs": [],
   "source": [
    "tot_clicks_user = np.apply_along_axis(np.sum, 1, clicks)"
   ]
  },
  {
   "cell_type": "code",
   "execution_count": 95,
   "id": "88cf2610-8e07-4cb8-a13c-26905e30366e",
   "metadata": {},
   "outputs": [],
   "source": [
    "tot_views_user = np.apply_along_axis(np.sum, 1, views)"
   ]
  },
  {
   "cell_type": "code",
   "execution_count": 96,
   "id": "c5c849d4-6665-4fd1-935d-9fa4e034f0d8",
   "metadata": {},
   "outputs": [],
   "source": [
    "ctr_2 = (tot_clicks_user / tot_views_user).mean()"
   ]
  },
  {
   "cell_type": "code",
   "execution_count": 97,
   "id": "97aaf9da-77bf-4c7d-b3f5-c3740199ab94",
   "metadata": {},
   "outputs": [
    {
     "data": {
      "text/plain": [
       "np.float64(0.053078945894088896)"
      ]
     },
     "execution_count": 97,
     "metadata": {},
     "output_type": "execute_result"
    }
   ],
   "source": [
    "ctr_2"
   ]
  },
  {
   "cell_type": "code",
   "execution_count": 98,
   "id": "05d7dd41-5aeb-4bcd-a3a8-974a7bdc69e1",
   "metadata": {},
   "outputs": [
    {
     "data": {
      "text/plain": [
       "np.float64(0.05291929346282728)"
      ]
     },
     "execution_count": 98,
     "metadata": {},
     "output_type": "execute_result"
    }
   ],
   "source": [
    "ctr_1"
   ]
  },
  {
   "cell_type": "code",
   "execution_count": null,
   "id": "50c87879-4e2a-4ad1-84c3-c04336013b66",
   "metadata": {},
   "outputs": [],
   "source": []
  },
  {
   "cell_type": "code",
   "execution_count": 99,
   "id": "5accc86e-25f5-4a4a-be68-ce7fa1b8c112",
   "metadata": {},
   "outputs": [],
   "source": [
    "# Task 5\n",
    "# Let's compare the 2 metrics:\n",
    "\n",
    "# Remove one of the most active members from the data and re-calculate both metrics.\n",
    "# How would you compare the metric before/after the removal? Calculate something and print() it out.\n",
    "# Which metric would you recommend?"
   ]
  },
  {
   "cell_type": "code",
   "execution_count": 100,
   "id": "199c8fac-027b-49db-bfe3-12773dfdfe49",
   "metadata": {},
   "outputs": [
    {
     "data": {
      "text/plain": [
       "np.int64(733)"
      ]
     },
     "execution_count": 100,
     "metadata": {},
     "output_type": "execute_result"
    }
   ],
   "source": [
    "tot_clicks_user.argmax()"
   ]
  },
  {
   "cell_type": "code",
   "execution_count": 101,
   "id": "c9b8f03c-6323-4393-ac94-9eb9b8fafeb1",
   "metadata": {},
   "outputs": [
    {
     "data": {
      "text/plain": [
       "np.int64(149)"
      ]
     },
     "execution_count": 101,
     "metadata": {},
     "output_type": "execute_result"
    }
   ],
   "source": [
    "tot_views_user.argmax()"
   ]
  },
  {
   "cell_type": "code",
   "execution_count": 102,
   "id": "ba24110d-5be1-422a-8064-cc7060ffdb44",
   "metadata": {},
   "outputs": [],
   "source": [
    "tot_clicks_user2 = tot_clicks_user.copy()"
   ]
  },
  {
   "cell_type": "code",
   "execution_count": 103,
   "id": "9800079b-c4f2-4cbf-9f18-f781c0258342",
   "metadata": {},
   "outputs": [],
   "source": [
    "tot_clicks_user2 = np.delete(tot_clicks_user2, tot_views_user.argmax())"
   ]
  },
  {
   "cell_type": "code",
   "execution_count": 104,
   "id": "cd0a266e-38b8-46aa-a1da-1980af38b4ea",
   "metadata": {},
   "outputs": [],
   "source": [
    "tot_views_user2 = tot_views_user.copy()"
   ]
  },
  {
   "cell_type": "code",
   "execution_count": 105,
   "id": "d1a1f9a9-9a22-4cb0-8fe3-2b558ab7cc3a",
   "metadata": {},
   "outputs": [],
   "source": [
    "tot_views_user2 = np.delete(tot_views_user2, tot_views_user.argmax())"
   ]
  },
  {
   "cell_type": "code",
   "execution_count": 106,
   "id": "5b8b921e-02a0-40f1-a83b-2bb08be08ee1",
   "metadata": {},
   "outputs": [
    {
     "data": {
      "text/plain": [
       "999"
      ]
     },
     "execution_count": 106,
     "metadata": {},
     "output_type": "execute_result"
    }
   ],
   "source": [
    "len(tot_clicks_user2)"
   ]
  },
  {
   "cell_type": "code",
   "execution_count": 107,
   "id": "eb22a9a2-ad38-4fb6-829a-d74ecb4c4e47",
   "metadata": {},
   "outputs": [
    {
     "data": {
      "text/plain": [
       "999"
      ]
     },
     "execution_count": 107,
     "metadata": {},
     "output_type": "execute_result"
    }
   ],
   "source": [
    "len(tot_views_user2)"
   ]
  },
  {
   "cell_type": "code",
   "execution_count": 108,
   "id": "98ad1294-abe3-4e0d-84ff-35742b70d8a4",
   "metadata": {},
   "outputs": [],
   "source": [
    "ctr_m1 = np.sum(tot_clicks_user2) / np.sum(tot_views_user2)"
   ]
  },
  {
   "cell_type": "code",
   "execution_count": 109,
   "id": "98830d29-d1d9-476e-8aa2-3b4cc2830334",
   "metadata": {},
   "outputs": [
    {
     "data": {
      "text/plain": [
       "np.float64(0.05291698097095117)"
      ]
     },
     "execution_count": 109,
     "metadata": {},
     "output_type": "execute_result"
    }
   ],
   "source": [
    "ctr_m1"
   ]
  },
  {
   "cell_type": "code",
   "execution_count": 110,
   "id": "87a9fca8-6896-4f37-b702-039491d534d4",
   "metadata": {},
   "outputs": [],
   "source": [
    "ctr_m2 = (tot_clicks_user2 / tot_views_user2).mean()"
   ]
  },
  {
   "cell_type": "code",
   "execution_count": 111,
   "id": "be81f0b9-7f7b-4eef-9ac5-d897ac9b6cd7",
   "metadata": {},
   "outputs": [
    {
     "data": {
      "text/plain": [
       "np.float64(0.053078131810330366)"
      ]
     },
     "execution_count": 111,
     "metadata": {},
     "output_type": "execute_result"
    }
   ],
   "source": [
    "ctr_m2"
   ]
  },
  {
   "cell_type": "code",
   "execution_count": null,
   "id": "6d5a08d3-0610-435b-9266-f3bb37134bc4",
   "metadata": {},
   "outputs": [],
   "source": []
  },
  {
   "cell_type": "code",
   "execution_count": 112,
   "id": "8b1ba5ff-fb59-4cd4-98b2-9af9e4b2e6ce",
   "metadata": {},
   "outputs": [],
   "source": [
    "# Task 6\n",
    "# Calculate the recommended metric for each of the treatment groups."
   ]
  },
  {
   "cell_type": "code",
   "execution_count": 122,
   "id": "a275202e-a215-4ee1-a029-44723cff7ec0",
   "metadata": {},
   "outputs": [],
   "source": [
    "is_treat = assign == 'True'"
   ]
  },
  {
   "cell_type": "code",
   "execution_count": 124,
   "id": "2b018baf-6fc4-4ae0-bce9-d9f04b81ed6f",
   "metadata": {},
   "outputs": [],
   "source": [
    "is_control = ~is_treat"
   ]
  },
  {
   "cell_type": "code",
   "execution_count": 125,
   "id": "263d5fa0-d612-46a7-8d78-550c82fa1c2f",
   "metadata": {},
   "outputs": [
    {
     "data": {
      "text/plain": [
       "np.float64(380.0)"
      ]
     },
     "execution_count": 125,
     "metadata": {},
     "output_type": "execute_result"
    }
   ],
   "source": [
    "np.sum(tot_clicks_user[is_treat])"
   ]
  },
  {
   "cell_type": "code",
   "execution_count": 127,
   "id": "3d110572-d5fe-4dc6-a597-3720d79cdc11",
   "metadata": {},
   "outputs": [
    {
     "data": {
      "text/plain": [
       "np.float64(0.10317675807765408)"
      ]
     },
     "execution_count": 127,
     "metadata": {},
     "output_type": "execute_result"
    }
   ],
   "source": [
    "np.sum(tot_clicks_user[is_treat]) / np.sum(tot_views_user[is_treat])"
   ]
  },
  {
   "cell_type": "code",
   "execution_count": 129,
   "id": "ffeeb133-22b7-4659-9c19-d3919d8a76b9",
   "metadata": {},
   "outputs": [
    {
     "data": {
      "text/plain": [
       "np.float64(0.10428005022713495)"
      ]
     },
     "execution_count": 129,
     "metadata": {},
     "output_type": "execute_result"
    }
   ],
   "source": [
    "(tot_clicks_user[is_treat] / tot_views_user[is_treat]).mean()"
   ]
  },
  {
   "cell_type": "code",
   "execution_count": 130,
   "id": "f089998d-4d2f-4c79-a775-4549afdee77a",
   "metadata": {},
   "outputs": [
    {
     "data": {
      "text/plain": [
       "np.float64(0.05014607835792943)"
      ]
     },
     "execution_count": 130,
     "metadata": {},
     "output_type": "execute_result"
    }
   ],
   "source": [
    "np.sum(tot_clicks_user[is_control]) / np.sum(tot_views_user[is_control])"
   ]
  },
  {
   "cell_type": "code",
   "execution_count": null,
   "id": "179d753d-913e-4dcd-a06d-58369d33ee6a",
   "metadata": {},
   "outputs": [],
   "source": []
  }
 ],
 "metadata": {
  "kernelspec": {
   "display_name": "Python 3 (ipykernel)",
   "language": "python",
   "name": "python3"
  },
  "language_info": {
   "codemirror_mode": {
    "name": "ipython",
    "version": 3
   },
   "file_extension": ".py",
   "mimetype": "text/x-python",
   "name": "python",
   "nbconvert_exporter": "python",
   "pygments_lexer": "ipython3",
   "version": "3.11.1"
  }
 },
 "nbformat": 4,
 "nbformat_minor": 5
}
