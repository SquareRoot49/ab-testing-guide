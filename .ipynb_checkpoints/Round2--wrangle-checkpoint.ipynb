{
 "cells": [
  {
   "cell_type": "code",
   "execution_count": 1,
   "id": "d06d489f-ddff-4e4b-a1e4-a3228dc476ce",
   "metadata": {},
   "outputs": [],
   "source": [
    "import numpy as np"
   ]
  },
  {
   "cell_type": "code",
   "execution_count": 2,
   "id": "99a8a508-c21d-456b-b273-c774ebb2659f",
   "metadata": {},
   "outputs": [],
   "source": [
    "import pandas as pd"
   ]
  },
  {
   "cell_type": "code",
   "execution_count": 73,
   "id": "a1747b71-7991-44c5-a609-8b52799596c2",
   "metadata": {},
   "outputs": [],
   "source": [
    "author = pd.read_csv('author_and_papers.csv')"
   ]
  },
  {
   "cell_type": "code",
   "execution_count": 74,
   "id": "ae554511-2677-4a1d-ade2-3e3ceba820b5",
   "metadata": {},
   "outputs": [],
   "source": [
    "paper = pd.read_csv('paper_and_references.csv')"
   ]
  },
  {
   "cell_type": "code",
   "execution_count": 45,
   "id": "9bf95419-5ea7-43e0-b861-c4ad84c1db0b",
   "metadata": {},
   "outputs": [
    {
     "data": {
      "text/html": [
       "<div>\n",
       "<style scoped>\n",
       "    .dataframe tbody tr th:only-of-type {\n",
       "        vertical-align: middle;\n",
       "    }\n",
       "\n",
       "    .dataframe tbody tr th {\n",
       "        vertical-align: top;\n",
       "    }\n",
       "\n",
       "    .dataframe thead th {\n",
       "        text-align: right;\n",
       "    }\n",
       "</style>\n",
       "<table border=\"1\" class=\"dataframe\">\n",
       "  <thead>\n",
       "    <tr style=\"text-align: right;\">\n",
       "      <th></th>\n",
       "      <th>Unnamed: 0</th>\n",
       "      <th>author_id</th>\n",
       "      <th>given_name</th>\n",
       "      <th>family_name</th>\n",
       "      <th>middle_name</th>\n",
       "      <th>paper_id</th>\n",
       "      <th>paper_title</th>\n",
       "    </tr>\n",
       "  </thead>\n",
       "  <tbody>\n",
       "    <tr>\n",
       "      <th>0</th>\n",
       "      <td>0</td>\n",
       "      <td>2</td>\n",
       "      <td>S</td>\n",
       "      <td>Rahmann</td>\n",
       "      <td>NaN</td>\n",
       "      <td>4</td>\n",
       "      <td>Snakemake--a scalable bioinformatics workflow ...</td>\n",
       "    </tr>\n",
       "    <tr>\n",
       "      <th>1</th>\n",
       "      <td>1</td>\n",
       "      <td>1678</td>\n",
       "      <td>J</td>\n",
       "      <td>Koster</td>\n",
       "      <td>NaN</td>\n",
       "      <td>4</td>\n",
       "      <td>Snakemake--a scalable bioinformatics workflow ...</td>\n",
       "    </tr>\n",
       "    <tr>\n",
       "      <th>2</th>\n",
       "      <td>2</td>\n",
       "      <td>109</td>\n",
       "      <td>Victoria</td>\n",
       "      <td>Stodden</td>\n",
       "      <td>NaN</td>\n",
       "      <td>15</td>\n",
       "      <td>Scientific tests and continuous integration st...</td>\n",
       "    </tr>\n",
       "    <tr>\n",
       "      <th>3</th>\n",
       "      <td>3</td>\n",
       "      <td>14</td>\n",
       "      <td>Darko</td>\n",
       "      <td>Marinov</td>\n",
       "      <td>NaN</td>\n",
       "      <td>15</td>\n",
       "      <td>Scientific tests and continuous integration st...</td>\n",
       "    </tr>\n",
       "    <tr>\n",
       "      <th>4</th>\n",
       "      <td>4</td>\n",
       "      <td>12</td>\n",
       "      <td>Adhithya</td>\n",
       "      <td>Bhaskar</td>\n",
       "      <td>NaN</td>\n",
       "      <td>15</td>\n",
       "      <td>Scientific tests and continuous integration st...</td>\n",
       "    </tr>\n",
       "  </tbody>\n",
       "</table>\n",
       "</div>"
      ],
      "text/plain": [
       "   Unnamed: 0  author_id given_name family_name middle_name  paper_id  \\\n",
       "0           0          2          S     Rahmann         NaN         4   \n",
       "1           1       1678          J      Koster         NaN         4   \n",
       "2           2        109   Victoria     Stodden         NaN        15   \n",
       "3           3         14      Darko     Marinov         NaN        15   \n",
       "4           4         12   Adhithya     Bhaskar         NaN        15   \n",
       "\n",
       "                                         paper_title  \n",
       "0  Snakemake--a scalable bioinformatics workflow ...  \n",
       "1  Snakemake--a scalable bioinformatics workflow ...  \n",
       "2  Scientific tests and continuous integration st...  \n",
       "3  Scientific tests and continuous integration st...  \n",
       "4  Scientific tests and continuous integration st...  "
      ]
     },
     "execution_count": 45,
     "metadata": {},
     "output_type": "execute_result"
    }
   ],
   "source": [
    "author.head()"
   ]
  },
  {
   "cell_type": "code",
   "execution_count": 46,
   "id": "8965dd62-5761-420d-859e-a7c2e8fd1c63",
   "metadata": {},
   "outputs": [
    {
     "data": {
      "text/html": [
       "<div>\n",
       "<style scoped>\n",
       "    .dataframe tbody tr th:only-of-type {\n",
       "        vertical-align: middle;\n",
       "    }\n",
       "\n",
       "    .dataframe tbody tr th {\n",
       "        vertical-align: top;\n",
       "    }\n",
       "\n",
       "    .dataframe thead th {\n",
       "        text-align: right;\n",
       "    }\n",
       "</style>\n",
       "<table border=\"1\" class=\"dataframe\">\n",
       "  <thead>\n",
       "    <tr style=\"text-align: right;\">\n",
       "      <th></th>\n",
       "      <th>Unnamed: 0</th>\n",
       "      <th>auth_id</th>\n",
       "      <th>auth_title</th>\n",
       "      <th>ref_id</th>\n",
       "      <th>ref_title</th>\n",
       "    </tr>\n",
       "  </thead>\n",
       "  <tbody>\n",
       "    <tr>\n",
       "      <th>0</th>\n",
       "      <td>0</td>\n",
       "      <td>20</td>\n",
       "      <td>Nonlinear evolution via spatially-dependent li...</td>\n",
       "      <td>278</td>\n",
       "      <td>Penalized matrix decomposition for denoising, ...</td>\n",
       "    </tr>\n",
       "    <tr>\n",
       "      <th>1</th>\n",
       "      <td>1</td>\n",
       "      <td>20</td>\n",
       "      <td>Nonlinear evolution via spatially-dependent li...</td>\n",
       "      <td>1392</td>\n",
       "      <td>Resting-state hemodynamics are spatiotemporall...</td>\n",
       "    </tr>\n",
       "    <tr>\n",
       "      <th>2</th>\n",
       "      <td>2</td>\n",
       "      <td>20</td>\n",
       "      <td>Nonlinear evolution via spatially-dependent li...</td>\n",
       "      <td>1498</td>\n",
       "      <td>Wide-field optical mapping of neural activity ...</td>\n",
       "    </tr>\n",
       "    <tr>\n",
       "      <th>3</th>\n",
       "      <td>3</td>\n",
       "      <td>20</td>\n",
       "      <td>Nonlinear evolution via spatially-dependent li...</td>\n",
       "      <td>2445</td>\n",
       "      <td>A quantitative description of membrane current...</td>\n",
       "    </tr>\n",
       "    <tr>\n",
       "      <th>4</th>\n",
       "      <td>4</td>\n",
       "      <td>20</td>\n",
       "      <td>Nonlinear evolution via spatially-dependent li...</td>\n",
       "      <td>2442</td>\n",
       "      <td>An orderly single-trial organization of popula...</td>\n",
       "    </tr>\n",
       "  </tbody>\n",
       "</table>\n",
       "</div>"
      ],
      "text/plain": [
       "   Unnamed: 0  auth_id                                         auth_title  \\\n",
       "0           0       20  Nonlinear evolution via spatially-dependent li...   \n",
       "1           1       20  Nonlinear evolution via spatially-dependent li...   \n",
       "2           2       20  Nonlinear evolution via spatially-dependent li...   \n",
       "3           3       20  Nonlinear evolution via spatially-dependent li...   \n",
       "4           4       20  Nonlinear evolution via spatially-dependent li...   \n",
       "\n",
       "   ref_id                                          ref_title  \n",
       "0     278  Penalized matrix decomposition for denoising, ...  \n",
       "1    1392  Resting-state hemodynamics are spatiotemporall...  \n",
       "2    1498  Wide-field optical mapping of neural activity ...  \n",
       "3    2445  A quantitative description of membrane current...  \n",
       "4    2442  An orderly single-trial organization of popula...  "
      ]
     },
     "execution_count": 46,
     "metadata": {},
     "output_type": "execute_result"
    }
   ],
   "source": [
    "paper.head()"
   ]
  },
  {
   "cell_type": "code",
   "execution_count": 10,
   "id": "0d5163ac-c5ad-4623-a0a4-1074b313852a",
   "metadata": {},
   "outputs": [
    {
     "data": {
      "text/html": [
       "<div>\n",
       "<style scoped>\n",
       "    .dataframe tbody tr th:only-of-type {\n",
       "        vertical-align: middle;\n",
       "    }\n",
       "\n",
       "    .dataframe tbody tr th {\n",
       "        vertical-align: top;\n",
       "    }\n",
       "\n",
       "    .dataframe thead th {\n",
       "        text-align: right;\n",
       "    }\n",
       "</style>\n",
       "<table border=\"1\" class=\"dataframe\">\n",
       "  <thead>\n",
       "    <tr style=\"text-align: right;\">\n",
       "      <th></th>\n",
       "      <th>Unnamed: 0</th>\n",
       "      <th>given_name</th>\n",
       "      <th>family_name</th>\n",
       "      <th>middle_name</th>\n",
       "      <th>paper_id</th>\n",
       "      <th>paper_title</th>\n",
       "    </tr>\n",
       "    <tr>\n",
       "      <th>author_id</th>\n",
       "      <th></th>\n",
       "      <th></th>\n",
       "      <th></th>\n",
       "      <th></th>\n",
       "      <th></th>\n",
       "      <th></th>\n",
       "    </tr>\n",
       "  </thead>\n",
       "  <tbody>\n",
       "    <tr>\n",
       "      <th>0</th>\n",
       "      <td>199</td>\n",
       "      <td>199</td>\n",
       "      <td>199</td>\n",
       "      <td>199</td>\n",
       "      <td>199</td>\n",
       "      <td>199</td>\n",
       "    </tr>\n",
       "    <tr>\n",
       "      <th>2</th>\n",
       "      <td>1</td>\n",
       "      <td>1</td>\n",
       "      <td>1</td>\n",
       "      <td>0</td>\n",
       "      <td>1</td>\n",
       "      <td>1</td>\n",
       "    </tr>\n",
       "    <tr>\n",
       "      <th>3</th>\n",
       "      <td>4</td>\n",
       "      <td>4</td>\n",
       "      <td>4</td>\n",
       "      <td>0</td>\n",
       "      <td>4</td>\n",
       "      <td>4</td>\n",
       "    </tr>\n",
       "    <tr>\n",
       "      <th>5</th>\n",
       "      <td>7</td>\n",
       "      <td>7</td>\n",
       "      <td>7</td>\n",
       "      <td>7</td>\n",
       "      <td>7</td>\n",
       "      <td>7</td>\n",
       "    </tr>\n",
       "    <tr>\n",
       "      <th>7</th>\n",
       "      <td>13</td>\n",
       "      <td>13</td>\n",
       "      <td>13</td>\n",
       "      <td>0</td>\n",
       "      <td>13</td>\n",
       "      <td>13</td>\n",
       "    </tr>\n",
       "    <tr>\n",
       "      <th>...</th>\n",
       "      <td>...</td>\n",
       "      <td>...</td>\n",
       "      <td>...</td>\n",
       "      <td>...</td>\n",
       "      <td>...</td>\n",
       "      <td>...</td>\n",
       "    </tr>\n",
       "    <tr>\n",
       "      <th>11704</th>\n",
       "      <td>1</td>\n",
       "      <td>1</td>\n",
       "      <td>1</td>\n",
       "      <td>0</td>\n",
       "      <td>1</td>\n",
       "      <td>1</td>\n",
       "    </tr>\n",
       "    <tr>\n",
       "      <th>11708</th>\n",
       "      <td>1</td>\n",
       "      <td>1</td>\n",
       "      <td>1</td>\n",
       "      <td>0</td>\n",
       "      <td>1</td>\n",
       "      <td>1</td>\n",
       "    </tr>\n",
       "    <tr>\n",
       "      <th>11712</th>\n",
       "      <td>1</td>\n",
       "      <td>1</td>\n",
       "      <td>1</td>\n",
       "      <td>0</td>\n",
       "      <td>1</td>\n",
       "      <td>1</td>\n",
       "    </tr>\n",
       "    <tr>\n",
       "      <th>11723</th>\n",
       "      <td>1</td>\n",
       "      <td>1</td>\n",
       "      <td>1</td>\n",
       "      <td>1</td>\n",
       "      <td>1</td>\n",
       "      <td>1</td>\n",
       "    </tr>\n",
       "    <tr>\n",
       "      <th>11726</th>\n",
       "      <td>1</td>\n",
       "      <td>1</td>\n",
       "      <td>1</td>\n",
       "      <td>1</td>\n",
       "      <td>1</td>\n",
       "      <td>1</td>\n",
       "    </tr>\n",
       "  </tbody>\n",
       "</table>\n",
       "<p>7098 rows × 6 columns</p>\n",
       "</div>"
      ],
      "text/plain": [
       "           Unnamed: 0  given_name  family_name  middle_name  paper_id  \\\n",
       "author_id                                                               \n",
       "0                 199         199          199          199       199   \n",
       "2                   1           1            1            0         1   \n",
       "3                   4           4            4            0         4   \n",
       "5                   7           7            7            7         7   \n",
       "7                  13          13           13            0        13   \n",
       "...               ...         ...          ...          ...       ...   \n",
       "11704               1           1            1            0         1   \n",
       "11708               1           1            1            0         1   \n",
       "11712               1           1            1            0         1   \n",
       "11723               1           1            1            1         1   \n",
       "11726               1           1            1            1         1   \n",
       "\n",
       "           paper_title  \n",
       "author_id               \n",
       "0                  199  \n",
       "2                    1  \n",
       "3                    4  \n",
       "5                    7  \n",
       "7                   13  \n",
       "...                ...  \n",
       "11704                1  \n",
       "11708                1  \n",
       "11712                1  \n",
       "11723                1  \n",
       "11726                1  \n",
       "\n",
       "[7098 rows x 6 columns]"
      ]
     },
     "execution_count": 10,
     "metadata": {},
     "output_type": "execute_result"
    }
   ],
   "source": [
    "author.groupby('author_id').count()"
   ]
  },
  {
   "cell_type": "code",
   "execution_count": 11,
   "id": "552b8e81-7abf-4f69-8249-c6e438dae41f",
   "metadata": {},
   "outputs": [],
   "source": [
    "num_prf = author.author_id.unique()"
   ]
  },
  {
   "cell_type": "code",
   "execution_count": 12,
   "id": "5666a95e-c399-435d-9245-1d0ff1c97bb6",
   "metadata": {},
   "outputs": [
    {
     "data": {
      "text/plain": [
       "7098"
      ]
     },
     "execution_count": 12,
     "metadata": {},
     "output_type": "execute_result"
    }
   ],
   "source": [
    "num_prf.shape[0]"
   ]
  },
  {
   "cell_type": "code",
   "execution_count": 13,
   "id": "1869b1e0-7c5f-47ac-a6e5-7f81384d57a5",
   "metadata": {},
   "outputs": [],
   "source": [
    "num_paper = paper.ref_id.unique().shape[0]"
   ]
  },
  {
   "cell_type": "code",
   "execution_count": 14,
   "id": "dffc5c74-6b51-49e8-8671-3633a69b5def",
   "metadata": {},
   "outputs": [
    {
     "data": {
      "text/plain": [
       "2993"
      ]
     },
     "execution_count": 14,
     "metadata": {},
     "output_type": "execute_result"
    }
   ],
   "source": [
    "num_paper"
   ]
  },
  {
   "cell_type": "code",
   "execution_count": 15,
   "id": "34b782a4-6261-4eca-a66b-752dd972335d",
   "metadata": {},
   "outputs": [],
   "source": [
    "## Analysis"
   ]
  },
  {
   "cell_type": "code",
   "execution_count": 16,
   "id": "156caa31-d428-43bb-b140-ad5eda7f9612",
   "metadata": {},
   "outputs": [
    {
     "data": {
      "text/html": [
       "<div>\n",
       "<style scoped>\n",
       "    .dataframe tbody tr th:only-of-type {\n",
       "        vertical-align: middle;\n",
       "    }\n",
       "\n",
       "    .dataframe tbody tr th {\n",
       "        vertical-align: top;\n",
       "    }\n",
       "\n",
       "    .dataframe thead th {\n",
       "        text-align: right;\n",
       "    }\n",
       "</style>\n",
       "<table border=\"1\" class=\"dataframe\">\n",
       "  <thead>\n",
       "    <tr style=\"text-align: right;\">\n",
       "      <th></th>\n",
       "      <th>Unnamed: 0</th>\n",
       "      <th>author_id</th>\n",
       "      <th>given_name</th>\n",
       "      <th>family_name</th>\n",
       "      <th>middle_name</th>\n",
       "      <th>paper_id</th>\n",
       "      <th>paper_title</th>\n",
       "    </tr>\n",
       "  </thead>\n",
       "  <tbody>\n",
       "    <tr>\n",
       "      <th>0</th>\n",
       "      <td>0</td>\n",
       "      <td>2</td>\n",
       "      <td>S</td>\n",
       "      <td>Rahmann</td>\n",
       "      <td>NaN</td>\n",
       "      <td>4</td>\n",
       "      <td>Snakemake--a scalable bioinformatics workflow ...</td>\n",
       "    </tr>\n",
       "    <tr>\n",
       "      <th>1</th>\n",
       "      <td>1</td>\n",
       "      <td>1678</td>\n",
       "      <td>J</td>\n",
       "      <td>Koster</td>\n",
       "      <td>NaN</td>\n",
       "      <td>4</td>\n",
       "      <td>Snakemake--a scalable bioinformatics workflow ...</td>\n",
       "    </tr>\n",
       "    <tr>\n",
       "      <th>2</th>\n",
       "      <td>2</td>\n",
       "      <td>109</td>\n",
       "      <td>Victoria</td>\n",
       "      <td>Stodden</td>\n",
       "      <td>NaN</td>\n",
       "      <td>15</td>\n",
       "      <td>Scientific tests and continuous integration st...</td>\n",
       "    </tr>\n",
       "    <tr>\n",
       "      <th>3</th>\n",
       "      <td>3</td>\n",
       "      <td>14</td>\n",
       "      <td>Darko</td>\n",
       "      <td>Marinov</td>\n",
       "      <td>NaN</td>\n",
       "      <td>15</td>\n",
       "      <td>Scientific tests and continuous integration st...</td>\n",
       "    </tr>\n",
       "    <tr>\n",
       "      <th>4</th>\n",
       "      <td>4</td>\n",
       "      <td>12</td>\n",
       "      <td>Adhithya</td>\n",
       "      <td>Bhaskar</td>\n",
       "      <td>NaN</td>\n",
       "      <td>15</td>\n",
       "      <td>Scientific tests and continuous integration st...</td>\n",
       "    </tr>\n",
       "  </tbody>\n",
       "</table>\n",
       "</div>"
      ],
      "text/plain": [
       "   Unnamed: 0  author_id given_name family_name middle_name  paper_id  \\\n",
       "0           0          2          S     Rahmann         NaN         4   \n",
       "1           1       1678          J      Koster         NaN         4   \n",
       "2           2        109   Victoria     Stodden         NaN        15   \n",
       "3           3         14      Darko     Marinov         NaN        15   \n",
       "4           4         12   Adhithya     Bhaskar         NaN        15   \n",
       "\n",
       "                                         paper_title  \n",
       "0  Snakemake--a scalable bioinformatics workflow ...  \n",
       "1  Snakemake--a scalable bioinformatics workflow ...  \n",
       "2  Scientific tests and continuous integration st...  \n",
       "3  Scientific tests and continuous integration st...  \n",
       "4  Scientific tests and continuous integration st...  "
      ]
     },
     "execution_count": 16,
     "metadata": {},
     "output_type": "execute_result"
    }
   ],
   "source": [
    "author.head()"
   ]
  },
  {
   "cell_type": "code",
   "execution_count": 28,
   "id": "39db987a-5b45-47b8-9677-9da60b0a0feb",
   "metadata": {},
   "outputs": [],
   "source": [
    "rows = []\n",
    "for auth in author.author_id.unique():\n",
    "    row = {}\n",
    "    is_target = author['author_id'] == auth\n",
    "    papers = author[is_target]\n",
    "    num = papers['paper_title'].unique().shape[0]\n",
    "    rows.append(num)"
   ]
  },
  {
   "cell_type": "code",
   "execution_count": 29,
   "id": "2bd1f63e-f787-436f-8606-2a9763f672a7",
   "metadata": {},
   "outputs": [
    {
     "data": {
      "text/plain": [
       "[1, 1, 4]"
      ]
     },
     "execution_count": 29,
     "metadata": {},
     "output_type": "execute_result"
    }
   ],
   "source": [
    "rows[:3]"
   ]
  },
  {
   "cell_type": "code",
   "execution_count": 30,
   "id": "8d4d7f44-edec-4e42-b8c7-c6478cc32a54",
   "metadata": {},
   "outputs": [
    {
     "data": {
      "text/plain": [
       "<Axes: ylabel='Count'>"
      ]
     },
     "execution_count": 30,
     "metadata": {},
     "output_type": "execute_result"
    },
    {
     "data": {
      "image/png": "[encoded data removed]",
      "text/plain": [
       "<Figure size 640x480 with 1 Axes>"
      ]
     },
     "metadata": {},
     "output_type": "display_data"
    }
   ],
   "source": [
    "import seaborn as sns\n",
    "\n",
    "sns.histplot(rows)"
   ]
  },
  {
   "cell_type": "code",
   "execution_count": 33,
   "id": "1a9593fb-2edc-4851-b2a7-525a568be09a",
   "metadata": {},
   "outputs": [],
   "source": [
    "each_paper = author.loc[:, ['paper_id', 'author_id']].drop_duplicates().groupby('paper_id').count()"
   ]
  },
  {
   "cell_type": "code",
   "execution_count": 34,
   "id": "ea3034ff-729a-4b92-8f94-5890a6943094",
   "metadata": {},
   "outputs": [],
   "source": [
    "auth_cnt = each_paper.reset_index()"
   ]
  },
  {
   "cell_type": "code",
   "execution_count": 35,
   "id": "172db2b5-5976-4841-b924-769d6cfbdfac",
   "metadata": {},
   "outputs": [
    {
     "data": {
      "text/html": [
       "<div>\n",
       "<style scoped>\n",
       "    .dataframe tbody tr th:only-of-type {\n",
       "        vertical-align: middle;\n",
       "    }\n",
       "\n",
       "    .dataframe tbody tr th {\n",
       "        vertical-align: top;\n",
       "    }\n",
       "\n",
       "    .dataframe thead th {\n",
       "        text-align: right;\n",
       "    }\n",
       "</style>\n",
       "<table border=\"1\" class=\"dataframe\">\n",
       "  <thead>\n",
       "    <tr style=\"text-align: right;\">\n",
       "      <th></th>\n",
       "      <th>paper_id</th>\n",
       "      <th>author_id</th>\n",
       "    </tr>\n",
       "  </thead>\n",
       "  <tbody>\n",
       "    <tr>\n",
       "      <th>0</th>\n",
       "      <td>4</td>\n",
       "      <td>2</td>\n",
       "    </tr>\n",
       "    <tr>\n",
       "      <th>1</th>\n",
       "      <td>15</td>\n",
       "      <td>5</td>\n",
       "    </tr>\n",
       "    <tr>\n",
       "      <th>2</th>\n",
       "      <td>20</td>\n",
       "      <td>6</td>\n",
       "    </tr>\n",
       "    <tr>\n",
       "      <th>3</th>\n",
       "      <td>21</td>\n",
       "      <td>1</td>\n",
       "    </tr>\n",
       "    <tr>\n",
       "      <th>4</th>\n",
       "      <td>30</td>\n",
       "      <td>10</td>\n",
       "    </tr>\n",
       "    <tr>\n",
       "      <th>...</th>\n",
       "      <td>...</td>\n",
       "      <td>...</td>\n",
       "    </tr>\n",
       "    <tr>\n",
       "      <th>3044</th>\n",
       "      <td>11717</td>\n",
       "      <td>2</td>\n",
       "    </tr>\n",
       "    <tr>\n",
       "      <th>3045</th>\n",
       "      <td>11719</td>\n",
       "      <td>5</td>\n",
       "    </tr>\n",
       "    <tr>\n",
       "      <th>3046</th>\n",
       "      <td>11722</td>\n",
       "      <td>1</td>\n",
       "    </tr>\n",
       "    <tr>\n",
       "      <th>3047</th>\n",
       "      <td>11724</td>\n",
       "      <td>2</td>\n",
       "    </tr>\n",
       "    <tr>\n",
       "      <th>3048</th>\n",
       "      <td>11727</td>\n",
       "      <td>4</td>\n",
       "    </tr>\n",
       "  </tbody>\n",
       "</table>\n",
       "<p>3049 rows × 2 columns</p>\n",
       "</div>"
      ],
      "text/plain": [
       "      paper_id  author_id\n",
       "0            4          2\n",
       "1           15          5\n",
       "2           20          6\n",
       "3           21          1\n",
       "4           30         10\n",
       "...        ...        ...\n",
       "3044     11717          2\n",
       "3045     11719          5\n",
       "3046     11722          1\n",
       "3047     11724          2\n",
       "3048     11727          4\n",
       "\n",
       "[3049 rows x 2 columns]"
      ]
     },
     "execution_count": 35,
     "metadata": {},
     "output_type": "execute_result"
    }
   ],
   "source": [
    "auth_cnt"
   ]
  },
  {
   "cell_type": "code",
   "execution_count": 36,
   "id": "8d1fd9e9-6cba-4063-b465-657932e87ae5",
   "metadata": {},
   "outputs": [
    {
     "data": {
      "text/plain": [
       "<Axes: ylabel='Count'>"
      ]
     },
     "execution_count": 36,
     "metadata": {},
     "output_type": "execute_result"
    },
    {
     "data": {
      "image/png": "[encoded data removed]",
      "text/plain": [
       "<Figure size 640x480 with 1 Axes>"
      ]
     },
     "metadata": {},
     "output_type": "display_data"
    }
   ],
   "source": [
    "sns.histplot(auth_cnt)"
   ]
  },
  {
   "cell_type": "code",
   "execution_count": 47,
   "id": "271b8279-8d6e-486d-870a-5925c238d874",
   "metadata": {},
   "outputs": [
    {
     "data": {
      "text/html": [
       "<div>\n",
       "<style scoped>\n",
       "    .dataframe tbody tr th:only-of-type {\n",
       "        vertical-align: middle;\n",
       "    }\n",
       "\n",
       "    .dataframe tbody tr th {\n",
       "        vertical-align: top;\n",
       "    }\n",
       "\n",
       "    .dataframe thead th {\n",
       "        text-align: right;\n",
       "    }\n",
       "</style>\n",
       "<table border=\"1\" class=\"dataframe\">\n",
       "  <thead>\n",
       "    <tr style=\"text-align: right;\">\n",
       "      <th></th>\n",
       "      <th>Unnamed: 0</th>\n",
       "      <th>auth_id</th>\n",
       "      <th>auth_title</th>\n",
       "      <th>ref_id</th>\n",
       "      <th>ref_title</th>\n",
       "    </tr>\n",
       "  </thead>\n",
       "  <tbody>\n",
       "    <tr>\n",
       "      <th>0</th>\n",
       "      <td>0</td>\n",
       "      <td>20</td>\n",
       "      <td>Nonlinear evolution via spatially-dependent li...</td>\n",
       "      <td>278</td>\n",
       "      <td>Penalized matrix decomposition for denoising, ...</td>\n",
       "    </tr>\n",
       "    <tr>\n",
       "      <th>1</th>\n",
       "      <td>1</td>\n",
       "      <td>20</td>\n",
       "      <td>Nonlinear evolution via spatially-dependent li...</td>\n",
       "      <td>1392</td>\n",
       "      <td>Resting-state hemodynamics are spatiotemporall...</td>\n",
       "    </tr>\n",
       "    <tr>\n",
       "      <th>2</th>\n",
       "      <td>2</td>\n",
       "      <td>20</td>\n",
       "      <td>Nonlinear evolution via spatially-dependent li...</td>\n",
       "      <td>1498</td>\n",
       "      <td>Wide-field optical mapping of neural activity ...</td>\n",
       "    </tr>\n",
       "    <tr>\n",
       "      <th>3</th>\n",
       "      <td>3</td>\n",
       "      <td>20</td>\n",
       "      <td>Nonlinear evolution via spatially-dependent li...</td>\n",
       "      <td>2445</td>\n",
       "      <td>A quantitative description of membrane current...</td>\n",
       "    </tr>\n",
       "    <tr>\n",
       "      <th>4</th>\n",
       "      <td>4</td>\n",
       "      <td>20</td>\n",
       "      <td>Nonlinear evolution via spatially-dependent li...</td>\n",
       "      <td>2442</td>\n",
       "      <td>An orderly single-trial organization of popula...</td>\n",
       "    </tr>\n",
       "  </tbody>\n",
       "</table>\n",
       "</div>"
      ],
      "text/plain": [
       "   Unnamed: 0  auth_id                                         auth_title  \\\n",
       "0           0       20  Nonlinear evolution via spatially-dependent li...   \n",
       "1           1       20  Nonlinear evolution via spatially-dependent li...   \n",
       "2           2       20  Nonlinear evolution via spatially-dependent li...   \n",
       "3           3       20  Nonlinear evolution via spatially-dependent li...   \n",
       "4           4       20  Nonlinear evolution via spatially-dependent li...   \n",
       "\n",
       "   ref_id                                          ref_title  \n",
       "0     278  Penalized matrix decomposition for denoising, ...  \n",
       "1    1392  Resting-state hemodynamics are spatiotemporall...  \n",
       "2    1498  Wide-field optical mapping of neural activity ...  \n",
       "3    2445  A quantitative description of membrane current...  \n",
       "4    2442  An orderly single-trial organization of popula...  "
      ]
     },
     "execution_count": 47,
     "metadata": {},
     "output_type": "execute_result"
    }
   ],
   "source": [
    "paper.head()"
   ]
  },
  {
   "cell_type": "code",
   "execution_count": 48,
   "id": "9913c1c5-a898-4094-96e0-fa868f999e61",
   "metadata": {},
   "outputs": [],
   "source": [
    "red_count = paper.loc[:, ['auth_id', 'ref_id']].drop_duplicates().groupby('ref_id').count()"
   ]
  },
  {
   "cell_type": "code",
   "execution_count": 49,
   "id": "cb0c9389-498c-4eda-a69b-b85fd65543d3",
   "metadata": {},
   "outputs": [
    {
     "data": {
      "text/html": [
       "<div>\n",
       "<style scoped>\n",
       "    .dataframe tbody tr th:only-of-type {\n",
       "        vertical-align: middle;\n",
       "    }\n",
       "\n",
       "    .dataframe tbody tr th {\n",
       "        vertical-align: top;\n",
       "    }\n",
       "\n",
       "    .dataframe thead th {\n",
       "        text-align: right;\n",
       "    }\n",
       "</style>\n",
       "<table border=\"1\" class=\"dataframe\">\n",
       "  <thead>\n",
       "    <tr style=\"text-align: right;\">\n",
       "      <th></th>\n",
       "      <th>auth_id</th>\n",
       "    </tr>\n",
       "    <tr>\n",
       "      <th>ref_id</th>\n",
       "      <th></th>\n",
       "    </tr>\n",
       "  </thead>\n",
       "  <tbody>\n",
       "    <tr>\n",
       "      <th>4</th>\n",
       "      <td>1</td>\n",
       "    </tr>\n",
       "    <tr>\n",
       "      <th>15</th>\n",
       "      <td>1</td>\n",
       "    </tr>\n",
       "    <tr>\n",
       "      <th>20</th>\n",
       "      <td>1</td>\n",
       "    </tr>\n",
       "    <tr>\n",
       "      <th>21</th>\n",
       "      <td>1</td>\n",
       "    </tr>\n",
       "    <tr>\n",
       "      <th>30</th>\n",
       "      <td>1</td>\n",
       "    </tr>\n",
       "    <tr>\n",
       "      <th>...</th>\n",
       "      <td>...</td>\n",
       "    </tr>\n",
       "    <tr>\n",
       "      <th>11717</th>\n",
       "      <td>1</td>\n",
       "    </tr>\n",
       "    <tr>\n",
       "      <th>11719</th>\n",
       "      <td>1</td>\n",
       "    </tr>\n",
       "    <tr>\n",
       "      <th>11722</th>\n",
       "      <td>1</td>\n",
       "    </tr>\n",
       "    <tr>\n",
       "      <th>11724</th>\n",
       "      <td>1</td>\n",
       "    </tr>\n",
       "    <tr>\n",
       "      <th>11727</th>\n",
       "      <td>1</td>\n",
       "    </tr>\n",
       "  </tbody>\n",
       "</table>\n",
       "<p>2993 rows × 1 columns</p>\n",
       "</div>"
      ],
      "text/plain": [
       "        auth_id\n",
       "ref_id         \n",
       "4             1\n",
       "15            1\n",
       "20            1\n",
       "21            1\n",
       "30            1\n",
       "...         ...\n",
       "11717         1\n",
       "11719         1\n",
       "11722         1\n",
       "11724         1\n",
       "11727         1\n",
       "\n",
       "[2993 rows x 1 columns]"
      ]
     },
     "execution_count": 49,
     "metadata": {},
     "output_type": "execute_result"
    }
   ],
   "source": [
    "red_count"
   ]
  },
  {
   "cell_type": "code",
   "execution_count": 50,
   "id": "5abcf943-c311-4d47-8a9b-ea004b02c436",
   "metadata": {},
   "outputs": [
    {
     "data": {
      "text/plain": [
       "<Axes: ylabel='Count'>"
      ]
     },
     "execution_count": 50,
     "metadata": {},
     "output_type": "execute_result"
    },
    {
     "data": {
      "image/png": "[encoded data removed]",
      "text/plain": [
       "<Figure size 640x480 with 1 Axes>"
      ]
     },
     "metadata": {},
     "output_type": "display_data"
    }
   ],
   "source": [
    "sns.histplot(red_count)"
   ]
  },
  {
   "cell_type": "code",
   "execution_count": 51,
   "id": "70b06d19-a136-43c1-9ff2-7954ef5e99bc",
   "metadata": {},
   "outputs": [],
   "source": [
    "red_count2 = red_count.reset_index()"
   ]
  },
  {
   "cell_type": "code",
   "execution_count": 55,
   "id": "751670bd-fb7c-424c-b874-1b8a8cfb9449",
   "metadata": {},
   "outputs": [
    {
     "data": {
      "text/html": [
       "<div>\n",
       "<style scoped>\n",
       "    .dataframe tbody tr th:only-of-type {\n",
       "        vertical-align: middle;\n",
       "    }\n",
       "\n",
       "    .dataframe tbody tr th {\n",
       "        vertical-align: top;\n",
       "    }\n",
       "\n",
       "    .dataframe thead th {\n",
       "        text-align: right;\n",
       "    }\n",
       "</style>\n",
       "<table border=\"1\" class=\"dataframe\">\n",
       "  <thead>\n",
       "    <tr style=\"text-align: right;\">\n",
       "      <th></th>\n",
       "      <th>ref_id</th>\n",
       "      <th>auth_id</th>\n",
       "    </tr>\n",
       "  </thead>\n",
       "  <tbody>\n",
       "    <tr>\n",
       "      <th>46</th>\n",
       "      <td>299</td>\n",
       "      <td>26</td>\n",
       "    </tr>\n",
       "    <tr>\n",
       "      <th>185</th>\n",
       "      <td>917</td>\n",
       "      <td>26</td>\n",
       "    </tr>\n",
       "  </tbody>\n",
       "</table>\n",
       "</div>"
      ],
      "text/plain": [
       "     ref_id  auth_id\n",
       "46      299       26\n",
       "185     917       26"
      ]
     },
     "execution_count": 55,
     "metadata": {},
     "output_type": "execute_result"
    }
   ],
   "source": [
    "red_count2.loc[red_count2.auth_id > 20, :]"
   ]
  },
  {
   "cell_type": "code",
   "execution_count": 56,
   "id": "87b656f3-6b0e-44b8-ad90-c7d18918adc7",
   "metadata": {},
   "outputs": [],
   "source": [
    "## Target search\n",
    "#if we can find the key word in the string, the function will return 0, or we will get -1"
   ]
  },
  {
   "cell_type": "code",
   "execution_count": 58,
   "id": "03dbb1ae-c220-4278-94e0-2b8a586d516a",
   "metadata": {},
   "outputs": [
    {
     "data": {
      "text/plain": [
       "0        False\n",
       "1        False\n",
       "2        False\n",
       "3        False\n",
       "4        False\n",
       "         ...  \n",
       "11737    False\n",
       "11738    False\n",
       "11739    False\n",
       "11740    False\n",
       "11741    False\n",
       "Name: paper_title, Length: 11742, dtype: bool"
      ]
     },
     "execution_count": 58,
     "metadata": {},
     "output_type": "execute_result"
    }
   ],
   "source": [
    "author.paper_title.apply(lambda x: str(x).lower().find('deep learning') != -1)"
   ]
  },
  {
   "cell_type": "code",
   "execution_count": 59,
   "id": "c2743db2-ee82-4f0a-8309-68851495f4d8",
   "metadata": {},
   "outputs": [],
   "source": [
    "demo = 'deep learning kanems jhdkei hkkm'"
   ]
  },
  {
   "cell_type": "code",
   "execution_count": 62,
   "id": "e5820860-5e46-4ff8-bde4-df43812e1ae3",
   "metadata": {},
   "outputs": [],
   "source": [
    "demo2 = ''"
   ]
  },
  {
   "cell_type": "code",
   "execution_count": 63,
   "id": "220ff894-429d-4e8f-8401-5fd0a10e2469",
   "metadata": {},
   "outputs": [
    {
     "data": {
      "text/plain": [
       "0"
      ]
     },
     "execution_count": 63,
     "metadata": {},
     "output_type": "execute_result"
    }
   ],
   "source": [
    "demo.find('deep learning')"
   ]
  },
  {
   "cell_type": "code",
   "execution_count": 64,
   "id": "9c5e974e-9ab6-4e85-98e9-f46c22bc0740",
   "metadata": {},
   "outputs": [
    {
     "data": {
      "text/plain": [
       "-1"
      ]
     },
     "execution_count": 64,
     "metadata": {},
     "output_type": "execute_result"
    }
   ],
   "source": [
    "demo2.find('deep learning')"
   ]
  },
  {
   "cell_type": "code",
   "execution_count": 82,
   "id": "efa9848d-32c0-4009-807c-a9b774f1964d",
   "metadata": {},
   "outputs": [],
   "source": [
    "demo3 = 'deep learningjoajoisjoi'"
   ]
  },
  {
   "cell_type": "code",
   "execution_count": 87,
   "id": "0122df8a-6196-422a-9801-e4b83f33bd30",
   "metadata": {},
   "outputs": [
    {
     "data": {
      "text/plain": [
       "3"
      ]
     },
     "execution_count": 87,
     "metadata": {},
     "output_type": "execute_result"
    }
   ],
   "source": [
    "demo4.find('deep learning')"
   ]
  },
  {
   "cell_type": "code",
   "execution_count": 88,
   "id": "79c632b8-3802-49a8-be12-110272ea768a",
   "metadata": {},
   "outputs": [],
   "source": [
    "demo4 = 'kk deep learning'"
   ]
  },
  {
   "cell_type": "code",
   "execution_count": 78,
   "id": "70966d42-0046-4140-95e7-465b335a9663",
   "metadata": {},
   "outputs": [],
   "source": [
    "def count_paper_word(keyword):\n",
    "    have_key = author.paper_title.apply(lambda x: str(x).lower().find(keyword) != -1)\n",
    "    return author.loc[have_key, [\"family_name\", \"given_name\"]]"
   ]
  },
  {
   "cell_type": "code",
   "execution_count": 79,
   "id": "78cc85f0-efe5-4a0d-a01d-c061a9b923c0",
   "metadata": {},
   "outputs": [
    {
     "data": {
      "text/html": [
       "<div>\n",
       "<style scoped>\n",
       "    .dataframe tbody tr th:only-of-type {\n",
       "        vertical-align: middle;\n",
       "    }\n",
       "\n",
       "    .dataframe tbody tr th {\n",
       "        vertical-align: top;\n",
       "    }\n",
       "\n",
       "    .dataframe thead th {\n",
       "        text-align: right;\n",
       "    }\n",
       "</style>\n",
       "<table border=\"1\" class=\"dataframe\">\n",
       "  <thead>\n",
       "    <tr style=\"text-align: right;\">\n",
       "      <th></th>\n",
       "      <th>family_name</th>\n",
       "      <th>given_name</th>\n",
       "    </tr>\n",
       "  </thead>\n",
       "  <tbody>\n",
       "    <tr>\n",
       "      <th>61</th>\n",
       "      <td>Bethge</td>\n",
       "      <td>Matthias</td>\n",
       "    </tr>\n",
       "    <tr>\n",
       "      <th>62</th>\n",
       "      <td>Mathis</td>\n",
       "      <td>Mackenzie</td>\n",
       "    </tr>\n",
       "    <tr>\n",
       "      <th>63</th>\n",
       "      <td>Murthy</td>\n",
       "      <td>Venkatesh</td>\n",
       "    </tr>\n",
       "    <tr>\n",
       "      <th>64</th>\n",
       "      <td>Abe</td>\n",
       "      <td>Taiga</td>\n",
       "    </tr>\n",
       "    <tr>\n",
       "      <th>65</th>\n",
       "      <td>Cury</td>\n",
       "      <td>Kevin</td>\n",
       "    </tr>\n",
       "    <tr>\n",
       "      <th>...</th>\n",
       "      <td>...</td>\n",
       "      <td>...</td>\n",
       "    </tr>\n",
       "    <tr>\n",
       "      <th>4205</th>\n",
       "      <td>Harris</td>\n",
       "      <td>Nicholas</td>\n",
       "    </tr>\n",
       "    <tr>\n",
       "      <th>4206</th>\n",
       "      <td>Shen</td>\n",
       "      <td>Yichen</td>\n",
       "    </tr>\n",
       "    <tr>\n",
       "      <th>6930</th>\n",
       "      <td>Kundaje</td>\n",
       "      <td>Anshul</td>\n",
       "    </tr>\n",
       "    <tr>\n",
       "      <th>6931</th>\n",
       "      <td>Greenside</td>\n",
       "      <td>Peyton</td>\n",
       "    </tr>\n",
       "    <tr>\n",
       "      <th>6932</th>\n",
       "      <td>Shrikumar</td>\n",
       "      <td>Avanti</td>\n",
       "    </tr>\n",
       "  </tbody>\n",
       "</table>\n",
       "<p>84 rows × 2 columns</p>\n",
       "</div>"
      ],
      "text/plain": [
       "     family_name given_name\n",
       "61        Bethge   Matthias\n",
       "62        Mathis  Mackenzie\n",
       "63        Murthy  Venkatesh\n",
       "64           Abe      Taiga\n",
       "65          Cury      Kevin\n",
       "...          ...        ...\n",
       "4205      Harris   Nicholas\n",
       "4206        Shen     Yichen\n",
       "6930     Kundaje     Anshul\n",
       "6931   Greenside     Peyton\n",
       "6932   Shrikumar     Avanti\n",
       "\n",
       "[84 rows x 2 columns]"
      ]
     },
     "execution_count": 79,
     "metadata": {},
     "output_type": "execute_result"
    }
   ],
   "source": [
    "count_paper_word('deep learning')"
   ]
  },
  {
   "cell_type": "code",
   "execution_count": 89,
   "id": "1dfdec6a-5b14-47f7-8e16-b99ef139a30b",
   "metadata": {},
   "outputs": [],
   "source": [
    "test = count_paper_word('deep learning')"
   ]
  },
  {
   "cell_type": "code",
   "execution_count": 90,
   "id": "b7ab3468-143a-4daf-b29c-0b6a1c9e4a2d",
   "metadata": {},
   "outputs": [
    {
     "data": {
      "text/plain": [
       "(84, 2)"
      ]
     },
     "execution_count": 90,
     "metadata": {},
     "output_type": "execute_result"
    }
   ],
   "source": [
    "test.shape"
   ]
  },
  {
   "cell_type": "code",
   "execution_count": 92,
   "id": "2619e25b-510b-44be-897f-2ff32af111a1",
   "metadata": {},
   "outputs": [
    {
     "data": {
      "text/plain": [
       "(511, 2)"
      ]
     },
     "execution_count": 92,
     "metadata": {},
     "output_type": "execute_result"
    }
   ],
   "source": [
    "count_paper_word('bayesian').shape"
   ]
  },
  {
   "cell_type": "code",
   "execution_count": null,
   "id": "2129a01e-14c7-4f6a-a4b3-147cfeecceaf",
   "metadata": {},
   "outputs": [],
   "source": []
  },
  {
   "cell_type": "code",
   "execution_count": 93,
   "id": "c21f4706-3c88-41d7-bc7a-efff24240ddd",
   "metadata": {},
   "outputs": [],
   "source": [
    "## Joining the data"
   ]
  },
  {
   "cell_type": "code",
   "execution_count": 108,
   "id": "ad0b67fa-ca11-4146-9169-2e9cf6c578c4",
   "metadata": {},
   "outputs": [],
   "source": [
    "auth_cnt2 = author.loc[:, ['paper_id', 'author_id']].drop_duplicates().groupby('paper_id').count()"
   ]
  },
  {
   "cell_type": "code",
   "execution_count": 109,
   "id": "05394a1d-d9eb-4611-b50a-fcd539531416",
   "metadata": {},
   "outputs": [
    {
     "data": {
      "text/html": [
       "<div>\n",
       "<style scoped>\n",
       "    .dataframe tbody tr th:only-of-type {\n",
       "        vertical-align: middle;\n",
       "    }\n",
       "\n",
       "    .dataframe tbody tr th {\n",
       "        vertical-align: top;\n",
       "    }\n",
       "\n",
       "    .dataframe thead th {\n",
       "        text-align: right;\n",
       "    }\n",
       "</style>\n",
       "<table border=\"1\" class=\"dataframe\">\n",
       "  <thead>\n",
       "    <tr style=\"text-align: right;\">\n",
       "      <th></th>\n",
       "      <th>paper_id</th>\n",
       "      <th>author_id</th>\n",
       "    </tr>\n",
       "  </thead>\n",
       "  <tbody>\n",
       "    <tr>\n",
       "      <th>0</th>\n",
       "      <td>4</td>\n",
       "      <td>2</td>\n",
       "    </tr>\n",
       "    <tr>\n",
       "      <th>1</th>\n",
       "      <td>15</td>\n",
       "      <td>5</td>\n",
       "    </tr>\n",
       "    <tr>\n",
       "      <th>2</th>\n",
       "      <td>20</td>\n",
       "      <td>6</td>\n",
       "    </tr>\n",
       "    <tr>\n",
       "      <th>3</th>\n",
       "      <td>21</td>\n",
       "      <td>1</td>\n",
       "    </tr>\n",
       "    <tr>\n",
       "      <th>4</th>\n",
       "      <td>30</td>\n",
       "      <td>10</td>\n",
       "    </tr>\n",
       "    <tr>\n",
       "      <th>...</th>\n",
       "      <td>...</td>\n",
       "      <td>...</td>\n",
       "    </tr>\n",
       "    <tr>\n",
       "      <th>3044</th>\n",
       "      <td>11717</td>\n",
       "      <td>2</td>\n",
       "    </tr>\n",
       "    <tr>\n",
       "      <th>3045</th>\n",
       "      <td>11719</td>\n",
       "      <td>5</td>\n",
       "    </tr>\n",
       "    <tr>\n",
       "      <th>3046</th>\n",
       "      <td>11722</td>\n",
       "      <td>1</td>\n",
       "    </tr>\n",
       "    <tr>\n",
       "      <th>3047</th>\n",
       "      <td>11724</td>\n",
       "      <td>2</td>\n",
       "    </tr>\n",
       "    <tr>\n",
       "      <th>3048</th>\n",
       "      <td>11727</td>\n",
       "      <td>4</td>\n",
       "    </tr>\n",
       "  </tbody>\n",
       "</table>\n",
       "<p>3049 rows × 2 columns</p>\n",
       "</div>"
      ],
      "text/plain": [
       "      paper_id  author_id\n",
       "0            4          2\n",
       "1           15          5\n",
       "2           20          6\n",
       "3           21          1\n",
       "4           30         10\n",
       "...        ...        ...\n",
       "3044     11717          2\n",
       "3045     11719          5\n",
       "3046     11722          1\n",
       "3047     11724          2\n",
       "3048     11727          4\n",
       "\n",
       "[3049 rows x 2 columns]"
      ]
     },
     "execution_count": 109,
     "metadata": {},
     "output_type": "execute_result"
    }
   ],
   "source": [
    "auth_cnt2.reset_index()"
   ]
  },
  {
   "cell_type": "code",
   "execution_count": 158,
   "id": "3f4d4e96-3e06-475a-b45d-3d3963bf8590",
   "metadata": {},
   "outputs": [],
   "source": [
    "auth_cnt2.rename(columns = {\"author_id\": \"auth_count\"}, inplace = True)"
   ]
  },
  {
   "cell_type": "code",
   "execution_count": 159,
   "id": "d8dc471a-692b-43ba-a4b2-38e1e08f8bec",
   "metadata": {},
   "outputs": [],
   "source": [
    "auth_cnt2 = auth_cnt2.reset_index()"
   ]
  },
  {
   "cell_type": "code",
   "execution_count": 160,
   "id": "85c69fc3-8b93-4411-8e4f-d2adbc2fef20",
   "metadata": {},
   "outputs": [
    {
     "data": {
      "text/html": [
       "<div>\n",
       "<style scoped>\n",
       "    .dataframe tbody tr th:only-of-type {\n",
       "        vertical-align: middle;\n",
       "    }\n",
       "\n",
       "    .dataframe tbody tr th {\n",
       "        vertical-align: top;\n",
       "    }\n",
       "\n",
       "    .dataframe thead th {\n",
       "        text-align: right;\n",
       "    }\n",
       "</style>\n",
       "<table border=\"1\" class=\"dataframe\">\n",
       "  <thead>\n",
       "    <tr style=\"text-align: right;\">\n",
       "      <th></th>\n",
       "      <th>index</th>\n",
       "      <th>paper_id</th>\n",
       "      <th>auth_count</th>\n",
       "    </tr>\n",
       "  </thead>\n",
       "  <tbody>\n",
       "    <tr>\n",
       "      <th>0</th>\n",
       "      <td>0</td>\n",
       "      <td>4</td>\n",
       "      <td>2</td>\n",
       "    </tr>\n",
       "    <tr>\n",
       "      <th>1</th>\n",
       "      <td>1</td>\n",
       "      <td>15</td>\n",
       "      <td>5</td>\n",
       "    </tr>\n",
       "    <tr>\n",
       "      <th>2</th>\n",
       "      <td>2</td>\n",
       "      <td>20</td>\n",
       "      <td>6</td>\n",
       "    </tr>\n",
       "    <tr>\n",
       "      <th>3</th>\n",
       "      <td>3</td>\n",
       "      <td>21</td>\n",
       "      <td>1</td>\n",
       "    </tr>\n",
       "    <tr>\n",
       "      <th>4</th>\n",
       "      <td>4</td>\n",
       "      <td>30</td>\n",
       "      <td>10</td>\n",
       "    </tr>\n",
       "    <tr>\n",
       "      <th>...</th>\n",
       "      <td>...</td>\n",
       "      <td>...</td>\n",
       "      <td>...</td>\n",
       "    </tr>\n",
       "    <tr>\n",
       "      <th>3044</th>\n",
       "      <td>3044</td>\n",
       "      <td>11717</td>\n",
       "      <td>2</td>\n",
       "    </tr>\n",
       "    <tr>\n",
       "      <th>3045</th>\n",
       "      <td>3045</td>\n",
       "      <td>11719</td>\n",
       "      <td>5</td>\n",
       "    </tr>\n",
       "    <tr>\n",
       "      <th>3046</th>\n",
       "      <td>3046</td>\n",
       "      <td>11722</td>\n",
       "      <td>1</td>\n",
       "    </tr>\n",
       "    <tr>\n",
       "      <th>3047</th>\n",
       "      <td>3047</td>\n",
       "      <td>11724</td>\n",
       "      <td>2</td>\n",
       "    </tr>\n",
       "    <tr>\n",
       "      <th>3048</th>\n",
       "      <td>3048</td>\n",
       "      <td>11727</td>\n",
       "      <td>4</td>\n",
       "    </tr>\n",
       "  </tbody>\n",
       "</table>\n",
       "<p>3049 rows × 3 columns</p>\n",
       "</div>"
      ],
      "text/plain": [
       "      index  paper_id  auth_count\n",
       "0         0         4           2\n",
       "1         1        15           5\n",
       "2         2        20           6\n",
       "3         3        21           1\n",
       "4         4        30          10\n",
       "...     ...       ...         ...\n",
       "3044   3044     11717           2\n",
       "3045   3045     11719           5\n",
       "3046   3046     11722           1\n",
       "3047   3047     11724           2\n",
       "3048   3048     11727           4\n",
       "\n",
       "[3049 rows x 3 columns]"
      ]
     },
     "execution_count": 160,
     "metadata": {},
     "output_type": "execute_result"
    }
   ],
   "source": [
    "auth_cnt2"
   ]
  },
  {
   "cell_type": "code",
   "execution_count": 161,
   "id": "e2395152-f455-4aa4-a368-227d7708d7bd",
   "metadata": {},
   "outputs": [
    {
     "data": {
      "text/html": [
       "<div>\n",
       "<style scoped>\n",
       "    .dataframe tbody tr th:only-of-type {\n",
       "        vertical-align: middle;\n",
       "    }\n",
       "\n",
       "    .dataframe tbody tr th {\n",
       "        vertical-align: top;\n",
       "    }\n",
       "\n",
       "    .dataframe thead th {\n",
       "        text-align: right;\n",
       "    }\n",
       "</style>\n",
       "<table border=\"1\" class=\"dataframe\">\n",
       "  <thead>\n",
       "    <tr style=\"text-align: right;\">\n",
       "      <th></th>\n",
       "      <th>Unnamed: 0</th>\n",
       "      <th>author_id</th>\n",
       "      <th>given_name</th>\n",
       "      <th>family_name</th>\n",
       "      <th>middle_name</th>\n",
       "      <th>paper_id</th>\n",
       "      <th>paper_title</th>\n",
       "    </tr>\n",
       "  </thead>\n",
       "  <tbody>\n",
       "    <tr>\n",
       "      <th>0</th>\n",
       "      <td>0</td>\n",
       "      <td>2</td>\n",
       "      <td>S</td>\n",
       "      <td>Rahmann</td>\n",
       "      <td>NaN</td>\n",
       "      <td>4</td>\n",
       "      <td>Snakemake--a scalable bioinformatics workflow ...</td>\n",
       "    </tr>\n",
       "    <tr>\n",
       "      <th>1</th>\n",
       "      <td>1</td>\n",
       "      <td>1678</td>\n",
       "      <td>J</td>\n",
       "      <td>Koster</td>\n",
       "      <td>NaN</td>\n",
       "      <td>4</td>\n",
       "      <td>Snakemake--a scalable bioinformatics workflow ...</td>\n",
       "    </tr>\n",
       "    <tr>\n",
       "      <th>2</th>\n",
       "      <td>2</td>\n",
       "      <td>109</td>\n",
       "      <td>Victoria</td>\n",
       "      <td>Stodden</td>\n",
       "      <td>NaN</td>\n",
       "      <td>15</td>\n",
       "      <td>Scientific tests and continuous integration st...</td>\n",
       "    </tr>\n",
       "    <tr>\n",
       "      <th>3</th>\n",
       "      <td>3</td>\n",
       "      <td>14</td>\n",
       "      <td>Darko</td>\n",
       "      <td>Marinov</td>\n",
       "      <td>NaN</td>\n",
       "      <td>15</td>\n",
       "      <td>Scientific tests and continuous integration st...</td>\n",
       "    </tr>\n",
       "    <tr>\n",
       "      <th>4</th>\n",
       "      <td>4</td>\n",
       "      <td>12</td>\n",
       "      <td>Adhithya</td>\n",
       "      <td>Bhaskar</td>\n",
       "      <td>NaN</td>\n",
       "      <td>15</td>\n",
       "      <td>Scientific tests and continuous integration st...</td>\n",
       "    </tr>\n",
       "  </tbody>\n",
       "</table>\n",
       "</div>"
      ],
      "text/plain": [
       "   Unnamed: 0  author_id given_name family_name middle_name  paper_id  \\\n",
       "0           0          2          S     Rahmann         NaN         4   \n",
       "1           1       1678          J      Koster         NaN         4   \n",
       "2           2        109   Victoria     Stodden         NaN        15   \n",
       "3           3         14      Darko     Marinov         NaN        15   \n",
       "4           4         12   Adhithya     Bhaskar         NaN        15   \n",
       "\n",
       "                                         paper_title  \n",
       "0  Snakemake--a scalable bioinformatics workflow ...  \n",
       "1  Snakemake--a scalable bioinformatics workflow ...  \n",
       "2  Scientific tests and continuous integration st...  \n",
       "3  Scientific tests and continuous integration st...  \n",
       "4  Scientific tests and continuous integration st...  "
      ]
     },
     "execution_count": 161,
     "metadata": {},
     "output_type": "execute_result"
    }
   ],
   "source": [
    "author.head()"
   ]
  },
  {
   "cell_type": "code",
   "execution_count": 162,
   "id": "b178742b-ab77-40ea-ab85-31f4a7ee1e42",
   "metadata": {},
   "outputs": [],
   "source": [
    "## if a paper has more authors, does it likely have more references?"
   ]
  },
  {
   "cell_type": "code",
   "execution_count": 167,
   "id": "d9426522-1151-42e5-a52b-38d95d24be7e",
   "metadata": {},
   "outputs": [],
   "source": [
    "auth_num = author.loc[:, ['author_id', 'paper_id']].drop_duplicates().groupby('paper_id').count()"
   ]
  },
  {
   "cell_type": "code",
   "execution_count": 168,
   "id": "cdda65ef-60b5-49cb-a957-48df7f9c82c0",
   "metadata": {},
   "outputs": [],
   "source": [
    "auth_num = auth_num.reset_index()"
   ]
  },
  {
   "cell_type": "code",
   "execution_count": 169,
   "id": "d5d796ac-c230-4396-bae3-7db9b751614a",
   "metadata": {},
   "outputs": [
    {
     "data": {
      "text/html": [
       "<div>\n",
       "<style scoped>\n",
       "    .dataframe tbody tr th:only-of-type {\n",
       "        vertical-align: middle;\n",
       "    }\n",
       "\n",
       "    .dataframe tbody tr th {\n",
       "        vertical-align: top;\n",
       "    }\n",
       "\n",
       "    .dataframe thead th {\n",
       "        text-align: right;\n",
       "    }\n",
       "</style>\n",
       "<table border=\"1\" class=\"dataframe\">\n",
       "  <thead>\n",
       "    <tr style=\"text-align: right;\">\n",
       "      <th></th>\n",
       "      <th>paper_id</th>\n",
       "      <th>author_id</th>\n",
       "    </tr>\n",
       "  </thead>\n",
       "  <tbody>\n",
       "    <tr>\n",
       "      <th>0</th>\n",
       "      <td>4</td>\n",
       "      <td>2</td>\n",
       "    </tr>\n",
       "    <tr>\n",
       "      <th>1</th>\n",
       "      <td>15</td>\n",
       "      <td>5</td>\n",
       "    </tr>\n",
       "    <tr>\n",
       "      <th>2</th>\n",
       "      <td>20</td>\n",
       "      <td>6</td>\n",
       "    </tr>\n",
       "    <tr>\n",
       "      <th>3</th>\n",
       "      <td>21</td>\n",
       "      <td>1</td>\n",
       "    </tr>\n",
       "    <tr>\n",
       "      <th>4</th>\n",
       "      <td>30</td>\n",
       "      <td>10</td>\n",
       "    </tr>\n",
       "    <tr>\n",
       "      <th>...</th>\n",
       "      <td>...</td>\n",
       "      <td>...</td>\n",
       "    </tr>\n",
       "    <tr>\n",
       "      <th>3044</th>\n",
       "      <td>11717</td>\n",
       "      <td>2</td>\n",
       "    </tr>\n",
       "    <tr>\n",
       "      <th>3045</th>\n",
       "      <td>11719</td>\n",
       "      <td>5</td>\n",
       "    </tr>\n",
       "    <tr>\n",
       "      <th>3046</th>\n",
       "      <td>11722</td>\n",
       "      <td>1</td>\n",
       "    </tr>\n",
       "    <tr>\n",
       "      <th>3047</th>\n",
       "      <td>11724</td>\n",
       "      <td>2</td>\n",
       "    </tr>\n",
       "    <tr>\n",
       "      <th>3048</th>\n",
       "      <td>11727</td>\n",
       "      <td>4</td>\n",
       "    </tr>\n",
       "  </tbody>\n",
       "</table>\n",
       "<p>3049 rows × 2 columns</p>\n",
       "</div>"
      ],
      "text/plain": [
       "      paper_id  author_id\n",
       "0            4          2\n",
       "1           15          5\n",
       "2           20          6\n",
       "3           21          1\n",
       "4           30         10\n",
       "...        ...        ...\n",
       "3044     11717          2\n",
       "3045     11719          5\n",
       "3046     11722          1\n",
       "3047     11724          2\n",
       "3048     11727          4\n",
       "\n",
       "[3049 rows x 2 columns]"
      ]
     },
     "execution_count": 169,
     "metadata": {},
     "output_type": "execute_result"
    }
   ],
   "source": [
    "auth_num"
   ]
  },
  {
   "cell_type": "code",
   "execution_count": 172,
   "id": "54edf63c-9401-42c5-a889-86b497f6cbe6",
   "metadata": {},
   "outputs": [],
   "source": [
    "auth_num.rename(columns = {\"author_id\": \"auth_count\"}, inplace=True)"
   ]
  },
  {
   "cell_type": "code",
   "execution_count": 173,
   "id": "f0af587b-b214-4588-badc-27829fe1c6ad",
   "metadata": {},
   "outputs": [
    {
     "data": {
      "text/html": [
       "<div>\n",
       "<style scoped>\n",
       "    .dataframe tbody tr th:only-of-type {\n",
       "        vertical-align: middle;\n",
       "    }\n",
       "\n",
       "    .dataframe tbody tr th {\n",
       "        vertical-align: top;\n",
       "    }\n",
       "\n",
       "    .dataframe thead th {\n",
       "        text-align: right;\n",
       "    }\n",
       "</style>\n",
       "<table border=\"1\" class=\"dataframe\">\n",
       "  <thead>\n",
       "    <tr style=\"text-align: right;\">\n",
       "      <th></th>\n",
       "      <th>paper_id</th>\n",
       "      <th>auth_count</th>\n",
       "    </tr>\n",
       "  </thead>\n",
       "  <tbody>\n",
       "    <tr>\n",
       "      <th>0</th>\n",
       "      <td>4</td>\n",
       "      <td>2</td>\n",
       "    </tr>\n",
       "    <tr>\n",
       "      <th>1</th>\n",
       "      <td>15</td>\n",
       "      <td>5</td>\n",
       "    </tr>\n",
       "    <tr>\n",
       "      <th>2</th>\n",
       "      <td>20</td>\n",
       "      <td>6</td>\n",
       "    </tr>\n",
       "    <tr>\n",
       "      <th>3</th>\n",
       "      <td>21</td>\n",
       "      <td>1</td>\n",
       "    </tr>\n",
       "    <tr>\n",
       "      <th>4</th>\n",
       "      <td>30</td>\n",
       "      <td>10</td>\n",
       "    </tr>\n",
       "    <tr>\n",
       "      <th>...</th>\n",
       "      <td>...</td>\n",
       "      <td>...</td>\n",
       "    </tr>\n",
       "    <tr>\n",
       "      <th>3044</th>\n",
       "      <td>11717</td>\n",
       "      <td>2</td>\n",
       "    </tr>\n",
       "    <tr>\n",
       "      <th>3045</th>\n",
       "      <td>11719</td>\n",
       "      <td>5</td>\n",
       "    </tr>\n",
       "    <tr>\n",
       "      <th>3046</th>\n",
       "      <td>11722</td>\n",
       "      <td>1</td>\n",
       "    </tr>\n",
       "    <tr>\n",
       "      <th>3047</th>\n",
       "      <td>11724</td>\n",
       "      <td>2</td>\n",
       "    </tr>\n",
       "    <tr>\n",
       "      <th>3048</th>\n",
       "      <td>11727</td>\n",
       "      <td>4</td>\n",
       "    </tr>\n",
       "  </tbody>\n",
       "</table>\n",
       "<p>3049 rows × 2 columns</p>\n",
       "</div>"
      ],
      "text/plain": [
       "      paper_id  auth_count\n",
       "0            4           2\n",
       "1           15           5\n",
       "2           20           6\n",
       "3           21           1\n",
       "4           30          10\n",
       "...        ...         ...\n",
       "3044     11717           2\n",
       "3045     11719           5\n",
       "3046     11722           1\n",
       "3047     11724           2\n",
       "3048     11727           4\n",
       "\n",
       "[3049 rows x 2 columns]"
      ]
     },
     "execution_count": 173,
     "metadata": {},
     "output_type": "execute_result"
    }
   ],
   "source": [
    "auth_num"
   ]
  },
  {
   "cell_type": "code",
   "execution_count": 174,
   "id": "a8a1f904-e512-42ed-a64c-ca50f1932c76",
   "metadata": {},
   "outputs": [
    {
     "data": {
      "text/html": [
       "<div>\n",
       "<style scoped>\n",
       "    .dataframe tbody tr th:only-of-type {\n",
       "        vertical-align: middle;\n",
       "    }\n",
       "\n",
       "    .dataframe tbody tr th {\n",
       "        vertical-align: top;\n",
       "    }\n",
       "\n",
       "    .dataframe thead th {\n",
       "        text-align: right;\n",
       "    }\n",
       "</style>\n",
       "<table border=\"1\" class=\"dataframe\">\n",
       "  <thead>\n",
       "    <tr style=\"text-align: right;\">\n",
       "      <th></th>\n",
       "      <th>Unnamed: 0</th>\n",
       "      <th>auth_id</th>\n",
       "      <th>auth_title</th>\n",
       "      <th>ref_id</th>\n",
       "      <th>ref_title</th>\n",
       "    </tr>\n",
       "  </thead>\n",
       "  <tbody>\n",
       "    <tr>\n",
       "      <th>0</th>\n",
       "      <td>0</td>\n",
       "      <td>20</td>\n",
       "      <td>Nonlinear evolution via spatially-dependent li...</td>\n",
       "      <td>278</td>\n",
       "      <td>Penalized matrix decomposition for denoising, ...</td>\n",
       "    </tr>\n",
       "    <tr>\n",
       "      <th>1</th>\n",
       "      <td>1</td>\n",
       "      <td>20</td>\n",
       "      <td>Nonlinear evolution via spatially-dependent li...</td>\n",
       "      <td>1392</td>\n",
       "      <td>Resting-state hemodynamics are spatiotemporall...</td>\n",
       "    </tr>\n",
       "    <tr>\n",
       "      <th>2</th>\n",
       "      <td>2</td>\n",
       "      <td>20</td>\n",
       "      <td>Nonlinear evolution via spatially-dependent li...</td>\n",
       "      <td>1498</td>\n",
       "      <td>Wide-field optical mapping of neural activity ...</td>\n",
       "    </tr>\n",
       "    <tr>\n",
       "      <th>3</th>\n",
       "      <td>3</td>\n",
       "      <td>20</td>\n",
       "      <td>Nonlinear evolution via spatially-dependent li...</td>\n",
       "      <td>2445</td>\n",
       "      <td>A quantitative description of membrane current...</td>\n",
       "    </tr>\n",
       "    <tr>\n",
       "      <th>4</th>\n",
       "      <td>4</td>\n",
       "      <td>20</td>\n",
       "      <td>Nonlinear evolution via spatially-dependent li...</td>\n",
       "      <td>2442</td>\n",
       "      <td>An orderly single-trial organization of popula...</td>\n",
       "    </tr>\n",
       "  </tbody>\n",
       "</table>\n",
       "</div>"
      ],
      "text/plain": [
       "   Unnamed: 0  auth_id                                         auth_title  \\\n",
       "0           0       20  Nonlinear evolution via spatially-dependent li...   \n",
       "1           1       20  Nonlinear evolution via spatially-dependent li...   \n",
       "2           2       20  Nonlinear evolution via spatially-dependent li...   \n",
       "3           3       20  Nonlinear evolution via spatially-dependent li...   \n",
       "4           4       20  Nonlinear evolution via spatially-dependent li...   \n",
       "\n",
       "   ref_id                                          ref_title  \n",
       "0     278  Penalized matrix decomposition for denoising, ...  \n",
       "1    1392  Resting-state hemodynamics are spatiotemporall...  \n",
       "2    1498  Wide-field optical mapping of neural activity ...  \n",
       "3    2445  A quantitative description of membrane current...  \n",
       "4    2442  An orderly single-trial organization of popula...  "
      ]
     },
     "execution_count": 174,
     "metadata": {},
     "output_type": "execute_result"
    }
   ],
   "source": [
    "paper.head()"
   ]
  },
  {
   "cell_type": "code",
   "execution_count": 127,
   "id": "e9a41fa2-2e09-499d-b4a4-7d19310d0a36",
   "metadata": {},
   "outputs": [],
   "source": [
    "ref_num = paper.loc[:, ['auth_id', 'ref_id']].drop_duplicates().groupby('auth_id').count()"
   ]
  },
  {
   "cell_type": "code",
   "execution_count": 128,
   "id": "ea309041-7000-49c8-8816-d6d63d5ede1a",
   "metadata": {},
   "outputs": [
    {
     "data": {
      "text/html": [
       "<div>\n",
       "<style scoped>\n",
       "    .dataframe tbody tr th:only-of-type {\n",
       "        vertical-align: middle;\n",
       "    }\n",
       "\n",
       "    .dataframe tbody tr th {\n",
       "        vertical-align: top;\n",
       "    }\n",
       "\n",
       "    .dataframe thead th {\n",
       "        text-align: right;\n",
       "    }\n",
       "</style>\n",
       "<table border=\"1\" class=\"dataframe\">\n",
       "  <thead>\n",
       "    <tr style=\"text-align: right;\">\n",
       "      <th></th>\n",
       "      <th>ref_id</th>\n",
       "    </tr>\n",
       "    <tr>\n",
       "      <th>auth_id</th>\n",
       "      <th></th>\n",
       "    </tr>\n",
       "  </thead>\n",
       "  <tbody>\n",
       "    <tr>\n",
       "      <th>20</th>\n",
       "      <td>40</td>\n",
       "    </tr>\n",
       "    <tr>\n",
       "      <th>48</th>\n",
       "      <td>78</td>\n",
       "    </tr>\n",
       "    <tr>\n",
       "      <th>74</th>\n",
       "      <td>45</td>\n",
       "    </tr>\n",
       "    <tr>\n",
       "      <th>95</th>\n",
       "      <td>22</td>\n",
       "    </tr>\n",
       "    <tr>\n",
       "      <th>104</th>\n",
       "      <td>50</td>\n",
       "    </tr>\n",
       "    <tr>\n",
       "      <th>...</th>\n",
       "      <td>...</td>\n",
       "    </tr>\n",
       "    <tr>\n",
       "      <th>10888</th>\n",
       "      <td>50</td>\n",
       "    </tr>\n",
       "    <tr>\n",
       "      <th>11125</th>\n",
       "      <td>45</td>\n",
       "    </tr>\n",
       "    <tr>\n",
       "      <th>11222</th>\n",
       "      <td>52</td>\n",
       "    </tr>\n",
       "    <tr>\n",
       "      <th>11359</th>\n",
       "      <td>29</td>\n",
       "    </tr>\n",
       "    <tr>\n",
       "      <th>11636</th>\n",
       "      <td>51</td>\n",
       "    </tr>\n",
       "  </tbody>\n",
       "</table>\n",
       "<p>81 rows × 1 columns</p>\n",
       "</div>"
      ],
      "text/plain": [
       "         ref_id\n",
       "auth_id        \n",
       "20           40\n",
       "48           78\n",
       "74           45\n",
       "95           22\n",
       "104          50\n",
       "...         ...\n",
       "10888        50\n",
       "11125        45\n",
       "11222        52\n",
       "11359        29\n",
       "11636        51\n",
       "\n",
       "[81 rows x 1 columns]"
      ]
     },
     "execution_count": 128,
     "metadata": {},
     "output_type": "execute_result"
    }
   ],
   "source": [
    "ref_num"
   ]
  },
  {
   "cell_type": "code",
   "execution_count": 129,
   "id": "aa7faaeb-7fd8-4306-b0fb-edaf8e121174",
   "metadata": {},
   "outputs": [],
   "source": [
    "ref_num = ref_num.reset_index()"
   ]
  },
  {
   "cell_type": "code",
   "execution_count": 130,
   "id": "47b3aa8e-5fbb-4fad-979b-217a1e4e69fa",
   "metadata": {},
   "outputs": [
    {
     "data": {
      "text/html": [
       "<div>\n",
       "<style scoped>\n",
       "    .dataframe tbody tr th:only-of-type {\n",
       "        vertical-align: middle;\n",
       "    }\n",
       "\n",
       "    .dataframe tbody tr th {\n",
       "        vertical-align: top;\n",
       "    }\n",
       "\n",
       "    .dataframe thead th {\n",
       "        text-align: right;\n",
       "    }\n",
       "</style>\n",
       "<table border=\"1\" class=\"dataframe\">\n",
       "  <thead>\n",
       "    <tr style=\"text-align: right;\">\n",
       "      <th></th>\n",
       "      <th>auth_id</th>\n",
       "      <th>ref_id</th>\n",
       "    </tr>\n",
       "  </thead>\n",
       "  <tbody>\n",
       "    <tr>\n",
       "      <th>0</th>\n",
       "      <td>20</td>\n",
       "      <td>40</td>\n",
       "    </tr>\n",
       "    <tr>\n",
       "      <th>1</th>\n",
       "      <td>48</td>\n",
       "      <td>78</td>\n",
       "    </tr>\n",
       "    <tr>\n",
       "      <th>2</th>\n",
       "      <td>74</td>\n",
       "      <td>45</td>\n",
       "    </tr>\n",
       "    <tr>\n",
       "      <th>3</th>\n",
       "      <td>95</td>\n",
       "      <td>22</td>\n",
       "    </tr>\n",
       "    <tr>\n",
       "      <th>4</th>\n",
       "      <td>104</td>\n",
       "      <td>50</td>\n",
       "    </tr>\n",
       "    <tr>\n",
       "      <th>...</th>\n",
       "      <td>...</td>\n",
       "      <td>...</td>\n",
       "    </tr>\n",
       "    <tr>\n",
       "      <th>76</th>\n",
       "      <td>10888</td>\n",
       "      <td>50</td>\n",
       "    </tr>\n",
       "    <tr>\n",
       "      <th>77</th>\n",
       "      <td>11125</td>\n",
       "      <td>45</td>\n",
       "    </tr>\n",
       "    <tr>\n",
       "      <th>78</th>\n",
       "      <td>11222</td>\n",
       "      <td>52</td>\n",
       "    </tr>\n",
       "    <tr>\n",
       "      <th>79</th>\n",
       "      <td>11359</td>\n",
       "      <td>29</td>\n",
       "    </tr>\n",
       "    <tr>\n",
       "      <th>80</th>\n",
       "      <td>11636</td>\n",
       "      <td>51</td>\n",
       "    </tr>\n",
       "  </tbody>\n",
       "</table>\n",
       "<p>81 rows × 2 columns</p>\n",
       "</div>"
      ],
      "text/plain": [
       "    auth_id  ref_id\n",
       "0        20      40\n",
       "1        48      78\n",
       "2        74      45\n",
       "3        95      22\n",
       "4       104      50\n",
       "..      ...     ...\n",
       "76    10888      50\n",
       "77    11125      45\n",
       "78    11222      52\n",
       "79    11359      29\n",
       "80    11636      51\n",
       "\n",
       "[81 rows x 2 columns]"
      ]
     },
     "execution_count": 130,
     "metadata": {},
     "output_type": "execute_result"
    }
   ],
   "source": [
    "ref_num"
   ]
  },
  {
   "cell_type": "code",
   "execution_count": 176,
   "id": "db1f96b0-cf30-4db7-b769-aa8d7ad2536a",
   "metadata": {},
   "outputs": [],
   "source": [
    "ref_num.rename(columns = {'ref_id': 'ref_count'}, inplace = True)"
   ]
  },
  {
   "cell_type": "code",
   "execution_count": 177,
   "id": "96696df4-6a7e-415a-be72-0628078acbb3",
   "metadata": {},
   "outputs": [
    {
     "data": {
      "text/html": [
       "<div>\n",
       "<style scoped>\n",
       "    .dataframe tbody tr th:only-of-type {\n",
       "        vertical-align: middle;\n",
       "    }\n",
       "\n",
       "    .dataframe tbody tr th {\n",
       "        vertical-align: top;\n",
       "    }\n",
       "\n",
       "    .dataframe thead th {\n",
       "        text-align: right;\n",
       "    }\n",
       "</style>\n",
       "<table border=\"1\" class=\"dataframe\">\n",
       "  <thead>\n",
       "    <tr style=\"text-align: right;\">\n",
       "      <th></th>\n",
       "      <th>auth_id</th>\n",
       "      <th>ref_count</th>\n",
       "    </tr>\n",
       "  </thead>\n",
       "  <tbody>\n",
       "    <tr>\n",
       "      <th>0</th>\n",
       "      <td>20</td>\n",
       "      <td>40</td>\n",
       "    </tr>\n",
       "    <tr>\n",
       "      <th>1</th>\n",
       "      <td>48</td>\n",
       "      <td>78</td>\n",
       "    </tr>\n",
       "    <tr>\n",
       "      <th>2</th>\n",
       "      <td>74</td>\n",
       "      <td>45</td>\n",
       "    </tr>\n",
       "    <tr>\n",
       "      <th>3</th>\n",
       "      <td>95</td>\n",
       "      <td>22</td>\n",
       "    </tr>\n",
       "    <tr>\n",
       "      <th>4</th>\n",
       "      <td>104</td>\n",
       "      <td>50</td>\n",
       "    </tr>\n",
       "    <tr>\n",
       "      <th>...</th>\n",
       "      <td>...</td>\n",
       "      <td>...</td>\n",
       "    </tr>\n",
       "    <tr>\n",
       "      <th>76</th>\n",
       "      <td>10888</td>\n",
       "      <td>50</td>\n",
       "    </tr>\n",
       "    <tr>\n",
       "      <th>77</th>\n",
       "      <td>11125</td>\n",
       "      <td>45</td>\n",
       "    </tr>\n",
       "    <tr>\n",
       "      <th>78</th>\n",
       "      <td>11222</td>\n",
       "      <td>52</td>\n",
       "    </tr>\n",
       "    <tr>\n",
       "      <th>79</th>\n",
       "      <td>11359</td>\n",
       "      <td>29</td>\n",
       "    </tr>\n",
       "    <tr>\n",
       "      <th>80</th>\n",
       "      <td>11636</td>\n",
       "      <td>51</td>\n",
       "    </tr>\n",
       "  </tbody>\n",
       "</table>\n",
       "<p>81 rows × 2 columns</p>\n",
       "</div>"
      ],
      "text/plain": [
       "    auth_id  ref_count\n",
       "0        20         40\n",
       "1        48         78\n",
       "2        74         45\n",
       "3        95         22\n",
       "4       104         50\n",
       "..      ...        ...\n",
       "76    10888         50\n",
       "77    11125         45\n",
       "78    11222         52\n",
       "79    11359         29\n",
       "80    11636         51\n",
       "\n",
       "[81 rows x 2 columns]"
      ]
     },
     "execution_count": 177,
     "metadata": {},
     "output_type": "execute_result"
    }
   ],
   "source": [
    "ref_num"
   ]
  },
  {
   "cell_type": "code",
   "execution_count": 178,
   "id": "137ead25-f2ad-4e49-adef-4f8a47f22b01",
   "metadata": {},
   "outputs": [],
   "source": [
    "jdf = pd.merge(auth_num, ref_num, left_on = 'paper_id', right_on = 'auth_id')"
   ]
  },
  {
   "cell_type": "code",
   "execution_count": 179,
   "id": "73777d9e-c172-4959-9ae2-b264169ac80d",
   "metadata": {},
   "outputs": [
    {
     "data": {
      "text/html": [
       "<div>\n",
       "<style scoped>\n",
       "    .dataframe tbody tr th:only-of-type {\n",
       "        vertical-align: middle;\n",
       "    }\n",
       "\n",
       "    .dataframe tbody tr th {\n",
       "        vertical-align: top;\n",
       "    }\n",
       "\n",
       "    .dataframe thead th {\n",
       "        text-align: right;\n",
       "    }\n",
       "</style>\n",
       "<table border=\"1\" class=\"dataframe\">\n",
       "  <thead>\n",
       "    <tr style=\"text-align: right;\">\n",
       "      <th></th>\n",
       "      <th>paper_id</th>\n",
       "      <th>auth_count</th>\n",
       "      <th>auth_id</th>\n",
       "      <th>ref_count</th>\n",
       "    </tr>\n",
       "  </thead>\n",
       "  <tbody>\n",
       "    <tr>\n",
       "      <th>0</th>\n",
       "      <td>20</td>\n",
       "      <td>6</td>\n",
       "      <td>20</td>\n",
       "      <td>40</td>\n",
       "    </tr>\n",
       "    <tr>\n",
       "      <th>1</th>\n",
       "      <td>48</td>\n",
       "      <td>7</td>\n",
       "      <td>48</td>\n",
       "      <td>78</td>\n",
       "    </tr>\n",
       "    <tr>\n",
       "      <th>2</th>\n",
       "      <td>74</td>\n",
       "      <td>12</td>\n",
       "      <td>74</td>\n",
       "      <td>45</td>\n",
       "    </tr>\n",
       "    <tr>\n",
       "      <th>3</th>\n",
       "      <td>95</td>\n",
       "      <td>4</td>\n",
       "      <td>95</td>\n",
       "      <td>22</td>\n",
       "    </tr>\n",
       "    <tr>\n",
       "      <th>4</th>\n",
       "      <td>104</td>\n",
       "      <td>4</td>\n",
       "      <td>104</td>\n",
       "      <td>50</td>\n",
       "    </tr>\n",
       "    <tr>\n",
       "      <th>...</th>\n",
       "      <td>...</td>\n",
       "      <td>...</td>\n",
       "      <td>...</td>\n",
       "      <td>...</td>\n",
       "    </tr>\n",
       "    <tr>\n",
       "      <th>76</th>\n",
       "      <td>10888</td>\n",
       "      <td>3</td>\n",
       "      <td>10888</td>\n",
       "      <td>50</td>\n",
       "    </tr>\n",
       "    <tr>\n",
       "      <th>77</th>\n",
       "      <td>11125</td>\n",
       "      <td>3</td>\n",
       "      <td>11125</td>\n",
       "      <td>45</td>\n",
       "    </tr>\n",
       "    <tr>\n",
       "      <th>78</th>\n",
       "      <td>11222</td>\n",
       "      <td>4</td>\n",
       "      <td>11222</td>\n",
       "      <td>52</td>\n",
       "    </tr>\n",
       "    <tr>\n",
       "      <th>79</th>\n",
       "      <td>11359</td>\n",
       "      <td>4</td>\n",
       "      <td>11359</td>\n",
       "      <td>29</td>\n",
       "    </tr>\n",
       "    <tr>\n",
       "      <th>80</th>\n",
       "      <td>11636</td>\n",
       "      <td>2</td>\n",
       "      <td>11636</td>\n",
       "      <td>51</td>\n",
       "    </tr>\n",
       "  </tbody>\n",
       "</table>\n",
       "<p>81 rows × 4 columns</p>\n",
       "</div>"
      ],
      "text/plain": [
       "    paper_id  auth_count  auth_id  ref_count\n",
       "0         20           6       20         40\n",
       "1         48           7       48         78\n",
       "2         74          12       74         45\n",
       "3         95           4       95         22\n",
       "4        104           4      104         50\n",
       "..       ...         ...      ...        ...\n",
       "76     10888           3    10888         50\n",
       "77     11125           3    11125         45\n",
       "78     11222           4    11222         52\n",
       "79     11359           4    11359         29\n",
       "80     11636           2    11636         51\n",
       "\n",
       "[81 rows x 4 columns]"
      ]
     },
     "execution_count": 179,
     "metadata": {},
     "output_type": "execute_result"
    }
   ],
   "source": [
    "jdf"
   ]
  },
  {
   "cell_type": "code",
   "execution_count": 181,
   "id": "a2073e3b-34b1-42fe-89f5-d385383d3cdc",
   "metadata": {},
   "outputs": [
    {
     "data": {
      "text/plain": [
       "<Axes: xlabel='auth_count', ylabel='ref_count'>"
      ]
     },
     "execution_count": 181,
     "metadata": {},
     "output_type": "execute_result"
    },
    {
     "data": {
      "image/png": "[encoded data removed]",
      "text/plain": [
       "<Figure size 640x480 with 1 Axes>"
      ]
     },
     "metadata": {},
     "output_type": "display_data"
    }
   ],
   "source": [
    "import seaborn as sns\n",
    "\n",
    "sns.scatterplot(x = jdf.auth_count, y = jdf.ref_count)"
   ]
  },
  {
   "cell_type": "code",
   "execution_count": 182,
   "id": "be655ca9-de58-43c9-a9b2-6e04dcbef15f",
   "metadata": {},
   "outputs": [],
   "source": [
    "## do simulation"
   ]
  },
  {
   "cell_type": "code",
   "execution_count": 183,
   "id": "a7fff25b-181c-4d88-8ef0-10090c2ff480",
   "metadata": {},
   "outputs": [],
   "source": [
    "perm_outputs = []"
   ]
  },
  {
   "cell_type": "code",
   "execution_count": 186,
   "id": "37f66155-8934-40b9-89b4-dd3c71f0c787",
   "metadata": {},
   "outputs": [],
   "source": [
    "for i in range(2000):\n",
    "    perm_auth_num = np.random.choice(jdf.auth_count, size = jdf.shape[0])\n",
    "    perm_outputs.append(np.corrcoef(perm_auth_num, jdf.ref_count)[0, 1])"
   ]
  },
  {
   "cell_type": "code",
   "execution_count": 191,
   "id": "67239668-7965-45bb-a81f-1e3e76335ceb",
   "metadata": {},
   "outputs": [
    {
     "data": {
      "text/plain": [
       "<matplotlib.lines.Line2D at 0x11c54c1d0>"
      ]
     },
     "execution_count": 191,
     "metadata": {},
     "output_type": "execute_result"
    },
    {
     "data": {
      "image/png": "[encoded data removed]",
      "text/plain": [
       "<Figure size 640x480 with 1 Axes>"
      ]
     },
     "metadata": {},
     "output_type": "display_data"
    }
   ],
   "source": [
    "import seaborn as sns\n",
    "import matplotlib.pyplot as plt\n",
    "\n",
    "sns.histplot(perm_outputs)\n",
    "\n",
    "plt.axvline(x = np.corrcoef(jdf.ref_count, jdf.auth_count)[0, 1], color = 'yellow')"
   ]
  },
  {
   "cell_type": "code",
   "execution_count": null,
   "id": "54260ae9-e081-4d86-95be-94f3d24fcba4",
   "metadata": {},
   "outputs": [],
   "source": []
  }
 ],
 "metadata": {
  "kernelspec": {
   "display_name": "Python 3 (ipykernel)",
   "language": "python",
   "name": "python3"
  },
  "language_info": {
   "codemirror_mode": {
    "name": "ipython",
    "version": 3
   },
   "file_extension": ".py",
   "mimetype": "text/x-python",
   "name": "python",
   "nbconvert_exporter": "python",
   "pygments_lexer": "ipython3",
   "version": "3.11.1"
  }
 },
 "nbformat": 4,
 "nbformat_minor": 5
}
