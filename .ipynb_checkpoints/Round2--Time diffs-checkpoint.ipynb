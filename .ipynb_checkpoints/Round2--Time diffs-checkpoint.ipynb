{
 "cells": [
  {
   "cell_type": "code",
   "execution_count": 49,
   "id": "c2ee5474-8f3a-4242-8450-7f4d7d90321f",
   "metadata": {},
   "outputs": [],
   "source": [
    "import numpy as np"
   ]
  },
  {
   "cell_type": "code",
   "execution_count": 50,
   "id": "42d6bba9-5210-4459-b239-a948b7b282f7",
   "metadata": {},
   "outputs": [],
   "source": [
    "import pandas as pd\n",
    "from datetime import datetime"
   ]
  },
  {
   "cell_type": "code",
   "execution_count": 3,
   "id": "2cc3b03d-e47d-4f08-94f8-8a29f695ca0a",
   "metadata": {},
   "outputs": [],
   "source": [
    "data = pd.read_csv('nytimes_metadata.csv')"
   ]
  },
  {
   "cell_type": "code",
   "execution_count": 4,
   "id": "35944495-a134-4018-89f2-af7251fb6df6",
   "metadata": {},
   "outputs": [
    {
     "data": {
      "text/html": [
       "<div>\n",
       "<style scoped>\n",
       "    .dataframe tbody tr th:only-of-type {\n",
       "        vertical-align: middle;\n",
       "    }\n",
       "\n",
       "    .dataframe tbody tr th {\n",
       "        vertical-align: top;\n",
       "    }\n",
       "\n",
       "    .dataframe thead th {\n",
       "        text-align: right;\n",
       "    }\n",
       "</style>\n",
       "<table border=\"1\" class=\"dataframe\">\n",
       "  <thead>\n",
       "    <tr style=\"text-align: right;\">\n",
       "      <th></th>\n",
       "      <th>headline</th>\n",
       "      <th>word_count</th>\n",
       "      <th>author_count</th>\n",
       "      <th>lead_author</th>\n",
       "      <th>section</th>\n",
       "      <th>pub_date</th>\n",
       "    </tr>\n",
       "  </thead>\n",
       "  <tbody>\n",
       "    <tr>\n",
       "      <th>0</th>\n",
       "      <td>A Leak-Prone White House Finally Manages to Ke...</td>\n",
       "      <td>1341.0</td>\n",
       "      <td>1</td>\n",
       "      <td>M i c h a e l C r o w l e y</td>\n",
       "      <td>U.S.</td>\n",
       "      <td>2019-12-01T00:15:08+0000</td>\n",
       "    </tr>\n",
       "    <tr>\n",
       "      <th>1</th>\n",
       "      <td>Justin Fields Has ‘Heisman Moment’ in Ohio Sta...</td>\n",
       "      <td>727.0</td>\n",
       "      <td>1</td>\n",
       "      <td>J e f f A r n o l d</td>\n",
       "      <td>Sports</td>\n",
       "      <td>2019-12-01T00:33:57+0000</td>\n",
       "    </tr>\n",
       "    <tr>\n",
       "      <th>2</th>\n",
       "      <td>Mikaela Shiffrin Learns a New Way to Win: With...</td>\n",
       "      <td>762.0</td>\n",
       "      <td>1</td>\n",
       "      <td>B i l l P e n n i n g t o n</td>\n",
       "      <td>Sports</td>\n",
       "      <td>2019-12-01T00:37:15+0000</td>\n",
       "    </tr>\n",
       "    <tr>\n",
       "      <th>3</th>\n",
       "      <td>Leonardo DiCaprio Responds to Brazil’s Preside...</td>\n",
       "      <td>540.0</td>\n",
       "      <td>1</td>\n",
       "      <td>A i m e e O r t i z</td>\n",
       "      <td>World</td>\n",
       "      <td>2019-12-01T01:03:22+0000</td>\n",
       "    </tr>\n",
       "    <tr>\n",
       "      <th>4</th>\n",
       "      <td>Cooking Grease Down a Drain Eyed in Sewage Flo...</td>\n",
       "      <td>781.0</td>\n",
       "      <td>2</td>\n",
       "      <td>N e i l V i g d o r</td>\n",
       "      <td>New York</td>\n",
       "      <td>2019-12-01T01:47:35+0000</td>\n",
       "    </tr>\n",
       "  </tbody>\n",
       "</table>\n",
       "</div>"
      ],
      "text/plain": [
       "                                            headline  word_count  \\\n",
       "0  A Leak-Prone White House Finally Manages to Ke...      1341.0   \n",
       "1  Justin Fields Has ‘Heisman Moment’ in Ohio Sta...       727.0   \n",
       "2  Mikaela Shiffrin Learns a New Way to Win: With...       762.0   \n",
       "3  Leonardo DiCaprio Responds to Brazil’s Preside...       540.0   \n",
       "4  Cooking Grease Down a Drain Eyed in Sewage Flo...       781.0   \n",
       "\n",
       "   author_count                  lead_author   section  \\\n",
       "0             1  M i c h a e l C r o w l e y      U.S.   \n",
       "1             1          J e f f A r n o l d    Sports   \n",
       "2             1  B i l l P e n n i n g t o n    Sports   \n",
       "3             1          A i m e e O r t i z     World   \n",
       "4             2          N e i l V i g d o r  New York   \n",
       "\n",
       "                   pub_date  \n",
       "0  2019-12-01T00:15:08+0000  \n",
       "1  2019-12-01T00:33:57+0000  \n",
       "2  2019-12-01T00:37:15+0000  \n",
       "3  2019-12-01T01:03:22+0000  \n",
       "4  2019-12-01T01:47:35+0000  "
      ]
     },
     "execution_count": 4,
     "metadata": {},
     "output_type": "execute_result"
    }
   ],
   "source": [
    "data.head()"
   ]
  },
  {
   "cell_type": "code",
   "execution_count": 6,
   "id": "f2426c26-9b2f-4099-bbd8-d179ceae35ff",
   "metadata": {},
   "outputs": [
    {
     "data": {
      "text/plain": [
       "'J e f f A r n o l d'"
      ]
     },
     "execution_count": 6,
     "metadata": {},
     "output_type": "execute_result"
    }
   ],
   "source": [
    "data.lead_author.iloc[1]"
   ]
  },
  {
   "cell_type": "code",
   "execution_count": 7,
   "id": "1c808092-bbb6-4f2d-9ebd-f9b4cc06c78b",
   "metadata": {},
   "outputs": [],
   "source": [
    "data.lead_author = data.lead_author.apply(lambda x: str(x).replace(' ', ''))"
   ]
  },
  {
   "cell_type": "code",
   "execution_count": 8,
   "id": "9ee7b006-bb70-4df9-bd41-58e1c99b32cd",
   "metadata": {},
   "outputs": [
    {
     "data": {
      "text/html": [
       "<div>\n",
       "<style scoped>\n",
       "    .dataframe tbody tr th:only-of-type {\n",
       "        vertical-align: middle;\n",
       "    }\n",
       "\n",
       "    .dataframe tbody tr th {\n",
       "        vertical-align: top;\n",
       "    }\n",
       "\n",
       "    .dataframe thead th {\n",
       "        text-align: right;\n",
       "    }\n",
       "</style>\n",
       "<table border=\"1\" class=\"dataframe\">\n",
       "  <thead>\n",
       "    <tr style=\"text-align: right;\">\n",
       "      <th></th>\n",
       "      <th>headline</th>\n",
       "      <th>word_count</th>\n",
       "      <th>author_count</th>\n",
       "      <th>lead_author</th>\n",
       "      <th>section</th>\n",
       "      <th>pub_date</th>\n",
       "    </tr>\n",
       "  </thead>\n",
       "  <tbody>\n",
       "    <tr>\n",
       "      <th>0</th>\n",
       "      <td>A Leak-Prone White House Finally Manages to Ke...</td>\n",
       "      <td>1341.0</td>\n",
       "      <td>1</td>\n",
       "      <td>MichaelCrowley</td>\n",
       "      <td>U.S.</td>\n",
       "      <td>2019-12-01T00:15:08+0000</td>\n",
       "    </tr>\n",
       "    <tr>\n",
       "      <th>1</th>\n",
       "      <td>Justin Fields Has ‘Heisman Moment’ in Ohio Sta...</td>\n",
       "      <td>727.0</td>\n",
       "      <td>1</td>\n",
       "      <td>JeffArnold</td>\n",
       "      <td>Sports</td>\n",
       "      <td>2019-12-01T00:33:57+0000</td>\n",
       "    </tr>\n",
       "    <tr>\n",
       "      <th>2</th>\n",
       "      <td>Mikaela Shiffrin Learns a New Way to Win: With...</td>\n",
       "      <td>762.0</td>\n",
       "      <td>1</td>\n",
       "      <td>BillPennington</td>\n",
       "      <td>Sports</td>\n",
       "      <td>2019-12-01T00:37:15+0000</td>\n",
       "    </tr>\n",
       "    <tr>\n",
       "      <th>3</th>\n",
       "      <td>Leonardo DiCaprio Responds to Brazil’s Preside...</td>\n",
       "      <td>540.0</td>\n",
       "      <td>1</td>\n",
       "      <td>AimeeOrtiz</td>\n",
       "      <td>World</td>\n",
       "      <td>2019-12-01T01:03:22+0000</td>\n",
       "    </tr>\n",
       "    <tr>\n",
       "      <th>4</th>\n",
       "      <td>Cooking Grease Down a Drain Eyed in Sewage Flo...</td>\n",
       "      <td>781.0</td>\n",
       "      <td>2</td>\n",
       "      <td>NeilVigdor</td>\n",
       "      <td>New York</td>\n",
       "      <td>2019-12-01T01:47:35+0000</td>\n",
       "    </tr>\n",
       "  </tbody>\n",
       "</table>\n",
       "</div>"
      ],
      "text/plain": [
       "                                            headline  word_count  \\\n",
       "0  A Leak-Prone White House Finally Manages to Ke...      1341.0   \n",
       "1  Justin Fields Has ‘Heisman Moment’ in Ohio Sta...       727.0   \n",
       "2  Mikaela Shiffrin Learns a New Way to Win: With...       762.0   \n",
       "3  Leonardo DiCaprio Responds to Brazil’s Preside...       540.0   \n",
       "4  Cooking Grease Down a Drain Eyed in Sewage Flo...       781.0   \n",
       "\n",
       "   author_count     lead_author   section                  pub_date  \n",
       "0             1  MichaelCrowley      U.S.  2019-12-01T00:15:08+0000  \n",
       "1             1      JeffArnold    Sports  2019-12-01T00:33:57+0000  \n",
       "2             1  BillPennington    Sports  2019-12-01T00:37:15+0000  \n",
       "3             1      AimeeOrtiz     World  2019-12-01T01:03:22+0000  \n",
       "4             2      NeilVigdor  New York  2019-12-01T01:47:35+0000  "
      ]
     },
     "execution_count": 8,
     "metadata": {},
     "output_type": "execute_result"
    }
   ],
   "source": [
    "data.head()"
   ]
  },
  {
   "cell_type": "code",
   "execution_count": 10,
   "id": "87f27a92-1692-490b-b6f4-a53b5d50fe4a",
   "metadata": {},
   "outputs": [
    {
     "data": {
      "text/html": [
       "<div>\n",
       "<style scoped>\n",
       "    .dataframe tbody tr th:only-of-type {\n",
       "        vertical-align: middle;\n",
       "    }\n",
       "\n",
       "    .dataframe tbody tr th {\n",
       "        vertical-align: top;\n",
       "    }\n",
       "\n",
       "    .dataframe thead th {\n",
       "        text-align: right;\n",
       "    }\n",
       "</style>\n",
       "<table border=\"1\" class=\"dataframe\">\n",
       "  <thead>\n",
       "    <tr style=\"text-align: right;\">\n",
       "      <th></th>\n",
       "      <th>headline</th>\n",
       "      <th>word_count</th>\n",
       "      <th>author_count</th>\n",
       "      <th>section</th>\n",
       "      <th>pub_date</th>\n",
       "    </tr>\n",
       "    <tr>\n",
       "      <th>lead_author</th>\n",
       "      <th></th>\n",
       "      <th></th>\n",
       "      <th></th>\n",
       "      <th></th>\n",
       "      <th></th>\n",
       "    </tr>\n",
       "  </thead>\n",
       "  <tbody>\n",
       "    <tr>\n",
       "      <th></th>\n",
       "      <td>70</td>\n",
       "      <td>70</td>\n",
       "      <td>70</td>\n",
       "      <td>70</td>\n",
       "      <td>70</td>\n",
       "    </tr>\n",
       "    <tr>\n",
       "      <th>A.C.Shilton</th>\n",
       "      <td>2</td>\n",
       "      <td>2</td>\n",
       "      <td>2</td>\n",
       "      <td>2</td>\n",
       "      <td>2</td>\n",
       "    </tr>\n",
       "    <tr>\n",
       "      <th>A.G.Sulzberger</th>\n",
       "      <td>2</td>\n",
       "      <td>2</td>\n",
       "      <td>2</td>\n",
       "      <td>2</td>\n",
       "      <td>2</td>\n",
       "    </tr>\n",
       "    <tr>\n",
       "      <th>A.HopeJahren</th>\n",
       "      <td>1</td>\n",
       "      <td>1</td>\n",
       "      <td>1</td>\n",
       "      <td>1</td>\n",
       "      <td>1</td>\n",
       "    </tr>\n",
       "    <tr>\n",
       "      <th>A.J.Goldmann</th>\n",
       "      <td>20</td>\n",
       "      <td>20</td>\n",
       "      <td>20</td>\n",
       "      <td>20</td>\n",
       "      <td>20</td>\n",
       "    </tr>\n",
       "    <tr>\n",
       "      <th>...</th>\n",
       "      <td>...</td>\n",
       "      <td>...</td>\n",
       "      <td>...</td>\n",
       "      <td>...</td>\n",
       "      <td>...</td>\n",
       "    </tr>\n",
       "    <tr>\n",
       "      <th>ZoëLescaze</th>\n",
       "      <td>4</td>\n",
       "      <td>4</td>\n",
       "      <td>4</td>\n",
       "      <td>4</td>\n",
       "      <td>4</td>\n",
       "    </tr>\n",
       "    <tr>\n",
       "      <th>ZuzanaBoehmová</th>\n",
       "      <td>1</td>\n",
       "      <td>1</td>\n",
       "      <td>1</td>\n",
       "      <td>1</td>\n",
       "      <td>1</td>\n",
       "    </tr>\n",
       "    <tr>\n",
       "      <th>nan</th>\n",
       "      <td>7354</td>\n",
       "      <td>7365</td>\n",
       "      <td>7365</td>\n",
       "      <td>7365</td>\n",
       "      <td>7365</td>\n",
       "    </tr>\n",
       "    <tr>\n",
       "      <th>ÁlvaroEnrigue</th>\n",
       "      <td>1</td>\n",
       "      <td>1</td>\n",
       "      <td>1</td>\n",
       "      <td>1</td>\n",
       "      <td>1</td>\n",
       "    </tr>\n",
       "    <tr>\n",
       "      <th>ÁlvaroSantana-Acuña</th>\n",
       "      <td>1</td>\n",
       "      <td>1</td>\n",
       "      <td>1</td>\n",
       "      <td>1</td>\n",
       "      <td>1</td>\n",
       "    </tr>\n",
       "  </tbody>\n",
       "</table>\n",
       "<p>5497 rows × 5 columns</p>\n",
       "</div>"
      ],
      "text/plain": [
       "                     headline  word_count  author_count  section  pub_date\n",
       "lead_author                                                               \n",
       "                           70          70            70       70        70\n",
       "A.C.Shilton                 2           2             2        2         2\n",
       "A.G.Sulzberger              2           2             2        2         2\n",
       "A.HopeJahren                1           1             1        1         1\n",
       "A.J.Goldmann               20          20            20       20        20\n",
       "...                       ...         ...           ...      ...       ...\n",
       "ZoëLescaze                  4           4             4        4         4\n",
       "ZuzanaBoehmová              1           1             1        1         1\n",
       "nan                      7354        7365          7365     7365      7365\n",
       "ÁlvaroEnrigue               1           1             1        1         1\n",
       "ÁlvaroSantana-Acuña         1           1             1        1         1\n",
       "\n",
       "[5497 rows x 5 columns]"
      ]
     },
     "execution_count": 10,
     "metadata": {},
     "output_type": "execute_result"
    }
   ],
   "source": [
    "data.groupby('lead_author').count()"
   ]
  },
  {
   "cell_type": "code",
   "execution_count": 16,
   "id": "693005f1-d8bd-49be-bf9a-e93ebdd9ea89",
   "metadata": {},
   "outputs": [],
   "source": [
    "is_missing = data.lead_author == ''"
   ]
  },
  {
   "cell_type": "code",
   "execution_count": 17,
   "id": "20e57a66-add0-46f9-ac93-dabaa7ec70ee",
   "metadata": {},
   "outputs": [],
   "source": [
    "is_missing_rate = is_missing.mean()"
   ]
  },
  {
   "cell_type": "code",
   "execution_count": 18,
   "id": "f70574f7-c15e-4c66-8aac-8329e3a180b6",
   "metadata": {},
   "outputs": [
    {
     "data": {
      "text/plain": [
       "np.float64(0.0013143565285966428)"
      ]
     },
     "execution_count": 18,
     "metadata": {},
     "output_type": "execute_result"
    }
   ],
   "source": [
    "is_missing_rate"
   ]
  },
  {
   "cell_type": "code",
   "execution_count": 20,
   "id": "8127b790-3601-4082-affd-ce9a0ab4ba12",
   "metadata": {},
   "outputs": [],
   "source": [
    "demo = '2019-12-01T00:15:08+0000'"
   ]
  },
  {
   "cell_type": "code",
   "execution_count": 24,
   "id": "1227c0e6-cbd2-46bb-a4ab-44ae1347a548",
   "metadata": {},
   "outputs": [],
   "source": [
    "date = datetime.strptime(demo, '%Y-%m-%dT%H:%M:%S+0000')"
   ]
  },
  {
   "cell_type": "code",
   "execution_count": 25,
   "id": "8912f851-adfd-414a-80af-c7363287f81e",
   "metadata": {},
   "outputs": [
    {
     "data": {
      "text/plain": [
       "datetime.datetime(2019, 12, 1, 0, 15, 8)"
      ]
     },
     "execution_count": 25,
     "metadata": {},
     "output_type": "execute_result"
    }
   ],
   "source": [
    "date"
   ]
  },
  {
   "cell_type": "code",
   "execution_count": 31,
   "id": "fbd2da34-9ef9-41e8-89f5-c5de459044b7",
   "metadata": {},
   "outputs": [],
   "source": [
    "data['month'] = data.pub_date.apply(lambda x: datetime.strptime(x, '%Y-%m-%dT%H:%M:%S+0000').month)"
   ]
  },
  {
   "cell_type": "code",
   "execution_count": 44,
   "id": "d445a21d-0f42-430a-b944-ade92597fe67",
   "metadata": {},
   "outputs": [],
   "source": [
    "data['pub_date'] = data.pub_date.apply(lambda x: datetime.strptime(x, '%Y-%m-%dT%H:%M:%S+0000'))"
   ]
  },
  {
   "cell_type": "code",
   "execution_count": 45,
   "id": "422d00fd-06a5-47ba-abc0-bff534772f5e",
   "metadata": {},
   "outputs": [
    {
     "data": {
      "text/html": [
       "<div>\n",
       "<style scoped>\n",
       "    .dataframe tbody tr th:only-of-type {\n",
       "        vertical-align: middle;\n",
       "    }\n",
       "\n",
       "    .dataframe tbody tr th {\n",
       "        vertical-align: top;\n",
       "    }\n",
       "\n",
       "    .dataframe thead th {\n",
       "        text-align: right;\n",
       "    }\n",
       "</style>\n",
       "<table border=\"1\" class=\"dataframe\">\n",
       "  <thead>\n",
       "    <tr style=\"text-align: right;\">\n",
       "      <th></th>\n",
       "      <th>headline</th>\n",
       "      <th>word_count</th>\n",
       "      <th>author_count</th>\n",
       "      <th>lead_author</th>\n",
       "      <th>section</th>\n",
       "      <th>pub_date</th>\n",
       "      <th>month</th>\n",
       "    </tr>\n",
       "  </thead>\n",
       "  <tbody>\n",
       "    <tr>\n",
       "      <th>0</th>\n",
       "      <td>A Leak-Prone White House Finally Manages to Ke...</td>\n",
       "      <td>1341.0</td>\n",
       "      <td>1</td>\n",
       "      <td>MichaelCrowley</td>\n",
       "      <td>U.S.</td>\n",
       "      <td>2019-12-01 00:15:08</td>\n",
       "      <td>12</td>\n",
       "    </tr>\n",
       "    <tr>\n",
       "      <th>1</th>\n",
       "      <td>Justin Fields Has ‘Heisman Moment’ in Ohio Sta...</td>\n",
       "      <td>727.0</td>\n",
       "      <td>1</td>\n",
       "      <td>JeffArnold</td>\n",
       "      <td>Sports</td>\n",
       "      <td>2019-12-01 00:33:57</td>\n",
       "      <td>12</td>\n",
       "    </tr>\n",
       "    <tr>\n",
       "      <th>2</th>\n",
       "      <td>Mikaela Shiffrin Learns a New Way to Win: With...</td>\n",
       "      <td>762.0</td>\n",
       "      <td>1</td>\n",
       "      <td>BillPennington</td>\n",
       "      <td>Sports</td>\n",
       "      <td>2019-12-01 00:37:15</td>\n",
       "      <td>12</td>\n",
       "    </tr>\n",
       "    <tr>\n",
       "      <th>3</th>\n",
       "      <td>Leonardo DiCaprio Responds to Brazil’s Preside...</td>\n",
       "      <td>540.0</td>\n",
       "      <td>1</td>\n",
       "      <td>AimeeOrtiz</td>\n",
       "      <td>World</td>\n",
       "      <td>2019-12-01 01:03:22</td>\n",
       "      <td>12</td>\n",
       "    </tr>\n",
       "    <tr>\n",
       "      <th>4</th>\n",
       "      <td>Cooking Grease Down a Drain Eyed in Sewage Flo...</td>\n",
       "      <td>781.0</td>\n",
       "      <td>2</td>\n",
       "      <td>NeilVigdor</td>\n",
       "      <td>New York</td>\n",
       "      <td>2019-12-01 01:47:35</td>\n",
       "      <td>12</td>\n",
       "    </tr>\n",
       "  </tbody>\n",
       "</table>\n",
       "</div>"
      ],
      "text/plain": [
       "                                            headline  word_count  \\\n",
       "0  A Leak-Prone White House Finally Manages to Ke...      1341.0   \n",
       "1  Justin Fields Has ‘Heisman Moment’ in Ohio Sta...       727.0   \n",
       "2  Mikaela Shiffrin Learns a New Way to Win: With...       762.0   \n",
       "3  Leonardo DiCaprio Responds to Brazil’s Preside...       540.0   \n",
       "4  Cooking Grease Down a Drain Eyed in Sewage Flo...       781.0   \n",
       "\n",
       "   author_count     lead_author   section            pub_date  month  \n",
       "0             1  MichaelCrowley      U.S. 2019-12-01 00:15:08     12  \n",
       "1             1      JeffArnold    Sports 2019-12-01 00:33:57     12  \n",
       "2             1  BillPennington    Sports 2019-12-01 00:37:15     12  \n",
       "3             1      AimeeOrtiz     World 2019-12-01 01:03:22     12  \n",
       "4             2      NeilVigdor  New York 2019-12-01 01:47:35     12  "
      ]
     },
     "execution_count": 45,
     "metadata": {},
     "output_type": "execute_result"
    }
   ],
   "source": [
    "data.head()"
   ]
  },
  {
   "cell_type": "code",
   "execution_count": 36,
   "id": "52a58d7b-cdaa-45ea-a888-42c83bc3bddd",
   "metadata": {},
   "outputs": [
    {
     "data": {
      "text/plain": [
       "month\n",
       "1     4482\n",
       "2     4122\n",
       "3     4690\n",
       "4     4523\n",
       "5     4737\n",
       "6     4496\n",
       "7     4287\n",
       "8     4109\n",
       "9     4418\n",
       "10    4989\n",
       "11    4420\n",
       "12    3985\n",
       "Name: pub_date, dtype: int64"
      ]
     },
     "execution_count": 36,
     "metadata": {},
     "output_type": "execute_result"
    }
   ],
   "source": [
    "data.groupby('month').count().pub_date"
   ]
  },
  {
   "cell_type": "code",
   "execution_count": 37,
   "id": "b203ce28-1c47-49ea-9cca-9daab9ddd0a5",
   "metadata": {},
   "outputs": [
    {
     "data": {
      "text/plain": [
       "array(['MichaelCrowley', 'JeffArnold', 'BillPennington', ...,\n",
       "       'BarryBergdoll', 'StuartLavietes', 'MarkJosephson'], dtype=object)"
      ]
     },
     "execution_count": 37,
     "metadata": {},
     "output_type": "execute_result"
    }
   ],
   "source": [
    "data.lead_author.unique()"
   ]
  },
  {
   "cell_type": "code",
   "execution_count": 47,
   "id": "56d439f7-6609-4e1e-8810-0b3f6445ab81",
   "metadata": {},
   "outputs": [],
   "source": [
    "gdf = data.groupby('lead_author')"
   ]
  },
  {
   "cell_type": "raw",
   "id": "2ebe7038-d603-4055-ae46-ba5658e1a082",
   "metadata": {},
   "source": [
    "for author in gdf.groups:\n",
    "    sdf = gdf.get_group(author)\n",
    "    sdf = sdf.sort_values('pub_date')"
   ]
  },
  {
   "cell_type": "code",
   "execution_count": 53,
   "id": "7c8809d7-186f-4164-9d47-785f5a585bdc",
   "metadata": {},
   "outputs": [
    {
     "name": "stderr",
     "output_type": "stream",
     "text": [
      "/Users/apple/Desktop/pythonProject10/venv/lib/python3.11/site-packages/numpy/_core/fromnumeric.py:3904: RuntimeWarning: Mean of empty slice.\n",
      "  return _methods._mean(a, axis=axis, dtype=dtype,\n",
      "/Users/apple/Desktop/pythonProject10/venv/lib/python3.11/site-packages/numpy/_core/_methods.py:147: RuntimeWarning: invalid value encountered in scalar divide\n",
      "  ret = ret.dtype.type(ret / rcount)\n"
     ]
    }
   ],
   "source": [
    "pub_duration = []\n",
    "for author in gdf.groups:\n",
    "    sdf = gdf.get_group(author)\n",
    "    sdf = sdf.sort_values('pub_date')\n",
    "    times = sdf.pub_date.to_list()\n",
    "    time_diffs = np.diff(times)\n",
    "    second_bt = [td.total_seconds() for td in time_diffs]\n",
    "    pub_duration.append(np.mean(second_bt) / 60 / 60 / 24)"
   ]
  },
  {
   "cell_type": "code",
   "execution_count": 55,
   "id": "40dca751-9a32-4310-a561-7cee2cd9e3d3",
   "metadata": {},
   "outputs": [
    {
     "data": {
      "text/plain": [
       "<Axes: ylabel='Count'>"
      ]
     },
     "execution_count": 55,
     "metadata": {},
     "output_type": "execute_result"
    },
    {
     "data": {
      "image/png": "[encoded data removed]",
      "text/plain": [
       "<Figure size 640x480 with 1 Axes>"
      ]
     },
     "metadata": {},
     "output_type": "display_data"
    }
   ],
   "source": [
    "import seaborn as sns\n",
    "sns.histplot(pub_duration)"
   ]
  },
  {
   "cell_type": "code",
   "execution_count": null,
   "id": "9291878f-548c-403b-9fc8-77ff13ecba1e",
   "metadata": {},
   "outputs": [],
   "source": []
  }
 ],
 "metadata": {
  "kernelspec": {
   "display_name": "Python 3 (ipykernel)",
   "language": "python",
   "name": "python3"
  },
  "language_info": {
   "codemirror_mode": {
    "name": "ipython",
    "version": 3
   },
   "file_extension": ".py",
   "mimetype": "text/x-python",
   "name": "python",
   "nbconvert_exporter": "python",
   "pygments_lexer": "ipython3",
   "version": "3.11.1"
  }
 },
 "nbformat": 4,
 "nbformat_minor": 5
}
