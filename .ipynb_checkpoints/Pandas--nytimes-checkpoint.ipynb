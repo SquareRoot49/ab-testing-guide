{
 "cells": [
  {
   "cell_type": "code",
   "execution_count": 1,
   "id": "fe85a54b-ef13-4f09-93e7-b5c67bea21ec",
   "metadata": {},
   "outputs": [],
   "source": [
    "import pandas as pd"
   ]
  },
  {
   "cell_type": "code",
   "execution_count": 2,
   "id": "6a302703-52a7-4217-83ee-dfd0d495dfdd",
   "metadata": {},
   "outputs": [],
   "source": [
    "import numpy as np"
   ]
  },
  {
   "cell_type": "code",
   "execution_count": 3,
   "id": "ad387cce-2ba0-475b-804f-a65112d289ab",
   "metadata": {},
   "outputs": [],
   "source": [
    "data = pd.read_csv('nytimes_metadata.csv')"
   ]
  },
  {
   "cell_type": "code",
   "execution_count": 4,
   "id": "8dc823bc-efaa-4ec1-bbb3-fe26675f1540",
   "metadata": {},
   "outputs": [
    {
     "data": {
      "text/html": [
       "<div>\n",
       "<style scoped>\n",
       "    .dataframe tbody tr th:only-of-type {\n",
       "        vertical-align: middle;\n",
       "    }\n",
       "\n",
       "    .dataframe tbody tr th {\n",
       "        vertical-align: top;\n",
       "    }\n",
       "\n",
       "    .dataframe thead th {\n",
       "        text-align: right;\n",
       "    }\n",
       "</style>\n",
       "<table border=\"1\" class=\"dataframe\">\n",
       "  <thead>\n",
       "    <tr style=\"text-align: right;\">\n",
       "      <th></th>\n",
       "      <th>headline</th>\n",
       "      <th>word_count</th>\n",
       "      <th>author_count</th>\n",
       "      <th>lead_author</th>\n",
       "      <th>section</th>\n",
       "      <th>pub_date</th>\n",
       "    </tr>\n",
       "  </thead>\n",
       "  <tbody>\n",
       "    <tr>\n",
       "      <th>0</th>\n",
       "      <td>A Leak-Prone White House Finally Manages to Ke...</td>\n",
       "      <td>1341.0</td>\n",
       "      <td>1</td>\n",
       "      <td>M i c h a e l C r o w l e y</td>\n",
       "      <td>U.S.</td>\n",
       "      <td>2019-12-01T00:15:08+0000</td>\n",
       "    </tr>\n",
       "    <tr>\n",
       "      <th>1</th>\n",
       "      <td>Justin Fields Has ‘Heisman Moment’ in Ohio Sta...</td>\n",
       "      <td>727.0</td>\n",
       "      <td>1</td>\n",
       "      <td>J e f f A r n o l d</td>\n",
       "      <td>Sports</td>\n",
       "      <td>2019-12-01T00:33:57+0000</td>\n",
       "    </tr>\n",
       "    <tr>\n",
       "      <th>2</th>\n",
       "      <td>Mikaela Shiffrin Learns a New Way to Win: With...</td>\n",
       "      <td>762.0</td>\n",
       "      <td>1</td>\n",
       "      <td>B i l l P e n n i n g t o n</td>\n",
       "      <td>Sports</td>\n",
       "      <td>2019-12-01T00:37:15+0000</td>\n",
       "    </tr>\n",
       "    <tr>\n",
       "      <th>3</th>\n",
       "      <td>Leonardo DiCaprio Responds to Brazil’s Preside...</td>\n",
       "      <td>540.0</td>\n",
       "      <td>1</td>\n",
       "      <td>A i m e e O r t i z</td>\n",
       "      <td>World</td>\n",
       "      <td>2019-12-01T01:03:22+0000</td>\n",
       "    </tr>\n",
       "    <tr>\n",
       "      <th>4</th>\n",
       "      <td>Cooking Grease Down a Drain Eyed in Sewage Flo...</td>\n",
       "      <td>781.0</td>\n",
       "      <td>2</td>\n",
       "      <td>N e i l V i g d o r</td>\n",
       "      <td>New York</td>\n",
       "      <td>2019-12-01T01:47:35+0000</td>\n",
       "    </tr>\n",
       "    <tr>\n",
       "      <th>...</th>\n",
       "      <td>...</td>\n",
       "      <td>...</td>\n",
       "      <td>...</td>\n",
       "      <td>...</td>\n",
       "      <td>...</td>\n",
       "      <td>...</td>\n",
       "    </tr>\n",
       "    <tr>\n",
       "      <th>53253</th>\n",
       "      <td>Drug Agency Calls for Strong Warning Labels on...</td>\n",
       "      <td>564.0</td>\n",
       "      <td>1</td>\n",
       "      <td>B e n e d i c t C a r e y</td>\n",
       "      <td>Health</td>\n",
       "      <td>2019-04-30T23:42:03+0000</td>\n",
       "    </tr>\n",
       "    <tr>\n",
       "      <th>53254</th>\n",
       "      <td>Is the Muslim Brotherhood a Terrorist Group?</td>\n",
       "      <td>1177.0</td>\n",
       "      <td>1</td>\n",
       "      <td>D a v i d</td>\n",
       "      <td>World</td>\n",
       "      <td>2019-04-30T23:43:42+0000</td>\n",
       "    </tr>\n",
       "    <tr>\n",
       "      <th>53255</th>\n",
       "      <td>Eric Schmidt to Leave Alphabet Board, Ending a...</td>\n",
       "      <td>305.0</td>\n",
       "      <td>1</td>\n",
       "      <td>D a i s u k e W a k a b a y a s h i</td>\n",
       "      <td>Business Day</td>\n",
       "      <td>2019-04-30T23:51:38+0000</td>\n",
       "    </tr>\n",
       "    <tr>\n",
       "      <th>53256</th>\n",
       "      <td>A Rising Tide of Anti-Semitism</td>\n",
       "      <td>825.0</td>\n",
       "      <td>0</td>\n",
       "      <td>NaN</td>\n",
       "      <td>Opinion</td>\n",
       "      <td>2019-04-30T23:57:21+0000</td>\n",
       "    </tr>\n",
       "    <tr>\n",
       "      <th>53257</th>\n",
       "      <td>Like ‘Uber for Organs’: Drone Delivers Kidney ...</td>\n",
       "      <td>877.0</td>\n",
       "      <td>1</td>\n",
       "      <td>K a r e n Z r a i c k</td>\n",
       "      <td>Health</td>\n",
       "      <td>2019-04-30T23:58:06+0000</td>\n",
       "    </tr>\n",
       "  </tbody>\n",
       "</table>\n",
       "<p>53258 rows × 6 columns</p>\n",
       "</div>"
      ],
      "text/plain": [
       "                                                headline  word_count  \\\n",
       "0      A Leak-Prone White House Finally Manages to Ke...      1341.0   \n",
       "1      Justin Fields Has ‘Heisman Moment’ in Ohio Sta...       727.0   \n",
       "2      Mikaela Shiffrin Learns a New Way to Win: With...       762.0   \n",
       "3      Leonardo DiCaprio Responds to Brazil’s Preside...       540.0   \n",
       "4      Cooking Grease Down a Drain Eyed in Sewage Flo...       781.0   \n",
       "...                                                  ...         ...   \n",
       "53253  Drug Agency Calls for Strong Warning Labels on...       564.0   \n",
       "53254       Is the Muslim Brotherhood a Terrorist Group?      1177.0   \n",
       "53255  Eric Schmidt to Leave Alphabet Board, Ending a...       305.0   \n",
       "53256                     A Rising Tide of Anti-Semitism       825.0   \n",
       "53257  Like ‘Uber for Organs’: Drone Delivers Kidney ...       877.0   \n",
       "\n",
       "       author_count                          lead_author       section  \\\n",
       "0                 1          M i c h a e l C r o w l e y          U.S.   \n",
       "1                 1                  J e f f A r n o l d        Sports   \n",
       "2                 1          B i l l P e n n i n g t o n        Sports   \n",
       "3                 1                  A i m e e O r t i z         World   \n",
       "4                 2                  N e i l V i g d o r      New York   \n",
       "...             ...                                  ...           ...   \n",
       "53253             1            B e n e d i c t C a r e y        Health   \n",
       "53254             1                           D a v i d          World   \n",
       "53255             1  D a i s u k e W a k a b a y a s h i  Business Day   \n",
       "53256             0                                  NaN       Opinion   \n",
       "53257             1                K a r e n Z r a i c k        Health   \n",
       "\n",
       "                       pub_date  \n",
       "0      2019-12-01T00:15:08+0000  \n",
       "1      2019-12-01T00:33:57+0000  \n",
       "2      2019-12-01T00:37:15+0000  \n",
       "3      2019-12-01T01:03:22+0000  \n",
       "4      2019-12-01T01:47:35+0000  \n",
       "...                         ...  \n",
       "53253  2019-04-30T23:42:03+0000  \n",
       "53254  2019-04-30T23:43:42+0000  \n",
       "53255  2019-04-30T23:51:38+0000  \n",
       "53256  2019-04-30T23:57:21+0000  \n",
       "53257  2019-04-30T23:58:06+0000  \n",
       "\n",
       "[53258 rows x 6 columns]"
      ]
     },
     "execution_count": 4,
     "metadata": {},
     "output_type": "execute_result"
    }
   ],
   "source": [
    "data"
   ]
  },
  {
   "cell_type": "code",
   "execution_count": 5,
   "id": "6fb3a7b7-744d-4b03-afab-637ed7269da6",
   "metadata": {},
   "outputs": [],
   "source": [
    "year = data.pub_date"
   ]
  },
  {
   "cell_type": "code",
   "execution_count": 6,
   "id": "5b1b6b99-7fb1-443d-8d17-700e23a3426e",
   "metadata": {},
   "outputs": [
    {
     "data": {
      "text/plain": [
       "0        2019-12-01T00:15:08+0000\n",
       "1        2019-12-01T00:33:57+0000\n",
       "2        2019-12-01T00:37:15+0000\n",
       "3        2019-12-01T01:03:22+0000\n",
       "4        2019-12-01T01:47:35+0000\n",
       "                   ...           \n",
       "53253    2019-04-30T23:42:03+0000\n",
       "53254    2019-04-30T23:43:42+0000\n",
       "53255    2019-04-30T23:51:38+0000\n",
       "53256    2019-04-30T23:57:21+0000\n",
       "53257    2019-04-30T23:58:06+0000\n",
       "Name: pub_date, Length: 53258, dtype: object"
      ]
     },
     "execution_count": 6,
     "metadata": {},
     "output_type": "execute_result"
    }
   ],
   "source": [
    "year"
   ]
  },
  {
   "cell_type": "code",
   "execution_count": 7,
   "id": "f1a74060-e9a3-45bd-b764-6f302af87341",
   "metadata": {},
   "outputs": [],
   "source": [
    "year = data.pub_date.apply(lambda x: x[:4])"
   ]
  },
  {
   "cell_type": "code",
   "execution_count": 8,
   "id": "2429e035-9ae6-4ccb-bfb9-02769815ecec",
   "metadata": {},
   "outputs": [
    {
     "data": {
      "text/plain": [
       "0        2019\n",
       "1        2019\n",
       "2        2019\n",
       "3        2019\n",
       "4        2019\n",
       "         ... \n",
       "53253    2019\n",
       "53254    2019\n",
       "53255    2019\n",
       "53256    2019\n",
       "53257    2019\n",
       "Name: pub_date, Length: 53258, dtype: object"
      ]
     },
     "execution_count": 8,
     "metadata": {},
     "output_type": "execute_result"
    }
   ],
   "source": [
    "year"
   ]
  },
  {
   "cell_type": "code",
   "execution_count": 10,
   "id": "622b753b-1875-4a28-8c98-5024f3de94ab",
   "metadata": {},
   "outputs": [
    {
     "data": {
      "text/html": [
       "<div>\n",
       "<style scoped>\n",
       "    .dataframe tbody tr th:only-of-type {\n",
       "        vertical-align: middle;\n",
       "    }\n",
       "\n",
       "    .dataframe tbody tr th {\n",
       "        vertical-align: top;\n",
       "    }\n",
       "\n",
       "    .dataframe thead th {\n",
       "        text-align: right;\n",
       "    }\n",
       "</style>\n",
       "<table border=\"1\" class=\"dataframe\">\n",
       "  <thead>\n",
       "    <tr style=\"text-align: right;\">\n",
       "      <th></th>\n",
       "      <th>headline</th>\n",
       "      <th>word_count</th>\n",
       "      <th>author_count</th>\n",
       "      <th>section</th>\n",
       "      <th>pub_date</th>\n",
       "    </tr>\n",
       "    <tr>\n",
       "      <th>lead_author</th>\n",
       "      <th></th>\n",
       "      <th></th>\n",
       "      <th></th>\n",
       "      <th></th>\n",
       "      <th></th>\n",
       "    </tr>\n",
       "  </thead>\n",
       "  <tbody>\n",
       "    <tr>\n",
       "      <th></th>\n",
       "      <td>70</td>\n",
       "      <td>70</td>\n",
       "      <td>70</td>\n",
       "      <td>70</td>\n",
       "      <td>70</td>\n",
       "    </tr>\n",
       "    <tr>\n",
       "      <th>A . C . S h i l t o n</th>\n",
       "      <td>2</td>\n",
       "      <td>2</td>\n",
       "      <td>2</td>\n",
       "      <td>2</td>\n",
       "      <td>2</td>\n",
       "    </tr>\n",
       "    <tr>\n",
       "      <th>A . G . S u l z b e r g e r</th>\n",
       "      <td>2</td>\n",
       "      <td>2</td>\n",
       "      <td>2</td>\n",
       "      <td>2</td>\n",
       "      <td>2</td>\n",
       "    </tr>\n",
       "    <tr>\n",
       "      <th>A . H o p e J a h r e n</th>\n",
       "      <td>1</td>\n",
       "      <td>1</td>\n",
       "      <td>1</td>\n",
       "      <td>1</td>\n",
       "      <td>1</td>\n",
       "    </tr>\n",
       "    <tr>\n",
       "      <th>A . J . G o l d m a n n</th>\n",
       "      <td>20</td>\n",
       "      <td>20</td>\n",
       "      <td>20</td>\n",
       "      <td>20</td>\n",
       "      <td>20</td>\n",
       "    </tr>\n",
       "    <tr>\n",
       "      <th>...</th>\n",
       "      <td>...</td>\n",
       "      <td>...</td>\n",
       "      <td>...</td>\n",
       "      <td>...</td>\n",
       "      <td>...</td>\n",
       "    </tr>\n",
       "    <tr>\n",
       "      <th>Z o ë B e e r y</th>\n",
       "      <td>1</td>\n",
       "      <td>1</td>\n",
       "      <td>1</td>\n",
       "      <td>1</td>\n",
       "      <td>1</td>\n",
       "    </tr>\n",
       "    <tr>\n",
       "      <th>Z o ë L e s c a z e</th>\n",
       "      <td>4</td>\n",
       "      <td>4</td>\n",
       "      <td>4</td>\n",
       "      <td>4</td>\n",
       "      <td>4</td>\n",
       "    </tr>\n",
       "    <tr>\n",
       "      <th>Z u z a n a B o e h m o v á</th>\n",
       "      <td>1</td>\n",
       "      <td>1</td>\n",
       "      <td>1</td>\n",
       "      <td>1</td>\n",
       "      <td>1</td>\n",
       "    </tr>\n",
       "    <tr>\n",
       "      <th>Á l v a r o E n r i g u e</th>\n",
       "      <td>1</td>\n",
       "      <td>1</td>\n",
       "      <td>1</td>\n",
       "      <td>1</td>\n",
       "      <td>1</td>\n",
       "    </tr>\n",
       "    <tr>\n",
       "      <th>Á l v a r o S a n t a n a - A c u ñ a</th>\n",
       "      <td>1</td>\n",
       "      <td>1</td>\n",
       "      <td>1</td>\n",
       "      <td>1</td>\n",
       "      <td>1</td>\n",
       "    </tr>\n",
       "  </tbody>\n",
       "</table>\n",
       "<p>5496 rows × 5 columns</p>\n",
       "</div>"
      ],
      "text/plain": [
       "                                       headline  word_count  author_count  \\\n",
       "lead_author                                                                 \n",
       "                                             70          70            70   \n",
       "A . C . S h i l t o n                         2           2             2   \n",
       "A . G . S u l z b e r g e r                   2           2             2   \n",
       "A . H o p e J a h r e n                       1           1             1   \n",
       "A . J . G o l d m a n n                      20          20            20   \n",
       "...                                         ...         ...           ...   \n",
       "Z o ë B e e r y                               1           1             1   \n",
       "Z o ë L e s c a z e                           4           4             4   \n",
       "Z u z a n a B o e h m o v á                   1           1             1   \n",
       "Á l v a r o E n r i g u e                     1           1             1   \n",
       "Á l v a r o S a n t a n a - A c u ñ a         1           1             1   \n",
       "\n",
       "                                       section  pub_date  \n",
       "lead_author                                               \n",
       "                                            70        70  \n",
       "A . C . S h i l t o n                        2         2  \n",
       "A . G . S u l z b e r g e r                  2         2  \n",
       "A . H o p e J a h r e n                      1         1  \n",
       "A . J . G o l d m a n n                     20        20  \n",
       "...                                        ...       ...  \n",
       "Z o ë B e e r y                              1         1  \n",
       "Z o ë L e s c a z e                          4         4  \n",
       "Z u z a n a B o e h m o v á                  1         1  \n",
       "Á l v a r o E n r i g u e                    1         1  \n",
       "Á l v a r o S a n t a n a - A c u ñ a        1         1  \n",
       "\n",
       "[5496 rows x 5 columns]"
      ]
     },
     "execution_count": 10,
     "metadata": {},
     "output_type": "execute_result"
    }
   ],
   "source": [
    "data.groupby('lead_author').count()"
   ]
  },
  {
   "cell_type": "code",
   "execution_count": 13,
   "id": "b69726c7-2731-423f-a5bc-6687fc7be4e6",
   "metadata": {},
   "outputs": [
    {
     "data": {
      "text/html": [
       "<div>\n",
       "<style scoped>\n",
       "    .dataframe tbody tr th:only-of-type {\n",
       "        vertical-align: middle;\n",
       "    }\n",
       "\n",
       "    .dataframe tbody tr th {\n",
       "        vertical-align: top;\n",
       "    }\n",
       "\n",
       "    .dataframe thead th {\n",
       "        text-align: right;\n",
       "    }\n",
       "</style>\n",
       "<table border=\"1\" class=\"dataframe\">\n",
       "  <thead>\n",
       "    <tr style=\"text-align: right;\">\n",
       "      <th></th>\n",
       "      <th>lead_author</th>\n",
       "      <th>headline</th>\n",
       "      <th>word_count</th>\n",
       "      <th>author_count</th>\n",
       "      <th>section</th>\n",
       "      <th>pub_date</th>\n",
       "    </tr>\n",
       "  </thead>\n",
       "  <tbody>\n",
       "    <tr>\n",
       "      <th>0</th>\n",
       "      <td></td>\n",
       "      <td>70</td>\n",
       "      <td>70</td>\n",
       "      <td>70</td>\n",
       "      <td>70</td>\n",
       "      <td>70</td>\n",
       "    </tr>\n",
       "    <tr>\n",
       "      <th>1</th>\n",
       "      <td>A . C . S h i l t o n</td>\n",
       "      <td>2</td>\n",
       "      <td>2</td>\n",
       "      <td>2</td>\n",
       "      <td>2</td>\n",
       "      <td>2</td>\n",
       "    </tr>\n",
       "    <tr>\n",
       "      <th>2</th>\n",
       "      <td>A . G . S u l z b e r g e r</td>\n",
       "      <td>2</td>\n",
       "      <td>2</td>\n",
       "      <td>2</td>\n",
       "      <td>2</td>\n",
       "      <td>2</td>\n",
       "    </tr>\n",
       "    <tr>\n",
       "      <th>3</th>\n",
       "      <td>A . H o p e J a h r e n</td>\n",
       "      <td>1</td>\n",
       "      <td>1</td>\n",
       "      <td>1</td>\n",
       "      <td>1</td>\n",
       "      <td>1</td>\n",
       "    </tr>\n",
       "    <tr>\n",
       "      <th>4</th>\n",
       "      <td>A . J . G o l d m a n n</td>\n",
       "      <td>20</td>\n",
       "      <td>20</td>\n",
       "      <td>20</td>\n",
       "      <td>20</td>\n",
       "      <td>20</td>\n",
       "    </tr>\n",
       "    <tr>\n",
       "      <th>...</th>\n",
       "      <td>...</td>\n",
       "      <td>...</td>\n",
       "      <td>...</td>\n",
       "      <td>...</td>\n",
       "      <td>...</td>\n",
       "      <td>...</td>\n",
       "    </tr>\n",
       "    <tr>\n",
       "      <th>5491</th>\n",
       "      <td>Z o ë B e e r y</td>\n",
       "      <td>1</td>\n",
       "      <td>1</td>\n",
       "      <td>1</td>\n",
       "      <td>1</td>\n",
       "      <td>1</td>\n",
       "    </tr>\n",
       "    <tr>\n",
       "      <th>5492</th>\n",
       "      <td>Z o ë L e s c a z e</td>\n",
       "      <td>4</td>\n",
       "      <td>4</td>\n",
       "      <td>4</td>\n",
       "      <td>4</td>\n",
       "      <td>4</td>\n",
       "    </tr>\n",
       "    <tr>\n",
       "      <th>5493</th>\n",
       "      <td>Z u z a n a B o e h m o v á</td>\n",
       "      <td>1</td>\n",
       "      <td>1</td>\n",
       "      <td>1</td>\n",
       "      <td>1</td>\n",
       "      <td>1</td>\n",
       "    </tr>\n",
       "    <tr>\n",
       "      <th>5494</th>\n",
       "      <td>Á l v a r o E n r i g u e</td>\n",
       "      <td>1</td>\n",
       "      <td>1</td>\n",
       "      <td>1</td>\n",
       "      <td>1</td>\n",
       "      <td>1</td>\n",
       "    </tr>\n",
       "    <tr>\n",
       "      <th>5495</th>\n",
       "      <td>Á l v a r o S a n t a n a - A c u ñ a</td>\n",
       "      <td>1</td>\n",
       "      <td>1</td>\n",
       "      <td>1</td>\n",
       "      <td>1</td>\n",
       "      <td>1</td>\n",
       "    </tr>\n",
       "  </tbody>\n",
       "</table>\n",
       "<p>5496 rows × 6 columns</p>\n",
       "</div>"
      ],
      "text/plain": [
       "                                lead_author  headline  word_count  \\\n",
       "0                                                  70          70   \n",
       "1                     A . C . S h i l t o n         2           2   \n",
       "2               A . G . S u l z b e r g e r         2           2   \n",
       "3                   A . H o p e J a h r e n         1           1   \n",
       "4                   A . J . G o l d m a n n        20          20   \n",
       "...                                     ...       ...         ...   \n",
       "5491                        Z o ë B e e r y         1           1   \n",
       "5492                    Z o ë L e s c a z e         4           4   \n",
       "5493            Z u z a n a B o e h m o v á         1           1   \n",
       "5494              Á l v a r o E n r i g u e         1           1   \n",
       "5495  Á l v a r o S a n t a n a - A c u ñ a         1           1   \n",
       "\n",
       "      author_count  section  pub_date  \n",
       "0               70       70        70  \n",
       "1                2        2         2  \n",
       "2                2        2         2  \n",
       "3                1        1         1  \n",
       "4               20       20        20  \n",
       "...            ...      ...       ...  \n",
       "5491             1        1         1  \n",
       "5492             4        4         4  \n",
       "5493             1        1         1  \n",
       "5494             1        1         1  \n",
       "5495             1        1         1  \n",
       "\n",
       "[5496 rows x 6 columns]"
      ]
     },
     "execution_count": 13,
     "metadata": {},
     "output_type": "execute_result"
    }
   ],
   "source": [
    "data.groupby('lead_author').count().reset_index()"
   ]
  },
  {
   "cell_type": "code",
   "execution_count": 14,
   "id": "e133fe8a-b0d3-4898-b924-77354ce3bf45",
   "metadata": {},
   "outputs": [],
   "source": [
    "author_count = data.groupby('lead_author').count().reset_index()"
   ]
  },
  {
   "cell_type": "code",
   "execution_count": 15,
   "id": "1f1fe3fa-9978-400a-bdf7-b90cd2934ec3",
   "metadata": {},
   "outputs": [
    {
     "data": {
      "text/plain": [
       "0                M i c h a e l C r o w l e y\n",
       "1                        J e f f A r n o l d\n",
       "2                B i l l P e n n i n g t o n\n",
       "3                        A i m e e O r t i z\n",
       "4                        N e i l V i g d o r\n",
       "                        ...                 \n",
       "53253              B e n e d i c t C a r e y\n",
       "53254                             D a v i d \n",
       "53255    D a i s u k e W a k a b a y a s h i\n",
       "53256                                    NaN\n",
       "53257                  K a r e n Z r a i c k\n",
       "Name: lead_author, Length: 53258, dtype: object"
      ]
     },
     "execution_count": 15,
     "metadata": {},
     "output_type": "execute_result"
    }
   ],
   "source": [
    "data['lead_author']"
   ]
  },
  {
   "cell_type": "code",
   "execution_count": 17,
   "id": "6f692c34-e79b-4327-a527-3840a6f78355",
   "metadata": {},
   "outputs": [
    {
     "data": {
      "text/plain": [
       "0                M i c h a e l C r o w l e y\n",
       "1                        J e f f A r n o l d\n",
       "2                B i l l P e n n i n g t o n\n",
       "3                        A i m e e O r t i z\n",
       "4                        N e i l V i g d o r\n",
       "                        ...                 \n",
       "53253              B e n e d i c t C a r e y\n",
       "53254                             D a v i d \n",
       "53255    D a i s u k e W a k a b a y a s h i\n",
       "53256                                    NaN\n",
       "53257                  K a r e n Z r a i c k\n",
       "Name: lead_author, Length: 53258, dtype: object"
      ]
     },
     "execution_count": 17,
     "metadata": {},
     "output_type": "execute_result"
    }
   ],
   "source": [
    "data.lead_author"
   ]
  },
  {
   "cell_type": "code",
   "execution_count": 19,
   "id": "b7d3549e-6511-4df1-9787-9fb81196431c",
   "metadata": {},
   "outputs": [
    {
     "data": {
      "text/plain": [
       "0        False\n",
       "1        False\n",
       "2        False\n",
       "3        False\n",
       "4        False\n",
       "         ...  \n",
       "53253    False\n",
       "53254    False\n",
       "53255    False\n",
       "53256    False\n",
       "53257    False\n",
       "Name: lead_author, Length: 53258, dtype: bool"
      ]
     },
     "execution_count": 19,
     "metadata": {},
     "output_type": "execute_result"
    }
   ],
   "source": [
    "data.lead_author == ' '"
   ]
  },
  {
   "cell_type": "code",
   "execution_count": 20,
   "id": "ac1de66a-1b6e-4a26-b084-108822a94032",
   "metadata": {},
   "outputs": [],
   "source": [
    "missing_author = data.lead_author == ' '"
   ]
  },
  {
   "cell_type": "code",
   "execution_count": 21,
   "id": "1d43b081-513c-43c5-8bcd-a44cb2217f7a",
   "metadata": {},
   "outputs": [
    {
     "data": {
      "text/plain": [
       "0        False\n",
       "1        False\n",
       "2        False\n",
       "3        False\n",
       "4        False\n",
       "         ...  \n",
       "53253    False\n",
       "53254    False\n",
       "53255    False\n",
       "53256    False\n",
       "53257    False\n",
       "Name: lead_author, Length: 53258, dtype: bool"
      ]
     },
     "execution_count": 21,
     "metadata": {},
     "output_type": "execute_result"
    }
   ],
   "source": [
    "missing_author"
   ]
  },
  {
   "cell_type": "code",
   "execution_count": 22,
   "id": "bee45a18-600f-44b7-a029-84ce609dac97",
   "metadata": {},
   "outputs": [],
   "source": [
    "data_missing_author = data.loc[missing_author]"
   ]
  },
  {
   "cell_type": "code",
   "execution_count": 23,
   "id": "4355ad81-f5ed-4691-877f-dfb941880e1c",
   "metadata": {},
   "outputs": [
    {
     "data": {
      "text/html": [
       "<div>\n",
       "<style scoped>\n",
       "    .dataframe tbody tr th:only-of-type {\n",
       "        vertical-align: middle;\n",
       "    }\n",
       "\n",
       "    .dataframe tbody tr th {\n",
       "        vertical-align: top;\n",
       "    }\n",
       "\n",
       "    .dataframe thead th {\n",
       "        text-align: right;\n",
       "    }\n",
       "</style>\n",
       "<table border=\"1\" class=\"dataframe\">\n",
       "  <thead>\n",
       "    <tr style=\"text-align: right;\">\n",
       "      <th></th>\n",
       "      <th>headline</th>\n",
       "      <th>word_count</th>\n",
       "      <th>author_count</th>\n",
       "      <th>lead_author</th>\n",
       "      <th>section</th>\n",
       "      <th>pub_date</th>\n",
       "    </tr>\n",
       "  </thead>\n",
       "  <tbody>\n",
       "    <tr>\n",
       "      <th>1922</th>\n",
       "      <td>Scorched Silence, Fragile Rebirth, Award-Winni...</td>\n",
       "      <td>1055.0</td>\n",
       "      <td>1</td>\n",
       "      <td></td>\n",
       "      <td>Arts</td>\n",
       "      <td>2019-12-13T18:09:03+0000</td>\n",
       "    </tr>\n",
       "    <tr>\n",
       "      <th>3606</th>\n",
       "      <td>After a Decade, a Monteverdi Masterpiece Flies...</td>\n",
       "      <td>1107.0</td>\n",
       "      <td>1</td>\n",
       "      <td></td>\n",
       "      <td>Arts</td>\n",
       "      <td>2019-12-27T17:50:09+0000</td>\n",
       "    </tr>\n",
       "    <tr>\n",
       "      <th>4598</th>\n",
       "      <td>A Lauded Satirist of the Weimar Republic Who A...</td>\n",
       "      <td>1339.0</td>\n",
       "      <td>1</td>\n",
       "      <td></td>\n",
       "      <td>Books</td>\n",
       "      <td>2019-07-05T09:00:07+0000</td>\n",
       "    </tr>\n",
       "    <tr>\n",
       "      <th>7074</th>\n",
       "      <td>Traditional Irish Sessions Are Thriving. Try N...</td>\n",
       "      <td>939.0</td>\n",
       "      <td>1</td>\n",
       "      <td></td>\n",
       "      <td>Arts</td>\n",
       "      <td>2019-07-23T15:12:27+0000</td>\n",
       "    </tr>\n",
       "    <tr>\n",
       "      <th>8514</th>\n",
       "      <td>In Syria, Even the Hospitals Are Not Safe</td>\n",
       "      <td>934.0</td>\n",
       "      <td>1</td>\n",
       "      <td></td>\n",
       "      <td>Opinion</td>\n",
       "      <td>2019-06-03T10:00:04+0000</td>\n",
       "    </tr>\n",
       "    <tr>\n",
       "      <th>...</th>\n",
       "      <td>...</td>\n",
       "      <td>...</td>\n",
       "      <td>...</td>\n",
       "      <td>...</td>\n",
       "      <td>...</td>\n",
       "      <td>...</td>\n",
       "    </tr>\n",
       "    <tr>\n",
       "      <th>50468</th>\n",
       "      <td>His Music Full of Echoes, a Maverick Composer ...</td>\n",
       "      <td>1012.0</td>\n",
       "      <td>1</td>\n",
       "      <td></td>\n",
       "      <td>Arts</td>\n",
       "      <td>2019-04-11T16:12:50+0000</td>\n",
       "    </tr>\n",
       "    <tr>\n",
       "      <th>50780</th>\n",
       "      <td>Un extraño pedacito del muro</td>\n",
       "      <td>1604.0</td>\n",
       "      <td>1</td>\n",
       "      <td></td>\n",
       "      <td>Universal</td>\n",
       "      <td>2019-04-13T03:23:59+0000</td>\n",
       "    </tr>\n",
       "    <tr>\n",
       "      <th>51796</th>\n",
       "      <td>Uno de los lugares más peligrosos de la fronte...</td>\n",
       "      <td>1836.0</td>\n",
       "      <td>1</td>\n",
       "      <td></td>\n",
       "      <td>Universal</td>\n",
       "      <td>2019-04-20T03:09:30+0000</td>\n",
       "    </tr>\n",
       "    <tr>\n",
       "      <th>52562</th>\n",
       "      <td>Marilyn Mason, Globe-Trotting Organist and Tea...</td>\n",
       "      <td>779.0</td>\n",
       "      <td>1</td>\n",
       "      <td></td>\n",
       "      <td>Obituaries</td>\n",
       "      <td>2019-04-25T20:32:44+0000</td>\n",
       "    </tr>\n",
       "    <tr>\n",
       "      <th>52776</th>\n",
       "      <td>Cazadores de esclavos, mercenarios y el KKK: l...</td>\n",
       "      <td>1936.0</td>\n",
       "      <td>1</td>\n",
       "      <td></td>\n",
       "      <td>Universal</td>\n",
       "      <td>2019-04-26T23:09:47+0000</td>\n",
       "    </tr>\n",
       "  </tbody>\n",
       "</table>\n",
       "<p>70 rows × 6 columns</p>\n",
       "</div>"
      ],
      "text/plain": [
       "                                                headline  word_count  \\\n",
       "1922   Scorched Silence, Fragile Rebirth, Award-Winni...      1055.0   \n",
       "3606   After a Decade, a Monteverdi Masterpiece Flies...      1107.0   \n",
       "4598   A Lauded Satirist of the Weimar Republic Who A...      1339.0   \n",
       "7074   Traditional Irish Sessions Are Thriving. Try N...       939.0   \n",
       "8514           In Syria, Even the Hospitals Are Not Safe       934.0   \n",
       "...                                                  ...         ...   \n",
       "50468  His Music Full of Echoes, a Maverick Composer ...      1012.0   \n",
       "50780                       Un extraño pedacito del muro      1604.0   \n",
       "51796  Uno de los lugares más peligrosos de la fronte...      1836.0   \n",
       "52562  Marilyn Mason, Globe-Trotting Organist and Tea...       779.0   \n",
       "52776  Cazadores de esclavos, mercenarios y el KKK: l...      1936.0   \n",
       "\n",
       "       author_count lead_author     section                  pub_date  \n",
       "1922              1                    Arts  2019-12-13T18:09:03+0000  \n",
       "3606              1                    Arts  2019-12-27T17:50:09+0000  \n",
       "4598              1                   Books  2019-07-05T09:00:07+0000  \n",
       "7074              1                    Arts  2019-07-23T15:12:27+0000  \n",
       "8514              1                 Opinion  2019-06-03T10:00:04+0000  \n",
       "...             ...         ...         ...                       ...  \n",
       "50468             1                    Arts  2019-04-11T16:12:50+0000  \n",
       "50780             1               Universal  2019-04-13T03:23:59+0000  \n",
       "51796             1               Universal  2019-04-20T03:09:30+0000  \n",
       "52562             1              Obituaries  2019-04-25T20:32:44+0000  \n",
       "52776             1               Universal  2019-04-26T23:09:47+0000  \n",
       "\n",
       "[70 rows x 6 columns]"
      ]
     },
     "execution_count": 23,
     "metadata": {},
     "output_type": "execute_result"
    }
   ],
   "source": [
    "data_missing_author"
   ]
  },
  {
   "cell_type": "code",
   "execution_count": null,
   "id": "2de5fc2a-e617-4188-86af-efd9a1bdcd7f",
   "metadata": {},
   "outputs": [],
   "source": []
  },
  {
   "cell_type": "code",
   "execution_count": null,
   "id": "c88c31d2-8f25-4716-aebc-8a59e0cb0fb1",
   "metadata": {},
   "outputs": [],
   "source": []
  },
  {
   "cell_type": "code",
   "execution_count": null,
   "id": "d623cf6d-f3c2-4e59-b3f5-5d04c65d435c",
   "metadata": {},
   "outputs": [],
   "source": []
  },
  {
   "cell_type": "code",
   "execution_count": 26,
   "id": "09d46786-7f30-4035-a233-555681c79f84",
   "metadata": {},
   "outputs": [],
   "source": [
    "from datetime import datetime"
   ]
  },
  {
   "cell_type": "code",
   "execution_count": 27,
   "id": "b05b2210-f480-4896-857a-bd471a17f618",
   "metadata": {},
   "outputs": [],
   "source": [
    "demo = '2019-12-01T00:15:08+0000'"
   ]
  },
  {
   "cell_type": "code",
   "execution_count": 28,
   "id": "aac69564-26ec-4410-a06a-6df0cefbab97",
   "metadata": {},
   "outputs": [],
   "source": [
    "a = datetime.strptime(demo, '%Y-%m-%dT%H:%M:%S+0000')"
   ]
  },
  {
   "cell_type": "code",
   "execution_count": 29,
   "id": "eb954e5f-62ed-4599-b84f-2e581eddc6f5",
   "metadata": {},
   "outputs": [
    {
     "data": {
      "text/plain": [
       "datetime.datetime(2019, 12, 1, 0, 15, 8)"
      ]
     },
     "execution_count": 29,
     "metadata": {},
     "output_type": "execute_result"
    }
   ],
   "source": [
    "a"
   ]
  },
  {
   "cell_type": "code",
   "execution_count": 30,
   "id": "0ba42151-5e46-420e-98bc-2e5306e9349a",
   "metadata": {},
   "outputs": [
    {
     "data": {
      "text/plain": [
       "12"
      ]
     },
     "execution_count": 30,
     "metadata": {},
     "output_type": "execute_result"
    }
   ],
   "source": [
    "a.month"
   ]
  },
  {
   "cell_type": "code",
   "execution_count": 36,
   "id": "96336abd-b954-4eb4-9c36-d9a5856f70bb",
   "metadata": {},
   "outputs": [],
   "source": [
    "data_month = data.pub_date.apply(lambda x: datetime.strptime(x, '%Y-%m-%dT%H:%M:%S+0000').month)"
   ]
  },
  {
   "cell_type": "code",
   "execution_count": 37,
   "id": "abf2a9c2-5329-4be0-b771-0366d6ce62ac",
   "metadata": {},
   "outputs": [
    {
     "data": {
      "text/plain": [
       "0        12\n",
       "1        12\n",
       "2        12\n",
       "3        12\n",
       "4        12\n",
       "         ..\n",
       "53253     4\n",
       "53254     4\n",
       "53255     4\n",
       "53256     4\n",
       "53257     4\n",
       "Name: pub_date, Length: 53258, dtype: int64"
      ]
     },
     "execution_count": 37,
     "metadata": {},
     "output_type": "execute_result"
    }
   ],
   "source": [
    "data_month"
   ]
  },
  {
   "cell_type": "code",
   "execution_count": 39,
   "id": "e5c2f5d7-ba1c-478a-8c48-17356c691791",
   "metadata": {},
   "outputs": [],
   "source": [
    "dt_month = pd.DataFrame(data_month)"
   ]
  },
  {
   "cell_type": "code",
   "execution_count": 40,
   "id": "5485de69-07b0-4339-89b7-802fcbd1ef7d",
   "metadata": {},
   "outputs": [
    {
     "data": {
      "text/html": [
       "<div>\n",
       "<style scoped>\n",
       "    .dataframe tbody tr th:only-of-type {\n",
       "        vertical-align: middle;\n",
       "    }\n",
       "\n",
       "    .dataframe tbody tr th {\n",
       "        vertical-align: top;\n",
       "    }\n",
       "\n",
       "    .dataframe thead th {\n",
       "        text-align: right;\n",
       "    }\n",
       "</style>\n",
       "<table border=\"1\" class=\"dataframe\">\n",
       "  <thead>\n",
       "    <tr style=\"text-align: right;\">\n",
       "      <th></th>\n",
       "      <th>pub_date</th>\n",
       "    </tr>\n",
       "  </thead>\n",
       "  <tbody>\n",
       "    <tr>\n",
       "      <th>0</th>\n",
       "      <td>12</td>\n",
       "    </tr>\n",
       "    <tr>\n",
       "      <th>1</th>\n",
       "      <td>12</td>\n",
       "    </tr>\n",
       "    <tr>\n",
       "      <th>2</th>\n",
       "      <td>12</td>\n",
       "    </tr>\n",
       "    <tr>\n",
       "      <th>3</th>\n",
       "      <td>12</td>\n",
       "    </tr>\n",
       "    <tr>\n",
       "      <th>4</th>\n",
       "      <td>12</td>\n",
       "    </tr>\n",
       "    <tr>\n",
       "      <th>...</th>\n",
       "      <td>...</td>\n",
       "    </tr>\n",
       "    <tr>\n",
       "      <th>53253</th>\n",
       "      <td>4</td>\n",
       "    </tr>\n",
       "    <tr>\n",
       "      <th>53254</th>\n",
       "      <td>4</td>\n",
       "    </tr>\n",
       "    <tr>\n",
       "      <th>53255</th>\n",
       "      <td>4</td>\n",
       "    </tr>\n",
       "    <tr>\n",
       "      <th>53256</th>\n",
       "      <td>4</td>\n",
       "    </tr>\n",
       "    <tr>\n",
       "      <th>53257</th>\n",
       "      <td>4</td>\n",
       "    </tr>\n",
       "  </tbody>\n",
       "</table>\n",
       "<p>53258 rows × 1 columns</p>\n",
       "</div>"
      ],
      "text/plain": [
       "       pub_date\n",
       "0            12\n",
       "1            12\n",
       "2            12\n",
       "3            12\n",
       "4            12\n",
       "...         ...\n",
       "53253         4\n",
       "53254         4\n",
       "53255         4\n",
       "53256         4\n",
       "53257         4\n",
       "\n",
       "[53258 rows x 1 columns]"
      ]
     },
     "execution_count": 40,
     "metadata": {},
     "output_type": "execute_result"
    }
   ],
   "source": [
    "dt_month"
   ]
  },
  {
   "cell_type": "code",
   "execution_count": 46,
   "id": "d3ad595e-a083-42a2-a3b2-7b343a03d596",
   "metadata": {},
   "outputs": [],
   "source": [
    "dt_month['indicator'] = 1"
   ]
  },
  {
   "cell_type": "code",
   "execution_count": 47,
   "id": "9fb8bce7-386f-4ffd-bc7f-ac8e2befed12",
   "metadata": {},
   "outputs": [
    {
     "data": {
      "text/html": [
       "<div>\n",
       "<style scoped>\n",
       "    .dataframe tbody tr th:only-of-type {\n",
       "        vertical-align: middle;\n",
       "    }\n",
       "\n",
       "    .dataframe tbody tr th {\n",
       "        vertical-align: top;\n",
       "    }\n",
       "\n",
       "    .dataframe thead th {\n",
       "        text-align: right;\n",
       "    }\n",
       "</style>\n",
       "<table border=\"1\" class=\"dataframe\">\n",
       "  <thead>\n",
       "    <tr style=\"text-align: right;\">\n",
       "      <th></th>\n",
       "      <th>pub_date</th>\n",
       "      <th>indicator</th>\n",
       "    </tr>\n",
       "  </thead>\n",
       "  <tbody>\n",
       "    <tr>\n",
       "      <th>0</th>\n",
       "      <td>12</td>\n",
       "      <td>1</td>\n",
       "    </tr>\n",
       "    <tr>\n",
       "      <th>1</th>\n",
       "      <td>12</td>\n",
       "      <td>1</td>\n",
       "    </tr>\n",
       "    <tr>\n",
       "      <th>2</th>\n",
       "      <td>12</td>\n",
       "      <td>1</td>\n",
       "    </tr>\n",
       "    <tr>\n",
       "      <th>3</th>\n",
       "      <td>12</td>\n",
       "      <td>1</td>\n",
       "    </tr>\n",
       "    <tr>\n",
       "      <th>4</th>\n",
       "      <td>12</td>\n",
       "      <td>1</td>\n",
       "    </tr>\n",
       "    <tr>\n",
       "      <th>...</th>\n",
       "      <td>...</td>\n",
       "      <td>...</td>\n",
       "    </tr>\n",
       "    <tr>\n",
       "      <th>53253</th>\n",
       "      <td>4</td>\n",
       "      <td>1</td>\n",
       "    </tr>\n",
       "    <tr>\n",
       "      <th>53254</th>\n",
       "      <td>4</td>\n",
       "      <td>1</td>\n",
       "    </tr>\n",
       "    <tr>\n",
       "      <th>53255</th>\n",
       "      <td>4</td>\n",
       "      <td>1</td>\n",
       "    </tr>\n",
       "    <tr>\n",
       "      <th>53256</th>\n",
       "      <td>4</td>\n",
       "      <td>1</td>\n",
       "    </tr>\n",
       "    <tr>\n",
       "      <th>53257</th>\n",
       "      <td>4</td>\n",
       "      <td>1</td>\n",
       "    </tr>\n",
       "  </tbody>\n",
       "</table>\n",
       "<p>53258 rows × 2 columns</p>\n",
       "</div>"
      ],
      "text/plain": [
       "       pub_date  indicator\n",
       "0            12          1\n",
       "1            12          1\n",
       "2            12          1\n",
       "3            12          1\n",
       "4            12          1\n",
       "...         ...        ...\n",
       "53253         4          1\n",
       "53254         4          1\n",
       "53255         4          1\n",
       "53256         4          1\n",
       "53257         4          1\n",
       "\n",
       "[53258 rows x 2 columns]"
      ]
     },
     "execution_count": 47,
     "metadata": {},
     "output_type": "execute_result"
    }
   ],
   "source": [
    "dt_month"
   ]
  },
  {
   "cell_type": "code",
   "execution_count": 51,
   "id": "33fae6f0-8aa7-4b54-9751-64c9939305b6",
   "metadata": {},
   "outputs": [
    {
     "data": {
      "text/html": [
       "<div>\n",
       "<style scoped>\n",
       "    .dataframe tbody tr th:only-of-type {\n",
       "        vertical-align: middle;\n",
       "    }\n",
       "\n",
       "    .dataframe tbody tr th {\n",
       "        vertical-align: top;\n",
       "    }\n",
       "\n",
       "    .dataframe thead th {\n",
       "        text-align: right;\n",
       "    }\n",
       "</style>\n",
       "<table border=\"1\" class=\"dataframe\">\n",
       "  <thead>\n",
       "    <tr style=\"text-align: right;\">\n",
       "      <th></th>\n",
       "      <th>indicator</th>\n",
       "    </tr>\n",
       "    <tr>\n",
       "      <th>pub_date</th>\n",
       "      <th></th>\n",
       "    </tr>\n",
       "  </thead>\n",
       "  <tbody>\n",
       "    <tr>\n",
       "      <th>1</th>\n",
       "      <td>4482</td>\n",
       "    </tr>\n",
       "    <tr>\n",
       "      <th>2</th>\n",
       "      <td>4122</td>\n",
       "    </tr>\n",
       "    <tr>\n",
       "      <th>3</th>\n",
       "      <td>4690</td>\n",
       "    </tr>\n",
       "    <tr>\n",
       "      <th>4</th>\n",
       "      <td>4523</td>\n",
       "    </tr>\n",
       "    <tr>\n",
       "      <th>5</th>\n",
       "      <td>4737</td>\n",
       "    </tr>\n",
       "    <tr>\n",
       "      <th>6</th>\n",
       "      <td>4496</td>\n",
       "    </tr>\n",
       "    <tr>\n",
       "      <th>7</th>\n",
       "      <td>4287</td>\n",
       "    </tr>\n",
       "    <tr>\n",
       "      <th>8</th>\n",
       "      <td>4109</td>\n",
       "    </tr>\n",
       "    <tr>\n",
       "      <th>9</th>\n",
       "      <td>4418</td>\n",
       "    </tr>\n",
       "    <tr>\n",
       "      <th>10</th>\n",
       "      <td>4989</td>\n",
       "    </tr>\n",
       "    <tr>\n",
       "      <th>11</th>\n",
       "      <td>4420</td>\n",
       "    </tr>\n",
       "    <tr>\n",
       "      <th>12</th>\n",
       "      <td>3985</td>\n",
       "    </tr>\n",
       "  </tbody>\n",
       "</table>\n",
       "</div>"
      ],
      "text/plain": [
       "          indicator\n",
       "pub_date           \n",
       "1              4482\n",
       "2              4122\n",
       "3              4690\n",
       "4              4523\n",
       "5              4737\n",
       "6              4496\n",
       "7              4287\n",
       "8              4109\n",
       "9              4418\n",
       "10             4989\n",
       "11             4420\n",
       "12             3985"
      ]
     },
     "execution_count": 51,
     "metadata": {},
     "output_type": "execute_result"
    }
   ],
   "source": [
    "dt_month.groupby('pub_date').sum()"
   ]
  },
  {
   "cell_type": "code",
   "execution_count": 52,
   "id": "f00cff6a-a020-42a5-afcb-7b6627f8ff70",
   "metadata": {},
   "outputs": [],
   "source": [
    "data_month_sum = dt_month.groupby('pub_date').sum()"
   ]
  },
  {
   "cell_type": "code",
   "execution_count": 50,
   "id": "560d733b-7960-4e1d-bdde-73b3a02187bd",
   "metadata": {},
   "outputs": [],
   "source": [
    "import seaborn as sns\n",
    "import matplotlib as mpl\n",
    "import matplotlib.pyplot as plt"
   ]
  },
  {
   "cell_type": "code",
   "execution_count": 61,
   "id": "1f37b842-f45b-4638-b8dc-5611545ca7ae",
   "metadata": {},
   "outputs": [
    {
     "name": "stderr",
     "output_type": "stream",
     "text": [
      "/var/folders/s1/2r578vx153d8cmbdps9ln15m0000gn/T/ipykernel_48662/1416536448.py:12: UserWarning: Ignoring `palette` because no `hue` variable has been assigned.\n",
      "  sns.histplot(\n"
     ]
    },
    {
     "data": {
      "text/plain": [
       "[<matplotlib.axis.XTick at 0x116a3f010>,\n",
       " <matplotlib.axis.XTick at 0x116a52690>,\n",
       " <matplotlib.axis.XTick at 0x116a53350>,\n",
       " <matplotlib.axis.XTick at 0x117147890>,\n",
       " <matplotlib.axis.XTick at 0x1170b4bd0>,\n",
       " <matplotlib.axis.XTick at 0x1170cea90>,\n",
       " <matplotlib.axis.XTick at 0x11716fc50>,\n",
       " <matplotlib.axis.XTick at 0x116ed6f50>,\n",
       " <matplotlib.axis.XTick at 0x116ffd150>,\n",
       " <matplotlib.axis.XTick at 0x116b88450>,\n",
       " <matplotlib.axis.XTick at 0x116ed1950>,\n",
       " <matplotlib.axis.XTick at 0x116ede4d0>]"
      ]
     },
     "execution_count": 61,
     "metadata": {},
     "output_type": "execute_result"
    },
    {
     "data": {
      "image/png": "[encoded data removed]",
      "text/plain": [
       "<Figure size 640x480 with 1 Axes>"
      ]
     },
     "metadata": {},
     "output_type": "display_data"
    }
   ],
   "source": [
    "import seaborn as sns\n",
    "import matplotlib as mpl\n",
    "import matplotlib.pyplot as plt\n",
    "\n",
    "sns.set_theme(style=\"ticks\")\n",
    "\n",
    "diamonds = data_month_sum\n",
    "\n",
    "\n",
    "sns.despine(f)\n",
    "\n",
    "sns.histplot(\n",
    "    diamonds,\n",
    "    x=\"pub_date\", y = 'indicator',\n",
    "    palette=\"light:m_r\",\n",
    "    edgecolor=\".3\",\n",
    "    linewidth=.5,\n",
    ")\n",
    "ax.xaxis.set_major_formatter(mpl.ticker.ScalarFormatter())\n",
    "ax.set_xticks([1, 2, 3, 4, 5, 6, 7, 8, 9, 10, 11, 12])"
   ]
  },
  {
   "cell_type": "code",
   "execution_count": 64,
   "id": "31d72034-0678-4661-89c6-c95d03c4089a",
   "metadata": {},
   "outputs": [
    {
     "data": {
      "text/plain": [
       "<Axes: xlabel='pub_date', ylabel='indicator'>"
      ]
     },
     "execution_count": 64,
     "metadata": {},
     "output_type": "execute_result"
    },
    {
     "data": {
      "image/png": "[encoded data removed]",
      "text/plain": [
       "<Figure size 640x480 with 1 Axes>"
      ]
     },
     "metadata": {},
     "output_type": "display_data"
    }
   ],
   "source": [
    "import seaborn as sns\n",
    "sns.set_theme(style=\"darkgrid\")\n",
    "\n",
    "# Load an example dataset with long-form data\n",
    "fmri = data_month_sum\n",
    "\n",
    "# Plot the responses for different events and regions\n",
    "sns.lineplot(x=\"pub_date\", y=\"indicator\",\n",
    "             data=fmri)"
   ]
  },
  {
   "cell_type": "code",
   "execution_count": null,
   "id": "31e8c597-cefa-40c0-afd9-fa82c2fb4a87",
   "metadata": {},
   "outputs": [],
   "source": []
  }
 ],
 "metadata": {
  "kernelspec": {
   "display_name": "Python 3 (ipykernel)",
   "language": "python",
   "name": "python3"
  },
  "language_info": {
   "codemirror_mode": {
    "name": "ipython",
    "version": 3
   },
   "file_extension": ".py",
   "mimetype": "text/x-python",
   "name": "python",
   "nbconvert_exporter": "python",
   "pygments_lexer": "ipython3",
   "version": "3.11.1"
  }
 },
 "nbformat": 4,
 "nbformat_minor": 5
}
