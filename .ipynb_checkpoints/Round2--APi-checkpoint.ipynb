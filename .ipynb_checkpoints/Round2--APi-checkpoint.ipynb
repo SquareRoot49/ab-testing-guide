{
 "cells": [
  {
   "cell_type": "code",
   "execution_count": 2,
   "id": "4e5d4207-1d01-4460-a018-5347d72e6944",
   "metadata": {},
   "outputs": [],
   "source": [
    "import requests\n",
    "import pandas as pd"
   ]
  },
  {
   "cell_type": "code",
   "execution_count": 6,
   "id": "ee5030ea-f420-44f4-bf5e-3331c4e7206a",
   "metadata": {},
   "outputs": [],
   "source": [
    "base_url = 'https://api.census.gov/data/timeseries/intltrade/imports/enduse'"
   ]
  },
  {
   "cell_type": "code",
   "execution_count": 5,
   "id": "95594874-a0dc-4496-ba31-306dc63157e6",
   "metadata": {},
   "outputs": [],
   "source": [
    "end_point = 'https://api.census.gov/data/timeseries/intltrade/imports/enduse'\n",
    "\n",
    "years = range(2018, 2022)\n",
    "months = range(1, 13)"
   ]
  },
  {
   "cell_type": "code",
   "execution_count": 7,
   "id": "b9385c6c-f323-47df-bebb-ac1d01950f0e",
   "metadata": {},
   "outputs": [],
   "source": [
    "params = {'get': 'CTY_CODE,CTY_NAME,I_ENDUSE,I_ENDUSE_LDESC,GEN_VAL_MO,CON_VAL_MO',\n",
    "         'time': '2013-01'}\n",
    "resp = requests.get(url = base_url, params = params)"
   ]
  },
  {
   "cell_type": "code",
   "execution_count": 10,
   "id": "71c903bf-8882-4efa-9253-cf2e7ce1a723",
   "metadata": {},
   "outputs": [
    {
     "data": {
      "text/plain": [
       "True"
      ]
     },
     "execution_count": 10,
     "metadata": {},
     "output_type": "execute_result"
    }
   ],
   "source": [
    "resp.status_code  == 200"
   ]
  },
  {
   "cell_type": "code",
   "execution_count": 11,
   "id": "73beb8a5-e77a-4f44-8063-45a4b1a6c85c",
   "metadata": {},
   "outputs": [],
   "source": [
    "data = resp.json()"
   ]
  },
  {
   "cell_type": "code",
   "execution_count": 14,
   "id": "b8b8bbd9-5704-4283-babc-9aa14dc2aada",
   "metadata": {},
   "outputs": [],
   "source": [
    "df = pd.DataFrame(data[1:], columns = data[0])"
   ]
  },
  {
   "cell_type": "code",
   "execution_count": 15,
   "id": "825678b7-80a1-42ab-8d53-bdaa3258bb74",
   "metadata": {},
   "outputs": [
    {
     "data": {
      "text/html": [
       "<div>\n",
       "<style scoped>\n",
       "    .dataframe tbody tr th:only-of-type {\n",
       "        vertical-align: middle;\n",
       "    }\n",
       "\n",
       "    .dataframe tbody tr th {\n",
       "        vertical-align: top;\n",
       "    }\n",
       "\n",
       "    .dataframe thead th {\n",
       "        text-align: right;\n",
       "    }\n",
       "</style>\n",
       "<table border=\"1\" class=\"dataframe\">\n",
       "  <thead>\n",
       "    <tr style=\"text-align: right;\">\n",
       "      <th></th>\n",
       "      <th>CTY_CODE</th>\n",
       "      <th>CTY_NAME</th>\n",
       "      <th>I_ENDUSE</th>\n",
       "      <th>I_ENDUSE_LDESC</th>\n",
       "      <th>GEN_VAL_MO</th>\n",
       "      <th>CON_VAL_MO</th>\n",
       "      <th>time</th>\n",
       "    </tr>\n",
       "  </thead>\n",
       "  <tbody>\n",
       "    <tr>\n",
       "      <th>0</th>\n",
       "      <td>4050</td>\n",
       "      <td>FINLAND</td>\n",
       "      <td>-</td>\n",
       "      <td>TOTAL IMPORTS FOR ALL END-USE CODES</td>\n",
       "      <td>319554327</td>\n",
       "      <td>335786013</td>\n",
       "      <td>2013-01</td>\n",
       "    </tr>\n",
       "    <tr>\n",
       "      <th>1</th>\n",
       "      <td>4635</td>\n",
       "      <td>KYRGYZSTAN</td>\n",
       "      <td>-</td>\n",
       "      <td>TOTAL IMPORTS FOR ALL END-USE CODES</td>\n",
       "      <td>17592</td>\n",
       "      <td>17592</td>\n",
       "      <td>2013-01</td>\n",
       "    </tr>\n",
       "    <tr>\n",
       "      <th>2</th>\n",
       "      <td>4641</td>\n",
       "      <td>MOLDOVA</td>\n",
       "      <td>-</td>\n",
       "      <td>TOTAL IMPORTS FOR ALL END-USE CODES</td>\n",
       "      <td>3766608</td>\n",
       "      <td>3640049</td>\n",
       "      <td>2013-01</td>\n",
       "    </tr>\n",
       "    <tr>\n",
       "      <th>3</th>\n",
       "      <td>4642</td>\n",
       "      <td>TAJIKISTAN</td>\n",
       "      <td>-</td>\n",
       "      <td>TOTAL IMPORTS FOR ALL END-USE CODES</td>\n",
       "      <td>10311</td>\n",
       "      <td>10311</td>\n",
       "      <td>2013-01</td>\n",
       "    </tr>\n",
       "    <tr>\n",
       "      <th>4</th>\n",
       "      <td>4643</td>\n",
       "      <td>TURKMENISTAN</td>\n",
       "      <td>-</td>\n",
       "      <td>TOTAL IMPORTS FOR ALL END-USE CODES</td>\n",
       "      <td>710820</td>\n",
       "      <td>710820</td>\n",
       "      <td>2013-01</td>\n",
       "    </tr>\n",
       "  </tbody>\n",
       "</table>\n",
       "</div>"
      ],
      "text/plain": [
       "  CTY_CODE      CTY_NAME I_ENDUSE                       I_ENDUSE_LDESC  \\\n",
       "0     4050       FINLAND        -  TOTAL IMPORTS FOR ALL END-USE CODES   \n",
       "1     4635    KYRGYZSTAN        -  TOTAL IMPORTS FOR ALL END-USE CODES   \n",
       "2     4641       MOLDOVA        -  TOTAL IMPORTS FOR ALL END-USE CODES   \n",
       "3     4642    TAJIKISTAN        -  TOTAL IMPORTS FOR ALL END-USE CODES   \n",
       "4     4643  TURKMENISTAN        -  TOTAL IMPORTS FOR ALL END-USE CODES   \n",
       "\n",
       "  GEN_VAL_MO CON_VAL_MO     time  \n",
       "0  319554327  335786013  2013-01  \n",
       "1      17592      17592  2013-01  \n",
       "2    3766608    3640049  2013-01  \n",
       "3      10311      10311  2013-01  \n",
       "4     710820     710820  2013-01  "
      ]
     },
     "execution_count": 15,
     "metadata": {},
     "output_type": "execute_result"
    }
   ],
   "source": [
    "df.head()"
   ]
  },
  {
   "cell_type": "code",
   "execution_count": 16,
   "id": "26300d1b-e037-4488-8669-a8cbef1ca361",
   "metadata": {},
   "outputs": [],
   "source": [
    "dfs = []\n",
    "for year in years:\n",
    "    for month in months:\n",
    "        month = month if month >= 10 else '0' + str(month)\n",
    "        params = {'get': 'CTY_CODE,CTY_NAME,I_ENDUSE,I_ENDUSE_LDESC,GEN_VAL_MO,CON_VAL_MO',\n",
    "                 'time': '{}-{}'.format(year, month)}\n",
    "        resp = requests.get(url = base_url, params = params)\n",
    "        dat = resp.json()\n",
    "        df = pd.DataFrame(dat[1:], columns = data[0])\n",
    "        dfs.append(df)"
   ]
  },
  {
   "cell_type": "code",
   "execution_count": 20,
   "id": "73f3c633-974b-4ec4-960a-93f0e0d4a7b1",
   "metadata": {},
   "outputs": [],
   "source": [
    "bdf = pd.concat(dfs)"
   ]
  },
  {
   "cell_type": "code",
   "execution_count": 23,
   "id": "3f1a206d-b937-4097-b9e8-23d0b39fa3d9",
   "metadata": {},
   "outputs": [
    {
     "data": {
      "text/html": [
       "<div>\n",
       "<style scoped>\n",
       "    .dataframe tbody tr th:only-of-type {\n",
       "        vertical-align: middle;\n",
       "    }\n",
       "\n",
       "    .dataframe tbody tr th {\n",
       "        vertical-align: top;\n",
       "    }\n",
       "\n",
       "    .dataframe thead th {\n",
       "        text-align: right;\n",
       "    }\n",
       "</style>\n",
       "<table border=\"1\" class=\"dataframe\">\n",
       "  <thead>\n",
       "    <tr style=\"text-align: right;\">\n",
       "      <th></th>\n",
       "      <th>CTY_CODE</th>\n",
       "      <th>CTY_NAME</th>\n",
       "      <th>I_ENDUSE</th>\n",
       "      <th>I_ENDUSE_LDESC</th>\n",
       "      <th>GEN_VAL_MO</th>\n",
       "      <th>CON_VAL_MO</th>\n",
       "      <th>time</th>\n",
       "    </tr>\n",
       "  </thead>\n",
       "  <tbody>\n",
       "    <tr>\n",
       "      <th>0</th>\n",
       "      <td>-</td>\n",
       "      <td>TOTAL FOR ALL COUNTRIES</td>\n",
       "      <td>-</td>\n",
       "      <td>TOTAL IMPORTS FOR ALL END-USE CODES</td>\n",
       "      <td>203028883846</td>\n",
       "      <td>201363447994</td>\n",
       "      <td>2018-01</td>\n",
       "    </tr>\n",
       "    <tr>\n",
       "      <th>1</th>\n",
       "      <td>0001</td>\n",
       "      <td>OPEC</td>\n",
       "      <td>-</td>\n",
       "      <td>TOTAL IMPORTS FOR ALL END-USE CODES</td>\n",
       "      <td>5811776722</td>\n",
       "      <td>5077058800</td>\n",
       "      <td>2018-01</td>\n",
       "    </tr>\n",
       "    <tr>\n",
       "      <th>2</th>\n",
       "      <td>0003</td>\n",
       "      <td>EUROPEAN UNION</td>\n",
       "      <td>-</td>\n",
       "      <td>TOTAL IMPORTS FOR ALL END-USE CODES</td>\n",
       "      <td>32324828722</td>\n",
       "      <td>32147782489</td>\n",
       "      <td>2018-01</td>\n",
       "    </tr>\n",
       "    <tr>\n",
       "      <th>3</th>\n",
       "      <td>0014</td>\n",
       "      <td>PACIFIC RIM COUNTRIES</td>\n",
       "      <td>-</td>\n",
       "      <td>TOTAL IMPORTS FOR ALL END-USE CODES</td>\n",
       "      <td>75627219017</td>\n",
       "      <td>74486177148</td>\n",
       "      <td>2018-01</td>\n",
       "    </tr>\n",
       "    <tr>\n",
       "      <th>4</th>\n",
       "      <td>0017</td>\n",
       "      <td>CAFTA-DR</td>\n",
       "      <td>-</td>\n",
       "      <td>TOTAL IMPORTS FOR ALL END-USE CODES</td>\n",
       "      <td>1745667404</td>\n",
       "      <td>1730840561</td>\n",
       "      <td>2018-01</td>\n",
       "    </tr>\n",
       "  </tbody>\n",
       "</table>\n",
       "</div>"
      ],
      "text/plain": [
       "  CTY_CODE                 CTY_NAME I_ENDUSE  \\\n",
       "0        -  TOTAL FOR ALL COUNTRIES        -   \n",
       "1     0001                     OPEC        -   \n",
       "2     0003           EUROPEAN UNION        -   \n",
       "3     0014    PACIFIC RIM COUNTRIES        -   \n",
       "4     0017                 CAFTA-DR        -   \n",
       "\n",
       "                        I_ENDUSE_LDESC    GEN_VAL_MO    CON_VAL_MO     time  \n",
       "0  TOTAL IMPORTS FOR ALL END-USE CODES  203028883846  201363447994  2018-01  \n",
       "1  TOTAL IMPORTS FOR ALL END-USE CODES    5811776722    5077058800  2018-01  \n",
       "2  TOTAL IMPORTS FOR ALL END-USE CODES   32324828722   32147782489  2018-01  \n",
       "3  TOTAL IMPORTS FOR ALL END-USE CODES   75627219017   74486177148  2018-01  \n",
       "4  TOTAL IMPORTS FOR ALL END-USE CODES    1745667404    1730840561  2018-01  "
      ]
     },
     "execution_count": 23,
     "metadata": {},
     "output_type": "execute_result"
    }
   ],
   "source": [
    "bdf.head()"
   ]
  },
  {
   "cell_type": "code",
   "execution_count": 21,
   "id": "f2eef708-b819-4e69-b390-32037fa31518",
   "metadata": {},
   "outputs": [
    {
     "data": {
      "text/html": [
       "<div>\n",
       "<style scoped>\n",
       "    .dataframe tbody tr th:only-of-type {\n",
       "        vertical-align: middle;\n",
       "    }\n",
       "\n",
       "    .dataframe tbody tr th {\n",
       "        vertical-align: top;\n",
       "    }\n",
       "\n",
       "    .dataframe thead th {\n",
       "        text-align: right;\n",
       "    }\n",
       "</style>\n",
       "<table border=\"1\" class=\"dataframe\">\n",
       "  <thead>\n",
       "    <tr style=\"text-align: right;\">\n",
       "      <th></th>\n",
       "      <th>CTY_CODE</th>\n",
       "      <th>CTY_NAME</th>\n",
       "      <th>I_ENDUSE</th>\n",
       "      <th>I_ENDUSE_LDESC</th>\n",
       "      <th>GEN_VAL_MO</th>\n",
       "      <th>CON_VAL_MO</th>\n",
       "      <th>time</th>\n",
       "    </tr>\n",
       "  </thead>\n",
       "  <tbody>\n",
       "    <tr>\n",
       "      <th>19444</th>\n",
       "      <td>7830</td>\n",
       "      <td>TANZANIA</td>\n",
       "      <td>50040</td>\n",
       "      <td>OTHER (MOVIES, MISCELLANEOUS IMPORTS, AND SPEC...</td>\n",
       "      <td>0</td>\n",
       "      <td>0</td>\n",
       "      <td>2021-12</td>\n",
       "    </tr>\n",
       "    <tr>\n",
       "      <th>19445</th>\n",
       "      <td>7850</td>\n",
       "      <td>MAURITIUS</td>\n",
       "      <td>50040</td>\n",
       "      <td>OTHER (MOVIES, MISCELLANEOUS IMPORTS, AND SPEC...</td>\n",
       "      <td>3163141</td>\n",
       "      <td>3163141</td>\n",
       "      <td>2021-12</td>\n",
       "    </tr>\n",
       "    <tr>\n",
       "      <th>19446</th>\n",
       "      <td>7880</td>\n",
       "      <td>MADAGASCAR</td>\n",
       "      <td>50040</td>\n",
       "      <td>OTHER (MOVIES, MISCELLANEOUS IMPORTS, AND SPEC...</td>\n",
       "      <td>98077</td>\n",
       "      <td>98077</td>\n",
       "      <td>2021-12</td>\n",
       "    </tr>\n",
       "    <tr>\n",
       "      <th>19447</th>\n",
       "      <td>7910</td>\n",
       "      <td>SOUTH AFRICA</td>\n",
       "      <td>50040</td>\n",
       "      <td>OTHER (MOVIES, MISCELLANEOUS IMPORTS, AND SPEC...</td>\n",
       "      <td>375341</td>\n",
       "      <td>375341</td>\n",
       "      <td>2021-12</td>\n",
       "    </tr>\n",
       "    <tr>\n",
       "      <th>19448</th>\n",
       "      <td>7XXX</td>\n",
       "      <td>AFRICA</td>\n",
       "      <td>50040</td>\n",
       "      <td>OTHER (MOVIES, MISCELLANEOUS IMPORTS, AND SPEC...</td>\n",
       "      <td>3964187</td>\n",
       "      <td>3964187</td>\n",
       "      <td>2021-12</td>\n",
       "    </tr>\n",
       "  </tbody>\n",
       "</table>\n",
       "</div>"
      ],
      "text/plain": [
       "      CTY_CODE      CTY_NAME I_ENDUSE  \\\n",
       "19444     7830      TANZANIA    50040   \n",
       "19445     7850     MAURITIUS    50040   \n",
       "19446     7880    MADAGASCAR    50040   \n",
       "19447     7910  SOUTH AFRICA    50040   \n",
       "19448     7XXX        AFRICA    50040   \n",
       "\n",
       "                                          I_ENDUSE_LDESC GEN_VAL_MO  \\\n",
       "19444  OTHER (MOVIES, MISCELLANEOUS IMPORTS, AND SPEC...          0   \n",
       "19445  OTHER (MOVIES, MISCELLANEOUS IMPORTS, AND SPEC...    3163141   \n",
       "19446  OTHER (MOVIES, MISCELLANEOUS IMPORTS, AND SPEC...      98077   \n",
       "19447  OTHER (MOVIES, MISCELLANEOUS IMPORTS, AND SPEC...     375341   \n",
       "19448  OTHER (MOVIES, MISCELLANEOUS IMPORTS, AND SPEC...    3964187   \n",
       "\n",
       "      CON_VAL_MO     time  \n",
       "19444          0  2021-12  \n",
       "19445    3163141  2021-12  \n",
       "19446      98077  2021-12  \n",
       "19447     375341  2021-12  \n",
       "19448    3964187  2021-12  "
      ]
     },
     "execution_count": 21,
     "metadata": {},
     "output_type": "execute_result"
    }
   ],
   "source": [
    "bdf.tail()"
   ]
  },
  {
   "cell_type": "code",
   "execution_count": 36,
   "id": "cca4a62b-f5ad-4259-899c-8ec242b98d4f",
   "metadata": {},
   "outputs": [
    {
     "data": {
      "text/plain": [
       "(828717, 7)"
      ]
     },
     "execution_count": 36,
     "metadata": {},
     "output_type": "execute_result"
    }
   ],
   "source": [
    "bdf.shape"
   ]
  },
  {
   "cell_type": "code",
   "execution_count": 19,
   "id": "27a4e02d-e9b3-4887-9239-593028fdb68c",
   "metadata": {},
   "outputs": [],
   "source": [
    "# Task 3 - Analyze the Dependence\n",
    "#Please quantify a major dependence we have on Russia or Ukrain using the data we've collected."
   ]
  },
  {
   "cell_type": "code",
   "execution_count": 24,
   "id": "953de5a9-afec-40b3-8dd6-4d7f17396711",
   "metadata": {},
   "outputs": [],
   "source": [
    "# gen_val_mo means that General Imports, Total Value 总共进口量\n",
    "# Imports for Consumption, Total Value"
   ]
  },
  {
   "cell_type": "code",
   "execution_count": 39,
   "id": "d6b09aee-442f-41a7-a06f-78bda9f21c3b",
   "metadata": {},
   "outputs": [],
   "source": [
    "bdf_grp = bdf.groupby('I_ENDUSE_LDESC')"
   ]
  },
  {
   "cell_type": "code",
   "execution_count": 33,
   "id": "9f7959d2-d24f-47cf-b909-9541f5297aa0",
   "metadata": {},
   "outputs": [
    {
     "data": {
      "text/plain": [
       "149"
      ]
     },
     "execution_count": 33,
     "metadata": {},
     "output_type": "execute_result"
    }
   ],
   "source": [
    "len(bdf_grp)"
   ]
  },
  {
   "cell_type": "code",
   "execution_count": 34,
   "id": "d9932aae-7a4c-4fb8-8ce2-684868bc4cca",
   "metadata": {},
   "outputs": [
    {
     "name": "stdout",
     "output_type": "stream",
     "text": [
      "('AGRICULTURAL MACHINERY, EQUIPMENT',       CTY_CODE                 CTY_NAME I_ENDUSE  \\\n",
      "7817         -  TOTAL FOR ALL COUNTRIES    21200   \n",
      "7818      0001                     OPEC    21200   \n",
      "7819      0003           EUROPEAN UNION    21200   \n",
      "7820      0014    PACIFIC RIM COUNTRIES    21200   \n",
      "7821      0017                 CAFTA-DR    21200   \n",
      "...        ...                      ...      ...   \n",
      "10782     7550                    GABON    21200   \n",
      "10783     7690                   RWANDA    21200   \n",
      "10784     7790                    KENYA    21200   \n",
      "10785     7910             SOUTH AFRICA    21200   \n",
      "10786     7XXX                   AFRICA    21200   \n",
      "\n",
      "                          I_ENDUSE_LDESC GEN_VAL_MO CON_VAL_MO     time  \n",
      "7817   AGRICULTURAL MACHINERY, EQUIPMENT  888798136  865117553  2018-01  \n",
      "7818   AGRICULTURAL MACHINERY, EQUIPMENT     341248     341248  2018-01  \n",
      "7819   AGRICULTURAL MACHINERY, EQUIPMENT  285254372  286504659  2018-01  \n",
      "7820   AGRICULTURAL MACHINERY, EQUIPMENT  300840737  276880670  2018-01  \n",
      "7821   AGRICULTURAL MACHINERY, EQUIPMENT    2253620    2253620  2018-01  \n",
      "...                                  ...        ...        ...      ...  \n",
      "10782  AGRICULTURAL MACHINERY, EQUIPMENT          0          0  2021-12  \n",
      "10783  AGRICULTURAL MACHINERY, EQUIPMENT          0          0  2021-12  \n",
      "10784  AGRICULTURAL MACHINERY, EQUIPMENT          0          0  2021-12  \n",
      "10785  AGRICULTURAL MACHINERY, EQUIPMENT      11773      11773  2021-12  \n",
      "10786  AGRICULTURAL MACHINERY, EQUIPMENT      94838      94838  2021-12  \n",
      "\n",
      "[5322 rows x 7 columns])\n"
     ]
    }
   ],
   "source": [
    "num = 0\n",
    "for gp in bdf_grp:\n",
    "    if num == 0:\n",
    "        print(gp)\n",
    "        num += 1"
   ]
  },
  {
   "cell_type": "code",
   "execution_count": 45,
   "id": "ddacc88c-bedb-4790-9777-d7d0b0618d5c",
   "metadata": {},
   "outputs": [],
   "source": [
    "bdf_grp = bdf.groupby('I_ENDUSE_LDESC')\n",
    "prop_russia = {}\n",
    "for gp in bdf_grp.groups:\n",
    "    sdf = bdf_grp.get_group(gp)\n",
    "    is_russia = sdf.CTY_NAME == 'RUSSIA'\n",
    "    russia_part = sdf.loc[is_russia, 'GEN_VAL_MO'].astype(float).sum()\n",
    "    prop_russia.update({gp: russia_part / sdf.GEN_VAL_MO.astype(float).sum()})"
   ]
  },
  {
   "cell_type": "code",
   "execution_count": 46,
   "id": "c86352e1-32b5-4e20-ab1f-4ed60e6e22a2",
   "metadata": {},
   "outputs": [
    {
     "data": {
      "text/plain": [
       "{'AGRICULTURAL MACHINERY, EQUIPMENT': np.float64(3.388073447270714e-05),\n",
       " 'ALCOHOLIC BEVERAGES, EXCLUDING WINE': np.float64(0.0003006778228228835),\n",
       " 'APPAREL, HOUSEHOLD GOODS - COTTON': np.float64(7.782437535001634e-06),\n",
       " 'APPAREL, HOUSEHOLD GOODS - WOOL': np.float64(8.910344523757516e-06),\n",
       " 'APPAREL, TEXTILES, NONWOOL OR COTTON': np.float64(1.1336670271047408e-05),\n",
       " 'APPAREL,HOUSEHOLD GOODS-NONTEXTILE': np.float64(7.301927371055773e-06),\n",
       " 'ARTWORK, ANTIQUES, STAMPS, ETC.': np.float64(0.0011665493879877869),\n",
       " 'AUTOMOTIVE TIRES AND TUBES': np.float64(0.0007062779056552828),\n",
       " 'AUTOMOTIVE VEHICLES, PARTS, AND ENGINES': np.float64(2.87798605986591e-05),\n",
       " 'BAKERY PRODUCTS': np.float64(0.00010852221788493086),\n",
       " 'BAUXITE AND ALUMINUM': np.float64(0.006508719289903639),\n",
       " 'BLANK TAPES, AUDIO & VISUAL': np.float64(0.0),\n",
       " 'BODIES AND CHASSIS FOR PASSENGER CARS': np.float64(5.582597412676474e-06),\n",
       " 'BODIES AND CHASSIS FOR TRUCKS AND BUSES': np.float64(1.151602392732711e-07),\n",
       " 'BOOKS, PRINTED MATTER': np.float64(0.00013761495943001952),\n",
       " 'BUSINESS MACHINES AND EQUIPMENT': np.float64(6.960129745912149e-06),\n",
       " 'CAMPING APPAREL AND GEAR': np.float64(7.60443865673431e-06),\n",
       " 'CANE AND BEET SUGAR': np.float64(3.7055887260419414e-06),\n",
       " 'CAPITAL GOODS, EXCEPT AUTOMOTIVE': np.float64(0.000164012794486051),\n",
       " 'CELL PHONES AND OTHER HOUSEHOLD GOODS, N.E.C.': np.float64(7.324967688451997e-06),\n",
       " 'CHEMICALS-FERTILIZERS': np.float64(0.014274802365936937),\n",
       " 'CHEMICALS-INORGANIC': np.float64(0.0017333684216656777),\n",
       " 'CHEMICALS-ORGANIC': np.float64(0.0003558492906207312),\n",
       " 'CHEMICALS-OTHER, N.E.C.': np.float64(0.00032627970251967005),\n",
       " 'CIVILIAN AIRCRAFT': np.float64(0.00020643339380109062),\n",
       " 'COAL AND RELATED FUELS': np.float64(0.0019533201736215452),\n",
       " 'COCOA BEANS': np.float64(0.0),\n",
       " 'COMMERCIAL VESSELS, OTHER': np.float64(7.051922302143892e-05),\n",
       " 'COMPUTER ACCESSORIES': np.float64(3.631692763782048e-06),\n",
       " 'COMPUTERS': np.float64(7.827695074597008e-07),\n",
       " 'CONSUMER GOODS': np.float64(0.00012262640329663494),\n",
       " 'COOKWARE, CUTLERY, TOOLS': np.float64(1.863622473742445e-05),\n",
       " 'COPPER': np.float64(0.00016489205504151375),\n",
       " 'COTTON CLOTH, FABRICS': np.float64(3.3585089815403058e-06),\n",
       " 'COTTON, NATURAL FIBERS': np.float64(6.381066232376803e-07),\n",
       " 'CRUDE OIL': np.float64(0.00394729226720242),\n",
       " 'DAIRY PRODUCTS AND EGGS': np.float64(6.250369149398696e-05),\n",
       " 'DRILLING & OILFIELD EQUIPMENT': np.float64(0.00544590924846543),\n",
       " 'ELECTRIC APPARATUS': np.float64(5.992617611216627e-05),\n",
       " 'ELECTRIC ENERGY': np.float64(0.0),\n",
       " 'ENGINES AND ENGINE PARTS': np.float64(4.098832309279184e-05),\n",
       " 'ENGINES-CIVILIAN AIRCRAFT': np.float64(0.00012981576049232377),\n",
       " 'EXCAVATING MACHINERY': np.float64(3.315249698463018e-05),\n",
       " 'FARMING MATERIALS, LIVESTOCK': np.float64(9.461415811947027e-05),\n",
       " 'FEEDSTUFF AND FOODGRAINS': np.float64(0.0007463434828245656),\n",
       " 'FINISHED METAL SHAPES': np.float64(0.0016339938828728061),\n",
       " 'FINISHED TEXTILE SUPPLIES': np.float64(2.9289356012225176e-05),\n",
       " 'FISH AND SHELLFISH': np.float64(0.006603077140240155),\n",
       " 'FOOD OILS, OILSEEDS': np.float64(0.00044256098472323654),\n",
       " 'FOOD, TOBACCO MACHINERY': np.float64(4.118249843807714e-05),\n",
       " 'FOODS, FEEDS, AND BEVERAGES': np.float64(0.0009551013891125707),\n",
       " 'FOOTWEAR': np.float64(2.5190063564683964e-05),\n",
       " 'FRUITS, FROZEN JUICES': np.float64(6.991987367298662e-06),\n",
       " 'FUEL OIL': np.float64(0.06283441815179538),\n",
       " 'FURNITURE, HOUSEHOLD GOODS, ETC.': np.float64(8.780976753413759e-05),\n",
       " 'GAS-NATURAL': np.float64(0.0002654142453723221),\n",
       " 'GEM DIAMONDS': np.float64(0.003798981392803513),\n",
       " 'GEM STONES, OTHER': np.float64(0.000332931955991901),\n",
       " 'GENERATORS, ACCESSORIES': np.float64(0.00023558808855161475),\n",
       " 'GLASS-PLATE, SHEET, ETC.': np.float64(2.0096287034070407e-05),\n",
       " 'GLASSWARE, CHINAWARE': np.float64(4.2893183750991085e-05),\n",
       " 'GREEN COFFEE': np.float64(0.0),\n",
       " 'HAIR, WASTE MATERIALS': np.float64(3.2785234098773866e-05),\n",
       " 'HIDES AND SKINS': np.float64(0.0004513862972666635),\n",
       " 'HOUSEHOLD APPLIANCES': np.float64(1.5778856776337584e-05),\n",
       " 'INDUSTRIAL ENGINES': np.float64(7.89754524772634e-05),\n",
       " 'INDUSTRIAL MACHINES, OTHER': np.float64(0.0001147003997789176),\n",
       " 'INDUSTRIAL SUPPLIES AND MATERIALS': np.float64(0.006147114852901978),\n",
       " 'INDUSTRIAL SUPPLIES, OTHER': np.float64(4.690539267318915e-05),\n",
       " 'IRON AND STEEL MILL PRODUCTS': np.float64(0.006095023724497794),\n",
       " 'IRON AND STEEL PRODUCTS, N.E.C.': np.float64(0.00038759292901947325),\n",
       " 'IRON AND STEEL, ADVANCED': np.float64(4.159585065528209e-05),\n",
       " 'JEWELRY': np.float64(4.489414549168414e-05),\n",
       " 'LABORATORY TESTING INSTRUMENTS': np.float64(0.00041277483625032547),\n",
       " 'LEATHER AND FURS': np.float64(1.147112385270637e-06),\n",
       " 'LIQUEFIED PETROLEUM GASES': np.float64(0.0),\n",
       " 'LUMBER': np.float64(0.0004873756393147786),\n",
       " 'MARINE ENGINES, PARTS': np.float64(1.1314107820355285e-05),\n",
       " 'MATERIALS HANDLING EQUIPMENT': np.float64(4.275948195036439e-05),\n",
       " 'MATERIALS, EXCLUDING CHEMICALS': np.float64(0.00016263646896714254),\n",
       " 'MEASURING, TESTING, CONTROL INSTRUMENTS': np.float64(4.879513778147949e-05),\n",
       " 'MEAT PRODUCTS': np.float64(0.0),\n",
       " 'MEDICINAL EQUIPMENT': np.float64(4.946615379446126e-05),\n",
       " 'METALWORKING MACHINE TOOLS': np.float64(5.0741473274133155e-05),\n",
       " 'MILITARY AIRCRAFT AND PARTS': np.float64(0.0001491992984073296),\n",
       " 'MINIMUM VALUE SHIPMENTS': np.float64(0.00012273915138953127),\n",
       " 'MOTORCYCLES AND PARTS': np.float64(0.00020125031982501127),\n",
       " 'MUSICAL INSTRUMENTS': np.float64(1.4360589791416777e-05),\n",
       " 'NATURAL RUBBER': np.float64(9.91830128111173e-06),\n",
       " 'NEWSPRINT': np.float64(2.9947613373559355e-05),\n",
       " 'NICKEL': np.float64(0.012329920398410089),\n",
       " 'NONAGRICULTURAL FOODS, ETC.': np.float64(4.451279121179166e-05),\n",
       " 'NONFARM TRACTORS AND PARTS': np.float64(1.4351933964354113e-05),\n",
       " 'NONFERROUS METALS, OTHER': np.float64(0.008794684452346978),\n",
       " 'NONMONETARY GOLD': np.float64(0.0005047646952748992),\n",
       " 'NONTEXTILE FLOOR TILES': np.float64(0.00010310046058717196),\n",
       " 'NUCLEAR FUEL MATERIALS': np.float64(0.03781444973585453),\n",
       " 'NUMISMATIC COINS': np.float64(0.0003314297138493545),\n",
       " 'NURSERY STOCK, ETC.': np.float64(1.2260876339657235e-07),\n",
       " 'NUTS': np.float64(0.0006376218893107963),\n",
       " 'OTHER (MOVIES, MISCELLANEOUS IMPORTS, AND SPECIAL TRANSACTIONS)': np.float64(0.0007964385139725142),\n",
       " 'OTHER CONSUMER NONDURABLES': np.float64(3.586311895013349e-05),\n",
       " 'OTHER FOODS': np.float64(0.0001228914587768327),\n",
       " 'OTHER GOODS': np.float64(0.0004093583087315335),\n",
       " 'OTHER MILITARY EQUIPMENT': np.float64(0.010129866422402928),\n",
       " 'OTHER PARTS AND ACCESSORIES OF VEHICLES': np.float64(8.028170789644146e-06),\n",
       " 'OTHER PRECIOUS METALS': np.float64(0.019632422683050963),\n",
       " 'PAPER AND PAPER PRODUCTS': np.float64(0.00010382156562743289),\n",
       " 'PARTS-CIVILIAN AIRCRAFT': np.float64(0.001295970780745294),\n",
       " 'PASSENGER CARS, NEW AND USED': np.float64(2.0049585981010227e-07),\n",
       " 'PETROLEUM PRODUCTS, OTHER': np.float64(0.009035338763529977),\n",
       " 'PHARMACEUTICAL PREPARATIONS': np.float64(3.048509223724081e-06),\n",
       " 'PHOTO EQUIPMENT': np.float64(9.674477202494226e-06),\n",
       " 'PHOTO, SERVICE INDUSTRY MACHINERY': np.float64(7.198904382666162e-05),\n",
       " 'PLASTIC MATERIALS': np.float64(0.0003758305239813885),\n",
       " 'PLEASURE BOATS AND MOTORS': np.float64(2.61579233043649e-05),\n",
       " 'PLYWOOD AND VENEERS': np.float64(0.010736868060074725),\n",
       " 'PULP AND PAPER MACHINERY': np.float64(8.257390865163741e-06),\n",
       " 'PULPWOOD AND WOODPULP': np.float64(1.9860203006505657e-07),\n",
       " 'RAILWAY TRANSPORTATION EQUIPMENT': np.float64(0.0020576068708925027),\n",
       " 'RECORDED MEDIA': np.float64(2.615374083710153e-05),\n",
       " 'RUGS': np.float64(1.7289821394635976e-06),\n",
       " 'SEMICONDUCTORS': np.float64(2.6410439125373423e-05),\n",
       " 'SHINGLES, WALLBOARD': np.float64(0.00029290011460716297),\n",
       " 'SPACECRAFT, EXCLUDING MILITARY': np.float64(0.12309979190806997),\n",
       " 'SPECIALIZED MINING': np.float64(3.757141887963119e-06),\n",
       " 'STEELMAKING MATERIALS': np.float64(0.027525531911012494),\n",
       " 'STEREO EQUIPMENT, ETC': np.float64(3.790443745214624e-06),\n",
       " 'STONE, SAND, CEMENT, ETC.': np.float64(2.390671486958748e-05),\n",
       " 'SULFUR, NONMETALLIC MINERALS': np.float64(0.005227123623317423),\n",
       " 'SYNTHETIC CLOTH': np.float64(1.8872814092862385e-05),\n",
       " 'SYNTHETIC RUBBER--PRIMARY': np.float64(0.007360439408107388),\n",
       " 'TEA, SPICES, ETC.': np.float64(8.818374317356885e-05),\n",
       " 'TELECOMMUNICATIONS EQUIPMENT': np.float64(9.206886250740142e-05),\n",
       " 'TELEVISIONS AND VIDEO EQUIPMENT': np.float64(5.309274398245526e-06),\n",
       " 'TEXTILE, SEWING MACHINES': np.float64(3.972108351930497e-07),\n",
       " 'TIN': np.float64(0.0008886887043580521),\n",
       " 'TOBACCO, WAXES, ETC.': np.float64(0.00021849215479018258),\n",
       " 'TOILETRIES AND COSMETICS': np.float64(0.00012288318941201286),\n",
       " 'TOTAL IMPORTS FOR ALL END-USE CODES': np.float64(0.0014781939548199473),\n",
       " 'TOYS, GAMES, AND SPORTING GOODS': np.float64(4.088623805620998e-05),\n",
       " 'TRUCKS, BUSES, AND SPECIAL PURPOSE VEHICLES': np.float64(1.9925486498070348e-07),\n",
       " 'U.S. GOODS RETURNED, AND REIMPORTS': np.float64(0.0002552565774911634),\n",
       " 'VEGETABLES': np.float64(5.1155935583297054e-05),\n",
       " 'VESSELS, EXCEPT SCRAP': np.float64(0.0),\n",
       " 'WINE, BEER, AND RELATED PRODUCTS': np.float64(7.999829686781803e-06),\n",
       " 'WOOD, GLASS, PLASTIC': np.float64(1.7302412869616755e-05),\n",
       " 'WOOL, SILK, ETC.': np.float64(0.00018368509559432027),\n",
       " 'ZINC': np.float64(0.0)}"
      ]
     },
     "execution_count": 46,
     "metadata": {},
     "output_type": "execute_result"
    }
   ],
   "source": [
    "prop_russia"
   ]
  },
  {
   "cell_type": "code",
   "execution_count": 47,
   "id": "ff5793f5-741c-4015-8c4b-1f355bbfe398",
   "metadata": {},
   "outputs": [
    {
     "data": {
      "text/plain": [
       "[('PETROLEUM PRODUCTS, OTHER', np.float64(0.009035338763529977)),\n",
       " ('OTHER MILITARY EQUIPMENT', np.float64(0.010129866422402928)),\n",
       " ('PLYWOOD AND VENEERS', np.float64(0.010736868060074725)),\n",
       " ('NICKEL', np.float64(0.012329920398410089)),\n",
       " ('CHEMICALS-FERTILIZERS', np.float64(0.014274802365936937)),\n",
       " ('OTHER PRECIOUS METALS', np.float64(0.019632422683050963)),\n",
       " ('STEELMAKING MATERIALS', np.float64(0.027525531911012494)),\n",
       " ('NUCLEAR FUEL MATERIALS', np.float64(0.03781444973585453)),\n",
       " ('FUEL OIL', np.float64(0.06283441815179538)),\n",
       " ('SPACECRAFT, EXCLUDING MILITARY', np.float64(0.12309979190806997))]"
      ]
     },
     "execution_count": 47,
     "metadata": {},
     "output_type": "execute_result"
    }
   ],
   "source": [
    "sorted([(k, v) for k, v in prop_russia.items()], key=lambda x: x[1])[-10:]"
   ]
  },
  {
   "cell_type": "code",
   "execution_count": null,
   "id": "132f0bac-83ee-4f2b-85f7-c7a5017e89fe",
   "metadata": {},
   "outputs": [],
   "source": []
  }
 ],
 "metadata": {
  "kernelspec": {
   "display_name": "Python 3 (ipykernel)",
   "language": "python",
   "name": "python3"
  },
  "language_info": {
   "codemirror_mode": {
    "name": "ipython",
    "version": 3
   },
   "file_extension": ".py",
   "mimetype": "text/x-python",
   "name": "python",
   "nbconvert_exporter": "python",
   "pygments_lexer": "ipython3",
   "version": "3.11.1"
  }
 },
 "nbformat": 4,
 "nbformat_minor": 5
}
