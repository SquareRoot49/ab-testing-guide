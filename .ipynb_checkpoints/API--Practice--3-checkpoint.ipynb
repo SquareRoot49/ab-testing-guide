{
 "cells": [
  {
   "cell_type": "code",
   "execution_count": 6,
   "id": "e51ba931-4e8e-4c78-8b5f-0b35ebf06fa5",
   "metadata": {},
   "outputs": [],
   "source": [
    "import pandas as pd\n",
    "import requests\n",
    "import time"
   ]
  },
  {
   "cell_type": "code",
   "execution_count": 7,
   "id": "b4912003-44db-41fa-8365-2c62cc5fcfd2",
   "metadata": {},
   "outputs": [],
   "source": [
    "url = 'https://api.census.gov/data/2019/pep/charage'\n",
    "url_2 = 'https://api.census.gov/data/2019/pep/charage?get=NAME,POP&for=us:*&key={}'.format(API_Key)"
   ]
  },
  {
   "cell_type": "code",
   "execution_count": 8,
   "id": "3d193f08-b15c-4609-8c35-87681af72f52",
   "metadata": {},
   "outputs": [],
   "source": [
    "API_Key =  'c9146c6f938dd681b6a492042553bfa6a1f7f480'"
   ]
  },
  {
   "cell_type": "code",
   "execution_count": 9,
   "id": "73a438b0-0523-4c7a-8fe9-49eed53552fd",
   "metadata": {},
   "outputs": [],
   "source": [
    "pay_load = {'get': 'NAME,POP',\n",
    "           'for': 'us:1',\n",
    "           'key': API_Key}"
   ]
  },
  {
   "cell_type": "code",
   "execution_count": 10,
   "id": "7d6a0d4d-908b-46cf-a1ce-977632b6b2b0",
   "metadata": {},
   "outputs": [],
   "source": [
    "rep = requests.get(url = url, params = pay_load)"
   ]
  },
  {
   "cell_type": "code",
   "execution_count": 11,
   "id": "9dd5e5cb-b535-4324-9477-854211310ce5",
   "metadata": {},
   "outputs": [
    {
     "data": {
      "text/plain": [
       "200"
      ]
     },
     "execution_count": 11,
     "metadata": {},
     "output_type": "execute_result"
    }
   ],
   "source": [
    "rep.status_code"
   ]
  },
  {
   "cell_type": "code",
   "execution_count": 12,
   "id": "1aeb4751-b697-4fd4-8dd5-2f400263ca8f",
   "metadata": {},
   "outputs": [
    {
     "data": {
      "text/plain": [
       "[['NAME', 'POP', 'us'], ['United States', '328239523', '1']]"
      ]
     },
     "execution_count": 12,
     "metadata": {},
     "output_type": "execute_result"
    }
   ],
   "source": [
    "rep.json()"
   ]
  },
  {
   "cell_type": "code",
   "execution_count": null,
   "id": "46b9793f-161d-4b8e-9c08-7f8b099836ff",
   "metadata": {},
   "outputs": [],
   "source": []
  },
  {
   "cell_type": "code",
   "execution_count": 13,
   "id": "25a8a019-fd46-4303-81c3-69564cab841b",
   "metadata": {},
   "outputs": [],
   "source": [
    "response = requests.get(url = url_2)"
   ]
  },
  {
   "cell_type": "code",
   "execution_count": 14,
   "id": "69ef02c2-ff59-4bbd-b75f-e839d4a7437e",
   "metadata": {},
   "outputs": [
    {
     "data": {
      "text/plain": [
       "200"
      ]
     },
     "execution_count": 14,
     "metadata": {},
     "output_type": "execute_result"
    }
   ],
   "source": [
    "response.status_code"
   ]
  },
  {
   "cell_type": "code",
   "execution_count": 15,
   "id": "16bee477-1c53-4a35-96bd-a185658c42b2",
   "metadata": {},
   "outputs": [
    {
     "data": {
      "text/plain": [
       "'[[\"NAME\",\"POP\",\"us\"],\\n[\"United States\",\"328239523\",\"1\"]]'"
      ]
     },
     "execution_count": 15,
     "metadata": {},
     "output_type": "execute_result"
    }
   ],
   "source": [
    "response.text"
   ]
  },
  {
   "cell_type": "code",
   "execution_count": 17,
   "id": "8448d950-f8d9-40b3-ade3-57b778e849f8",
   "metadata": {},
   "outputs": [
    {
     "data": {
      "text/plain": [
       "200"
      ]
     },
     "execution_count": 17,
     "metadata": {},
     "output_type": "execute_result"
    }
   ],
   "source": [
    "rep.status_code"
   ]
  },
  {
   "cell_type": "code",
   "execution_count": null,
   "id": "7e25b108-5830-4fa2-8da6-e0997319e285",
   "metadata": {},
   "outputs": [],
   "source": [
    "# req.json()"
   ]
  },
  {
   "cell_type": "code",
   "execution_count": null,
   "id": "a42f2a15-05d5-4174-b785-1fb58974c9fd",
   "metadata": {},
   "outputs": [],
   "source": [
    "dat = response.json()"
   ]
  },
  {
   "cell_type": "code",
   "execution_count": null,
   "id": "2b358c45-e4a5-46f1-a8d1-81609cb3346c",
   "metadata": {},
   "outputs": [],
   "source": [
    "dat"
   ]
  },
  {
   "cell_type": "code",
   "execution_count": null,
   "id": "e0313f91-e778-4573-ae60-cb5a7a8f19ea",
   "metadata": {},
   "outputs": [],
   "source": [
    "df = pd.DataFrame(dat[1:], columns = dat[0])"
   ]
  },
  {
   "cell_type": "code",
   "execution_count": null,
   "id": "e03e759f-006f-461e-8f5c-c4c4c8ff878d",
   "metadata": {},
   "outputs": [],
   "source": [
    "df"
   ]
  },
  {
   "cell_type": "code",
   "execution_count": null,
   "id": "6306e17b-03f9-4686-839b-b3a6b0e08564",
   "metadata": {},
   "outputs": [],
   "source": [
    "# pop us last 5 years"
   ]
  },
  {
   "cell_type": "code",
   "execution_count": null,
   "id": "c682c9cd-4abf-4256-bcb5-62e199b5fc70",
   "metadata": {},
   "outputs": [],
   "source": [
    "url = 'https://api.census.gov/data/2019/pep/charage'\n",
    "pay_load_2 = {'get': 'NAME,POP,DATE_CODE,DATE_DESC',\n",
    "           'for': 'us:*',\n",
    "           'key': API_Key}"
   ]
  },
  {
   "cell_type": "code",
   "execution_count": null,
   "id": "60c185a3-ce56-41de-9d4d-11f87750d24b",
   "metadata": {},
   "outputs": [],
   "source": [
    "response_2 = requests.get(url = url, params = pay_load_2)"
   ]
  },
  {
   "cell_type": "code",
   "execution_count": null,
   "id": "afc7cb24-59dd-4d48-89d2-8c6deb1d47a2",
   "metadata": {},
   "outputs": [],
   "source": [
    "response_2.status_code == 200"
   ]
  },
  {
   "cell_type": "code",
   "execution_count": null,
   "id": "19a8bc3b-5ae8-4928-81eb-b17506f97225",
   "metadata": {},
   "outputs": [],
   "source": [
    "dat = response_2.json()"
   ]
  },
  {
   "cell_type": "code",
   "execution_count": null,
   "id": "246e1e64-8e59-469b-863c-0efd497246d8",
   "metadata": {},
   "outputs": [],
   "source": [
    "df = pd.DataFrame(dat)"
   ]
  },
  {
   "cell_type": "code",
   "execution_count": null,
   "id": "f0f4e7e5-7548-4a08-a1ac-3f74a7daf3e0",
   "metadata": {},
   "outputs": [],
   "source": [
    "df"
   ]
  },
  {
   "cell_type": "code",
   "execution_count": null,
   "id": "cd8805a7-1580-4b09-85f3-36e4b066d7c1",
   "metadata": {},
   "outputs": [],
   "source": [
    "pay_load_3 = {'get': 'NAME,POP',\n",
    "              'DATE_CODE': '8,9,10,11,12',\n",
    "              'DATE_DESC': '',\n",
    "              'for': 'us:*',\n",
    "              'key': API_Key}"
   ]
  },
  {
   "cell_type": "code",
   "execution_count": null,
   "id": "69ad55ce-f106-4209-ac11-cb3eb1d12878",
   "metadata": {},
   "outputs": [],
   "source": [
    "response_3 = requests.get(url = url, params = pay_load_3)"
   ]
  },
  {
   "cell_type": "code",
   "execution_count": null,
   "id": "0e2566fc-1665-4247-ae4c-71029636a44a",
   "metadata": {},
   "outputs": [],
   "source": [
    "assert response_3.status_code == 200"
   ]
  },
  {
   "cell_type": "code",
   "execution_count": null,
   "id": "b8f36cf6-a3d6-4f64-9269-72bd3c29a849",
   "metadata": {},
   "outputs": [],
   "source": [
    "dat_3 = response_3.json()"
   ]
  },
  {
   "cell_type": "code",
   "execution_count": null,
   "id": "d5a4ecc7-6363-4ed0-88b3-78208184f73f",
   "metadata": {},
   "outputs": [],
   "source": [
    "df_3 = pd.DataFrame(dat_3)"
   ]
  },
  {
   "cell_type": "code",
   "execution_count": null,
   "id": "7d9926ef-b7a4-4aaf-9757-11432a4b0d1e",
   "metadata": {},
   "outputs": [],
   "source": [
    "df_3"
   ]
  },
  {
   "cell_type": "code",
   "execution_count": null,
   "id": "84146174-53f3-4c25-8e78-7318067ada73",
   "metadata": {},
   "outputs": [],
   "source": [
    "# pop us by state"
   ]
  },
  {
   "cell_type": "code",
   "execution_count": null,
   "id": "1dd9d5de-7f55-4f6a-8207-cd2757daac50",
   "metadata": {},
   "outputs": [],
   "source": [
    "url_state = 'https://api.census.gov/data/2019/pep/charage'"
   ]
  },
  {
   "cell_type": "code",
   "execution_count": null,
   "id": "34b88c52-173f-4998-ab04-047ca70c3ca3",
   "metadata": {},
   "outputs": [],
   "source": [
    "pay_load_state = {'get': 'NAME,POP',\n",
    "                 'for': 'state:*',\n",
    "                 'key': API_Key}"
   ]
  },
  {
   "cell_type": "code",
   "execution_count": null,
   "id": "bf2a1df2-4177-4873-9261-a2c9429ddcde",
   "metadata": {},
   "outputs": [],
   "source": [
    "response = requests.get(url = url_state, params = pay_load_state)"
   ]
  },
  {
   "cell_type": "code",
   "execution_count": null,
   "id": "05e248a4-79ce-43e6-aed6-02d685c8e5be",
   "metadata": {},
   "outputs": [],
   "source": [
    "assert response.status_code == 200"
   ]
  },
  {
   "cell_type": "code",
   "execution_count": null,
   "id": "5381a194-2c62-4f18-9aa6-386ca780b69d",
   "metadata": {},
   "outputs": [],
   "source": [
    "dat_state = response.json()"
   ]
  },
  {
   "cell_type": "code",
   "execution_count": null,
   "id": "a5b0c410-5635-476c-9161-defcae5174c2",
   "metadata": {},
   "outputs": [],
   "source": [
    "dat_state"
   ]
  },
  {
   "cell_type": "code",
   "execution_count": null,
   "id": "e34015f5-b609-4ca9-b95a-2198e84461d9",
   "metadata": {},
   "outputs": [],
   "source": [
    "df_state = pd.DataFrame(dat_state[1: ], columns = dat_state[0])"
   ]
  },
  {
   "cell_type": "code",
   "execution_count": null,
   "id": "ee21fc3a-743b-4a05-8c52-72b0afd2cc6d",
   "metadata": {},
   "outputs": [],
   "source": []
  },
  {
   "cell_type": "code",
   "execution_count": null,
   "id": "f0439dac-1561-4b21-9028-bac0cc22c596",
   "metadata": {},
   "outputs": [],
   "source": [
    "df_state"
   ]
  },
  {
   "cell_type": "code",
   "execution_count": null,
   "id": "1589658d-243c-4c13-afa3-e4483126dcbb",
   "metadata": {},
   "outputs": [],
   "source": [
    "df_state.POP = df_state.POP.astype(int)"
   ]
  },
  {
   "cell_type": "code",
   "execution_count": null,
   "id": "f64068df-ce81-43ed-8f02-c73a0257ff5a",
   "metadata": {},
   "outputs": [],
   "source": [
    "dat_state_sort = df_state.sort_values(by = 'POP', ascending = False)"
   ]
  },
  {
   "cell_type": "code",
   "execution_count": null,
   "id": "92cdd4d7-02af-4bfb-abfa-66b789171f83",
   "metadata": {},
   "outputs": [],
   "source": [
    "dat_state_sort"
   ]
  },
  {
   "cell_type": "code",
   "execution_count": null,
   "id": "15e2d901-1332-412b-966d-e5c634675c91",
   "metadata": {},
   "outputs": [],
   "source": [
    "top_five = dat_state_sort.head(5)"
   ]
  },
  {
   "cell_type": "code",
   "execution_count": null,
   "id": "aac17a79-d0b6-44b2-b82f-ed9228029122",
   "metadata": {},
   "outputs": [],
   "source": [
    "top_five"
   ]
  },
  {
   "cell_type": "code",
   "execution_count": null,
   "id": "666fbe01-b111-4726-b087-9d4f157701d7",
   "metadata": {},
   "outputs": [],
   "source": [
    "top_five_states = top_five.state.to_list()"
   ]
  },
  {
   "cell_type": "code",
   "execution_count": null,
   "id": "248dae91-bb78-4690-84c6-059e0835b84d",
   "metadata": {},
   "outputs": [],
   "source": [
    "top_five_states"
   ]
  },
  {
   "cell_type": "code",
   "execution_count": null,
   "id": "cd49b4df-7cb1-448f-8b50-1f965b0e983f",
   "metadata": {},
   "outputs": [],
   "source": [
    "str_top_five_state = ','.join(top_five_states)"
   ]
  },
  {
   "cell_type": "code",
   "execution_count": null,
   "id": "8ec3865a-fa6b-4ffb-90fe-04404b3adee0",
   "metadata": {},
   "outputs": [],
   "source": [
    "str_top_five_state"
   ]
  },
  {
   "cell_type": "code",
   "execution_count": null,
   "id": "2bebfc28-792c-4e64-b15b-92ed29128903",
   "metadata": {},
   "outputs": [],
   "source": [
    "url = 'https://api.census.gov/data/2019/pep/charage'"
   ]
  },
  {
   "cell_type": "code",
   "execution_count": null,
   "id": "4e8b415b-e19a-4683-a58c-318aa6cfa5b4",
   "metadata": {},
   "outputs": [],
   "source": [
    "pay_load = {'get': 'NAME,POP',\n",
    "           'AGE': '16',\n",
    "           'for': 'state:{}'.format(str_top_five_state),\n",
    "           'key': API_Key}"
   ]
  },
  {
   "cell_type": "code",
   "execution_count": null,
   "id": "909a7767-cbb4-4ba3-88d9-52c1f2e1bb4e",
   "metadata": {},
   "outputs": [],
   "source": [
    "response_16 = requests.get(url = url, params = pay_load)"
   ]
  },
  {
   "cell_type": "code",
   "execution_count": null,
   "id": "cca17b70-1779-4321-b58d-24b5652ebc96",
   "metadata": {},
   "outputs": [],
   "source": [
    "assert response_16.status_code == 200"
   ]
  },
  {
   "cell_type": "code",
   "execution_count": null,
   "id": "795965a8-cb3e-4918-a06d-9f0c86b6d501",
   "metadata": {},
   "outputs": [],
   "source": [
    "date_16 = response_16.json()"
   ]
  },
  {
   "cell_type": "code",
   "execution_count": null,
   "id": "f1d85ddc-fb3d-4d36-87f2-3162ef13030b",
   "metadata": {},
   "outputs": [],
   "source": [
    "date_16"
   ]
  },
  {
   "cell_type": "code",
   "execution_count": null,
   "id": "23cf4050-3493-44d0-8dad-1b24303785d3",
   "metadata": {},
   "outputs": [],
   "source": [
    "df_16 = pd.DataFrame(date_16[1:], columns = date_16[0])"
   ]
  },
  {
   "cell_type": "code",
   "execution_count": null,
   "id": "232da0c6-4f65-4656-9b1e-9a4470e61781",
   "metadata": {},
   "outputs": [],
   "source": [
    "df_16"
   ]
  },
  {
   "cell_type": "code",
   "execution_count": null,
   "id": "b03ff267-de0f-4418-bf1a-d17b67aac608",
   "metadata": {},
   "outputs": [],
   "source": [
    "# pop on ny city year over year split by hisp"
   ]
  },
  {
   "cell_type": "code",
   "execution_count": null,
   "id": "159e1fcc-8945-4624-898f-f0d7c8a4fad6",
   "metadata": {},
   "outputs": [],
   "source": [
    "url = 'https://api.census.gov/data/2019/pep/charage'\n",
    "pay_load = {'get': 'NAME,POP',\n",
    "           'DATE_CODE': '7,8,9,10,11,12',\n",
    "           'HISP': '1,2',\n",
    "           'DATE_DESC': '',\n",
    "           'for': 'state:36',\n",
    "           'key': API_Key}"
   ]
  },
  {
   "cell_type": "code",
   "execution_count": null,
   "id": "25eacb11-31a8-44e9-b62f-adbb84009e40",
   "metadata": {},
   "outputs": [],
   "source": [
    "response_hisp = requests.get(url = url, params = pay_load)"
   ]
  },
  {
   "cell_type": "code",
   "execution_count": null,
   "id": "c88400c2-f632-46a5-ad9e-29e18942f201",
   "metadata": {},
   "outputs": [],
   "source": [
    "assert response_hisp.status_code == 200"
   ]
  },
  {
   "cell_type": "code",
   "execution_count": null,
   "id": "b397262d-4e49-46b7-a28e-9bd56c1b67ad",
   "metadata": {},
   "outputs": [],
   "source": [
    "dat = response_hisp.json()"
   ]
  },
  {
   "cell_type": "code",
   "execution_count": null,
   "id": "48035f35-d02d-4417-a20b-73ea3da2ac3f",
   "metadata": {},
   "outputs": [],
   "source": []
  },
  {
   "cell_type": "code",
   "execution_count": null,
   "id": "ca7680a7-a607-4422-843d-402395316ca1",
   "metadata": {},
   "outputs": [],
   "source": [
    "hisp_df = pd.DataFrame(dat[1:], columns = dat[0])"
   ]
  },
  {
   "cell_type": "code",
   "execution_count": null,
   "id": "b37162b5-6ae5-4fc9-adb0-073665a1164c",
   "metadata": {},
   "outputs": [],
   "source": [
    "hisp_df"
   ]
  },
  {
   "cell_type": "code",
   "execution_count": null,
   "id": "133fbcae-9394-49a8-8299-00af9628a14f",
   "metadata": {},
   "outputs": [],
   "source": [
    "import plotly.express as px\n",
    "from IPython.display import Image"
   ]
  },
  {
   "cell_type": "code",
   "execution_count": null,
   "id": "fda7e97d-bdd9-443f-8a62-377c9e59dbb5",
   "metadata": {},
   "outputs": [],
   "source": [
    "fig = px.line(hisp_df, x = 'DATE_DESC', y = 'POP', color = 'HISP', title = 'NY CITY')\n",
    "fig.show()"
   ]
  },
  {
   "cell_type": "code",
   "execution_count": null,
   "id": "56358106-b917-4445-ae20-a933a2e35801",
   "metadata": {},
   "outputs": [],
   "source": [
    "fig.show()"
   ]
  },
  {
   "cell_type": "code",
   "execution_count": null,
   "id": "dedaa562-81df-40ff-9818-bd1845e8b475",
   "metadata": {},
   "outputs": [],
   "source": []
  }
 ],
 "metadata": {
  "kernelspec": {
   "display_name": "Python 3 (ipykernel)",
   "language": "python",
   "name": "python3"
  },
  "language_info": {
   "codemirror_mode": {
    "name": "ipython",
    "version": 3
   },
   "file_extension": ".py",
   "mimetype": "text/x-python",
   "name": "python",
   "nbconvert_exporter": "python",
   "pygments_lexer": "ipython3",
   "version": "3.11.1"
  }
 },
 "nbformat": 4,
 "nbformat_minor": 5
}
