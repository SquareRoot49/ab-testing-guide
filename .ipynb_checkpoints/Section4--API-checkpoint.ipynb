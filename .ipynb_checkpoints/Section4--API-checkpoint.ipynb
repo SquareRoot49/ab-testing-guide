{
 "cells": [
  {
   "cell_type": "code",
   "execution_count": 1,
   "id": "4939406c-6eca-445f-a4bc-5d4eef856dee",
   "metadata": {},
   "outputs": [],
   "source": [
    "# Dependence on Russian and Ukrainian Imports\n",
    "# As the world is changing this week, we can try to understand how important Russian and Ukrainian imports are to the US.\n",
    "\n",
    "# Census.Gov has international trade data exposed for us to download.\n",
    "\n",
    "# Please pay particular attention to the example calls under Monthly International Trade Time Series - Imports.\n",
    "\n",
    "# Task 1 - Understanding the API behavior\n",
    "# Please repeat both example API calls on the website using request.get() and make sure you get sensisble results. Hint: what is the length of the params we will pass to the API?\n",
    "# Try removing CTY_CODE from the list of variables and rerun the examples. Please comment on this output."
   ]
  },
  {
   "cell_type": "code",
   "execution_count": 2,
   "id": "0b1eb119-dab0-4096-89f8-d57fc47bf0d0",
   "metadata": {},
   "outputs": [],
   "source": [
    "import json"
   ]
  },
  {
   "cell_type": "code",
   "execution_count": 4,
   "id": "0b993085-7a2f-4887-aa2d-537368d1f5a8",
   "metadata": {},
   "outputs": [],
   "source": [
    "import numpy as np\n",
    "import pandas as pd"
   ]
  },
  {
   "cell_type": "code",
   "execution_count": 5,
   "id": "004cdfba-8c23-447e-a231-3193b3b46c1e",
   "metadata": {},
   "outputs": [],
   "source": [
    "BASE_URL = \"https://api.census.gov/data/timeseries/intltrade/imports/enduse\""
   ]
  },
  {
   "cell_type": "code",
   "execution_count": 9,
   "id": "11685c2c-7055-4df1-8db1-840936b6c2f3",
   "metadata": {},
   "outputs": [],
   "source": [
    "end_point = 'https://api.census.gov/data/timeseries/intltrade/imports/enduse'\n",
    "params = {'get': 'CTY_CODE,CTY_NAME,I_ENDUSE,I_ENDUSE_LDESC,GEN_VAL_MO,CON_VAL_MO',\n",
    "          'time': '2013-01'}"
   ]
  },
  {
   "cell_type": "code",
   "execution_count": 28,
   "id": "980370a5-7de7-4e37-beeb-cdac06f6ee72",
   "metadata": {},
   "outputs": [],
   "source": [
    "import requests\n",
    "resp = requests.get(url = end_point, params = params)"
   ]
  },
  {
   "cell_type": "code",
   "execution_count": 12,
   "id": "51381320-c3d2-4aa8-9a43-18e80427e5c7",
   "metadata": {},
   "outputs": [
    {
     "data": {
      "text/plain": [
       "True"
      ]
     },
     "execution_count": 12,
     "metadata": {},
     "output_type": "execute_result"
    }
   ],
   "source": [
    "resp.status_code == 200"
   ]
  },
  {
   "cell_type": "code",
   "execution_count": 13,
   "id": "be49dea2-2ec7-4692-a67f-527d6d42a141",
   "metadata": {},
   "outputs": [],
   "source": [
    "dat = resp.json()"
   ]
  },
  {
   "cell_type": "code",
   "execution_count": 14,
   "id": "6563a355-deb0-450e-b9ec-244513951f5b",
   "metadata": {},
   "outputs": [
    {
     "data": {
      "text/plain": [
       "list"
      ]
     },
     "execution_count": 14,
     "metadata": {},
     "output_type": "execute_result"
    }
   ],
   "source": [
    "type(dat)"
   ]
  },
  {
   "cell_type": "code",
   "execution_count": 15,
   "id": "0abe0fab-3cd4-4e17-b2df-a21fd0c449ac",
   "metadata": {},
   "outputs": [
    {
     "data": {
      "text/plain": [
       "13044"
      ]
     },
     "execution_count": 15,
     "metadata": {},
     "output_type": "execute_result"
    }
   ],
   "source": [
    "len(dat)"
   ]
  },
  {
   "cell_type": "code",
   "execution_count": 16,
   "id": "a8e802f6-7e2a-433b-9c27-6f0520c232fd",
   "metadata": {},
   "outputs": [
    {
     "data": {
      "text/plain": [
       "7"
      ]
     },
     "execution_count": 16,
     "metadata": {},
     "output_type": "execute_result"
    }
   ],
   "source": [
    "len(dat[10])"
   ]
  },
  {
   "cell_type": "code",
   "execution_count": 17,
   "id": "d28c08c6-0b17-48c7-a11d-89459aab3d64",
   "metadata": {},
   "outputs": [
    {
     "data": {
      "text/plain": [
       "list"
      ]
     },
     "execution_count": 17,
     "metadata": {},
     "output_type": "execute_result"
    }
   ],
   "source": [
    "type(dat[10])"
   ]
  },
  {
   "cell_type": "code",
   "execution_count": 18,
   "id": "9ec7332a-042f-4cdb-8061-72e6b4be3966",
   "metadata": {},
   "outputs": [
    {
     "data": {
      "text/plain": [
       "['4730',\n",
       " 'MALTA',\n",
       " '-',\n",
       " 'TOTAL IMPORTS FOR ALL END-USE CODES',\n",
       " '20094690',\n",
       " '20059576',\n",
       " '2013-01']"
      ]
     },
     "execution_count": 18,
     "metadata": {},
     "output_type": "execute_result"
    }
   ],
   "source": [
    "dat[10]"
   ]
  },
  {
   "cell_type": "code",
   "execution_count": 19,
   "id": "02664ee3-3b81-4129-973f-bc1865c9e70b",
   "metadata": {},
   "outputs": [
    {
     "data": {
      "text/plain": [
       "['CTY_CODE',\n",
       " 'CTY_NAME',\n",
       " 'I_ENDUSE',\n",
       " 'I_ENDUSE_LDESC',\n",
       " 'GEN_VAL_MO',\n",
       " 'CON_VAL_MO',\n",
       " 'time']"
      ]
     },
     "execution_count": 19,
     "metadata": {},
     "output_type": "execute_result"
    }
   ],
   "source": [
    "dat[0]"
   ]
  },
  {
   "cell_type": "code",
   "execution_count": 20,
   "id": "bd2c37d7-9321-4195-bba2-a98d4ff8148b",
   "metadata": {},
   "outputs": [],
   "source": [
    "import pandas as pd"
   ]
  },
  {
   "cell_type": "code",
   "execution_count": 21,
   "id": "3f26732a-cd9f-4a94-b89d-db3a894b0595",
   "metadata": {},
   "outputs": [],
   "source": [
    "df = pd.DataFrame(dat[1:], columns = dat[0])"
   ]
  },
  {
   "cell_type": "code",
   "execution_count": 22,
   "id": "c57acd8a-8dce-42c6-959f-a5e884be2720",
   "metadata": {},
   "outputs": [
    {
     "data": {
      "text/html": [
       "<div>\n",
       "<style scoped>\n",
       "    .dataframe tbody tr th:only-of-type {\n",
       "        vertical-align: middle;\n",
       "    }\n",
       "\n",
       "    .dataframe tbody tr th {\n",
       "        vertical-align: top;\n",
       "    }\n",
       "\n",
       "    .dataframe thead th {\n",
       "        text-align: right;\n",
       "    }\n",
       "</style>\n",
       "<table border=\"1\" class=\"dataframe\">\n",
       "  <thead>\n",
       "    <tr style=\"text-align: right;\">\n",
       "      <th></th>\n",
       "      <th>CTY_CODE</th>\n",
       "      <th>CTY_NAME</th>\n",
       "      <th>I_ENDUSE</th>\n",
       "      <th>I_ENDUSE_LDESC</th>\n",
       "      <th>GEN_VAL_MO</th>\n",
       "      <th>CON_VAL_MO</th>\n",
       "      <th>time</th>\n",
       "    </tr>\n",
       "  </thead>\n",
       "  <tbody>\n",
       "    <tr>\n",
       "      <th>0</th>\n",
       "      <td>4050</td>\n",
       "      <td>FINLAND</td>\n",
       "      <td>-</td>\n",
       "      <td>TOTAL IMPORTS FOR ALL END-USE CODES</td>\n",
       "      <td>319554327</td>\n",
       "      <td>335786013</td>\n",
       "      <td>2013-01</td>\n",
       "    </tr>\n",
       "    <tr>\n",
       "      <th>1</th>\n",
       "      <td>4635</td>\n",
       "      <td>KYRGYZSTAN</td>\n",
       "      <td>-</td>\n",
       "      <td>TOTAL IMPORTS FOR ALL END-USE CODES</td>\n",
       "      <td>17592</td>\n",
       "      <td>17592</td>\n",
       "      <td>2013-01</td>\n",
       "    </tr>\n",
       "    <tr>\n",
       "      <th>2</th>\n",
       "      <td>4641</td>\n",
       "      <td>MOLDOVA</td>\n",
       "      <td>-</td>\n",
       "      <td>TOTAL IMPORTS FOR ALL END-USE CODES</td>\n",
       "      <td>3766608</td>\n",
       "      <td>3640049</td>\n",
       "      <td>2013-01</td>\n",
       "    </tr>\n",
       "    <tr>\n",
       "      <th>3</th>\n",
       "      <td>4642</td>\n",
       "      <td>TAJIKISTAN</td>\n",
       "      <td>-</td>\n",
       "      <td>TOTAL IMPORTS FOR ALL END-USE CODES</td>\n",
       "      <td>10311</td>\n",
       "      <td>10311</td>\n",
       "      <td>2013-01</td>\n",
       "    </tr>\n",
       "    <tr>\n",
       "      <th>4</th>\n",
       "      <td>4643</td>\n",
       "      <td>TURKMENISTAN</td>\n",
       "      <td>-</td>\n",
       "      <td>TOTAL IMPORTS FOR ALL END-USE CODES</td>\n",
       "      <td>710820</td>\n",
       "      <td>710820</td>\n",
       "      <td>2013-01</td>\n",
       "    </tr>\n",
       "  </tbody>\n",
       "</table>\n",
       "</div>"
      ],
      "text/plain": [
       "  CTY_CODE      CTY_NAME I_ENDUSE                       I_ENDUSE_LDESC  \\\n",
       "0     4050       FINLAND        -  TOTAL IMPORTS FOR ALL END-USE CODES   \n",
       "1     4635    KYRGYZSTAN        -  TOTAL IMPORTS FOR ALL END-USE CODES   \n",
       "2     4641       MOLDOVA        -  TOTAL IMPORTS FOR ALL END-USE CODES   \n",
       "3     4642    TAJIKISTAN        -  TOTAL IMPORTS FOR ALL END-USE CODES   \n",
       "4     4643  TURKMENISTAN        -  TOTAL IMPORTS FOR ALL END-USE CODES   \n",
       "\n",
       "  GEN_VAL_MO CON_VAL_MO     time  \n",
       "0  319554327  335786013  2013-01  \n",
       "1      17592      17592  2013-01  \n",
       "2    3766608    3640049  2013-01  \n",
       "3      10311      10311  2013-01  \n",
       "4     710820     710820  2013-01  "
      ]
     },
     "execution_count": 22,
     "metadata": {},
     "output_type": "execute_result"
    }
   ],
   "source": [
    "df.head()"
   ]
  },
  {
   "cell_type": "code",
   "execution_count": 23,
   "id": "87a58aeb-897e-412d-9f4a-d04ae80648e2",
   "metadata": {},
   "outputs": [
    {
     "data": {
      "text/plain": [
       "(13043, 7)"
      ]
     },
     "execution_count": 23,
     "metadata": {},
     "output_type": "execute_result"
    }
   ],
   "source": [
    "df.shape"
   ]
  },
  {
   "cell_type": "code",
   "execution_count": 24,
   "id": "93edde04-fe52-43f8-96d6-48b6dd318475",
   "metadata": {},
   "outputs": [],
   "source": [
    "# Task 2 - Get more data\n",
    "# Please get the general imports value for all end-use codes for 2013-2020 for the months 01-12. Hint: you should be able to modify the example calls.\n",
    "# Please combine all of the data into one data frame"
   ]
  },
  {
   "cell_type": "code",
   "execution_count": 29,
   "id": "f399362a-9397-4639-abb9-97c7b4fd01f5",
   "metadata": {},
   "outputs": [],
   "source": [
    "dfs = []\n",
    "for year in range(2018, 2021):\n",
    "    for month in range(1, 13):\n",
    "        month = month if month >= 10 else '0' + str(month)\n",
    "        end_point = 'https://api.census.gov/data/timeseries/intltrade/imports/enduse'\n",
    "        params = {'get': 'CTY_CODE,CTY_NAME,I_ENDUSE,I_ENDUSE_LDESC,GEN_VAL_MO,CON_VAL_MO',\n",
    "          'time': '{year}-{month}'.format(year = year,month = month)}\n",
    "        resp = requests.get(url = end_point, params = params)\n",
    "        dat = resp.json()\n",
    "        df = pd.DataFrame(dat[1:], columns=dat[0])\n",
    "        dfs.append(df)"
   ]
  },
  {
   "cell_type": "code",
   "execution_count": 33,
   "id": "799cf23f-2a11-472a-b528-4a2ab605694e",
   "metadata": {},
   "outputs": [],
   "source": [
    "# pd.concat is used to join two series or data frames along axis.\n",
    "bdf = pd.concat(dfs)"
   ]
  },
  {
   "cell_type": "code",
   "execution_count": 34,
   "id": "e863caca-d909-47fd-893c-112afcc3becf",
   "metadata": {},
   "outputs": [
    {
     "data": {
      "text/html": [
       "<div>\n",
       "<style scoped>\n",
       "    .dataframe tbody tr th:only-of-type {\n",
       "        vertical-align: middle;\n",
       "    }\n",
       "\n",
       "    .dataframe tbody tr th {\n",
       "        vertical-align: top;\n",
       "    }\n",
       "\n",
       "    .dataframe thead th {\n",
       "        text-align: right;\n",
       "    }\n",
       "</style>\n",
       "<table border=\"1\" class=\"dataframe\">\n",
       "  <thead>\n",
       "    <tr style=\"text-align: right;\">\n",
       "      <th></th>\n",
       "      <th>CTY_CODE</th>\n",
       "      <th>CTY_NAME</th>\n",
       "      <th>I_ENDUSE</th>\n",
       "      <th>I_ENDUSE_LDESC</th>\n",
       "      <th>GEN_VAL_MO</th>\n",
       "      <th>CON_VAL_MO</th>\n",
       "      <th>time</th>\n",
       "    </tr>\n",
       "  </thead>\n",
       "  <tbody>\n",
       "    <tr>\n",
       "      <th>0</th>\n",
       "      <td>-</td>\n",
       "      <td>TOTAL FOR ALL COUNTRIES</td>\n",
       "      <td>-</td>\n",
       "      <td>TOTAL IMPORTS FOR ALL END-USE CODES</td>\n",
       "      <td>203028883846</td>\n",
       "      <td>201363447994</td>\n",
       "      <td>2018-01</td>\n",
       "    </tr>\n",
       "    <tr>\n",
       "      <th>1</th>\n",
       "      <td>0001</td>\n",
       "      <td>OPEC</td>\n",
       "      <td>-</td>\n",
       "      <td>TOTAL IMPORTS FOR ALL END-USE CODES</td>\n",
       "      <td>5811776722</td>\n",
       "      <td>5077058800</td>\n",
       "      <td>2018-01</td>\n",
       "    </tr>\n",
       "    <tr>\n",
       "      <th>2</th>\n",
       "      <td>0003</td>\n",
       "      <td>EUROPEAN UNION</td>\n",
       "      <td>-</td>\n",
       "      <td>TOTAL IMPORTS FOR ALL END-USE CODES</td>\n",
       "      <td>32324828722</td>\n",
       "      <td>32147782489</td>\n",
       "      <td>2018-01</td>\n",
       "    </tr>\n",
       "    <tr>\n",
       "      <th>3</th>\n",
       "      <td>0014</td>\n",
       "      <td>PACIFIC RIM COUNTRIES</td>\n",
       "      <td>-</td>\n",
       "      <td>TOTAL IMPORTS FOR ALL END-USE CODES</td>\n",
       "      <td>75627219017</td>\n",
       "      <td>74486177148</td>\n",
       "      <td>2018-01</td>\n",
       "    </tr>\n",
       "    <tr>\n",
       "      <th>4</th>\n",
       "      <td>0017</td>\n",
       "      <td>CAFTA-DR</td>\n",
       "      <td>-</td>\n",
       "      <td>TOTAL IMPORTS FOR ALL END-USE CODES</td>\n",
       "      <td>1745667404</td>\n",
       "      <td>1730840561</td>\n",
       "      <td>2018-01</td>\n",
       "    </tr>\n",
       "  </tbody>\n",
       "</table>\n",
       "</div>"
      ],
      "text/plain": [
       "  CTY_CODE                 CTY_NAME I_ENDUSE  \\\n",
       "0        -  TOTAL FOR ALL COUNTRIES        -   \n",
       "1     0001                     OPEC        -   \n",
       "2     0003           EUROPEAN UNION        -   \n",
       "3     0014    PACIFIC RIM COUNTRIES        -   \n",
       "4     0017                 CAFTA-DR        -   \n",
       "\n",
       "                        I_ENDUSE_LDESC    GEN_VAL_MO    CON_VAL_MO     time  \n",
       "0  TOTAL IMPORTS FOR ALL END-USE CODES  203028883846  201363447994  2018-01  \n",
       "1  TOTAL IMPORTS FOR ALL END-USE CODES    5811776722    5077058800  2018-01  \n",
       "2  TOTAL IMPORTS FOR ALL END-USE CODES   32324828722   32147782489  2018-01  \n",
       "3  TOTAL IMPORTS FOR ALL END-USE CODES   75627219017   74486177148  2018-01  \n",
       "4  TOTAL IMPORTS FOR ALL END-USE CODES    1745667404    1730840561  2018-01  "
      ]
     },
     "execution_count": 34,
     "metadata": {},
     "output_type": "execute_result"
    }
   ],
   "source": [
    "bdf.head()"
   ]
  },
  {
   "cell_type": "code",
   "execution_count": null,
   "id": "e58aee34-8fc8-49d7-9f6f-1a11a72cc70d",
   "metadata": {},
   "outputs": [],
   "source": []
  },
  {
   "cell_type": "code",
   "execution_count": 35,
   "id": "5b2bae71-e08d-4f5f-9a80-e572b1291148",
   "metadata": {},
   "outputs": [],
   "source": [
    "# Task 3 - Analyze the Dependence\n",
    "# Please quantify a major dependence we have on Russia or Ukrain using the data we've collected."
   ]
  },
  {
   "cell_type": "code",
   "execution_count": 38,
   "id": "65c6e468-91b1-4061-9c6b-beaa060775be",
   "metadata": {},
   "outputs": [
    {
     "data": {
      "text/html": [
       "<div>\n",
       "<style scoped>\n",
       "    .dataframe tbody tr th:only-of-type {\n",
       "        vertical-align: middle;\n",
       "    }\n",
       "\n",
       "    .dataframe tbody tr th {\n",
       "        vertical-align: top;\n",
       "    }\n",
       "\n",
       "    .dataframe thead th {\n",
       "        text-align: right;\n",
       "    }\n",
       "</style>\n",
       "<table border=\"1\" class=\"dataframe\">\n",
       "  <thead>\n",
       "    <tr style=\"text-align: right;\">\n",
       "      <th></th>\n",
       "      <th>CTY_CODE</th>\n",
       "      <th>CTY_NAME</th>\n",
       "      <th>I_ENDUSE</th>\n",
       "      <th>GEN_VAL_MO</th>\n",
       "      <th>CON_VAL_MO</th>\n",
       "      <th>time</th>\n",
       "    </tr>\n",
       "    <tr>\n",
       "      <th>I_ENDUSE_LDESC</th>\n",
       "      <th></th>\n",
       "      <th></th>\n",
       "      <th></th>\n",
       "      <th></th>\n",
       "      <th></th>\n",
       "      <th></th>\n",
       "    </tr>\n",
       "  </thead>\n",
       "  <tbody>\n",
       "    <tr>\n",
       "      <th>AGRICULTURAL MACHINERY, EQUIPMENT</th>\n",
       "      <td>4000</td>\n",
       "      <td>4000</td>\n",
       "      <td>4000</td>\n",
       "      <td>4000</td>\n",
       "      <td>4000</td>\n",
       "      <td>4000</td>\n",
       "    </tr>\n",
       "    <tr>\n",
       "      <th>ALCOHOLIC BEVERAGES, EXCLUDING WINE</th>\n",
       "      <td>4242</td>\n",
       "      <td>4242</td>\n",
       "      <td>4242</td>\n",
       "      <td>4242</td>\n",
       "      <td>4242</td>\n",
       "      <td>4242</td>\n",
       "    </tr>\n",
       "    <tr>\n",
       "      <th>APPAREL, HOUSEHOLD GOODS - COTTON</th>\n",
       "      <td>6440</td>\n",
       "      <td>6440</td>\n",
       "      <td>6440</td>\n",
       "      <td>6440</td>\n",
       "      <td>6440</td>\n",
       "      <td>6440</td>\n",
       "    </tr>\n",
       "    <tr>\n",
       "      <th>APPAREL, HOUSEHOLD GOODS - WOOL</th>\n",
       "      <td>4664</td>\n",
       "      <td>4664</td>\n",
       "      <td>4664</td>\n",
       "      <td>4664</td>\n",
       "      <td>4664</td>\n",
       "      <td>4664</td>\n",
       "    </tr>\n",
       "    <tr>\n",
       "      <th>APPAREL, TEXTILES, NONWOOL OR COTTON</th>\n",
       "      <td>6741</td>\n",
       "      <td>6741</td>\n",
       "      <td>6741</td>\n",
       "      <td>6741</td>\n",
       "      <td>6741</td>\n",
       "      <td>6741</td>\n",
       "    </tr>\n",
       "    <tr>\n",
       "      <th>...</th>\n",
       "      <td>...</td>\n",
       "      <td>...</td>\n",
       "      <td>...</td>\n",
       "      <td>...</td>\n",
       "      <td>...</td>\n",
       "      <td>...</td>\n",
       "    </tr>\n",
       "    <tr>\n",
       "      <th>VESSELS, EXCEPT SCRAP</th>\n",
       "      <td>812</td>\n",
       "      <td>812</td>\n",
       "      <td>812</td>\n",
       "      <td>812</td>\n",
       "      <td>812</td>\n",
       "      <td>812</td>\n",
       "    </tr>\n",
       "    <tr>\n",
       "      <th>WINE, BEER, AND RELATED PRODUCTS</th>\n",
       "      <td>4199</td>\n",
       "      <td>4199</td>\n",
       "      <td>4199</td>\n",
       "      <td>4199</td>\n",
       "      <td>4199</td>\n",
       "      <td>4199</td>\n",
       "    </tr>\n",
       "    <tr>\n",
       "      <th>WOOD, GLASS, PLASTIC</th>\n",
       "      <td>3844</td>\n",
       "      <td>3844</td>\n",
       "      <td>3844</td>\n",
       "      <td>3844</td>\n",
       "      <td>3844</td>\n",
       "      <td>3844</td>\n",
       "    </tr>\n",
       "    <tr>\n",
       "      <th>WOOL, SILK, ETC.</th>\n",
       "      <td>3726</td>\n",
       "      <td>3726</td>\n",
       "      <td>3726</td>\n",
       "      <td>3726</td>\n",
       "      <td>3726</td>\n",
       "      <td>3726</td>\n",
       "    </tr>\n",
       "    <tr>\n",
       "      <th>ZINC</th>\n",
       "      <td>1859</td>\n",
       "      <td>1859</td>\n",
       "      <td>1859</td>\n",
       "      <td>1859</td>\n",
       "      <td>1859</td>\n",
       "      <td>1859</td>\n",
       "    </tr>\n",
       "  </tbody>\n",
       "</table>\n",
       "<p>149 rows × 6 columns</p>\n",
       "</div>"
      ],
      "text/plain": [
       "                                      CTY_CODE  CTY_NAME  I_ENDUSE  \\\n",
       "I_ENDUSE_LDESC                                                       \n",
       "AGRICULTURAL MACHINERY, EQUIPMENT         4000      4000      4000   \n",
       "ALCOHOLIC BEVERAGES, EXCLUDING WINE       4242      4242      4242   \n",
       "APPAREL, HOUSEHOLD GOODS - COTTON         6440      6440      6440   \n",
       "APPAREL, HOUSEHOLD GOODS - WOOL           4664      4664      4664   \n",
       "APPAREL, TEXTILES, NONWOOL OR COTTON      6741      6741      6741   \n",
       "...                                        ...       ...       ...   \n",
       "VESSELS, EXCEPT SCRAP                      812       812       812   \n",
       "WINE, BEER, AND RELATED PRODUCTS          4199      4199      4199   \n",
       "WOOD, GLASS, PLASTIC                      3844      3844      3844   \n",
       "WOOL, SILK, ETC.                          3726      3726      3726   \n",
       "ZINC                                      1859      1859      1859   \n",
       "\n",
       "                                      GEN_VAL_MO  CON_VAL_MO  time  \n",
       "I_ENDUSE_LDESC                                                      \n",
       "AGRICULTURAL MACHINERY, EQUIPMENT           4000        4000  4000  \n",
       "ALCOHOLIC BEVERAGES, EXCLUDING WINE         4242        4242  4242  \n",
       "APPAREL, HOUSEHOLD GOODS - COTTON           6440        6440  6440  \n",
       "APPAREL, HOUSEHOLD GOODS - WOOL             4664        4664  4664  \n",
       "APPAREL, TEXTILES, NONWOOL OR COTTON        6741        6741  6741  \n",
       "...                                          ...         ...   ...  \n",
       "VESSELS, EXCEPT SCRAP                        812         812   812  \n",
       "WINE, BEER, AND RELATED PRODUCTS            4199        4199  4199  \n",
       "WOOD, GLASS, PLASTIC                        3844        3844  3844  \n",
       "WOOL, SILK, ETC.                            3726        3726  3726  \n",
       "ZINC                                        1859        1859  1859  \n",
       "\n",
       "[149 rows x 6 columns]"
      ]
     },
     "execution_count": 38,
     "metadata": {},
     "output_type": "execute_result"
    }
   ],
   "source": [
    "bdf.groupby('I_ENDUSE_LDESC').count()"
   ]
  },
  {
   "cell_type": "code",
   "execution_count": 37,
   "id": "9e8aef23-5d44-46c7-ab47-c3af7da3da50",
   "metadata": {},
   "outputs": [],
   "source": [
    "bdf_grp = bdf.groupby('I_ENDUSE_LDESC')"
   ]
  },
  {
   "cell_type": "code",
   "execution_count": 39,
   "id": "e6f4206c-d9a4-4f1d-b6d0-654e3362ae8c",
   "metadata": {},
   "outputs": [],
   "source": [
    "prop_russia = {}\n",
    "for grp in bdf_grp.groups:\n",
    "    sdf = bdf_grp.get_group(grp)\n",
    "    from_russian = sdf.CTY_NAME == \"RUSSIA\"\n",
    "    russia_val = sdf.loc[from_russian, 'GEN_VAL_MO'].astype(float).sum()\n",
    "    prop_russia.update({grp: russia_val / sdf.GEN_VAL_MO.astype(float).sum()})"
   ]
  },
  {
   "cell_type": "code",
   "execution_count": 47,
   "id": "59052ac0-f772-42c8-b6b9-18699a43f603",
   "metadata": {},
   "outputs": [
    {
     "data": {
      "text/plain": [
       "[('NONFERROUS METALS, OTHER', np.float64(0.00834651449362953)),\n",
       " ('OTHER MILITARY EQUIPMENT', np.float64(0.008902335619483408)),\n",
       " ('PLYWOOD AND VENEERS', np.float64(0.009864304988706617)),\n",
       " ('NICKEL', np.float64(0.012323591434346247)),\n",
       " ('CHEMICALS-FERTILIZERS', np.float64(0.014192042086358112)),\n",
       " ('OTHER PRECIOUS METALS', np.float64(0.021351693005147693)),\n",
       " ('STEELMAKING MATERIALS', np.float64(0.027554187845249364)),\n",
       " ('NUCLEAR FUEL MATERIALS', np.float64(0.038888680025991586)),\n",
       " ('FUEL OIL', np.float64(0.058651826583346764)),\n",
       " ('SPACECRAFT, EXCLUDING MILITARY', np.float64(0.13421884689166622))]"
      ]
     },
     "execution_count": 47,
     "metadata": {},
     "output_type": "execute_result"
    }
   ],
   "source": [
    "sorted([(v, k) for v, k in prop_russia.items()], key=lambda x: x[1])[-10: ]\n",
    "# the role of key here is to let the data sorted as the second value, instead of the first one!!!"
   ]
  },
  {
   "cell_type": "code",
   "execution_count": 48,
   "id": "e59b03ec-07a3-47eb-8cd5-3ef3c827a52f",
   "metadata": {},
   "outputs": [
    {
     "data": {
      "text/plain": [
       "[('TOTAL IMPORTS FOR ALL END-USE CODES', np.float64(0.0013677780625686463)),\n",
       " ('TOYS, GAMES, AND SPORTING GOODS', np.float64(3.228414114616338e-05)),\n",
       " ('TRUCKS, BUSES, AND SPECIAL PURPOSE VEHICLES',\n",
       "  np.float64(2.1992176366241888e-07)),\n",
       " ('U.S. GOODS RETURNED, AND REIMPORTS', np.float64(0.000275805386887706)),\n",
       " ('VEGETABLES', np.float64(4.307251304740404e-05)),\n",
       " ('VESSELS, EXCEPT SCRAP', np.float64(0.0)),\n",
       " ('WINE, BEER, AND RELATED PRODUCTS', np.float64(8.386146526127087e-06)),\n",
       " ('WOOD, GLASS, PLASTIC', np.float64(2.2210428086475335e-05)),\n",
       " ('WOOL, SILK, ETC.', np.float64(0.00019793225445704373)),\n",
       " ('ZINC', np.float64(0.0))]"
      ]
     },
     "execution_count": 48,
     "metadata": {},
     "output_type": "execute_result"
    }
   ],
   "source": [
    "sorted([(v, k) for v, k in prop_russia.items()])[-10: ]"
   ]
  },
  {
   "cell_type": "code",
   "execution_count": 50,
   "id": "cd7b75f4-bd6e-4c27-ac81-fb077503b315",
   "metadata": {},
   "outputs": [
    {
     "data": {
      "text/plain": [
       "[('BLANK TAPES, AUDIO & VISUAL', np.float64(0.0)),\n",
       " ('BODIES AND CHASSIS FOR PASSENGER CARS', np.float64(0.0)),\n",
       " ('BODIES AND CHASSIS FOR TRUCKS AND BUSES', np.float64(0.0)),\n",
       " ('COCOA BEANS', np.float64(0.0)),\n",
       " ('ELECTRIC ENERGY', np.float64(0.0)),\n",
       " ('GREEN COFFEE', np.float64(0.0)),\n",
       " ('LIQUEFIED PETROLEUM GASES', np.float64(0.0)),\n",
       " ('MEAT PRODUCTS', np.float64(0.0)),\n",
       " ('NURSERY STOCK, ETC.', np.float64(0.0)),\n",
       " ('VESSELS, EXCEPT SCRAP', np.float64(0.0)),\n",
       " ('ZINC', np.float64(0.0)),\n",
       " ('PASSENGER CARS, NEW AND USED', np.float64(1.92394839648141e-07)),\n",
       " ('TRUCKS, BUSES, AND SPECIAL PURPOSE VEHICLES',\n",
       "  np.float64(2.1992176366241888e-07)),\n",
       " ('PULPWOOD AND WOODPULP', np.float64(2.7636978196595916e-07)),\n",
       " ('TEXTILE, SEWING MACHINES', np.float64(3.0573017018108506e-07)),\n",
       " ('COMPUTERS', np.float64(6.255859505384664e-07)),\n",
       " ('COTTON, NATURAL FIBERS', np.float64(8.766450866043704e-07)),\n",
       " ('COTTON CLOTH, FABRICS', np.float64(1.1982134421869985e-06)),\n",
       " ('LEATHER AND FURS', np.float64(1.4738325313797534e-06)),\n",
       " ('RUGS', np.float64(1.823976403829926e-06)),\n",
       " ('NATURAL RUBBER', np.float64(2.3452957347446205e-06)),\n",
       " ('COMPUTER ACCESSORIES', np.float64(2.924250153558279e-06)),\n",
       " ('PHARMACEUTICAL PREPARATIONS', np.float64(3.625732132272266e-06)),\n",
       " ('CANE AND BEET SUGAR', np.float64(3.6708517350348357e-06)),\n",
       " ('STEREO EQUIPMENT, ETC', np.float64(4.445947426586922e-06)),\n",
       " ('OTHER PARTS AND ACCESSORIES OF VEHICLES',\n",
       "  np.float64(4.916209993852362e-06)),\n",
       " ('BUSINESS MACHINES AND EQUIPMENT', np.float64(4.920067477293683e-06)),\n",
       " ('CAMPING APPAREL AND GEAR', np.float64(5.009300272271004e-06)),\n",
       " ('SPECIALIZED MINING', np.float64(5.046314304908942e-06)),\n",
       " ('COPPER', np.float64(5.1622419039092166e-06)),\n",
       " ('FRUITS, FROZEN JUICES', np.float64(6.548052191223674e-06)),\n",
       " ('TELEVISIONS AND VIDEO EQUIPMENT', np.float64(6.678093211742877e-06)),\n",
       " ('APPAREL, HOUSEHOLD GOODS - WOOL', np.float64(6.7690152218680884e-06)),\n",
       " ('CELL PHONES AND OTHER HOUSEHOLD GOODS, N.E.C.',\n",
       "  np.float64(6.855474260794388e-06)),\n",
       " ('APPAREL,HOUSEHOLD GOODS-NONTEXTILE', np.float64(7.3165199238059355e-06)),\n",
       " ('MUSICAL INSTRUMENTS', np.float64(7.537808049226528e-06)),\n",
       " ('PULP AND PAPER MACHINERY', np.float64(7.624709200940284e-06)),\n",
       " ('WINE, BEER, AND RELATED PRODUCTS', np.float64(8.386146526127087e-06)),\n",
       " ('APPAREL, HOUSEHOLD GOODS - COTTON', np.float64(8.752080363990277e-06)),\n",
       " ('APPAREL, TEXTILES, NONWOOL OR COTTON', np.float64(9.970453819193985e-06)),\n",
       " ('PHOTO EQUIPMENT', np.float64(1.1160073153691328e-05)),\n",
       " ('MARINE ENGINES, PARTS', np.float64(1.1200166181838387e-05)),\n",
       " ('NONFARM TRACTORS AND PARTS', np.float64(1.4195019749144122e-05)),\n",
       " ('COOKWARE, CUTLERY, TOOLS', np.float64(1.5392218732590957e-05)),\n",
       " ('SYNTHETIC CLOTH', np.float64(1.5477948299347787e-05)),\n",
       " ('GLASS-PLATE, SHEET, ETC.', np.float64(1.576545693889812e-05)),\n",
       " ('HOUSEHOLD APPLIANCES', np.float64(1.600856996714974e-05)),\n",
       " ('STONE, SAND, CEMENT, ETC.', np.float64(1.7084960380417764e-05)),\n",
       " ('ENGINES AND ENGINE PARTS', np.float64(1.8642936159118814e-05)),\n",
       " ('FINISHED TEXTILE SUPPLIES', np.float64(2.0651308533587584e-05)),\n",
       " ('WOOD, GLASS, PLASTIC', np.float64(2.2210428086475335e-05)),\n",
       " ('PLEASURE BOATS AND MOTORS', np.float64(2.2227250210068243e-05)),\n",
       " ('FOOTWEAR', np.float64(2.6460180464956452e-05)),\n",
       " ('AUTOMOTIVE VEHICLES, PARTS, AND ENGINES',\n",
       "  np.float64(2.6911560579948265e-05)),\n",
       " ('SEMICONDUCTORS', np.float64(2.983609175002636e-05)),\n",
       " ('NONAGRICULTURAL FOODS, ETC.', np.float64(3.104161185326378e-05)),\n",
       " ('RECORDED MEDIA', np.float64(3.183642394545618e-05)),\n",
       " ('TOYS, GAMES, AND SPORTING GOODS', np.float64(3.228414114616338e-05)),\n",
       " ('OTHER CONSUMER NONDURABLES', np.float64(3.257631239416811e-05)),\n",
       " ('GLASSWARE, CHINAWARE', np.float64(3.493352946276988e-05)),\n",
       " ('AGRICULTURAL MACHINERY, EQUIPMENT', np.float64(3.547639376183739e-05)),\n",
       " ('EXCAVATING MACHINERY', np.float64(3.57423029871275e-05)),\n",
       " ('FOOD, TOBACCO MACHINERY', np.float64(3.649787523174853e-05)),\n",
       " ('NEWSPRINT', np.float64(3.7792056822261245e-05)),\n",
       " ('HAIR, WASTE MATERIALS', np.float64(4.0401225491527775e-05)),\n",
       " ('IRON AND STEEL, ADVANCED', np.float64(4.230263613873041e-05)),\n",
       " ('VEGETABLES', np.float64(4.307251304740404e-05)),\n",
       " ('METALWORKING MACHINE TOOLS', np.float64(4.380498732586965e-05)),\n",
       " ('MEASURING, TESTING, CONTROL INSTRUMENTS',\n",
       "  np.float64(4.4003315670277094e-05)),\n",
       " ('INDUSTRIAL SUPPLIES, OTHER', np.float64(4.46631105573609e-05)),\n",
       " ('MATERIALS HANDLING EQUIPMENT', np.float64(4.616318758834089e-05)),\n",
       " ('JEWELRY', np.float64(4.7025066417814314e-05)),\n",
       " ('DAIRY PRODUCTS AND EGGS', np.float64(5.4779786925019266e-05)),\n",
       " ('MEDICINAL EQUIPMENT', np.float64(5.8302690009477295e-05)),\n",
       " ('INDUSTRIAL ENGINES', np.float64(5.875552441996244e-05)),\n",
       " ('TOILETRIES AND COSMETICS', np.float64(6.039960316913524e-05)),\n",
       " ('PAPER AND PAPER PRODUCTS', np.float64(6.418012725785443e-05)),\n",
       " ('ELECTRIC APPARATUS', np.float64(6.448578347762627e-05)),\n",
       " ('FARMING MATERIALS, LIVESTOCK', np.float64(7.026406368902076e-05)),\n",
       " ('OTHER FOODS', np.float64(7.517766101418099e-05)),\n",
       " ('TELECOMMUNICATIONS EQUIPMENT', np.float64(7.711660605671661e-05)),\n",
       " ('PHOTO, SERVICE INDUSTRY MACHINERY', np.float64(7.870620406167923e-05)),\n",
       " ('FURNITURE, HOUSEHOLD GOODS, ETC.', np.float64(7.928495404092046e-05)),\n",
       " ('TEA, SPICES, ETC.', np.float64(7.960792456786816e-05)),\n",
       " ('COMMERCIAL VESSELS, OTHER', np.float64(8.625779102383286e-05)),\n",
       " ('NONTEXTILE FLOOR TILES', np.float64(0.00010571977565449916)),\n",
       " ('BAKERY PRODUCTS', np.float64(0.00011075039963735842)),\n",
       " ('MINIMUM VALUE SHIPMENTS', np.float64(0.00011534627467431681)),\n",
       " ('ENGINES-CIVILIAN AIRCRAFT', np.float64(0.00012668894405098465)),\n",
       " ('INDUSTRIAL MACHINES, OTHER', np.float64(0.00012726484748311548)),\n",
       " ('CONSUMER GOODS', np.float64(0.0001313636398542302)),\n",
       " ('SHINGLES, WALLBOARD', np.float64(0.00013592196982881502)),\n",
       " ('BOOKS, PRINTED MATTER', np.float64(0.0001383970183209962)),\n",
       " ('MATERIALS, EXCLUDING CHEMICALS', np.float64(0.00014803602550608974)),\n",
       " ('MILITARY AIRCRAFT AND PARTS', np.float64(0.00016350961015982284)),\n",
       " ('TOBACCO, WAXES, ETC.', np.float64(0.00017372786039112134)),\n",
       " ('CAPITAL GOODS, EXCEPT AUTOMOTIVE', np.float64(0.00017746060367964737)),\n",
       " ('WOOL, SILK, ETC.', np.float64(0.00019793225445704373)),\n",
       " ('MOTORCYCLES AND PARTS', np.float64(0.0002142685984774955)),\n",
       " ('GENERATORS, ACCESSORIES', np.float64(0.0002604402004909735)),\n",
       " ('CIVILIAN AIRCRAFT', np.float64(0.0002725078405408387)),\n",
       " ('U.S. GOODS RETURNED, AND REIMPORTS', np.float64(0.000275805386887706)),\n",
       " ('CHEMICALS-OTHER, N.E.C.', np.float64(0.0002913507299984742)),\n",
       " ('ALCOHOLIC BEVERAGES, EXCLUDING WINE', np.float64(0.0003093747903305468)),\n",
       " ('GEM STONES, OTHER', np.float64(0.00034834522728713737)),\n",
       " ('CHEMICALS-ORGANIC', np.float64(0.00038081785002793875)),\n",
       " ('LABORATORY TESTING INSTRUMENTS', np.float64(0.00039320829118310354)),\n",
       " ('GAS-NATURAL', np.float64(0.0004076959396242015)),\n",
       " ('OTHER GOODS', np.float64(0.0004094227963166237)),\n",
       " ('FEEDSTUFF AND FOODGRAINS', np.float64(0.00041661562421990277)),\n",
       " ('IRON AND STEEL PRODUCTS, N.E.C.', np.float64(0.0004262714107277641)),\n",
       " ('NUMISMATIC COINS', np.float64(0.0004569623019126277)),\n",
       " ('PLASTIC MATERIALS', np.float64(0.0004622554397144004)),\n",
       " ('FOOD OILS, OILSEEDS', np.float64(0.0004640710831292425)),\n",
       " ('LUMBER', np.float64(0.0004896745209720518)),\n",
       " ('HIDES AND SKINS', np.float64(0.0005558058790436038)),\n",
       " ('NONMONETARY GOLD', np.float64(0.0006392380203656548)),\n",
       " ('NUTS', np.float64(0.0006586202988369459)),\n",
       " ('AUTOMOTIVE TIRES AND TUBES', np.float64(0.0007621222329708305)),\n",
       " ('FOODS, FEEDS, AND BEVERAGES', np.float64(0.0008563597888586194)),\n",
       " ('OTHER (MOVIES, MISCELLANEOUS IMPORTS, AND SPECIAL TRANSACTIONS)',\n",
       "  np.float64(0.0010310724241188937)),\n",
       " ('TOTAL IMPORTS FOR ALL END-USE CODES', np.float64(0.0013677780625686463)),\n",
       " ('PARTS-CIVILIAN AIRCRAFT', np.float64(0.0013830142367208)),\n",
       " ('TIN', np.float64(0.0014092238643270906)),\n",
       " ('ARTWORK, ANTIQUES, STAMPS, ETC.', np.float64(0.0014508200667080215)),\n",
       " ('COAL AND RELATED FUELS', np.float64(0.0015378451720332008)),\n",
       " ('CHEMICALS-INORGANIC', np.float64(0.001579301977551113)),\n",
       " ('FINISHED METAL SHAPES', np.float64(0.0015869872014704603)),\n",
       " ('RAILWAY TRANSPORTATION EQUIPMENT', np.float64(0.0020542308232475693)),\n",
       " ('CRUDE OIL', np.float64(0.0032227226376852244)),\n",
       " ('GEM DIAMONDS', np.float64(0.0038960585969644674)),\n",
       " ('DRILLING & OILFIELD EQUIPMENT', np.float64(0.0055751490527954205)),\n",
       " ('INDUSTRIAL SUPPLIES AND MATERIALS', np.float64(0.00577497064754169)),\n",
       " ('IRON AND STEEL MILL PRODUCTS', np.float64(0.005872279179280544)),\n",
       " ('FISH AND SHELLFISH', np.float64(0.006076391273020306)),\n",
       " ('SULFUR, NONMETALLIC MINERALS', np.float64(0.006646935206376044)),\n",
       " ('BAUXITE AND ALUMINUM', np.float64(0.007136035239333742)),\n",
       " ('SYNTHETIC RUBBER--PRIMARY', np.float64(0.007470081374078358)),\n",
       " ('PETROLEUM PRODUCTS, OTHER', np.float64(0.00820624129697786)),\n",
       " ('NONFERROUS METALS, OTHER', np.float64(0.00834651449362953)),\n",
       " ('OTHER MILITARY EQUIPMENT', np.float64(0.008902335619483408)),\n",
       " ('PLYWOOD AND VENEERS', np.float64(0.009864304988706617)),\n",
       " ('NICKEL', np.float64(0.012323591434346247)),\n",
       " ('CHEMICALS-FERTILIZERS', np.float64(0.014192042086358112)),\n",
       " ('OTHER PRECIOUS METALS', np.float64(0.021351693005147693)),\n",
       " ('STEELMAKING MATERIALS', np.float64(0.027554187845249364)),\n",
       " ('NUCLEAR FUEL MATERIALS', np.float64(0.038888680025991586)),\n",
       " ('FUEL OIL', np.float64(0.058651826583346764)),\n",
       " ('SPACECRAFT, EXCLUDING MILITARY', np.float64(0.13421884689166622))]"
      ]
     },
     "execution_count": 50,
     "metadata": {},
     "output_type": "execute_result"
    }
   ],
   "source": [
    "sorted([(v, k) for v, k in prop_russia.items()], key=lambda x: x[1])\n",
    "# the default of the method is sort data from little to big"
   ]
  },
  {
   "cell_type": "code",
   "execution_count": null,
   "id": "a30189d5-ad89-443b-8f8c-830081fa9a57",
   "metadata": {},
   "outputs": [],
   "source": []
  }
 ],
 "metadata": {
  "kernelspec": {
   "display_name": "Python 3 (ipykernel)",
   "language": "python",
   "name": "python3"
  },
  "language_info": {
   "codemirror_mode": {
    "name": "ipython",
    "version": 3
   },
   "file_extension": ".py",
   "mimetype": "text/x-python",
   "name": "python",
   "nbconvert_exporter": "python",
   "pygments_lexer": "ipython3",
   "version": "3.11.1"
  }
 },
 "nbformat": 4,
 "nbformat_minor": 5
}
