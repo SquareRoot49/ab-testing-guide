{
 "cells": [
  {
   "cell_type": "code",
   "execution_count": 19,
   "id": "1d399b25-8e49-49d1-91b5-584f3980c7cd",
   "metadata": {},
   "outputs": [],
   "source": [
    "import numpy as np\n",
    "import random\n",
    "import pandas as pd"
   ]
  },
  {
   "cell_type": "code",
   "execution_count": 4,
   "id": "74dd4427-b545-4b1b-b4ad-3007f7809091",
   "metadata": {},
   "outputs": [],
   "source": [
    "random.seed(0)"
   ]
  },
  {
   "cell_type": "code",
   "execution_count": 5,
   "id": "f478225e-f347-4639-a51b-f8cfdf1da5c9",
   "metadata": {},
   "outputs": [
    {
     "data": {
      "text/plain": [
       "0.8444218515250481"
      ]
     },
     "execution_count": 5,
     "metadata": {},
     "output_type": "execute_result"
    }
   ],
   "source": [
    "random.random()"
   ]
  },
  {
   "cell_type": "code",
   "execution_count": 6,
   "id": "c9bcf941-2773-422b-8774-afc9e8fe23b3",
   "metadata": {},
   "outputs": [
    {
     "data": {
      "text/plain": [
       "0.7579544029403025"
      ]
     },
     "execution_count": 6,
     "metadata": {},
     "output_type": "execute_result"
    }
   ],
   "source": [
    "random.random()"
   ]
  },
  {
   "cell_type": "code",
   "execution_count": 7,
   "id": "c6b0876c-2117-4799-a023-9ead12cfc022",
   "metadata": {},
   "outputs": [
    {
     "data": {
      "text/plain": [
       "0.420571580830845"
      ]
     },
     "execution_count": 7,
     "metadata": {},
     "output_type": "execute_result"
    }
   ],
   "source": [
    "random.random()"
   ]
  },
  {
   "cell_type": "code",
   "execution_count": 8,
   "id": "7fa22a8f-9bd3-4cb8-b303-1363a5bebc88",
   "metadata": {},
   "outputs": [],
   "source": [
    "random.seed(0)"
   ]
  },
  {
   "cell_type": "code",
   "execution_count": 9,
   "id": "1c8eca77-75a3-4983-844d-845e071ca021",
   "metadata": {},
   "outputs": [
    {
     "data": {
      "text/plain": [
       "0.8444218515250481"
      ]
     },
     "execution_count": 9,
     "metadata": {},
     "output_type": "execute_result"
    }
   ],
   "source": [
    "random.random()"
   ]
  },
  {
   "cell_type": "code",
   "execution_count": 10,
   "id": "58685e3a-5028-4bc3-ae3b-84444a717d2b",
   "metadata": {},
   "outputs": [],
   "source": [
    "# 随机数并不是真正的随机，其实是有规律的，但是由于其中的运算过于复杂，所以可以视为是随机的。\n",
    "# 产生随机数的过程相当于是一个函数，但是关键在于我们输入一个种子之后，会得到两个东西，一个是这个种子产生的随机数，另外一个是保证能生成下一个随机数的种子！\n",
    "# 因此如果我们想要同一个随机数，就需要再重新设置种子！\n",
    "# 设置种子后，其他人也可以得到我们同样的随机数！"
   ]
  },
  {
   "cell_type": "code",
   "execution_count": 14,
   "id": "a793fdff-8499-4057-9927-11ac8f749f43",
   "metadata": {},
   "outputs": [],
   "source": [
    "np.random.seed(42)"
   ]
  },
  {
   "cell_type": "code",
   "execution_count": 15,
   "id": "f68457a9-1960-4b7d-8e9e-e8e9272c62ad",
   "metadata": {},
   "outputs": [],
   "source": [
    "sample1 = np.random.normal(0, 1, 100)"
   ]
  },
  {
   "cell_type": "code",
   "execution_count": 16,
   "id": "2a30f8f4-184a-4e33-b40b-c7459caab0fc",
   "metadata": {},
   "outputs": [
    {
     "data": {
      "text/plain": [
       "array([ 0.49671415, -0.1382643 ,  0.64768854,  1.52302986, -0.23415337,\n",
       "       -0.23413696,  1.57921282,  0.76743473, -0.46947439,  0.54256004,\n",
       "       -0.46341769, -0.46572975,  0.24196227, -1.91328024, -1.72491783,\n",
       "       -0.56228753, -1.01283112,  0.31424733, -0.90802408, -1.4123037 ,\n",
       "        1.46564877, -0.2257763 ,  0.0675282 , -1.42474819, -0.54438272,\n",
       "        0.11092259, -1.15099358,  0.37569802, -0.60063869, -0.29169375,\n",
       "       -0.60170661,  1.85227818, -0.01349722, -1.05771093,  0.82254491,\n",
       "       -1.22084365,  0.2088636 , -1.95967012, -1.32818605,  0.19686124,\n",
       "        0.73846658,  0.17136828, -0.11564828, -0.3011037 , -1.47852199,\n",
       "       -0.71984421, -0.46063877,  1.05712223,  0.34361829, -1.76304016,\n",
       "        0.32408397, -0.38508228, -0.676922  ,  0.61167629,  1.03099952,\n",
       "        0.93128012, -0.83921752, -0.30921238,  0.33126343,  0.97554513,\n",
       "       -0.47917424, -0.18565898, -1.10633497, -1.19620662,  0.81252582,\n",
       "        1.35624003, -0.07201012,  1.0035329 ,  0.36163603, -0.64511975,\n",
       "        0.36139561,  1.53803657, -0.03582604,  1.56464366, -2.6197451 ,\n",
       "        0.8219025 ,  0.08704707, -0.29900735,  0.09176078, -1.98756891,\n",
       "       -0.21967189,  0.35711257,  1.47789404, -0.51827022, -0.8084936 ,\n",
       "       -0.50175704,  0.91540212,  0.32875111, -0.5297602 ,  0.51326743,\n",
       "        0.09707755,  0.96864499, -0.70205309, -0.32766215, -0.39210815,\n",
       "       -1.46351495,  0.29612028,  0.26105527,  0.00511346, -0.23458713])"
      ]
     },
     "execution_count": 16,
     "metadata": {},
     "output_type": "execute_result"
    }
   ],
   "source": [
    "sample1"
   ]
  },
  {
   "cell_type": "code",
   "execution_count": 17,
   "id": "f40b0568-d518-41ec-b783-39fe13c18ed9",
   "metadata": {},
   "outputs": [],
   "source": [
    "sample2 = np.random.normal(0, 1, 100)"
   ]
  },
  {
   "cell_type": "code",
   "execution_count": 18,
   "id": "89671f29-6402-453a-8681-95f469c2cdec",
   "metadata": {},
   "outputs": [
    {
     "data": {
      "text/plain": [
       "array([-1.41537074, -0.42064532, -0.34271452, -0.80227727, -0.16128571,\n",
       "        0.40405086,  1.8861859 ,  0.17457781,  0.25755039, -0.07444592,\n",
       "       -1.91877122, -0.02651388,  0.06023021,  2.46324211, -0.19236096,\n",
       "        0.30154734, -0.03471177, -1.16867804,  1.14282281,  0.75193303,\n",
       "        0.79103195, -0.90938745,  1.40279431, -1.40185106,  0.58685709,\n",
       "        2.19045563, -0.99053633, -0.56629773,  0.09965137, -0.50347565,\n",
       "       -1.55066343,  0.06856297, -1.06230371,  0.47359243, -0.91942423,\n",
       "        1.54993441, -0.78325329, -0.32206152,  0.81351722, -1.23086432,\n",
       "        0.22745993,  1.30714275, -1.60748323,  0.18463386,  0.25988279,\n",
       "        0.78182287, -1.23695071, -1.32045661,  0.52194157,  0.29698467,\n",
       "        0.25049285,  0.34644821, -0.68002472,  0.2322537 ,  0.29307247,\n",
       "       -0.71435142,  1.86577451,  0.47383292, -1.1913035 ,  0.65655361,\n",
       "       -0.97468167,  0.7870846 ,  1.15859558, -0.82068232,  0.96337613,\n",
       "        0.41278093,  0.82206016,  1.89679298, -0.24538812, -0.75373616,\n",
       "       -0.88951443, -0.81581028, -0.07710171,  0.34115197,  0.2766908 ,\n",
       "        0.82718325,  0.01300189,  1.45353408, -0.26465683,  2.72016917,\n",
       "        0.62566735, -0.85715756, -1.0708925 ,  0.48247242, -0.22346279,\n",
       "        0.71400049,  0.47323762, -0.07282891, -0.84679372, -1.51484722,\n",
       "       -0.44651495,  0.85639879,  0.21409374, -1.24573878,  0.17318093,\n",
       "        0.38531738, -0.88385744,  0.15372511,  0.05820872, -1.1429703 ])"
      ]
     },
     "execution_count": 18,
     "metadata": {},
     "output_type": "execute_result"
    }
   ],
   "source": [
    "sample2"
   ]
  },
  {
   "cell_type": "code",
   "execution_count": 27,
   "id": "08b40658-0fd8-4107-ad91-88f4d7fdc59b",
   "metadata": {},
   "outputs": [],
   "source": [
    "data = pd.DataFrame({'Dataset1': sample1, 'Dataset2': sample2})"
   ]
  },
  {
   "cell_type": "code",
   "execution_count": 28,
   "id": "814f71af-700c-48ba-9202-3374471bc8f6",
   "metadata": {},
   "outputs": [
    {
     "data": {
      "text/html": [
       "<div>\n",
       "<style scoped>\n",
       "    .dataframe tbody tr th:only-of-type {\n",
       "        vertical-align: middle;\n",
       "    }\n",
       "\n",
       "    .dataframe tbody tr th {\n",
       "        vertical-align: top;\n",
       "    }\n",
       "\n",
       "    .dataframe thead th {\n",
       "        text-align: right;\n",
       "    }\n",
       "</style>\n",
       "<table border=\"1\" class=\"dataframe\">\n",
       "  <thead>\n",
       "    <tr style=\"text-align: right;\">\n",
       "      <th></th>\n",
       "      <th>Dataset1</th>\n",
       "      <th>Dataset2</th>\n",
       "    </tr>\n",
       "  </thead>\n",
       "  <tbody>\n",
       "    <tr>\n",
       "      <th>0</th>\n",
       "      <td>0.496714</td>\n",
       "      <td>-1.415371</td>\n",
       "    </tr>\n",
       "    <tr>\n",
       "      <th>1</th>\n",
       "      <td>-0.138264</td>\n",
       "      <td>-0.420645</td>\n",
       "    </tr>\n",
       "    <tr>\n",
       "      <th>2</th>\n",
       "      <td>0.647689</td>\n",
       "      <td>-0.342715</td>\n",
       "    </tr>\n",
       "    <tr>\n",
       "      <th>3</th>\n",
       "      <td>1.523030</td>\n",
       "      <td>-0.802277</td>\n",
       "    </tr>\n",
       "    <tr>\n",
       "      <th>4</th>\n",
       "      <td>-0.234153</td>\n",
       "      <td>-0.161286</td>\n",
       "    </tr>\n",
       "    <tr>\n",
       "      <th>...</th>\n",
       "      <td>...</td>\n",
       "      <td>...</td>\n",
       "    </tr>\n",
       "    <tr>\n",
       "      <th>95</th>\n",
       "      <td>-1.463515</td>\n",
       "      <td>0.385317</td>\n",
       "    </tr>\n",
       "    <tr>\n",
       "      <th>96</th>\n",
       "      <td>0.296120</td>\n",
       "      <td>-0.883857</td>\n",
       "    </tr>\n",
       "    <tr>\n",
       "      <th>97</th>\n",
       "      <td>0.261055</td>\n",
       "      <td>0.153725</td>\n",
       "    </tr>\n",
       "    <tr>\n",
       "      <th>98</th>\n",
       "      <td>0.005113</td>\n",
       "      <td>0.058209</td>\n",
       "    </tr>\n",
       "    <tr>\n",
       "      <th>99</th>\n",
       "      <td>-0.234587</td>\n",
       "      <td>-1.142970</td>\n",
       "    </tr>\n",
       "  </tbody>\n",
       "</table>\n",
       "<p>100 rows × 2 columns</p>\n",
       "</div>"
      ],
      "text/plain": [
       "    Dataset1  Dataset2\n",
       "0   0.496714 -1.415371\n",
       "1  -0.138264 -0.420645\n",
       "2   0.647689 -0.342715\n",
       "3   1.523030 -0.802277\n",
       "4  -0.234153 -0.161286\n",
       "..       ...       ...\n",
       "95 -1.463515  0.385317\n",
       "96  0.296120 -0.883857\n",
       "97  0.261055  0.153725\n",
       "98  0.005113  0.058209\n",
       "99 -0.234587 -1.142970\n",
       "\n",
       "[100 rows x 2 columns]"
      ]
     },
     "execution_count": 28,
     "metadata": {},
     "output_type": "execute_result"
    }
   ],
   "source": [
    "data"
   ]
  },
  {
   "cell_type": "code",
   "execution_count": 29,
   "id": "e02e4dc8-513d-49fe-aadf-bdb6673838ca",
   "metadata": {},
   "outputs": [],
   "source": [
    "# 对数据进行t-test"
   ]
  },
  {
   "cell_type": "code",
   "execution_count": 31,
   "id": "454d26fe-76db-4d1a-8b2c-67e08c191602",
   "metadata": {},
   "outputs": [],
   "source": [
    "d1bar = data['Dataset1'].mean()"
   ]
  },
  {
   "cell_type": "code",
   "execution_count": 33,
   "id": "242b38f2-951a-434d-b04e-8713889d301d",
   "metadata": {},
   "outputs": [],
   "source": [
    "n1 = len(data['Dataset1'])"
   ]
  },
  {
   "cell_type": "code",
   "execution_count": 99,
   "id": "8b2a4827-99b8-4451-9498-222be70f9911",
   "metadata": {},
   "outputs": [
    {
     "data": {
      "text/plain": [
       "np.float64(-0.10384651739409384)"
      ]
     },
     "execution_count": 99,
     "metadata": {},
     "output_type": "execute_result"
    }
   ],
   "source": [
    "d1bar"
   ]
  },
  {
   "cell_type": "code",
   "execution_count": 100,
   "id": "9847d867-495b-4204-a859-429545a81c69",
   "metadata": {},
   "outputs": [
    {
     "data": {
      "text/plain": [
       "100"
      ]
     },
     "execution_count": 100,
     "metadata": {},
     "output_type": "execute_result"
    }
   ],
   "source": [
    "n1"
   ]
  },
  {
   "cell_type": "code",
   "execution_count": 51,
   "id": "f79cd24f-d197-4ed9-bb45-50ddebf606fd",
   "metadata": {},
   "outputs": [],
   "source": [
    "t_s = (d1bar - 0) / (1 / n1**(0.5))"
   ]
  },
  {
   "cell_type": "code",
   "execution_count": 69,
   "id": "fa4b1af5-31bc-434b-91c3-756037e886bd",
   "metadata": {},
   "outputs": [
    {
     "name": "stdout",
     "output_type": "stream",
     "text": [
      "False\n"
     ]
    }
   ],
   "source": [
    "import numpy as np\n",
    "from scipy.stats import t\n",
    " \n",
    "# 自定义计算t分布的累计分布函数（CDF）的函数\n",
    "def t_cdf(x, df):\n",
    "    # 根据t分布的定义计算CDF\n",
    "    cdf = 0.5 * (1 + np.tan(np.pi * (x - np.sqrt(df) * np.arctan(np.sqrt((df + 1) / df) * np.tan(np.pi * (x + np.sqrt(df) / np.sqrt(df + 1)))) / 2) / np.pi))\n",
    "    return cdf\n",
    " \n",
    "# 使用scipy.stats内置的t分布函数来验证结果\n",
    "x_values = np.linspace(-5, 5, 1000)  # 创建一个包含1000个点的线性空间\n",
    "df = 1.5  # 自由度\n",
    "cdf_expected = t.cdf(x_values, df)  # 使用scipy计算期望的CDF值\n",
    "cdf_manual = manual_cdf_t_distribution(x_values, df)  # 使用自定义函数计算手动CDF值\n",
    " \n",
    "# 比较两者的差异\n",
    "print(np.allclose(cdf_expected, cdf_manual))  # 应该输出True，表示结果接近\n"
   ]
  },
  {
   "cell_type": "code",
   "execution_count": 70,
   "id": "fc268312-9c44-49c6-8b98-93a8c7d312c5",
   "metadata": {},
   "outputs": [],
   "source": [
    "def t_cdf(x, df):\n",
    "    # 根据t分布的定义计算CDF\n",
    "    cdf = 0.5 * (1 + np.tan(np.pi * (x - np.sqrt(df) * np.arctan(np.sqrt((df + 1) / df) * np.tan(np.pi * (x + np.sqrt(df) / np.sqrt(df + 1)))) / 2) / np.pi))\n",
    "    return cdf"
   ]
  },
  {
   "cell_type": "code",
   "execution_count": 75,
   "id": "ed734457-b354-4907-a01e-6806a9d7d2d0",
   "metadata": {},
   "outputs": [
    {
     "data": {
      "text/plain": [
       "np.float64(0.3143281973728479)"
      ]
     },
     "execution_count": 75,
     "metadata": {},
     "output_type": "execute_result"
    }
   ],
   "source": [
    "t_cdf(t_s, n1 - 1)"
   ]
  },
  {
   "cell_type": "code",
   "execution_count": 71,
   "id": "2bdc62df-5712-4801-a31e-7474e698456d",
   "metadata": {},
   "outputs": [],
   "source": [
    "p_value = 2*(t_cdf(t_s, n1 - 1))"
   ]
  },
  {
   "cell_type": "code",
   "execution_count": 72,
   "id": "9d0485de-9768-4c03-abc6-3dc95b826afa",
   "metadata": {},
   "outputs": [
    {
     "data": {
      "text/plain": [
       "np.float64(0.6286563947456958)"
      ]
     },
     "execution_count": 72,
     "metadata": {},
     "output_type": "execute_result"
    }
   ],
   "source": [
    "p_value"
   ]
  },
  {
   "cell_type": "code",
   "execution_count": 61,
   "id": "8ed2eddf-d498-4597-b2df-964e47646870",
   "metadata": {},
   "outputs": [],
   "source": [
    "# problem three"
   ]
  },
  {
   "cell_type": "code",
   "execution_count": 62,
   "id": "bce09307-d827-4f4a-99b3-010904373661",
   "metadata": {},
   "outputs": [],
   "source": [
    "u0 = 0\n",
    "u1 = 0.5\n",
    "t_s2 = (u1 - u0) / (1 / n1**(0.5))"
   ]
  },
  {
   "cell_type": "code",
   "execution_count": 64,
   "id": "f3fc4f94-56f1-4ec5-bd9e-a648517afee1",
   "metadata": {},
   "outputs": [],
   "source": [
    "from scipy.stats import t"
   ]
  },
  {
   "cell_type": "code",
   "execution_count": 66,
   "id": "35f9eebe-6580-41bd-b569-5e514dc9c4be",
   "metadata": {},
   "outputs": [],
   "source": [
    "t_tric = t.ppf(1 - 0.5 * 0.05, n1 - 1)"
   ]
  },
  {
   "cell_type": "code",
   "execution_count": 67,
   "id": "8185bcce-d1e6-46ae-9e1f-d0971bf26792",
   "metadata": {},
   "outputs": [
    {
     "data": {
      "text/plain": [
       "np.float64(1.9842169515086827)"
      ]
     },
     "execution_count": 67,
     "metadata": {},
     "output_type": "execute_result"
    }
   ],
   "source": [
    "t_tric"
   ]
  },
  {
   "cell_type": "code",
   "execution_count": 68,
   "id": "31a245aa-45f9-4b0c-a67e-ac2324e919cd",
   "metadata": {},
   "outputs": [
    {
     "data": {
      "text/plain": [
       "5.0"
      ]
     },
     "execution_count": 68,
     "metadata": {},
     "output_type": "execute_result"
    }
   ],
   "source": [
    "t_s2"
   ]
  },
  {
   "cell_type": "code",
   "execution_count": 91,
   "id": "d44f7b5e-ab41-4801-8e20-b123fa07db3d",
   "metadata": {},
   "outputs": [],
   "source": [
    "power = 1 - t_cdf(t_tric - t_s2, n1 - 1)"
   ]
  },
  {
   "cell_type": "code",
   "execution_count": 92,
   "id": "7c120ac4-4fee-4420-8415-751f65952722",
   "metadata": {},
   "outputs": [
    {
     "data": {
      "text/plain": [
       "np.float64(0.2569526503293825)"
      ]
     },
     "execution_count": 92,
     "metadata": {},
     "output_type": "execute_result"
    }
   ],
   "source": [
    "power"
   ]
  },
  {
   "cell_type": "code",
   "execution_count": 109,
   "id": "a384dfff-095f-4984-82f9-dc99b7a7005c",
   "metadata": {},
   "outputs": [],
   "source": [
    "u0 = 0\n",
    "d1_bar = data['Dataset1'].mean()\n",
    "n1 = len(data['Dataset1'])\n",
    "s = 0\n",
    "for i in data['Dataset1']:\n",
    "    s = s + (i - d1_bar)**2\n",
    "sd = (s / n1)**(0.5)\n",
    "t_stas = (d1_bar - u0) / (1 / n1**(0.5))"
   ]
  },
  {
   "cell_type": "code",
   "execution_count": 110,
   "id": "58b90a78-2912-4538-8bd7-ed86dc26743b",
   "metadata": {},
   "outputs": [
    {
     "data": {
      "text/plain": [
       "np.float64(-1.0384651739409383)"
      ]
     },
     "execution_count": 110,
     "metadata": {},
     "output_type": "execute_result"
    }
   ],
   "source": [
    "t_stas"
   ]
  },
  {
   "cell_type": "code",
   "execution_count": 81,
   "id": "9a1911e5-e74a-46e9-8e0b-3f4d9cc7d8f9",
   "metadata": {},
   "outputs": [
    {
     "data": {
      "text/plain": [
       "np.float64(0.3143281973728479)"
      ]
     },
     "execution_count": 81,
     "metadata": {},
     "output_type": "execute_result"
    }
   ],
   "source": [
    "t_cdf(t_stas, n1 - 1)"
   ]
  },
  {
   "cell_type": "code",
   "execution_count": 88,
   "id": "6bb6f4ed-d9d8-4efe-9826-a2f5dba24c4e",
   "metadata": {},
   "outputs": [
    {
     "data": {
      "text/plain": [
       "np.float64(-1.0384651739409383)"
      ]
     },
     "execution_count": 88,
     "metadata": {},
     "output_type": "execute_result"
    }
   ],
   "source": [
    "t_s"
   ]
  },
  {
   "cell_type": "code",
   "execution_count": 84,
   "id": "75250a09-0434-4fe3-b43f-c4a4210fcb28",
   "metadata": {},
   "outputs": [],
   "source": [
    "cdf = 0.5 * (1 + np.tan(np.pi * (t_stas - np.sqrt(n1 - 1) * np.arctan(np.sqrt((n1 - 1 + 1) / n1 - 1) * np.tan(np.pi * (t_stas + np.sqrt(n1 - 1) / np.sqrt(n1 - 1 + 1)))) / 2) / np.pi))"
   ]
  },
  {
   "cell_type": "code",
   "execution_count": 85,
   "id": "91511c23-d43c-4930-9681-d13bf217c80e",
   "metadata": {},
   "outputs": [
    {
     "data": {
      "text/plain": [
       "np.float64(-0.3488204357365212)"
      ]
     },
     "execution_count": 85,
     "metadata": {},
     "output_type": "execute_result"
    }
   ],
   "source": [
    "cdf"
   ]
  },
  {
   "cell_type": "code",
   "execution_count": 89,
   "id": "e43427d5-039f-40cd-9c17-ba333527149d",
   "metadata": {},
   "outputs": [
    {
     "data": {
      "text/plain": [
       "np.float64(0.3143281973728479)"
      ]
     },
     "execution_count": 89,
     "metadata": {},
     "output_type": "execute_result"
    }
   ],
   "source": [
    "t_cdf(t_stas, n1 - 1)"
   ]
  },
  {
   "cell_type": "code",
   "execution_count": 90,
   "id": "7829b999-8cab-40e0-b8fd-e12da9dfd87d",
   "metadata": {},
   "outputs": [
    {
     "data": {
      "text/plain": [
       "np.float64(0.3143281973728479)"
      ]
     },
     "execution_count": 90,
     "metadata": {},
     "output_type": "execute_result"
    }
   ],
   "source": [
    "t_cdf(t_s, n1 -1)"
   ]
  },
  {
   "cell_type": "code",
   "execution_count": 93,
   "id": "3507ec1a-1dd0-4f2a-8c59-a4b5a150267e",
   "metadata": {},
   "outputs": [
    {
     "ename": "SyntaxError",
     "evalue": "invalid syntax (1177528995.py, line 1)",
     "output_type": "error",
     "traceback": [
      "\u001b[0;36m  Cell \u001b[0;32mIn[93], line 1\u001b[0;36m\u001b[0m\n\u001b[0;31m    cdf = 0.5 * (1 + np.tan(np.pi * (t_stas - np.sqrt(n1 - 1) * np.arctan(np.sqrt((n1 - 1 + 1) / ) * np.tan(np.pi * (x + np.sqrt(df) / np.sqrt(df + 1)))) / 2) / np.pi))\u001b[0m\n\u001b[0m                                                                                                 ^\u001b[0m\n\u001b[0;31mSyntaxError\u001b[0m\u001b[0;31m:\u001b[0m invalid syntax\n"
     ]
    }
   ],
   "source": [
    "cdf = 0.5 * (1 + np.tan(np.pi * (t_stas - np.sqrt(n1 - 1) * np.arctan(np.sqrt((n1 - 1 + 1) / ) * np.tan(np.pi * (x + np.sqrt(df) / np.sqrt(df + 1)))) / 2) / np.pi))"
   ]
  },
  {
   "cell_type": "code",
   "execution_count": null,
   "id": "ccad93da-e173-4a5f-baeb-5db4ca8fd3cf",
   "metadata": {},
   "outputs": [],
   "source": []
  },
  {
   "cell_type": "code",
   "execution_count": 94,
   "id": "2aa7f7d3-3541-4753-b486-cff492830030",
   "metadata": {},
   "outputs": [],
   "source": [
    "from scipy import stats"
   ]
  },
  {
   "cell_type": "code",
   "execution_count": 95,
   "id": "5ec63582-f2f9-41c5-ac77-90b28a573d29",
   "metadata": {},
   "outputs": [
    {
     "ename": "TypeError",
     "evalue": "ttest_ind() missing 1 required positional argument: 'b'",
     "output_type": "error",
     "traceback": [
      "\u001b[0;31m---------------------------------------------------------------------------\u001b[0m",
      "\u001b[0;31mKeyError\u001b[0m                                  Traceback (most recent call last)",
      "File \u001b[0;32m~/Desktop/pythonProject10/venv/lib/python3.11/site-packages/scipy/stats/_axis_nan_policy.py:497\u001b[0m, in \u001b[0;36m_axis_nan_policy_factory.<locals>.axis_nan_policy_decorator.<locals>.axis_nan_policy_wrapper\u001b[0;34m(_no_deco, *args, **kwds)\u001b[0m\n\u001b[1;32m    496\u001b[0m \u001b[38;5;28;01mtry\u001b[39;00m:  \u001b[38;5;66;03m# if something is missing\u001b[39;00m\n\u001b[0;32m--> 497\u001b[0m     samples \u001b[38;5;241m=\u001b[39m \u001b[43m[\u001b[49m\u001b[43mnp\u001b[49m\u001b[38;5;241;43m.\u001b[39;49m\u001b[43matleast_1d\u001b[49m\u001b[43m(\u001b[49m\u001b[43mkwds\u001b[49m\u001b[38;5;241;43m.\u001b[39;49m\u001b[43mpop\u001b[49m\u001b[43m(\u001b[49m\u001b[43mparam\u001b[49m\u001b[43m)\u001b[49m\u001b[43m)\u001b[49m\n\u001b[1;32m    498\u001b[0m \u001b[43m               \u001b[49m\u001b[38;5;28;43;01mfor\u001b[39;49;00m\u001b[43m \u001b[49m\u001b[43mparam\u001b[49m\u001b[43m \u001b[49m\u001b[38;5;129;43;01min\u001b[39;49;00m\u001b[43m \u001b[49m\u001b[43m(\u001b[49m\u001b[43mparams\u001b[49m\u001b[43m[\u001b[49m\u001b[43m:\u001b[49m\u001b[43mn_samp\u001b[49m\u001b[43m]\u001b[49m\u001b[43m \u001b[49m\u001b[38;5;241;43m+\u001b[39;49m\u001b[43m \u001b[49m\u001b[43mkwd_samp\u001b[49m\u001b[43m)\u001b[49m\u001b[43m]\u001b[49m\n\u001b[1;32m    499\u001b[0m \u001b[38;5;28;01mexcept\u001b[39;00m \u001b[38;5;167;01mKeyError\u001b[39;00m:  \u001b[38;5;66;03m# let the function raise the right error\u001b[39;00m\n\u001b[1;32m    500\u001b[0m     \u001b[38;5;66;03m# might need to revisit this if required arg is not a \"sample\"\u001b[39;00m\n",
      "File \u001b[0;32m~/Desktop/pythonProject10/venv/lib/python3.11/site-packages/scipy/stats/_axis_nan_policy.py:497\u001b[0m, in \u001b[0;36m<listcomp>\u001b[0;34m(.0)\u001b[0m\n\u001b[1;32m    496\u001b[0m \u001b[38;5;28;01mtry\u001b[39;00m:  \u001b[38;5;66;03m# if something is missing\u001b[39;00m\n\u001b[0;32m--> 497\u001b[0m     samples \u001b[38;5;241m=\u001b[39m [np\u001b[38;5;241m.\u001b[39matleast_1d(\u001b[43mkwds\u001b[49m\u001b[38;5;241;43m.\u001b[39;49m\u001b[43mpop\u001b[49m\u001b[43m(\u001b[49m\u001b[43mparam\u001b[49m\u001b[43m)\u001b[49m)\n\u001b[1;32m    498\u001b[0m                \u001b[38;5;28;01mfor\u001b[39;00m param \u001b[38;5;129;01min\u001b[39;00m (params[:n_samp] \u001b[38;5;241m+\u001b[39m kwd_samp)]\n\u001b[1;32m    499\u001b[0m \u001b[38;5;28;01mexcept\u001b[39;00m \u001b[38;5;167;01mKeyError\u001b[39;00m:  \u001b[38;5;66;03m# let the function raise the right error\u001b[39;00m\n\u001b[1;32m    500\u001b[0m     \u001b[38;5;66;03m# might need to revisit this if required arg is not a \"sample\"\u001b[39;00m\n",
      "\u001b[0;31mKeyError\u001b[0m: 'b'",
      "\nDuring handling of the above exception, another exception occurred:\n",
      "\u001b[0;31mTypeError\u001b[0m                                 Traceback (most recent call last)",
      "Cell \u001b[0;32mIn[95], line 1\u001b[0m\n\u001b[0;32m----> 1\u001b[0m t_statistic, p_value \u001b[38;5;241m=\u001b[39m \u001b[43mstats\u001b[49m\u001b[38;5;241;43m.\u001b[39;49m\u001b[43mttest_ind\u001b[49m\u001b[43m(\u001b[49m\u001b[43msample1\u001b[49m\u001b[43m)\u001b[49m\n",
      "File \u001b[0;32m~/Desktop/pythonProject10/venv/lib/python3.11/site-packages/scipy/stats/_axis_nan_policy.py:501\u001b[0m, in \u001b[0;36m_axis_nan_policy_factory.<locals>.axis_nan_policy_decorator.<locals>.axis_nan_policy_wrapper\u001b[0;34m(_no_deco, *args, **kwds)\u001b[0m\n\u001b[1;32m    497\u001b[0m     samples \u001b[38;5;241m=\u001b[39m [np\u001b[38;5;241m.\u001b[39matleast_1d(kwds\u001b[38;5;241m.\u001b[39mpop(param))\n\u001b[1;32m    498\u001b[0m                \u001b[38;5;28;01mfor\u001b[39;00m param \u001b[38;5;129;01min\u001b[39;00m (params[:n_samp] \u001b[38;5;241m+\u001b[39m kwd_samp)]\n\u001b[1;32m    499\u001b[0m \u001b[38;5;28;01mexcept\u001b[39;00m \u001b[38;5;167;01mKeyError\u001b[39;00m:  \u001b[38;5;66;03m# let the function raise the right error\u001b[39;00m\n\u001b[1;32m    500\u001b[0m     \u001b[38;5;66;03m# might need to revisit this if required arg is not a \"sample\"\u001b[39;00m\n\u001b[0;32m--> 501\u001b[0m     \u001b[43mhypotest_fun_in\u001b[49m\u001b[43m(\u001b[49m\u001b[38;5;241;43m*\u001b[39;49m\u001b[43margs\u001b[49m\u001b[43m,\u001b[49m\u001b[43m \u001b[49m\u001b[38;5;241;43m*\u001b[39;49m\u001b[38;5;241;43m*\u001b[39;49m\u001b[43mkwds\u001b[49m\u001b[43m)\u001b[49m\n\u001b[1;32m    502\u001b[0m vectorized \u001b[38;5;241m=\u001b[39m \u001b[38;5;28;01mTrue\u001b[39;00m \u001b[38;5;28;01mif\u001b[39;00m \u001b[38;5;124m'\u001b[39m\u001b[38;5;124maxis\u001b[39m\u001b[38;5;124m'\u001b[39m \u001b[38;5;129;01min\u001b[39;00m params \u001b[38;5;28;01melse\u001b[39;00m \u001b[38;5;28;01mFalse\u001b[39;00m\n\u001b[1;32m    503\u001b[0m vectorized \u001b[38;5;241m=\u001b[39m vectorized \u001b[38;5;129;01mand\u001b[39;00m \u001b[38;5;129;01mnot\u001b[39;00m override[\u001b[38;5;124m'\u001b[39m\u001b[38;5;124mvectorization\u001b[39m\u001b[38;5;124m'\u001b[39m]\n",
      "\u001b[0;31mTypeError\u001b[0m: ttest_ind() missing 1 required positional argument: 'b'"
     ]
    }
   ],
   "source": [
    "t_statistic, p_value = stats.ttest_ind(sample1)"
   ]
  },
  {
   "cell_type": "code",
   "execution_count": 106,
   "id": "7e244d9a-7350-4cf6-ab54-78964deea0dd",
   "metadata": {},
   "outputs": [],
   "source": [
    "t_stat, p_value = stats.ttest_1samp(sample1, 0)"
   ]
  },
  {
   "cell_type": "code",
   "execution_count": 107,
   "id": "533e7f77-84fb-4790-bdd7-69a49d452594",
   "metadata": {},
   "outputs": [
    {
     "data": {
      "text/plain": [
       "np.float64(0.25560017625303605)"
      ]
     },
     "execution_count": 107,
     "metadata": {},
     "output_type": "execute_result"
    }
   ],
   "source": [
    "p_value"
   ]
  },
  {
   "cell_type": "code",
   "execution_count": 108,
   "id": "29647959-ce70-48cc-9165-8d87b7bf316d",
   "metadata": {},
   "outputs": [
    {
     "data": {
      "text/plain": [
       "np.float64(-1.1434720057588463)"
      ]
     },
     "execution_count": 108,
     "metadata": {},
     "output_type": "execute_result"
    }
   ],
   "source": [
    "t_stat"
   ]
  },
  {
   "cell_type": "code",
   "execution_count": 104,
   "id": "b157e474-9956-4c27-a21d-88743d2da0bc",
   "metadata": {},
   "outputs": [],
   "source": [
    "import numpy as np\n",
    "from scipy import stats\n",
    " \n",
    "# 假设样本数据\n",
    "sample_data = np.array([1.1, 2.9, 3.5, 4.7, 5.2, 6.0, 7.0, 8.2, 9.5, 10.7])\n",
    " \n",
    "# 假设原假设的均值\n",
    "population_mean = 10.0\n",
    " \n",
    "# 执行单样本T检验\n",
    "t_stat, p_value = stats.ttest_1samp(sample_data, population_mean)"
   ]
  },
  {
   "cell_type": "code",
   "execution_count": 105,
   "id": "451ede88-0d86-4692-8ddd-13f4c1396b0a",
   "metadata": {},
   "outputs": [
    {
     "data": {
      "text/plain": [
       "np.float64(-4.310101343148389)"
      ]
     },
     "execution_count": 105,
     "metadata": {},
     "output_type": "execute_result"
    }
   ],
   "source": [
    "t_stat"
   ]
  },
  {
   "cell_type": "code",
   "execution_count": 111,
   "id": "ecbbb902-a3cc-4ac2-9895-b5f3ee381524",
   "metadata": {},
   "outputs": [],
   "source": [
    "t_stat, p_value = stats.ttest_1samp(sample1, 0)"
   ]
  },
  {
   "cell_type": "code",
   "execution_count": 112,
   "id": "5c10b972-04d3-4b2c-b662-7147be1f4460",
   "metadata": {},
   "outputs": [
    {
     "data": {
      "text/plain": [
       "np.float64(-1.1434720057588463)"
      ]
     },
     "execution_count": 112,
     "metadata": {},
     "output_type": "execute_result"
    }
   ],
   "source": [
    "t_stat"
   ]
  },
  {
   "cell_type": "code",
   "execution_count": 113,
   "id": "1932428f-9c9c-4d60-b049-1fa08ef90e01",
   "metadata": {},
   "outputs": [],
   "source": [
    "ss = 0\n",
    "for i in sample1:\n",
    "    ss = ss + (i - d1bar)**2"
   ]
  },
  {
   "cell_type": "code",
   "execution_count": 114,
   "id": "f451545e-ac30-425b-a958-be1a82aa6d0a",
   "metadata": {},
   "outputs": [
    {
     "data": {
      "text/plain": [
       "np.float64(81.65221946938586)"
      ]
     },
     "execution_count": 114,
     "metadata": {},
     "output_type": "execute_result"
    }
   ],
   "source": [
    "ss"
   ]
  },
  {
   "cell_type": "code",
   "execution_count": 117,
   "id": "d99e2a53-d18b-45fc-942a-e77ed789da3c",
   "metadata": {},
   "outputs": [],
   "source": [
    "t_stas = (d1_bar - 0) / (ss**(0.5) / n1**(0.5))"
   ]
  },
  {
   "cell_type": "code",
   "execution_count": 118,
   "id": "f0112236-4201-48f6-a71e-044b682bd471",
   "metadata": {},
   "outputs": [
    {
     "data": {
      "text/plain": [
       "np.float64(-0.114923260647794)"
      ]
     },
     "execution_count": 118,
     "metadata": {},
     "output_type": "execute_result"
    }
   ],
   "source": [
    "t_stas"
   ]
  },
  {
   "cell_type": "code",
   "execution_count": 128,
   "id": "45c75677-45b7-4b77-bf73-1e97b0cdbe5c",
   "metadata": {},
   "outputs": [],
   "source": [
    "t_stat = (d1bar - 0) / np.sqrt(ss / n1)"
   ]
  },
  {
   "cell_type": "code",
   "execution_count": 129,
   "id": "11be2739-f95e-4db2-b4f7-81e06c383be9",
   "metadata": {},
   "outputs": [
    {
     "data": {
      "text/plain": [
       "np.float64(-0.114923260647794)"
      ]
     },
     "execution_count": 129,
     "metadata": {},
     "output_type": "execute_result"
    }
   ],
   "source": [
    "t_stas"
   ]
  },
  {
   "cell_type": "code",
   "execution_count": 130,
   "id": "4166ce49-d00b-48a7-b834-e4c7255ed8d2",
   "metadata": {},
   "outputs": [
    {
     "data": {
      "text/plain": [
       "np.float64(-0.114923260647794)"
      ]
     },
     "execution_count": 130,
     "metadata": {},
     "output_type": "execute_result"
    }
   ],
   "source": [
    "t_stat"
   ]
  },
  {
   "cell_type": "code",
   "execution_count": 131,
   "id": "ff2f01ac-01c4-4fd5-9f4d-69dff52fed81",
   "metadata": {},
   "outputs": [],
   "source": [
    "t_stat, p_value = stats.ttest_1samp(sample1, 0)"
   ]
  },
  {
   "cell_type": "code",
   "execution_count": 132,
   "id": "14c3fbf0-61ae-4dad-8ff4-ff9e83f5a423",
   "metadata": {},
   "outputs": [
    {
     "data": {
      "text/plain": [
       "np.float64(-1.1434720057588463)"
      ]
     },
     "execution_count": 132,
     "metadata": {},
     "output_type": "execute_result"
    }
   ],
   "source": [
    "t_stat"
   ]
  },
  {
   "cell_type": "code",
   "execution_count": 140,
   "id": "e8005f77-dcaf-4c5f-b72d-03ecde4f01f8",
   "metadata": {},
   "outputs": [],
   "source": [
    "t_stat = (d1bar - 0) * n1**(0.5) / (np.sqrt(ss / (n1 - 1)))"
   ]
  },
  {
   "cell_type": "code",
   "execution_count": 141,
   "id": "1351912f-62ba-4f99-96bc-0e6c75090082",
   "metadata": {},
   "outputs": [
    {
     "data": {
      "text/plain": [
       "np.float64(-1.1434720057588463)"
      ]
     },
     "execution_count": 141,
     "metadata": {},
     "output_type": "execute_result"
    }
   ],
   "source": [
    "t_stat"
   ]
  },
  {
   "cell_type": "code",
   "execution_count": 144,
   "id": "4c5fd486-d6ba-4aec-8625-d4b0c3a53b07",
   "metadata": {},
   "outputs": [],
   "source": [
    "p_value = 2 * t.cdf(t_stat, df = n1 - 1)"
   ]
  },
  {
   "cell_type": "code",
   "execution_count": 145,
   "id": "479c55f5-6b73-4370-80f8-75a209cf3333",
   "metadata": {},
   "outputs": [
    {
     "data": {
      "text/plain": [
       "np.float64(0.25560017625303605)"
      ]
     },
     "execution_count": 145,
     "metadata": {},
     "output_type": "execute_result"
    }
   ],
   "source": [
    "p_value"
   ]
  },
  {
   "cell_type": "code",
   "execution_count": 146,
   "id": "6a1c6c3c-face-4375-b0ac-06a3112e8107",
   "metadata": {},
   "outputs": [],
   "source": [
    "a = [1, 2, 3, 4, 5, 6, 7]"
   ]
  },
  {
   "cell_type": "code",
   "execution_count": 149,
   "id": "e929c3ea-76f4-443d-a805-17aa33df654a",
   "metadata": {},
   "outputs": [
    {
     "data": {
      "text/plain": [
       "0"
      ]
     },
     "execution_count": 149,
     "metadata": {},
     "output_type": "execute_result"
    }
   ],
   "source": [
    "a.index(1)"
   ]
  },
  {
   "cell_type": "code",
   "execution_count": 150,
   "id": "1b883e3c-945b-4d47-a20b-d5b77707f8d8",
   "metadata": {},
   "outputs": [
    {
     "ename": "TypeError",
     "evalue": "can only concatenate list (not \"int\") to list",
     "output_type": "error",
     "traceback": [
      "\u001b[0;31m---------------------------------------------------------------------------\u001b[0m",
      "\u001b[0;31mTypeError\u001b[0m                                 Traceback (most recent call last)",
      "Cell \u001b[0;32mIn[150], line 1\u001b[0m\n\u001b[0;32m----> 1\u001b[0m \u001b[43ma\u001b[49m\u001b[43m \u001b[49m\u001b[38;5;241;43m+\u001b[39;49m\u001b[43m \u001b[49m\u001b[38;5;241;43m1\u001b[39;49m\n",
      "\u001b[0;31mTypeError\u001b[0m: can only concatenate list (not \"int\") to list"
     ]
    }
   ],
   "source": [
    "a + 1"
   ]
  },
  {
   "cell_type": "code",
   "execution_count": 174,
   "id": "b686d478-8797-460b-8be2-39b57b6c21f7",
   "metadata": {},
   "outputs": [],
   "source": [
    "def two_sum(nums, target):\n",
    "    for i in nums:\n",
    "        nums_new = list(map(lambda x: x + i, nums))\n",
    "        print(nums_new)\n",
    "        for j in nums_new:\n",
    "            if j == target:\n",
    "                print(nums.index(i), nums_new.index(j))"
   ]
  },
  {
   "cell_type": "code",
   "execution_count": 175,
   "id": "c364f1c6-1457-4592-9e32-9b1913311973",
   "metadata": {},
   "outputs": [
    {
     "name": "stdout",
     "output_type": "stream",
     "text": [
      "[2, 3, 4, 5, 6, 7, 8]\n",
      "0 4\n",
      "[3, 4, 5, 6, 7, 8, 9]\n",
      "1 3\n",
      "[4, 5, 6, 7, 8, 9, 10]\n",
      "2 2\n",
      "[5, 6, 7, 8, 9, 10, 11]\n",
      "3 1\n",
      "[6, 7, 8, 9, 10, 11, 12]\n",
      "4 0\n",
      "[7, 8, 9, 10, 11, 12, 13]\n",
      "[8, 9, 10, 11, 12, 13, 14]\n"
     ]
    }
   ],
   "source": [
    "two_sum(a, 6)"
   ]
  },
  {
   "cell_type": "code",
   "execution_count": 164,
   "id": "0cca254f-6eb5-4460-b177-6944942b5415",
   "metadata": {},
   "outputs": [],
   "source": [
    "nums_new = list(map(lambda x: x + a[0], a))"
   ]
  },
  {
   "cell_type": "code",
   "execution_count": 165,
   "id": "9ab16b93-cf77-4048-a50b-358029a2ac11",
   "metadata": {},
   "outputs": [
    {
     "data": {
      "text/plain": [
       "[2, 3, 4, 5, 6, 7, 8]"
      ]
     },
     "execution_count": 165,
     "metadata": {},
     "output_type": "execute_result"
    }
   ],
   "source": [
    "nums_new"
   ]
  },
  {
   "cell_type": "code",
   "execution_count": 203,
   "id": "28f4d826-5048-4c20-9122-262f62716cda",
   "metadata": {},
   "outputs": [],
   "source": [
    "def max_average(nums, k):\n",
    "    list = []\n",
    "    sum = 0\n",
    "    for i in nums:\n",
    "        id = nums.index(i)\n",
    "        if (id + k) <= len(nums):\n",
    "            for j in range(id , id + k):\n",
    "                sum = sum + nums[j]\n",
    "            list.append(sum)\n",
    "            sum = 0\n",
    "    print(list)\n",
    "    max_average = max(list) / k\n",
    "    print(max_average)"
   ]
  },
  {
   "cell_type": "code",
   "execution_count": 204,
   "id": "16811eaf-829e-4245-ae68-67abca27459b",
   "metadata": {},
   "outputs": [
    {
     "name": "stdout",
     "output_type": "stream",
     "text": [
      "[3, 5, 7, 9]\n",
      "4.5\n"
     ]
    }
   ],
   "source": [
    "max_average([1, 2, 3, 4, 5], 2)"
   ]
  },
  {
   "cell_type": "code",
   "execution_count": 205,
   "id": "84e53b49-4025-4631-84b4-68b9a7fa014b",
   "metadata": {},
   "outputs": [],
   "source": [
    "def remove_deplicates(nums):\n",
    "    new_nums = []\n",
    "    for i in nums:\n",
    "        if i not in new_nums:\n",
    "            new_nums.append(i)\n",
    "    print(len(new_nums))\n"
   ]
  },
  {
   "cell_type": "code",
   "execution_count": 206,
   "id": "1ec2e858-9340-499e-98fa-82580eb1d817",
   "metadata": {},
   "outputs": [],
   "source": [
    "a = [1, 1, 2, 2, 3, 3, 3, 4, 4, 4, 4, 5, 5, 6, 7, 7, 7, 7]"
   ]
  },
  {
   "cell_type": "code",
   "execution_count": 207,
   "id": "ec25b310-ef37-40ce-a4d3-6b887cd27c15",
   "metadata": {},
   "outputs": [
    {
     "name": "stdout",
     "output_type": "stream",
     "text": [
      "7\n"
     ]
    }
   ],
   "source": [
    "remove_deplicates(a)"
   ]
  },
  {
   "cell_type": "code",
   "execution_count": 239,
   "id": "04d2e70c-e99b-428e-b66e-14928c94dfd4",
   "metadata": {},
   "outputs": [],
   "source": [
    "def two_sum(nums, target):\n",
    "    k = 0\n",
    "    for i in nums:\n",
    "        nums_new = list(map(lambda x: x + i, nums))\n",
    "        for j in nums_new:\n",
    "            if j == target and k < 1:\n",
    "                print(list[nums.index(i), nums_new.index(j)])\n",
    "                k = k + 1"
   ]
  },
  {
   "cell_type": "code",
   "execution_count": 240,
   "id": "9d7a5f5e-4363-455d-9e4b-c5aa5de61c5b",
   "metadata": {},
   "outputs": [
    {
     "name": "stdout",
     "output_type": "stream",
     "text": [
      "list[3, 4]\n"
     ]
    }
   ],
   "source": [
    "a = [1, 2, 3, 4, 5]\n",
    "two_sum(a, 9)"
   ]
  },
  {
   "cell_type": "code",
   "execution_count": 241,
   "id": "8ea136bc-8559-4608-916b-030f7ee0d4a3",
   "metadata": {},
   "outputs": [
    {
     "name": "stdout",
     "output_type": "stream",
     "text": [
      "list[3, 4]\n"
     ]
    }
   ],
   "source": [
    "two_sum(a, 9)"
   ]
  },
  {
   "cell_type": "code",
   "execution_count": 244,
   "id": "10f8182b-b50b-4372-95f9-244328812d5b",
   "metadata": {},
   "outputs": [],
   "source": [
    "def max_average(nums, k):\n",
    "    list = []\n",
    "    sum = 0\n",
    "    for i in nums:\n",
    "        id = nums.index(i)\n",
    "        if (id + k) <= len(nums):\n",
    "            for j in range(id , id + k):\n",
    "                sum = sum + nums[j]\n",
    "            list.append(sum)\n",
    "            sum = 0\n",
    "    max_average = max(list) / k\n",
    "    return max_average"
   ]
  },
  {
   "cell_type": "code",
   "execution_count": 245,
   "id": "d0575f45-4c53-4dbf-b87c-f1f0e3faa813",
   "metadata": {},
   "outputs": [
    {
     "data": {
      "text/plain": [
       "4.0"
      ]
     },
     "execution_count": 245,
     "metadata": {},
     "output_type": "execute_result"
    }
   ],
   "source": [
    "max_average(a, 3)"
   ]
  },
  {
   "cell_type": "code",
   "execution_count": 246,
   "id": "aa7e2828-dc2f-43f5-8655-34122675de5a",
   "metadata": {},
   "outputs": [],
   "source": [
    "def remove_duplicates(nums):\n",
    "    new_nums = []\n",
    "    for i in nums:\n",
    "        if i not in new_nums:\n",
    "            new_nums.append(i)\n",
    "    print(len(new_nums))"
   ]
  },
  {
   "cell_type": "code",
   "execution_count": 247,
   "id": "55e91fd7-7f76-4ebd-81de-62c9d7e6c558",
   "metadata": {},
   "outputs": [
    {
     "name": "stdout",
     "output_type": "stream",
     "text": [
      "7\n"
     ]
    }
   ],
   "source": [
    "a = [1, 1, 2, 2, 3, 3, 3, 4, 4, 4, 4, 5, 5, 6, 7, 7, 7, 7]\n",
    "remove_duplicates(a)"
   ]
  },
  {
   "cell_type": "code",
   "execution_count": 320,
   "id": "12ef69b2-b642-4421-82cf-bf3502b03891",
   "metadata": {},
   "outputs": [],
   "source": [
    "def two_sum(nums, target):\n",
    "    k = 0\n",
    "    for i in nums:\n",
    "        nums_new = list(map(lambda x: x + i, nums))\n",
    "        for j in nums_new:\n",
    "            if j == target and k < 1:\n",
    "                if nums.index(i) == nums_new.index(j):\n",
    "                    nums_new[nums_new.index(j)] = j + 1\n",
    "                else:\n",
    "                    tw1 = nums.index(i)\n",
    "                    tw2 = nums_new.index(j)\n",
    "    if tw1 > tw2:\n",
    "        tw = tw1\n",
    "        tw1 = tw2\n",
    "        tw2 = tw\n",
    "    return [tw1, tw2]"
   ]
  },
  {
   "cell_type": "code",
   "execution_count": 321,
   "id": "4bc28ed7-1735-47aa-b1a9-7ef20833a864",
   "metadata": {},
   "outputs": [
    {
     "data": {
      "text/plain": [
       "[3, 4]"
      ]
     },
     "execution_count": 321,
     "metadata": {},
     "output_type": "execute_result"
    }
   ],
   "source": [
    "a = [1, 2, 3, 4, 5]\n",
    "two_sum(a, 9)"
   ]
  },
  {
   "cell_type": "code",
   "execution_count": 322,
   "id": "ab25f40e-4a83-4260-ad47-013738402728",
   "metadata": {},
   "outputs": [
    {
     "data": {
      "text/plain": [
       "[0, 4]"
      ]
     },
     "execution_count": 322,
     "metadata": {},
     "output_type": "execute_result"
    }
   ],
   "source": [
    "two_sum(a, 6)"
   ]
  },
  {
   "cell_type": "code",
   "execution_count": 323,
   "id": "95783791-2d35-4d70-92a9-e2b5416600ec",
   "metadata": {},
   "outputs": [
    {
     "ename": "UnboundLocalError",
     "evalue": "cannot access local variable 'tw1' where it is not associated with a value",
     "output_type": "error",
     "traceback": [
      "\u001b[0;31m---------------------------------------------------------------------------\u001b[0m",
      "\u001b[0;31mUnboundLocalError\u001b[0m                         Traceback (most recent call last)",
      "Cell \u001b[0;32mIn[323], line 1\u001b[0m\n\u001b[0;32m----> 1\u001b[0m \u001b[43mtwo_sum\u001b[49m\u001b[43m(\u001b[49m\u001b[43ma\u001b[49m\u001b[43m,\u001b[49m\u001b[43m \u001b[49m\u001b[38;5;241;43m2\u001b[39;49m\u001b[43m)\u001b[49m\n",
      "Cell \u001b[0;32mIn[320], line 12\u001b[0m, in \u001b[0;36mtwo_sum\u001b[0;34m(nums, target)\u001b[0m\n\u001b[1;32m     10\u001b[0m                 tw1 \u001b[38;5;241m=\u001b[39m nums\u001b[38;5;241m.\u001b[39mindex(i)\n\u001b[1;32m     11\u001b[0m                 tw2 \u001b[38;5;241m=\u001b[39m nums_new\u001b[38;5;241m.\u001b[39mindex(j)\n\u001b[0;32m---> 12\u001b[0m \u001b[38;5;28;01mif\u001b[39;00m \u001b[43mtw1\u001b[49m \u001b[38;5;241m>\u001b[39m tw2:\n\u001b[1;32m     13\u001b[0m     tw \u001b[38;5;241m=\u001b[39m tw1\n\u001b[1;32m     14\u001b[0m     tw1 \u001b[38;5;241m=\u001b[39m tw2\n",
      "\u001b[0;31mUnboundLocalError\u001b[0m: cannot access local variable 'tw1' where it is not associated with a value"
     ]
    }
   ],
   "source": [
    "two_sum(a, 2)"
   ]
  },
  {
   "cell_type": "code",
   "execution_count": 324,
   "id": "db385f47-92e6-46e8-8855-afe6e6b32367",
   "metadata": {},
   "outputs": [],
   "source": [
    "a  = [0, 2, 2, 3, 5]"
   ]
  },
  {
   "cell_type": "code",
   "execution_count": 325,
   "id": "36c2c773-899d-4bee-9d09-b42a6fd71f32",
   "metadata": {},
   "outputs": [
    {
     "data": {
      "text/plain": [
       "[1, 2]"
      ]
     },
     "execution_count": 325,
     "metadata": {},
     "output_type": "execute_result"
    }
   ],
   "source": [
    "two_sum(a, 4)"
   ]
  },
  {
   "cell_type": "code",
   "execution_count": 326,
   "id": "79697818-9552-4564-aa6f-56dea0fa0a96",
   "metadata": {},
   "outputs": [
    {
     "name": "stdout",
     "output_type": "stream",
     "text": [
      "['Homework2--test.ipynb', 'Untitled1.ipynb', '.DS_Store', 'Untitled.ipynb', 'Homework1--test.ipynb', 'Untitled2.ipynb', 'main.py', 'Homework3.ipynb']\n"
     ]
    }
   ],
   "source": [
    "import os\n",
    " \n",
    "# 假设你想要遍历当前目录下的所有文件\n",
    "directory = '.'\n",
    " \n",
    "# 使用列表推导式获取所有文件名\n",
    "file_names = [file for file in os.listdir(directory) if os.path.isfile(os.path.join(directory, file))]\n",
    " \n",
    "print(file_names)\n"
   ]
  },
  {
   "cell_type": "code",
   "execution_count": 328,
   "id": "387377d7-16c6-417e-9c3f-889b7edf5d01",
   "metadata": {},
   "outputs": [],
   "source": [
    "import pandas as pd\n",
    "df = pd.DataFrame({'City': ['北京', '广州', '深圳', '上海', '大连', '成都', '深圳', '厦门', '北京', '北京', '上海', '珠海'],\n",
    "                    'Revenue': [10000, 10000, 5000, 5000, 40000, 50000, 8000, 5000, 5000, 5000, 10000, 12000],\n",
    "                    'Age': [50, 43, 34, 40, 25, 25, 45, 32, 25, 25, 34, np.nan]})\n",
    "res1 = df['City'].value_counts()  # 按默认参数统计'City'列的频数\n",
    "res2 = df['Revenue'].value_counts(ascending=True)  # 按升序统计'Revenue'列的频数\n",
    "res3 = df['Age'].value_counts(normalize=True)  # 按标准化占比统计'Age'列的频数\n"
   ]
  },
  {
   "cell_type": "raw",
   "id": "8bc4e9bc-832d-477e-a694-0cb0f0d5f220",
   "metadata": {},
   "source": [
    "res1"
   ]
  },
  {
   "cell_type": "code",
   "execution_count": null,
   "id": "648b6a5a-1d81-4dec-a3c8-904b1ba78ed7",
   "metadata": {},
   "outputs": [],
   "source": []
  }
 ],
 "metadata": {
  "kernelspec": {
   "display_name": "Python 3 (ipykernel)",
   "language": "python",
   "name": "python3"
  },
  "language_info": {
   "codemirror_mode": {
    "name": "ipython",
    "version": 3
   },
   "file_extension": ".py",
   "mimetype": "text/x-python",
   "name": "python",
   "nbconvert_exporter": "python",
   "pygments_lexer": "ipython3",
   "version": "3.11.1"
  }
 },
 "nbformat": 4,
 "nbformat_minor": 5
}
