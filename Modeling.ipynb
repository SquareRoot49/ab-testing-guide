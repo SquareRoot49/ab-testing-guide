{
 "cells": [
  {
   "cell_type": "code",
   "execution_count": 1,
   "id": "7fdfb695-89c3-4cbd-8cdf-36ea7bdcc54f",
   "metadata": {},
   "outputs": [],
   "source": [
    "import numpy as np\n",
    "import pandas as pd"
   ]
  },
  {
   "cell_type": "code",
   "execution_count": 22,
   "id": "0118482e-dadb-4294-a76e-1b1236c7fab0",
   "metadata": {},
   "outputs": [],
   "source": [
    "demo = np.array([[1], [1], [2]])"
   ]
  },
  {
   "cell_type": "code",
   "execution_count": 20,
   "id": "8d71defb-3538-41b1-aa1b-aeb83b033fe7",
   "metadata": {},
   "outputs": [
    {
     "data": {
      "text/plain": [
       "array([1, 2, 3])"
      ]
     },
     "execution_count": 20,
     "metadata": {},
     "output_type": "execute_result"
    }
   ],
   "source": [
    "demo[: -4]"
   ]
  },
  {
   "cell_type": "code",
   "execution_count": 4,
   "id": "a58d22e0-5dbe-4654-9f82-d4c592db46ed",
   "metadata": {},
   "outputs": [
    {
     "data": {
      "text/plain": [
       "7"
      ]
     },
     "execution_count": 4,
     "metadata": {},
     "output_type": "execute_result"
    }
   ],
   "source": [
    "len(demo)"
   ]
  },
  {
   "cell_type": "code",
   "execution_count": 6,
   "id": "9b23cec1-291f-441a-bddc-697929c3fa19",
   "metadata": {},
   "outputs": [],
   "source": [
    "list = [1, 2, 3, 4]"
   ]
  },
  {
   "cell_type": "code",
   "execution_count": 8,
   "id": "cda53400-9b90-4ecf-b871-c601b0b81bd2",
   "metadata": {},
   "outputs": [],
   "source": [
    "list.append(3)"
   ]
  },
  {
   "cell_type": "code",
   "execution_count": 9,
   "id": "a8dad33a-1b76-495f-87b9-ecae2c126f05",
   "metadata": {},
   "outputs": [
    {
     "data": {
      "text/plain": [
       "[1, 2, 3, 4, 3]"
      ]
     },
     "execution_count": 9,
     "metadata": {},
     "output_type": "execute_result"
    }
   ],
   "source": [
    "list"
   ]
  },
  {
   "cell_type": "code",
   "execution_count": 13,
   "id": "7b57a41e-6115-447f-abdc-1bbb82f629c9",
   "metadata": {},
   "outputs": [
    {
     "data": {
      "text/plain": [
       "np.float64(2.6)"
      ]
     },
     "execution_count": 13,
     "metadata": {},
     "output_type": "execute_result"
    }
   ],
   "source": [
    "np.mean(list)"
   ]
  },
  {
   "cell_type": "code",
   "execution_count": 14,
   "id": "569777e8-d9a1-4b26-83ac-12f2aae96b47",
   "metadata": {},
   "outputs": [
    {
     "data": {
      "text/plain": [
       "1"
      ]
     },
     "execution_count": 14,
     "metadata": {},
     "output_type": "execute_result"
    }
   ],
   "source": [
    "list[0]"
   ]
  },
  {
   "cell_type": "code",
   "execution_count": 15,
   "id": "a340d1f2-b15d-4399-8647-0f90a0ee76b5",
   "metadata": {},
   "outputs": [],
   "source": [
    "# modeling: the level of formalizing the problem, linking it to the data"
   ]
  },
  {
   "cell_type": "code",
   "execution_count": 16,
   "id": "06a7bed0-cf99-4978-85d6-184970a5e79f",
   "metadata": {},
   "outputs": [],
   "source": [
    "# why do we model?\n",
    "# Explore data\n",
    "# Predict future events\n",
    "# inference"
   ]
  },
  {
   "cell_type": "code",
   "execution_count": null,
   "id": "ef275c1b-27f5-4ef8-9c2f-272562d776fb",
   "metadata": {},
   "outputs": [],
   "source": [
    "from transformers import "
   ]
  },
  {
   "cell_type": "code",
   "execution_count": 24,
   "id": "72e506ae-5517-494d-b0d1-850c6480d94e",
   "metadata": {},
   "outputs": [
    {
     "data": {
      "text/plain": [
       "(3, 1)"
      ]
     },
     "execution_count": 24,
     "metadata": {},
     "output_type": "execute_result"
    }
   ],
   "source": [
    "demo.shape"
   ]
  },
  {
   "cell_type": "code",
   "execution_count": null,
   "id": "bc70b93d-cc2f-49b1-a6e0-1ba27cd647bd",
   "metadata": {},
   "outputs": [],
   "source": []
  }
 ],
 "metadata": {
  "kernelspec": {
   "display_name": "Python 3 (ipykernel)",
   "language": "python",
   "name": "python3"
  },
  "language_info": {
   "codemirror_mode": {
    "name": "ipython",
    "version": 3
   },
   "file_extension": ".py",
   "mimetype": "text/x-python",
   "name": "python",
   "nbconvert_exporter": "python",
   "pygments_lexer": "ipython3",
   "version": "3.11.1"
  }
 },
 "nbformat": 4,
 "nbformat_minor": 5
}
