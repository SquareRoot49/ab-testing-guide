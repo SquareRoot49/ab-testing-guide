{
 "cells": [
  {
   "cell_type": "code",
   "execution_count": 1,
   "id": "81cdde1c-54c8-42ba-bb06-c3411064bc1a",
   "metadata": {},
   "outputs": [],
   "source": [
    "# Singaporean Twitter\n",
    "# Twitter is a social media company that allows its users to broadcast short threads to all its followers. People have used it to assess public sentiment in the past.\n",
    "\n",
    "# In \"singapore_twitter_copy.json\" we have some data collected from the Twitter API. This is almost 15Mb and Ed can only support 20Mb so please download this notebook and data to run on your local environment.\n",
    "\n",
    "# Task 1 - Explore the data\n",
    "# First examine 2 records\n",
    "# What fields are there\n",
    "# What are the types for the different types of data\n",
    "# Are there repeated authors?\n",
    "# What percentage of these are \"re-tweets\"?\n",
    "# What time span are these tweets covering?"
   ]
  },
  {
   "cell_type": "code",
   "execution_count": 2,
   "id": "cfb5884b-e97c-46f3-a642-6da5a8482dbf",
   "metadata": {},
   "outputs": [],
   "source": [
    "import json"
   ]
  },
  {
   "cell_type": "code",
   "execution_count": 6,
   "id": "2a3efd6c-a9f8-4d5e-8279-37cd62ebf28b",
   "metadata": {},
   "outputs": [],
   "source": [
    "with open('singapore_twitter_copy.json', 'r') as f:\n",
    "    dat = json.load(f)"
   ]
  },
  {
   "cell_type": "code",
   "execution_count": 14,
   "id": "55094fc2-2ef0-4db8-8ae0-2408c77b1137",
   "metadata": {},
   "outputs": [
    {
     "data": {
      "text/plain": [
       "list"
      ]
     },
     "execution_count": 14,
     "metadata": {},
     "output_type": "execute_result"
    }
   ],
   "source": [
    "# types of dat\n",
    "type(dat)"
   ]
  },
  {
   "cell_type": "code",
   "execution_count": 8,
   "id": "d6869d89-5dfb-42d2-8725-4f31d412763b",
   "metadata": {},
   "outputs": [
    {
     "data": {
      "text/plain": [
       "13740"
      ]
     },
     "execution_count": 8,
     "metadata": {},
     "output_type": "execute_result"
    }
   ],
   "source": [
    "len(dat)"
   ]
  },
  {
   "cell_type": "code",
   "execution_count": 10,
   "id": "8f32f02d-6d0a-4df3-ad4c-13bbbaa8b91e",
   "metadata": {},
   "outputs": [
    {
     "data": {
      "text/plain": [
       "dict"
      ]
     },
     "execution_count": 10,
     "metadata": {},
     "output_type": "execute_result"
    }
   ],
   "source": [
    "type(dat[0])"
   ]
  },
  {
   "cell_type": "code",
   "execution_count": 11,
   "id": "ac52cab0-e226-4c00-8e0b-3c783e4dc91a",
   "metadata": {},
   "outputs": [
    {
     "data": {
      "text/plain": [
       "10"
      ]
     },
     "execution_count": 11,
     "metadata": {},
     "output_type": "execute_result"
    }
   ],
   "source": [
    "len(dat[0])"
   ]
  },
  {
   "cell_type": "code",
   "execution_count": 12,
   "id": "6a9a2bed-4514-4690-bdf2-86a87f28c079",
   "metadata": {},
   "outputs": [
    {
     "data": {
      "text/plain": [
       "dict_keys(['referenced_tweets', 'id', 'in_reply_to_user_id', 'reply_settings', 'entities', 'text', 'source', 'created_at', 'public_metrics', 'author_id'])"
      ]
     },
     "execution_count": 12,
     "metadata": {},
     "output_type": "execute_result"
    }
   ],
   "source": [
    "dat[0].keys()"
   ]
  },
  {
   "cell_type": "code",
   "execution_count": 13,
   "id": "c101472f-3f4a-4bf8-8cfc-035ecb8fe421",
   "metadata": {},
   "outputs": [
    {
     "data": {
      "text/plain": [
       "{'referenced_tweets': [{'type': 'replied_to', 'id': '1491816184240480284'}],\n",
       " 'id': '1491816347117916162',\n",
       " 'in_reply_to_user_id': '204970988',\n",
       " 'reply_settings': 'everyone',\n",
       " 'entities': {'mentions': [{'start': 0,\n",
       "    'end': 12,\n",
       "    'username': 'QuantoQuant',\n",
       "    'id': '4332053537'}],\n",
       "  'annotations': [{'start': 241,\n",
       "    'end': 249,\n",
       "    'probability': 0.8172,\n",
       "    'type': 'Place',\n",
       "    'normalized_text': 'singapore'}]},\n",
       " 'text': \"@QuantoQuant I don't think we should have death penalty for dealers, but at the very least I think they should be deported if they are here illegally. Alternatively, I think they should go to prison for involuntary manslaughter. \\n\\nI believe singapore has only had a few dozen put to death.\",\n",
       " 'source': 'Twitter Web App',\n",
       " 'created_at': '2022-02-10T16:48:28.000Z',\n",
       " 'public_metrics': {'retweet_count': 0,\n",
       "  'reply_count': 1,\n",
       "  'like_count': 2,\n",
       "  'quote_count': 0},\n",
       " 'author_id': '204970988'}"
      ]
     },
     "execution_count": 13,
     "metadata": {},
     "output_type": "execute_result"
    }
   ],
   "source": [
    "dat[0]"
   ]
  },
  {
   "cell_type": "code",
   "execution_count": 15,
   "id": "2fba253d-51f6-4e46-8d82-6f1ac42520b2",
   "metadata": {},
   "outputs": [
    {
     "data": {
      "text/plain": [
       "{'referenced_tweets': [{'type': 'replied_to', 'id': '1491780697106763784'}],\n",
       " 'id': '1491813901842984962',\n",
       " 'in_reply_to_user_id': '1382974668',\n",
       " 'reply_settings': 'everyone',\n",
       " 'entities': {'mentions': [{'start': 0,\n",
       "    'end': 11,\n",
       "    'username': 'IonaItalia',\n",
       "    'id': '1382974668'}],\n",
       "  'annotations': [{'start': 99,\n",
       "    'end': 107,\n",
       "    'probability': 0.9643,\n",
       "    'type': 'Place',\n",
       "    'normalized_text': 'Singapore'}]},\n",
       " 'text': '@IonaItalia It’s also a question of enforcing laws at a level of harshness that drives compliance. Singapore does not have a drug problem. Instead, it has very strict drug laws...that it enforces...with a cane or death penalty. \\n\\nBut if one won’t be that harsh, then consider legalization.',\n",
       " 'source': 'Twitter for iPad',\n",
       " 'created_at': '2022-02-10T16:38:45.000Z',\n",
       " 'public_metrics': {'retweet_count': 0,\n",
       "  'reply_count': 1,\n",
       "  'like_count': 1,\n",
       "  'quote_count': 0},\n",
       " 'author_id': '1459920226385027086'}"
      ]
     },
     "execution_count": 15,
     "metadata": {},
     "output_type": "execute_result"
    }
   ],
   "source": [
    "dat[1]"
   ]
  },
  {
   "cell_type": "code",
   "execution_count": 20,
   "id": "6961ec6b-4d24-4683-8c96-892c53b53c1d",
   "metadata": {},
   "outputs": [
    {
     "data": {
      "text/plain": [
       "False"
      ]
     },
     "execution_count": 20,
     "metadata": {},
     "output_type": "execute_result"
    }
   ],
   "source": [
    "# there we notice new method called .get(), it's the same as get the columns directly.\n",
    "# and the other method is .startswith(), this method help us to judge if the fisrt several words are the words we want.\n",
    "dat[0].get('text').startswith('RT')"
   ]
  },
  {
   "cell_type": "code",
   "execution_count": 21,
   "id": "bfe5ca3d-275b-4294-89b8-5e7bfeb6bbc4",
   "metadata": {},
   "outputs": [
    {
     "data": {
      "text/plain": [
       "False"
      ]
     },
     "execution_count": 21,
     "metadata": {},
     "output_type": "execute_result"
    }
   ],
   "source": [
    "dat[0]['text'].startswith('RT')"
   ]
  },
  {
   "cell_type": "code",
   "execution_count": 22,
   "id": "a171e84d-f053-490e-adbc-6952af290476",
   "metadata": {},
   "outputs": [],
   "source": [
    "rt_tweet = [tweet for tweet in dat if tweet['text'].startswith('RT')]"
   ]
  },
  {
   "cell_type": "code",
   "execution_count": 23,
   "id": "429856b5-f576-4629-b48c-947d9cbf0820",
   "metadata": {},
   "outputs": [],
   "source": [
    "rt_rate = len(rt_tweet) / len(dat)"
   ]
  },
  {
   "cell_type": "code",
   "execution_count": 24,
   "id": "64165d60-2b04-454a-8927-f9fa87a230f6",
   "metadata": {},
   "outputs": [
    {
     "data": {
      "text/plain": [
       "0.6558224163027656"
      ]
     },
     "execution_count": 24,
     "metadata": {},
     "output_type": "execute_result"
    }
   ],
   "source": [
    "rt_rate"
   ]
  },
  {
   "cell_type": "code",
   "execution_count": 35,
   "id": "d99f2b1e-a03d-4b43-8de9-f1506bf90404",
   "metadata": {},
   "outputs": [],
   "source": [
    "# get the time span\n",
    "import datetime as dt"
   ]
  },
  {
   "cell_type": "code",
   "execution_count": 28,
   "id": "b1b562fa-9e77-402f-9a23-bb074582e5b3",
   "metadata": {},
   "outputs": [
    {
     "name": "stdout",
     "output_type": "stream",
     "text": [
      "2022-02-10T16:48:28.000Z\n"
     ]
    }
   ],
   "source": [
    "print(dat[0]['created_at'])"
   ]
  },
  {
   "cell_type": "code",
   "execution_count": 30,
   "id": "5490fb26-8aed-48f0-af47-76444b93bd3c",
   "metadata": {},
   "outputs": [
    {
     "data": {
      "text/plain": [
       "datetime.datetime(2022, 2, 10, 16, 48, 28)"
      ]
     },
     "execution_count": 30,
     "metadata": {},
     "output_type": "execute_result"
    }
   ],
   "source": [
    "dt.datetime.strptime(dat[0]['created_at'], '%Y-%m-%dT%H:%M:%S.000Z')"
   ]
  },
  {
   "cell_type": "code",
   "execution_count": 32,
   "id": "2e24037c-cc0f-4b0f-9b53-908e9965294b",
   "metadata": {},
   "outputs": [],
   "source": [
    "dates = [dt.datetime.strptime(tweet['created_at'], '%Y-%m-%dT%H:%M:%S.000Z') for tweet in dat]"
   ]
  },
  {
   "cell_type": "code",
   "execution_count": 33,
   "id": "fb9eca9f-5f37-49e0-88da-86f55ec0af59",
   "metadata": {},
   "outputs": [
    {
     "data": {
      "text/plain": [
       "datetime.datetime(2022, 2, 10, 1, 28, 26)"
      ]
     },
     "execution_count": 33,
     "metadata": {},
     "output_type": "execute_result"
    }
   ],
   "source": [
    "min(dates)"
   ]
  },
  {
   "cell_type": "code",
   "execution_count": 34,
   "id": "7acc5a20-542c-4ef3-ad3e-6b91ac597314",
   "metadata": {},
   "outputs": [
    {
     "data": {
      "text/plain": [
       "datetime.datetime(2022, 2, 10, 17, 14, 16)"
      ]
     },
     "execution_count": 34,
     "metadata": {},
     "output_type": "execute_result"
    }
   ],
   "source": [
    "max(dates)"
   ]
  },
  {
   "cell_type": "code",
   "execution_count": null,
   "id": "0b614e6a-a03f-4fa3-ab6b-c1a9ae8ccd04",
   "metadata": {},
   "outputs": [],
   "source": []
  },
  {
   "cell_type": "code",
   "execution_count": 36,
   "id": "96182453-d1da-450e-9093-b85370b616b1",
   "metadata": {},
   "outputs": [],
   "source": [
    "# Entities in Twitter\n",
    "# Please wrangle the data so we can look at the number of tweets/retweets for each entity over the different hours in the day."
   ]
  },
  {
   "cell_type": "code",
   "execution_count": 37,
   "id": "9afcbb19-c5b7-4d04-b9b3-2f5b658c005a",
   "metadata": {},
   "outputs": [
    {
     "data": {
      "text/plain": [
       "dict_keys(['referenced_tweets', 'id', 'in_reply_to_user_id', 'reply_settings', 'entities', 'text', 'source', 'created_at', 'public_metrics', 'author_id'])"
      ]
     },
     "execution_count": 37,
     "metadata": {},
     "output_type": "execute_result"
    }
   ],
   "source": [
    "dat[0].keys()"
   ]
  },
  {
   "cell_type": "code",
   "execution_count": 39,
   "id": "4c2a7f4c-d787-4e2d-bb2d-43d35433636e",
   "metadata": {},
   "outputs": [
    {
     "data": {
      "text/plain": [
       "dict_keys(['mentions', 'annotations'])"
      ]
     },
     "execution_count": 39,
     "metadata": {},
     "output_type": "execute_result"
    }
   ],
   "source": [
    "dat[0]['entities'].keys()"
   ]
  },
  {
   "cell_type": "code",
   "execution_count": 50,
   "id": "1eca0dc3-7cde-4000-aea5-84ccc8128fe9",
   "metadata": {},
   "outputs": [
    {
     "data": {
      "text/plain": [
       "[{'start': 0, 'end': 12, 'username': 'QuantoQuant', 'id': '4332053537'}]"
      ]
     },
     "execution_count": 50,
     "metadata": {},
     "output_type": "execute_result"
    }
   ],
   "source": [
    "dat[0]['entities']['mentions']"
   ]
  },
  {
   "cell_type": "code",
   "execution_count": 43,
   "id": "7455f6db-c011-42e6-8356-240071d80cb2",
   "metadata": {},
   "outputs": [
    {
     "data": {
      "text/plain": [
       "{'annotations', 'cashtags', 'hashtags', 'mentions', 'urls'}"
      ]
     },
     "execution_count": 43,
     "metadata": {},
     "output_type": "execute_result"
    }
   ],
   "source": [
    "{k for tweet in dat if tweet.get('entities') for k in tweet.get('entities')}"
   ]
  },
  {
   "cell_type": "code",
   "execution_count": 42,
   "id": "a0bf92c4-ae10-469b-9610-ea95323a519b",
   "metadata": {},
   "outputs": [
    {
     "data": {
      "text/plain": [
       "{'annotations', 'cashtags', 'hashtags', 'mentions', 'urls'}"
      ]
     },
     "execution_count": 42,
     "metadata": {},
     "output_type": "execute_result"
    }
   ],
   "source": [
    "{k for tweet in dat if tweet.get('entities') for k in tweet.get(\"entities\")}"
   ]
  },
  {
   "cell_type": "code",
   "execution_count": 47,
   "id": "3d9e48d7-48a4-49fe-beaf-c0a8a0623eb4",
   "metadata": {},
   "outputs": [
    {
     "data": {
      "text/plain": [
       "{'mentions': [{'start': 0,\n",
       "   'end': 12,\n",
       "   'username': 'QuantoQuant',\n",
       "   'id': '4332053537'}],\n",
       " 'annotations': [{'start': 241,\n",
       "   'end': 249,\n",
       "   'probability': 0.8172,\n",
       "   'type': 'Place',\n",
       "   'normalized_text': 'singapore'}]}"
      ]
     },
     "execution_count": 47,
     "metadata": {},
     "output_type": "execute_result"
    }
   ],
   "source": [
    "dat[0].get('entities')"
   ]
  },
  {
   "cell_type": "code",
   "execution_count": 49,
   "id": "372ca2b4-a1e4-4822-afc1-12f10149e6d4",
   "metadata": {},
   "outputs": [
    {
     "data": {
      "text/plain": [
       "False"
      ]
     },
     "execution_count": 49,
     "metadata": {},
     "output_type": "execute_result"
    }
   ],
   "source": [
    "not dat[0].get('entities')"
   ]
  },
  {
   "cell_type": "code",
   "execution_count": 60,
   "id": "c1ad28b8-38b6-479c-86ca-b8f71e6be7de",
   "metadata": {},
   "outputs": [],
   "source": [
    "# the .get() method can help to get the value of the key in a dictionary.\n",
    "ents = set()\n",
    "ent_map = {\"annotations\": \"normalized_text\",\n",
    "           \"cashtags\": \"tag\",\n",
    "           \"hashtags\": \"tag\",\n",
    "           \"mentions\": \"username\",\n",
    "           \"urls\": \"url\"}\n",
    "for tweet in dat:\n",
    "    if not tweet.get('entities'):\n",
    "        continue\n",
    "    for ent in ent_map:\n",
    "        if ent not in tweet.get('entities'):\n",
    "            continue\n",
    "        ents.update({i.get(ent_map.get(ent)) for i in tweet.get('entities').get(ent)})"
   ]
  },
  {
   "cell_type": "code",
   "execution_count": null,
   "id": "1ad3f92b-7226-448d-b329-001d0e843735",
   "metadata": {},
   "outputs": [],
   "source": []
  },
  {
   "cell_type": "code",
   "execution_count": 62,
   "id": "621b2431-e7e9-4317-948f-05f0490186c1",
   "metadata": {},
   "outputs": [],
   "source": [
    "hours = {h: {} for h in range(24)}"
   ]
  },
  {
   "cell_type": "code",
   "execution_count": 63,
   "id": "555850bf-34db-4712-be95-288f099bca3f",
   "metadata": {},
   "outputs": [
    {
     "data": {
      "text/plain": [
       "{0: {},\n",
       " 1: {},\n",
       " 2: {},\n",
       " 3: {},\n",
       " 4: {},\n",
       " 5: {},\n",
       " 6: {},\n",
       " 7: {},\n",
       " 8: {},\n",
       " 9: {},\n",
       " 10: {},\n",
       " 11: {},\n",
       " 12: {},\n",
       " 13: {},\n",
       " 14: {},\n",
       " 15: {},\n",
       " 16: {},\n",
       " 17: {},\n",
       " 18: {},\n",
       " 19: {},\n",
       " 20: {},\n",
       " 21: {},\n",
       " 22: {},\n",
       " 23: {}}"
      ]
     },
     "execution_count": 63,
     "metadata": {},
     "output_type": "execute_result"
    }
   ],
   "source": [
    "hours"
   ]
  },
  {
   "cell_type": "code",
   "execution_count": 64,
   "id": "bbd97b0b-3eaa-4bc2-816f-2cf359b8a6be",
   "metadata": {},
   "outputs": [
    {
     "data": {
      "text/plain": [
       "'2022-02-10T16:48:28.000Z'"
      ]
     },
     "execution_count": 64,
     "metadata": {},
     "output_type": "execute_result"
    }
   ],
   "source": [
    "dat[0]['created_at']"
   ]
  },
  {
   "cell_type": "code",
   "execution_count": null,
   "id": "e37a846f-45b1-4cd7-9bea-5333d734778e",
   "metadata": {},
   "outputs": [],
   "source": []
  },
  {
   "cell_type": "code",
   "execution_count": 71,
   "id": "1921cb46-08fe-40c4-b456-7a8865453701",
   "metadata": {},
   "outputs": [],
   "source": [
    "import datetime as dt\n",
    "for tweet in dat:\n",
    "    hour = dt.datetime.strptime(tweet.get('created_at'), '%Y-%m-%dT%H:%M:%S.000Z').hour\n",
    "    "
   ]
  },
  {
   "cell_type": "code",
   "execution_count": 72,
   "id": "11b49bcf-4c0a-4325-900f-983446926a20",
   "metadata": {},
   "outputs": [
    {
     "data": {
      "text/plain": [
       "1"
      ]
     },
     "execution_count": 72,
     "metadata": {},
     "output_type": "execute_result"
    }
   ],
   "source": [
    "hour"
   ]
  },
  {
   "cell_type": "code",
   "execution_count": 76,
   "id": "bba6028d-1bf4-45bd-93de-62a13d80a2e4",
   "metadata": {},
   "outputs": [
    {
     "name": "stdout",
     "output_type": "stream",
     "text": [
      "None\n"
     ]
    }
   ],
   "source": [
    "print(hours.get(hour).get(ent))"
   ]
  },
  {
   "cell_type": "code",
   "execution_count": 82,
   "id": "58bf75e0-9496-408a-83ab-15beb1ce6ff0",
   "metadata": {},
   "outputs": [],
   "source": [
    "for tweet in dat:\n",
    "    hour = dt.datetime.strptime(tweet.get('created_at'), '%Y-%m-%dT%H:%M:%S.000Z').hour\n",
    "    hour_ents = hours.get(hour)\n",
    "    for ent_type in ent_map:\n",
    "        if not tweet.get('entities') or ent_type not in tweet.get('entities'):\n",
    "            continue\n",
    "        for i in tweet.get('entities').get(ent_type):\n",
    "            ent = i.get(ent_map.get(ent_type))\n",
    "            if ent in hour_ents:\n",
    "                hour_ents[ent] += hour_ents.get(ent)\n",
    "            else:\n",
    "                hour_ents.update({ent: 0})"
   ]
  },
  {
   "cell_type": "code",
   "execution_count": 77,
   "id": "fb62dd37-9836-4ac2-b02b-ff44ba99769b",
   "metadata": {},
   "outputs": [
    {
     "data": {
      "text/plain": [
       "True"
      ]
     },
     "execution_count": 77,
     "metadata": {},
     "output_type": "execute_result"
    }
   ],
   "source": [
    "True or False"
   ]
  },
  {
   "cell_type": "code",
   "execution_count": 86,
   "id": "c55a6af1-3b67-486a-b6f8-416a00c74ddc",
   "metadata": {},
   "outputs": [
    {
     "data": {
      "text/plain": [
       "[0,\n",
       " 3,\n",
       " 483,\n",
       " 1167,\n",
       " 1118,\n",
       " 1273,\n",
       " 1203,\n",
       " 1251,\n",
       " 1506,\n",
       " 1372,\n",
       " 1279,\n",
       " 1201,\n",
       " 1259,\n",
       " 1280,\n",
       " 1171,\n",
       " 1240,\n",
       " 1081,\n",
       " 375,\n",
       " 0,\n",
       " 0,\n",
       " 0,\n",
       " 0,\n",
       " 0,\n",
       " 0]"
      ]
     },
     "execution_count": 86,
     "metadata": {},
     "output_type": "execute_result"
    }
   ],
   "source": [
    "[len(hours[h]) for h in hours]"
   ]
  },
  {
   "cell_type": "code",
   "execution_count": null,
   "id": "11e15eb0-76db-472b-ab6d-e0cb2e5e946d",
   "metadata": {},
   "outputs": [],
   "source": []
  },
  {
   "cell_type": "code",
   "execution_count": 87,
   "id": "f28c2cbe-73d9-473c-845b-bd9d49f389ee",
   "metadata": {},
   "outputs": [],
   "source": [
    "# Connectivity on Twitter\n",
    "# How connected are the tweeter users in our dataset? A connection can be defined as someone retweeting or mentioning another user."
   ]
  },
  {
   "cell_type": "code",
   "execution_count": 89,
   "id": "7e7f43e1-7bde-4fc3-8e98-d14becc0a03d",
   "metadata": {},
   "outputs": [],
   "source": [
    "connects = {}\n",
    "for tweet in dat:\n",
    "    if tweet.get('entities') and 'mentions' in tweet.get('entities'):\n",
    "        tweet_buds = [u.get('id') for u in tweet.get('entities').get('mentions')]\n",
    "        if tweet.get('author_id') not in connects:\n",
    "            connects.update({tweet.get('author_id'): set(tweet_buds)})\n",
    "        else:\n",
    "            connects.get(tweet.get('author_id')).update(tweet_buds)"
   ]
  },
  {
   "cell_type": "code",
   "execution_count": 91,
   "id": "30068b70-9e27-498a-a843-09f5c97a2aff",
   "metadata": {},
   "outputs": [],
   "source": [
    "authors = list(connects.keys())"
   ]
  },
  {
   "cell_type": "code",
   "execution_count": 92,
   "id": "b1bbee4a-50b4-4aa8-b9bc-446292120ae7",
   "metadata": {},
   "outputs": [],
   "source": [
    "references = list({u for k, v in connects.items() for u in v})"
   ]
  },
  {
   "cell_type": "code",
   "execution_count": 96,
   "id": "2f21494c-1460-4086-8342-4d1cee09f658",
   "metadata": {},
   "outputs": [
    {
     "data": {
      "text/plain": [
       "8525"
      ]
     },
     "execution_count": 96,
     "metadata": {},
     "output_type": "execute_result"
    }
   ],
   "source": [
    "len(authors)"
   ]
  },
  {
   "cell_type": "code",
   "execution_count": 97,
   "id": "f9012d46-963e-4973-91b3-dbe57d0d4de7",
   "metadata": {},
   "outputs": [
    {
     "data": {
      "text/plain": [
       "3028"
      ]
     },
     "execution_count": 97,
     "metadata": {},
     "output_type": "execute_result"
    }
   ],
   "source": [
    "len(references)"
   ]
  },
  {
   "cell_type": "code",
   "execution_count": 98,
   "id": "de4a5110-e827-4439-93a5-22ec9aa8763b",
   "metadata": {},
   "outputs": [],
   "source": [
    "import pandas as pd\n",
    "df = pd.DataFrame(0, columns=references, index=authors)"
   ]
  },
  {
   "cell_type": "code",
   "execution_count": 100,
   "id": "6d925342-5dbe-4d3d-8ccf-7a6f7e8c7097",
   "metadata": {},
   "outputs": [
    {
     "data": {
      "text/html": [
       "<div>\n",
       "<style scoped>\n",
       "    .dataframe tbody tr th:only-of-type {\n",
       "        vertical-align: middle;\n",
       "    }\n",
       "\n",
       "    .dataframe tbody tr th {\n",
       "        vertical-align: top;\n",
       "    }\n",
       "\n",
       "    .dataframe thead th {\n",
       "        text-align: right;\n",
       "    }\n",
       "</style>\n",
       "<table border=\"1\" class=\"dataframe\">\n",
       "  <thead>\n",
       "    <tr style=\"text-align: right;\">\n",
       "      <th></th>\n",
       "      <th>1389927529335730177</th>\n",
       "      <th>1079310252</th>\n",
       "      <th>1082669328</th>\n",
       "      <th>102614399</th>\n",
       "      <th>1409477129117573121</th>\n",
       "      <th>1452686076267483139</th>\n",
       "      <th>2976128340</th>\n",
       "      <th>2595597240</th>\n",
       "      <th>946322930031403008</th>\n",
       "      <th>1224599167697162241</th>\n",
       "      <th>...</th>\n",
       "      <th>154573698</th>\n",
       "      <th>86390214</th>\n",
       "      <th>28138682</th>\n",
       "      <th>711913</th>\n",
       "      <th>3169916217</th>\n",
       "      <th>1327584022063616000</th>\n",
       "      <th>323133826</th>\n",
       "      <th>1168187333197234177</th>\n",
       "      <th>1309693154312953856</th>\n",
       "      <th>307658441</th>\n",
       "    </tr>\n",
       "  </thead>\n",
       "  <tbody>\n",
       "    <tr>\n",
       "      <th>204970988</th>\n",
       "      <td>0</td>\n",
       "      <td>0</td>\n",
       "      <td>0</td>\n",
       "      <td>0</td>\n",
       "      <td>0</td>\n",
       "      <td>0</td>\n",
       "      <td>0</td>\n",
       "      <td>0</td>\n",
       "      <td>0</td>\n",
       "      <td>0</td>\n",
       "      <td>...</td>\n",
       "      <td>0</td>\n",
       "      <td>0</td>\n",
       "      <td>0</td>\n",
       "      <td>0</td>\n",
       "      <td>0</td>\n",
       "      <td>0</td>\n",
       "      <td>0</td>\n",
       "      <td>0</td>\n",
       "      <td>0</td>\n",
       "      <td>0</td>\n",
       "    </tr>\n",
       "    <tr>\n",
       "      <th>1459920226385027086</th>\n",
       "      <td>0</td>\n",
       "      <td>0</td>\n",
       "      <td>0</td>\n",
       "      <td>0</td>\n",
       "      <td>0</td>\n",
       "      <td>0</td>\n",
       "      <td>0</td>\n",
       "      <td>0</td>\n",
       "      <td>0</td>\n",
       "      <td>0</td>\n",
       "      <td>...</td>\n",
       "      <td>0</td>\n",
       "      <td>0</td>\n",
       "      <td>0</td>\n",
       "      <td>0</td>\n",
       "      <td>0</td>\n",
       "      <td>0</td>\n",
       "      <td>0</td>\n",
       "      <td>0</td>\n",
       "      <td>0</td>\n",
       "      <td>0</td>\n",
       "    </tr>\n",
       "    <tr>\n",
       "      <th>840441380652556288</th>\n",
       "      <td>0</td>\n",
       "      <td>0</td>\n",
       "      <td>0</td>\n",
       "      <td>0</td>\n",
       "      <td>0</td>\n",
       "      <td>0</td>\n",
       "      <td>0</td>\n",
       "      <td>0</td>\n",
       "      <td>0</td>\n",
       "      <td>0</td>\n",
       "      <td>...</td>\n",
       "      <td>0</td>\n",
       "      <td>0</td>\n",
       "      <td>0</td>\n",
       "      <td>0</td>\n",
       "      <td>0</td>\n",
       "      <td>0</td>\n",
       "      <td>0</td>\n",
       "      <td>0</td>\n",
       "      <td>0</td>\n",
       "      <td>0</td>\n",
       "    </tr>\n",
       "    <tr>\n",
       "      <th>1388529837833392132</th>\n",
       "      <td>0</td>\n",
       "      <td>0</td>\n",
       "      <td>0</td>\n",
       "      <td>0</td>\n",
       "      <td>0</td>\n",
       "      <td>0</td>\n",
       "      <td>0</td>\n",
       "      <td>0</td>\n",
       "      <td>0</td>\n",
       "      <td>0</td>\n",
       "      <td>...</td>\n",
       "      <td>0</td>\n",
       "      <td>0</td>\n",
       "      <td>0</td>\n",
       "      <td>0</td>\n",
       "      <td>0</td>\n",
       "      <td>0</td>\n",
       "      <td>0</td>\n",
       "      <td>0</td>\n",
       "      <td>0</td>\n",
       "      <td>0</td>\n",
       "    </tr>\n",
       "    <tr>\n",
       "      <th>1197328734417588224</th>\n",
       "      <td>0</td>\n",
       "      <td>0</td>\n",
       "      <td>0</td>\n",
       "      <td>0</td>\n",
       "      <td>0</td>\n",
       "      <td>0</td>\n",
       "      <td>0</td>\n",
       "      <td>0</td>\n",
       "      <td>0</td>\n",
       "      <td>0</td>\n",
       "      <td>...</td>\n",
       "      <td>0</td>\n",
       "      <td>0</td>\n",
       "      <td>0</td>\n",
       "      <td>0</td>\n",
       "      <td>0</td>\n",
       "      <td>0</td>\n",
       "      <td>0</td>\n",
       "      <td>0</td>\n",
       "      <td>0</td>\n",
       "      <td>0</td>\n",
       "    </tr>\n",
       "  </tbody>\n",
       "</table>\n",
       "<p>5 rows × 3028 columns</p>\n",
       "</div>"
      ],
      "text/plain": [
       "                     1389927529335730177  1079310252  1082669328  102614399  \\\n",
       "204970988                              0           0           0          0   \n",
       "1459920226385027086                    0           0           0          0   \n",
       "840441380652556288                     0           0           0          0   \n",
       "1388529837833392132                    0           0           0          0   \n",
       "1197328734417588224                    0           0           0          0   \n",
       "\n",
       "                     1409477129117573121  1452686076267483139  2976128340  \\\n",
       "204970988                              0                    0           0   \n",
       "1459920226385027086                    0                    0           0   \n",
       "840441380652556288                     0                    0           0   \n",
       "1388529837833392132                    0                    0           0   \n",
       "1197328734417588224                    0                    0           0   \n",
       "\n",
       "                     2595597240  946322930031403008  1224599167697162241  ...  \\\n",
       "204970988                     0                   0                    0  ...   \n",
       "1459920226385027086           0                   0                    0  ...   \n",
       "840441380652556288            0                   0                    0  ...   \n",
       "1388529837833392132           0                   0                    0  ...   \n",
       "1197328734417588224           0                   0                    0  ...   \n",
       "\n",
       "                     154573698  86390214  28138682  711913  3169916217  \\\n",
       "204970988                    0         0         0       0           0   \n",
       "1459920226385027086          0         0         0       0           0   \n",
       "840441380652556288           0         0         0       0           0   \n",
       "1388529837833392132          0         0         0       0           0   \n",
       "1197328734417588224          0         0         0       0           0   \n",
       "\n",
       "                     1327584022063616000  323133826  1168187333197234177  \\\n",
       "204970988                              0          0                    0   \n",
       "1459920226385027086                    0          0                    0   \n",
       "840441380652556288                     0          0                    0   \n",
       "1388529837833392132                    0          0                    0   \n",
       "1197328734417588224                    0          0                    0   \n",
       "\n",
       "                     1309693154312953856  307658441  \n",
       "204970988                              0          0  \n",
       "1459920226385027086                    0          0  \n",
       "840441380652556288                     0          0  \n",
       "1388529837833392132                    0          0  \n",
       "1197328734417588224                    0          0  \n",
       "\n",
       "[5 rows x 3028 columns]"
      ]
     },
     "execution_count": 100,
     "metadata": {},
     "output_type": "execute_result"
    }
   ],
   "source": [
    "df.head()"
   ]
  },
  {
   "cell_type": "code",
   "execution_count": 104,
   "id": "2b9f103b-1fb2-4a79-9a57-2fe0b32ba00a",
   "metadata": {},
   "outputs": [],
   "source": [
    "for a in connects:\n",
    "    for r in connects.get(a):\n",
    "        df.loc[a, r] = 1"
   ]
  },
  {
   "cell_type": "code",
   "execution_count": 105,
   "id": "fedfaf9c-da76-4f38-8b05-b6248e8f5279",
   "metadata": {},
   "outputs": [
    {
     "data": {
      "text/html": [
       "<div>\n",
       "<style scoped>\n",
       "    .dataframe tbody tr th:only-of-type {\n",
       "        vertical-align: middle;\n",
       "    }\n",
       "\n",
       "    .dataframe tbody tr th {\n",
       "        vertical-align: top;\n",
       "    }\n",
       "\n",
       "    .dataframe thead th {\n",
       "        text-align: right;\n",
       "    }\n",
       "</style>\n",
       "<table border=\"1\" class=\"dataframe\">\n",
       "  <thead>\n",
       "    <tr style=\"text-align: right;\">\n",
       "      <th></th>\n",
       "      <th>1389927529335730177</th>\n",
       "      <th>1079310252</th>\n",
       "      <th>1082669328</th>\n",
       "      <th>102614399</th>\n",
       "      <th>1409477129117573121</th>\n",
       "      <th>1452686076267483139</th>\n",
       "      <th>2976128340</th>\n",
       "      <th>2595597240</th>\n",
       "      <th>946322930031403008</th>\n",
       "      <th>1224599167697162241</th>\n",
       "      <th>...</th>\n",
       "      <th>154573698</th>\n",
       "      <th>86390214</th>\n",
       "      <th>28138682</th>\n",
       "      <th>711913</th>\n",
       "      <th>3169916217</th>\n",
       "      <th>1327584022063616000</th>\n",
       "      <th>323133826</th>\n",
       "      <th>1168187333197234177</th>\n",
       "      <th>1309693154312953856</th>\n",
       "      <th>307658441</th>\n",
       "    </tr>\n",
       "  </thead>\n",
       "  <tbody>\n",
       "    <tr>\n",
       "      <th>204970988</th>\n",
       "      <td>0</td>\n",
       "      <td>0</td>\n",
       "      <td>0</td>\n",
       "      <td>0</td>\n",
       "      <td>0</td>\n",
       "      <td>0</td>\n",
       "      <td>0</td>\n",
       "      <td>0</td>\n",
       "      <td>0</td>\n",
       "      <td>0</td>\n",
       "      <td>...</td>\n",
       "      <td>0</td>\n",
       "      <td>0</td>\n",
       "      <td>0</td>\n",
       "      <td>0</td>\n",
       "      <td>0</td>\n",
       "      <td>0</td>\n",
       "      <td>0</td>\n",
       "      <td>0</td>\n",
       "      <td>0</td>\n",
       "      <td>0</td>\n",
       "    </tr>\n",
       "    <tr>\n",
       "      <th>1459920226385027086</th>\n",
       "      <td>0</td>\n",
       "      <td>0</td>\n",
       "      <td>0</td>\n",
       "      <td>0</td>\n",
       "      <td>0</td>\n",
       "      <td>0</td>\n",
       "      <td>0</td>\n",
       "      <td>0</td>\n",
       "      <td>0</td>\n",
       "      <td>0</td>\n",
       "      <td>...</td>\n",
       "      <td>0</td>\n",
       "      <td>0</td>\n",
       "      <td>0</td>\n",
       "      <td>0</td>\n",
       "      <td>0</td>\n",
       "      <td>0</td>\n",
       "      <td>0</td>\n",
       "      <td>0</td>\n",
       "      <td>0</td>\n",
       "      <td>0</td>\n",
       "    </tr>\n",
       "    <tr>\n",
       "      <th>840441380652556288</th>\n",
       "      <td>0</td>\n",
       "      <td>0</td>\n",
       "      <td>0</td>\n",
       "      <td>0</td>\n",
       "      <td>0</td>\n",
       "      <td>0</td>\n",
       "      <td>0</td>\n",
       "      <td>0</td>\n",
       "      <td>0</td>\n",
       "      <td>0</td>\n",
       "      <td>...</td>\n",
       "      <td>0</td>\n",
       "      <td>0</td>\n",
       "      <td>0</td>\n",
       "      <td>0</td>\n",
       "      <td>0</td>\n",
       "      <td>0</td>\n",
       "      <td>0</td>\n",
       "      <td>0</td>\n",
       "      <td>0</td>\n",
       "      <td>0</td>\n",
       "    </tr>\n",
       "    <tr>\n",
       "      <th>1388529837833392132</th>\n",
       "      <td>0</td>\n",
       "      <td>0</td>\n",
       "      <td>0</td>\n",
       "      <td>0</td>\n",
       "      <td>0</td>\n",
       "      <td>0</td>\n",
       "      <td>0</td>\n",
       "      <td>0</td>\n",
       "      <td>0</td>\n",
       "      <td>0</td>\n",
       "      <td>...</td>\n",
       "      <td>0</td>\n",
       "      <td>0</td>\n",
       "      <td>0</td>\n",
       "      <td>0</td>\n",
       "      <td>0</td>\n",
       "      <td>0</td>\n",
       "      <td>0</td>\n",
       "      <td>0</td>\n",
       "      <td>0</td>\n",
       "      <td>0</td>\n",
       "    </tr>\n",
       "    <tr>\n",
       "      <th>1197328734417588224</th>\n",
       "      <td>0</td>\n",
       "      <td>0</td>\n",
       "      <td>0</td>\n",
       "      <td>0</td>\n",
       "      <td>0</td>\n",
       "      <td>0</td>\n",
       "      <td>0</td>\n",
       "      <td>0</td>\n",
       "      <td>0</td>\n",
       "      <td>0</td>\n",
       "      <td>...</td>\n",
       "      <td>0</td>\n",
       "      <td>0</td>\n",
       "      <td>0</td>\n",
       "      <td>0</td>\n",
       "      <td>0</td>\n",
       "      <td>0</td>\n",
       "      <td>0</td>\n",
       "      <td>0</td>\n",
       "      <td>0</td>\n",
       "      <td>0</td>\n",
       "    </tr>\n",
       "  </tbody>\n",
       "</table>\n",
       "<p>5 rows × 3028 columns</p>\n",
       "</div>"
      ],
      "text/plain": [
       "                     1389927529335730177  1079310252  1082669328  102614399  \\\n",
       "204970988                              0           0           0          0   \n",
       "1459920226385027086                    0           0           0          0   \n",
       "840441380652556288                     0           0           0          0   \n",
       "1388529837833392132                    0           0           0          0   \n",
       "1197328734417588224                    0           0           0          0   \n",
       "\n",
       "                     1409477129117573121  1452686076267483139  2976128340  \\\n",
       "204970988                              0                    0           0   \n",
       "1459920226385027086                    0                    0           0   \n",
       "840441380652556288                     0                    0           0   \n",
       "1388529837833392132                    0                    0           0   \n",
       "1197328734417588224                    0                    0           0   \n",
       "\n",
       "                     2595597240  946322930031403008  1224599167697162241  ...  \\\n",
       "204970988                     0                   0                    0  ...   \n",
       "1459920226385027086           0                   0                    0  ...   \n",
       "840441380652556288            0                   0                    0  ...   \n",
       "1388529837833392132           0                   0                    0  ...   \n",
       "1197328734417588224           0                   0                    0  ...   \n",
       "\n",
       "                     154573698  86390214  28138682  711913  3169916217  \\\n",
       "204970988                    0         0         0       0           0   \n",
       "1459920226385027086          0         0         0       0           0   \n",
       "840441380652556288           0         0         0       0           0   \n",
       "1388529837833392132          0         0         0       0           0   \n",
       "1197328734417588224          0         0         0       0           0   \n",
       "\n",
       "                     1327584022063616000  323133826  1168187333197234177  \\\n",
       "204970988                              0          0                    0   \n",
       "1459920226385027086                    0          0                    0   \n",
       "840441380652556288                     0          0                    0   \n",
       "1388529837833392132                    0          0                    0   \n",
       "1197328734417588224                    0          0                    0   \n",
       "\n",
       "                     1309693154312953856  307658441  \n",
       "204970988                              0          0  \n",
       "1459920226385027086                    0          0  \n",
       "840441380652556288                     0          0  \n",
       "1388529837833392132                    0          0  \n",
       "1197328734417588224                    0          0  \n",
       "\n",
       "[5 rows x 3028 columns]"
      ]
     },
     "execution_count": 105,
     "metadata": {},
     "output_type": "execute_result"
    }
   ],
   "source": [
    "df.head()"
   ]
  },
  {
   "cell_type": "code",
   "execution_count": 106,
   "id": "a07e4502-a620-4cdf-91da-713555c1c41a",
   "metadata": {},
   "outputs": [
    {
     "data": {
      "text/plain": [
       "np.float64(0.9995231214432646)"
      ]
     },
     "execution_count": 106,
     "metadata": {},
     "output_type": "execute_result"
    }
   ],
   "source": [
    "(df == 0).sum().sum() / df.shape[0] / df.shape[1]"
   ]
  },
  {
   "cell_type": "code",
   "execution_count": null,
   "id": "6e25252c-33f9-4fb5-b1e9-f1d08d54f07a",
   "metadata": {},
   "outputs": [],
   "source": []
  }
 ],
 "metadata": {
  "kernelspec": {
   "display_name": "Python 3 (ipykernel)",
   "language": "python",
   "name": "python3"
  },
  "language_info": {
   "codemirror_mode": {
    "name": "ipython",
    "version": 3
   },
   "file_extension": ".py",
   "mimetype": "text/x-python",
   "name": "python",
   "nbconvert_exporter": "python",
   "pygments_lexer": "ipython3",
   "version": "3.11.1"
  }
 },
 "nbformat": 4,
 "nbformat_minor": 5
}
