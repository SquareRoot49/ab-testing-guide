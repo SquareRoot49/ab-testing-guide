{
 "cells": [
  {
   "cell_type": "code",
   "execution_count": 4,
   "id": "fbf42353-ee31-4f7a-9ec8-e7950d5a993e",
   "metadata": {},
   "outputs": [],
   "source": [
    "import pandas as pd\n",
    "import datetime as dt\n",
    "import requests"
   ]
  },
  {
   "cell_type": "code",
   "execution_count": 9,
   "id": "8928a712-859c-49ac-971a-427d15879092",
   "metadata": {},
   "outputs": [],
   "source": [
    "key = 'e9028540f058422ba13cf1fa7e80d4b6'"
   ]
  },
  {
   "cell_type": "code",
   "execution_count": null,
   "id": "01527846-5207-478a-8eb7-f6db6e6d4c7e",
   "metadata": {},
   "outputs": [],
   "source": []
  },
  {
   "cell_type": "code",
   "execution_count": 10,
   "id": "9832c342-000f-437d-b850-08c4885857ed",
   "metadata": {},
   "outputs": [],
   "source": [
    "url = 'https://newsapi.org/v2/everything?q=bitcoin&apiKey=e9028540f058422ba13cf1fa7e80d4b6'\n",
    "pay_load = {'q': 'jupyter lab',\n",
    "           'language': 'en',\n",
    "           'page_size': 20,\n",
    "           'api_key': key}"
   ]
  },
  {
   "cell_type": "code",
   "execution_count": 12,
   "id": "af615baa-7b5c-4bc3-8773-c0acf312cd5d",
   "metadata": {},
   "outputs": [],
   "source": [
    "resq = requests.get(url = url, params = pay_load)"
   ]
  },
  {
   "cell_type": "code",
   "execution_count": 13,
   "id": "452fc5c6-1347-4bad-b82d-531c17a70922",
   "metadata": {},
   "outputs": [],
   "source": [
    "resp = resq.json()"
   ]
  },
  {
   "cell_type": "code",
   "execution_count": 14,
   "id": "d12583de-0cb5-43f4-b7cd-72703a1e766d",
   "metadata": {},
   "outputs": [
    {
     "data": {
      "text/plain": [
       "dict"
      ]
     },
     "execution_count": 14,
     "metadata": {},
     "output_type": "execute_result"
    }
   ],
   "source": [
    "type(resp)"
   ]
  },
  {
   "cell_type": "code",
   "execution_count": 15,
   "id": "36de9b9d-8f44-479c-8551-4bc7bc86c302",
   "metadata": {},
   "outputs": [
    {
     "data": {
      "text/plain": [
       "dict_keys(['status', 'totalResults', 'articles'])"
      ]
     },
     "execution_count": 15,
     "metadata": {},
     "output_type": "execute_result"
    }
   ],
   "source": [
    "resp.keys()"
   ]
  },
  {
   "cell_type": "code",
   "execution_count": 16,
   "id": "d91dccf6-7fb3-435f-bcf8-a5f115df4522",
   "metadata": {},
   "outputs": [],
   "source": [
    "data = pd.DataFrame(resp['articles'])"
   ]
  },
  {
   "cell_type": "code",
   "execution_count": 18,
   "id": "543e6852-74e9-4f28-ac79-2b31b853c241",
   "metadata": {},
   "outputs": [
    {
     "data": {
      "text/plain": [
       "list"
      ]
     },
     "execution_count": 18,
     "metadata": {},
     "output_type": "execute_result"
    }
   ],
   "source": [
    "type(resp['articles'])"
   ]
  },
  {
   "cell_type": "code",
   "execution_count": 19,
   "id": "b5ed0379-a055-4e8d-bee6-cb433e31c383",
   "metadata": {},
   "outputs": [
    {
     "data": {
      "text/plain": [
       "100"
      ]
     },
     "execution_count": 19,
     "metadata": {},
     "output_type": "execute_result"
    }
   ],
   "source": [
    "len(resp['articles'])"
   ]
  },
  {
   "cell_type": "code",
   "execution_count": 20,
   "id": "289daf5b-775c-441f-8dec-bbf75a9e9820",
   "metadata": {},
   "outputs": [
    {
     "data": {
      "text/plain": [
       "{'source': {'id': 'wired', 'name': 'Wired'},\n",
       " 'author': 'Joel Khalili',\n",
       " 'title': 'Unmasking Bitcoin Creator Satoshi Nakamoto—Again',\n",
       " 'description': 'A new HBO documentary takes a swing at uncovering the real identity of Satoshi Nakamoto, inventor of Bitcoin. But without incontrovertible proof, the myth lives on.',\n",
       " 'url': 'https://www.wired.com/story/unmasking-bitcoin-creator-satoshi-nakamoto-again/',\n",
       " 'urlToImage': 'https://media.wired.com/photos/6703eb3979f13fda7f04485b/191:100/w_1280,c_limit/Satoshi-Nakamoto-biz-1341874258.jpg',\n",
       " 'publishedAt': '2024-10-09T01:00:00Z',\n",
       " 'content': 'Peter Todd is standing on the upper floor of a dilapidated industrial building somewhere in Czechia, chuckling under his breath. He has just been accused on camera of being Satoshi Nakamoto, the Bitc… [+3043 chars]'}"
      ]
     },
     "execution_count": 20,
     "metadata": {},
     "output_type": "execute_result"
    }
   ],
   "source": [
    "resp['articles'][0]"
   ]
  },
  {
   "cell_type": "code",
   "execution_count": 17,
   "id": "ef51d681-98e9-453c-80e4-3c28ade618c8",
   "metadata": {},
   "outputs": [
    {
     "data": {
      "text/html": [
       "<div>\n",
       "<style scoped>\n",
       "    .dataframe tbody tr th:only-of-type {\n",
       "        vertical-align: middle;\n",
       "    }\n",
       "\n",
       "    .dataframe tbody tr th {\n",
       "        vertical-align: top;\n",
       "    }\n",
       "\n",
       "    .dataframe thead th {\n",
       "        text-align: right;\n",
       "    }\n",
       "</style>\n",
       "<table border=\"1\" class=\"dataframe\">\n",
       "  <thead>\n",
       "    <tr style=\"text-align: right;\">\n",
       "      <th></th>\n",
       "      <th>source</th>\n",
       "      <th>author</th>\n",
       "      <th>title</th>\n",
       "      <th>description</th>\n",
       "      <th>url</th>\n",
       "      <th>urlToImage</th>\n",
       "      <th>publishedAt</th>\n",
       "      <th>content</th>\n",
       "    </tr>\n",
       "  </thead>\n",
       "  <tbody>\n",
       "    <tr>\n",
       "      <th>0</th>\n",
       "      <td>{'id': 'wired', 'name': 'Wired'}</td>\n",
       "      <td>Joel Khalili</td>\n",
       "      <td>Unmasking Bitcoin Creator Satoshi Nakamoto—Again</td>\n",
       "      <td>A new HBO documentary takes a swing at uncover...</td>\n",
       "      <td>https://www.wired.com/story/unmasking-bitcoin-...</td>\n",
       "      <td>https://media.wired.com/photos/6703eb3979f13fd...</td>\n",
       "      <td>2024-10-09T01:00:00Z</td>\n",
       "      <td>Peter Todd is standing on the upper floor of a...</td>\n",
       "    </tr>\n",
       "    <tr>\n",
       "      <th>1</th>\n",
       "      <td>{'id': 'wired', 'name': 'Wired'}</td>\n",
       "      <td>Joel Khalili</td>\n",
       "      <td>Peter Todd Was ‘Unmasked’ As Bitcoin Creator S...</td>\n",
       "      <td>Peter Todd has gone underground after an HBO d...</td>\n",
       "      <td>https://www.wired.com/story/peter-todd-was-unm...</td>\n",
       "      <td>https://media.wired.com/photos/6716870e6874cb5...</td>\n",
       "      <td>2024-10-22T11:33:59Z</td>\n",
       "      <td>In the week before the documentary was release...</td>\n",
       "    </tr>\n",
       "    <tr>\n",
       "      <th>2</th>\n",
       "      <td>{'id': 'wired', 'name': 'Wired'}</td>\n",
       "      <td>Joel Khalili</td>\n",
       "      <td>In the Kentucky Mountains, a Bitcoin Mining Dr...</td>\n",
       "      <td>When bitcoin was on a hot streak, owners of sm...</td>\n",
       "      <td>https://www.wired.com/story/in-the-kentucky-mo...</td>\n",
       "      <td>https://media.wired.com/photos/670981994729e98...</td>\n",
       "      <td>2024-10-21T11:00:00Z</td>\n",
       "      <td>In both cases, Biofuel claims, the firms shipp...</td>\n",
       "    </tr>\n",
       "    <tr>\n",
       "      <th>3</th>\n",
       "      <td>{'id': None, 'name': '[Removed]'}</td>\n",
       "      <td>None</td>\n",
       "      <td>[Removed]</td>\n",
       "      <td>[Removed]</td>\n",
       "      <td>https://removed.com</td>\n",
       "      <td>None</td>\n",
       "      <td>2024-10-17T19:35:08Z</td>\n",
       "      <td>[Removed]</td>\n",
       "    </tr>\n",
       "    <tr>\n",
       "      <th>4</th>\n",
       "      <td>{'id': None, 'name': 'Gizmodo.com'}</td>\n",
       "      <td>Matthew Gault</td>\n",
       "      <td>Controversial HBO Documentary Concludes Peter ...</td>\n",
       "      <td>The cryptocurrency community is not amused.</td>\n",
       "      <td>https://gizmodo.com/controversial-hbo-document...</td>\n",
       "      <td>https://gizmodo.com/app/uploads/2024/10/PeterT...</td>\n",
       "      <td>2024-10-09T14:05:37Z</td>\n",
       "      <td>Last night, HBO aired a documentary about Bitc...</td>\n",
       "    </tr>\n",
       "    <tr>\n",
       "      <th>...</th>\n",
       "      <td>...</td>\n",
       "      <td>...</td>\n",
       "      <td>...</td>\n",
       "      <td>...</td>\n",
       "      <td>...</td>\n",
       "      <td>...</td>\n",
       "      <td>...</td>\n",
       "      <td>...</td>\n",
       "    </tr>\n",
       "    <tr>\n",
       "      <th>95</th>\n",
       "      <td>{'id': None, 'name': 'Forbes'}</td>\n",
       "      <td>Edan Yago, Contributor, \\n Edan Yago, Contribu...</td>\n",
       "      <td>3 Ways Bitcoin Is Like Digital Real Estate</td>\n",
       "      <td>Universally desirable, bitcoin is a global, ce...</td>\n",
       "      <td>https://www.forbes.com/sites/edanyago/2024/10/...</td>\n",
       "      <td>https://imageio.forbes.com/specials-images/ima...</td>\n",
       "      <td>2024-10-16T16:00:00Z</td>\n",
       "      <td>MIAMI, FLORIDA - APRIL 7: Michael Saylor, Chai...</td>\n",
       "    </tr>\n",
       "    <tr>\n",
       "      <th>96</th>\n",
       "      <td>{'id': None, 'name': 'Cracked.com'}</td>\n",
       "      <td>Amanda Mannen</td>\n",
       "      <td>The Most Valuable Things People Just Up and Th...</td>\n",
       "      <td>The next time you’re having a super bad day, j...</td>\n",
       "      <td>https://www.cracked.com/article_43746_the-most...</td>\n",
       "      <td>https://s3.crackedcdn.com/phpimages/article/8/...</td>\n",
       "      <td>2024-09-29T12:00:00Z</td>\n",
       "      <td>Weve all been dismayed to find we left a twent...</td>\n",
       "    </tr>\n",
       "    <tr>\n",
       "      <th>97</th>\n",
       "      <td>{'id': None, 'name': 'Forbes'}</td>\n",
       "      <td>John Tamny, Contributor, \\n John Tamny, Contri...</td>\n",
       "      <td>Satoshi Nakamoto As World’s Richest Exposes Bi...</td>\n",
       "      <td>Once what’s supposed to be quiet is the story,...</td>\n",
       "      <td>https://www.forbes.com/sites/johntamny/2024/10...</td>\n",
       "      <td>https://imageio.forbes.com/specials-images/ima...</td>\n",
       "      <td>2024-10-14T14:30:00Z</td>\n",
       "      <td>PARIS, FRANCE - JANUARY 10: In this photo illu...</td>\n",
       "    </tr>\n",
       "    <tr>\n",
       "      <th>98</th>\n",
       "      <td>{'id': None, 'name': 'Forbes'}</td>\n",
       "      <td>Ansel Lindner, Contributor, \\n Ansel Lindner, ...</td>\n",
       "      <td>Bitcoin’s Q4 Setup: Record ETF Performance And...</td>\n",
       "      <td>Bitcoin's price is on the move after record-br...</td>\n",
       "      <td>https://www.forbes.com/sites/ansellindner/2024...</td>\n",
       "      <td>https://imageio.forbes.com/specials-images/ima...</td>\n",
       "      <td>2024-09-28T11:00:00Z</td>\n",
       "      <td>Bitcoin price is on the move after record-brea...</td>\n",
       "    </tr>\n",
       "    <tr>\n",
       "      <th>99</th>\n",
       "      <td>{'id': None, 'name': 'Forbes'}</td>\n",
       "      <td>Javier Bastardo, Contributor, \\n Javier Bastar...</td>\n",
       "      <td>ECB: Bitcoin Appreciation Could Be “Fuelling T...</td>\n",
       "      <td>ECB experts warn that Bitcoin's price rise cou...</td>\n",
       "      <td>https://www.forbes.com/sites/digital-assets/20...</td>\n",
       "      <td>https://imageio.forbes.com/specials-images/ima...</td>\n",
       "      <td>2024-10-20T18:29:59Z</td>\n",
       "      <td>The President of the European Central Bank (EC...</td>\n",
       "    </tr>\n",
       "  </tbody>\n",
       "</table>\n",
       "<p>100 rows × 8 columns</p>\n",
       "</div>"
      ],
      "text/plain": [
       "                                 source  \\\n",
       "0      {'id': 'wired', 'name': 'Wired'}   \n",
       "1      {'id': 'wired', 'name': 'Wired'}   \n",
       "2      {'id': 'wired', 'name': 'Wired'}   \n",
       "3     {'id': None, 'name': '[Removed]'}   \n",
       "4   {'id': None, 'name': 'Gizmodo.com'}   \n",
       "..                                  ...   \n",
       "95       {'id': None, 'name': 'Forbes'}   \n",
       "96  {'id': None, 'name': 'Cracked.com'}   \n",
       "97       {'id': None, 'name': 'Forbes'}   \n",
       "98       {'id': None, 'name': 'Forbes'}   \n",
       "99       {'id': None, 'name': 'Forbes'}   \n",
       "\n",
       "                                               author  \\\n",
       "0                                        Joel Khalili   \n",
       "1                                        Joel Khalili   \n",
       "2                                        Joel Khalili   \n",
       "3                                                None   \n",
       "4                                       Matthew Gault   \n",
       "..                                                ...   \n",
       "95  Edan Yago, Contributor, \\n Edan Yago, Contribu...   \n",
       "96                                      Amanda Mannen   \n",
       "97  John Tamny, Contributor, \\n John Tamny, Contri...   \n",
       "98  Ansel Lindner, Contributor, \\n Ansel Lindner, ...   \n",
       "99  Javier Bastardo, Contributor, \\n Javier Bastar...   \n",
       "\n",
       "                                                title  \\\n",
       "0    Unmasking Bitcoin Creator Satoshi Nakamoto—Again   \n",
       "1   Peter Todd Was ‘Unmasked’ As Bitcoin Creator S...   \n",
       "2   In the Kentucky Mountains, a Bitcoin Mining Dr...   \n",
       "3                                           [Removed]   \n",
       "4   Controversial HBO Documentary Concludes Peter ...   \n",
       "..                                                ...   \n",
       "95         3 Ways Bitcoin Is Like Digital Real Estate   \n",
       "96  The Most Valuable Things People Just Up and Th...   \n",
       "97  Satoshi Nakamoto As World’s Richest Exposes Bi...   \n",
       "98  Bitcoin’s Q4 Setup: Record ETF Performance And...   \n",
       "99  ECB: Bitcoin Appreciation Could Be “Fuelling T...   \n",
       "\n",
       "                                          description  \\\n",
       "0   A new HBO documentary takes a swing at uncover...   \n",
       "1   Peter Todd has gone underground after an HBO d...   \n",
       "2   When bitcoin was on a hot streak, owners of sm...   \n",
       "3                                           [Removed]   \n",
       "4         The cryptocurrency community is not amused.   \n",
       "..                                                ...   \n",
       "95  Universally desirable, bitcoin is a global, ce...   \n",
       "96  The next time you’re having a super bad day, j...   \n",
       "97  Once what’s supposed to be quiet is the story,...   \n",
       "98  Bitcoin's price is on the move after record-br...   \n",
       "99  ECB experts warn that Bitcoin's price rise cou...   \n",
       "\n",
       "                                                  url  \\\n",
       "0   https://www.wired.com/story/unmasking-bitcoin-...   \n",
       "1   https://www.wired.com/story/peter-todd-was-unm...   \n",
       "2   https://www.wired.com/story/in-the-kentucky-mo...   \n",
       "3                                 https://removed.com   \n",
       "4   https://gizmodo.com/controversial-hbo-document...   \n",
       "..                                                ...   \n",
       "95  https://www.forbes.com/sites/edanyago/2024/10/...   \n",
       "96  https://www.cracked.com/article_43746_the-most...   \n",
       "97  https://www.forbes.com/sites/johntamny/2024/10...   \n",
       "98  https://www.forbes.com/sites/ansellindner/2024...   \n",
       "99  https://www.forbes.com/sites/digital-assets/20...   \n",
       "\n",
       "                                           urlToImage           publishedAt  \\\n",
       "0   https://media.wired.com/photos/6703eb3979f13fd...  2024-10-09T01:00:00Z   \n",
       "1   https://media.wired.com/photos/6716870e6874cb5...  2024-10-22T11:33:59Z   \n",
       "2   https://media.wired.com/photos/670981994729e98...  2024-10-21T11:00:00Z   \n",
       "3                                                None  2024-10-17T19:35:08Z   \n",
       "4   https://gizmodo.com/app/uploads/2024/10/PeterT...  2024-10-09T14:05:37Z   \n",
       "..                                                ...                   ...   \n",
       "95  https://imageio.forbes.com/specials-images/ima...  2024-10-16T16:00:00Z   \n",
       "96  https://s3.crackedcdn.com/phpimages/article/8/...  2024-09-29T12:00:00Z   \n",
       "97  https://imageio.forbes.com/specials-images/ima...  2024-10-14T14:30:00Z   \n",
       "98  https://imageio.forbes.com/specials-images/ima...  2024-09-28T11:00:00Z   \n",
       "99  https://imageio.forbes.com/specials-images/ima...  2024-10-20T18:29:59Z   \n",
       "\n",
       "                                              content  \n",
       "0   Peter Todd is standing on the upper floor of a...  \n",
       "1   In the week before the documentary was release...  \n",
       "2   In both cases, Biofuel claims, the firms shipp...  \n",
       "3                                           [Removed]  \n",
       "4   Last night, HBO aired a documentary about Bitc...  \n",
       "..                                                ...  \n",
       "95  MIAMI, FLORIDA - APRIL 7: Michael Saylor, Chai...  \n",
       "96  Weve all been dismayed to find we left a twent...  \n",
       "97  PARIS, FRANCE - JANUARY 10: In this photo illu...  \n",
       "98  Bitcoin price is on the move after record-brea...  \n",
       "99  The President of the European Central Bank (EC...  \n",
       "\n",
       "[100 rows x 8 columns]"
      ]
     },
     "execution_count": 17,
     "metadata": {},
     "output_type": "execute_result"
    }
   ],
   "source": [
    "data "
   ]
  },
  {
   "cell_type": "code",
   "execution_count": null,
   "id": "a5235b70-e8fc-4b2b-8493-7fc6f5038e85",
   "metadata": {},
   "outputs": [],
   "source": []
  }
 ],
 "metadata": {
  "kernelspec": {
   "display_name": "Python 3 (ipykernel)",
   "language": "python",
   "name": "python3"
  },
  "language_info": {
   "codemirror_mode": {
    "name": "ipython",
    "version": 3
   },
   "file_extension": ".py",
   "mimetype": "text/x-python",
   "name": "python",
   "nbconvert_exporter": "python",
   "pygments_lexer": "ipython3",
   "version": "3.11.1"
  }
 },
 "nbformat": 4,
 "nbformat_minor": 5
}
