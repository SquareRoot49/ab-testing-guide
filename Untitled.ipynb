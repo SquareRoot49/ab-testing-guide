{
 "cells": [
  {
   "cell_type": "code",
   "execution_count": 16,
   "id": "5029f3f4-7e9e-44e4-aa95-0ec53ba32c26",
   "metadata": {},
   "outputs": [],
   "source": [
    "import numpy as np\n",
    "import random"
   ]
  },
  {
   "cell_type": "code",
   "execution_count": 17,
   "id": "04cf0038-17a0-4282-b93c-a7556169b0e8",
   "metadata": {},
   "outputs": [
    {
     "name": "stdout",
     "output_type": "stream",
     "text": [
      "[75.67502248764299, 91.40440823651996, 10.991349358147895, 22.431827812559956, 54.13951469616105, 25.494246333143135, 64.52098519729384, 36.05644264682388, 75.29553208419848, 55.700101037972715, 48.284450235937626, 8.760780734219619, 70.17052500612941, 43.86040051665725, 73.12461938177177, 5.538496456931751, 30.31132602171327, 38.64877796194654, 26.21228553457806, 36.35580933856089, 50.02321661997732, 57.516407857152075, 72.67641155971248, 80.25138428492288, 34.6967244769696, 43.60201282287869, 59.25365187466869, 24.354525204461417, 82.39483068421069, 92.84776770144016, 21.770793489098217, 23.145045603807134, 56.22730738172045, 69.7123625556501, 51.66040409397006, 71.21489972369932, 91.63986059380576, 65.84920492619976, 80.38719984691284, 2.8730574574754364, 5.273022764621816, 45.458389196169044, 1.157229975469598, 36.60506461790901, 33.72548407463651, 61.297147488276934, 82.13839665502182, 65.45263674746121, 56.77567303474705, 57.139648773053594]\n"
     ]
    }
   ],
   "source": [
    "list = []\n",
    "for i in range(50):\n",
    "    num = random.uniform(0,100)\n",
    "    list.append(num)\n",
    "print(list)"
   ]
  },
  {
   "cell_type": "code",
   "execution_count": 18,
   "id": "99073274-163e-40d7-a2b7-24cdefb47a87",
   "metadata": {},
   "outputs": [],
   "source": [
    "mean = sum(list) / len(list)"
   ]
  },
  {
   "cell_type": "code",
   "execution_count": 19,
   "id": "68baea85-83ad-4a88-b6a0-7b2ca5a1ab9a",
   "metadata": {},
   "outputs": [
    {
     "data": {
      "text/plain": [
       "49.401933263300215"
      ]
     },
     "execution_count": 19,
     "metadata": {},
     "output_type": "execute_result"
    }
   ],
   "source": [
    "mean"
   ]
  },
  {
   "cell_type": "code",
   "execution_count": 23,
   "id": "9123c35a-c877-41bb-92ae-202ac586284e",
   "metadata": {},
   "outputs": [],
   "source": [
    "list_ = [1,2,3,4]"
   ]
  },
  {
   "cell_type": "code",
   "execution_count": 26,
   "id": "a8b6da8e-a870-4227-9551-ddeb7b825767",
   "metadata": {},
   "outputs": [],
   "source": [
    "list_res = list_.__iter__()"
   ]
  },
  {
   "cell_type": "code",
   "execution_count": 27,
   "id": "8948bd65-aa3e-4d4a-965b-63f2d807cbc5",
   "metadata": {},
   "outputs": [
    {
     "data": {
      "text/plain": [
       "<list_iterator at 0x103f634c0>"
      ]
     },
     "execution_count": 27,
     "metadata": {},
     "output_type": "execute_result"
    }
   ],
   "source": [
    "list_res"
   ]
  },
  {
   "cell_type": "code",
   "execution_count": 30,
   "id": "f5977930-da2d-4c2b-b21e-0667c5472062",
   "metadata": {},
   "outputs": [
    {
     "name": "stdout",
     "output_type": "stream",
     "text": [
      "<list_iterator object at 0x103f634c0>\n"
     ]
    }
   ],
   "source": [
    "print(list_res)"
   ]
  },
  {
   "cell_type": "code",
   "execution_count": 47,
   "id": "af614d2e-cddd-444e-8865-881709a3fd27",
   "metadata": {},
   "outputs": [],
   "source": [
    "class Fib:\n",
    "    def __init__(self, max):\n",
    "        self.max = max\n",
    "    def __iter__(self):\n",
    "        print('__iter__ called')\n",
    "        self.a = 0\n",
    "        self.b = 1\n",
    "        return self\n",
    "    def __next__(self):\n",
    "        print('__next__called')\n",
    "        fib = self.a\n",
    "        if fib>self.max:\n",
    "            raise StopIteration\n",
    "        self.a, self.b = self.b, self.a+self.b\n",
    "        return fib\n",
    "    "
   ]
  },
  {
   "cell_type": "code",
   "execution_count": 48,
   "id": "ad7d5221-7f93-4657-a0c1-2baeb6328956",
   "metadata": {},
   "outputs": [
    {
     "name": "stdout",
     "output_type": "stream",
     "text": [
      "__iter__ called\n",
      "__next__called\n",
      "0\n",
      "__next__called\n",
      "1\n",
      "__next__called\n",
      "1\n",
      "__next__called\n",
      "2\n",
      "__next__called\n",
      "3\n",
      "__next__called\n"
     ]
    }
   ],
   "source": [
    "for i in Fib(3):\n",
    "    print(i)"
   ]
  },
  {
   "cell_type": "code",
   "execution_count": 39,
   "id": "ae194882-1803-4276-998f-933440d7eed8",
   "metadata": {},
   "outputs": [],
   "source": [
    "class Fib:\n",
    "    def __init__(self, max):\n",
    "        self.max = max\n",
    "    def __iter__(self):\n",
    "        print('__iter__ called')\n",
    "        self.a = 0\n",
    "        self.b = 1\n",
    "        return self\n",
    "    def __next__(self):\n",
    "        print('__next__ called')\n",
    "        fib = self.a\n",
    "        if fib > self.max:\n",
    "            raise StopIteration\n",
    "        self.a, self.b = self.b, self.a + self.b\n",
    "        return fib\n"
   ]
  },
  {
   "cell_type": "code",
   "execution_count": 40,
   "id": "f17b58b7-db3f-4ced-9669-59f6ddc8b68d",
   "metadata": {},
   "outputs": [
    {
     "name": "stdout",
     "output_type": "stream",
     "text": [
      "__iter__ called\n",
      "__next__ called\n",
      "0\n",
      "__next__ called\n",
      "1\n",
      "__next__ called\n",
      "1\n",
      "__next__ called\n",
      "2\n",
      "__next__ called\n",
      "3\n",
      "__next__ called\n"
     ]
    }
   ],
   "source": [
    "for i in Fib(3):\n",
    "    print(i)\n",
    "# 输出\n"
   ]
  },
  {
   "cell_type": "code",
   "execution_count": 49,
   "id": "0b56dcd0-764d-4297-867c-3e64e68faa26",
   "metadata": {},
   "outputs": [],
   "source": [
    "#给定首项a1，步长为d，返回末尾项最接近n的一个等差数列\n",
    "class dengcha:\n",
    "    def __init__(self, n):\n",
    "        self.n = n\n",
    "    def __iter__(self):\n",
    "        self.a1 = 2\n",
    "        self.bc = 3\n",
    "        self.last = 0\n",
    "        return self\n",
    "    def __next__(self):\n",
    "        print('等差数列之和')\n",
    "        sum = 0\n",
    "        sum = sum+self.a1\n",
    "        self.a1 = self.a1+self.bc\n",
    "        if self.a1>= self.n:\n",
    "            raise StopIteration\n",
    "        return sum\n",
    "            \n",
    "        \n",
    "        "
   ]
  },
  {
   "cell_type": "code",
   "execution_count": 50,
   "id": "a3f249f7-8c53-4216-911a-abd1cff4457e",
   "metadata": {},
   "outputs": [
    {
     "data": {
      "text/plain": [
       "<__main__.dengcha at 0x104107990>"
      ]
     },
     "execution_count": 50,
     "metadata": {},
     "output_type": "execute_result"
    }
   ],
   "source": [
    "dengcha(100)"
   ]
  },
  {
   "cell_type": "code",
   "execution_count": 51,
   "id": "ffe988af-1a3e-441d-bfea-b5bab376d905",
   "metadata": {},
   "outputs": [
    {
     "name": "stdout",
     "output_type": "stream",
     "text": [
      "<__main__.dengcha object at 0x1041047d0>\n"
     ]
    }
   ],
   "source": [
    "print(dengcha(100))"
   ]
  },
  {
   "cell_type": "code",
   "execution_count": 52,
   "id": "e2c8f81f-f068-4c58-a9bb-2537dce3a895",
   "metadata": {},
   "outputs": [
    {
     "name": "stdout",
     "output_type": "stream",
     "text": [
      "等差数列之和\n",
      "2\n",
      "等差数列之和\n",
      "5\n",
      "等差数列之和\n",
      "8\n",
      "等差数列之和\n",
      "11\n",
      "等差数列之和\n",
      "14\n",
      "等差数列之和\n",
      "17\n",
      "等差数列之和\n",
      "20\n",
      "等差数列之和\n",
      "23\n",
      "等差数列之和\n",
      "26\n",
      "等差数列之和\n",
      "29\n",
      "等差数列之和\n",
      "32\n",
      "等差数列之和\n",
      "35\n",
      "等差数列之和\n",
      "38\n",
      "等差数列之和\n",
      "41\n",
      "等差数列之和\n",
      "44\n",
      "等差数列之和\n",
      "47\n",
      "等差数列之和\n",
      "50\n",
      "等差数列之和\n",
      "53\n",
      "等差数列之和\n",
      "56\n",
      "等差数列之和\n",
      "59\n",
      "等差数列之和\n",
      "62\n",
      "等差数列之和\n",
      "65\n",
      "等差数列之和\n",
      "68\n",
      "等差数列之和\n",
      "71\n",
      "等差数列之和\n",
      "74\n",
      "等差数列之和\n",
      "77\n",
      "等差数列之和\n",
      "80\n",
      "等差数列之和\n",
      "83\n",
      "等差数列之和\n",
      "86\n",
      "等差数列之和\n",
      "89\n",
      "等差数列之和\n",
      "92\n",
      "等差数列之和\n",
      "95\n",
      "等差数列之和\n"
     ]
    }
   ],
   "source": [
    "for i in dengcha(100):\n",
    "    print(i)"
   ]
  },
  {
   "cell_type": "code",
   "execution_count": 1,
   "id": "c6b84b85-478e-4644-b0d4-5b96386bd218",
   "metadata": {},
   "outputs": [
    {
     "name": "stdout",
     "output_type": "stream",
     "text": [
      "<filter object at 0x105024460>\n",
      "[2, 4]\n"
     ]
    }
   ],
   "source": [
    "def is_even(x):\n",
    "    return x % 2 == 0\n",
    "\n",
    "numbers = [1, 2, 3, 4, 5]\n",
    "even_numbers = filter(is_even, numbers)\n",
    "print(even_numbers)  # 这将输出<filter object at 0x1071595a0>\n",
    "print(list(even_numbers))  # 这将输出[2, 4]"
   ]
  },
  {
   "cell_type": "code",
   "execution_count": null,
   "id": "8c78a7c5-eebf-4fe4-8421-8a0424d76ccc",
   "metadata": {},
   "outputs": [],
   "source": []
  }
 ],
 "metadata": {
  "kernelspec": {
   "display_name": "Python 3 (ipykernel)",
   "language": "python",
   "name": "python3"
  },
  "language_info": {
   "codemirror_mode": {
    "name": "ipython",
    "version": 3
   },
   "file_extension": ".py",
   "mimetype": "text/x-python",
   "name": "python",
   "nbconvert_exporter": "python",
   "pygments_lexer": "ipython3",
   "version": "3.11.1"
  }
 },
 "nbformat": 4,
 "nbformat_minor": 5
}
