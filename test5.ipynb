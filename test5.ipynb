{
 "cells": [
  {
   "cell_type": "code",
   "execution_count": 1,
   "id": "e2d12f77-bfdd-4abd-a405-4d41d5c55d9b",
   "metadata": {},
   "outputs": [],
   "source": [
    "import numpy as np"
   ]
  },
  {
   "cell_type": "code",
   "execution_count": 2,
   "id": "eee5e9d6-ac4e-4ab7-a4e6-cf9f52127a2f",
   "metadata": {},
   "outputs": [],
   "source": [
    "import pandas as pd"
   ]
  },
  {
   "cell_type": "code",
   "execution_count": 3,
   "id": "1a2c0213-5ab1-4228-8162-94314e90f463",
   "metadata": {},
   "outputs": [],
   "source": [
    "num_users = 1000\n",
    "num_days = 14\n",
    "visit_rate = 0.5\n",
    "treat_rate = 0.05\n",
    "geometric_rate = 0.1\n",
    "p_a = 0.03\n",
    "p_b = 0.07"
   ]
  },
  {
   "cell_type": "code",
   "execution_count": 23,
   "id": "0793f552-6680-49cd-b2be-dca3a7b28a1f",
   "metadata": {},
   "outputs": [],
   "source": [
    "is_treat = np.random.choice([0, 1], size = 1000, p = [1 - treat_rate, treat_rate])"
   ]
  },
  {
   "cell_type": "code",
   "execution_count": 16,
   "id": "4b16f530-ef98-45fc-aa2b-62dc33183f2a",
   "metadata": {},
   "outputs": [],
   "source": [
    "assign = pd.Series(users == True)"
   ]
  },
  {
   "cell_type": "code",
   "execution_count": 17,
   "id": "0d7585ef-f486-415b-9965-b2e26b683238",
   "metadata": {},
   "outputs": [
    {
     "data": {
      "text/plain": [
       "0      False\n",
       "1      False\n",
       "2      False\n",
       "3      False\n",
       "4      False\n",
       "       ...  \n",
       "995    False\n",
       "996    False\n",
       "997    False\n",
       "998    False\n",
       "999    False\n",
       "Length: 1000, dtype: bool"
      ]
     },
     "execution_count": 17,
     "metadata": {},
     "output_type": "execute_result"
    }
   ],
   "source": [
    "assign"
   ]
  },
  {
   "cell_type": "code",
   "execution_count": 29,
   "id": "c4a808b5-fa44-4dc7-9f92-bb4402818fc3",
   "metadata": {},
   "outputs": [],
   "source": [
    "visits = np.random.choice([0, 1], size = (num_users, num_days), p = [1 - visit_rate, visit_rate])"
   ]
  },
  {
   "cell_type": "code",
   "execution_count": 30,
   "id": "98d5f702-a6bb-48a3-b858-54e72d6d3a36",
   "metadata": {},
   "outputs": [],
   "source": [
    "views = np.zeros([num_users, num_days])"
   ]
  },
  {
   "cell_type": "code",
   "execution_count": 34,
   "id": "e85d3b6f-81a6-40f5-b710-41678a4c96ca",
   "metadata": {},
   "outputs": [],
   "source": [
    "for i in range(num_users):\n",
    "    for j in range(num_days):\n",
    "        views[i, j] = np.random.geometric(geometric_rate)"
   ]
  },
  {
   "cell_type": "code",
   "execution_count": 35,
   "id": "4aff8184-2773-4273-9434-f402689fb932",
   "metadata": {},
   "outputs": [],
   "source": [
    "clicks = np.zeros([num_users, num_days])"
   ]
  },
  {
   "cell_type": "code",
   "execution_count": 40,
   "id": "7b57e122-4b49-49ba-8538-e7a833c112f3",
   "metadata": {},
   "outputs": [],
   "source": [
    "for i in range(num_users):\n",
    "    for j in range(num_days):\n",
    "        if visits[i, j] == 1:\n",
    "            if is_treat[i] == 1:\n",
    "                clicks[i, j] = np.random.binomial(n = views[i, j], p = p_b)\n",
    "            else:\n",
    "                clicks[i, j] = np.random.binomial(n = views[i, j], p = p_a)\n",
    "                "
   ]
  },
  {
   "cell_type": "code",
   "execution_count": 41,
   "id": "ff2a42ad-d9c6-4ed4-b7a8-9354ad3302c7",
   "metadata": {},
   "outputs": [],
   "source": [
    "# wrangling data"
   ]
  },
  {
   "cell_type": "code",
   "execution_count": 43,
   "id": "42d9ce32-c680-4481-adfa-11ef4a19af2f",
   "metadata": {},
   "outputs": [],
   "source": [
    "import json"
   ]
  },
  {
   "cell_type": "code",
   "execution_count": 44,
   "id": "dd2aa8c2-0fc4-462a-baac-69186d0302c3",
   "metadata": {},
   "outputs": [],
   "source": [
    "with open('singapore_twitter_copy.json', 'r') as f:\n",
    "    dat = json.load(f)"
   ]
  },
  {
   "cell_type": "code",
   "execution_count": 65,
   "id": "8146e747-fc24-4b64-af7c-067401120a9d",
   "metadata": {},
   "outputs": [],
   "source": [
    "#dat"
   ]
  },
  {
   "cell_type": "code",
   "execution_count": 48,
   "id": "14354e03-b6cc-4adf-9882-e7d979670bae",
   "metadata": {},
   "outputs": [
    {
     "data": {
      "text/plain": [
       "list"
      ]
     },
     "execution_count": 48,
     "metadata": {},
     "output_type": "execute_result"
    }
   ],
   "source": [
    "type(dat)"
   ]
  },
  {
   "cell_type": "code",
   "execution_count": 49,
   "id": "b425eae8-fa99-48bc-99cf-05a2b22d9602",
   "metadata": {},
   "outputs": [
    {
     "data": {
      "text/plain": [
       "13740"
      ]
     },
     "execution_count": 49,
     "metadata": {},
     "output_type": "execute_result"
    }
   ],
   "source": [
    "len(dat)"
   ]
  },
  {
   "cell_type": "code",
   "execution_count": 50,
   "id": "4aa17a6d-d79c-4c9f-8b85-95edac37629d",
   "metadata": {},
   "outputs": [
    {
     "data": {
      "text/plain": [
       "{'referenced_tweets': [{'type': 'replied_to', 'id': '1491816184240480284'}],\n",
       " 'id': '1491816347117916162',\n",
       " 'in_reply_to_user_id': '204970988',\n",
       " 'reply_settings': 'everyone',\n",
       " 'entities': {'mentions': [{'start': 0,\n",
       "    'end': 12,\n",
       "    'username': 'QuantoQuant',\n",
       "    'id': '4332053537'}],\n",
       "  'annotations': [{'start': 241,\n",
       "    'end': 249,\n",
       "    'probability': 0.8172,\n",
       "    'type': 'Place',\n",
       "    'normalized_text': 'singapore'}]},\n",
       " 'text': \"@QuantoQuant I don't think we should have death penalty for dealers, but at the very least I think they should be deported if they are here illegally. Alternatively, I think they should go to prison for involuntary manslaughter. \\n\\nI believe singapore has only had a few dozen put to death.\",\n",
       " 'source': 'Twitter Web App',\n",
       " 'created_at': '2022-02-10T16:48:28.000Z',\n",
       " 'public_metrics': {'retweet_count': 0,\n",
       "  'reply_count': 1,\n",
       "  'like_count': 2,\n",
       "  'quote_count': 0},\n",
       " 'author_id': '204970988'}"
      ]
     },
     "execution_count": 50,
     "metadata": {},
     "output_type": "execute_result"
    }
   ],
   "source": [
    "dat[0]"
   ]
  },
  {
   "cell_type": "code",
   "execution_count": 51,
   "id": "cd349480-a008-45a4-9f2f-2e3ad518044c",
   "metadata": {},
   "outputs": [],
   "source": [
    "sample = dat[0]"
   ]
  },
  {
   "cell_type": "code",
   "execution_count": null,
   "id": "c5361464-0e13-45c1-a032-6db9c07ddeab",
   "metadata": {},
   "outputs": [],
   "source": []
  },
  {
   "cell_type": "code",
   "execution_count": null,
   "id": "e097e794-56ba-487c-ab0a-03afb507b3cf",
   "metadata": {},
   "outputs": [],
   "source": []
  },
  {
   "cell_type": "code",
   "execution_count": 52,
   "id": "f7dc41da-d56f-40df-a56e-e78e40620a70",
   "metadata": {},
   "outputs": [
    {
     "data": {
      "text/plain": [
       "dict"
      ]
     },
     "execution_count": 52,
     "metadata": {},
     "output_type": "execute_result"
    }
   ],
   "source": [
    "type(sample)"
   ]
  },
  {
   "cell_type": "code",
   "execution_count": 53,
   "id": "0827bb88-b210-46ff-819a-7147417a2d68",
   "metadata": {},
   "outputs": [
    {
     "data": {
      "text/plain": [
       "10"
      ]
     },
     "execution_count": 53,
     "metadata": {},
     "output_type": "execute_result"
    }
   ],
   "source": [
    "len(sample)"
   ]
  },
  {
   "cell_type": "code",
   "execution_count": null,
   "id": "ab4b376a-fb06-48c8-b80a-dd0a824d1ad7",
   "metadata": {},
   "outputs": [],
   "source": []
  },
  {
   "cell_type": "code",
   "execution_count": 54,
   "id": "343e657c-61cd-4d34-a1c6-e32ba962c8fc",
   "metadata": {},
   "outputs": [
    {
     "data": {
      "text/plain": [
       "dict_keys(['referenced_tweets', 'id', 'in_reply_to_user_id', 'reply_settings', 'entities', 'text', 'source', 'created_at', 'public_metrics', 'author_id'])"
      ]
     },
     "execution_count": 54,
     "metadata": {},
     "output_type": "execute_result"
    }
   ],
   "source": [
    "sample.keys()"
   ]
  },
  {
   "cell_type": "code",
   "execution_count": 57,
   "id": "af8cb952-5ad7-4cff-a7ef-006a2ae9c347",
   "metadata": {},
   "outputs": [],
   "source": [
    "rows = []\n",
    "for treet in dat:\n",
    "    row = {'author_id' : treet['author_id'],\n",
    "            'created_at' : treet['created_at']}\n",
    "    rows.append(row)"
   ]
  },
  {
   "cell_type": "code",
   "execution_count": 66,
   "id": "a0aed5a9-efdd-4ee1-9ac1-78d67418cf2f",
   "metadata": {},
   "outputs": [],
   "source": [
    "#rows"
   ]
  },
  {
   "cell_type": "code",
   "execution_count": 59,
   "id": "4ed308f1-966b-476e-a94f-61742cc2d6f9",
   "metadata": {},
   "outputs": [],
   "source": [
    "df = pd.DataFrame(rows)"
   ]
  },
  {
   "cell_type": "code",
   "execution_count": 60,
   "id": "54885b6b-446c-4c00-8b18-a59c2f4fa4ff",
   "metadata": {},
   "outputs": [
    {
     "data": {
      "text/html": [
       "<div>\n",
       "<style scoped>\n",
       "    .dataframe tbody tr th:only-of-type {\n",
       "        vertical-align: middle;\n",
       "    }\n",
       "\n",
       "    .dataframe tbody tr th {\n",
       "        vertical-align: top;\n",
       "    }\n",
       "\n",
       "    .dataframe thead th {\n",
       "        text-align: right;\n",
       "    }\n",
       "</style>\n",
       "<table border=\"1\" class=\"dataframe\">\n",
       "  <thead>\n",
       "    <tr style=\"text-align: right;\">\n",
       "      <th></th>\n",
       "      <th>author_id</th>\n",
       "      <th>created_at</th>\n",
       "    </tr>\n",
       "  </thead>\n",
       "  <tbody>\n",
       "    <tr>\n",
       "      <th>0</th>\n",
       "      <td>204970988</td>\n",
       "      <td>2022-02-10T16:48:28.000Z</td>\n",
       "    </tr>\n",
       "    <tr>\n",
       "      <th>1</th>\n",
       "      <td>1459920226385027086</td>\n",
       "      <td>2022-02-10T16:38:45.000Z</td>\n",
       "    </tr>\n",
       "    <tr>\n",
       "      <th>2</th>\n",
       "      <td>840441380652556288</td>\n",
       "      <td>2022-02-10T02:44:41.000Z</td>\n",
       "    </tr>\n",
       "    <tr>\n",
       "      <th>3</th>\n",
       "      <td>1388529837833392132</td>\n",
       "      <td>2022-02-10T17:14:16.000Z</td>\n",
       "    </tr>\n",
       "    <tr>\n",
       "      <th>4</th>\n",
       "      <td>1197328734417588224</td>\n",
       "      <td>2022-02-10T17:14:14.000Z</td>\n",
       "    </tr>\n",
       "    <tr>\n",
       "      <th>...</th>\n",
       "      <td>...</td>\n",
       "      <td>...</td>\n",
       "    </tr>\n",
       "    <tr>\n",
       "      <th>13735</th>\n",
       "      <td>1233528932638642176</td>\n",
       "      <td>2022-02-10T02:36:18.000Z</td>\n",
       "    </tr>\n",
       "    <tr>\n",
       "      <th>13736</th>\n",
       "      <td>1363596002100449282</td>\n",
       "      <td>2022-02-10T02:36:15.000Z</td>\n",
       "    </tr>\n",
       "    <tr>\n",
       "      <th>13737</th>\n",
       "      <td>893718644084977664</td>\n",
       "      <td>2022-02-10T02:36:01.000Z</td>\n",
       "    </tr>\n",
       "    <tr>\n",
       "      <th>13738</th>\n",
       "      <td>1329485154591576074</td>\n",
       "      <td>2022-02-10T02:35:52.000Z</td>\n",
       "    </tr>\n",
       "    <tr>\n",
       "      <th>13739</th>\n",
       "      <td>25491333</td>\n",
       "      <td>2022-02-10T01:28:26.000Z</td>\n",
       "    </tr>\n",
       "  </tbody>\n",
       "</table>\n",
       "<p>13740 rows × 2 columns</p>\n",
       "</div>"
      ],
      "text/plain": [
       "                 author_id                created_at\n",
       "0                204970988  2022-02-10T16:48:28.000Z\n",
       "1      1459920226385027086  2022-02-10T16:38:45.000Z\n",
       "2       840441380652556288  2022-02-10T02:44:41.000Z\n",
       "3      1388529837833392132  2022-02-10T17:14:16.000Z\n",
       "4      1197328734417588224  2022-02-10T17:14:14.000Z\n",
       "...                    ...                       ...\n",
       "13735  1233528932638642176  2022-02-10T02:36:18.000Z\n",
       "13736  1363596002100449282  2022-02-10T02:36:15.000Z\n",
       "13737   893718644084977664  2022-02-10T02:36:01.000Z\n",
       "13738  1329485154591576074  2022-02-10T02:35:52.000Z\n",
       "13739             25491333  2022-02-10T01:28:26.000Z\n",
       "\n",
       "[13740 rows x 2 columns]"
      ]
     },
     "execution_count": 60,
     "metadata": {},
     "output_type": "execute_result"
    }
   ],
   "source": [
    "df"
   ]
  },
  {
   "cell_type": "code",
   "execution_count": 62,
   "id": "8bf080ed-581f-4c35-ad3f-35c976d1676b",
   "metadata": {},
   "outputs": [],
   "source": [
    "df_cnt = df.author_id.value_counts()"
   ]
  },
  {
   "cell_type": "code",
   "execution_count": 63,
   "id": "a3fc5d9f-9464-4116-9552-8c1146ac79d0",
   "metadata": {},
   "outputs": [
    {
     "data": {
      "text/plain": [
       "author_id\n",
       "881903898243473409     145\n",
       "2855329598              43\n",
       "34565395                42\n",
       "922256694               38\n",
       "711460194862018560      36\n",
       "                      ... \n",
       "859424754                1\n",
       "383179790                1\n",
       "1410769844836855812      1\n",
       "1081938217597685760      1\n",
       "67608195                 1\n",
       "Name: count, Length: 10557, dtype: int64"
      ]
     },
     "execution_count": 63,
     "metadata": {},
     "output_type": "execute_result"
    }
   ],
   "source": [
    "df_cnt"
   ]
  },
  {
   "cell_type": "code",
   "execution_count": 67,
   "id": "95af2f9f-fa06-496c-aa99-8e4f2727a271",
   "metadata": {},
   "outputs": [
    {
     "name": "stdout",
     "output_type": "stream",
     "text": [
      "there are repeated authors\n"
     ]
    }
   ],
   "source": [
    "# 判断是否有重复的作者：\n",
    "if (df_cnt > 1).any():\n",
    "    print('there are repeated authors')\n",
    "else:\n",
    "    print('no repeated authors')"
   ]
  },
  {
   "cell_type": "code",
   "execution_count": null,
   "id": "2928460f-968e-43a7-910f-503f5fafda09",
   "metadata": {},
   "outputs": [],
   "source": []
  },
  {
   "cell_type": "code",
   "execution_count": 64,
   "id": "b941ea2a-d1a9-4d08-9262-0d1d7d26aecd",
   "metadata": {},
   "outputs": [],
   "source": [
    "# yes have repeated authors"
   ]
  },
  {
   "cell_type": "code",
   "execution_count": 81,
   "id": "9fb22c37-dfe4-4320-a85e-4635f535c7d6",
   "metadata": {},
   "outputs": [],
   "source": [
    "from datetime import datetime"
   ]
  },
  {
   "cell_type": "code",
   "execution_count": 82,
   "id": "d8c7c7c3-da71-4cc3-8097-7127e91bebd9",
   "metadata": {},
   "outputs": [],
   "source": [
    "date_str = df.created_at[1]"
   ]
  },
  {
   "cell_type": "code",
   "execution_count": 83,
   "id": "59f4670e-a7fc-4d3b-a470-08d45b1f5e92",
   "metadata": {},
   "outputs": [
    {
     "data": {
      "text/plain": [
       "'2022-02-10T16:38:45.000Z'"
      ]
     },
     "execution_count": 83,
     "metadata": {},
     "output_type": "execute_result"
    }
   ],
   "source": [
    "date_str"
   ]
  },
  {
   "cell_type": "code",
   "execution_count": 88,
   "id": "628e51db-cc9d-4deb-b96a-51a704a8e534",
   "metadata": {},
   "outputs": [],
   "source": [
    "date_format = '%Y-%m-%dT%H:%M:%S.000Z'"
   ]
  },
  {
   "cell_type": "code",
   "execution_count": 89,
   "id": "da39dbbc-fe49-4a9d-a357-b2e1ee47b6c7",
   "metadata": {},
   "outputs": [],
   "source": [
    "time1 = datetime.strptime(df.created_at.max(), date_format)"
   ]
  },
  {
   "cell_type": "code",
   "execution_count": 90,
   "id": "9891a372-e399-4d7d-adbc-39deadcb30e1",
   "metadata": {},
   "outputs": [
    {
     "data": {
      "text/plain": [
       "datetime.datetime(2022, 2, 10, 17, 14, 16)"
      ]
     },
     "execution_count": 90,
     "metadata": {},
     "output_type": "execute_result"
    }
   ],
   "source": [
    "time1"
   ]
  },
  {
   "cell_type": "code",
   "execution_count": 91,
   "id": "9f26afa1-4ac6-4904-afad-d4794af631bb",
   "metadata": {},
   "outputs": [],
   "source": [
    "time2 = datetime.strptime(df.created_at.min(), date_format)"
   ]
  },
  {
   "cell_type": "code",
   "execution_count": 92,
   "id": "4aa2b6a2-37c4-4e31-97e6-48b02c2a459f",
   "metadata": {},
   "outputs": [
    {
     "data": {
      "text/plain": [
       "datetime.datetime(2022, 2, 10, 1, 28, 26)"
      ]
     },
     "execution_count": 92,
     "metadata": {},
     "output_type": "execute_result"
    }
   ],
   "source": [
    "time2"
   ]
  },
  {
   "cell_type": "code",
   "execution_count": 93,
   "id": "4158d5bd-580b-41cd-93e8-001a199ce207",
   "metadata": {},
   "outputs": [
    {
     "data": {
      "text/plain": [
       "datetime.timedelta(seconds=56750)"
      ]
     },
     "execution_count": 93,
     "metadata": {},
     "output_type": "execute_result"
    }
   ],
   "source": [
    "#代表最早和最晚的两条twitter之间相隔了多少秒？\n",
    "time1 - time2"
   ]
  },
  {
   "cell_type": "code",
   "execution_count": 94,
   "id": "a6c04b4e-503c-422f-8987-fbf43e1f3297",
   "metadata": {},
   "outputs": [],
   "source": [
    "# Please wrangle the data so we can look at the number of tweets/retweets for each entity over the different hours in the day."
   ]
  },
  {
   "cell_type": "code",
   "execution_count": 95,
   "id": "f25c19d7-4417-4f44-aca8-5fe9b1e4a714",
   "metadata": {},
   "outputs": [],
   "source": [
    "# get the entities"
   ]
  },
  {
   "cell_type": "code",
   "execution_count": 96,
   "id": "00efcd52-2ade-45e2-a665-36bb3340bfdc",
   "metadata": {},
   "outputs": [],
   "source": [
    "keys_set = set()"
   ]
  },
  {
   "cell_type": "code",
   "execution_count": 100,
   "id": "d3339ef3-2502-450e-b053-787712383eda",
   "metadata": {},
   "outputs": [],
   "source": [
    "for tweet in dat:\n",
    "    if 'entities' not in tweet:\n",
    "        continue\n",
    "    keys = tweet['entities'].keys()\n",
    "    keys_str = {str(k) for k in keys}\n",
    "    keys_set.update(keys_str)"
   ]
  },
  {
   "cell_type": "code",
   "execution_count": 101,
   "id": "98fb84a6-a8dc-41ce-b9ba-a1c5a067f370",
   "metadata": {},
   "outputs": [
    {
     "data": {
      "text/plain": [
       "{'annotations', 'cashtags', 'hashtags', 'mentions', 'urls'}"
      ]
     },
     "execution_count": 101,
     "metadata": {},
     "output_type": "execute_result"
    }
   ],
   "source": [
    "keys_set"
   ]
  },
  {
   "cell_type": "code",
   "execution_count": 164,
   "id": "95d65733-f7b9-4f0f-af40-0e9b479f8adc",
   "metadata": {},
   "outputs": [],
   "source": [
    "entity_types = {'urls': 'url',  'annotations': 'normalized_text', 'hashtags': 'tag', 'chashtag': 'tag', 'mentions': 'id'}"
   ]
  },
  {
   "cell_type": "code",
   "execution_count": 146,
   "id": "ca2becd8-4d58-4918-9fc5-150718205885",
   "metadata": {},
   "outputs": [],
   "source": [
    "tweet = dat[3]"
   ]
  },
  {
   "cell_type": "code",
   "execution_count": 147,
   "id": "f99640c8-c478-4086-a566-faa53441f6e0",
   "metadata": {},
   "outputs": [
    {
     "data": {
      "text/plain": [
       "dict_keys(['urls', 'hashtags', 'mentions'])"
      ]
     },
     "execution_count": 147,
     "metadata": {},
     "output_type": "execute_result"
    }
   ],
   "source": [
    "tweet['entities'].keys()"
   ]
  },
  {
   "cell_type": "code",
   "execution_count": 148,
   "id": "fe6be4d5-0bfc-40fd-843f-5b9ff935c0f2",
   "metadata": {},
   "outputs": [
    {
     "data": {
      "text/plain": [
       "{'urls': [{'start': 101,\n",
       "   'end': 124,\n",
       "   'url': 'https://t.co/XvCwymEI4M',\n",
       "   'expanded_url': 'http://music.apple.com/fr/album/wannabe/1501233592?i=1501233595&l=en',\n",
       "   'display_url': 'music.apple.com/fr/album/wanna…'}],\n",
       " 'hashtags': [{'start': 76, 'end': 81, 'tag': 'ITZY'},\n",
       "  {'start': 82, 'end': 85, 'tag': '있지'}],\n",
       " 'mentions': [{'start': 3,\n",
       "   'end': 17,\n",
       "   'username': 'chartdataITZY',\n",
       "   'id': '1424402800054841351'},\n",
       "  {'start': 86,\n",
       "   'end': 99,\n",
       "   'username': 'ITZYofficial',\n",
       "   'id': '1062578718214770688'}]}"
      ]
     },
     "execution_count": 148,
     "metadata": {},
     "output_type": "execute_result"
    }
   ],
   "source": [
    "tweet['entities']"
   ]
  },
  {
   "cell_type": "code",
   "execution_count": 149,
   "id": "2ad93966-cc84-454d-b2cd-5f47849427ae",
   "metadata": {},
   "outputs": [
    {
     "data": {
      "text/plain": [
       "[{'start': 76, 'end': 81, 'tag': 'ITZY'},\n",
       " {'start': 82, 'end': 85, 'tag': '있지'}]"
      ]
     },
     "execution_count": 149,
     "metadata": {},
     "output_type": "execute_result"
    }
   ],
   "source": [
    "tweet['entities']['hashtags']"
   ]
  },
  {
   "cell_type": "code",
   "execution_count": 156,
   "id": "e9f86f85-13d2-481c-b37b-18c622972589",
   "metadata": {},
   "outputs": [
    {
     "data": {
      "text/plain": [
       "'ITZY'"
      ]
     },
     "execution_count": 156,
     "metadata": {},
     "output_type": "execute_result"
    }
   ],
   "source": [
    "tweet['entities']['hashtags'][0]['tag']"
   ]
  },
  {
   "cell_type": "code",
   "execution_count": 157,
   "id": "b0071df2-5e2e-4a26-b6a8-42378cb301f5",
   "metadata": {},
   "outputs": [
    {
     "data": {
      "text/plain": [
       "['tag']"
      ]
     },
     "execution_count": 157,
     "metadata": {},
     "output_type": "execute_result"
    }
   ],
   "source": [
    "[entity_types['hashtags']]"
   ]
  },
  {
   "cell_type": "code",
   "execution_count": 158,
   "id": "94611e24-b520-400f-a084-1654eb007583",
   "metadata": {},
   "outputs": [
    {
     "data": {
      "text/plain": [
       "[{'start': 21, 'end': 31, 'tag': 'TheBatman'}]"
      ]
     },
     "execution_count": 158,
     "metadata": {},
     "output_type": "execute_result"
    }
   ],
   "source": [
    "k"
   ]
  },
  {
   "cell_type": "code",
   "execution_count": 168,
   "id": "ae2974d6-53ad-4ce3-80ad-27cd41da57e6",
   "metadata": {},
   "outputs": [],
   "source": [
    "bag = []\n",
    "for tweet in dat:\n",
    "    tweet_bag = {}\n",
    "    if 'entities' not in tweet:\n",
    "        continue\n",
    "    for entity_type in entity_types:\n",
    "        if entity_type not in tweet['entities']:\n",
    "            continue\n",
    "        list_of_entities_one_type = tweet['entities'][entity_type]\n",
    "        for entity in list_of_entities_one_type:\n",
    "            tweet_bag.update({entity[entity_types[entity_type]] : 1})\n",
    "    bag.append(tweet_bag)"
   ]
  },
  {
   "cell_type": "code",
   "execution_count": 187,
   "id": "417e4278-1635-4ffc-8cf2-cda93e409771",
   "metadata": {},
   "outputs": [],
   "source": [
    "#bag"
   ]
  },
  {
   "cell_type": "code",
   "execution_count": 161,
   "id": "95e35a7b-9904-4bcf-bab0-78c9043cd8a1",
   "metadata": {},
   "outputs": [],
   "source": [
    "dff = pd.DataFrame(bag)"
   ]
  },
  {
   "cell_type": "code",
   "execution_count": 162,
   "id": "f02733d1-0895-44ca-a52b-a63a11f0c2b1",
   "metadata": {},
   "outputs": [
    {
     "data": {
      "text/html": [
       "<div>\n",
       "<style scoped>\n",
       "    .dataframe tbody tr th:only-of-type {\n",
       "        vertical-align: middle;\n",
       "    }\n",
       "\n",
       "    .dataframe tbody tr th {\n",
       "        vertical-align: top;\n",
       "    }\n",
       "\n",
       "    .dataframe thead th {\n",
       "        text-align: right;\n",
       "    }\n",
       "</style>\n",
       "<table border=\"1\" class=\"dataframe\">\n",
       "  <thead>\n",
       "    <tr style=\"text-align: right;\">\n",
       "      <th></th>\n",
       "      <th>singapore</th>\n",
       "      <th>4332053537</th>\n",
       "      <th>Singapore</th>\n",
       "      <th>1382974668</th>\n",
       "      <th>Maldives</th>\n",
       "      <th>796153682</th>\n",
       "      <th>https://t.co/XvCwymEI4M</th>\n",
       "      <th>ITZY</th>\n",
       "      <th>있지</th>\n",
       "      <th>1424402800054841351</th>\n",
       "      <th>...</th>\n",
       "      <th>1066368503811207169</th>\n",
       "      <th>https://t.co/uPjn42idzF</th>\n",
       "      <th>https://t.co/NbSGPmN7Pm</th>\n",
       "      <th>https://t.co/9pjGVzE2Q0</th>\n",
       "      <th>MSSTOPTRENDING</th>\n",
       "      <th>1257000250809581568</th>\n",
       "      <th>https://t.co/QhvOO9BTYw</th>\n",
       "      <th>https://t.co/A1ZcA7zxGt</th>\n",
       "      <th>mr Johnson</th>\n",
       "      <th>1470666953920446465</th>\n",
       "    </tr>\n",
       "  </thead>\n",
       "  <tbody>\n",
       "    <tr>\n",
       "      <th>0</th>\n",
       "      <td>1.0</td>\n",
       "      <td>1.0</td>\n",
       "      <td>NaN</td>\n",
       "      <td>NaN</td>\n",
       "      <td>NaN</td>\n",
       "      <td>NaN</td>\n",
       "      <td>NaN</td>\n",
       "      <td>NaN</td>\n",
       "      <td>NaN</td>\n",
       "      <td>NaN</td>\n",
       "      <td>...</td>\n",
       "      <td>NaN</td>\n",
       "      <td>NaN</td>\n",
       "      <td>NaN</td>\n",
       "      <td>NaN</td>\n",
       "      <td>NaN</td>\n",
       "      <td>NaN</td>\n",
       "      <td>NaN</td>\n",
       "      <td>NaN</td>\n",
       "      <td>NaN</td>\n",
       "      <td>NaN</td>\n",
       "    </tr>\n",
       "    <tr>\n",
       "      <th>1</th>\n",
       "      <td>NaN</td>\n",
       "      <td>NaN</td>\n",
       "      <td>1.0</td>\n",
       "      <td>1.0</td>\n",
       "      <td>NaN</td>\n",
       "      <td>NaN</td>\n",
       "      <td>NaN</td>\n",
       "      <td>NaN</td>\n",
       "      <td>NaN</td>\n",
       "      <td>NaN</td>\n",
       "      <td>...</td>\n",
       "      <td>NaN</td>\n",
       "      <td>NaN</td>\n",
       "      <td>NaN</td>\n",
       "      <td>NaN</td>\n",
       "      <td>NaN</td>\n",
       "      <td>NaN</td>\n",
       "      <td>NaN</td>\n",
       "      <td>NaN</td>\n",
       "      <td>NaN</td>\n",
       "      <td>NaN</td>\n",
       "    </tr>\n",
       "    <tr>\n",
       "      <th>2</th>\n",
       "      <td>NaN</td>\n",
       "      <td>NaN</td>\n",
       "      <td>1.0</td>\n",
       "      <td>NaN</td>\n",
       "      <td>1.0</td>\n",
       "      <td>1.0</td>\n",
       "      <td>NaN</td>\n",
       "      <td>NaN</td>\n",
       "      <td>NaN</td>\n",
       "      <td>NaN</td>\n",
       "      <td>...</td>\n",
       "      <td>NaN</td>\n",
       "      <td>NaN</td>\n",
       "      <td>NaN</td>\n",
       "      <td>NaN</td>\n",
       "      <td>NaN</td>\n",
       "      <td>NaN</td>\n",
       "      <td>NaN</td>\n",
       "      <td>NaN</td>\n",
       "      <td>NaN</td>\n",
       "      <td>NaN</td>\n",
       "    </tr>\n",
       "    <tr>\n",
       "      <th>3</th>\n",
       "      <td>NaN</td>\n",
       "      <td>NaN</td>\n",
       "      <td>NaN</td>\n",
       "      <td>NaN</td>\n",
       "      <td>NaN</td>\n",
       "      <td>NaN</td>\n",
       "      <td>1.0</td>\n",
       "      <td>1.0</td>\n",
       "      <td>1.0</td>\n",
       "      <td>1.0</td>\n",
       "      <td>...</td>\n",
       "      <td>NaN</td>\n",
       "      <td>NaN</td>\n",
       "      <td>NaN</td>\n",
       "      <td>NaN</td>\n",
       "      <td>NaN</td>\n",
       "      <td>NaN</td>\n",
       "      <td>NaN</td>\n",
       "      <td>NaN</td>\n",
       "      <td>NaN</td>\n",
       "      <td>NaN</td>\n",
       "    </tr>\n",
       "    <tr>\n",
       "      <th>4</th>\n",
       "      <td>NaN</td>\n",
       "      <td>NaN</td>\n",
       "      <td>NaN</td>\n",
       "      <td>NaN</td>\n",
       "      <td>NaN</td>\n",
       "      <td>NaN</td>\n",
       "      <td>NaN</td>\n",
       "      <td>NaN</td>\n",
       "      <td>NaN</td>\n",
       "      <td>NaN</td>\n",
       "      <td>...</td>\n",
       "      <td>NaN</td>\n",
       "      <td>NaN</td>\n",
       "      <td>NaN</td>\n",
       "      <td>NaN</td>\n",
       "      <td>NaN</td>\n",
       "      <td>NaN</td>\n",
       "      <td>NaN</td>\n",
       "      <td>NaN</td>\n",
       "      <td>NaN</td>\n",
       "      <td>NaN</td>\n",
       "    </tr>\n",
       "    <tr>\n",
       "      <th>...</th>\n",
       "      <td>...</td>\n",
       "      <td>...</td>\n",
       "      <td>...</td>\n",
       "      <td>...</td>\n",
       "      <td>...</td>\n",
       "      <td>...</td>\n",
       "      <td>...</td>\n",
       "      <td>...</td>\n",
       "      <td>...</td>\n",
       "      <td>...</td>\n",
       "      <td>...</td>\n",
       "      <td>...</td>\n",
       "      <td>...</td>\n",
       "      <td>...</td>\n",
       "      <td>...</td>\n",
       "      <td>...</td>\n",
       "      <td>...</td>\n",
       "      <td>...</td>\n",
       "      <td>...</td>\n",
       "      <td>...</td>\n",
       "      <td>...</td>\n",
       "    </tr>\n",
       "    <tr>\n",
       "      <th>13545</th>\n",
       "      <td>NaN</td>\n",
       "      <td>NaN</td>\n",
       "      <td>NaN</td>\n",
       "      <td>NaN</td>\n",
       "      <td>NaN</td>\n",
       "      <td>NaN</td>\n",
       "      <td>NaN</td>\n",
       "      <td>NaN</td>\n",
       "      <td>NaN</td>\n",
       "      <td>NaN</td>\n",
       "      <td>...</td>\n",
       "      <td>NaN</td>\n",
       "      <td>NaN</td>\n",
       "      <td>NaN</td>\n",
       "      <td>NaN</td>\n",
       "      <td>NaN</td>\n",
       "      <td>NaN</td>\n",
       "      <td>NaN</td>\n",
       "      <td>NaN</td>\n",
       "      <td>NaN</td>\n",
       "      <td>NaN</td>\n",
       "    </tr>\n",
       "    <tr>\n",
       "      <th>13546</th>\n",
       "      <td>NaN</td>\n",
       "      <td>NaN</td>\n",
       "      <td>NaN</td>\n",
       "      <td>NaN</td>\n",
       "      <td>NaN</td>\n",
       "      <td>NaN</td>\n",
       "      <td>NaN</td>\n",
       "      <td>NaN</td>\n",
       "      <td>NaN</td>\n",
       "      <td>NaN</td>\n",
       "      <td>...</td>\n",
       "      <td>NaN</td>\n",
       "      <td>NaN</td>\n",
       "      <td>NaN</td>\n",
       "      <td>NaN</td>\n",
       "      <td>NaN</td>\n",
       "      <td>NaN</td>\n",
       "      <td>NaN</td>\n",
       "      <td>NaN</td>\n",
       "      <td>NaN</td>\n",
       "      <td>1.0</td>\n",
       "    </tr>\n",
       "    <tr>\n",
       "      <th>13547</th>\n",
       "      <td>NaN</td>\n",
       "      <td>NaN</td>\n",
       "      <td>1.0</td>\n",
       "      <td>NaN</td>\n",
       "      <td>NaN</td>\n",
       "      <td>NaN</td>\n",
       "      <td>NaN</td>\n",
       "      <td>NaN</td>\n",
       "      <td>NaN</td>\n",
       "      <td>NaN</td>\n",
       "      <td>...</td>\n",
       "      <td>NaN</td>\n",
       "      <td>NaN</td>\n",
       "      <td>NaN</td>\n",
       "      <td>NaN</td>\n",
       "      <td>NaN</td>\n",
       "      <td>NaN</td>\n",
       "      <td>NaN</td>\n",
       "      <td>NaN</td>\n",
       "      <td>NaN</td>\n",
       "      <td>NaN</td>\n",
       "    </tr>\n",
       "    <tr>\n",
       "      <th>13548</th>\n",
       "      <td>NaN</td>\n",
       "      <td>NaN</td>\n",
       "      <td>1.0</td>\n",
       "      <td>NaN</td>\n",
       "      <td>NaN</td>\n",
       "      <td>NaN</td>\n",
       "      <td>NaN</td>\n",
       "      <td>NaN</td>\n",
       "      <td>NaN</td>\n",
       "      <td>NaN</td>\n",
       "      <td>...</td>\n",
       "      <td>NaN</td>\n",
       "      <td>NaN</td>\n",
       "      <td>NaN</td>\n",
       "      <td>NaN</td>\n",
       "      <td>NaN</td>\n",
       "      <td>NaN</td>\n",
       "      <td>NaN</td>\n",
       "      <td>NaN</td>\n",
       "      <td>NaN</td>\n",
       "      <td>NaN</td>\n",
       "    </tr>\n",
       "    <tr>\n",
       "      <th>13549</th>\n",
       "      <td>NaN</td>\n",
       "      <td>NaN</td>\n",
       "      <td>NaN</td>\n",
       "      <td>NaN</td>\n",
       "      <td>NaN</td>\n",
       "      <td>NaN</td>\n",
       "      <td>NaN</td>\n",
       "      <td>NaN</td>\n",
       "      <td>NaN</td>\n",
       "      <td>NaN</td>\n",
       "      <td>...</td>\n",
       "      <td>NaN</td>\n",
       "      <td>NaN</td>\n",
       "      <td>NaN</td>\n",
       "      <td>NaN</td>\n",
       "      <td>NaN</td>\n",
       "      <td>NaN</td>\n",
       "      <td>NaN</td>\n",
       "      <td>NaN</td>\n",
       "      <td>NaN</td>\n",
       "      <td>NaN</td>\n",
       "    </tr>\n",
       "  </tbody>\n",
       "</table>\n",
       "<p>13550 rows × 11682 columns</p>\n",
       "</div>"
      ],
      "text/plain": [
       "       singapore  4332053537  Singapore  1382974668  Maldives  796153682  \\\n",
       "0            1.0         1.0        NaN         NaN       NaN        NaN   \n",
       "1            NaN         NaN        1.0         1.0       NaN        NaN   \n",
       "2            NaN         NaN        1.0         NaN       1.0        1.0   \n",
       "3            NaN         NaN        NaN         NaN       NaN        NaN   \n",
       "4            NaN         NaN        NaN         NaN       NaN        NaN   \n",
       "...          ...         ...        ...         ...       ...        ...   \n",
       "13545        NaN         NaN        NaN         NaN       NaN        NaN   \n",
       "13546        NaN         NaN        NaN         NaN       NaN        NaN   \n",
       "13547        NaN         NaN        1.0         NaN       NaN        NaN   \n",
       "13548        NaN         NaN        1.0         NaN       NaN        NaN   \n",
       "13549        NaN         NaN        NaN         NaN       NaN        NaN   \n",
       "\n",
       "       https://t.co/XvCwymEI4M  ITZY   있지  1424402800054841351  ...  \\\n",
       "0                          NaN   NaN  NaN                  NaN  ...   \n",
       "1                          NaN   NaN  NaN                  NaN  ...   \n",
       "2                          NaN   NaN  NaN                  NaN  ...   \n",
       "3                          1.0   1.0  1.0                  1.0  ...   \n",
       "4                          NaN   NaN  NaN                  NaN  ...   \n",
       "...                        ...   ...  ...                  ...  ...   \n",
       "13545                      NaN   NaN  NaN                  NaN  ...   \n",
       "13546                      NaN   NaN  NaN                  NaN  ...   \n",
       "13547                      NaN   NaN  NaN                  NaN  ...   \n",
       "13548                      NaN   NaN  NaN                  NaN  ...   \n",
       "13549                      NaN   NaN  NaN                  NaN  ...   \n",
       "\n",
       "       1066368503811207169  https://t.co/uPjn42idzF  https://t.co/NbSGPmN7Pm  \\\n",
       "0                      NaN                      NaN                      NaN   \n",
       "1                      NaN                      NaN                      NaN   \n",
       "2                      NaN                      NaN                      NaN   \n",
       "3                      NaN                      NaN                      NaN   \n",
       "4                      NaN                      NaN                      NaN   \n",
       "...                    ...                      ...                      ...   \n",
       "13545                  NaN                      NaN                      NaN   \n",
       "13546                  NaN                      NaN                      NaN   \n",
       "13547                  NaN                      NaN                      NaN   \n",
       "13548                  NaN                      NaN                      NaN   \n",
       "13549                  NaN                      NaN                      NaN   \n",
       "\n",
       "       https://t.co/9pjGVzE2Q0  MSSTOPTRENDING  1257000250809581568  \\\n",
       "0                          NaN             NaN                  NaN   \n",
       "1                          NaN             NaN                  NaN   \n",
       "2                          NaN             NaN                  NaN   \n",
       "3                          NaN             NaN                  NaN   \n",
       "4                          NaN             NaN                  NaN   \n",
       "...                        ...             ...                  ...   \n",
       "13545                      NaN             NaN                  NaN   \n",
       "13546                      NaN             NaN                  NaN   \n",
       "13547                      NaN             NaN                  NaN   \n",
       "13548                      NaN             NaN                  NaN   \n",
       "13549                      NaN             NaN                  NaN   \n",
       "\n",
       "       https://t.co/QhvOO9BTYw  https://t.co/A1ZcA7zxGt  mr Johnson  \\\n",
       "0                          NaN                      NaN         NaN   \n",
       "1                          NaN                      NaN         NaN   \n",
       "2                          NaN                      NaN         NaN   \n",
       "3                          NaN                      NaN         NaN   \n",
       "4                          NaN                      NaN         NaN   \n",
       "...                        ...                      ...         ...   \n",
       "13545                      NaN                      NaN         NaN   \n",
       "13546                      NaN                      NaN         NaN   \n",
       "13547                      NaN                      NaN         NaN   \n",
       "13548                      NaN                      NaN         NaN   \n",
       "13549                      NaN                      NaN         NaN   \n",
       "\n",
       "       1470666953920446465  \n",
       "0                      NaN  \n",
       "1                      NaN  \n",
       "2                      NaN  \n",
       "3                      NaN  \n",
       "4                      NaN  \n",
       "...                    ...  \n",
       "13545                  NaN  \n",
       "13546                  1.0  \n",
       "13547                  NaN  \n",
       "13548                  NaN  \n",
       "13549                  NaN  \n",
       "\n",
       "[13550 rows x 11682 columns]"
      ]
     },
     "execution_count": 162,
     "metadata": {},
     "output_type": "execute_result"
    }
   ],
   "source": [
    "dff"
   ]
  },
  {
   "cell_type": "code",
   "execution_count": 170,
   "id": "194b5f14-1560-4305-beb3-70935f1eb3c3",
   "metadata": {},
   "outputs": [
    {
     "data": {
      "text/plain": [
       "[{'singapore': 1, '4332053537': 1},\n",
       " {'Singapore': 1, '1382974668': 1},\n",
       " {'Singapore': 1, 'Maldives': 1, '796153682': 1}]"
      ]
     },
     "execution_count": 170,
     "metadata": {},
     "output_type": "execute_result"
    }
   ],
   "source": [
    "bag[: 3]"
   ]
  },
  {
   "cell_type": "code",
   "execution_count": 180,
   "id": "d550014f-86ca-48bc-99ef-95ea043b7a3f",
   "metadata": {},
   "outputs": [],
   "source": [
    "tweet = dat[3]"
   ]
  },
  {
   "cell_type": "code",
   "execution_count": 181,
   "id": "967ad5eb-37c0-4a08-8a9e-b1eccbd3f58c",
   "metadata": {},
   "outputs": [
    {
     "data": {
      "text/plain": [
       "{'text': \"RT @chartdataITZY: iTunes Top Songs Singapore 🇸🇬 : \\n\\n#11. 'WANNABE' (NEW) \\n\\n#ITZY #있지 @ITZYofficial \\nhttps://t.co/XvCwymEI4M\",\n",
       " 'id': '1491822838290034693',\n",
       " 'entities': {'urls': [{'start': 101,\n",
       "    'end': 124,\n",
       "    'url': 'https://t.co/XvCwymEI4M',\n",
       "    'expanded_url': 'http://music.apple.com/fr/album/wannabe/1501233592?i=1501233595&l=en',\n",
       "    'display_url': 'music.apple.com/fr/album/wanna…'}],\n",
       "  'hashtags': [{'start': 76, 'end': 81, 'tag': 'ITZY'},\n",
       "   {'start': 82, 'end': 85, 'tag': '있지'}],\n",
       "  'mentions': [{'start': 3,\n",
       "    'end': 17,\n",
       "    'username': 'chartdataITZY',\n",
       "    'id': '1424402800054841351'},\n",
       "   {'start': 86,\n",
       "    'end': 99,\n",
       "    'username': 'ITZYofficial',\n",
       "    'id': '1062578718214770688'}]},\n",
       " 'created_at': '2022-02-10T17:14:16.000Z',\n",
       " 'public_metrics': {'retweet_count': 51,\n",
       "  'reply_count': 0,\n",
       "  'like_count': 0,\n",
       "  'quote_count': 0},\n",
       " 'source': 'Twitter Web App',\n",
       " 'author_id': '1388529837833392132',\n",
       " 'reply_settings': 'everyone',\n",
       " 'referenced_tweets': [{'type': 'retweeted', 'id': '1491822338874224640'}]}"
      ]
     },
     "execution_count": 181,
     "metadata": {},
     "output_type": "execute_result"
    }
   ],
   "source": [
    "tweet"
   ]
  },
  {
   "cell_type": "code",
   "execution_count": 182,
   "id": "353c7776-e539-47e8-9a45-f02abd54ee81",
   "metadata": {},
   "outputs": [
    {
     "data": {
      "text/plain": [
       "dict"
      ]
     },
     "execution_count": 182,
     "metadata": {},
     "output_type": "execute_result"
    }
   ],
   "source": [
    "type(tweet)"
   ]
  },
  {
   "cell_type": "code",
   "execution_count": 184,
   "id": "93452d7d-fd56-486e-bd79-4bf6e698bee9",
   "metadata": {},
   "outputs": [
    {
     "data": {
      "text/plain": [
       "{'urls': [{'start': 101,\n",
       "   'end': 124,\n",
       "   'url': 'https://t.co/XvCwymEI4M',\n",
       "   'expanded_url': 'http://music.apple.com/fr/album/wannabe/1501233592?i=1501233595&l=en',\n",
       "   'display_url': 'music.apple.com/fr/album/wanna…'}],\n",
       " 'hashtags': [{'start': 76, 'end': 81, 'tag': 'ITZY'},\n",
       "  {'start': 82, 'end': 85, 'tag': '있지'}],\n",
       " 'mentions': [{'start': 3,\n",
       "   'end': 17,\n",
       "   'username': 'chartdataITZY',\n",
       "   'id': '1424402800054841351'},\n",
       "  {'start': 86,\n",
       "   'end': 99,\n",
       "   'username': 'ITZYofficial',\n",
       "   'id': '1062578718214770688'}]}"
      ]
     },
     "execution_count": 184,
     "metadata": {},
     "output_type": "execute_result"
    }
   ],
   "source": [
    "tweet['entities']"
   ]
  },
  {
   "cell_type": "code",
   "execution_count": 185,
   "id": "7b8d3d5b-4406-450a-9a5c-f744fda7440d",
   "metadata": {},
   "outputs": [
    {
     "data": {
      "text/plain": [
       "[{'type': 'retweeted', 'id': '1491822338874224640'}]"
      ]
     },
     "execution_count": 185,
     "metadata": {},
     "output_type": "execute_result"
    }
   ],
   "source": [
    "tweet['referenced_tweets']"
   ]
  },
  {
   "cell_type": "code",
   "execution_count": 188,
   "id": "3cad488d-6f41-45dd-98b7-768820aebc44",
   "metadata": {},
   "outputs": [],
   "source": [
    "i = 0\n",
    "for tweet in dat:\n",
    "    if 'referenced_tweets' not in tweet:\n",
    "        continue\n",
    "    if tweet['referenced_tweets'][0]['type'] == 'retweeted':\n",
    "        i += 1\n",
    "    "
   ]
  },
  {
   "cell_type": "code",
   "execution_count": 189,
   "id": "54a864f0-1ea0-4f76-ab63-5475b796c9c7",
   "metadata": {},
   "outputs": [
    {
     "data": {
      "text/plain": [
       "8990"
      ]
     },
     "execution_count": 189,
     "metadata": {},
     "output_type": "execute_result"
    }
   ],
   "source": [
    "i"
   ]
  },
  {
   "cell_type": "code",
   "execution_count": null,
   "id": "3cf097a8-d1ab-43a9-a6db-83ccb758685e",
   "metadata": {},
   "outputs": [],
   "source": []
  }
 ],
 "metadata": {
  "kernelspec": {
   "display_name": "Python 3 (ipykernel)",
   "language": "python",
   "name": "python3"
  },
  "language_info": {
   "codemirror_mode": {
    "name": "ipython",
    "version": 3
   },
   "file_extension": ".py",
   "mimetype": "text/x-python",
   "name": "python",
   "nbconvert_exporter": "python",
   "pygments_lexer": "ipython3",
   "version": "3.11.1"
  }
 },
 "nbformat": 4,
 "nbformat_minor": 5
}
