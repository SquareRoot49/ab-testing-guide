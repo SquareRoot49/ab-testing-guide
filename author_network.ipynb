{
    "metadata": {
        "kernelspec": {
            "name": "python3",
            "display_name": "Python 3 (ipykernel)",
            "language": "python"
        }
    },
    "nbformat": 4,
    "nbformat_minor": 2,
    "cells": [
        {
            "attachments": {},
            "cell_type": "markdown",
            "metadata": {},
            "source": [
                "## Exploratory data analysis\n",
                "\n",
                "We want more students to do research with professors. The incentives seem to exist: professors need students to publish and students need professors for guidance (what to ask, **what papers to read**, where to publish, etc).\n",
                "\n",
                "We have anecdotal evidence that\n",
                "- If students approach professors without any direction, chances are low\n",
                "- If students approach with their own problem, chances are better\n",
                "- If students approach knowing the professor's research, chances are much better.\n",
                "\n",
                "So our initial dataset only has\n",
                "- authors and the papers they wrote in `author_and_papers.csv`\n",
                "- papers and the references in `paper_and_references.csv`\n",
                "\n",
                ""
            ]
        },
        {
            "attachments": {},
            "cell_type": "markdown",
            "metadata": {},
            "source": [
                "## Task 1 - basic exploration\n",
                "\n",
                "- Load the data\n",
                "- For both datasets, look at the first few, last few, and a random sample of records in the datasets (hint: `pandas.DataFrame.sample()`).\n",
                "- (no code) Why do we care about looking at a few records\n",
                "- How many professors are there in our dataset? (Multiple answers!)\n",
                "- How many papers are in our dataset? (Multiple answers!)"
            ]
        },
        {
            "cell_type": "code",
            "execution_count": 4,
            "metadata": {},
            "outputs": [],
            "source": [
                "import pandas as pd"
            ]
        },
        {
            "cell_type": "code",
            "execution_count": 5,
            "metadata": {},
            "outputs": [],
            "source": [
                "da = pd.read_csv('author_and_papers.csv')"
            ]
        },
        {
            "cell_type": "code",
            "execution_count": 6,
            "metadata": {},
            "outputs": [],
            "source": [
                "pr = pd.read_csv('paper_and_references.csv')"
            ]
        },
        {
            "cell_type": "code",
            "execution_count": 7,
            "metadata": {},
            "outputs": [
                {
                    "data": {
                        "text/html": "\u003cdiv\u003e\n\u003cstyle scoped\u003e\n    .dataframe tbody tr th:only-of-type {\n        vertical-align: middle;\n    }\n\n    .dataframe tbody tr th {\n        vertical-align: top;\n    }\n\n    .dataframe thead th {\n        text-align: right;\n    }\n\u003c/style\u003e\n\u003ctable border=\"1\" class=\"dataframe\"\u003e\n  \u003cthead\u003e\n    \u003ctr style=\"text-align: right;\"\u003e\n      \u003cth\u003e\u003c/th\u003e\n      \u003cth\u003eUnnamed: 0\u003c/th\u003e\n      \u003cth\u003eauth_id\u003c/th\u003e\n      \u003cth\u003eauth_title\u003c/th\u003e\n      \u003cth\u003eref_id\u003c/th\u003e\n      \u003cth\u003eref_title\u003c/th\u003e\n    \u003c/tr\u003e\n  \u003c/thead\u003e\n  \u003ctbody\u003e\n    \u003ctr\u003e\n      \u003cth\u003e2214\u003c/th\u003e\n      \u003ctd\u003e2214\u003c/td\u003e\n      \u003ctd\u003e6913\u003c/td\u003e\n      \u003ctd\u003eConvergence to the mean field game limit: a ca...\u003c/td\u003e\n      \u003ctd\u003e6917\u003c/td\u003e\n      \u003ctd\u003eThe distribution of the product of powers of i...\u003c/td\u003e\n    \u003c/tr\u003e\n    \u003ctr\u003e\n      \u003cth\u003e284\u003c/th\u003e\n      \u003ctd\u003e284\u003c/td\u003e\n      \u003ctd\u003e123\u003c/td\u003e\n      \u003ctd\u003eExcitatory and inhibitory subnetworks are equa...\u003c/td\u003e\n      \u003ctd\u003e3363\u003c/td\u003e\n      \u003ctd\u003eFlexible control of mutual inhibition: a neura...\u003c/td\u003e\n    \u003c/tr\u003e\n    \u003ctr\u003e\n      \u003cth\u003e1848\u003c/th\u003e\n      \u003ctd\u003e1848\u003c/td\u003e\n      \u003ctd\u003e5757\u003c/td\u003e\n      \u003ctd\u003eBayesian hierarchical weighting adjustment and...\u003c/td\u003e\n      \u003ctd\u003e5852\u003c/td\u003e\n      \u003ctd\u003eState-level opinions from national surveys: po...\u003c/td\u003e\n    \u003c/tr\u003e\n  \u003c/tbody\u003e\n\u003c/table\u003e\n\u003c/div\u003e",
                        "text/plain": "      Unnamed: 0  auth_id                                         auth_title  \\\n2214        2214     6913  Convergence to the mean field game limit: a ca...   \n284          284      123  Excitatory and inhibitory subnetworks are equa...   \n1848        1848     5757  Bayesian hierarchical weighting adjustment and...   \n\n      ref_id                                          ref_title  \n2214    6917  The distribution of the product of powers of i...  \n284     3363  Flexible control of mutual inhibition: a neura...  \n1848    5852  State-level opinions from national surveys: po...  "
                    },
                    "execution_count": 7,
                    "metadata": {},
                    "output_type": "execute_result"
                }
            ],
            "source": [
                "pr.sample(3)"
            ]
        },
        {
            "cell_type": "code",
            "execution_count": 8,
            "metadata": {},
            "outputs": [
                {
                    "data": {
                        "text/html": "\u003cdiv\u003e\n\u003cstyle scoped\u003e\n    .dataframe tbody tr th:only-of-type {\n        vertical-align: middle;\n    }\n\n    .dataframe tbody tr th {\n        vertical-align: top;\n    }\n\n    .dataframe thead th {\n        text-align: right;\n    }\n\u003c/style\u003e\n\u003ctable border=\"1\" class=\"dataframe\"\u003e\n  \u003cthead\u003e\n    \u003ctr style=\"text-align: right;\"\u003e\n      \u003cth\u003e\u003c/th\u003e\n      \u003cth\u003eUnnamed: 0\u003c/th\u003e\n      \u003cth\u003eauthor_id\u003c/th\u003e\n      \u003cth\u003egiven_name\u003c/th\u003e\n      \u003cth\u003efamily_name\u003c/th\u003e\n      \u003cth\u003emiddle_name\u003c/th\u003e\n      \u003cth\u003epaper_id\u003c/th\u003e\n      \u003cth\u003epaper_title\u003c/th\u003e\n    \u003c/tr\u003e\n  \u003c/thead\u003e\n  \u003ctbody\u003e\n    \u003ctr\u003e\n      \u003cth\u003e9067\u003c/th\u003e\n      \u003ctd\u003e9067\u003c/td\u003e\n      \u003ctd\u003e8878\u003c/td\u003e\n      \u003ctd\u003eG\u003c/td\u003e\n      \u003ctd\u003eLa Manno\u003c/td\u003e\n      \u003ctd\u003eNaN\u003c/td\u003e\n      \u003ctd\u003e8886\u003c/td\u003e\n      \u003ctd\u003eCell types in the mouse cortex and hippocampus...\u003c/td\u003e\n    \u003c/tr\u003e\n    \u003ctr\u003e\n      \u003cth\u003e2310\u003c/th\u003e\n      \u003ctd\u003e2310\u003c/td\u003e\n      \u003ctd\u003e1546\u003c/td\u003e\n      \u003ctd\u003eAndrew\u003c/td\u003e\n      \u003ctd\u003eBoe\u003c/td\u003e\n      \u003ctd\u003eF\u003c/td\u003e\n      \u003ctd\u003e1711\u003c/td\u003e\n      \u003ctd\u003eGenome-wide atlas of gene expression in the ad...\u003c/td\u003e\n    \u003c/tr\u003e\n    \u003ctr\u003e\n      \u003cth\u003e10714\u003c/th\u003e\n      \u003ctd\u003e10714\u003c/td\u003e\n      \u003ctd\u003e10627\u003c/td\u003e\n      \u003ctd\u003eV\u003c/td\u003e\n      \u003ctd\u003eDmitry\u003c/td\u003e\n      \u003ctd\u003eNaN\u003c/td\u003e\n      \u003ctd\u003e10629\u003c/td\u003e\n      \u003ctd\u003eCross approximation in tensor electron density...\u003c/td\u003e\n    \u003c/tr\u003e\n  \u003c/tbody\u003e\n\u003c/table\u003e\n\u003c/div\u003e",
                        "text/plain": "       Unnamed: 0  author_id given_name family_name middle_name  paper_id  \\\n9067         9067       8878          G    La Manno         NaN      8886   \n2310         2310       1546     Andrew         Boe           F      1711   \n10714       10714      10627          V      Dmitry         NaN     10629   \n\n                                             paper_title  \n9067   Cell types in the mouse cortex and hippocampus...  \n2310   Genome-wide atlas of gene expression in the ad...  \n10714  Cross approximation in tensor electron density...  "
                    },
                    "execution_count": 8,
                    "metadata": {},
                    "output_type": "execute_result"
                }
            ],
            "source": [
                "da.sample(3)"
            ]
        },
        {
            "cell_type": "code",
            "execution_count": 9,
            "metadata": {},
            "outputs": [
                {
                    "data": {
                        "text/html": "\u003cdiv\u003e\n\u003cstyle scoped\u003e\n    .dataframe tbody tr th:only-of-type {\n        vertical-align: middle;\n    }\n\n    .dataframe tbody tr th {\n        vertical-align: top;\n    }\n\n    .dataframe thead th {\n        text-align: right;\n    }\n\u003c/style\u003e\n\u003ctable border=\"1\" class=\"dataframe\"\u003e\n  \u003cthead\u003e\n    \u003ctr style=\"text-align: right;\"\u003e\n      \u003cth\u003e\u003c/th\u003e\n      \u003cth\u003eUnnamed: 0\u003c/th\u003e\n      \u003cth\u003eauthor_id\u003c/th\u003e\n      \u003cth\u003egiven_name\u003c/th\u003e\n      \u003cth\u003efamily_name\u003c/th\u003e\n      \u003cth\u003emiddle_name\u003c/th\u003e\n      \u003cth\u003epaper_id\u003c/th\u003e\n      \u003cth\u003epaper_title\u003c/th\u003e\n    \u003c/tr\u003e\n  \u003c/thead\u003e\n  \u003ctbody\u003e\n    \u003ctr\u003e\n      \u003cth\u003e0\u003c/th\u003e\n      \u003ctd\u003e0\u003c/td\u003e\n      \u003ctd\u003e2\u003c/td\u003e\n      \u003ctd\u003eS\u003c/td\u003e\n      \u003ctd\u003eRahmann\u003c/td\u003e\n      \u003ctd\u003eNaN\u003c/td\u003e\n      \u003ctd\u003e4\u003c/td\u003e\n      \u003ctd\u003eSnakemake--a scalable bioinformatics workflow ...\u003c/td\u003e\n    \u003c/tr\u003e\n    \u003ctr\u003e\n      \u003cth\u003e1\u003c/th\u003e\n      \u003ctd\u003e1\u003c/td\u003e\n      \u003ctd\u003e1678\u003c/td\u003e\n      \u003ctd\u003eJ\u003c/td\u003e\n      \u003ctd\u003eKoster\u003c/td\u003e\n      \u003ctd\u003eNaN\u003c/td\u003e\n      \u003ctd\u003e4\u003c/td\u003e\n      \u003ctd\u003eSnakemake--a scalable bioinformatics workflow ...\u003c/td\u003e\n    \u003c/tr\u003e\n    \u003ctr\u003e\n      \u003cth\u003e2\u003c/th\u003e\n      \u003ctd\u003e2\u003c/td\u003e\n      \u003ctd\u003e109\u003c/td\u003e\n      \u003ctd\u003eVictoria\u003c/td\u003e\n      \u003ctd\u003eStodden\u003c/td\u003e\n      \u003ctd\u003eNaN\u003c/td\u003e\n      \u003ctd\u003e15\u003c/td\u003e\n      \u003ctd\u003eScientific tests and continuous integration st...\u003c/td\u003e\n    \u003c/tr\u003e\n  \u003c/tbody\u003e\n\u003c/table\u003e\n\u003c/div\u003e",
                        "text/plain": "   Unnamed: 0  author_id given_name family_name middle_name  paper_id  \\\n0           0          2          S     Rahmann         NaN         4   \n1           1       1678          J      Koster         NaN         4   \n2           2        109   Victoria     Stodden         NaN        15   \n\n                                         paper_title  \n0  Snakemake--a scalable bioinformatics workflow ...  \n1  Snakemake--a scalable bioinformatics workflow ...  \n2  Scientific tests and continuous integration st...  "
                    },
                    "execution_count": 9,
                    "metadata": {},
                    "output_type": "execute_result"
                }
            ],
            "source": [
                "da.head(3)"
            ]
        },
        {
            "cell_type": "code",
            "execution_count": 10,
            "metadata": {},
            "outputs": [
                {
                    "data": {
                        "text/html": "\u003cdiv\u003e\n\u003cstyle scoped\u003e\n    .dataframe tbody tr th:only-of-type {\n        vertical-align: middle;\n    }\n\n    .dataframe tbody tr th {\n        vertical-align: top;\n    }\n\n    .dataframe thead th {\n        text-align: right;\n    }\n\u003c/style\u003e\n\u003ctable border=\"1\" class=\"dataframe\"\u003e\n  \u003cthead\u003e\n    \u003ctr style=\"text-align: right;\"\u003e\n      \u003cth\u003e\u003c/th\u003e\n      \u003cth\u003eUnnamed: 0\u003c/th\u003e\n      \u003cth\u003eauth_id\u003c/th\u003e\n      \u003cth\u003eauth_title\u003c/th\u003e\n      \u003cth\u003eref_id\u003c/th\u003e\n      \u003cth\u003eref_title\u003c/th\u003e\n    \u003c/tr\u003e\n  \u003c/thead\u003e\n  \u003ctbody\u003e\n    \u003ctr\u003e\n      \u003cth\u003e0\u003c/th\u003e\n      \u003ctd\u003e0\u003c/td\u003e\n      \u003ctd\u003e20\u003c/td\u003e\n      \u003ctd\u003eNonlinear evolution via spatially-dependent li...\u003c/td\u003e\n      \u003ctd\u003e278\u003c/td\u003e\n      \u003ctd\u003ePenalized matrix decomposition for denoising, ...\u003c/td\u003e\n    \u003c/tr\u003e\n    \u003ctr\u003e\n      \u003cth\u003e1\u003c/th\u003e\n      \u003ctd\u003e1\u003c/td\u003e\n      \u003ctd\u003e20\u003c/td\u003e\n      \u003ctd\u003eNonlinear evolution via spatially-dependent li...\u003c/td\u003e\n      \u003ctd\u003e1392\u003c/td\u003e\n      \u003ctd\u003eResting-state hemodynamics are spatiotemporall...\u003c/td\u003e\n    \u003c/tr\u003e\n    \u003ctr\u003e\n      \u003cth\u003e2\u003c/th\u003e\n      \u003ctd\u003e2\u003c/td\u003e\n      \u003ctd\u003e20\u003c/td\u003e\n      \u003ctd\u003eNonlinear evolution via spatially-dependent li...\u003c/td\u003e\n      \u003ctd\u003e1498\u003c/td\u003e\n      \u003ctd\u003eWide-field optical mapping of neural activity ...\u003c/td\u003e\n    \u003c/tr\u003e\n  \u003c/tbody\u003e\n\u003c/table\u003e\n\u003c/div\u003e",
                        "text/plain": "   Unnamed: 0  auth_id                                         auth_title  \\\n0           0       20  Nonlinear evolution via spatially-dependent li...   \n1           1       20  Nonlinear evolution via spatially-dependent li...   \n2           2       20  Nonlinear evolution via spatially-dependent li...   \n\n   ref_id                                          ref_title  \n0     278  Penalized matrix decomposition for denoising, ...  \n1    1392  Resting-state hemodynamics are spatiotemporall...  \n2    1498  Wide-field optical mapping of neural activity ...  "
                    },
                    "execution_count": 10,
                    "metadata": {},
                    "output_type": "execute_result"
                }
            ],
            "source": [
                "pr.head(3)"
            ]
        },
        {
            "cell_type": "code",
            "execution_count": 11,
            "metadata": {},
            "outputs": [
                {
                    "data": {
                        "text/plain": "(11742, 7)"
                    },
                    "execution_count": 11,
                    "metadata": {},
                    "output_type": "execute_result"
                }
            ],
            "source": [
                "da.shape"
            ]
        },
        {
            "cell_type": "code",
            "execution_count": 12,
            "metadata": {},
            "outputs": [
                {
                    "data": {
                        "text/plain": "(3721, 5)"
                    },
                    "execution_count": 12,
                    "metadata": {},
                    "output_type": "execute_result"
                }
            ],
            "source": [
                "pr.shape"
            ]
        },
        {
            "cell_type": "code",
            "execution_count": 13,
            "metadata": {},
            "outputs": [],
            "source": [
                "da.groupby('author_id').count()\n",
                "author_num1 = da.groupby('author_id').count().shape[0]"
            ]
        },
        {
            "cell_type": "code",
            "execution_count": 14,
            "metadata": {},
            "outputs": [
                {
                    "data": {
                        "text/plain": "7098"
                    },
                    "execution_count": 14,
                    "metadata": {},
                    "output_type": "execute_result"
                }
            ],
            "source": [
                "author_num1"
            ]
        },
        {
            "cell_type": "code",
            "execution_count": 15,
            "metadata": {},
            "outputs": [
                {
                    "data": {
                        "text/html": "\u003cdiv\u003e\n\u003cstyle scoped\u003e\n    .dataframe tbody tr th:only-of-type {\n        vertical-align: middle;\n    }\n\n    .dataframe tbody tr th {\n        vertical-align: top;\n    }\n\n    .dataframe thead th {\n        text-align: right;\n    }\n\u003c/style\u003e\n\u003ctable border=\"1\" class=\"dataframe\"\u003e\n  \u003cthead\u003e\n    \u003ctr style=\"text-align: right;\"\u003e\n      \u003cth\u003e\u003c/th\u003e\n      \u003cth\u003eUnnamed: 0\u003c/th\u003e\n      \u003cth\u003eauth_title\u003c/th\u003e\n      \u003cth\u003eref_id\u003c/th\u003e\n      \u003cth\u003eref_title\u003c/th\u003e\n    \u003c/tr\u003e\n    \u003ctr\u003e\n      \u003cth\u003eauth_id\u003c/th\u003e\n      \u003cth\u003e\u003c/th\u003e\n      \u003cth\u003e\u003c/th\u003e\n      \u003cth\u003e\u003c/th\u003e\n      \u003cth\u003e\u003c/th\u003e\n    \u003c/tr\u003e\n  \u003c/thead\u003e\n  \u003ctbody\u003e\n    \u003ctr\u003e\n      \u003cth\u003e20\u003c/th\u003e\n      \u003ctd\u003e40\u003c/td\u003e\n      \u003ctd\u003e40\u003c/td\u003e\n      \u003ctd\u003e40\u003c/td\u003e\n      \u003ctd\u003e40\u003c/td\u003e\n    \u003c/tr\u003e\n    \u003ctr\u003e\n      \u003cth\u003e48\u003c/th\u003e\n      \u003ctd\u003e78\u003c/td\u003e\n      \u003ctd\u003e78\u003c/td\u003e\n      \u003ctd\u003e78\u003c/td\u003e\n      \u003ctd\u003e78\u003c/td\u003e\n    \u003c/tr\u003e\n    \u003ctr\u003e\n      \u003cth\u003e74\u003c/th\u003e\n      \u003ctd\u003e45\u003c/td\u003e\n      \u003ctd\u003e45\u003c/td\u003e\n      \u003ctd\u003e45\u003c/td\u003e\n      \u003ctd\u003e45\u003c/td\u003e\n    \u003c/tr\u003e\n    \u003ctr\u003e\n      \u003cth\u003e95\u003c/th\u003e\n      \u003ctd\u003e22\u003c/td\u003e\n      \u003ctd\u003e22\u003c/td\u003e\n      \u003ctd\u003e22\u003c/td\u003e\n      \u003ctd\u003e22\u003c/td\u003e\n    \u003c/tr\u003e\n    \u003ctr\u003e\n      \u003cth\u003e104\u003c/th\u003e\n      \u003ctd\u003e50\u003c/td\u003e\n      \u003ctd\u003e50\u003c/td\u003e\n      \u003ctd\u003e50\u003c/td\u003e\n      \u003ctd\u003e50\u003c/td\u003e\n    \u003c/tr\u003e\n    \u003ctr\u003e\n      \u003cth\u003e...\u003c/th\u003e\n      \u003ctd\u003e...\u003c/td\u003e\n      \u003ctd\u003e...\u003c/td\u003e\n      \u003ctd\u003e...\u003c/td\u003e\n      \u003ctd\u003e...\u003c/td\u003e\n    \u003c/tr\u003e\n    \u003ctr\u003e\n      \u003cth\u003e10888\u003c/th\u003e\n      \u003ctd\u003e50\u003c/td\u003e\n      \u003ctd\u003e50\u003c/td\u003e\n      \u003ctd\u003e50\u003c/td\u003e\n      \u003ctd\u003e49\u003c/td\u003e\n    \u003c/tr\u003e\n    \u003ctr\u003e\n      \u003cth\u003e11125\u003c/th\u003e\n      \u003ctd\u003e45\u003c/td\u003e\n      \u003ctd\u003e45\u003c/td\u003e\n      \u003ctd\u003e45\u003c/td\u003e\n      \u003ctd\u003e45\u003c/td\u003e\n    \u003c/tr\u003e\n    \u003ctr\u003e\n      \u003cth\u003e11222\u003c/th\u003e\n      \u003ctd\u003e52\u003c/td\u003e\n      \u003ctd\u003e52\u003c/td\u003e\n      \u003ctd\u003e52\u003c/td\u003e\n      \u003ctd\u003e52\u003c/td\u003e\n    \u003c/tr\u003e\n    \u003ctr\u003e\n      \u003cth\u003e11359\u003c/th\u003e\n      \u003ctd\u003e29\u003c/td\u003e\n      \u003ctd\u003e29\u003c/td\u003e\n      \u003ctd\u003e29\u003c/td\u003e\n      \u003ctd\u003e29\u003c/td\u003e\n    \u003c/tr\u003e\n    \u003ctr\u003e\n      \u003cth\u003e11636\u003c/th\u003e\n      \u003ctd\u003e51\u003c/td\u003e\n      \u003ctd\u003e51\u003c/td\u003e\n      \u003ctd\u003e51\u003c/td\u003e\n      \u003ctd\u003e50\u003c/td\u003e\n    \u003c/tr\u003e\n  \u003c/tbody\u003e\n\u003c/table\u003e\n\u003cp\u003e81 rows × 4 columns\u003c/p\u003e\n\u003c/div\u003e",
                        "text/plain": "         Unnamed: 0  auth_title  ref_id  ref_title\nauth_id                                           \n20               40          40      40         40\n48               78          78      78         78\n74               45          45      45         45\n95               22          22      22         22\n104              50          50      50         50\n...             ...         ...     ...        ...\n10888            50          50      50         49\n11125            45          45      45         45\n11222            52          52      52         52\n11359            29          29      29         29\n11636            51          51      51         50\n\n[81 rows x 4 columns]"
                    },
                    "execution_count": 15,
                    "metadata": {},
                    "output_type": "execute_result"
                }
            ],
            "source": [
                "pr.groupby('auth_id').count()"
            ]
        },
        {
            "cell_type": "code",
            "execution_count": 16,
            "metadata": {},
            "outputs": [],
            "source": [
                "author_num2 = pr.groupby('auth_id').count().shape[0]"
            ]
        },
        {
            "cell_type": "code",
            "execution_count": 17,
            "metadata": {},
            "outputs": [
                {
                    "data": {
                        "text/plain": "81"
                    },
                    "execution_count": 17,
                    "metadata": {},
                    "output_type": "execute_result"
                }
            ],
            "source": [
                "author_num2"
            ]
        },
        {
            "cell_type": "code",
            "execution_count": 18,
            "metadata": {},
            "outputs": [],
            "source": [
                "paper_num1 = da.groupby('paper_id').count().shape[0]"
            ]
        },
        {
            "cell_type": "code",
            "execution_count": 19,
            "metadata": {},
            "outputs": [
                {
                    "data": {
                        "text/plain": "3049"
                    },
                    "execution_count": 19,
                    "metadata": {},
                    "output_type": "execute_result"
                }
            ],
            "source": [
                "paper_num1"
            ]
        },
        {
            "cell_type": "code",
            "execution_count": 20,
            "metadata": {},
            "outputs": [],
            "source": [
                "paper_num2 = pr.groupby('ref_id').count().shape[0]"
            ]
        },
        {
            "cell_type": "code",
            "execution_count": 21,
            "metadata": {},
            "outputs": [
                {
                    "data": {
                        "text/plain": "2993"
                    },
                    "execution_count": 21,
                    "metadata": {},
                    "output_type": "execute_result"
                }
            ],
            "source": [
                "paper_num2"
            ]
        },
        {
            "attachments": {},
            "cell_type": "markdown",
            "metadata": {},
            "source": [
                "## Task 2 - Some analysis\n",
                "\n",
                "Calculate, then graph the following:\n",
                "- How many papers are associated with each professor?\n",
                "- How many authors does each paper have?\n",
                "- How many references does each paper have?\n",
                "- Are the same references being used by multiple papers?"
            ]
        },
        {
            "cell_type": "code",
            "execution_count": 22,
            "metadata": {},
            "outputs": [
                {
                    "data": {
                        "text/plain": "author_id\n0        199\n2          1\n3          4\n5          7\n7         13\n        ... \n11704      1\n11708      1\n11712      1\n11723      1\n11726      1\nName: paper_id, Length: 7098, dtype: int64"
                    },
                    "execution_count": 22,
                    "metadata": {},
                    "output_type": "execute_result"
                }
            ],
            "source": [
                "da.groupby('author_id').count()['paper_id']"
            ]
        },
        {
            "cell_type": "code",
            "execution_count": 23,
            "metadata": {},
            "outputs": [
                {
                    "data": {
                        "text/plain": "paper_id\n4         2\n15        5\n20        6\n21        1\n30       10\n         ..\n11717     2\n11719     5\n11722     1\n11724     2\n11727     4\nName: author_id, Length: 3049, dtype: int64"
                    },
                    "execution_count": 23,
                    "metadata": {},
                    "output_type": "execute_result"
                }
            ],
            "source": [
                "da.groupby('paper_id').count()['author_id']"
            ]
        },
        {
            "cell_type": "code",
            "execution_count": 24,
            "metadata": {},
            "outputs": [
                {
                    "data": {
                        "text/plain": "auth_title\nA mean field competition                                                                                     34\nA mean field game of optimal stopping                                                                        31\nA nonparametric empirical bayesian framework for fluorescence-lifetime imaging microscopy                    37\nA risk-neutral equilibrium leading to uncertain volatility pricing *                                         56\nA sharp blockwise tensor perturbation bound for orthogonal iteration                                        124\n                                                                                                           ... \nTowards the neural population doctrine                                                                       86\nUsing embeddings to correct for unobserved confounding in networks                                           42\nValue and choice as separable, stable representations in orbitofrontal cortex                                95\nVariational bayes under model misspecification                                                               38\nVoter registration databases and mrp: toward the use of large-scale databases in public opinion research      6\nName: ref_id, Length: 81, dtype: int64"
                    },
                    "execution_count": 24,
                    "metadata": {},
                    "output_type": "execute_result"
                }
            ],
            "source": [
                "pr.groupby('auth_title').count()['ref_id']"
            ]
        },
        {
            "cell_type": "code",
            "execution_count": 25,
            "metadata": {},
            "outputs": [
                {
                    "data": {
                        "text/plain": "ref_id\n4        1\n15       1\n20       1\n21       1\n30       1\n        ..\n11717    1\n11719    1\n11722    1\n11724    1\n11727    1\nName: auth_title, Length: 2993, dtype: int64"
                    },
                    "execution_count": 25,
                    "metadata": {},
                    "output_type": "execute_result"
                }
            ],
            "source": [
                "pr.groupby('ref_id').count()['auth_title']"
            ]
        },
        {
            "cell_type": "code",
            "execution_count": 26,
            "metadata": {},
            "outputs": [
                {
                    "name": "stdout",
                    "output_type": "stream",
                    "text": "there are \n"
                }
            ],
            "source": [
                "if (pr.groupby('ref_id').count()['auth_title'] \u003e 1).any:\n",
                "    print('there are ')\n",
                "else: \n",
                "    print('there are not')"
            ]
        },
        {
            "cell_type": "code",
            "execution_count": 27,
            "metadata": {},
            "outputs": [],
            "source": [
                ""
            ]
        },
        {
            "attachments": {},
            "cell_type": "markdown",
            "metadata": {},
            "source": [
                "## Task 3 - Targeted search\n",
                "\n",
                "- Which and how many professors have a paper with the word \"deep learning\" in it? What about \"bayesian\"? What about \"causal\"?"
            ]
        },
        {
            "cell_type": "code",
            "execution_count": 28,
            "metadata": {},
            "outputs": [
                {
                    "data": {
                        "text/html": "\u003cdiv\u003e\n\u003cstyle scoped\u003e\n    .dataframe tbody tr th:only-of-type {\n        vertical-align: middle;\n    }\n\n    .dataframe tbody tr th {\n        vertical-align: top;\n    }\n\n    .dataframe thead th {\n        text-align: right;\n    }\n\u003c/style\u003e\n\u003ctable border=\"1\" class=\"dataframe\"\u003e\n  \u003cthead\u003e\n    \u003ctr style=\"text-align: right;\"\u003e\n      \u003cth\u003e\u003c/th\u003e\n      \u003cth\u003eUnnamed: 0\u003c/th\u003e\n      \u003cth\u003eauthor_id\u003c/th\u003e\n      \u003cth\u003egiven_name\u003c/th\u003e\n      \u003cth\u003efamily_name\u003c/th\u003e\n      \u003cth\u003emiddle_name\u003c/th\u003e\n      \u003cth\u003epaper_id\u003c/th\u003e\n      \u003cth\u003epaper_title\u003c/th\u003e\n    \u003c/tr\u003e\n  \u003c/thead\u003e\n  \u003ctbody\u003e\n    \u003ctr\u003e\n      \u003cth\u003e0\u003c/th\u003e\n      \u003ctd\u003e0\u003c/td\u003e\n      \u003ctd\u003e2\u003c/td\u003e\n      \u003ctd\u003eS\u003c/td\u003e\n      \u003ctd\u003eRahmann\u003c/td\u003e\n      \u003ctd\u003eNaN\u003c/td\u003e\n      \u003ctd\u003e4\u003c/td\u003e\n      \u003ctd\u003eSnakemake--a scalable bioinformatics workflow ...\u003c/td\u003e\n    \u003c/tr\u003e\n    \u003ctr\u003e\n      \u003cth\u003e1\u003c/th\u003e\n      \u003ctd\u003e1\u003c/td\u003e\n      \u003ctd\u003e1678\u003c/td\u003e\n      \u003ctd\u003eJ\u003c/td\u003e\n      \u003ctd\u003eKoster\u003c/td\u003e\n      \u003ctd\u003eNaN\u003c/td\u003e\n      \u003ctd\u003e4\u003c/td\u003e\n      \u003ctd\u003eSnakemake--a scalable bioinformatics workflow ...\u003c/td\u003e\n    \u003c/tr\u003e\n    \u003ctr\u003e\n      \u003cth\u003e2\u003c/th\u003e\n      \u003ctd\u003e2\u003c/td\u003e\n      \u003ctd\u003e109\u003c/td\u003e\n      \u003ctd\u003eVictoria\u003c/td\u003e\n      \u003ctd\u003eStodden\u003c/td\u003e\n      \u003ctd\u003eNaN\u003c/td\u003e\n      \u003ctd\u003e15\u003c/td\u003e\n      \u003ctd\u003eScientific tests and continuous integration st...\u003c/td\u003e\n    \u003c/tr\u003e\n  \u003c/tbody\u003e\n\u003c/table\u003e\n\u003c/div\u003e",
                        "text/plain": "   Unnamed: 0  author_id given_name family_name middle_name  paper_id  \\\n0           0          2          S     Rahmann         NaN         4   \n1           1       1678          J      Koster         NaN         4   \n2           2        109   Victoria     Stodden         NaN        15   \n\n                                         paper_title  \n0  Snakemake--a scalable bioinformatics workflow ...  \n1  Snakemake--a scalable bioinformatics workflow ...  \n2  Scientific tests and continuous integration st...  "
                    },
                    "execution_count": 28,
                    "metadata": {},
                    "output_type": "execute_result"
                }
            ],
            "source": [
                "da.head(3)"
            ]
        },
        {
            "cell_type": "code",
            "execution_count": 29,
            "metadata": {},
            "outputs": [
                {
                    "data": {
                        "text/plain": "11742"
                    },
                    "execution_count": 29,
                    "metadata": {},
                    "output_type": "execute_result"
                }
            ],
            "source": [
                "da.shape[0]"
            ]
        },
        {
            "cell_type": "code",
            "execution_count": 30,
            "metadata": {},
            "outputs": [
                {
                    "name": "stdout",
                    "output_type": "stream",
                    "text": "k\n"
                }
            ],
            "source": [
                "if 'deep learning' in da.loc[1]['paper_title']:\n",
                "    print('kk')\n",
                "else:\n",
                "    print('k')"
            ]
        },
        {
            "cell_type": "code",
            "execution_count": 31,
            "metadata": {},
            "outputs": [
                {
                    "name": "stdout",
                    "output_type": "stream",
                    "text": "[]\n"
                }
            ],
            "source": [
                "list = []\n",
                "for i in range(int(da.shape[0])):\n",
                "    if 'deep' + 'learning' in da.loc[1]['paper_title']:\n",
                "        list.append(i)\n",
                "print(list)\n",
                "num_deep_learning = da.loc[list]['author_id']"
            ]
        },
        {
            "cell_type": "code",
            "execution_count": 32,
            "metadata": {},
            "outputs": [
                {
                    "data": {
                        "text/plain": "Series([], Name: author_id, dtype: int64)"
                    },
                    "execution_count": 32,
                    "metadata": {},
                    "output_type": "execute_result"
                }
            ],
            "source": [
                "num_deep_learning"
            ]
        },
        {
            "cell_type": "code",
            "execution_count": 33,
            "metadata": {},
            "outputs": [
                {
                    "name": "stdout",
                    "output_type": "stream",
                    "text": "[61, 62, 63, 64, 65, 66, 67, 364, 365, 366, 367, 368, 369, 999, 1000, 1021, 1022, 1023, 1024, 1025, 1026, 1027, 1028, 1041, 1042, 1043, 1044, 1045, 1046, 1047, 1048, 1049, 2731, 2732, 2733, 2734, 2735, 2736, 2872, 2873, 2874, 2875, 2876, 2877, 2878, 2879, 2880, 2881, 2882, 2883, 6930, 6931, 6932]\n"
                },
                {
                    "data": {
                        "text/plain": "53"
                    },
                    "execution_count": 33,
                    "metadata": {},
                    "output_type": "execute_result"
                }
            ],
            "source": [
                "list = []\n",
                "for i in range(int(da.shape[0])):\n",
                "    if 'deep learning' in str(da.loc[i]['paper_title']):\n",
                "        list.append(i)\n",
                "print(list)\n",
                "num_deep_learning = da.loc[list]['author_id'].count()\n",
                "num_deep_learning"
            ]
        },
        {
            "cell_type": "code",
            "execution_count": 34,
            "metadata": {},
            "outputs": [
                {
                    "data": {
                        "text/plain": "'Scientific tests and continuous integration strategies to enhance reproducibility in the scientific software context'"
                    },
                    "execution_count": 34,
                    "metadata": {},
                    "output_type": "execute_result"
                }
            ],
            "source": [
                "da.loc[3]['paper_title']"
            ]
        },
        {
            "cell_type": "code",
            "execution_count": 35,
            "metadata": {},
            "outputs": [],
            "source": [
                ""
            ]
        },
        {
            "cell_type": "code",
            "execution_count": 36,
            "metadata": {},
            "outputs": [],
            "source": [
                ""
            ]
        },
        {
            "cell_type": "code",
            "execution_count": 37,
            "metadata": {},
            "outputs": [],
            "source": [
                ""
            ]
        },
        {
            "attachments": {},
            "cell_type": "markdown",
            "metadata": {},
            "source": [
                "## Task 4 - Joining the datasets\n",
                "\n",
                "- If a paper has more authors, does it likely have more references? How are you testing this out?\n",
                "- Do the same professors reference the same papers over multiple publications?"
            ]
        },
        {
            "cell_type": "code",
            "execution_count": 38,
            "metadata": {},
            "outputs": [
                {
                    "data": {
                        "text/plain": "author_id\n0         True\n2        False\n3         True\n5         True\n7         True\n         ...  \n11704    False\n11708    False\n11712    False\n11723    False\n11726    False\nName: paper_id, Length: 7098, dtype: bool"
                    },
                    "execution_count": 38,
                    "metadata": {},
                    "output_type": "execute_result"
                }
            ],
            "source": [
                "da.groupby('author_id').count()['paper_id'] \u003e 1"
            ]
        },
        {
            "cell_type": "code",
            "execution_count": 39,
            "metadata": {},
            "outputs": [],
            "source": [
                "is_possible = da.groupby('author_id').count()['paper_id'] \u003e 1"
            ]
        },
        {
            "cell_type": "code",
            "execution_count": 40,
            "metadata": {},
            "outputs": [],
            "source": [
                "possible_group = da.groupby('author_id').count()['paper_id'][is_possible]"
            ]
        },
        {
            "cell_type": "code",
            "execution_count": 41,
            "metadata": {},
            "outputs": [
                {
                    "data": {
                        "text/plain": "author_id\n0        199\n3          4\n5          7\n7         13\n10         5\n        ... \n11481      2\n11492      2\n11554      2\n11662      2\n11686      2\nName: paper_id, Length: 1741, dtype: int64"
                    },
                    "execution_count": 41,
                    "metadata": {},
                    "output_type": "execute_result"
                }
            ],
            "source": [
                "possible_group"
            ]
        },
        {
            "cell_type": "code",
            "execution_count": 42,
            "metadata": {},
            "outputs": [],
            "source": [
                "list = []\n",
                "for i in possible_group.index:\n",
                "    papers = pd.DataFrame(da[da['author_id'] == i])\n",
                "    papers = papers['paper_title']\n",
                "    for j in papers:\n",
                "        list_j = []\n",
                "        list_j = pr[pr['auth_title'] == j]['ref_id']\n",
                "        list.append(list_j)\n",
                ""
            ]
        },
        {
            "cell_type": "code",
            "execution_count": 88,
            "metadata": {},
            "outputs": [
                {
                    "data": {
                        "text/plain": "0      278\n1     1392\n2     1498\n3     2445\n4     2442\n5     2439\n6     2438\n7     2429\n8     2424\n9     2423\n10    2420\n11    2416\n12    2413\n13    2406\n14     393\n15    2392\n16    2388\n17    2385\n18    2383\n19    2382\n20    2379\n21    2377\n22    2373\n23    2370\n24    2366\n25    2363\n26     141\n27    2361\n28    2359\n29    2357\n30    2352\n31    2350\n32    2349\n33    2347\n34    2345\n35    1085\n36    2337\n37    1287\n38     946\n39      20\nName: ref_id, dtype: int64"
                    },
                    "execution_count": 88,
                    "metadata": {},
                    "output_type": "execute_result"
                }
            ],
            "source": [
                "list[0]"
            ]
        },
        {
            "cell_type": "code",
            "execution_count": 90,
            "metadata": {},
            "outputs": [
                {
                    "data": {
                        "text/plain": "6385"
                    },
                    "execution_count": 90,
                    "metadata": {},
                    "output_type": "execute_result"
                }
            ],
            "source": [
                "len(list)"
            ]
        },
        {
            "cell_type": "code",
            "execution_count": 96,
            "metadata": {},
            "outputs": [],
            "source": [
                "list_2 = []\n",
                "for i in range(len(list)):\n",
                "    for j in list[i]:\n",
                "        list_2.append(j)"
            ]
        },
        {
            "cell_type": "code",
            "execution_count": 1,
            "metadata": {},
            "outputs": [],
            "source": [
                ""
            ]
        },
        {
            "cell_type": "code",
            "execution_count": 103,
            "metadata": {},
            "outputs": [
                {
                    "data": {
                        "text/plain": "pandas.core.series.Series"
                    },
                    "execution_count": 103,
                    "metadata": {},
                    "output_type": "execute_result"
                }
            ],
            "source": [
                "type(list[1])"
            ]
        },
        {
            "cell_type": "code",
            "execution_count": 98,
            "metadata": {},
            "outputs": [
                {
                    "data": {
                        "text/plain": "31620"
                    },
                    "execution_count": 98,
                    "metadata": {},
                    "output_type": "execute_result"
                }
            ],
            "source": [
                "len(list_2)"
            ]
        },
        {
            "cell_type": "code",
            "execution_count": 99,
            "metadata": {},
            "outputs": [
                {
                    "data": {
                        "text/plain": "False"
                    },
                    "execution_count": 99,
                    "metadata": {},
                    "output_type": "execute_result"
                }
            ],
            "source": [
                "len(list_2) == len(set(list_2))"
            ]
        },
        {
            "cell_type": "code",
            "execution_count": 100,
            "metadata": {},
            "outputs": [
                {
                    "data": {
                        "text/plain": "'has repeated'"
                    },
                    "execution_count": 100,
                    "metadata": {},
                    "output_type": "execute_result"
                }
            ],
            "source": [
                "'has repeated'"
            ]
        },
        {
            "cell_type": "code",
            "execution_count": 48,
            "metadata": {},
            "outputs": [
                {
                    "data": {
                        "text/plain": "pandas.core.series.Series"
                    },
                    "execution_count": 48,
                    "metadata": {},
                    "output_type": "execute_result"
                }
            ],
            "source": [
                "type(list[1])"
            ]
        },
        {
            "cell_type": "code",
            "execution_count": 49,
            "metadata": {},
            "outputs": [],
            "source": [
                "list1 = [1, 2, 3, 4]\n",
                "list2 = [3, 4, 5, 6]"
            ]
        },
        {
            "cell_type": "code",
            "execution_count": 50,
            "metadata": {},
            "outputs": [
                {
                    "data": {
                        "text/plain": "{3, 4}"
                    },
                    "execution_count": 50,
                    "metadata": {},
                    "output_type": "execute_result"
                }
            ],
            "source": [
                "set(list1) \u0026 set(list2)"
            ]
        },
        {
            "cell_type": "code",
            "execution_count": 51,
            "metadata": {},
            "outputs": [],
            "source": [
                "papers = pd.DataFrame(da[da['author_id'] == 0])\n",
                "papers = papers['paper_title']"
            ]
        },
        {
            "cell_type": "code",
            "execution_count": 52,
            "metadata": {},
            "outputs": [
                {
                    "data": {
                        "text/plain": "12       Nonlinear evolution via spatially-dependent li...\n24       Neural trajectories in the supplementary motor...\n34       Neural trajectories in the supplementary motor...\n41       Neural trajectories in the supplementary motor...\n69       Localized semi-nonnegative matrix factorizatio...\n                               ...                        \n2960          Variational inference for nonlinear dynamics\n3322     Cortical preparatory activity: representation ...\n3412     Empirical models of spiking in neural populations\n3427     Maximum entropy flow networks. international c...\n10277    Encoding of value and choice as separable, dyn...\nName: paper_title, Length: 199, dtype: object"
                    },
                    "execution_count": 52,
                    "metadata": {},
                    "output_type": "execute_result"
                }
            ],
            "source": [
                "papers"
            ]
        },
        {
            "cell_type": "code",
            "execution_count": 53,
            "metadata": {},
            "outputs": [
                {
                    "name": "stdout",
                    "output_type": "stream",
                    "text": "Nonlinear evolution via spatially-dependent linear dynamics for electrophysiology and calcium data\nNeural trajectories in the supplementary motor area and motor cortex exhibit distinct geometries, compatible with different classes of computation\nNeural trajectories in the supplementary motor area and motor cortex exhibit distinct geometries, compatible with different classes of computation\nNeural trajectories in the supplementary motor area and motor cortex exhibit distinct geometries, compatible with different classes of computation\nLocalized semi-nonnegative matrix factorization (locanmf) of widefield calcium imaging data\nLocalized semi-nonnegative matrix factorization (locanmf) of widefield calcium imaging data\nGeneral linear-time inference for gaussian processes on one dimension\nThe continuous categorical: a novel simplex-valued exponential family\nThe continuous categorical: a novel simplex-valued exponential family\nThe continuous categorical: a novel simplex-valued exponential family\nExcitatory and inhibitory subnetworks are equally selective during decision-making and emerge simultaneously during learning\nExcitatory and inhibitory subnetworks are equally selective during decision-making and emerge simultaneously during learning\nDeep graph pose: a semi-supervised deep graphical model for improved animal pose tracking\nDeep graph pose: a semi-supervised deep graphical model for improved animal pose tracking\nExpectation propagation as a way of life: a framework for bayesian inference on partitioned data.\nNeuroscience cloud analysis as a service\nExpectation propagation as a way of life\nExpectation propagation as a way of life\nValue and choice as separable, stable representations in orbitofrontal cortex\nValue and choice as separable, stable representations in orbitofrontal cortex\nValue and choice as separable, stable representations in orbitofrontal cortex\nValue and choice as separable, stable representations in orbitofrontal cortex\nValue and choice as separable, stable representations in orbitofrontal cortex\nInvertible gaussian reparameterization: revisiting the gumbel-softmax\nInvertible gaussian reparameterization: revisiting the gumbel-softmax\nTopological autoencoders\nDiscriminative regularization for latent variable models with applications to electrocardiography\nDiscriminative regularization for latent variable models with applications to electrocardiography\nDiscriminative regularization for latent variable models with applications to electrocardiography\nCalibrating deep convolutional gaussian processes\nCalibrating deep convolutional gaussian processes\nCalibrating deep convolutional gaussian processes\nCalibrating deep convolutional gaussian processes\nCalibrating deep convolutional gaussian processes\nTowards the neural population doctrine\nTowards the neural population doctrine\nDeep random splines for point process intensity estimation\nDeep random splines for point process intensity estimation\nApproximating exponential family models (not single distributions) with a two-network architecture\nApproximating exponential family models (not single distributions) with a two-network architecture\nDataset from'' farzaneh najafi, gamaleldin f elsayed, robin cao, eftychios pnevmatikakis, peter e. latham, john p cunningham, anne k churchland (biorxiv, 2018); excitatory and …\nThe continuous bernoulli: fixing a pervasive error in variational autoencoders\nThe continuous bernoulli: fixing a pervasive error in variational autoencoders\nParaphrase generation with latent bag of words\nParaphrase generation with latent bag of words\nInterrogating theoretical models of neural computation with deep inference\nGaussian-process factor analysis for low-dimensional single-trial analysis of neural population activity\nPreprint repository arxiv achieves milestone million uploads\nDeep random splines for point process intensity estimation of neural population data\nBehavenet: nonlinear embedding and bayesian neural decoding of behavioral videos\nUnsupervised clusterless decoding using a switching poisson hidden markov model\nUnsupervised clusterless decoding using a switching poisson hidden markov model\nNeural trajectories in the supplementary motor area and primary motor cortex exhibit distinct geometries, compatible with different classes of computation\nNeural trajectories in the supplementary motor area and primary motor cortex exhibit distinct geometries, compatible with different classes of computation\nA probabilistic model of cardiac physiology and electrocardiograms\nA probabilistic model of cardiac physiology and electrocardiograms\nA novel variational family for hidden nonlinear markov models\nA novel variational family for hidden nonlinear markov models\nA novel variational family for hidden non-linear markov models\nA novel variational family for hidden non-linear markov models\nConservation of preparatory neural events in monkey motor cortex regardless of how movement is initiated\nConservation of preparatory neural events in monkey motor cortex regardless of how movement is initiated\nDifferent population dynamics in the supplementary motor area and motor cortex during reaching\nDifferent population dynamics in the supplementary motor area and motor cortex during reaching\nNeural data science: accelerating the experiment-analysis-theory cycle in large-scale neuroscience\nNeural data science: accelerating the experiment-analysis-theory cycle in large-scale neuroscience\nNeural data science: accelerating the experiment-analysis-theory cycle in large-scale neuroscience\nBayesian estimation for large scale multivariate ornstein-uhlenbeck model of brain connectivity\nBayesian estimation for large scale multivariate ornstein-uhlenbeck model of brain connectivity\nReparameterizing the birkhoff polytope for variational permutation inference\nReparameterizing the birkhoff polytope for variational permutation inference\nMotor cortex embeds muscle-like commands in an untangled population response\nAdvanced machine learning (gr5242) fall 2018\nAdvanced machine learning (gr5242) fall 2018\nDatasets from'' najafi, farzaneh and elsayed, gamaleldin f and pnevmatikakis, eftychios and cunningham, john p and churchland, anne k (2018) inhibitory and excitatory …\nDatasets from'' najafi, farzaneh and elsayed, gamaleldin f and pnevmatikakis, eftychios and cunningham, john p and churchland, anne k (2018) inhibitory and excitatory …\nElectrical stimulus artifact cancellation and neural spike detection on large multi-electrode arrays\nElectrical stimulus artifact cancellation and neural spike detection on large multi-electrode arrays\nSparse probit linear mixed model\nSparse probit linear mixed model\nStructure in neural population recordings: an expected byproduct of simpler phenomena?\nStructure in neural population recordings: an expected byproduct of simpler phenomena?\nBehaviorally selective engagement of short-latency effector pathways by motor cortex\nBehaviorally selective engagement of short-latency effector pathways by motor cortex\nAnnular augmentation sampling\nAnnular augmentation sampling\nExpectation propagation as a way of life: a framework for bayesian inference on partitioned data\nExpectation propagation as a way of life: a framework for bayesian inference on partitioned data\nExpectation propagation as a way of life: a framework for bayesian inference on partitioned data\nExpectation propagation as a way of life: a framework for bayesian inference on partitioned data\nMaximum entropy flow networks\nMaximum entropy flow networks\nA statistical model of shared variability in the songbird auditory system\nA statistical model of shared variability in the songbird auditory system\nTensor analysis reveals distinct population structure that parallels the different computational roles of areas m1 and v1\nTensor analysis reveals distinct population structure that parallels the different computational roles of areas m1 and v1\nReorganization between preparatory and movement population responses in motor cortex\nReorganization between preparatory and movement population responses in motor cortex\nElliptical slice sampling with expectation propagation.\nElliptical slice sampling with expectation propagation.\nSlice sampling on hamiltonian trajectories\nSlice sampling on hamiltonian trajectories\nPreconditioning kernel matrices\nPreconditioning kernel matrices\nBayesian learning of kernel embeddings\nBayesian learning of kernel embeddings\nNeuroprosthetic decoder training as imitation learning\nNeuroprosthetic decoder training as imitation learning\nSparse estimation in a correlated probit model\nSparse estimation in a correlated probit model\nSparse estimation in a correlated probit model\nAutomated scalable segmentation of neurons from multispectral images\nAutomated scalable segmentation of neurons from multispectral images\nLinear dynamical neural population models through nonlinear embeddings\nLinear dynamical neural population models through nonlinear embeddings\nBlack box variational inference for state space models\nBlack box variational inference for state space models\nRecent patents in brain-machine interfaces\nRecent patents in brain-machine interfaces\nBrain machine interfaces incorporating neural population dynamics\nBrain machine interfaces incorporating neural population dynamics\nSingle-trial dynamics of motor cortex and their applications to brain-machine interfaces\nSingle-trial dynamics of motor cortex and their applications to brain-machine interfaces\nPsychophysical detection testing with bayesian active learning.\nPsychophysical detection testing with bayesian active learning.\nNonlinear physically-based models for decoding motor-cortical population activity\nEncoder-decoder optimization for brain-computer interfaces\nEncoder-decoder optimization for brain-computer interfaces\nGaussian processes and kernel methods (g8325)\nGaussian processes and kernel methods (g8325)\nBayesian active model selection with an application to automated audiometry\nFinding sparse features in strongly confounded medical binary data\nFinding sparse features in strongly confounded medical binary data\nHigh-dimensional neural spike train analysis with generalized count linear dynamical systems\nHigh-dimensional neural spike train analysis with generalized count linear dynamical systems\nLinear dimensionality reduction: survey, insights, and generalizations\nLinear dimensionality reduction: survey, insights, and generalizations\nLes cahiers de la chaire/na-09\nLes cahiers de la chaire/na-09\nDimensionality reduction for large-scale neural recordings\nDimensionality reduction for large-scale neural recordings\nAnalyzing neural data at huge scale\nAnalyzing neural data at huge scale\nBrain machine interface\nBrain machine interface\nBayesian optimization with inequality constraints.\nBayesian optimization with inequality constraints.\nImage interpolation and denoising for division of focal plane sensors using gaussian processes\nImage interpolation and denoising for division of focal plane sensors using gaussian processes\nGp-grid image interpolation and denoising for division of focal plane sensors\nGp-grid image interpolation and denoising for division of focal plane sensors\nGaussian processes as a statistical method\nGaussian processes as a statistical method\nStatistical research and training under the brain initiative\nStatistical research and training under the brain initiative\nA dynamical basis set for generating reaches\nA dynamical basis set for generating reaches\nClustered factor analysis of multineuronal spike data\nClustered factor analysis of multineuronal spike data\nFast kernel learning for multidimensional pattern extrapolation\nFast kernel learning for multidimensional pattern extrapolation\nA novel method for curvefitting the stretched exponential function to experimental data\nA novel method for curvefitting the stretched exponential function to experimental data\nGpatt: fast multidimensional pattern extrapolation with gaussian processes\nGpatt: fast multidimensional pattern extrapolation with gaussian processes\nBayesian nonparametric methods for partially-observable reinforcement learning\nScaling multidimensional inference for structured gaussian processes\nScaling multidimensional inference for structured gaussian processes\nScaling multidimensional gaussian processes using projected additive approximations\nScaling multidimensional gaussian processes using projected additive approximations\nTowards a speech bci using ecog\nTowards a speech bci using ecog\nA high-performance neural prosthesis enabled by control algorithm design\nA high-performance neural prosthesis enabled by control algorithm design\nA brain machine interface control algorithm designed from a feedback control perspective\nA brain machine interface control algorithm designed from a feedback control perspective\nNeural population dynamics during reaching\nNeural population dynamics during reaching\nAn l 1-regularized logistic model for detecting short-term neuronal interactions\nAn l 1-regularized logistic model for detecting short-term neuronal interactions\nGaussian processes for time-marked time-series data\nGaussian processes for time-marked time-series data\nSystem and method for computing cumulative densities of data represented by gaussian distributions\nSystem and method for computing cumulative densities of data represented by gaussian distributions\nComparing visual and motor cortex: representational coding versus dynamical systems\n5. churchland mm, cunningham jp, kaufman mt and others. neural population dynamics during reaching//nature.–2012.–v. 487/–p. 51–56.\nGaussian probabilities and expectation propagation\nGaussian probabilities and expectation propagation\nApproximate gaussian integration using expectation propagation\nApproximate gaussian integration using expectation propagation\nLong-term stability of neural prosthetic control signals from silicon cortical arrays in rhesus macaque motor cortex\nA variational approach to learning curves\nLinear dynamical neural population models through nonlinear embedding\nInformation-geometric decomposition in spike analysis\nVariational inference for nonlinear dynamics\nCortical preparatory activity: representation of movement or first cog in a dynamical machine?\nEmpirical models of spiking in neural populations\nMaximum entropy flow networks. international conference on learning representations\nEncoding of value and choice as separable, dynamic neural dimensions\n"
                }
            ],
            "source": [
                "for i in papers:\n",
                "    print(i)"
            ]
        },
        {
            "cell_type": "code",
            "execution_count": 54,
            "metadata": {},
            "outputs": [
                {
                    "data": {
                        "text/plain": "0        False\n1        False\n2        False\n3        False\n4        False\n         ...  \n11737    False\n11738    False\n11739    False\n11740    False\n11741    False\nName: author_id, Length: 11742, dtype: bool"
                    },
                    "execution_count": 54,
                    "metadata": {},
                    "output_type": "execute_result"
                }
            ],
            "source": [
                "da['author_id'] == 0"
            ]
        },
        {
            "cell_type": "code",
            "execution_count": 55,
            "metadata": {},
            "outputs": [
                {
                    "data": {
                        "text/html": "\u003cdiv\u003e\n\u003cstyle scoped\u003e\n    .dataframe tbody tr th:only-of-type {\n        vertical-align: middle;\n    }\n\n    .dataframe tbody tr th {\n        vertical-align: top;\n    }\n\n    .dataframe thead th {\n        text-align: right;\n    }\n\u003c/style\u003e\n\u003ctable border=\"1\" class=\"dataframe\"\u003e\n  \u003cthead\u003e\n    \u003ctr style=\"text-align: right;\"\u003e\n      \u003cth\u003e\u003c/th\u003e\n      \u003cth\u003eUnnamed: 0\u003c/th\u003e\n      \u003cth\u003eauthor_id\u003c/th\u003e\n      \u003cth\u003egiven_name\u003c/th\u003e\n      \u003cth\u003efamily_name\u003c/th\u003e\n      \u003cth\u003emiddle_name\u003c/th\u003e\n      \u003cth\u003epaper_id\u003c/th\u003e\n      \u003cth\u003epaper_title\u003c/th\u003e\n    \u003c/tr\u003e\n  \u003c/thead\u003e\n  \u003ctbody\u003e\n    \u003ctr\u003e\n      \u003cth\u003e12\u003c/th\u003e\n      \u003ctd\u003e12\u003c/td\u003e\n      \u003ctd\u003e0\u003c/td\u003e\n      \u003ctd\u003eJohn\u003c/td\u003e\n      \u003ctd\u003eCunningham\u003c/td\u003e\n      \u003ctd\u003eP\u003c/td\u003e\n      \u003ctd\u003e20\u003c/td\u003e\n      \u003ctd\u003eNonlinear evolution via spatially-dependent li...\u003c/td\u003e\n    \u003c/tr\u003e\n    \u003ctr\u003e\n      \u003cth\u003e24\u003c/th\u003e\n      \u003ctd\u003e24\u003c/td\u003e\n      \u003ctd\u003e0\u003c/td\u003e\n      \u003ctd\u003eJohn\u003c/td\u003e\n      \u003ctd\u003eCunningham\u003c/td\u003e\n      \u003ctd\u003eP\u003c/td\u003e\n      \u003ctd\u003e48\u003c/td\u003e\n      \u003ctd\u003eNeural trajectories in the supplementary motor...\u003c/td\u003e\n    \u003c/tr\u003e\n    \u003ctr\u003e\n      \u003cth\u003e34\u003c/th\u003e\n      \u003ctd\u003e34\u003c/td\u003e\n      \u003ctd\u003e0\u003c/td\u003e\n      \u003ctd\u003eJohn\u003c/td\u003e\n      \u003ctd\u003eCunningham\u003c/td\u003e\n      \u003ctd\u003eP\u003c/td\u003e\n      \u003ctd\u003e48\u003c/td\u003e\n      \u003ctd\u003eNeural trajectories in the supplementary motor...\u003c/td\u003e\n    \u003c/tr\u003e\n    \u003ctr\u003e\n      \u003cth\u003e41\u003c/th\u003e\n      \u003ctd\u003e41\u003c/td\u003e\n      \u003ctd\u003e0\u003c/td\u003e\n      \u003ctd\u003eJohn\u003c/td\u003e\n      \u003ctd\u003eCunningham\u003c/td\u003e\n      \u003ctd\u003eP\u003c/td\u003e\n      \u003ctd\u003e48\u003c/td\u003e\n      \u003ctd\u003eNeural trajectories in the supplementary motor...\u003c/td\u003e\n    \u003c/tr\u003e\n    \u003ctr\u003e\n      \u003cth\u003e69\u003c/th\u003e\n      \u003ctd\u003e69\u003c/td\u003e\n      \u003ctd\u003e0\u003c/td\u003e\n      \u003ctd\u003eJohn\u003c/td\u003e\n      \u003ctd\u003eCunningham\u003c/td\u003e\n      \u003ctd\u003eP\u003c/td\u003e\n      \u003ctd\u003e74\u003c/td\u003e\n      \u003ctd\u003eLocalized semi-nonnegative matrix factorizatio...\u003c/td\u003e\n    \u003c/tr\u003e\n    \u003ctr\u003e\n      \u003cth\u003e...\u003c/th\u003e\n      \u003ctd\u003e...\u003c/td\u003e\n      \u003ctd\u003e...\u003c/td\u003e\n      \u003ctd\u003e...\u003c/td\u003e\n      \u003ctd\u003e...\u003c/td\u003e\n      \u003ctd\u003e...\u003c/td\u003e\n      \u003ctd\u003e...\u003c/td\u003e\n      \u003ctd\u003e...\u003c/td\u003e\n    \u003c/tr\u003e\n    \u003ctr\u003e\n      \u003cth\u003e2960\u003c/th\u003e\n      \u003ctd\u003e2960\u003c/td\u003e\n      \u003ctd\u003e0\u003c/td\u003e\n      \u003ctd\u003eJohn\u003c/td\u003e\n      \u003ctd\u003eCunningham\u003c/td\u003e\n      \u003ctd\u003eP\u003c/td\u003e\n      \u003ctd\u003e2350\u003c/td\u003e\n      \u003ctd\u003eVariational inference for nonlinear dynamics\u003c/td\u003e\n    \u003c/tr\u003e\n    \u003ctr\u003e\n      \u003cth\u003e3322\u003c/th\u003e\n      \u003ctd\u003e3322\u003c/td\u003e\n      \u003ctd\u003e0\u003c/td\u003e\n      \u003ctd\u003eJohn\u003c/td\u003e\n      \u003ctd\u003eCunningham\u003c/td\u003e\n      \u003ctd\u003eP\u003c/td\u003e\n      \u003ctd\u003e2773\u003c/td\u003e\n      \u003ctd\u003eCortical preparatory activity: representation ...\u003c/td\u003e\n    \u003c/tr\u003e\n    \u003ctr\u003e\n      \u003cth\u003e3412\u003c/th\u003e\n      \u003ctd\u003e3412\u003c/td\u003e\n      \u003ctd\u003e0\u003c/td\u003e\n      \u003ctd\u003eJohn\u003c/td\u003e\n      \u003ctd\u003eCunningham\u003c/td\u003e\n      \u003ctd\u003eP\u003c/td\u003e\n      \u003ctd\u003e2853\u003c/td\u003e\n      \u003ctd\u003eEmpirical models of spiking in neural populations\u003c/td\u003e\n    \u003c/tr\u003e\n    \u003ctr\u003e\n      \u003cth\u003e3427\u003c/th\u003e\n      \u003ctd\u003e3427\u003c/td\u003e\n      \u003ctd\u003e0\u003c/td\u003e\n      \u003ctd\u003eJohn\u003c/td\u003e\n      \u003ctd\u003eCunningham\u003c/td\u003e\n      \u003ctd\u003eP\u003c/td\u003e\n      \u003ctd\u003e2868\u003c/td\u003e\n      \u003ctd\u003eMaximum entropy flow networks. international c...\u003c/td\u003e\n    \u003c/tr\u003e\n    \u003ctr\u003e\n      \u003cth\u003e10277\u003c/th\u003e\n      \u003ctd\u003e10277\u003c/td\u003e\n      \u003ctd\u003e0\u003c/td\u003e\n      \u003ctd\u003eJohn\u003c/td\u003e\n      \u003ctd\u003eCunningham\u003c/td\u003e\n      \u003ctd\u003eP\u003c/td\u003e\n      \u003ctd\u003e10159\u003c/td\u003e\n      \u003ctd\u003eEncoding of value and choice as separable, dyn...\u003c/td\u003e\n    \u003c/tr\u003e\n  \u003c/tbody\u003e\n\u003c/table\u003e\n\u003cp\u003e199 rows × 7 columns\u003c/p\u003e\n\u003c/div\u003e",
                        "text/plain": "       Unnamed: 0  author_id given_name family_name middle_name  paper_id  \\\n12             12          0       John  Cunningham           P        20   \n24             24          0       John  Cunningham           P        48   \n34             34          0       John  Cunningham           P        48   \n41             41          0       John  Cunningham           P        48   \n69             69          0       John  Cunningham           P        74   \n...           ...        ...        ...         ...         ...       ...   \n2960         2960          0       John  Cunningham           P      2350   \n3322         3322          0       John  Cunningham           P      2773   \n3412         3412          0       John  Cunningham           P      2853   \n3427         3427          0       John  Cunningham           P      2868   \n10277       10277          0       John  Cunningham           P     10159   \n\n                                             paper_title  \n12     Nonlinear evolution via spatially-dependent li...  \n24     Neural trajectories in the supplementary motor...  \n34     Neural trajectories in the supplementary motor...  \n41     Neural trajectories in the supplementary motor...  \n69     Localized semi-nonnegative matrix factorizatio...  \n...                                                  ...  \n2960        Variational inference for nonlinear dynamics  \n3322   Cortical preparatory activity: representation ...  \n3412   Empirical models of spiking in neural populations  \n3427   Maximum entropy flow networks. international c...  \n10277  Encoding of value and choice as separable, dyn...  \n\n[199 rows x 7 columns]"
                    },
                    "execution_count": 55,
                    "metadata": {},
                    "output_type": "execute_result"
                }
            ],
            "source": [
                "da[da['author_id'] == 0]"
            ]
        },
        {
            "cell_type": "code",
            "execution_count": 56,
            "metadata": {},
            "outputs": [],
            "source": [
                ""
            ]
        },
        {
            "cell_type": "code",
            "execution_count": 57,
            "metadata": {},
            "outputs": [],
            "source": [
                ""
            ]
        },
        {
            "cell_type": "code",
            "execution_count": 58,
            "metadata": {},
            "outputs": [],
            "source": [
                ""
            ]
        },
        {
            "cell_type": "code",
            "execution_count": 59,
            "metadata": {},
            "outputs": [],
            "source": [
                ""
            ]
        },
        {
            "cell_type": "code",
            "execution_count": 60,
            "metadata": {},
            "outputs": [],
            "source": [
                ""
            ]
        },
        {
            "cell_type": "code",
            "execution_count": 61,
            "metadata": {},
            "outputs": [],
            "source": [
                ""
            ]
        },
        {
            "cell_type": "code",
            "execution_count": 62,
            "metadata": {},
            "outputs": [
                {
                    "data": {
                        "text/plain": "paper_id\n4         2\n15        5\n20        6\n21        1\n30       10\n         ..\n11717     2\n11719     5\n11722     1\n11724     2\n11727     4\nName: author_id, Length: 3049, dtype: int64"
                    },
                    "execution_count": 62,
                    "metadata": {},
                    "output_type": "execute_result"
                }
            ],
            "source": [
                "da.groupby('paper_id').count()['author_id']"
            ]
        },
        {
            "cell_type": "code",
            "execution_count": 63,
            "metadata": {},
            "outputs": [
                {
                    "data": {
                        "text/plain": "paper_id\n6974       1\n9023       1\n9024       1\n9027       1\n6661       1\n        ... \n5221      83\n1711     107\n11469    116\n299      129\n917      238\nName: author_id, Length: 3049, dtype: int64"
                    },
                    "execution_count": 63,
                    "metadata": {},
                    "output_type": "execute_result"
                }
            ],
            "source": [
                "da.groupby('paper_id').count()['author_id'].sort_values()"
            ]
        },
        {
            "cell_type": "code",
            "execution_count": 64,
            "metadata": {},
            "outputs": [],
            "source": [
                "paper_auth = da.groupby('paper_id').count()['author_id'].sort_values()"
            ]
        },
        {
            "cell_type": "code",
            "execution_count": 65,
            "metadata": {},
            "outputs": [
                {
                    "data": {
                        "text/plain": "paper_id\n6974    1\n9023    1\n9024    1\n9027    1\n6661    1\n       ..\n8993    2\n6792    2\n6772    2\n9005    2\n6765    2\nName: author_id, Length: 1000, dtype: int64"
                    },
                    "execution_count": 65,
                    "metadata": {},
                    "output_type": "execute_result"
                }
            ],
            "source": [
                "paper_auth[: 1000]"
            ]
        },
        {
            "cell_type": "code",
            "execution_count": 66,
            "metadata": {},
            "outputs": [
                {
                    "data": {
                        "text/plain": "pandas.core.series.Series"
                    },
                    "execution_count": 66,
                    "metadata": {},
                    "output_type": "execute_result"
                }
            ],
            "source": [
                "type(paper_auth[: 1000])"
            ]
        },
        {
            "cell_type": "code",
            "execution_count": 67,
            "metadata": {},
            "outputs": [
                {
                    "data": {
                        "text/plain": "Int64Index([ 6974,  9023,  9024,  9027,  6661,  3836,  5301, 10735, 10205,\n            10734,\n            ...\n             8983,  6878,  8987,  6824,  6820,  8993,  6792,  6772,  9005,\n             6765],\n           dtype='int64', name='paper_id', length=1000)"
                    },
                    "execution_count": 67,
                    "metadata": {},
                    "output_type": "execute_result"
                }
            ],
            "source": [
                "paper_auth[: 1000].index"
            ]
        },
        {
            "cell_type": "code",
            "execution_count": 68,
            "metadata": {},
            "outputs": [],
            "source": [
                "less_authors = 0\n",
                "paper_auth = da.groupby('paper_id').count()['author_id'].sort_values()\n",
                "for i in paper_auth[: 500].index:\n",
                "    title = da.loc[i]['paper_title']\n",
                "    if title in pr.groupby('auth_title').count().index:\n",
                "        a = pr.groupby('auth_title').count()['ref_id']\n",
                "        b = pd.DataFrame(a)\n",
                "        less_authors = less_authors + b.loc[title]\n",
                ""
            ]
        },
        {
            "cell_type": "code",
            "execution_count": 69,
            "metadata": {},
            "outputs": [
                {
                    "data": {
                        "text/plain": "ref_id    883\ndtype: int64"
                    },
                    "execution_count": 69,
                    "metadata": {},
                    "output_type": "execute_result"
                }
            ],
            "source": [
                "less_authors"
            ]
        },
        {
            "cell_type": "code",
            "execution_count": 70,
            "metadata": {},
            "outputs": [],
            "source": [
                "less_authors_average = less_authors / 500"
            ]
        },
        {
            "cell_type": "code",
            "execution_count": 71,
            "metadata": {},
            "outputs": [
                {
                    "data": {
                        "text/plain": "ref_id    1.766\ndtype: float64"
                    },
                    "execution_count": 71,
                    "metadata": {},
                    "output_type": "execute_result"
                }
            ],
            "source": [
                "less_authors_average"
            ]
        },
        {
            "cell_type": "code",
            "execution_count": 72,
            "metadata": {},
            "outputs": [],
            "source": [
                "more_authors = 0\n",
                "paper_auth = da.groupby('paper_id').count()['author_id'].sort_values(ascending = False)\n",
                "for i in paper_auth[: 500].index:\n",
                "    title = da.loc[i]['paper_title']\n",
                "    if title in pr.groupby('auth_title').count().index:\n",
                "        a = pr.groupby('auth_title').count()['ref_id']\n",
                "        b = pd.DataFrame(a)\n",
                "        more_authors = more_authors + b.loc[title]\n",
                ""
            ]
        },
        {
            "cell_type": "code",
            "execution_count": 73,
            "metadata": {},
            "outputs": [],
            "source": [
                "paper_auth = da.groupby('paper_id').count()['author_id'].sort_values(ascending = False)"
            ]
        },
        {
            "cell_type": "code",
            "execution_count": 74,
            "metadata": {},
            "outputs": [
                {
                    "data": {
                        "text/plain": "paper_id\n917      238\n299      129\n11469    116\n1711     107\n5221      83\n        ... \n6974       1\n10147      1\n10150      1\n10157      1\n7597       1\nName: author_id, Length: 3049, dtype: int64"
                    },
                    "execution_count": 74,
                    "metadata": {},
                    "output_type": "execute_result"
                }
            ],
            "source": [
                "paper_auth"
            ]
        },
        {
            "cell_type": "code",
            "execution_count": 75,
            "metadata": {},
            "outputs": [
                {
                    "data": {
                        "text/plain": "ref_id    1732\ndtype: int64"
                    },
                    "execution_count": 75,
                    "metadata": {},
                    "output_type": "execute_result"
                }
            ],
            "source": [
                "more_authors"
            ]
        },
        {
            "cell_type": "code",
            "execution_count": 76,
            "metadata": {},
            "outputs": [],
            "source": [
                "more_authors_average = more_authors / 500"
            ]
        },
        {
            "cell_type": "code",
            "execution_count": 77,
            "metadata": {},
            "outputs": [
                {
                    "data": {
                        "text/plain": "ref_id    3.464\ndtype: float64"
                    },
                    "execution_count": 77,
                    "metadata": {},
                    "output_type": "execute_result"
                }
            ],
            "source": [
                "more_authors_average"
            ]
        },
        {
            "cell_type": "code",
            "execution_count": 78,
            "metadata": {},
            "outputs": [
                {
                    "data": {
                        "text/plain": "34"
                    },
                    "execution_count": 78,
                    "metadata": {},
                    "output_type": "execute_result"
                }
            ],
            "source": [
                "pr.groupby('auth_title').count()['ref_id']['A mean field competition']"
            ]
        },
        {
            "cell_type": "code",
            "execution_count": 79,
            "metadata": {},
            "outputs": [
                {
                    "data": {
                        "text/plain": "auth_title\nA mean field competition                                                                                     34\nA mean field game of optimal stopping                                                                        31\nA nonparametric empirical bayesian framework for fluorescence-lifetime imaging microscopy                    37\nA risk-neutral equilibrium leading to uncertain volatility pricing *                                         56\nA sharp blockwise tensor perturbation bound for orthogonal iteration                                        124\n                                                                                                           ... \nTowards the neural population doctrine                                                                       86\nUsing embeddings to correct for unobserved confounding in networks                                           42\nValue and choice as separable, stable representations in orbitofrontal cortex                                95\nVariational bayes under model misspecification                                                               38\nVoter registration databases and mrp: toward the use of large-scale databases in public opinion research      6\nName: ref_id, Length: 81, dtype: int64"
                    },
                    "execution_count": 79,
                    "metadata": {},
                    "output_type": "execute_result"
                }
            ],
            "source": [
                "pr.groupby('auth_title').count()['ref_id']"
            ]
        },
        {
            "cell_type": "code",
            "execution_count": 80,
            "metadata": {},
            "outputs": [],
            "source": [
                "a = pr.groupby('auth_title').count()['ref_id']"
            ]
        },
        {
            "cell_type": "code",
            "execution_count": 81,
            "metadata": {},
            "outputs": [],
            "source": [
                "b = pd.DataFrame(a)"
            ]
        },
        {
            "cell_type": "code",
            "execution_count": 82,
            "metadata": {},
            "outputs": [
                {
                    "data": {
                        "text/html": "\u003cdiv\u003e\n\u003cstyle scoped\u003e\n    .dataframe tbody tr th:only-of-type {\n        vertical-align: middle;\n    }\n\n    .dataframe tbody tr th {\n        vertical-align: top;\n    }\n\n    .dataframe thead th {\n        text-align: right;\n    }\n\u003c/style\u003e\n\u003ctable border=\"1\" class=\"dataframe\"\u003e\n  \u003cthead\u003e\n    \u003ctr style=\"text-align: right;\"\u003e\n      \u003cth\u003e\u003c/th\u003e\n      \u003cth\u003eref_id\u003c/th\u003e\n    \u003c/tr\u003e\n    \u003ctr\u003e\n      \u003cth\u003eauth_title\u003c/th\u003e\n      \u003cth\u003e\u003c/th\u003e\n    \u003c/tr\u003e\n  \u003c/thead\u003e\n  \u003ctbody\u003e\n    \u003ctr\u003e\n      \u003cth\u003eA mean field competition\u003c/th\u003e\n      \u003ctd\u003e34\u003c/td\u003e\n    \u003c/tr\u003e\n    \u003ctr\u003e\n      \u003cth\u003eA mean field game of optimal stopping\u003c/th\u003e\n      \u003ctd\u003e31\u003c/td\u003e\n    \u003c/tr\u003e\n    \u003ctr\u003e\n      \u003cth\u003eA nonparametric empirical bayesian framework for fluorescence-lifetime imaging microscopy\u003c/th\u003e\n      \u003ctd\u003e37\u003c/td\u003e\n    \u003c/tr\u003e\n    \u003ctr\u003e\n      \u003cth\u003eA risk-neutral equilibrium leading to uncertain volatility pricing *\u003c/th\u003e\n      \u003ctd\u003e56\u003c/td\u003e\n    \u003c/tr\u003e\n    \u003ctr\u003e\n      \u003cth\u003eA sharp blockwise tensor perturbation bound for orthogonal iteration\u003c/th\u003e\n      \u003ctd\u003e124\u003c/td\u003e\n    \u003c/tr\u003e\n    \u003ctr\u003e\n      \u003cth\u003e...\u003c/th\u003e\n      \u003ctd\u003e...\u003c/td\u003e\n    \u003c/tr\u003e\n    \u003ctr\u003e\n      \u003cth\u003eTowards the neural population doctrine\u003c/th\u003e\n      \u003ctd\u003e86\u003c/td\u003e\n    \u003c/tr\u003e\n    \u003ctr\u003e\n      \u003cth\u003eUsing embeddings to correct for unobserved confounding in networks\u003c/th\u003e\n      \u003ctd\u003e42\u003c/td\u003e\n    \u003c/tr\u003e\n    \u003ctr\u003e\n      \u003cth\u003eValue and choice as separable, stable representations in orbitofrontal cortex\u003c/th\u003e\n      \u003ctd\u003e95\u003c/td\u003e\n    \u003c/tr\u003e\n    \u003ctr\u003e\n      \u003cth\u003eVariational bayes under model misspecification\u003c/th\u003e\n      \u003ctd\u003e38\u003c/td\u003e\n    \u003c/tr\u003e\n    \u003ctr\u003e\n      \u003cth\u003eVoter registration databases and mrp: toward the use of large-scale databases in public opinion research\u003c/th\u003e\n      \u003ctd\u003e6\u003c/td\u003e\n    \u003c/tr\u003e\n  \u003c/tbody\u003e\n\u003c/table\u003e\n\u003cp\u003e81 rows × 1 columns\u003c/p\u003e\n\u003c/div\u003e",
                        "text/plain": "                                                    ref_id\nauth_title                                                \nA mean field competition                                34\nA mean field game of optimal stopping                   31\nA nonparametric empirical bayesian framework fo...      37\nA risk-neutral equilibrium leading to uncertain...      56\nA sharp blockwise tensor perturbation bound for...     124\n...                                                    ...\nTowards the neural population doctrine                  86\nUsing embeddings to correct for unobserved conf...      42\nValue and choice as separable, stable represent...      95\nVariational bayes under model misspecification          38\nVoter registration databases and mrp: toward th...       6\n\n[81 rows x 1 columns]"
                    },
                    "execution_count": 82,
                    "metadata": {},
                    "output_type": "execute_result"
                }
            ],
            "source": [
                "b"
            ]
        },
        {
            "cell_type": "code",
            "execution_count": 83,
            "metadata": {},
            "outputs": [
                {
                    "data": {
                        "text/plain": "0       Nonlinear evolution via spatially-dependent li...\n1       Nonlinear evolution via spatially-dependent li...\n2       Nonlinear evolution via spatially-dependent li...\n3       Nonlinear evolution via spatially-dependent li...\n4       Nonlinear evolution via spatially-dependent li...\n                              ...                        \n3716                         Population predictive checks\n3717                         Population predictive checks\n3718                         Population predictive checks\n3719                         Population predictive checks\n3720                         Population predictive checks\nName: auth_title, Length: 3721, dtype: object"
                    },
                    "execution_count": 83,
                    "metadata": {},
                    "output_type": "execute_result"
                }
            ],
            "source": [
                "pr['auth_title']"
            ]
        },
        {
            "cell_type": "code",
            "execution_count": 84,
            "metadata": {},
            "outputs": [],
            "source": [
                ""
            ]
        },
        {
            "cell_type": "code",
            "execution_count": 85,
            "metadata": {},
            "outputs": [
                {
                    "data": {
                        "text/plain": "Index(['A mean field competition', 'A mean field game of optimal stopping',\n       'A nonparametric empirical bayesian framework for fluorescence-lifetime imaging microscopy',\n       'A risk-neutral equilibrium leading to uncertain volatility pricing *',\n       'A sharp blockwise tensor perturbation bound for orthogonal iteration',\n       'Abandon statistical significance',\n       'Adapting neural networks for the estimation of treatment effects',\n       'Adapting text embeddings for causal inference',\n       'Asset pricing with heterogeneous beliefs and illiquidity',\n       'Avoiding latent variable collapse with generative skip models',\n       'Bayesian analysis of tests with unknown specificity and sensitivity *',\n       'Bayesian hierarchical spatial models: implementing the besag york mollié model in stan',\n       'Bayesian hierarchical weighting adjustment and survey inference',\n       'Bounds for vix futures given s\u0026p 500 smiles',\n       'Calibrating deep convolutional gaussian processes',\n       'Canonical supermartingale couplings',\n       'Childhood obesity intervention studies: a',\n       'Complete duality for martingale optimal transport on the line',\n       'Conditional optimal stopping: a time-inconsistent optimization',\n       'Consistent price systems under model uncertainty',\n       'Controlling the minimal feature sizes in adjoint optimization of nanophotonic devices using b-spline surfaces',\n       'Convergence to the mean field game limit: a case study',\n       'De novo gene signature identification from single-cell rna-seq with hierarchical poisson factorization',\n       'Deep graph pose: a semi-supervised deep graphical model for improved animal pose tracking',\n       'Discriminative regularization for latent variable models with applications to electrocardiography',\n       'Don't calculate post-hoc power using observed estimate of effect size 1',\n       'Empirical risk minimization and stochastic gradient descent for relational data',\n       'Evidence vs. truth 1',\n       'Excitatory and inhibitory subnetworks are equally selective during decision-making and emerge simultaneously during learning',\n       'Expectation propagation as a way of life: a framework for bayesian inference on partitioned data',\n       'Factorisable multitask quantile regression',\n       'Fallout of lead over paris from the 2019 notre-dame cathedral fire',\n       'Finding differentially covarying needles in a temporally evolving haystack: a scan statistics perspective',\n       'Fine properties of the optimal skorokhod embedding problem *',\n       'Frequentist consistency of variational bayes',\n       'General linear-time inference for gaussian processes on one dimension',\n       'Improving multilevel regression and poststratification with structured priors',\n       'Invertible gaussian reparameterization: revisiting the gumbel-softmax',\n       'Islet: fast and optimal low-rank tensor regression via importance sketching',\n       'Know your population and know your model: using model-based regression and post-stratification to generalize findings beyond the observed sample',\n       'Laplace's theories of cognitive illusions, heuristics and biases',\n       'Large-scale replication projects in contemporary psychological research',\n       'Localized semi-nonnegative matrix factorization (locanmf) of widefield calcium imaging data',\n       'Multiperiod martingale transport',\n       'Multiple perspectives on inference for two simple statistical scenarios',\n       'Nanophotonic media for artificial neural inference',\n       'Neural trajectories in the supplementary motor area and motor cortex exhibit distinct geometries, compatible with different classes of computation',\n       'Neuroscience cloud analysis as a service',\n       'Nonlinear evolution via spatially-dependent linear dynamics for electrophysiology and calcium data',\n       'Nonlinear lévy processes and their characteristics',\n       'On polynomial time methods for exact low rank tensor completion *',\n       'On the optimality of gaussian kernel based nonparametric tests against smooth alternatives *',\n       'Orbita and coronary stents: a case study in the analysis and reporting of clinical trials',\n       'Perturbation bounds for orthogonally decomposable tensors and their applications in high dimensional data analysis *',\n       'Poisson-randomized gamma dynamical systems',\n       'Population predictive checks',\n       'Post-hoc power using observed estimate of effect size is too noisy to be useful 1',\n       'Rank-normalization, folding, and localization: an improved r for assessing convergence of mcmc *',\n       'Robust fundamental theorem for continuous processes',\n       'Robust utility maximization with lévy processes',\n       'Shopper: a probabilistic model of consumer choice with substitutes and complements',\n       'Shorting in speculative markets *',\n       'Spatially adaptive colocalization analysis in dual-color fluorescence microscopy',\n       'Statistical inferences of linear forms for noisy matrix completion *',\n       'Statistically optimal and computationally efficient low rank tensor completion from noisy entries',\n       'Structured correlation detection with application to colocalization analysis in dual-channel fluorescence microscopic imaging',\n       'Text-based ideal points', 'The blessings of multiple causes',\n       'The continuous categorical: a novel simplex-valued exponential family',\n       'The directional optimal transport *',\n       'The experiment is just as important as the likelihood in understanding the prior: a cautionary note on robust cognitive modelling',\n       'The holdout randomization test: principled and easy black box feature selection',\n       'The implementation of randomization requires corrected analyses. comment on ''comprehensive nutritional and dietary intervention for autism spectrum disorder-a randomized, controlled 12-month trial, nutrients 2018, 10, 369''',\n       'The medical deconfounder: assessing treatment effects with electronic health records',\n       'Topic modeling in embedding spaces', 'Topological autoencoders',\n       'Towards the neural population doctrine',\n       'Using embeddings to correct for unobserved confounding in networks',\n       'Value and choice as separable, stable representations in orbitofrontal cortex',\n       'Variational bayes under model misspecification',\n       'Voter registration databases and mrp: toward the use of large-scale databases in public opinion research'],\n      dtype='object', name='auth_title')"
                    },
                    "execution_count": 85,
                    "metadata": {},
                    "output_type": "execute_result"
                }
            ],
            "source": [
                "pr.groupby('auth_title').count().index"
            ]
        },
        {
            "cell_type": "code",
            "execution_count": 86,
            "metadata": {},
            "outputs": [],
            "source": [
                ""
            ]
        },
        {
            "cell_type": "code",
            "execution_count": 87,
            "metadata": {},
            "outputs": [],
            "source": [
                ""
            ]
        }
    ]
}
