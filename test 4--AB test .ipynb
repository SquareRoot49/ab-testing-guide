{
 "cells": [
  {
   "cell_type": "code",
   "execution_count": 1,
   "id": "3bd4a242-4875-431a-8c96-cfb045cf6b30",
   "metadata": {},
   "outputs": [],
   "source": [
    "import numpy as np"
   ]
  },
  {
   "cell_type": "code",
   "execution_count": 2,
   "id": "aed65686-40b1-4de9-889c-5cde72f4840a",
   "metadata": {},
   "outputs": [],
   "source": [
    "import pandas as pd"
   ]
  },
  {
   "cell_type": "code",
   "execution_count": 3,
   "id": "77bf5b2f-b5f9-48c9-9098-f894c2e41cf7",
   "metadata": {},
   "outputs": [],
   "source": [
    "# 堆叠数组\n",
    "a = np.array([[1, 2, 3]])\n",
    "b = np.array([[4, 5, 6]])\n",
    "c = np.vstack((a, b))"
   ]
  },
  {
   "cell_type": "code",
   "execution_count": 8,
   "id": "a6a14de2-da4a-4941-876d-e6ed3482219b",
   "metadata": {},
   "outputs": [
    {
     "data": {
      "text/plain": [
       "array([[1, 2, 3, 4, 5, 6]])"
      ]
     },
     "execution_count": 8,
     "metadata": {},
     "output_type": "execute_result"
    }
   ],
   "source": [
    "c\n",
    "# vstack代表纵向堆叠"
   ]
  },
  {
   "cell_type": "code",
   "execution_count": 5,
   "id": "7ff5712a-8dd9-4403-80d0-62b524f9a347",
   "metadata": {},
   "outputs": [],
   "source": [
    "c = np.hstack((a, b))"
   ]
  },
  {
   "cell_type": "code",
   "execution_count": 7,
   "id": "15af741a-7171-4662-bee6-5d7f7605cddd",
   "metadata": {},
   "outputs": [
    {
     "data": {
      "text/plain": [
       "array([[1, 2, 3, 4, 5, 6]])"
      ]
     },
     "execution_count": 7,
     "metadata": {},
     "output_type": "execute_result"
    }
   ],
   "source": [
    "c\n",
    "# hstack代表横向堆叠"
   ]
  },
  {
   "cell_type": "code",
   "execution_count": 9,
   "id": "922057c2-e5f6-422e-bd30-1a67d68b6536",
   "metadata": {},
   "outputs": [],
   "source": [
    "# 模拟AB测试"
   ]
  },
  {
   "cell_type": "code",
   "execution_count": 10,
   "id": "6b5a0686-363a-47a5-83c9-0b908623d0a4",
   "metadata": {},
   "outputs": [],
   "source": [
    "# np.random.binomial()用法\n",
    "# 投掷硬币10次，试验1000次\n",
    "s = np.random.binomial(n=10, p=0.5, size=1000)"
   ]
  },
  {
   "cell_type": "code",
   "execution_count": 11,
   "id": "7052e2e1-f185-4f9b-bdb1-c5c45d1855c2",
   "metadata": {},
   "outputs": [
    {
     "data": {
      "text/plain": [
       "array([6, 7, 6, 7, 6, 5, 8, 3, 2, 7, 6, 6, 5, 2, 5, 7, 2, 5, 5, 6, 5, 6,\n",
       "       4, 4, 4, 6, 5, 5, 7, 6, 6, 4, 6, 6, 4, 7, 4, 5, 4, 5, 6, 5, 4, 1,\n",
       "       5, 8, 6, 4, 4, 7, 3, 8, 5, 6, 5, 6, 3, 3, 4, 4, 6, 7, 5, 7, 5, 6,\n",
       "       4, 6, 5, 5, 4, 4, 3, 4, 8, 6, 6, 4, 3, 6, 4, 1, 6, 4, 7, 6, 6, 6,\n",
       "       6, 4, 4, 4, 4, 8, 6, 6, 5, 5, 8, 6, 6, 5, 6, 4, 4, 6, 6, 5, 4, 3,\n",
       "       6, 5, 4, 5, 4, 5, 3, 4, 5, 7, 6, 4, 5, 4, 5, 4, 5, 3, 4, 5, 5, 6,\n",
       "       4, 6, 7, 3, 5, 7, 6, 6, 4, 6, 3, 3, 5, 8, 6, 4, 7, 6, 7, 4, 5, 7,\n",
       "       5, 3, 6, 6, 6, 4, 4, 3, 3, 7, 6, 7, 3, 5, 6, 6, 5, 4, 5, 6, 7, 7,\n",
       "       6, 5, 5, 7, 6, 4, 7, 4, 5, 5, 4, 2, 5, 5, 4, 6, 4, 3, 9, 4, 2, 6,\n",
       "       6, 5, 4, 5, 7, 3, 5, 5, 3, 5, 4, 6, 3, 6, 3, 5, 4, 6, 3, 6, 7, 5,\n",
       "       5, 6, 6, 5, 2, 5, 7, 3, 8, 1, 6, 4, 5, 6, 7, 4, 3, 3, 4, 5, 5, 6,\n",
       "       4, 6, 3, 3, 6, 5, 6, 4, 6, 5, 5, 2, 3, 3, 5, 5, 7, 4, 3, 4, 5, 5,\n",
       "       6, 6, 4, 5, 4, 5, 4, 4, 5, 3, 4, 4, 5, 3, 6, 3, 5, 4, 7, 6, 8, 7,\n",
       "       3, 4, 8, 6, 4, 3, 6, 7, 6, 6, 4, 4, 8, 5, 5, 3, 7, 4, 3, 6, 5, 4,\n",
       "       6, 6, 5, 3, 7, 6, 3, 3, 2, 3, 4, 5, 2, 4, 7, 5, 6, 4, 4, 3, 3, 6,\n",
       "       4, 3, 5, 6, 6, 6, 7, 5, 4, 6, 2, 5, 6, 5, 4, 6, 4, 4, 5, 5, 6, 4,\n",
       "       5, 3, 3, 7, 2, 5, 4, 5, 6, 5, 6, 5, 8, 6, 5, 5, 5, 7, 7, 6, 4, 2,\n",
       "       6, 6, 5, 4, 4, 6, 1, 8, 6, 6, 3, 7, 8, 2, 4, 4, 6, 5, 7, 3, 8, 7,\n",
       "       7, 7, 5, 6, 4, 5, 5, 4, 4, 6, 5, 7, 6, 5, 3, 8, 5, 3, 4, 3, 8, 4,\n",
       "       4, 5, 6, 8, 8, 9, 6, 4, 7, 3, 7, 6, 3, 5, 6, 2, 3, 3, 5, 7, 5, 5,\n",
       "       4, 9, 5, 5, 4, 5, 4, 6, 5, 8, 6, 3, 5, 5, 8, 6, 6, 6, 5, 4, 6, 5,\n",
       "       2, 8, 7, 2, 5, 4, 3, 5, 4, 9, 4, 5, 5, 3, 6, 4, 7, 3, 5, 7, 5, 8,\n",
       "       5, 6, 4, 4, 3, 5, 6, 1, 5, 5, 6, 5, 8, 3, 3, 7, 4, 5, 4, 3, 4, 4,\n",
       "       3, 7, 4, 5, 6, 3, 4, 7, 5, 7, 5, 3, 6, 5, 6, 6, 7, 3, 4, 5, 6, 1,\n",
       "       3, 5, 4, 3, 4, 5, 6, 2, 6, 5, 7, 6, 6, 4, 5, 5, 2, 5, 7, 5, 3, 6,\n",
       "       6, 4, 4, 8, 6, 4, 4, 7, 5, 7, 3, 4, 6, 4, 3, 6, 3, 6, 6, 7, 6, 5,\n",
       "       3, 4, 6, 5, 3, 5, 3, 4, 4, 8, 8, 7, 5, 6, 4, 5, 3, 5, 4, 5, 3, 4,\n",
       "       8, 5, 7, 5, 4, 7, 6, 6, 5, 5, 3, 5, 7, 1, 3, 7, 4, 7, 6, 4, 7, 3,\n",
       "       4, 7, 6, 5, 3, 4, 6, 4, 3, 6, 7, 3, 3, 6, 6, 5, 7, 6, 5, 6, 4, 7,\n",
       "       6, 8, 4, 4, 5, 4, 4, 4, 3, 3, 6, 3, 4, 4, 4, 4, 3, 6, 5, 6, 6, 6,\n",
       "       4, 3, 7, 1, 5, 4, 7, 8, 5, 4, 7, 5, 3, 5, 5, 3, 5, 5, 4, 5, 7, 3,\n",
       "       6, 5, 6, 3, 6, 3, 3, 6, 8, 5, 2, 4, 3, 6, 4, 7, 6, 8, 5, 4, 3, 5,\n",
       "       4, 4, 4, 7, 5, 4, 6, 7, 8, 4, 6, 4, 6, 4, 5, 8, 5, 2, 5, 5, 5, 4,\n",
       "       3, 6, 6, 6, 4, 5, 5, 3, 4, 6, 3, 7, 6, 6, 4, 4, 3, 6, 4, 7, 6, 7,\n",
       "       6, 3, 2, 4, 5, 6, 2, 3, 3, 7, 7, 5, 5, 5, 4, 4, 7, 5, 4, 3, 5, 6,\n",
       "       5, 5, 3, 5, 6, 4, 2, 5, 6, 4, 4, 8, 5, 4, 5, 5, 6, 6, 3, 5, 6, 5,\n",
       "       6, 4, 1, 4, 6, 3, 4, 4, 5, 3, 2, 4, 5, 5, 9, 7, 5, 7, 6, 6, 5, 5,\n",
       "       4, 5, 5, 5, 4, 5, 4, 5, 8, 7, 5, 5, 7, 5, 6, 6, 6, 5, 3, 5, 2, 3,\n",
       "       5, 4, 4, 6, 6, 4, 5, 4, 4, 2, 3, 6, 7, 5, 5, 4, 5, 6, 7, 7, 4, 4,\n",
       "       4, 7, 4, 6, 8, 4, 7, 4, 3, 4, 6, 4, 5, 6, 5, 4, 4, 6, 4, 4, 5, 6,\n",
       "       6, 6, 7, 5, 6, 5, 5, 4, 4, 3, 7, 4, 4, 5, 5, 5, 6, 3, 7, 4, 7, 6,\n",
       "       5, 2, 5, 5, 6, 6, 6, 6, 4, 4, 6, 6, 6, 5, 7, 6, 5, 5, 8, 7, 9, 3,\n",
       "       5, 7, 6, 2, 6, 6, 8, 7, 6, 7, 3, 5, 4, 4, 4, 6, 4, 5, 3, 6, 4, 4,\n",
       "       5, 2, 6, 7, 8, 7, 5, 5, 4, 8, 7, 4, 4, 6, 4, 4, 5, 6, 2, 3, 7, 6,\n",
       "       6, 6, 5, 6, 5, 2, 2, 5, 3, 2, 4, 4, 4, 6, 5, 3, 8, 3, 3, 6, 3, 2,\n",
       "       5, 7, 5, 6, 7, 4, 4, 6, 5, 4])"
      ]
     },
     "execution_count": 11,
     "metadata": {},
     "output_type": "execute_result"
    }
   ],
   "source": [
    "s"
   ]
  },
  {
   "cell_type": "code",
   "execution_count": 13,
   "id": "75289ad8-2831-40ef-8734-372f8fa44f02",
   "metadata": {},
   "outputs": [],
   "source": [
    "s = np.random.binomial(n=10, p=0.5)"
   ]
  },
  {
   "cell_type": "code",
   "execution_count": 14,
   "id": "9e685557-7714-46f8-a940-21ea7b9609d4",
   "metadata": {},
   "outputs": [
    {
     "data": {
      "text/plain": [
       "5"
      ]
     },
     "execution_count": 14,
     "metadata": {},
     "output_type": "execute_result"
    }
   ],
   "source": [
    "s"
   ]
  },
  {
   "cell_type": "code",
   "execution_count": 24,
   "id": "43226561-5985-47ed-a33b-49cc7bc52179",
   "metadata": {},
   "outputs": [],
   "source": [
    "num_users = 1000\n",
    "num_days = 14\n",
    "visit_rate = 0.5\n",
    "treat_rate = 0.05\n",
    "geometric_p = 0.1\n",
    "p_a = 0.03\n",
    "p_b = 0.07"
   ]
  },
  {
   "cell_type": "code",
   "execution_count": 25,
   "id": "bcfab56d-71a0-4225-8a37-25bb55f94e49",
   "metadata": {},
   "outputs": [],
   "source": [
    "is_treatment = np.random.choice([0, 1], size = 1000, p = [1 - treat_rate, treat_rate])"
   ]
  },
  {
   "cell_type": "code",
   "execution_count": 26,
   "id": "9602e8af-81f1-4d90-a7bb-549e1cfcac83",
   "metadata": {},
   "outputs": [
    {
     "data": {
      "text/plain": [
       "array([0, 0, 0, 0, 0, 0, 1, 0, 0, 0, 0, 0, 1, 0, 0, 0, 0, 0, 0, 0, 0, 0,\n",
       "       0, 0, 1, 0, 0, 0, 0, 0, 0, 0, 1, 0, 0, 1, 0, 0, 0, 0, 0, 0, 0, 0,\n",
       "       0, 0, 0, 1, 0, 0, 0, 0, 0, 0, 0, 0, 0, 1, 0, 0, 0, 0, 0, 0, 0, 0,\n",
       "       0, 0, 0, 0, 0, 0, 0, 0, 0, 0, 0, 0, 0, 0, 0, 0, 0, 0, 0, 0, 0, 0,\n",
       "       0, 0, 0, 1, 0, 0, 0, 0, 0, 0, 0, 0, 0, 0, 0, 0, 0, 0, 1, 0, 0, 0,\n",
       "       0, 0, 0, 0, 0, 0, 0, 0, 0, 0, 1, 0, 0, 0, 1, 0, 0, 0, 0, 0, 0, 0,\n",
       "       0, 0, 0, 1, 0, 0, 0, 0, 0, 0, 0, 0, 0, 0, 0, 0, 0, 0, 0, 0, 0, 0,\n",
       "       0, 0, 0, 0, 0, 0, 0, 0, 0, 0, 0, 0, 0, 0, 0, 0, 0, 0, 0, 0, 0, 0,\n",
       "       0, 0, 0, 0, 0, 0, 0, 0, 0, 0, 0, 0, 0, 0, 0, 0, 0, 0, 0, 0, 0, 0,\n",
       "       0, 0, 1, 0, 0, 0, 0, 0, 0, 1, 0, 0, 0, 0, 0, 0, 0, 0, 0, 0, 0, 0,\n",
       "       0, 0, 0, 0, 0, 0, 0, 0, 0, 0, 0, 0, 0, 0, 0, 0, 0, 0, 0, 0, 0, 0,\n",
       "       0, 0, 0, 0, 1, 0, 0, 0, 0, 0, 0, 0, 0, 0, 0, 0, 0, 0, 0, 0, 0, 0,\n",
       "       0, 0, 0, 0, 0, 0, 0, 0, 0, 0, 0, 0, 0, 0, 0, 0, 0, 0, 0, 0, 0, 0,\n",
       "       0, 0, 0, 0, 0, 0, 0, 1, 0, 0, 1, 0, 0, 0, 0, 0, 0, 0, 0, 0, 0, 0,\n",
       "       0, 0, 0, 0, 1, 0, 0, 0, 0, 0, 0, 0, 0, 0, 0, 0, 0, 0, 0, 0, 0, 0,\n",
       "       0, 0, 1, 0, 0, 0, 0, 0, 0, 0, 0, 0, 0, 0, 0, 0, 0, 0, 0, 0, 0, 0,\n",
       "       0, 0, 0, 0, 0, 0, 0, 0, 0, 0, 0, 0, 0, 0, 0, 0, 0, 0, 0, 0, 0, 0,\n",
       "       0, 0, 0, 0, 0, 0, 0, 0, 0, 0, 0, 0, 0, 0, 0, 0, 0, 0, 0, 0, 0, 1,\n",
       "       0, 0, 0, 0, 0, 0, 0, 0, 0, 0, 1, 0, 0, 0, 0, 0, 0, 0, 0, 0, 0, 1,\n",
       "       0, 1, 0, 0, 0, 0, 1, 0, 0, 0, 0, 0, 0, 0, 1, 0, 0, 0, 0, 0, 0, 0,\n",
       "       0, 0, 0, 1, 0, 0, 0, 0, 0, 0, 0, 0, 0, 0, 0, 0, 0, 0, 0, 0, 0, 0,\n",
       "       0, 0, 0, 0, 0, 0, 0, 0, 0, 0, 0, 0, 0, 0, 0, 0, 0, 0, 0, 0, 0, 1,\n",
       "       0, 0, 0, 0, 0, 0, 0, 0, 0, 0, 0, 0, 0, 0, 0, 0, 0, 0, 0, 0, 0, 0,\n",
       "       0, 0, 0, 0, 0, 0, 0, 0, 0, 0, 0, 0, 0, 0, 0, 0, 0, 0, 0, 0, 0, 0,\n",
       "       0, 0, 0, 0, 0, 0, 0, 0, 0, 0, 0, 0, 0, 0, 0, 0, 0, 0, 0, 0, 0, 0,\n",
       "       0, 0, 0, 0, 0, 0, 0, 0, 0, 0, 0, 0, 0, 1, 0, 0, 0, 0, 0, 0, 0, 0,\n",
       "       0, 0, 0, 0, 0, 0, 0, 0, 0, 0, 0, 0, 0, 0, 0, 0, 0, 0, 0, 0, 0, 0,\n",
       "       1, 0, 0, 0, 0, 0, 0, 0, 0, 0, 1, 0, 0, 0, 0, 0, 0, 0, 0, 0, 0, 1,\n",
       "       0, 0, 0, 0, 0, 0, 0, 0, 0, 0, 0, 0, 0, 0, 0, 0, 0, 0, 0, 1, 0, 0,\n",
       "       0, 0, 0, 0, 0, 0, 0, 0, 0, 0, 0, 0, 0, 1, 0, 0, 0, 0, 0, 0, 0, 0,\n",
       "       0, 0, 0, 0, 1, 0, 0, 0, 0, 1, 0, 0, 0, 0, 0, 0, 0, 1, 0, 0, 0, 0,\n",
       "       0, 0, 0, 0, 0, 0, 0, 0, 0, 0, 0, 0, 0, 0, 0, 0, 0, 0, 0, 0, 0, 0,\n",
       "       0, 0, 0, 0, 0, 0, 0, 0, 0, 0, 0, 0, 0, 0, 0, 1, 1, 0, 0, 0, 0, 0,\n",
       "       0, 0, 0, 0, 0, 0, 0, 0, 0, 0, 0, 0, 0, 0, 0, 1, 0, 0, 0, 0, 0, 0,\n",
       "       0, 0, 0, 0, 0, 0, 0, 0, 0, 0, 0, 0, 0, 0, 0, 0, 0, 0, 0, 0, 0, 0,\n",
       "       0, 0, 0, 0, 0, 0, 0, 0, 0, 0, 0, 0, 0, 0, 0, 0, 0, 0, 0, 1, 0, 0,\n",
       "       1, 0, 0, 0, 0, 0, 0, 0, 0, 0, 0, 0, 0, 0, 0, 0, 0, 0, 0, 0, 0, 0,\n",
       "       0, 0, 0, 0, 0, 0, 0, 0, 0, 0, 0, 0, 0, 0, 0, 0, 0, 0, 0, 0, 0, 0,\n",
       "       0, 0, 0, 1, 0, 0, 0, 0, 0, 0, 0, 0, 0, 0, 0, 0, 0, 0, 0, 0, 0, 0,\n",
       "       0, 0, 0, 0, 0, 0, 0, 0, 0, 0, 0, 0, 0, 0, 0, 0, 0, 0, 0, 0, 0, 0,\n",
       "       0, 0, 0, 0, 0, 0, 0, 0, 0, 0, 0, 0, 1, 0, 0, 1, 0, 0, 0, 0, 0, 0,\n",
       "       0, 0, 0, 0, 1, 0, 0, 0, 0, 0, 0, 0, 0, 0, 0, 0, 0, 0, 0, 0, 0, 0,\n",
       "       0, 0, 0, 0, 0, 0, 0, 0, 0, 0, 0, 0, 0, 0, 0, 0, 0, 0, 0, 0, 0, 0,\n",
       "       0, 0, 0, 0, 0, 0, 0, 0, 0, 0, 0, 0, 0, 0, 0, 0, 0, 0, 0, 1, 0, 0,\n",
       "       0, 0, 0, 0, 0, 0, 0, 0, 0, 0, 0, 0, 0, 0, 0, 0, 0, 0, 0, 0, 0, 0,\n",
       "       0, 0, 0, 0, 0, 0, 0, 0, 0, 0])"
      ]
     },
     "execution_count": 26,
     "metadata": {},
     "output_type": "execute_result"
    }
   ],
   "source": [
    "is_treatment"
   ]
  },
  {
   "cell_type": "code",
   "execution_count": 27,
   "id": "89586b46-928c-4d29-9b90-487b7cec266b",
   "metadata": {},
   "outputs": [],
   "source": [
    "assign = pd.Series(is_treatment, index = range(num_users)) == 1"
   ]
  },
  {
   "cell_type": "code",
   "execution_count": 30,
   "id": "fdbf99a5-562c-45dd-ac4e-919797a3ac3c",
   "metadata": {},
   "outputs": [
    {
     "data": {
      "text/plain": [
       "array([False, False, False, False, False, False,  True, False, False,\n",
       "       False, False, False,  True, False, False, False, False, False,\n",
       "       False, False, False, False, False, False,  True, False, False,\n",
       "       False, False, False, False, False,  True, False, False,  True,\n",
       "       False, False, False, False, False, False, False, False, False,\n",
       "       False, False,  True, False, False, False, False, False, False,\n",
       "       False, False, False,  True, False, False, False, False, False,\n",
       "       False, False, False, False, False, False, False, False, False,\n",
       "       False, False, False, False, False, False, False, False, False,\n",
       "       False, False, False, False, False, False, False, False, False,\n",
       "       False,  True, False, False, False, False, False, False, False,\n",
       "       False, False, False, False, False, False, False,  True, False,\n",
       "       False, False, False, False, False, False, False, False, False,\n",
       "       False, False, False,  True, False, False, False,  True, False,\n",
       "       False, False, False, False, False, False, False, False, False,\n",
       "        True, False, False, False, False, False, False, False, False,\n",
       "       False, False, False, False, False, False, False, False, False,\n",
       "       False, False, False, False, False, False, False, False, False,\n",
       "       False, False, False, False, False, False, False, False, False,\n",
       "       False, False, False, False, False, False, False, False, False,\n",
       "       False, False, False, False, False, False, False, False, False,\n",
       "       False, False, False, False, False, False, False, False, False,\n",
       "       False, False,  True, False, False, False, False, False, False,\n",
       "        True, False, False, False, False, False, False, False, False,\n",
       "       False, False, False, False, False, False, False, False, False,\n",
       "       False, False, False, False, False, False, False, False, False,\n",
       "       False, False, False, False, False, False, False, False, False,\n",
       "       False, False, False,  True, False, False, False, False, False,\n",
       "       False, False, False, False, False, False, False, False, False,\n",
       "       False, False, False, False, False, False, False, False, False,\n",
       "       False, False, False, False, False, False, False, False, False,\n",
       "       False, False, False, False, False, False, False, False, False,\n",
       "       False, False, False, False, False,  True, False, False,  True,\n",
       "       False, False, False, False, False, False, False, False, False,\n",
       "       False, False, False, False, False, False,  True, False, False,\n",
       "       False, False, False, False, False, False, False, False, False,\n",
       "       False, False, False, False, False, False, False, False,  True,\n",
       "       False, False, False, False, False, False, False, False, False,\n",
       "       False, False, False, False, False, False, False, False, False,\n",
       "       False, False, False, False, False, False, False, False, False,\n",
       "       False, False, False, False, False, False, False, False, False,\n",
       "       False, False, False, False, False, False, False, False, False,\n",
       "       False, False, False, False, False, False, False, False, False,\n",
       "       False, False, False, False, False, False, False, False,  True,\n",
       "       False, False, False, False, False, False, False, False, False,\n",
       "       False,  True, False, False, False, False, False, False, False,\n",
       "       False, False, False,  True, False,  True, False, False, False,\n",
       "       False,  True, False, False, False, False, False, False, False,\n",
       "        True, False, False, False, False, False, False, False, False,\n",
       "       False, False,  True, False, False, False, False, False, False,\n",
       "       False, False, False, False, False, False, False, False, False,\n",
       "       False, False, False, False, False, False, False, False, False,\n",
       "       False, False, False, False, False, False, False, False, False,\n",
       "       False, False, False, False, False, False,  True, False, False,\n",
       "       False, False, False, False, False, False, False, False, False,\n",
       "       False, False, False, False, False, False, False, False, False,\n",
       "       False, False, False, False, False, False, False, False, False,\n",
       "       False, False, False, False, False, False, False, False, False,\n",
       "       False, False, False, False, False, False, False, False, False,\n",
       "       False, False, False, False, False, False, False, False, False,\n",
       "       False, False, False, False, False, False, False, False, False,\n",
       "       False, False, False, False, False, False, False, False, False,\n",
       "       False, False, False, False, False,  True, False, False, False,\n",
       "       False, False, False, False, False, False, False, False, False,\n",
       "       False, False, False, False, False, False, False, False, False,\n",
       "       False, False, False, False, False, False, False, False, False,\n",
       "        True, False, False, False, False, False, False, False, False,\n",
       "       False,  True, False, False, False, False, False, False, False,\n",
       "       False, False, False,  True, False, False, False, False, False,\n",
       "       False, False, False, False, False, False, False, False, False,\n",
       "       False, False, False, False, False,  True, False, False, False,\n",
       "       False, False, False, False, False, False, False, False, False,\n",
       "       False, False, False,  True, False, False, False, False, False,\n",
       "       False, False, False, False, False, False, False,  True, False,\n",
       "       False, False, False,  True, False, False, False, False, False,\n",
       "       False, False,  True, False, False, False, False, False, False,\n",
       "       False, False, False, False, False, False, False, False, False,\n",
       "       False, False, False, False, False, False, False, False, False,\n",
       "       False, False, False, False, False, False, False, False, False,\n",
       "       False, False, False, False, False, False, False, False,  True,\n",
       "        True, False, False, False, False, False, False, False, False,\n",
       "       False, False, False, False, False, False, False, False, False,\n",
       "       False, False, False,  True, False, False, False, False, False,\n",
       "       False, False, False, False, False, False, False, False, False,\n",
       "       False, False, False, False, False, False, False, False, False,\n",
       "       False, False, False, False, False, False, False, False, False,\n",
       "       False, False, False, False, False, False, False, False, False,\n",
       "       False, False, False, False, False, False,  True, False, False,\n",
       "        True, False, False, False, False, False, False, False, False,\n",
       "       False, False, False, False, False, False, False, False, False,\n",
       "       False, False, False, False, False, False, False, False, False,\n",
       "       False, False, False, False, False, False, False, False, False,\n",
       "       False, False, False, False, False, False, False, False, False,\n",
       "       False, False,  True, False, False, False, False, False, False,\n",
       "       False, False, False, False, False, False, False, False, False,\n",
       "       False, False, False, False, False, False, False, False, False,\n",
       "       False, False, False, False, False, False, False, False, False,\n",
       "       False, False, False, False, False, False, False, False, False,\n",
       "       False, False, False, False, False, False, False, False, False,\n",
       "       False,  True, False, False,  True, False, False, False, False,\n",
       "       False, False, False, False, False, False,  True, False, False,\n",
       "       False, False, False, False, False, False, False, False, False,\n",
       "       False, False, False, False, False, False, False, False, False,\n",
       "       False, False, False, False, False, False, False, False, False,\n",
       "       False, False, False, False, False, False, False, False, False,\n",
       "       False, False, False, False, False, False, False, False, False,\n",
       "       False, False, False, False, False, False, False, False, False,\n",
       "       False, False,  True, False, False, False, False, False, False,\n",
       "       False, False, False, False, False, False, False, False, False,\n",
       "       False, False, False, False, False, False, False, False, False,\n",
       "       False, False, False, False, False, False, False, False, False,\n",
       "       False])"
      ]
     },
     "execution_count": 30,
     "metadata": {},
     "output_type": "execute_result"
    }
   ],
   "source": [
    "np.array(assign)"
   ]
  },
  {
   "cell_type": "code",
   "execution_count": 38,
   "id": "2bbe39e5-3b85-46aa-a198-9a5293f7f615",
   "metadata": {},
   "outputs": [],
   "source": [
    "visits = np.random.choice([0, 1], size = (num_users, num_days), p = [1 - visit_rate, visit_rate])"
   ]
  },
  {
   "cell_type": "code",
   "execution_count": 39,
   "id": "fdcd8649-e3b7-4057-b564-d8c881edf95f",
   "metadata": {},
   "outputs": [],
   "source": [
    "views = np.zeros((num_users, num_days), dtype = int)"
   ]
  },
  {
   "cell_type": "code",
   "execution_count": 40,
   "id": "7aea5e5c-452a-4250-9575-115ab144f97a",
   "metadata": {},
   "outputs": [],
   "source": [
    "for i in range(num_users):\n",
    "    for j in range(num_days):\n",
    "        if visits[i, j] == 1:\n",
    "            views[i, j] = np.random.geometric(geometric_p)"
   ]
  },
  {
   "cell_type": "code",
   "execution_count": 41,
   "id": "2019c286-0f3d-401c-a271-97e324f3c168",
   "metadata": {},
   "outputs": [],
   "source": [
    "clicks = np.zeros((num_users, num_days), dtype = int)"
   ]
  },
  {
   "cell_type": "code",
   "execution_count": 56,
   "id": "a4842a4e-c222-4fb8-bcc0-4802fb7ba267",
   "metadata": {},
   "outputs": [],
   "source": [
    "for i in range(num_users):\n",
    "    for j in range(num_days):\n",
    "        if visits[i, j] == 1:\n",
    "            if is_treatment[i] == 1:\n",
    "                clicks[i, j] = np.random.binomial(views[i, j], p_b)\n",
    "            else:\n",
    "                clicks[i, j] = np.random.binomial(views[i, j], p_a)"
   ]
  },
  {
   "cell_type": "code",
   "execution_count": 46,
   "id": "ff62cb4c-9842-4a18-9012-89d8335c38ba",
   "metadata": {},
   "outputs": [
    {
     "data": {
      "text/plain": [
       "array([[0, 0, 0, ..., 0, 0, 1],\n",
       "       [0, 0, 0, ..., 0, 0, 0],\n",
       "       [0, 0, 0, ..., 0, 0, 0],\n",
       "       ...,\n",
       "       [1, 3, 0, ..., 0, 0, 0],\n",
       "       [0, 0, 0, ..., 0, 0, 0],\n",
       "       [0, 0, 0, ..., 0, 0, 0]])"
      ]
     },
     "execution_count": 46,
     "metadata": {},
     "output_type": "execute_result"
    }
   ],
   "source": [
    "clicks"
   ]
  },
  {
   "cell_type": "code",
   "execution_count": 47,
   "id": "edfbe292-ff76-4ea5-802c-141b9a82f0c5",
   "metadata": {},
   "outputs": [],
   "source": [
    "# 计算平均点击率"
   ]
  },
  {
   "cell_type": "code",
   "execution_count": 48,
   "id": "fb5af4ac-cc77-4947-9849-2ad965f008ca",
   "metadata": {},
   "outputs": [],
   "source": [
    "is_treatment = assign == True\n",
    "is_control = ~is_treatment"
   ]
  },
  {
   "cell_type": "code",
   "execution_count": 50,
   "id": "49b3a49c-6b59-431d-a7ae-e25f04688b1d",
   "metadata": {},
   "outputs": [],
   "source": [
    "view_control = views[is_control, :]\n",
    "view_treat = views[is_treatment, :]"
   ]
  },
  {
   "cell_type": "code",
   "execution_count": 51,
   "id": "962f2457-3047-4725-80df-e17cd7682b1d",
   "metadata": {},
   "outputs": [],
   "source": [
    "clicks_control = clicks[is_control, :]\n",
    "clicks_treat = clicks[is_treatment, :]"
   ]
  },
  {
   "cell_type": "code",
   "execution_count": 52,
   "id": "54e92e6a-5709-483d-8622-cb759d5ac810",
   "metadata": {},
   "outputs": [],
   "source": [
    "ctr_c = np.sum(clicks_control) / np.sum(view_control)"
   ]
  },
  {
   "cell_type": "code",
   "execution_count": 53,
   "id": "a5d1ce11-3794-41f2-9cf5-f76f996ba39f",
   "metadata": {},
   "outputs": [
    {
     "data": {
      "text/plain": [
       "np.float64(0.02911853377511119)"
      ]
     },
     "execution_count": 53,
     "metadata": {},
     "output_type": "execute_result"
    }
   ],
   "source": [
    "ctr_c"
   ]
  },
  {
   "cell_type": "code",
   "execution_count": 54,
   "id": "ded75735-9012-475e-84e7-d1460f8bddc3",
   "metadata": {},
   "outputs": [],
   "source": [
    "crt_t = np.sum(clicks_treat) / np.sum(view_treat)"
   ]
  },
  {
   "cell_type": "code",
   "execution_count": 55,
   "id": "4323ed3f-4f14-4abb-a077-96962dce95ae",
   "metadata": {},
   "outputs": [
    {
     "data": {
      "text/plain": [
       "np.float64(0.07010764559757107)"
      ]
     },
     "execution_count": 55,
     "metadata": {},
     "output_type": "execute_result"
    }
   ],
   "source": [
    "crt_t"
   ]
  },
  {
   "cell_type": "code",
   "execution_count": null,
   "id": "c19e1592-d33c-4d9f-8697-f8fa154591a7",
   "metadata": {},
   "outputs": [],
   "source": []
  }
 ],
 "metadata": {
  "kernelspec": {
   "display_name": "Python 3 (ipykernel)",
   "language": "python",
   "name": "python3"
  },
  "language_info": {
   "codemirror_mode": {
    "name": "ipython",
    "version": 3
   },
   "file_extension": ".py",
   "mimetype": "text/x-python",
   "name": "python",
   "nbconvert_exporter": "python",
   "pygments_lexer": "ipython3",
   "version": "3.11.1"
  }
 },
 "nbformat": 4,
 "nbformat_minor": 5
}
