{
 "cells": [
  {
   "cell_type": "code",
   "execution_count": 2,
   "id": "e16c0599-0ea0-4bee-9942-631f51fedb76",
   "metadata": {},
   "outputs": [],
   "source": [
    "import pandas as pd"
   ]
  },
  {
   "cell_type": "code",
   "execution_count": 3,
   "id": "e38a87f8-8455-49a2-b0d1-953a79776fae",
   "metadata": {},
   "outputs": [],
   "source": [
    "import numpy as np"
   ]
  },
  {
   "cell_type": "code",
   "execution_count": 4,
   "id": "61381824-623d-4b12-86bf-400e91af76c3",
   "metadata": {},
   "outputs": [],
   "source": [
    "long_df = pd.DataFrame([\n",
    "  {'patient_id': 1, 'variable': 'height', 'value': 178, 'units': 'cm'},\n",
    "  {'patient_id': 2, 'variable': 'height', 'value': 166, 'units': 'cm'},\n",
    "  {'patient_id': 1, 'variable': 'weight', 'value': 80, 'units': 'kg'},\n",
    "  {'patient_id': 1, 'variable': 'age', 'value': 40, 'units': 'year'},\n",
    "  {'patient_id': 2, 'variable': 'age', 'value': 30, 'units': 'year'},\n",
    "])"
   ]
  },
  {
   "cell_type": "code",
   "execution_count": 5,
   "id": "0a3057b7-f815-401f-9835-6db1827242f7",
   "metadata": {},
   "outputs": [
    {
     "data": {
      "text/html": [
       "<div>\n",
       "<style scoped>\n",
       "    .dataframe tbody tr th:only-of-type {\n",
       "        vertical-align: middle;\n",
       "    }\n",
       "\n",
       "    .dataframe tbody tr th {\n",
       "        vertical-align: top;\n",
       "    }\n",
       "\n",
       "    .dataframe thead th {\n",
       "        text-align: right;\n",
       "    }\n",
       "</style>\n",
       "<table border=\"1\" class=\"dataframe\">\n",
       "  <thead>\n",
       "    <tr style=\"text-align: right;\">\n",
       "      <th></th>\n",
       "      <th>patient_id</th>\n",
       "      <th>variable</th>\n",
       "      <th>value</th>\n",
       "      <th>units</th>\n",
       "    </tr>\n",
       "  </thead>\n",
       "  <tbody>\n",
       "    <tr>\n",
       "      <th>0</th>\n",
       "      <td>1</td>\n",
       "      <td>height</td>\n",
       "      <td>178</td>\n",
       "      <td>cm</td>\n",
       "    </tr>\n",
       "    <tr>\n",
       "      <th>1</th>\n",
       "      <td>2</td>\n",
       "      <td>height</td>\n",
       "      <td>166</td>\n",
       "      <td>cm</td>\n",
       "    </tr>\n",
       "    <tr>\n",
       "      <th>2</th>\n",
       "      <td>1</td>\n",
       "      <td>weight</td>\n",
       "      <td>80</td>\n",
       "      <td>kg</td>\n",
       "    </tr>\n",
       "    <tr>\n",
       "      <th>3</th>\n",
       "      <td>1</td>\n",
       "      <td>age</td>\n",
       "      <td>40</td>\n",
       "      <td>year</td>\n",
       "    </tr>\n",
       "    <tr>\n",
       "      <th>4</th>\n",
       "      <td>2</td>\n",
       "      <td>age</td>\n",
       "      <td>30</td>\n",
       "      <td>year</td>\n",
       "    </tr>\n",
       "  </tbody>\n",
       "</table>\n",
       "</div>"
      ],
      "text/plain": [
       "   patient_id variable  value units\n",
       "0           1   height    178    cm\n",
       "1           2   height    166    cm\n",
       "2           1   weight     80    kg\n",
       "3           1      age     40  year\n",
       "4           2      age     30  year"
      ]
     },
     "execution_count": 5,
     "metadata": {},
     "output_type": "execute_result"
    }
   ],
   "source": [
    "long_df"
   ]
  },
  {
   "cell_type": "code",
   "execution_count": 7,
   "id": "9e57510e-13d1-4b83-8c94-6f4d4d4865fb",
   "metadata": {},
   "outputs": [],
   "source": [
    "long_df['var_w_unit'] = long_df.apply(lambda x: x['variable'] + '_' + x['units'], axis = 1)"
   ]
  },
  {
   "cell_type": "code",
   "execution_count": 8,
   "id": "45f4087f-613e-4b02-aa99-e91a4fa5141b",
   "metadata": {},
   "outputs": [
    {
     "data": {
      "text/html": [
       "<div>\n",
       "<style scoped>\n",
       "    .dataframe tbody tr th:only-of-type {\n",
       "        vertical-align: middle;\n",
       "    }\n",
       "\n",
       "    .dataframe tbody tr th {\n",
       "        vertical-align: top;\n",
       "    }\n",
       "\n",
       "    .dataframe thead th {\n",
       "        text-align: right;\n",
       "    }\n",
       "</style>\n",
       "<table border=\"1\" class=\"dataframe\">\n",
       "  <thead>\n",
       "    <tr style=\"text-align: right;\">\n",
       "      <th></th>\n",
       "      <th>patient_id</th>\n",
       "      <th>variable</th>\n",
       "      <th>value</th>\n",
       "      <th>units</th>\n",
       "      <th>var_w_unit</th>\n",
       "    </tr>\n",
       "  </thead>\n",
       "  <tbody>\n",
       "    <tr>\n",
       "      <th>0</th>\n",
       "      <td>1</td>\n",
       "      <td>height</td>\n",
       "      <td>178</td>\n",
       "      <td>cm</td>\n",
       "      <td>height_cm</td>\n",
       "    </tr>\n",
       "    <tr>\n",
       "      <th>1</th>\n",
       "      <td>2</td>\n",
       "      <td>height</td>\n",
       "      <td>166</td>\n",
       "      <td>cm</td>\n",
       "      <td>height_cm</td>\n",
       "    </tr>\n",
       "    <tr>\n",
       "      <th>2</th>\n",
       "      <td>1</td>\n",
       "      <td>weight</td>\n",
       "      <td>80</td>\n",
       "      <td>kg</td>\n",
       "      <td>weight_kg</td>\n",
       "    </tr>\n",
       "    <tr>\n",
       "      <th>3</th>\n",
       "      <td>1</td>\n",
       "      <td>age</td>\n",
       "      <td>40</td>\n",
       "      <td>year</td>\n",
       "      <td>age_year</td>\n",
       "    </tr>\n",
       "    <tr>\n",
       "      <th>4</th>\n",
       "      <td>2</td>\n",
       "      <td>age</td>\n",
       "      <td>30</td>\n",
       "      <td>year</td>\n",
       "      <td>age_year</td>\n",
       "    </tr>\n",
       "  </tbody>\n",
       "</table>\n",
       "</div>"
      ],
      "text/plain": [
       "   patient_id variable  value units var_w_unit\n",
       "0           1   height    178    cm  height_cm\n",
       "1           2   height    166    cm  height_cm\n",
       "2           1   weight     80    kg  weight_kg\n",
       "3           1      age     40  year   age_year\n",
       "4           2      age     30  year   age_year"
      ]
     },
     "execution_count": 8,
     "metadata": {},
     "output_type": "execute_result"
    }
   ],
   "source": [
    "long_df"
   ]
  },
  {
   "cell_type": "code",
   "execution_count": 9,
   "id": "992d91b2-e679-4240-857f-bd05fc2fd28a",
   "metadata": {},
   "outputs": [],
   "source": [
    "# pivot方法，主要用于实现数据的分类汇总\n",
    "wide_df = pd.pivot(long_df, index = 'patient_id', columns = 'var_w_unit', values = 'value')"
   ]
  },
  {
   "cell_type": "code",
   "execution_count": 10,
   "id": "e14e6d27-da5b-4f55-8215-d71c87d3d4c0",
   "metadata": {},
   "outputs": [
    {
     "data": {
      "text/html": [
       "<div>\n",
       "<style scoped>\n",
       "    .dataframe tbody tr th:only-of-type {\n",
       "        vertical-align: middle;\n",
       "    }\n",
       "\n",
       "    .dataframe tbody tr th {\n",
       "        vertical-align: top;\n",
       "    }\n",
       "\n",
       "    .dataframe thead th {\n",
       "        text-align: right;\n",
       "    }\n",
       "</style>\n",
       "<table border=\"1\" class=\"dataframe\">\n",
       "  <thead>\n",
       "    <tr style=\"text-align: right;\">\n",
       "      <th>var_w_unit</th>\n",
       "      <th>age_year</th>\n",
       "      <th>height_cm</th>\n",
       "      <th>weight_kg</th>\n",
       "    </tr>\n",
       "    <tr>\n",
       "      <th>patient_id</th>\n",
       "      <th></th>\n",
       "      <th></th>\n",
       "      <th></th>\n",
       "    </tr>\n",
       "  </thead>\n",
       "  <tbody>\n",
       "    <tr>\n",
       "      <th>1</th>\n",
       "      <td>40.0</td>\n",
       "      <td>178.0</td>\n",
       "      <td>80.0</td>\n",
       "    </tr>\n",
       "    <tr>\n",
       "      <th>2</th>\n",
       "      <td>30.0</td>\n",
       "      <td>166.0</td>\n",
       "      <td>NaN</td>\n",
       "    </tr>\n",
       "  </tbody>\n",
       "</table>\n",
       "</div>"
      ],
      "text/plain": [
       "var_w_unit  age_year  height_cm  weight_kg\n",
       "patient_id                                \n",
       "1               40.0      178.0       80.0\n",
       "2               30.0      166.0        NaN"
      ]
     },
     "execution_count": 10,
     "metadata": {},
     "output_type": "execute_result"
    }
   ],
   "source": [
    "wide_df\n",
    "# 在pivot中，columns参数代表的是要生成的宽表中的列名：例如：在这个例子中，columns为var_w_unit，代表着原长表格中'var_w_unit'下的所有值，转化为宽表中的变量\n",
    "# 同时values指的是宽表中的新变量的值是多少"
   ]
  },
  {
   "cell_type": "code",
   "execution_count": 12,
   "id": "4e037a87-c2af-4db0-9c9a-d091c4f5719d",
   "metadata": {},
   "outputs": [],
   "source": [
    "wide_df = pd.pivot(long_df, index = 'patient_id', columns = 'var_w_unit', values = 'value').reset_index()"
   ]
  },
  {
   "cell_type": "code",
   "execution_count": 13,
   "id": "948449a2-e9f1-402d-b8ef-03060ff5e9bb",
   "metadata": {},
   "outputs": [
    {
     "data": {
      "text/html": [
       "<div>\n",
       "<style scoped>\n",
       "    .dataframe tbody tr th:only-of-type {\n",
       "        vertical-align: middle;\n",
       "    }\n",
       "\n",
       "    .dataframe tbody tr th {\n",
       "        vertical-align: top;\n",
       "    }\n",
       "\n",
       "    .dataframe thead th {\n",
       "        text-align: right;\n",
       "    }\n",
       "</style>\n",
       "<table border=\"1\" class=\"dataframe\">\n",
       "  <thead>\n",
       "    <tr style=\"text-align: right;\">\n",
       "      <th>var_w_unit</th>\n",
       "      <th>patient_id</th>\n",
       "      <th>age_year</th>\n",
       "      <th>height_cm</th>\n",
       "      <th>weight_kg</th>\n",
       "    </tr>\n",
       "  </thead>\n",
       "  <tbody>\n",
       "    <tr>\n",
       "      <th>0</th>\n",
       "      <td>1</td>\n",
       "      <td>40.0</td>\n",
       "      <td>178.0</td>\n",
       "      <td>80.0</td>\n",
       "    </tr>\n",
       "    <tr>\n",
       "      <th>1</th>\n",
       "      <td>2</td>\n",
       "      <td>30.0</td>\n",
       "      <td>166.0</td>\n",
       "      <td>NaN</td>\n",
       "    </tr>\n",
       "  </tbody>\n",
       "</table>\n",
       "</div>"
      ],
      "text/plain": [
       "var_w_unit  patient_id  age_year  height_cm  weight_kg\n",
       "0                    1      40.0      178.0       80.0\n",
       "1                    2      30.0      166.0        NaN"
      ]
     },
     "execution_count": 13,
     "metadata": {},
     "output_type": "execute_result"
    }
   ],
   "source": [
    "wide_df"
   ]
  },
  {
   "cell_type": "code",
   "execution_count": 14,
   "id": "d6ee9c66-ce0c-4418-bb5f-0fec42fe559e",
   "metadata": {},
   "outputs": [],
   "source": [
    "# 将宽数据转换为长数据表格\n"
   ]
  },
  {
   "cell_type": "code",
   "execution_count": 24,
   "id": "3a4cac1f-01db-4f74-b196-59ce54fb605e",
   "metadata": {},
   "outputs": [],
   "source": [
    "id_vars = ['patient_id']"
   ]
  },
  {
   "cell_type": "code",
   "execution_count": 21,
   "id": "2cec0f83-bc8b-47cc-8458-36f123dab8c8",
   "metadata": {},
   "outputs": [],
   "source": [
    "# 首先提取出除id以外的所有列\n",
    "non_id_col = [col for col in wide_df.columns\n",
    "             if col not in id_vars]"
   ]
  },
  {
   "cell_type": "code",
   "execution_count": 22,
   "id": "79d8c13a-5b89-4cdb-aac5-c3b56f6965f1",
   "metadata": {},
   "outputs": [
    {
     "data": {
      "text/plain": [
       "['age_year', 'height_cm', 'weight_kg']"
      ]
     },
     "execution_count": 22,
     "metadata": {},
     "output_type": "execute_result"
    }
   ],
   "source": [
    "non_id_col"
   ]
  },
  {
   "cell_type": "code",
   "execution_count": 40,
   "id": "f7875478-b829-489f-bab2-94b811d10f7f",
   "metadata": {},
   "outputs": [],
   "source": [
    "long_df2 = pd.melt(wide_df,\n",
    "                  id_vars = id_vars,\n",
    "                  value_vars = non_id_col)"
   ]
  },
  {
   "cell_type": "code",
   "execution_count": 41,
   "id": "00c5697e-ccb5-42ef-8ebe-699e88df931e",
   "metadata": {},
   "outputs": [
    {
     "data": {
      "text/html": [
       "<div>\n",
       "<style scoped>\n",
       "    .dataframe tbody tr th:only-of-type {\n",
       "        vertical-align: middle;\n",
       "    }\n",
       "\n",
       "    .dataframe tbody tr th {\n",
       "        vertical-align: top;\n",
       "    }\n",
       "\n",
       "    .dataframe thead th {\n",
       "        text-align: right;\n",
       "    }\n",
       "</style>\n",
       "<table border=\"1\" class=\"dataframe\">\n",
       "  <thead>\n",
       "    <tr style=\"text-align: right;\">\n",
       "      <th></th>\n",
       "      <th>patient_id</th>\n",
       "      <th>var_w_unit</th>\n",
       "      <th>value</th>\n",
       "    </tr>\n",
       "  </thead>\n",
       "  <tbody>\n",
       "    <tr>\n",
       "      <th>0</th>\n",
       "      <td>1</td>\n",
       "      <td>age_year</td>\n",
       "      <td>40.0</td>\n",
       "    </tr>\n",
       "    <tr>\n",
       "      <th>1</th>\n",
       "      <td>2</td>\n",
       "      <td>age_year</td>\n",
       "      <td>30.0</td>\n",
       "    </tr>\n",
       "    <tr>\n",
       "      <th>2</th>\n",
       "      <td>1</td>\n",
       "      <td>height_cm</td>\n",
       "      <td>178.0</td>\n",
       "    </tr>\n",
       "    <tr>\n",
       "      <th>3</th>\n",
       "      <td>2</td>\n",
       "      <td>height_cm</td>\n",
       "      <td>166.0</td>\n",
       "    </tr>\n",
       "    <tr>\n",
       "      <th>4</th>\n",
       "      <td>1</td>\n",
       "      <td>weight_kg</td>\n",
       "      <td>80.0</td>\n",
       "    </tr>\n",
       "    <tr>\n",
       "      <th>5</th>\n",
       "      <td>2</td>\n",
       "      <td>weight_kg</td>\n",
       "      <td>NaN</td>\n",
       "    </tr>\n",
       "  </tbody>\n",
       "</table>\n",
       "</div>"
      ],
      "text/plain": [
       "   patient_id var_w_unit  value\n",
       "0           1   age_year   40.0\n",
       "1           2   age_year   30.0\n",
       "2           1  height_cm  178.0\n",
       "3           2  height_cm  166.0\n",
       "4           1  weight_kg   80.0\n",
       "5           2  weight_kg    NaN"
      ]
     },
     "execution_count": 41,
     "metadata": {},
     "output_type": "execute_result"
    }
   ],
   "source": [
    "long_df2"
   ]
  },
  {
   "cell_type": "code",
   "execution_count": 42,
   "id": "b206133d-6d6c-482f-a3c0-eb6766a27bcf",
   "metadata": {},
   "outputs": [],
   "source": [
    "long_df2['variable'] = long_df2['var_w_unit'].apply(lambda x: x.split('_')[0])"
   ]
  },
  {
   "cell_type": "code",
   "execution_count": 43,
   "id": "27c79793-bf4e-4d7b-b243-acf348d3339e",
   "metadata": {},
   "outputs": [],
   "source": [
    "long_df2['unit'] = long_df2['var_w_unit'].apply(lambda x: x.split('_')[1])"
   ]
  },
  {
   "cell_type": "code",
   "execution_count": 44,
   "id": "0fc19f38-e6cb-4e15-b819-969f10c67d08",
   "metadata": {},
   "outputs": [
    {
     "data": {
      "text/html": [
       "<div>\n",
       "<style scoped>\n",
       "    .dataframe tbody tr th:only-of-type {\n",
       "        vertical-align: middle;\n",
       "    }\n",
       "\n",
       "    .dataframe tbody tr th {\n",
       "        vertical-align: top;\n",
       "    }\n",
       "\n",
       "    .dataframe thead th {\n",
       "        text-align: right;\n",
       "    }\n",
       "</style>\n",
       "<table border=\"1\" class=\"dataframe\">\n",
       "  <thead>\n",
       "    <tr style=\"text-align: right;\">\n",
       "      <th></th>\n",
       "      <th>patient_id</th>\n",
       "      <th>var_w_unit</th>\n",
       "      <th>value</th>\n",
       "      <th>variable</th>\n",
       "      <th>unit</th>\n",
       "    </tr>\n",
       "  </thead>\n",
       "  <tbody>\n",
       "    <tr>\n",
       "      <th>0</th>\n",
       "      <td>1</td>\n",
       "      <td>age_year</td>\n",
       "      <td>40.0</td>\n",
       "      <td>age</td>\n",
       "      <td>year</td>\n",
       "    </tr>\n",
       "    <tr>\n",
       "      <th>1</th>\n",
       "      <td>2</td>\n",
       "      <td>age_year</td>\n",
       "      <td>30.0</td>\n",
       "      <td>age</td>\n",
       "      <td>year</td>\n",
       "    </tr>\n",
       "    <tr>\n",
       "      <th>2</th>\n",
       "      <td>1</td>\n",
       "      <td>height_cm</td>\n",
       "      <td>178.0</td>\n",
       "      <td>height</td>\n",
       "      <td>cm</td>\n",
       "    </tr>\n",
       "    <tr>\n",
       "      <th>3</th>\n",
       "      <td>2</td>\n",
       "      <td>height_cm</td>\n",
       "      <td>166.0</td>\n",
       "      <td>height</td>\n",
       "      <td>cm</td>\n",
       "    </tr>\n",
       "    <tr>\n",
       "      <th>4</th>\n",
       "      <td>1</td>\n",
       "      <td>weight_kg</td>\n",
       "      <td>80.0</td>\n",
       "      <td>weight</td>\n",
       "      <td>kg</td>\n",
       "    </tr>\n",
       "    <tr>\n",
       "      <th>5</th>\n",
       "      <td>2</td>\n",
       "      <td>weight_kg</td>\n",
       "      <td>NaN</td>\n",
       "      <td>weight</td>\n",
       "      <td>kg</td>\n",
       "    </tr>\n",
       "  </tbody>\n",
       "</table>\n",
       "</div>"
      ],
      "text/plain": [
       "   patient_id var_w_unit  value variable  unit\n",
       "0           1   age_year   40.0      age  year\n",
       "1           2   age_year   30.0      age  year\n",
       "2           1  height_cm  178.0   height    cm\n",
       "3           2  height_cm  166.0   height    cm\n",
       "4           1  weight_kg   80.0   weight    kg\n",
       "5           2  weight_kg    NaN   weight    kg"
      ]
     },
     "execution_count": 44,
     "metadata": {},
     "output_type": "execute_result"
    }
   ],
   "source": [
    "long_df2"
   ]
  },
  {
   "cell_type": "code",
   "execution_count": 36,
   "id": "144de3b0-e02a-498c-b0c4-11c1e94f668d",
   "metadata": {},
   "outputs": [],
   "source": [
    "long_df2.drop(columns='var_w_unit', inplace=True)"
   ]
  },
  {
   "cell_type": "code",
   "execution_count": 39,
   "id": "3f26dc86-db51-431b-8f38-7441c4b590eb",
   "metadata": {},
   "outputs": [
    {
     "data": {
      "text/html": [
       "<div>\n",
       "<style scoped>\n",
       "    .dataframe tbody tr th:only-of-type {\n",
       "        vertical-align: middle;\n",
       "    }\n",
       "\n",
       "    .dataframe tbody tr th {\n",
       "        vertical-align: top;\n",
       "    }\n",
       "\n",
       "    .dataframe thead th {\n",
       "        text-align: right;\n",
       "    }\n",
       "</style>\n",
       "<table border=\"1\" class=\"dataframe\">\n",
       "  <thead>\n",
       "    <tr style=\"text-align: right;\">\n",
       "      <th></th>\n",
       "      <th>patient_id</th>\n",
       "      <th>value</th>\n",
       "      <th>variable</th>\n",
       "      <th>unit</th>\n",
       "    </tr>\n",
       "  </thead>\n",
       "  <tbody>\n",
       "    <tr>\n",
       "      <th>0</th>\n",
       "      <td>1</td>\n",
       "      <td>40.0</td>\n",
       "      <td>age</td>\n",
       "      <td>year</td>\n",
       "    </tr>\n",
       "    <tr>\n",
       "      <th>1</th>\n",
       "      <td>2</td>\n",
       "      <td>30.0</td>\n",
       "      <td>age</td>\n",
       "      <td>year</td>\n",
       "    </tr>\n",
       "    <tr>\n",
       "      <th>2</th>\n",
       "      <td>1</td>\n",
       "      <td>178.0</td>\n",
       "      <td>height</td>\n",
       "      <td>cm</td>\n",
       "    </tr>\n",
       "    <tr>\n",
       "      <th>3</th>\n",
       "      <td>2</td>\n",
       "      <td>166.0</td>\n",
       "      <td>height</td>\n",
       "      <td>cm</td>\n",
       "    </tr>\n",
       "    <tr>\n",
       "      <th>4</th>\n",
       "      <td>1</td>\n",
       "      <td>80.0</td>\n",
       "      <td>weight</td>\n",
       "      <td>kg</td>\n",
       "    </tr>\n",
       "    <tr>\n",
       "      <th>5</th>\n",
       "      <td>2</td>\n",
       "      <td>NaN</td>\n",
       "      <td>weight</td>\n",
       "      <td>kg</td>\n",
       "    </tr>\n",
       "  </tbody>\n",
       "</table>\n",
       "</div>"
      ],
      "text/plain": [
       "   patient_id  value variable  unit\n",
       "0           1   40.0      age  year\n",
       "1           2   30.0      age  year\n",
       "2           1  178.0   height    cm\n",
       "3           2  166.0   height    cm\n",
       "4           1   80.0   weight    kg\n",
       "5           2    NaN   weight    kg"
      ]
     },
     "execution_count": 39,
     "metadata": {},
     "output_type": "execute_result"
    }
   ],
   "source": [
    "long_df2"
   ]
  },
  {
   "cell_type": "code",
   "execution_count": 45,
   "id": "3ffda2c5-f682-4157-abf9-ac32f5d1da23",
   "metadata": {},
   "outputs": [
    {
     "data": {
      "text/html": [
       "<div>\n",
       "<style scoped>\n",
       "    .dataframe tbody tr th:only-of-type {\n",
       "        vertical-align: middle;\n",
       "    }\n",
       "\n",
       "    .dataframe tbody tr th {\n",
       "        vertical-align: top;\n",
       "    }\n",
       "\n",
       "    .dataframe thead th {\n",
       "        text-align: right;\n",
       "    }\n",
       "</style>\n",
       "<table border=\"1\" class=\"dataframe\">\n",
       "  <thead>\n",
       "    <tr style=\"text-align: right;\">\n",
       "      <th></th>\n",
       "      <th>patient_id</th>\n",
       "      <th>value</th>\n",
       "      <th>variable</th>\n",
       "      <th>unit</th>\n",
       "    </tr>\n",
       "  </thead>\n",
       "  <tbody>\n",
       "    <tr>\n",
       "      <th>0</th>\n",
       "      <td>1</td>\n",
       "      <td>40.0</td>\n",
       "      <td>age</td>\n",
       "      <td>year</td>\n",
       "    </tr>\n",
       "    <tr>\n",
       "      <th>1</th>\n",
       "      <td>2</td>\n",
       "      <td>30.0</td>\n",
       "      <td>age</td>\n",
       "      <td>year</td>\n",
       "    </tr>\n",
       "    <tr>\n",
       "      <th>2</th>\n",
       "      <td>1</td>\n",
       "      <td>178.0</td>\n",
       "      <td>height</td>\n",
       "      <td>cm</td>\n",
       "    </tr>\n",
       "    <tr>\n",
       "      <th>3</th>\n",
       "      <td>2</td>\n",
       "      <td>166.0</td>\n",
       "      <td>height</td>\n",
       "      <td>cm</td>\n",
       "    </tr>\n",
       "    <tr>\n",
       "      <th>4</th>\n",
       "      <td>1</td>\n",
       "      <td>80.0</td>\n",
       "      <td>weight</td>\n",
       "      <td>kg</td>\n",
       "    </tr>\n",
       "    <tr>\n",
       "      <th>5</th>\n",
       "      <td>2</td>\n",
       "      <td>NaN</td>\n",
       "      <td>weight</td>\n",
       "      <td>kg</td>\n",
       "    </tr>\n",
       "  </tbody>\n",
       "</table>\n",
       "</div>"
      ],
      "text/plain": [
       "   patient_id  value variable  unit\n",
       "0           1   40.0      age  year\n",
       "1           2   30.0      age  year\n",
       "2           1  178.0   height    cm\n",
       "3           2  166.0   height    cm\n",
       "4           1   80.0   weight    kg\n",
       "5           2    NaN   weight    kg"
      ]
     },
     "execution_count": 45,
     "metadata": {},
     "output_type": "execute_result"
    }
   ],
   "source": [
    "long_df2.drop(columns='var_w_unit')"
   ]
  },
  {
   "cell_type": "code",
   "execution_count": 47,
   "id": "c8892e91-8d0d-4334-9c6f-a281aa38bc98",
   "metadata": {},
   "outputs": [
    {
     "data": {
      "text/plain": [
       "(6, 5)"
      ]
     },
     "execution_count": 47,
     "metadata": {},
     "output_type": "execute_result"
    }
   ],
   "source": [
    "long_df2.shape"
   ]
  },
  {
   "cell_type": "code",
   "execution_count": 67,
   "id": "a68c19b1-dded-46b5-a08f-e19997b78313",
   "metadata": {},
   "outputs": [
    {
     "data": {
      "text/plain": [
       "np.float64(30.0)"
      ]
     },
     "execution_count": 67,
     "metadata": {},
     "output_type": "execute_result"
    }
   ],
   "source": [
    "long_df2.iloc[1]['value']"
   ]
  },
  {
   "cell_type": "code",
   "execution_count": 94,
   "id": "02f3b8f3-f9d9-4f58-aec7-8c513a413d8e",
   "metadata": {},
   "outputs": [],
   "source": [
    "for i in range(long_df2.shape[0]):\n",
    "    if long_df2.loc[i]['value']*0 != 0:\n",
    "        long_df3 = long_df2.drop(i)"
   ]
  },
  {
   "cell_type": "code",
   "execution_count": 95,
   "id": "e2311a67-5bc9-4aec-99d7-f3ab5cdb53a9",
   "metadata": {},
   "outputs": [
    {
     "data": {
      "text/html": [
       "<div>\n",
       "<style scoped>\n",
       "    .dataframe tbody tr th:only-of-type {\n",
       "        vertical-align: middle;\n",
       "    }\n",
       "\n",
       "    .dataframe tbody tr th {\n",
       "        vertical-align: top;\n",
       "    }\n",
       "\n",
       "    .dataframe thead th {\n",
       "        text-align: right;\n",
       "    }\n",
       "</style>\n",
       "<table border=\"1\" class=\"dataframe\">\n",
       "  <thead>\n",
       "    <tr style=\"text-align: right;\">\n",
       "      <th></th>\n",
       "      <th>patient_id</th>\n",
       "      <th>var_w_unit</th>\n",
       "      <th>value</th>\n",
       "      <th>variable</th>\n",
       "      <th>unit</th>\n",
       "    </tr>\n",
       "  </thead>\n",
       "  <tbody>\n",
       "    <tr>\n",
       "      <th>0</th>\n",
       "      <td>1</td>\n",
       "      <td>age_year</td>\n",
       "      <td>40.0</td>\n",
       "      <td>age</td>\n",
       "      <td>year</td>\n",
       "    </tr>\n",
       "    <tr>\n",
       "      <th>1</th>\n",
       "      <td>2</td>\n",
       "      <td>age_year</td>\n",
       "      <td>30.0</td>\n",
       "      <td>age</td>\n",
       "      <td>year</td>\n",
       "    </tr>\n",
       "    <tr>\n",
       "      <th>2</th>\n",
       "      <td>1</td>\n",
       "      <td>height_cm</td>\n",
       "      <td>178.0</td>\n",
       "      <td>height</td>\n",
       "      <td>cm</td>\n",
       "    </tr>\n",
       "    <tr>\n",
       "      <th>3</th>\n",
       "      <td>2</td>\n",
       "      <td>height_cm</td>\n",
       "      <td>166.0</td>\n",
       "      <td>height</td>\n",
       "      <td>cm</td>\n",
       "    </tr>\n",
       "    <tr>\n",
       "      <th>4</th>\n",
       "      <td>1</td>\n",
       "      <td>weight_kg</td>\n",
       "      <td>80.0</td>\n",
       "      <td>weight</td>\n",
       "      <td>kg</td>\n",
       "    </tr>\n",
       "    <tr>\n",
       "      <th>5</th>\n",
       "      <td>2</td>\n",
       "      <td>weight_kg</td>\n",
       "      <td>NaN</td>\n",
       "      <td>weight</td>\n",
       "      <td>kg</td>\n",
       "    </tr>\n",
       "  </tbody>\n",
       "</table>\n",
       "</div>"
      ],
      "text/plain": [
       "   patient_id var_w_unit  value variable  unit\n",
       "0           1   age_year   40.0      age  year\n",
       "1           2   age_year   30.0      age  year\n",
       "2           1  height_cm  178.0   height    cm\n",
       "3           2  height_cm  166.0   height    cm\n",
       "4           1  weight_kg   80.0   weight    kg\n",
       "5           2  weight_kg    NaN   weight    kg"
      ]
     },
     "execution_count": 95,
     "metadata": {},
     "output_type": "execute_result"
    }
   ],
   "source": [
    "long_df2"
   ]
  },
  {
   "cell_type": "code",
   "execution_count": 96,
   "id": "ff87c431-4d93-4f1d-8e23-d2b101936cef",
   "metadata": {},
   "outputs": [
    {
     "data": {
      "text/plain": [
       "False"
      ]
     },
     "execution_count": 96,
     "metadata": {},
     "output_type": "execute_result"
    }
   ],
   "source": [
    "np.nan == False"
   ]
  },
  {
   "cell_type": "code",
   "execution_count": 97,
   "id": "966ebdd1-50ff-440c-a22c-2454afbcf710",
   "metadata": {},
   "outputs": [
    {
     "data": {
      "text/plain": [
       "np.float64(nan)"
      ]
     },
     "execution_count": 97,
     "metadata": {},
     "output_type": "execute_result"
    }
   ],
   "source": [
    "long_df2.iloc[5]['value']"
   ]
  },
  {
   "cell_type": "code",
   "execution_count": 98,
   "id": "57f31782-ff75-4690-969d-2c1b8dcf896d",
   "metadata": {},
   "outputs": [
    {
     "data": {
      "text/html": [
       "<div>\n",
       "<style scoped>\n",
       "    .dataframe tbody tr th:only-of-type {\n",
       "        vertical-align: middle;\n",
       "    }\n",
       "\n",
       "    .dataframe tbody tr th {\n",
       "        vertical-align: top;\n",
       "    }\n",
       "\n",
       "    .dataframe thead th {\n",
       "        text-align: right;\n",
       "    }\n",
       "</style>\n",
       "<table border=\"1\" class=\"dataframe\">\n",
       "  <thead>\n",
       "    <tr style=\"text-align: right;\">\n",
       "      <th></th>\n",
       "      <th>patient_id</th>\n",
       "      <th>var_w_unit</th>\n",
       "      <th>value</th>\n",
       "      <th>variable</th>\n",
       "      <th>unit</th>\n",
       "    </tr>\n",
       "  </thead>\n",
       "  <tbody>\n",
       "    <tr>\n",
       "      <th>0</th>\n",
       "      <td>1</td>\n",
       "      <td>age_year</td>\n",
       "      <td>40.0</td>\n",
       "      <td>age</td>\n",
       "      <td>year</td>\n",
       "    </tr>\n",
       "    <tr>\n",
       "      <th>1</th>\n",
       "      <td>2</td>\n",
       "      <td>age_year</td>\n",
       "      <td>30.0</td>\n",
       "      <td>age</td>\n",
       "      <td>year</td>\n",
       "    </tr>\n",
       "    <tr>\n",
       "      <th>2</th>\n",
       "      <td>1</td>\n",
       "      <td>height_cm</td>\n",
       "      <td>178.0</td>\n",
       "      <td>height</td>\n",
       "      <td>cm</td>\n",
       "    </tr>\n",
       "    <tr>\n",
       "      <th>3</th>\n",
       "      <td>2</td>\n",
       "      <td>height_cm</td>\n",
       "      <td>166.0</td>\n",
       "      <td>height</td>\n",
       "      <td>cm</td>\n",
       "    </tr>\n",
       "    <tr>\n",
       "      <th>4</th>\n",
       "      <td>1</td>\n",
       "      <td>weight_kg</td>\n",
       "      <td>80.0</td>\n",
       "      <td>weight</td>\n",
       "      <td>kg</td>\n",
       "    </tr>\n",
       "  </tbody>\n",
       "</table>\n",
       "</div>"
      ],
      "text/plain": [
       "   patient_id var_w_unit  value variable  unit\n",
       "0           1   age_year   40.0      age  year\n",
       "1           2   age_year   30.0      age  year\n",
       "2           1  height_cm  178.0   height    cm\n",
       "3           2  height_cm  166.0   height    cm\n",
       "4           1  weight_kg   80.0   weight    kg"
      ]
     },
     "execution_count": 98,
     "metadata": {},
     "output_type": "execute_result"
    }
   ],
   "source": [
    "long_df3"
   ]
  },
  {
   "cell_type": "code",
   "execution_count": 99,
   "id": "ff528798-6873-44d5-bddb-5f93d05d4a50",
   "metadata": {},
   "outputs": [
    {
     "data": {
      "text/plain": [
       "np.False_"
      ]
     },
     "execution_count": 99,
     "metadata": {},
     "output_type": "execute_result"
    }
   ],
   "source": [
    "long_df2.iloc[5]['value']*0 == 0"
   ]
  },
  {
   "cell_type": "code",
   "execution_count": 100,
   "id": "05fa1910-4182-4811-ad0e-5852f47881e9",
   "metadata": {},
   "outputs": [
    {
     "data": {
      "text/plain": [
       "np.True_"
      ]
     },
     "execution_count": 100,
     "metadata": {},
     "output_type": "execute_result"
    }
   ],
   "source": [
    "long_df2.iloc[4]['value']*0 == 0"
   ]
  },
  {
   "cell_type": "code",
   "execution_count": 101,
   "id": "014140c9-fc4b-4bda-aab5-7381228aded8",
   "metadata": {},
   "outputs": [
    {
     "data": {
      "text/plain": [
       "np.True_"
      ]
     },
     "execution_count": 101,
     "metadata": {},
     "output_type": "execute_result"
    }
   ],
   "source": [
    "long_df2.iloc[3]['value']*0 == 0"
   ]
  },
  {
   "cell_type": "code",
   "execution_count": 104,
   "id": "952c4598-b8b2-4e65-abe5-173f59748c68",
   "metadata": {},
   "outputs": [],
   "source": [
    "# 在网络上最常见的分层数据集：是json格式。"
   ]
  },
  {
   "cell_type": "code",
   "execution_count": 105,
   "id": "0325150f-4ec6-4b38-a4c9-5bfa0bdc4a3b",
   "metadata": {},
   "outputs": [],
   "source": [
    "import json"
   ]
  },
  {
   "cell_type": "code",
   "execution_count": 107,
   "id": "17bed429-1ef0-4479-9f58-5d2698288213",
   "metadata": {},
   "outputs": [],
   "source": [
    "with open ('nytimes_metadata_example.json', 'r') as f:\n",
    "    dat = json.load(f)"
   ]
  },
  {
   "cell_type": "code",
   "execution_count": 109,
   "id": "dd245065-d894-4784-bebb-697577fed1b7",
   "metadata": {},
   "outputs": [],
   "source": [
    "#dat"
   ]
  },
  {
   "cell_type": "code",
   "execution_count": 110,
   "id": "96e910a9-1103-4c4f-add5-9ac288a674b1",
   "metadata": {},
   "outputs": [
    {
     "data": {
      "text/plain": [
       "list"
      ]
     },
     "execution_count": 110,
     "metadata": {},
     "output_type": "execute_result"
    }
   ],
   "source": [
    "type(dat)"
   ]
  },
  {
   "cell_type": "code",
   "execution_count": 112,
   "id": "35add675-c7f3-4a0a-b13d-2dd59e923772",
   "metadata": {},
   "outputs": [
    {
     "data": {
      "text/plain": [
       "10"
      ]
     },
     "execution_count": 112,
     "metadata": {},
     "output_type": "execute_result"
    }
   ],
   "source": [
    "len(dat)"
   ]
  },
  {
   "cell_type": "code",
   "execution_count": 144,
   "id": "96db0031-803f-4cc9-83a1-659b11168376",
   "metadata": {},
   "outputs": [],
   "source": [
    "#dat"
   ]
  },
  {
   "cell_type": "code",
   "execution_count": null,
   "id": "dec4d050-16b9-4ddf-b419-ddc49d7c8724",
   "metadata": {},
   "outputs": [],
   "source": []
  },
  {
   "cell_type": "code",
   "execution_count": 114,
   "id": "71068e6b-49e7-46a3-a25a-def516542a8b",
   "metadata": {},
   "outputs": [
    {
     "data": {
      "text/plain": [
       "{'abstract': 'President Trump will give Canada, Mexico and the European Union another 30-day reprieve from steel and aluminum tariffs, delaying punishing levies on key allies.',\n",
       " 'web_url': 'https://www.nytimes.com/2018/04/30/us/politics/white-house-delays-tariffs-eu-canada-mexico.html',\n",
       " 'snippet': 'President Trump will give Canada, Mexico and the European Union another 30-day reprieve from steel and aluminum tariffs, delaying punishing levies on key allies.',\n",
       " 'lead_paragraph': 'WASHINGTON — The Trump administration said on Monday that it would delay a decision to impose steel and aluminum tariffs on the European Union, Canada and Mexico for another 30 days, giving key allies a reprieve as the White House tries to extract concessions from trading partners who have resisted those demands.',\n",
       " 'print_section': 'A',\n",
       " 'print_page': '1',\n",
       " 'source': 'The New York Times',\n",
       " 'multimedia': [{'rank': 0,\n",
       "   'subtype': 'xlarge',\n",
       "   'caption': None,\n",
       "   'credit': None,\n",
       "   'type': 'image',\n",
       "   'url': 'images/2018/05/01/business/01dc-tariffs-print/merlin_135176676_e5f4ef0b-2553-4fde-b27c-d582610f362b-articleLarge.jpg',\n",
       "   'height': 400,\n",
       "   'width': 600,\n",
       "   'subType': 'xlarge',\n",
       "   'crop_name': 'articleLarge',\n",
       "   'legacy': {'xlarge': 'images/2018/05/01/business/01dc-tariffs-print/merlin_135176676_e5f4ef0b-2553-4fde-b27c-d582610f362b-articleLarge.jpg',\n",
       "    'xlargewidth': 600,\n",
       "    'xlargeheight': 400}},\n",
       "  {'rank': 0,\n",
       "   'subtype': 'jumbo',\n",
       "   'caption': None,\n",
       "   'credit': None,\n",
       "   'type': 'image',\n",
       "   'url': 'images/2018/05/01/business/01dc-tariffs-print/merlin_135176676_e5f4ef0b-2553-4fde-b27c-d582610f362b-jumbo.jpg',\n",
       "   'height': 683,\n",
       "   'width': 1024,\n",
       "   'subType': 'jumbo',\n",
       "   'crop_name': 'jumbo',\n",
       "   'legacy': {}},\n",
       "  {'rank': 0,\n",
       "   'subtype': 'superJumbo',\n",
       "   'caption': None,\n",
       "   'credit': None,\n",
       "   'type': 'image',\n",
       "   'url': 'images/2018/05/01/business/01dc-tariffs-print/merlin_135176676_e5f4ef0b-2553-4fde-b27c-d582610f362b-superJumbo.jpg',\n",
       "   'height': 1365,\n",
       "   'width': 2048,\n",
       "   'subType': 'superJumbo',\n",
       "   'crop_name': 'superJumbo',\n",
       "   'legacy': {}},\n",
       "  {'rank': 0,\n",
       "   'subtype': 'thumbnail',\n",
       "   'caption': None,\n",
       "   'credit': None,\n",
       "   'type': 'image',\n",
       "   'url': 'images/2018/05/01/business/01dc-tariffs-print/01dc-tariffs-print-thumbStandard-v2.jpg',\n",
       "   'height': 75,\n",
       "   'width': 75,\n",
       "   'subType': 'thumbnail',\n",
       "   'crop_name': 'thumbStandard',\n",
       "   'legacy': {'thumbnail': 'images/2018/05/01/business/01dc-tariffs-print/01dc-tariffs-print-thumbStandard-v2.jpg',\n",
       "    'thumbnailwidth': 75,\n",
       "    'thumbnailheight': 75}},\n",
       "  {'rank': 0,\n",
       "   'subtype': 'thumbLarge',\n",
       "   'caption': None,\n",
       "   'credit': None,\n",
       "   'type': 'image',\n",
       "   'url': 'images/2018/05/01/business/01dc-tariffs-print/01dc-tariffs-print-thumbLarge-v2.jpg',\n",
       "   'height': 150,\n",
       "   'width': 150,\n",
       "   'subType': 'thumbLarge',\n",
       "   'crop_name': 'thumbLarge',\n",
       "   'legacy': {}}],\n",
       " 'headline': {'main': 'White House Delays Tariffs on E.U., Canada and Mexico for 30 Days',\n",
       "  'kicker': None,\n",
       "  'content_kicker': None,\n",
       "  'print_headline': 'U.S. Delaying Start of Tariffs For Key Allies',\n",
       "  'name': None,\n",
       "  'seo': None,\n",
       "  'sub': None},\n",
       " 'keywords': [{'name': 'subject',\n",
       "   'value': 'United States Politics and Government',\n",
       "   'rank': 1,\n",
       "   'major': 'N'},\n",
       "  {'name': 'subject', 'value': 'Customs (Tariff)', 'rank': 2, 'major': 'N'},\n",
       "  {'name': 'subject',\n",
       "   'value': 'International Trade and World Market',\n",
       "   'rank': 3,\n",
       "   'major': 'N'},\n",
       "  {'name': 'organizations',\n",
       "   'value': 'European Union',\n",
       "   'rank': 4,\n",
       "   'major': 'N'},\n",
       "  {'name': 'glocations', 'value': 'Canada', 'rank': 5, 'major': 'N'},\n",
       "  {'name': 'glocations', 'value': 'Mexico', 'rank': 6, 'major': 'N'},\n",
       "  {'name': 'persons', 'value': 'Trump, Donald J', 'rank': 7, 'major': 'N'},\n",
       "  {'name': 'subject', 'value': 'Aluminum', 'rank': 8, 'major': 'N'},\n",
       "  {'name': 'subject', 'value': 'Steel and Iron', 'rank': 9, 'major': 'N'}],\n",
       " 'pub_date': '2018-05-01T00:02:05+0000',\n",
       " 'document_type': 'article',\n",
       " 'news_desk': 'Business',\n",
       " 'section_name': 'U.S.',\n",
       " 'subsection_name': 'Politics',\n",
       " 'byline': {'original': 'By Ana Swanson',\n",
       "  'person': [{'firstname': 'Ana',\n",
       "    'middlename': None,\n",
       "    'lastname': 'Swanson',\n",
       "    'qualifier': None,\n",
       "    'title': None,\n",
       "    'role': 'reported',\n",
       "    'organization': '',\n",
       "    'rank': 1}],\n",
       "  'organization': None},\n",
       " 'type_of_material': 'News',\n",
       " '_id': 'nyt://article/fe30ca90-44ba-5c62-a809-87ef554899eb',\n",
       " 'word_count': 1289,\n",
       " 'uri': 'nyt://article/fe30ca90-44ba-5c62-a809-87ef554899eb'}"
      ]
     },
     "execution_count": 114,
     "metadata": {},
     "output_type": "execute_result"
    }
   ],
   "source": [
    "dat[0]"
   ]
  },
  {
   "cell_type": "code",
   "execution_count": 115,
   "id": "2fe8cf28-605d-477a-9b0e-64c963a5f958",
   "metadata": {},
   "outputs": [],
   "source": [
    "article = dat[0]"
   ]
  },
  {
   "cell_type": "code",
   "execution_count": 116,
   "id": "926d8e70-dbc5-411d-9109-ac47885d8e60",
   "metadata": {},
   "outputs": [
    {
     "data": {
      "text/plain": [
       "dict"
      ]
     },
     "execution_count": 116,
     "metadata": {},
     "output_type": "execute_result"
    }
   ],
   "source": [
    "type(article)"
   ]
  },
  {
   "cell_type": "code",
   "execution_count": 117,
   "id": "745cf7a4-5ce3-4628-a7ae-6ce25e34449a",
   "metadata": {},
   "outputs": [
    {
     "data": {
      "text/plain": [
       "20"
      ]
     },
     "execution_count": 117,
     "metadata": {},
     "output_type": "execute_result"
    }
   ],
   "source": [
    "len(article)"
   ]
  },
  {
   "cell_type": "code",
   "execution_count": 118,
   "id": "abeab93a-ecb4-4fc2-a371-1a7b097dcfa7",
   "metadata": {},
   "outputs": [
    {
     "name": "stdout",
     "output_type": "stream",
     "text": [
      "dict_keys(['abstract', 'web_url', 'snippet', 'lead_paragraph', 'print_section', 'print_page', 'source', 'multimedia', 'headline', 'keywords', 'pub_date', 'document_type', 'news_desk', 'section_name', 'subsection_name', 'byline', 'type_of_material', '_id', 'word_count', 'uri'])\n"
     ]
    }
   ],
   "source": [
    "print(article.keys())"
   ]
  },
  {
   "cell_type": "code",
   "execution_count": 119,
   "id": "1a830522-f019-4eea-85f5-a79b9bf104e4",
   "metadata": {},
   "outputs": [
    {
     "data": {
      "text/plain": [
       "str"
      ]
     },
     "execution_count": 119,
     "metadata": {},
     "output_type": "execute_result"
    }
   ],
   "source": [
    "type(article['abstract'])"
   ]
  },
  {
   "cell_type": "code",
   "execution_count": 120,
   "id": "cf1a39a3-efd2-4d67-93e2-4d9b3a78d118",
   "metadata": {},
   "outputs": [
    {
     "name": "stdout",
     "output_type": "stream",
     "text": [
      "https://www.nytimes.com/2018/04/30/us/politics/white-house-delays-tariffs-eu-canada-mexico.html\n",
      "U.S.\n",
      "2018-05-01T00:02:05+0000\n",
      "{'main': 'White House Delays Tariffs on E.U., Canada and Mexico for 30 Days', 'kicker': None, 'content_kicker': None, 'print_headline': 'U.S. Delaying Start of Tariffs For Key Allies', 'name': None, 'seo': None, 'sub': None}\n",
      "{'original': 'By Ana Swanson', 'person': [{'firstname': 'Ana', 'middlename': None, 'lastname': 'Swanson', 'qualifier': None, 'title': None, 'role': 'reported', 'organization': '', 'rank': 1}], 'organization': None}\n"
     ]
    }
   ],
   "source": [
    "print(article['web_url'])\n",
    "print(article['section_name'])\n",
    "print(article['pub_date'])\n",
    "print(article['headline'])\n",
    "print(article['byline'])"
   ]
  },
  {
   "cell_type": "code",
   "execution_count": 121,
   "id": "9a93bc3b-9254-4ba7-86de-93d1fafa783a",
   "metadata": {},
   "outputs": [
    {
     "name": "stdout",
     "output_type": "stream",
     "text": [
      "{'original': 'By Ana Swanson', 'person': [{'firstname': 'Ana', 'middlename': None, 'lastname': 'Swanson', 'qualifier': None, 'title': None, 'role': 'reported', 'organization': '', 'rank': 1}], 'organization': None}\n"
     ]
    }
   ],
   "source": [
    "print(article['byline'])"
   ]
  },
  {
   "cell_type": "code",
   "execution_count": 122,
   "id": "988b5dba-97a8-467a-bbec-7efcbd13d0d4",
   "metadata": {},
   "outputs": [
    {
     "data": {
      "text/plain": [
       "dict"
      ]
     },
     "execution_count": 122,
     "metadata": {},
     "output_type": "execute_result"
    }
   ],
   "source": [
    "type(article['byline'])"
   ]
  },
  {
   "cell_type": "code",
   "execution_count": 129,
   "id": "fa26f818-0d67-464b-b662-60dec883c6bc",
   "metadata": {},
   "outputs": [
    {
     "data": {
      "text/plain": [
       "dict"
      ]
     },
     "execution_count": 129,
     "metadata": {},
     "output_type": "execute_result"
    }
   ],
   "source": [
    "type(article['headline'])"
   ]
  },
  {
   "cell_type": "code",
   "execution_count": 130,
   "id": "9d3c115b-d88e-4ed9-8041-40c179b8e1f3",
   "metadata": {},
   "outputs": [
    {
     "data": {
      "text/plain": [
       "{'main': 'White House Delays Tariffs on E.U., Canada and Mexico for 30 Days',\n",
       " 'kicker': None,\n",
       " 'content_kicker': None,\n",
       " 'print_headline': 'U.S. Delaying Start of Tariffs For Key Allies',\n",
       " 'name': None,\n",
       " 'seo': None,\n",
       " 'sub': None}"
      ]
     },
     "execution_count": 130,
     "metadata": {},
     "output_type": "execute_result"
    }
   ],
   "source": [
    "article['headline']"
   ]
  },
  {
   "cell_type": "code",
   "execution_count": 123,
   "id": "125b4f39-5c74-4273-8afc-86159c5b254d",
   "metadata": {},
   "outputs": [],
   "source": [
    "easy_keys = ['web_url', 'section_name', 'pub_date']"
   ]
  },
  {
   "cell_type": "code",
   "execution_count": 125,
   "id": "8acc4b3b-9e49-4da5-9810-daa76029bdb7",
   "metadata": {},
   "outputs": [],
   "source": [
    "records = {k: k for k in easy_keys}"
   ]
  },
  {
   "cell_type": "code",
   "execution_count": 126,
   "id": "3c007e73-d6e3-429a-8942-0636fde1e4bb",
   "metadata": {},
   "outputs": [
    {
     "data": {
      "text/plain": [
       "{'web_url': 'web_url', 'section_name': 'section_name', 'pub_date': 'pub_date'}"
      ]
     },
     "execution_count": 126,
     "metadata": {},
     "output_type": "execute_result"
    }
   ],
   "source": [
    "records"
   ]
  },
  {
   "cell_type": "code",
   "execution_count": 134,
   "id": "5b59dae7-184a-4091-86cd-2b00835aebf1",
   "metadata": {},
   "outputs": [],
   "source": [
    "records.update({'main_headline' : article['headline']['main']})"
   ]
  },
  {
   "cell_type": "code",
   "execution_count": 135,
   "id": "79ce8ed5-bd8b-48a9-af52-6e5a3b13dc29",
   "metadata": {},
   "outputs": [
    {
     "data": {
      "text/plain": [
       "{'web_url': 'web_url',\n",
       " 'section_name': 'section_name',\n",
       " 'pub_date': 'pub_date',\n",
       " 'main_headline': 'White House Delays Tariffs on E.U., Canada and Mexico for 30 Days'}"
      ]
     },
     "execution_count": 135,
     "metadata": {},
     "output_type": "execute_result"
    }
   ],
   "source": [
    "records"
   ]
  },
  {
   "cell_type": "code",
   "execution_count": 136,
   "id": "146ea7e6-2088-410b-9e28-2c1018ff3391",
   "metadata": {},
   "outputs": [],
   "source": [
    "name_vars = ['firstname', 'middlename', 'lastname']"
   ]
  },
  {
   "cell_type": "code",
   "execution_count": 143,
   "id": "2065102f-70dc-4db9-91d2-32733f3d9fe6",
   "metadata": {},
   "outputs": [],
   "source": [
    "person = article['byline']['person'][0]"
   ]
  },
  {
   "cell_type": "code",
   "execution_count": 145,
   "id": "c318f4ec-8eaf-4736-9e85-e139095a8593",
   "metadata": {},
   "outputs": [
    {
     "data": {
      "text/plain": [
       "{'firstname': 'Ana',\n",
       " 'middlename': None,\n",
       " 'lastname': 'Swanson',\n",
       " 'qualifier': None,\n",
       " 'title': None,\n",
       " 'role': 'reported',\n",
       " 'organization': '',\n",
       " 'rank': 1}"
      ]
     },
     "execution_count": 145,
     "metadata": {},
     "output_type": "execute_result"
    }
   ],
   "source": [
    "person"
   ]
  },
  {
   "cell_type": "code",
   "execution_count": 148,
   "id": "52be5242-5516-4d5d-be3a-98fcce5bc501",
   "metadata": {},
   "outputs": [],
   "source": [
    "records.update({key: person[key] if person[key] else ''\n",
    "              for key in name_vars})"
   ]
  },
  {
   "cell_type": "code",
   "execution_count": 149,
   "id": "6f31e94b-bbac-4fd5-9886-f413a46867cc",
   "metadata": {},
   "outputs": [
    {
     "data": {
      "text/plain": [
       "{'web_url': 'web_url',\n",
       " 'section_name': 'section_name',\n",
       " 'pub_date': 'pub_date',\n",
       " 'main_headline': 'White House Delays Tariffs on E.U., Canada and Mexico for 30 Days',\n",
       " 'firstname': 'Ana',\n",
       " 'middlename': '',\n",
       " 'lastname': 'Swanson'}"
      ]
     },
     "execution_count": 149,
     "metadata": {},
     "output_type": "execute_result"
    }
   ],
   "source": [
    "records"
   ]
  },
  {
   "cell_type": "code",
   "execution_count": 140,
   "id": "7cb2ea3c-2328-46fc-8815-23f8d2af1d4e",
   "metadata": {},
   "outputs": [
    {
     "data": {
      "text/plain": [
       "[{'firstname': 'Ana',\n",
       "  'middlename': None,\n",
       "  'lastname': 'Swanson',\n",
       "  'qualifier': None,\n",
       "  'title': None,\n",
       "  'role': 'reported',\n",
       "  'organization': '',\n",
       "  'rank': 1}]"
      ]
     },
     "execution_count": 140,
     "metadata": {},
     "output_type": "execute_result"
    }
   ],
   "source": [
    "article['byline']['person']"
   ]
  },
  {
   "cell_type": "code",
   "execution_count": 154,
   "id": "535e23e1-8428-4593-98b3-b8c85172a131",
   "metadata": {},
   "outputs": [],
   "source": [
    "record_per_author = []\n",
    "for person in article['byline']['person']:\n",
    "    record_copy = records.copy()\n",
    "    record_copy.update({key: person[key] if person[key] else ''\n",
    "                       for key in name_vars})\n",
    "    record_per_author.append(record_copy)"
   ]
  },
  {
   "cell_type": "code",
   "execution_count": 151,
   "id": "8665b8c2-95cf-467b-bf41-1c1b332b41da",
   "metadata": {},
   "outputs": [
    {
     "data": {
      "text/plain": [
       "{'web_url': 'web_url',\n",
       " 'section_name': 'section_name',\n",
       " 'pub_date': 'pub_date',\n",
       " 'main_headline': 'White House Delays Tariffs on E.U., Canada and Mexico for 30 Days',\n",
       " 'firstname': 'Ana',\n",
       " 'middlename': '',\n",
       " 'lastname': 'Swanson'}"
      ]
     },
     "execution_count": 151,
     "metadata": {},
     "output_type": "execute_result"
    }
   ],
   "source": [
    "records"
   ]
  },
  {
   "cell_type": "code",
   "execution_count": 155,
   "id": "2ba67fff-6352-4a2c-8109-8cb71c4cc402",
   "metadata": {},
   "outputs": [
    {
     "data": {
      "text/plain": [
       "[{'web_url': 'web_url',\n",
       "  'section_name': 'section_name',\n",
       "  'pub_date': 'pub_date',\n",
       "  'main_headline': 'White House Delays Tariffs on E.U., Canada and Mexico for 30 Days',\n",
       "  'firstname': 'Ana',\n",
       "  'middlename': '',\n",
       "  'lastname': 'Swanson'}]"
      ]
     },
     "execution_count": 155,
     "metadata": {},
     "output_type": "execute_result"
    }
   ],
   "source": [
    "record_per_author"
   ]
  },
  {
   "cell_type": "code",
   "execution_count": 163,
   "id": "fa020aec-d3d9-4d28-bfeb-a562047fcf21",
   "metadata": {},
   "outputs": [],
   "source": [
    "recordss = []\n",
    "for article in dat:\n",
    "    record_per_author = []\n",
    "    easy_keys = ['web_url', 'section_name', 'pub_date']\n",
    "    record = {k: k for k in easy_keys}\n",
    "    record.update({'main_headline' : article['headline']['main']})\n",
    "    name_vars = ['firstname', 'middlename', 'lastname']\n",
    "    for person in article['byline']['person']:\n",
    "        record.update({key: person[key] if person[key] else ''\n",
    "                      for key in name_vars})\n",
    "        record_per_author.append(record)\n",
    "    recordss.extend(record_per_author)"
   ]
  },
  {
   "cell_type": "code",
   "execution_count": 164,
   "id": "98669f6b-83e7-46fd-9cc8-275a45f9dc4d",
   "metadata": {},
   "outputs": [
    {
     "data": {
      "text/plain": [
       "[{'web_url': 'web_url',\n",
       "  'section_name': 'section_name',\n",
       "  'pub_date': 'pub_date',\n",
       "  'main_headline': 'White House Delays Tariffs on E.U., Canada and Mexico for 30 Days',\n",
       "  'firstname': 'Ana',\n",
       "  'middlename': '',\n",
       "  'lastname': 'Swanson'},\n",
       " {'web_url': 'web_url',\n",
       "  'section_name': 'section_name',\n",
       "  'pub_date': 'pub_date',\n",
       "  'main_headline': 'White House Considers Restricting Chinese Researchers Over Espionage Fears',\n",
       "  'firstname': 'Keith',\n",
       "  'middlename': '',\n",
       "  'lastname': 'Bradsher'},\n",
       " {'web_url': 'web_url',\n",
       "  'section_name': 'section_name',\n",
       "  'pub_date': 'pub_date',\n",
       "  'main_headline': 'White House Considers Restricting Chinese Researchers Over Espionage Fears',\n",
       "  'firstname': 'Keith',\n",
       "  'middlename': '',\n",
       "  'lastname': 'Bradsher'},\n",
       " {'web_url': 'web_url',\n",
       "  'section_name': 'section_name',\n",
       "  'pub_date': 'pub_date',\n",
       "  'main_headline': 'Reports of Sexual Assault in the Military Rise by 10 Percent, Pentagon Finds',\n",
       "  'firstname': 'Thomas',\n",
       "  'middlename': '',\n",
       "  'lastname': 'Gibbons-Neff'},\n",
       " {'web_url': 'web_url',\n",
       "  'section_name': 'section_name',\n",
       "  'pub_date': 'pub_date',\n",
       "  'main_headline': 'Was Sheldon Silver Corrupt, or Was It Just Politics as Usual?',\n",
       "  'firstname': 'Nate',\n",
       "  'middlename': '',\n",
       "  'lastname': 'Schweber'},\n",
       " {'web_url': 'web_url',\n",
       "  'section_name': 'section_name',\n",
       "  'pub_date': 'pub_date',\n",
       "  'main_headline': 'Was Sheldon Silver Corrupt, or Was It Just Politics as Usual?',\n",
       "  'firstname': 'Nate',\n",
       "  'middlename': '',\n",
       "  'lastname': 'Schweber'},\n",
       " {'web_url': 'web_url',\n",
       "  'section_name': 'section_name',\n",
       "  'pub_date': 'pub_date',\n",
       "  'main_headline': 'Gig Economy Business Model Dealt a Blow in California Ruling',\n",
       "  'firstname': 'Noam',\n",
       "  'middlename': '',\n",
       "  'lastname': 'Scheiber'},\n",
       " {'web_url': 'web_url',\n",
       "  'section_name': 'section_name',\n",
       "  'pub_date': 'pub_date',\n",
       "  'main_headline': 'Sex, Sport, and Why Track and Field’s New Rules on Intersex Athletes Are Essential',\n",
       "  'firstname': 'Doriane',\n",
       "  'middlename': 'Lambelet',\n",
       "  'lastname': 'Coleman'},\n",
       " {'web_url': 'web_url',\n",
       "  'section_name': 'section_name',\n",
       "  'pub_date': 'pub_date',\n",
       "  'main_headline': 'Cardinal George Pell to Stand Trial on Historical Sex Offenses',\n",
       "  'firstname': 'Adam',\n",
       "  'middlename': '',\n",
       "  'lastname': 'Baidawi'},\n",
       " {'web_url': 'web_url',\n",
       "  'section_name': 'section_name',\n",
       "  'pub_date': 'pub_date',\n",
       "  'main_headline': 'Why the Cardinal Pell Case Has Been So Secretive',\n",
       "  'firstname': 'Adam',\n",
       "  'middlename': '',\n",
       "  'lastname': 'Baidawi'},\n",
       " {'web_url': 'web_url',\n",
       "  'section_name': 'section_name',\n",
       "  'pub_date': 'pub_date',\n",
       "  'main_headline': 'Why the Cardinal Pell Case Has Been So Secretive',\n",
       "  'firstname': 'Adam',\n",
       "  'middlename': '',\n",
       "  'lastname': 'Baidawi'},\n",
       " {'web_url': 'web_url',\n",
       "  'section_name': 'section_name',\n",
       "  'pub_date': 'pub_date',\n",
       "  'main_headline': 'The Questions Mueller Wants to Ask Trump About Obstruction, and What They Mean',\n",
       "  'firstname': 'Michael',\n",
       "  'middlename': 'S.',\n",
       "  'lastname': 'Schmidt'},\n",
       " {'web_url': 'web_url',\n",
       "  'section_name': 'section_name',\n",
       "  'pub_date': 'pub_date',\n",
       "  'main_headline': 'The Questions Mueller Wants to Ask Trump About Obstruction, and What They Mean',\n",
       "  'firstname': 'Michael',\n",
       "  'middlename': 'S.',\n",
       "  'lastname': 'Schmidt'},\n",
       " {'web_url': 'web_url',\n",
       "  'section_name': 'section_name',\n",
       "  'pub_date': 'pub_date',\n",
       "  'main_headline': 'Mueller Has Dozens of Inquiries for Trump in Broad Quest on Russia Ties and Obstruction',\n",
       "  'firstname': 'Michael',\n",
       "  'middlename': 'S.',\n",
       "  'lastname': 'Schmidt'}]"
      ]
     },
     "execution_count": 164,
     "metadata": {},
     "output_type": "execute_result"
    }
   ],
   "source": [
    "recordss"
   ]
  },
  {
   "cell_type": "code",
   "execution_count": 165,
   "id": "14634458-e47f-4eca-9e0f-8ee92dd849c1",
   "metadata": {},
   "outputs": [
    {
     "data": {
      "text/html": [
       "<div>\n",
       "<style scoped>\n",
       "    .dataframe tbody tr th:only-of-type {\n",
       "        vertical-align: middle;\n",
       "    }\n",
       "\n",
       "    .dataframe tbody tr th {\n",
       "        vertical-align: top;\n",
       "    }\n",
       "\n",
       "    .dataframe thead th {\n",
       "        text-align: right;\n",
       "    }\n",
       "</style>\n",
       "<table border=\"1\" class=\"dataframe\">\n",
       "  <thead>\n",
       "    <tr style=\"text-align: right;\">\n",
       "      <th></th>\n",
       "      <th>web_url</th>\n",
       "      <th>section_name</th>\n",
       "      <th>pub_date</th>\n",
       "      <th>main_headline</th>\n",
       "      <th>firstname</th>\n",
       "      <th>middlename</th>\n",
       "      <th>lastname</th>\n",
       "    </tr>\n",
       "  </thead>\n",
       "  <tbody>\n",
       "    <tr>\n",
       "      <th>0</th>\n",
       "      <td>web_url</td>\n",
       "      <td>section_name</td>\n",
       "      <td>pub_date</td>\n",
       "      <td>White House Delays Tariffs on E.U., Canada and...</td>\n",
       "      <td>Ana</td>\n",
       "      <td></td>\n",
       "      <td>Swanson</td>\n",
       "    </tr>\n",
       "    <tr>\n",
       "      <th>1</th>\n",
       "      <td>web_url</td>\n",
       "      <td>section_name</td>\n",
       "      <td>pub_date</td>\n",
       "      <td>White House Considers Restricting Chinese Rese...</td>\n",
       "      <td>Keith</td>\n",
       "      <td></td>\n",
       "      <td>Bradsher</td>\n",
       "    </tr>\n",
       "    <tr>\n",
       "      <th>2</th>\n",
       "      <td>web_url</td>\n",
       "      <td>section_name</td>\n",
       "      <td>pub_date</td>\n",
       "      <td>White House Considers Restricting Chinese Rese...</td>\n",
       "      <td>Keith</td>\n",
       "      <td></td>\n",
       "      <td>Bradsher</td>\n",
       "    </tr>\n",
       "    <tr>\n",
       "      <th>3</th>\n",
       "      <td>web_url</td>\n",
       "      <td>section_name</td>\n",
       "      <td>pub_date</td>\n",
       "      <td>Reports of Sexual Assault in the Military Rise...</td>\n",
       "      <td>Thomas</td>\n",
       "      <td></td>\n",
       "      <td>Gibbons-Neff</td>\n",
       "    </tr>\n",
       "    <tr>\n",
       "      <th>4</th>\n",
       "      <td>web_url</td>\n",
       "      <td>section_name</td>\n",
       "      <td>pub_date</td>\n",
       "      <td>Was Sheldon Silver Corrupt, or Was It Just Pol...</td>\n",
       "      <td>Nate</td>\n",
       "      <td></td>\n",
       "      <td>Schweber</td>\n",
       "    </tr>\n",
       "    <tr>\n",
       "      <th>5</th>\n",
       "      <td>web_url</td>\n",
       "      <td>section_name</td>\n",
       "      <td>pub_date</td>\n",
       "      <td>Was Sheldon Silver Corrupt, or Was It Just Pol...</td>\n",
       "      <td>Nate</td>\n",
       "      <td></td>\n",
       "      <td>Schweber</td>\n",
       "    </tr>\n",
       "    <tr>\n",
       "      <th>6</th>\n",
       "      <td>web_url</td>\n",
       "      <td>section_name</td>\n",
       "      <td>pub_date</td>\n",
       "      <td>Gig Economy Business Model Dealt a Blow in Cal...</td>\n",
       "      <td>Noam</td>\n",
       "      <td></td>\n",
       "      <td>Scheiber</td>\n",
       "    </tr>\n",
       "    <tr>\n",
       "      <th>7</th>\n",
       "      <td>web_url</td>\n",
       "      <td>section_name</td>\n",
       "      <td>pub_date</td>\n",
       "      <td>Sex, Sport, and Why Track and Field’s New Rule...</td>\n",
       "      <td>Doriane</td>\n",
       "      <td>Lambelet</td>\n",
       "      <td>Coleman</td>\n",
       "    </tr>\n",
       "    <tr>\n",
       "      <th>8</th>\n",
       "      <td>web_url</td>\n",
       "      <td>section_name</td>\n",
       "      <td>pub_date</td>\n",
       "      <td>Cardinal George Pell to Stand Trial on Histori...</td>\n",
       "      <td>Adam</td>\n",
       "      <td></td>\n",
       "      <td>Baidawi</td>\n",
       "    </tr>\n",
       "    <tr>\n",
       "      <th>9</th>\n",
       "      <td>web_url</td>\n",
       "      <td>section_name</td>\n",
       "      <td>pub_date</td>\n",
       "      <td>Why the Cardinal Pell Case Has Been So Secretive</td>\n",
       "      <td>Adam</td>\n",
       "      <td></td>\n",
       "      <td>Baidawi</td>\n",
       "    </tr>\n",
       "    <tr>\n",
       "      <th>10</th>\n",
       "      <td>web_url</td>\n",
       "      <td>section_name</td>\n",
       "      <td>pub_date</td>\n",
       "      <td>Why the Cardinal Pell Case Has Been So Secretive</td>\n",
       "      <td>Adam</td>\n",
       "      <td></td>\n",
       "      <td>Baidawi</td>\n",
       "    </tr>\n",
       "    <tr>\n",
       "      <th>11</th>\n",
       "      <td>web_url</td>\n",
       "      <td>section_name</td>\n",
       "      <td>pub_date</td>\n",
       "      <td>The Questions Mueller Wants to Ask Trump About...</td>\n",
       "      <td>Michael</td>\n",
       "      <td>S.</td>\n",
       "      <td>Schmidt</td>\n",
       "    </tr>\n",
       "    <tr>\n",
       "      <th>12</th>\n",
       "      <td>web_url</td>\n",
       "      <td>section_name</td>\n",
       "      <td>pub_date</td>\n",
       "      <td>The Questions Mueller Wants to Ask Trump About...</td>\n",
       "      <td>Michael</td>\n",
       "      <td>S.</td>\n",
       "      <td>Schmidt</td>\n",
       "    </tr>\n",
       "    <tr>\n",
       "      <th>13</th>\n",
       "      <td>web_url</td>\n",
       "      <td>section_name</td>\n",
       "      <td>pub_date</td>\n",
       "      <td>Mueller Has Dozens of Inquiries for Trump in B...</td>\n",
       "      <td>Michael</td>\n",
       "      <td>S.</td>\n",
       "      <td>Schmidt</td>\n",
       "    </tr>\n",
       "  </tbody>\n",
       "</table>\n",
       "</div>"
      ],
      "text/plain": [
       "    web_url  section_name  pub_date  \\\n",
       "0   web_url  section_name  pub_date   \n",
       "1   web_url  section_name  pub_date   \n",
       "2   web_url  section_name  pub_date   \n",
       "3   web_url  section_name  pub_date   \n",
       "4   web_url  section_name  pub_date   \n",
       "5   web_url  section_name  pub_date   \n",
       "6   web_url  section_name  pub_date   \n",
       "7   web_url  section_name  pub_date   \n",
       "8   web_url  section_name  pub_date   \n",
       "9   web_url  section_name  pub_date   \n",
       "10  web_url  section_name  pub_date   \n",
       "11  web_url  section_name  pub_date   \n",
       "12  web_url  section_name  pub_date   \n",
       "13  web_url  section_name  pub_date   \n",
       "\n",
       "                                        main_headline firstname middlename  \\\n",
       "0   White House Delays Tariffs on E.U., Canada and...       Ana              \n",
       "1   White House Considers Restricting Chinese Rese...     Keith              \n",
       "2   White House Considers Restricting Chinese Rese...     Keith              \n",
       "3   Reports of Sexual Assault in the Military Rise...    Thomas              \n",
       "4   Was Sheldon Silver Corrupt, or Was It Just Pol...      Nate              \n",
       "5   Was Sheldon Silver Corrupt, or Was It Just Pol...      Nate              \n",
       "6   Gig Economy Business Model Dealt a Blow in Cal...      Noam              \n",
       "7   Sex, Sport, and Why Track and Field’s New Rule...   Doriane   Lambelet   \n",
       "8   Cardinal George Pell to Stand Trial on Histori...      Adam              \n",
       "9    Why the Cardinal Pell Case Has Been So Secretive      Adam              \n",
       "10   Why the Cardinal Pell Case Has Been So Secretive      Adam              \n",
       "11  The Questions Mueller Wants to Ask Trump About...   Michael         S.   \n",
       "12  The Questions Mueller Wants to Ask Trump About...   Michael         S.   \n",
       "13  Mueller Has Dozens of Inquiries for Trump in B...   Michael         S.   \n",
       "\n",
       "        lastname  \n",
       "0        Swanson  \n",
       "1       Bradsher  \n",
       "2       Bradsher  \n",
       "3   Gibbons-Neff  \n",
       "4       Schweber  \n",
       "5       Schweber  \n",
       "6       Scheiber  \n",
       "7        Coleman  \n",
       "8        Baidawi  \n",
       "9        Baidawi  \n",
       "10       Baidawi  \n",
       "11       Schmidt  \n",
       "12       Schmidt  \n",
       "13       Schmidt  "
      ]
     },
     "execution_count": 165,
     "metadata": {},
     "output_type": "execute_result"
    }
   ],
   "source": [
    "pd.DataFrame(recordss)"
   ]
  },
  {
   "cell_type": "code",
   "execution_count": 166,
   "id": "43eba8a7-e7ee-4880-8458-636e4609f47d",
   "metadata": {},
   "outputs": [],
   "source": [
    "recordss = []\n",
    "for article in dat:\n",
    "    record_per_author = []\n",
    "    easy_keys = ['web_url', 'section_name', 'pub_date']\n",
    "    record = {k: k for k in easy_keys}\n",
    "    record.update({'main_headline' : article['headline']['main']})\n",
    "    name_vars = ['firstname', 'middlename', 'lastname']\n",
    "    for person in article['byline']['person']:\n",
    "        record.update({key: person[key] if person[key] else ''\n",
    "                      for key in name_vars})\n",
    "        record_per_author.append(record)\n",
    "    recordss.append(record_per_author)"
   ]
  },
  {
   "cell_type": "code",
   "execution_count": 167,
   "id": "1fe75b0a-8212-471d-84d9-548541aba5a6",
   "metadata": {},
   "outputs": [
    {
     "data": {
      "text/plain": [
       "[[{'web_url': 'web_url',\n",
       "   'section_name': 'section_name',\n",
       "   'pub_date': 'pub_date',\n",
       "   'main_headline': 'White House Delays Tariffs on E.U., Canada and Mexico for 30 Days',\n",
       "   'firstname': 'Ana',\n",
       "   'middlename': '',\n",
       "   'lastname': 'Swanson'}],\n",
       " [{'web_url': 'web_url',\n",
       "   'section_name': 'section_name',\n",
       "   'pub_date': 'pub_date',\n",
       "   'main_headline': 'White House Considers Restricting Chinese Researchers Over Espionage Fears',\n",
       "   'firstname': 'Keith',\n",
       "   'middlename': '',\n",
       "   'lastname': 'Bradsher'},\n",
       "  {'web_url': 'web_url',\n",
       "   'section_name': 'section_name',\n",
       "   'pub_date': 'pub_date',\n",
       "   'main_headline': 'White House Considers Restricting Chinese Researchers Over Espionage Fears',\n",
       "   'firstname': 'Keith',\n",
       "   'middlename': '',\n",
       "   'lastname': 'Bradsher'}],\n",
       " [{'web_url': 'web_url',\n",
       "   'section_name': 'section_name',\n",
       "   'pub_date': 'pub_date',\n",
       "   'main_headline': 'Reports of Sexual Assault in the Military Rise by 10 Percent, Pentagon Finds',\n",
       "   'firstname': 'Thomas',\n",
       "   'middlename': '',\n",
       "   'lastname': 'Gibbons-Neff'}],\n",
       " [{'web_url': 'web_url',\n",
       "   'section_name': 'section_name',\n",
       "   'pub_date': 'pub_date',\n",
       "   'main_headline': 'Was Sheldon Silver Corrupt, or Was It Just Politics as Usual?',\n",
       "   'firstname': 'Nate',\n",
       "   'middlename': '',\n",
       "   'lastname': 'Schweber'},\n",
       "  {'web_url': 'web_url',\n",
       "   'section_name': 'section_name',\n",
       "   'pub_date': 'pub_date',\n",
       "   'main_headline': 'Was Sheldon Silver Corrupt, or Was It Just Politics as Usual?',\n",
       "   'firstname': 'Nate',\n",
       "   'middlename': '',\n",
       "   'lastname': 'Schweber'}],\n",
       " [{'web_url': 'web_url',\n",
       "   'section_name': 'section_name',\n",
       "   'pub_date': 'pub_date',\n",
       "   'main_headline': 'Gig Economy Business Model Dealt a Blow in California Ruling',\n",
       "   'firstname': 'Noam',\n",
       "   'middlename': '',\n",
       "   'lastname': 'Scheiber'}],\n",
       " [{'web_url': 'web_url',\n",
       "   'section_name': 'section_name',\n",
       "   'pub_date': 'pub_date',\n",
       "   'main_headline': 'Sex, Sport, and Why Track and Field’s New Rules on Intersex Athletes Are Essential',\n",
       "   'firstname': 'Doriane',\n",
       "   'middlename': 'Lambelet',\n",
       "   'lastname': 'Coleman'}],\n",
       " [{'web_url': 'web_url',\n",
       "   'section_name': 'section_name',\n",
       "   'pub_date': 'pub_date',\n",
       "   'main_headline': 'Cardinal George Pell to Stand Trial on Historical Sex Offenses',\n",
       "   'firstname': 'Adam',\n",
       "   'middlename': '',\n",
       "   'lastname': 'Baidawi'}],\n",
       " [{'web_url': 'web_url',\n",
       "   'section_name': 'section_name',\n",
       "   'pub_date': 'pub_date',\n",
       "   'main_headline': 'Why the Cardinal Pell Case Has Been So Secretive',\n",
       "   'firstname': 'Adam',\n",
       "   'middlename': '',\n",
       "   'lastname': 'Baidawi'},\n",
       "  {'web_url': 'web_url',\n",
       "   'section_name': 'section_name',\n",
       "   'pub_date': 'pub_date',\n",
       "   'main_headline': 'Why the Cardinal Pell Case Has Been So Secretive',\n",
       "   'firstname': 'Adam',\n",
       "   'middlename': '',\n",
       "   'lastname': 'Baidawi'}],\n",
       " [{'web_url': 'web_url',\n",
       "   'section_name': 'section_name',\n",
       "   'pub_date': 'pub_date',\n",
       "   'main_headline': 'The Questions Mueller Wants to Ask Trump About Obstruction, and What They Mean',\n",
       "   'firstname': 'Michael',\n",
       "   'middlename': 'S.',\n",
       "   'lastname': 'Schmidt'},\n",
       "  {'web_url': 'web_url',\n",
       "   'section_name': 'section_name',\n",
       "   'pub_date': 'pub_date',\n",
       "   'main_headline': 'The Questions Mueller Wants to Ask Trump About Obstruction, and What They Mean',\n",
       "   'firstname': 'Michael',\n",
       "   'middlename': 'S.',\n",
       "   'lastname': 'Schmidt'}],\n",
       " [{'web_url': 'web_url',\n",
       "   'section_name': 'section_name',\n",
       "   'pub_date': 'pub_date',\n",
       "   'main_headline': 'Mueller Has Dozens of Inquiries for Trump in Broad Quest on Russia Ties and Obstruction',\n",
       "   'firstname': 'Michael',\n",
       "   'middlename': 'S.',\n",
       "   'lastname': 'Schmidt'}]]"
      ]
     },
     "execution_count": 167,
     "metadata": {},
     "output_type": "execute_result"
    }
   ],
   "source": [
    "recordss"
   ]
  },
  {
   "cell_type": "code",
   "execution_count": 168,
   "id": "d6ed3cab-6216-4efc-a613-c8a362dd8ed9",
   "metadata": {},
   "outputs": [
    {
     "data": {
      "text/html": [
       "<div>\n",
       "<style scoped>\n",
       "    .dataframe tbody tr th:only-of-type {\n",
       "        vertical-align: middle;\n",
       "    }\n",
       "\n",
       "    .dataframe tbody tr th {\n",
       "        vertical-align: top;\n",
       "    }\n",
       "\n",
       "    .dataframe thead th {\n",
       "        text-align: right;\n",
       "    }\n",
       "</style>\n",
       "<table border=\"1\" class=\"dataframe\">\n",
       "  <thead>\n",
       "    <tr style=\"text-align: right;\">\n",
       "      <th></th>\n",
       "      <th>0</th>\n",
       "      <th>1</th>\n",
       "    </tr>\n",
       "  </thead>\n",
       "  <tbody>\n",
       "    <tr>\n",
       "      <th>0</th>\n",
       "      <td>{'web_url': 'web_url', 'section_name': 'sectio...</td>\n",
       "      <td>None</td>\n",
       "    </tr>\n",
       "    <tr>\n",
       "      <th>1</th>\n",
       "      <td>{'web_url': 'web_url', 'section_name': 'sectio...</td>\n",
       "      <td>{'web_url': 'web_url', 'section_name': 'sectio...</td>\n",
       "    </tr>\n",
       "    <tr>\n",
       "      <th>2</th>\n",
       "      <td>{'web_url': 'web_url', 'section_name': 'sectio...</td>\n",
       "      <td>None</td>\n",
       "    </tr>\n",
       "    <tr>\n",
       "      <th>3</th>\n",
       "      <td>{'web_url': 'web_url', 'section_name': 'sectio...</td>\n",
       "      <td>{'web_url': 'web_url', 'section_name': 'sectio...</td>\n",
       "    </tr>\n",
       "    <tr>\n",
       "      <th>4</th>\n",
       "      <td>{'web_url': 'web_url', 'section_name': 'sectio...</td>\n",
       "      <td>None</td>\n",
       "    </tr>\n",
       "    <tr>\n",
       "      <th>5</th>\n",
       "      <td>{'web_url': 'web_url', 'section_name': 'sectio...</td>\n",
       "      <td>None</td>\n",
       "    </tr>\n",
       "    <tr>\n",
       "      <th>6</th>\n",
       "      <td>{'web_url': 'web_url', 'section_name': 'sectio...</td>\n",
       "      <td>None</td>\n",
       "    </tr>\n",
       "    <tr>\n",
       "      <th>7</th>\n",
       "      <td>{'web_url': 'web_url', 'section_name': 'sectio...</td>\n",
       "      <td>{'web_url': 'web_url', 'section_name': 'sectio...</td>\n",
       "    </tr>\n",
       "    <tr>\n",
       "      <th>8</th>\n",
       "      <td>{'web_url': 'web_url', 'section_name': 'sectio...</td>\n",
       "      <td>{'web_url': 'web_url', 'section_name': 'sectio...</td>\n",
       "    </tr>\n",
       "    <tr>\n",
       "      <th>9</th>\n",
       "      <td>{'web_url': 'web_url', 'section_name': 'sectio...</td>\n",
       "      <td>None</td>\n",
       "    </tr>\n",
       "  </tbody>\n",
       "</table>\n",
       "</div>"
      ],
      "text/plain": [
       "                                                   0  \\\n",
       "0  {'web_url': 'web_url', 'section_name': 'sectio...   \n",
       "1  {'web_url': 'web_url', 'section_name': 'sectio...   \n",
       "2  {'web_url': 'web_url', 'section_name': 'sectio...   \n",
       "3  {'web_url': 'web_url', 'section_name': 'sectio...   \n",
       "4  {'web_url': 'web_url', 'section_name': 'sectio...   \n",
       "5  {'web_url': 'web_url', 'section_name': 'sectio...   \n",
       "6  {'web_url': 'web_url', 'section_name': 'sectio...   \n",
       "7  {'web_url': 'web_url', 'section_name': 'sectio...   \n",
       "8  {'web_url': 'web_url', 'section_name': 'sectio...   \n",
       "9  {'web_url': 'web_url', 'section_name': 'sectio...   \n",
       "\n",
       "                                                   1  \n",
       "0                                               None  \n",
       "1  {'web_url': 'web_url', 'section_name': 'sectio...  \n",
       "2                                               None  \n",
       "3  {'web_url': 'web_url', 'section_name': 'sectio...  \n",
       "4                                               None  \n",
       "5                                               None  \n",
       "6                                               None  \n",
       "7  {'web_url': 'web_url', 'section_name': 'sectio...  \n",
       "8  {'web_url': 'web_url', 'section_name': 'sectio...  \n",
       "9                                               None  "
      ]
     },
     "execution_count": 168,
     "metadata": {},
     "output_type": "execute_result"
    }
   ],
   "source": [
    "pd.DataFrame(recordss)"
   ]
  },
  {
   "cell_type": "code",
   "execution_count": 182,
   "id": "5ef5d227-8680-4367-b885-24b1010748b5",
   "metadata": {},
   "outputs": [],
   "source": [
    "a = []\n",
    "b = [{'name': 'lxt', 'sex': 'male'}]"
   ]
  },
  {
   "cell_type": "code",
   "execution_count": 183,
   "id": "5990780f-c9cc-443e-a621-18176687ac48",
   "metadata": {},
   "outputs": [],
   "source": [
    "a.append(b)"
   ]
  },
  {
   "cell_type": "code",
   "execution_count": 184,
   "id": "7811d0fa-0138-455d-859e-486ad80db7c8",
   "metadata": {},
   "outputs": [
    {
     "data": {
      "text/plain": [
       "[[{'name': 'lxt', 'sex': 'male'}]]"
      ]
     },
     "execution_count": 184,
     "metadata": {},
     "output_type": "execute_result"
    }
   ],
   "source": [
    "a"
   ]
  },
  {
   "cell_type": "code",
   "execution_count": 195,
   "id": "50175450-95a0-4d1f-8194-59cbda8de7de",
   "metadata": {},
   "outputs": [],
   "source": [
    "a = []"
   ]
  },
  {
   "cell_type": "code",
   "execution_count": 196,
   "id": "993a1b5c-5e6f-4709-921b-143924b1ce55",
   "metadata": {},
   "outputs": [],
   "source": [
    "a.extend(b)"
   ]
  },
  {
   "cell_type": "code",
   "execution_count": 197,
   "id": "3217d3e7-98f3-48ef-b827-594be94ff35b",
   "metadata": {},
   "outputs": [
    {
     "data": {
      "text/plain": [
       "[{'name': 'lxt', 'sex': 'male'}]"
      ]
     },
     "execution_count": 197,
     "metadata": {},
     "output_type": "execute_result"
    }
   ],
   "source": [
    "a"
   ]
  },
  {
   "cell_type": "code",
   "execution_count": 198,
   "id": "55556c18-cfee-4f0f-b47b-5824f7cd4be5",
   "metadata": {},
   "outputs": [
    {
     "data": {
      "text/html": [
       "<div>\n",
       "<style scoped>\n",
       "    .dataframe tbody tr th:only-of-type {\n",
       "        vertical-align: middle;\n",
       "    }\n",
       "\n",
       "    .dataframe tbody tr th {\n",
       "        vertical-align: top;\n",
       "    }\n",
       "\n",
       "    .dataframe thead th {\n",
       "        text-align: right;\n",
       "    }\n",
       "</style>\n",
       "<table border=\"1\" class=\"dataframe\">\n",
       "  <thead>\n",
       "    <tr style=\"text-align: right;\">\n",
       "      <th></th>\n",
       "      <th>name</th>\n",
       "      <th>sex</th>\n",
       "    </tr>\n",
       "  </thead>\n",
       "  <tbody>\n",
       "    <tr>\n",
       "      <th>0</th>\n",
       "      <td>lxt</td>\n",
       "      <td>male</td>\n",
       "    </tr>\n",
       "  </tbody>\n",
       "</table>\n",
       "</div>"
      ],
      "text/plain": [
       "  name   sex\n",
       "0  lxt  male"
      ]
     },
     "execution_count": 198,
     "metadata": {},
     "output_type": "execute_result"
    }
   ],
   "source": [
    "pd.DataFrame(a)"
   ]
  },
  {
   "cell_type": "code",
   "execution_count": 199,
   "id": "0a82b920-9ef9-45c0-b8be-4d0d7970aa77",
   "metadata": {},
   "outputs": [
    {
     "data": {
      "text/html": [
       "<div>\n",
       "<style scoped>\n",
       "    .dataframe tbody tr th:only-of-type {\n",
       "        vertical-align: middle;\n",
       "    }\n",
       "\n",
       "    .dataframe tbody tr th {\n",
       "        vertical-align: top;\n",
       "    }\n",
       "\n",
       "    .dataframe thead th {\n",
       "        text-align: right;\n",
       "    }\n",
       "</style>\n",
       "<table border=\"1\" class=\"dataframe\">\n",
       "  <thead>\n",
       "    <tr style=\"text-align: right;\">\n",
       "      <th></th>\n",
       "      <th>name</th>\n",
       "      <th>sex</th>\n",
       "    </tr>\n",
       "  </thead>\n",
       "  <tbody>\n",
       "    <tr>\n",
       "      <th>0</th>\n",
       "      <td>lxt</td>\n",
       "      <td>male</td>\n",
       "    </tr>\n",
       "  </tbody>\n",
       "</table>\n",
       "</div>"
      ],
      "text/plain": [
       "  name   sex\n",
       "0  lxt  male"
      ]
     },
     "execution_count": 199,
     "metadata": {},
     "output_type": "execute_result"
    }
   ],
   "source": [
    "pd.DataFrame(b)"
   ]
  },
  {
   "cell_type": "code",
   "execution_count": null,
   "id": "1b33f050-e41f-4f14-98d6-fae54fca3778",
   "metadata": {},
   "outputs": [],
   "source": []
  }
 ],
 "metadata": {
  "kernelspec": {
   "display_name": "Python 3 (ipykernel)",
   "language": "python",
   "name": "python3"
  },
  "language_info": {
   "codemirror_mode": {
    "name": "ipython",
    "version": 3
   },
   "file_extension": ".py",
   "mimetype": "text/x-python",
   "name": "python",
   "nbconvert_exporter": "python",
   "pygments_lexer": "ipython3",
   "version": "3.11.1"
  }
 },
 "nbformat": 4,
 "nbformat_minor": 5
}
