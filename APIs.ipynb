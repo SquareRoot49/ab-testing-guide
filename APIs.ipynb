{
 "cells": [
  {
   "cell_type": "code",
   "execution_count": 1,
   "id": "f1864b7f-ca18-415e-b0f5-adc0cd6003c6",
   "metadata": {},
   "outputs": [],
   "source": [
    "import requests"
   ]
  },
  {
   "cell_type": "code",
   "execution_count": 2,
   "id": "2046665d-2bc1-4970-b628-3f7aaa4aec6f",
   "metadata": {},
   "outputs": [],
   "source": [
    "URL = 'https://newsapi.org/v2/top-headlines?'\n",
    "params = {'country' : 'us', 'apiKey' : 'e9028540f058422ba13cf1fa7e80d4b6'}\n",
    "response = requests.get(url = URL, params = params)"
   ]
  },
  {
   "cell_type": "code",
   "execution_count": 3,
   "id": "b9836246-2e56-42b9-b91d-de1b7cfba1ac",
   "metadata": {},
   "outputs": [
    {
     "data": {
      "text/plain": [
       "<Response [200]>"
      ]
     },
     "execution_count": 3,
     "metadata": {},
     "output_type": "execute_result"
    }
   ],
   "source": [
    "response"
   ]
  },
  {
   "cell_type": "code",
   "execution_count": 5,
   "id": "6a29a459-3af3-4eca-ac10-0c545d554ff1",
   "metadata": {},
   "outputs": [
    {
     "data": {
      "text/plain": [
       "'https://newsapi.org/v2/top-headlines?country=us&apiKey=e9028540f058422ba13cf1fa7e80d4b6'"
      ]
     },
     "execution_count": 5,
     "metadata": {},
     "output_type": "execute_result"
    }
   ],
   "source": [
    "response.url"
   ]
  },
  {
   "cell_type": "code",
   "execution_count": 6,
   "id": "b9fde036-31a8-4366-928e-e28e93835fef",
   "metadata": {},
   "outputs": [
    {
     "data": {
      "text/plain": [
       "200"
      ]
     },
     "execution_count": 6,
     "metadata": {},
     "output_type": "execute_result"
    }
   ],
   "source": [
    "response.status_code"
   ]
  },
  {
   "cell_type": "code",
   "execution_count": 7,
   "id": "646d4594-ff64-44bf-9723-010ffef24a55",
   "metadata": {},
   "outputs": [],
   "source": [
    "newsapi_data = response.json()"
   ]
  },
  {
   "cell_type": "code",
   "execution_count": 8,
   "id": "855b1735-4768-46d9-bef8-c2ce39fb4af5",
   "metadata": {},
   "outputs": [
    {
     "data": {
      "text/plain": [
       "{'status': 'ok',\n",
       " 'totalResults': 37,\n",
       " 'articles': [{'source': {'id': 'the-washington-post',\n",
       "    'name': 'The Washington Post'},\n",
       "   'author': 'Erin Blakemore',\n",
       "   'title': 'Most ERs aren’t fully prepared to handle children’s emergencies - The Washington Post',\n",
       "   'description': 'Increasing pediatric readiness would reduce mortality, increase life expectancy and improve young patients’ lives, the researchers write.',\n",
       "   'url': 'https://www.washingtonpost.com/wellness/2024/10/13/pediatric-emergency-room-treatment/',\n",
       "   'urlToImage': 'https://www.washingtonpost.com/wp-apps/imrs.php?src=https://arc-anglerfish-washpost-prod-washpost.s3.amazonaws.com/public/ZXJMJKGGSII6ZDH7GOYFT5GBW4.jpg&w=1440',\n",
       "   'publishedAt': '2024-10-13T14:24:02Z',\n",
       "   'content': 'Some 80 percent of U.S. emergency rooms are not fully prepared to handle childrens emergencies, a recent analysis suggests.\\r\\nWriting in Health Affairs, a national group of researchers says the qualit… [+1817 chars]'},\n",
       "  {'source': {'id': 'abc-news', 'name': 'ABC News'},\n",
       "   'author': 'MARCIA DUNN AP aerospace writer',\n",
       "   'title': 'In an engineering feat, mechanical SpaceX arms catch Starship rocket booster back at the launch pad - ABC News',\n",
       "   'description': 'SpaceX has launched its enormous Starship rocket on its boldest test flight yet, catching it with mechanical arms back at the pad',\n",
       "   'url': 'https://abcnews.go.com/US/wireStory/spacex-launches-mega-starship-rocket-time-mechanical-arms-114758080',\n",
       "   'urlToImage': 'https://i.abcnewsfe.com/a/f9e3b6bd-3c80-4f87-ab2c-5665bf6979bb/wirestory_7af865e987bb4a2aad38759e06013626_16x9.jpg?w=1600',\n",
       "   'publishedAt': '2024-10-13T13:41:15Z',\n",
       "   'content': 'SpaceX pulled off its boldest test flight yet of the enormous Starship rocket on Sunday, catching the returning booster back at the launch pad with mechanical arms.\\r\\nTowering almost 400 feet (121 met… [+3048 chars]'},\n",
       "  {'source': {'id': None, 'name': 'Courier Journal'},\n",
       "   'author': 'Chris Sims, Jim Sergent, Prince James Story',\n",
       "   'title': 'What channel is Bears vs Jaguars football game on today from Tottenham Stadium in London? - Courier Journal',\n",
       "   'description': '2024 NFL Week 6 schedule begins Sunday with Jacksonville Jaguars vs Chicago Bears from Tottenham Hotspur Stadium in London, England. How to watch, stream.',\n",
       "   'url': 'https://www.courier-journal.com/story/sports/nfl/2024/10/13/when-nfl-game-today-2024-watch-bears-jaguars-nfl-network-football-game-oct-13-london-week-6-schedule/75625721007/',\n",
       "   'urlToImage': 'https://www.courier-journal.com/gcdn/authoring/authoring-images/2024/10/09/NJOS/75587088007-usatsi-24412016.jpg?crop=8000,4501,x0,y416&width=3200&height=1801&format=pjpg&auto=webp',\n",
       "   'publishedAt': '2024-10-13T13:29:56Z',\n",
       "   'content': \"The 2024 NFL season continues with another Sunday morning game when the Chicago Bears and the Jacksonville Jaguars travel to Totrenham Hotspur Stadium in London during the Week 6 schedule.\\r\\nHere's wh… [+3259 chars]\"},\n",
       "  {'source': {'id': 'cbs-news', 'name': 'CBS News'},\n",
       "   'author': None,\n",
       "   'title': 'Netanyahu calls on U.N. peacekeepers to immediately withdraw from Lebanon as fighting intensifies - CBS News',\n",
       "   'description': 'Prime Minister Benjamin Netanyahu accused them of \"providing a human shield\" to Hezbollah after Israeli strikes wounded five peacekeepers in recent days.',\n",
       "   'url': 'https://www.cbsnews.com/news/netanyahu-israel-un-peacekeepers-lebanon-hezbollah/',\n",
       "   'urlToImage': 'https://assets3.cbsnewsstatic.com/hub/i/r/2024/10/13/badfaa07-a87e-4138-b46f-b35f3edf9ef5/thumbnail/1200x630/4ee3661ad35335f12a3a7fc55dfb9384/gettyimages-2176003425.jpg?v=29b5ccc4d237d9b284ce95a42effd073',\n",
       "   'publishedAt': '2024-10-13T13:17:58Z',\n",
       "   'content': \"Prime Minister Benjamin Netanyahu called on United Nations peacekeepers to heed the Israeli military's warnings to evacuate Lebanon immediately as the fighting intensifies amid Israel's ground operat… [+3236 chars]\"},\n",
       "  {'source': {'id': 'nbc-news', 'name': 'NBC News'},\n",
       "   'author': 'Mark Murray',\n",
       "   'title': \"'Dead heat': Trump pulls even with Harris in NBC News poll - NBC News\",\n",
       "   'description': 'Donald Trump and Kamala Harris are deadlocked in the latest national NBC News poll, with Trump bolstered by Republicans coming back home to support him after last month’s rough debate and a subsequent polling deficit, as well as by a favorable voter assessmen…',\n",
       "   'url': 'https://www.nbcnews.com/politics/2024-election/dead-heat-trump-pulls-even-harris-nbc-news-poll-rcna174201',\n",
       "   'urlToImage': 'https://media-cldnry.s-nbcnews.com/image/upload/t_nbcnews-fp-1200-630,f_auto,q_auto:best/rockcms/2024-10/241011-election-poll-3x2-4c78ec.jpg',\n",
       "   'publishedAt': '2024-10-13T13:00:41Z',\n",
       "   'content': 'Former President Donald Trump and Vice President Kamala Harris are deadlocked in the latest national NBC News poll, with Trump bolstered by Republicans coming back home to support him after last mont… [+9372 chars]'},\n",
       "  {'source': {'id': None,\n",
       "    'name': 'The Daily Galaxy --Great Discoveries Channel'},\n",
       "   'author': None,\n",
       "   'title': 'This animal measures only a few centimeters: here is the smallest mammal on the planet? - The Daily Galaxy --Great Discoveries Channel',\n",
       "   'description': \"In the vast realm of the animal kingdom, some creatures stand out not for their grandeur, but for their minuscule size. Among these tiny marvels, one mammal reigns supreme as the smallest of them all. Let's embark on a fascinating journey to discover the worl…\",\n",
       "   'url': 'https://dailygalaxy.com/2024/10/this-animal-measures-only-a-few-centimeters-here-is-the-smallest-mammal-on-the-planet/',\n",
       "   'urlToImage': 'https://dailygalaxy.com/wp-content/uploads/2024/10/this-animal-measures-only-a-few-centimeters-here-is-the-smallest-mammal-on-the-planet.jpg',\n",
       "   'publishedAt': '2024-10-13T12:54:00Z',\n",
       "   'content': 'The fascinating world of miniature mammals\\r\\nMammals, characterized by their ability to nurse their young and regulate body temperature, have evolved into a diverse array of species over millions of y… [+4927 chars]'},\n",
       "  {'source': {'id': 'usa-today', 'name': 'USA Today'},\n",
       "   'author': 'Matt Erickson, The Blue Corner',\n",
       "   'title': \"'Saturday Night Live' brilliantly spoofs UFC promos with Ariana Grande as Celine Dion - MMA Junkie\",\n",
       "   'description': 'During the continuation of its historic 50th season, NBC sketch comedy show “Saturday Night Live” took aim at the UFC.',\n",
       "   'url': 'https://mmajunkie.usatoday.com/2024/10/saturday-night-live-commercial-spoof-video-ufc-308-ariana-grande-celine-dion-impression',\n",
       "   'urlToImage': 'https://mmajunkie.usatoday.com/wp-content/uploads/sites/91/2024/10/Ariana-Grande-as-Celine-Dion-Saturday-Night-Live-UFC-commercial-spoof-video-TBC.jpg?w=640&h=420&crop=1',\n",
       "   'publishedAt': '2024-10-13T12:50:00Z',\n",
       "   'content': 'During the continuation of its historic 50th season Saturday, NBC sketch comedy show “Saturday Night Live” took aim at the UFC.\\r\\nHarnessing the absurd vocal talent of guest host Ariana Grande, a mast… [+1439 chars]'},\n",
       "  {'source': {'id': None, 'name': 'Wccftech'},\n",
       "   'author': 'Muhammad Zuhair',\n",
       "   'title': 'Intel Core Ultra 200S “LGA 1851” CPUs Won’t Be Compatible With Existing LGA 1700 Contact Frames Due To A Different IHS - Wccftech',\n",
       "   'description': \"Intel Core Ultra 200S LGA 1851 CPUs won't be compatible with contact frames designed for the LGA 1700 platform due to structural changes.\",\n",
       "   'url': 'https://wccftech.com/intel-core-ultra-200s-lga-1851-cpus-contact-frame-cooler-compatbility-lga-1700/',\n",
       "   'urlToImage': 'https://cdn.wccftech.com/wp-content/uploads/2024/07/Intel-LGA-1851-Socket-Custom.jpg',\n",
       "   'publishedAt': '2024-10-13T12:30:00Z',\n",
       "   'content': 'Intel\\'s Core Ultra 200S \"LGA 1851\" CPUs won\\'t be compatible with the contact frames designed for the LGA 1700 platform due to structural changes.\\r\\nThere has been quite a buzz around Intel\\'s next-gen … [+3901 chars]'},\n",
       "  {'source': {'id': 'associated-press', 'name': 'Associated Press'},\n",
       "   'author': 'AAMER MADHANI, JOSH BOAK',\n",
       "   'title': 'Biden will view Hurricane Milton damage in Florida. Harris plans to go to church in North Carolina - The Associated Press',\n",
       "   'description': \"President Joe Biden will survey the devastation inflicted on Florida’s Gulf Coast by Hurricane Milton. The president's visit Sunday comes as he urges Congress to approve additional emergency disaster money after back-to-back hurricanes lashed the Southeast. V…\",\n",
       "   'url': 'https://apnews.com/article/harris-biden-hurricane-milton-election-84526011bf223902a04f41f59b7651b5',\n",
       "   'urlToImage': 'https://dims.apnews.com/dims4/default/fcd86f4/2147483647/strip/true/crop/5160x2903+0+269/resize/1440x810!/quality/90/?url=https%3A%2F%2Fassets.apnews.com%2F6c%2F58%2Fe3c9d98127a215d8aa8cade2a87f%2F5307ace39b0343f4a2604c3cdfff325a',\n",
       "   'publishedAt': '2024-10-13T12:22:00Z',\n",
       "   'content': 'WASHINGTON (AP) President Joe Biden on Sunday will survey the devastation inflicted on Floridas Gulf Coast by Hurricane Milton as he urges Congress to approve additional emergency disaster funding. V… [+5198 chars]'},\n",
       "  {'source': {'id': 'cbs-news', 'name': 'CBS News'},\n",
       "   'author': 'Neal Riley',\n",
       "   'title': \"Rare comet may be visible to the naked eye. Here's where to look. - CBS Boston\",\n",
       "   'description': 'Comet Tsuchinshan-ATLAS has an 80,000 year orbit and, it just so happens, that it is now approaching its closest pass to Earth.',\n",
       "   'url': 'https://www.cbsnews.com/boston/news/comet-visible-tonight-how-to-watch/',\n",
       "   'urlToImage': 'https://assets2.cbsnewsstatic.com/hub/i/r/2024/10/10/3b742f4d-a473-472d-a795-9e09d29ec116/thumbnail/1200x630/02588aa78940a0de23d3c4afbe0981ad/comet-getty.jpg?v=29b5ccc4d237d9b284ce95a42effd073',\n",
       "   'publishedAt': '2024-10-13T12:12:39Z',\n",
       "   'content': \"BOSTON - It isn't often that we get the chance to see a comet with the naked eye. But, in a year already filled with so many astronomical treats, it looks like we will be able to add a comet to the l… [+2882 chars]\"},\n",
       "  {'source': {'id': None, 'name': 'WCVB Boston'},\n",
       "   'author': None,\n",
       "   'title': 'Dense breasts can make it harder to spot cancer on a mammogram - WCVB Boston',\n",
       "   'description': 'A new U.S. rule requires mammography centers to inform women about their breast density.',\n",
       "   'url': 'https://www.wcvb.com/article/dense-breasts-can-make-it-harder-to-see-cancer-on-mammogram/62589214',\n",
       "   'urlToImage': 'https://kubrick.htvapps.com/htv-prod-media.s3.amazonaws.com/images/gettyimages-1463823095-670bb6856f188.jpg?crop=1.00xw:0.847xh;0,0.0576xh&resize=1200:*',\n",
       "   'publishedAt': '2024-10-13T12:05:00Z',\n",
       "   'content': \"When a woman has a mammogram, the most important finding is whether there's any sign of breast cancer.\\r\\nThe second most important finding is whether her breasts are dense.\\r\\nSince early September, a n… [+3634 chars]\"},\n",
       "  {'source': {'id': None, 'name': 'NPR'},\n",
       "   'author': '',\n",
       "   'title': 'Inside the TikTok documents: Stripping teens and boosting ‘attractive’ people - NPR',\n",
       "   'description': 'A trove of secret documents show teens’ increasingly reliant on TikTok and how executives were acutely aware of the potential harm the app can cause young people, but appeared unconcerned.',\n",
       "   'url': 'https://www.npr.org/2024/10/12/g-s1-28040/teens-tiktok-addiction-lawsuit-investigation-documents',\n",
       "   'urlToImage': 'https://npr.brightspotcdn.com/dims3/default/strip/false/crop/3000x1688+0+154/resize/1400/quality/100/format/jpeg/?url=http%3A%2F%2Fnpr-brightspot.s3.amazonaws.com%2F27%2Fd3%2Fbd76bee34a81969908fc96c640cd%2Fap24072005958862.jpg',\n",
       "   'publishedAt': '2024-10-13T12:00:00Z',\n",
       "   'content': 'Kids as young as 15 were stripping on TikToks live feature fueled by adults who were paying for it.\\r\\nThats what TikTok learned when it launched an internal investigation after a report\\r\\n on Forbes. O… [+4723 chars]'},\n",
       "  {'source': {'id': 'al-jazeera-english', 'name': 'Al Jazeera English'},\n",
       "   'author': 'Al Jazeera',\n",
       "   'title': 'Palestine’s UN envoy says ‘genocide within genocide’ going on in north Gaza - Al Jazeera English',\n",
       "   'description': 'Hamas representative in Lebanon says Israel has prevented entry of food supplies into Jabalia camp for the last 10 days.',\n",
       "   'url': 'https://www.aljazeera.com/news/2024/10/13/palestines-un-envoy-says-genocide-within-genocide-going-on-in-north-gaza',\n",
       "   'urlToImage': 'https://www.aljazeera.com/wp-content/uploads/2024/10/AFP__20241013__36JX77T__v1__HighRes__PalestinianIsraelConflict-1728813171.jpg?resize=1920%2C1440',\n",
       "   'publishedAt': '2024-10-13T11:54:50Z',\n",
       "   'content': 'A senior Palestinian diplomat to the United Nations has sounded alarm over Israels ongoing siege of northern Gaza, in which hundreds of Palestinians have been killed over the last week and hundreds o… [+3427 chars]'},\n",
       "  {'source': {'id': None, 'name': 'Yahoo Entertainment'},\n",
       "   'author': 'Josh Schafer',\n",
       "   'title': \"Retail sales, big banks' results, and Netflix earnings: What to know this week - Yahoo Finance\",\n",
       "   'description': \"A slew of corporate earnings headline the week ahead as investors continue to debate the Federal Reserve's next move.\",\n",
       "   'url': 'https://finance.yahoo.com/news/retail-sales-big-banks-results-and-netflix-earnings-what-to-know-this-week-114506799.html',\n",
       "   'urlToImage': 'https://s.yimg.com/cv/apiv2/social/images/yahoo_default_logo.png',\n",
       "   'publishedAt': '2024-10-13T11:45:06Z',\n",
       "   'content': 'Stocks closed another week at record highs as investors began to digest quarterly earnings releases and debate intensified over what the Federal Reserve will do at its November meeting.For the week, … [+6782 chars]'},\n",
       "  {'source': {'id': None, 'name': 'Forbes'},\n",
       "   'author': 'Davey Winder',\n",
       "   'title': 'New Gmail Security Alert For 2.5 Billion Users As AI Hack Confirmed - Forbes',\n",
       "   'description': 'Protecting your Gmail account is critical as this dangerous new AI-driven attack sets out to test even the most careful users. Here’s what you need to do to stay safe.',\n",
       "   'url': 'https://www.forbes.com/sites/daveywinder/2024/10/13/new-gmail-security-alert-for-billions-as-7-day-ai-hack-confirmed/',\n",
       "   'urlToImage': 'https://imageio.forbes.com/specials-images/imageserve/6708d84f24ab7e6166bd9fa8/0x0.jpg?format=jpg&height=900&width=1600&fit=bounds',\n",
       "   'publishedAt': '2024-10-13T11:35:19Z',\n",
       "   'content': 'A new and dangerous AI threat for all Gmail users is seen in the wild\\r\\nSOPA Images/LightRocket via Getty Images\\r\\nUpdate, Oct. 13, 2024: This story, originally published Oct. 11, includes details of a… [+13007 chars]'},\n",
       "  {'source': {'id': 'politico', 'name': 'Politico'},\n",
       "   'author': 'Adam Wren',\n",
       "   'title': 'Gary Peters is tasked with defending a brutal Senate map for Dems. Then he wants to ‘work and ride motorcycles.’ - POLITICO',\n",
       "   'description': '“You can picture him cheering you on outside of your T-ball game.”',\n",
       "   'url': 'https://www.politico.com/news/2024/10/13/gary-peters-senate-map-00183541',\n",
       "   'urlToImage': 'https://static.politico.com/e7/ec/b706d530437f91e6aae3d0d538be/u-s-congress-78065.jpg',\n",
       "   'publishedAt': '2024-10-13T11:00:00Z',\n",
       "   'content': 'Can this mild-mannered Michigander who spends more time riding his motorcycle and working on wonky Senate bills than in cable news green rooms survive in this age of slash and burn politics in the Tr… [+6308 chars]'},\n",
       "  {'source': {'id': 'bleacher-report', 'name': 'Bleacher Report'},\n",
       "   'author': 'Taylyn Hadley',\n",
       "   'title': 'NFL Rumors: Tom Brady Expected to Be Approved as Raiders Minority Owner After Vote - Bleacher Report',\n",
       "   'description': \"Seven-time Super Bowl champion Tom Brady is set to gain approval as a minority owner of the Las Vegas Raiders at the upcoming NFL fall owners' meeting in…\",\n",
       "   'url': 'https://bleacherreport.com/articles/10139164-nfl-rumors-tom-brady-expected-to-be-approved-as-raiders-minority-owner-after-vote',\n",
       "   'urlToImage': 'https://media.bleacherreport.com/image/upload/c_fill,g_faces,w_3800,h_2000,q_95/v1728783065/ylknialvvmlipzhsbdka.jpg',\n",
       "   'publishedAt': '2024-10-13T10:56:33Z',\n",
       "   'content': \"Michael Owens/Getty Images\\r\\nSeven-time Super Bowl champion Tom Brady is set to gain approval as a minority owner of the Las Vegas Raiders at the upcoming NFL fall owners' meeting in Atlanta on Tuesda… [+2159 chars]\"},\n",
       "  {'source': {'id': 'ign', 'name': 'IGN'},\n",
       "   'author': 'Wesley Yin-Poole',\n",
       "   'title': 'Pokémon Developer Game Freak Reportedly Hacked, Stolen Data on Unannounced Games as Well as Nintendo Switch 2 Codename Leaked Online - IGN',\n",
       "   'description': 'Pokémon developer Game Freak has reportedly suffered a significant hack resulting in the leak of stolen data that includes codenames for 10th generation Pokémon games and even the Nintendo Switch 2.',\n",
       "   'url': 'https://www.ign.com/articles/pokmon-developer-game-freak-reportedly-hacked-stolen-data-on-unannounced-games-as-well-as-nintendo-switch-2-codename-leaked-online',\n",
       "   'urlToImage': 'https://assets-prd.ignimgs.com/2024/10/13/poke-mian-1728813254592.jpg?width=1280',\n",
       "   'publishedAt': '2024-10-13T10:00:15Z',\n",
       "   'content': 'UPDATE:Game Freak has issued a statement confirming the company suffered a data breach in August 2024.\\r\\nThe company said its server was illegally accessed, with 2,606 cases of current, former, and co… [+3702 chars]'},\n",
       "  {'source': {'id': 'nbc-news', 'name': 'NBC News'},\n",
       "   'author': 'Shannon Pettypiece, Jake Traylor',\n",
       "   'title': 'Young men’s economic prospects are shifting, along with their politics - NBC News',\n",
       "   'description': 'For David Tasker, an 18-year-old construction worker in Pennsylvania, his top financial priorities are having enough money for gas, dining out and spending on his girlfriend while living at home with his parents.',\n",
       "   'url': 'https://www.nbcnews.com/politics/2024-election/young-mens-economic-prospects-are-shifting-politics-rcna174384',\n",
       "   'urlToImage': 'https://media-cldnry.s-nbcnews.com/image/upload/t_nbcnews-fp-1200-630,f_auto,q_auto:best/rockcms/2024-10/241009-Rothschild-Wis-donald-trump-rally-2016-ac-1007p-c07668.jpg',\n",
       "   'publishedAt': '2024-10-13T10:00:00Z',\n",
       "   'content': 'For David Tasker, an 18-year-old construction worker in Pennsylvania, his top financial priorities are having enough money for gas, dining out and spending on his girlfriend while living at home with… [+10774 chars]'},\n",
       "  {'source': {'id': 'reuters', 'name': 'Reuters'},\n",
       "   'author': 'Reuters.com',\n",
       "   'title': \"China's deflationary pressures build in Sept, consumer inflation cools - Reuters.com\",\n",
       "   'description': None,\n",
       "   'url': 'https://www.reuters.com/markets/asia/chinas-consumer-inflation-cools-sept-ppi-deflation-deepens-2024-10-13/',\n",
       "   'urlToImage': None,\n",
       "   'publishedAt': '2024-10-13T09:29:23Z',\n",
       "   'content': None}]}"
      ]
     },
     "execution_count": 8,
     "metadata": {},
     "output_type": "execute_result"
    }
   ],
   "source": [
    "newsapi_data"
   ]
  },
  {
   "cell_type": "code",
   "execution_count": 10,
   "id": "aa6318b0-1387-4b0d-92bf-e3e2264091f0",
   "metadata": {},
   "outputs": [
    {
     "data": {
      "text/plain": [
       "dict"
      ]
     },
     "execution_count": 10,
     "metadata": {},
     "output_type": "execute_result"
    }
   ],
   "source": [
    "type(newsapi_data)"
   ]
  },
  {
   "cell_type": "code",
   "execution_count": 11,
   "id": "89ec25e0-7110-40f5-bbd9-6514efd6a7f2",
   "metadata": {},
   "outputs": [
    {
     "data": {
      "text/plain": [
       "dict_keys(['status', 'totalResults', 'articles'])"
      ]
     },
     "execution_count": 11,
     "metadata": {},
     "output_type": "execute_result"
    }
   ],
   "source": [
    "newsapi_data.keys()"
   ]
  },
  {
   "cell_type": "code",
   "execution_count": 12,
   "id": "24579b7e-6436-49ae-9439-a8d0d30978f3",
   "metadata": {},
   "outputs": [],
   "source": [
    "a = {'s' : 1, 'k' : 2, 'l': 3}"
   ]
  },
  {
   "cell_type": "code",
   "execution_count": 13,
   "id": "dd928fe5-d929-45a6-9a23-764c967ef687",
   "metadata": {},
   "outputs": [
    {
     "data": {
      "text/plain": [
       "dict_keys(['s', 'k', 'l'])"
      ]
     },
     "execution_count": 13,
     "metadata": {},
     "output_type": "execute_result"
    }
   ],
   "source": [
    "a.keys()"
   ]
  },
  {
   "cell_type": "code",
   "execution_count": null,
   "id": "c421e733-04c3-4eac-9f50-bcd250a2b050",
   "metadata": {},
   "outputs": [],
   "source": []
  }
 ],
 "metadata": {
  "kernelspec": {
   "display_name": "Python 3 (ipykernel)",
   "language": "python",
   "name": "python3"
  },
  "language_info": {
   "codemirror_mode": {
    "name": "ipython",
    "version": 3
   },
   "file_extension": ".py",
   "mimetype": "text/x-python",
   "name": "python",
   "nbconvert_exporter": "python",
   "pygments_lexer": "ipython3",
   "version": "3.11.1"
  }
 },
 "nbformat": 4,
 "nbformat_minor": 5
}
